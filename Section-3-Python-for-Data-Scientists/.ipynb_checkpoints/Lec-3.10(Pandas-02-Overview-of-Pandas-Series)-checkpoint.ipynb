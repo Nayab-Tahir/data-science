{
 "cells": [
  {
   "cell_type": "markdown",
   "id": "4a87b5ef",
   "metadata": {},
   "source": [
    "---   \n",
    " <img align=\"left\" width=\"75\" height=\"75\"  src=\"https://upload.wikimedia.org/wikipedia/en/c/c8/University_of_the_Punjab_logo.png\"> \n",
    "\n",
    "<h1 align=\"center\">Department of Data Science</h1>\n",
    "<h1 align=\"center\">Course: Tools and Techniques for Data Science</h1>\n",
    "\n",
    "---\n",
    "<h3><div align=\"right\">Instructor: Muhammad Arif Butt, Ph.D.</div></h3>    "
   ]
  },
  {
   "cell_type": "markdown",
   "id": "ab0dc25c",
   "metadata": {},
   "source": [
    "<h1 align=\"center\">Lecture 3.10 (Pandas-02)</h1>"
   ]
  },
  {
   "cell_type": "markdown",
   "id": "19f82705",
   "metadata": {},
   "source": [
    "<img align=\"right\" width=\"400\" height=\"400\"  src=\"images/pandas-apps.png\"  >\n",
    "\n",
    "## _Overview of Pandas Series Data Structure.ipynb_"
   ]
  },
  {
   "cell_type": "markdown",
   "id": "806db2fe",
   "metadata": {},
   "source": [
    "#### Read about Pandas Data: https://pandas.pydata.org/docs/user_guide"
   ]
  },
  {
   "cell_type": "code",
   "execution_count": null,
   "id": "052e8fe7",
   "metadata": {},
   "outputs": [],
   "source": []
  },
  {
   "cell_type": "code",
   "execution_count": null,
   "id": "eabee9dd",
   "metadata": {},
   "outputs": [],
   "source": []
  },
  {
   "cell_type": "code",
   "execution_count": null,
   "id": "fec3c10e",
   "metadata": {},
   "outputs": [],
   "source": []
  },
  {
   "cell_type": "code",
   "execution_count": null,
   "id": "1a0ac7a2",
   "metadata": {},
   "outputs": [],
   "source": []
  },
  {
   "cell_type": "code",
   "execution_count": null,
   "id": "d50f638e",
   "metadata": {},
   "outputs": [],
   "source": []
  },
  {
   "cell_type": "markdown",
   "id": "9727124d",
   "metadata": {},
   "source": [
    "## Learning agenda of this notebook\n",
    "\n",
    "1. Overview of Python Pandas library and its data structures\n",
    "2. Creating a Series\n",
    "    - From Python List\n",
    "    - From NumPy Arrays\n",
    "    - From Python Dictionary\n",
    "    - From a scalar value\n",
    "3. Attributes of a Pandas Series\n",
    "4. Understanding Index in a Series and its usage\n",
    "    - Identification\n",
    "    - Selection/Filtering/Subsetting\n",
    "    - Alignment"
   ]
  },
  {
   "cell_type": "code",
   "execution_count": 1,
   "id": "e251bdc6",
   "metadata": {},
   "outputs": [],
   "source": [
    "# To install this library in Jupyter notebook\n",
    "import sys\n",
    "!{sys.executable} -m pip install pandas --quiet"
   ]
  },
  {
   "cell_type": "code",
   "execution_count": 2,
   "id": "dba905d0",
   "metadata": {},
   "outputs": [
    {
     "data": {
      "text/plain": [
       "('1.3.4',\n",
       " ['/Library/Frameworks/Python.framework/Versions/3.8/lib/python3.8/site-packages/pandas'])"
      ]
     },
     "execution_count": 2,
     "metadata": {},
     "output_type": "execute_result"
    }
   ],
   "source": [
    "import pandas as pd\n",
    "pd.__version__ , pd.__path__"
   ]
  },
  {
   "cell_type": "code",
   "execution_count": null,
   "id": "a58abcb8",
   "metadata": {},
   "outputs": [],
   "source": []
  },
  {
   "cell_type": "code",
   "execution_count": null,
   "id": "ba6fb620",
   "metadata": {},
   "outputs": [],
   "source": []
  },
  {
   "cell_type": "code",
   "execution_count": null,
   "id": "178e4f71",
   "metadata": {},
   "outputs": [],
   "source": []
  },
  {
   "cell_type": "code",
   "execution_count": null,
   "id": "a8e6d0bb",
   "metadata": {},
   "outputs": [],
   "source": []
  },
  {
   "cell_type": "code",
   "execution_count": null,
   "id": "82b882b6",
   "metadata": {},
   "outputs": [],
   "source": []
  },
  {
   "cell_type": "markdown",
   "id": "99b11957",
   "metadata": {},
   "source": [
    "<img align=\"right\" width=\"500\" height=\"600\"  src=\"images/series-anatomy.png\"  >\n",
    "\n",
    "## 1. Creating a Series\n",
    "> **A Series is a one-dimensional array capable of holding a sequence of values of any data type (integers, floating point numbers, strings, Python objects etc) which by default have numeric data labels starting from zero. You can imagine a Pandas Series as a column in a spreadsheet or a Pandas Dataframe object.**\n",
    "- To create a Series object you can use `pd.Series()` method\n",
    "\n",
    "**```pd.Series(data, index, dtype, name)```**\n",
    "- Where,\n",
    "   - `data`: can be a Python list, Python dictionary, numPy array, or a scalar value.\n",
    "   - `index`: If you donot pass the index argument, it will default to `np.arrange(n)`. Indices must be hashable (numbers or strings) and have the same length as `data`. Non-unique index values are allowed. Index is used for three purposes:\n",
    "       - Identification.\n",
    "       - Selection.\n",
    "       - Alignment.\n",
    "   - `dtype`: Optionally, you can assign any valid numpy datatype to the series object. If not specified, this will be inferred from `data`.\n",
    "   - `name`: Optionally, you can assign a name to a series, which becomes attribute of the series object. Moreover, it becomes the column name, if that series object is used to create a dataframe later."
   ]
  },
  {
   "cell_type": "code",
   "execution_count": null,
   "id": "a3688139",
   "metadata": {},
   "outputs": [],
   "source": []
  },
  {
   "cell_type": "code",
   "execution_count": null,
   "id": "40c65248",
   "metadata": {},
   "outputs": [],
   "source": []
  },
  {
   "cell_type": "code",
   "execution_count": null,
   "id": "fa42bfb1",
   "metadata": {},
   "outputs": [],
   "source": []
  },
  {
   "cell_type": "code",
   "execution_count": null,
   "id": "f773614e",
   "metadata": {},
   "outputs": [],
   "source": []
  },
  {
   "cell_type": "code",
   "execution_count": null,
   "id": "05b1234a",
   "metadata": {},
   "outputs": [],
   "source": []
  },
  {
   "cell_type": "markdown",
   "id": "315fe124",
   "metadata": {},
   "source": [
    "### a. Creating a Series from Python List"
   ]
  },
  {
   "cell_type": "code",
   "execution_count": 3,
   "id": "3fe671e5",
   "metadata": {
    "scrolled": false
   },
   "outputs": [
    {
     "name": "stdout",
     "output_type": "stream",
     "text": [
      "0      Arif\n",
      "1      Rauf\n",
      "2      Maaz\n",
      "3          \n",
      "4    Hadeed\n",
      "dtype: object\n",
      "<class 'pandas.core.series.Series'>\n"
     ]
    }
   ],
   "source": [
    "import pandas as pd\n",
    "import numpy as np\n",
    "list1 = ['Arif', 'Rauf', 'Maaz', '','Hadeed']  # note the empty string\n",
    "\n",
    "# When index is not provided, it creates an index for the data starting from zero and with a step size of one.\n",
    "s = pd.Series(data=list1)\n",
    "print(s)\n",
    "print(type(s))"
   ]
  },
  {
   "cell_type": "markdown",
   "id": "c0e6abcf",
   "metadata": {},
   "source": [
    ">Observe that output is shown in two columns - the index is on the left and the data value is on the right. If we do not explicitly specify an index for the data values while creating a series, then by default indices range from 0 through N – 1. Here N is the number of data elements."
   ]
  },
  {
   "cell_type": "code",
   "execution_count": null,
   "id": "588498fe",
   "metadata": {},
   "outputs": [],
   "source": []
  },
  {
   "cell_type": "code",
   "execution_count": null,
   "id": "70728e05",
   "metadata": {},
   "outputs": [],
   "source": []
  },
  {
   "cell_type": "code",
   "execution_count": null,
   "id": "de36fa17",
   "metadata": {},
   "outputs": [],
   "source": []
  },
  {
   "cell_type": "code",
   "execution_count": null,
   "id": "f4bb226e",
   "metadata": {},
   "outputs": [],
   "source": []
  },
  {
   "cell_type": "markdown",
   "id": "ebb2f672",
   "metadata": {},
   "source": [
    "**You can explicitly specify the index for a Series object, which can be either int or string type, and must be of the same size as the values in the series. Otherwise, it will raise a ValueError**"
   ]
  },
  {
   "cell_type": "code",
   "execution_count": 4,
   "id": "f00c9d4d",
   "metadata": {},
   "outputs": [
    {
     "name": "stdout",
     "output_type": "stream",
     "text": [
      "MS01      Arif\n",
      "MS02      Rauf\n",
      "MS03      Maaz\n",
      "MS02    Hadeed\n",
      "dtype: object\n",
      "<class 'pandas.core.series.Series'>\n"
     ]
    }
   ],
   "source": [
    "list1 = ['Arif', 'Rauf', 'Maaz', 'Hadeed']\n",
    "indices = ['MS01', 'MS02', 'MS03', 'MS02']   # non-unique index values are allowed\n",
    "\n",
    "s = pd.Series(data=list1, index=indices)\n",
    "print(s)\n",
    "print(type(s))"
   ]
  },
  {
   "cell_type": "markdown",
   "id": "dce485cc",
   "metadata": {},
   "source": [
    ">Also note that non-unique indices are allowed"
   ]
  },
  {
   "cell_type": "code",
   "execution_count": null,
   "id": "7086feab",
   "metadata": {},
   "outputs": [],
   "source": []
  },
  {
   "cell_type": "code",
   "execution_count": null,
   "id": "488dfd07",
   "metadata": {},
   "outputs": [],
   "source": []
  },
  {
   "cell_type": "code",
   "execution_count": null,
   "id": "ab43f67b",
   "metadata": {},
   "outputs": [],
   "source": []
  },
  {
   "cell_type": "code",
   "execution_count": null,
   "id": "3ceb668d",
   "metadata": {},
   "outputs": [],
   "source": []
  },
  {
   "cell_type": "code",
   "execution_count": null,
   "id": "6ac54543",
   "metadata": {},
   "outputs": [],
   "source": []
  },
  {
   "cell_type": "markdown",
   "id": "d57856ac",
   "metadata": {},
   "source": [
    "**You can create a series with NaN values, using `np.nan`, which is IEEE 754 floating-point representation of Not a Number. NaN values can act as a placeholder for any missing numerical values in the array.**"
   ]
  },
  {
   "cell_type": "code",
   "execution_count": 5,
   "id": "e420a746",
   "metadata": {},
   "outputs": [
    {
     "name": "stdout",
     "output_type": "stream",
     "text": [
      "0     1.0\n",
      "1     2.7\n",
      "2     NaN\n",
      "3    54.0\n",
      "dtype: float64\n",
      "<class 'pandas.core.series.Series'>\n"
     ]
    }
   ],
   "source": [
    "list1 = [1, 2.7, np.nan, 54]\n",
    "s = pd.Series(data=list1)\n",
    "print(s)\n",
    "print(type(s))"
   ]
  },
  {
   "cell_type": "markdown",
   "id": "04a86a0f",
   "metadata": {},
   "source": [
    ">Also note the `dtype` of the series object is inferred from the data as `float64`"
   ]
  },
  {
   "cell_type": "code",
   "execution_count": null,
   "id": "b2e42217",
   "metadata": {},
   "outputs": [],
   "source": []
  },
  {
   "cell_type": "code",
   "execution_count": null,
   "id": "2424cb0b",
   "metadata": {},
   "outputs": [],
   "source": []
  },
  {
   "cell_type": "code",
   "execution_count": null,
   "id": "e2031713",
   "metadata": {},
   "outputs": [],
   "source": []
  },
  {
   "cell_type": "code",
   "execution_count": null,
   "id": "d6c4df55",
   "metadata": {},
   "outputs": [],
   "source": []
  },
  {
   "cell_type": "code",
   "execution_count": null,
   "id": "80126e40",
   "metadata": {},
   "outputs": [],
   "source": []
  },
  {
   "cell_type": "code",
   "execution_count": null,
   "id": "bcd35064",
   "metadata": {},
   "outputs": [],
   "source": []
  },
  {
   "cell_type": "code",
   "execution_count": null,
   "id": "80ff6a9c",
   "metadata": {},
   "outputs": [],
   "source": []
  },
  {
   "cell_type": "markdown",
   "id": "77c3bf63",
   "metadata": {},
   "source": [
    "**You can use the `dtype` argument to specify a datatype to the series object.**"
   ]
  },
  {
   "cell_type": "code",
   "execution_count": 6,
   "id": "ca5026c7",
   "metadata": {},
   "outputs": [
    {
     "name": "stdout",
     "output_type": "stream",
     "text": [
      "0    27\n",
      "1    33\n",
      "2    19\n",
      "dtype: uint8\n",
      "<class 'pandas.core.series.Series'>\n"
     ]
    }
   ],
   "source": [
    "list1 = [27, 33, 19]\n",
    "s = pd.Series(data=list1, dtype=np.uint8)\n",
    "print(s)\n",
    "print(type(s))"
   ]
  },
  {
   "cell_type": "code",
   "execution_count": null,
   "id": "9886a997",
   "metadata": {},
   "outputs": [],
   "source": []
  },
  {
   "cell_type": "code",
   "execution_count": null,
   "id": "f9ba72df",
   "metadata": {},
   "outputs": [],
   "source": []
  },
  {
   "cell_type": "code",
   "execution_count": null,
   "id": "b884d08f",
   "metadata": {},
   "outputs": [],
   "source": []
  },
  {
   "cell_type": "code",
   "execution_count": null,
   "id": "5f2a933c",
   "metadata": {},
   "outputs": [],
   "source": []
  },
  {
   "cell_type": "code",
   "execution_count": null,
   "id": "d1a50dac",
   "metadata": {},
   "outputs": [],
   "source": []
  },
  {
   "cell_type": "code",
   "execution_count": null,
   "id": "787158db",
   "metadata": {},
   "outputs": [],
   "source": []
  },
  {
   "cell_type": "code",
   "execution_count": null,
   "id": "ccce4a23",
   "metadata": {},
   "outputs": [],
   "source": []
  },
  {
   "cell_type": "code",
   "execution_count": null,
   "id": "db81643d",
   "metadata": {},
   "outputs": [],
   "source": []
  },
  {
   "cell_type": "markdown",
   "id": "a1c2a099",
   "metadata": {},
   "source": [
    "**Optionally, you can assign a name to a series, which becomes attribute of the series object. Moreover, it becomes the column name, if that series object is used to create a dataframe later.**"
   ]
  },
  {
   "cell_type": "code",
   "execution_count": 7,
   "id": "8b6eeb30",
   "metadata": {},
   "outputs": [
    {
     "name": "stdout",
     "output_type": "stream",
     "text": [
      "MS01      Arif\n",
      "MS02      Rauf\n",
      "MS03          \n",
      "MS04    Hadeed\n",
      "Name: myseries1, dtype: object\n",
      "<class 'pandas.core.series.Series'>\n"
     ]
    }
   ],
   "source": [
    "list1 = ['Arif', 'Rauf', '', 'Hadeed']\n",
    "indices = ['MS01', 'MS02', 'MS03', 'MS04']\n",
    "s = pd.Series(data=list1, index=indices, name='myseries1') \n",
    "print(s)\n",
    "print(type(s))"
   ]
  },
  {
   "cell_type": "code",
   "execution_count": null,
   "id": "586eeb15",
   "metadata": {},
   "outputs": [],
   "source": []
  },
  {
   "cell_type": "code",
   "execution_count": null,
   "id": "66a65552",
   "metadata": {},
   "outputs": [],
   "source": []
  },
  {
   "cell_type": "code",
   "execution_count": null,
   "id": "0322aac1",
   "metadata": {},
   "outputs": [],
   "source": []
  },
  {
   "cell_type": "code",
   "execution_count": null,
   "id": "fa4872cf",
   "metadata": {},
   "outputs": [],
   "source": []
  },
  {
   "cell_type": "code",
   "execution_count": null,
   "id": "530b6266",
   "metadata": {},
   "outputs": [],
   "source": []
  },
  {
   "cell_type": "code",
   "execution_count": null,
   "id": "8a304a93",
   "metadata": {},
   "outputs": [],
   "source": []
  },
  {
   "cell_type": "markdown",
   "id": "adefe54c",
   "metadata": {},
   "source": [
    "### b. Creating a Series from NumPy Array"
   ]
  },
  {
   "cell_type": "code",
   "execution_count": 8,
   "id": "46c41869",
   "metadata": {},
   "outputs": [
    {
     "name": "stdout",
     "output_type": "stream",
     "text": [
      "0    0\n",
      "1    1\n",
      "2    2\n",
      "3    3\n",
      "dtype: int64\n",
      "<class 'pandas.core.series.Series'>\n"
     ]
    }
   ],
   "source": [
    "s = pd.Series(data = np.arange(4))\n",
    "print(s)\n",
    "print(type(s))"
   ]
  },
  {
   "cell_type": "code",
   "execution_count": null,
   "id": "ac84af6f",
   "metadata": {},
   "outputs": [],
   "source": []
  },
  {
   "cell_type": "code",
   "execution_count": 9,
   "id": "32fb1954",
   "metadata": {},
   "outputs": [
    {
     "name": "stdout",
     "output_type": "stream",
     "text": [
      "0    22.3\n",
      "1    33.6\n",
      "2    98.0\n",
      "3    44.0\n",
      "dtype: float64\n",
      "<class 'pandas.core.series.Series'>\n"
     ]
    }
   ],
   "source": [
    "arr1 = np.array([22.3,33.6, 98, 44])\n",
    "s = pd.Series(data=arr1, dtype='float64')\n",
    "print(s)\n",
    "print(type(s))"
   ]
  },
  {
   "cell_type": "code",
   "execution_count": null,
   "id": "014a7b02",
   "metadata": {},
   "outputs": [],
   "source": []
  },
  {
   "cell_type": "code",
   "execution_count": null,
   "id": "c3881452",
   "metadata": {},
   "outputs": [],
   "source": []
  },
  {
   "cell_type": "code",
   "execution_count": null,
   "id": "d268c7f5",
   "metadata": {},
   "outputs": [],
   "source": []
  },
  {
   "cell_type": "code",
   "execution_count": null,
   "id": "1a700a79",
   "metadata": {},
   "outputs": [],
   "source": []
  },
  {
   "cell_type": "code",
   "execution_count": null,
   "id": "5543e5c6",
   "metadata": {},
   "outputs": [],
   "source": []
  },
  {
   "cell_type": "markdown",
   "id": "6a8917ca",
   "metadata": {},
   "source": [
    "### c. Creating a Series from Python Dictionary"
   ]
  },
  {
   "cell_type": "code",
   "execution_count": 10,
   "id": "665af5d7",
   "metadata": {},
   "outputs": [
    {
     "name": "stdout",
     "output_type": "stream",
     "text": [
      "name               Arif\n",
      "gender             Male\n",
      "Role            Teacher\n",
      "subject    Data Science\n",
      "dtype: object\n",
      "<class 'pandas.core.series.Series'>\n"
     ]
    }
   ],
   "source": [
    "my_dict = {\n",
    "    'name':\"Arif\", \n",
    "    'gender':\"Male\", \n",
    "    'Role':\"Teacher\", \n",
    "    'subject':\"Data Science\"}\n",
    "s = pd.Series(data=my_dict)\n",
    "print(s)\n",
    "print(type(s))"
   ]
  },
  {
   "cell_type": "markdown",
   "id": "7d1af826",
   "metadata": {},
   "source": [
    "**When you create a series from dictionary, it will automatically take the keys as index and the value as data**"
   ]
  },
  {
   "cell_type": "code",
   "execution_count": null,
   "id": "1216b698",
   "metadata": {},
   "outputs": [],
   "source": []
  },
  {
   "cell_type": "code",
   "execution_count": null,
   "id": "9ae99179",
   "metadata": {},
   "outputs": [],
   "source": []
  },
  {
   "cell_type": "code",
   "execution_count": null,
   "id": "92e5df64",
   "metadata": {},
   "outputs": [],
   "source": []
  },
  {
   "cell_type": "code",
   "execution_count": null,
   "id": "c20a6037",
   "metadata": {},
   "outputs": [],
   "source": []
  },
  {
   "cell_type": "code",
   "execution_count": null,
   "id": "4ad7cf74",
   "metadata": {},
   "outputs": [],
   "source": []
  },
  {
   "cell_type": "code",
   "execution_count": null,
   "id": "57e2412b",
   "metadata": {},
   "outputs": [],
   "source": []
  },
  {
   "cell_type": "code",
   "execution_count": null,
   "id": "a373d70a",
   "metadata": {},
   "outputs": [],
   "source": []
  },
  {
   "cell_type": "markdown",
   "id": "cd475971",
   "metadata": {},
   "source": [
    "### d. Creating a Series from Scalar value"
   ]
  },
  {
   "cell_type": "code",
   "execution_count": 11,
   "id": "f08b327f",
   "metadata": {},
   "outputs": [
    {
     "name": "stdout",
     "output_type": "stream",
     "text": [
      "0    25\n",
      "dtype: int64\n",
      "<class 'pandas.core.series.Series'>\n"
     ]
    }
   ],
   "source": [
    "s = pd.Series(data=25)\n",
    "print(s)\n",
    "print(type(s))"
   ]
  },
  {
   "cell_type": "code",
   "execution_count": null,
   "id": "7e39a8a8",
   "metadata": {},
   "outputs": [],
   "source": []
  },
  {
   "cell_type": "markdown",
   "id": "83ffbdd4",
   "metadata": {},
   "source": [
    "### e. Creating an Empty Series"
   ]
  },
  {
   "cell_type": "code",
   "execution_count": 12,
   "id": "46319b2b",
   "metadata": {},
   "outputs": [
    {
     "name": "stdout",
     "output_type": "stream",
     "text": [
      "Series([], dtype: float64)\n",
      "<class 'pandas.core.series.Series'>\n"
     ]
    }
   ],
   "source": [
    "# Need to pass atleast `dtype` else you get a warning\n",
    "s=pd.Series(dtype='float64')\n",
    "print(s)\n",
    "print(type(s))"
   ]
  },
  {
   "cell_type": "code",
   "execution_count": null,
   "id": "5a154cbe",
   "metadata": {},
   "outputs": [],
   "source": []
  },
  {
   "cell_type": "code",
   "execution_count": null,
   "id": "6c15b644",
   "metadata": {},
   "outputs": [],
   "source": []
  },
  {
   "cell_type": "code",
   "execution_count": null,
   "id": "d7fd4f17",
   "metadata": {},
   "outputs": [],
   "source": []
  },
  {
   "cell_type": "code",
   "execution_count": null,
   "id": "b80d6962",
   "metadata": {},
   "outputs": [],
   "source": []
  },
  {
   "cell_type": "code",
   "execution_count": null,
   "id": "eece6b6c",
   "metadata": {},
   "outputs": [],
   "source": []
  },
  {
   "cell_type": "code",
   "execution_count": null,
   "id": "15f6ee68",
   "metadata": {},
   "outputs": [],
   "source": []
  },
  {
   "cell_type": "code",
   "execution_count": null,
   "id": "dea7852b",
   "metadata": {},
   "outputs": [],
   "source": []
  },
  {
   "cell_type": "code",
   "execution_count": null,
   "id": "ea08592c",
   "metadata": {},
   "outputs": [],
   "source": []
  },
  {
   "cell_type": "markdown",
   "id": "bec8ddc7",
   "metadata": {},
   "source": [
    "## 3. Attributes of Panda  Series\n",
    "- We can access certain properties called attributes of a series by using that property with the series name using dot `.` notation"
   ]
  },
  {
   "cell_type": "code",
   "execution_count": 13,
   "id": "e021e537",
   "metadata": {},
   "outputs": [
    {
     "data": {
      "text/plain": [
       "0       Rauf\n",
       "1           \n",
       "2       Maaz\n",
       "3     Hadeed\n",
       "4    Mujahid\n",
       "5      Mohid\n",
       "6      Jamil\n",
       "Name: myseries1, dtype: object"
      ]
     },
     "execution_count": 13,
     "metadata": {},
     "output_type": "execute_result"
    }
   ],
   "source": [
    "my_dict = {0:\"Rauf\", 1:\"\", 2:\"Maaz\", 3:\"Hadeed\", 4:\"Mujahid\", 5:\"Mohid\", 6:\"Jamil\"}\n",
    "s = pd.Series(my_dict, name=\"myseries1\")\n",
    "s"
   ]
  },
  {
   "cell_type": "code",
   "execution_count": 14,
   "id": "666018f4",
   "metadata": {},
   "outputs": [
    {
     "data": {
      "text/plain": [
       "'myseries1'"
      ]
     },
     "execution_count": 14,
     "metadata": {},
     "output_type": "execute_result"
    }
   ],
   "source": [
    "# `name` attribute of a series object return the name of the series object\n",
    "s.name"
   ]
  },
  {
   "cell_type": "code",
   "execution_count": null,
   "id": "9db01ffb",
   "metadata": {},
   "outputs": [],
   "source": []
  },
  {
   "cell_type": "code",
   "execution_count": 15,
   "id": "a24ade38",
   "metadata": {},
   "outputs": [
    {
     "data": {
      "text/plain": [
       "Int64Index([0, 1, 2, 3, 4, 5, 6], dtype='int64')"
      ]
     },
     "execution_count": 15,
     "metadata": {},
     "output_type": "execute_result"
    }
   ],
   "source": [
    "# `index` attribute of a series object return the list of indices and its datatype\n",
    "s.index"
   ]
  },
  {
   "cell_type": "code",
   "execution_count": null,
   "id": "a2999a6c",
   "metadata": {},
   "outputs": [],
   "source": []
  },
  {
   "cell_type": "code",
   "execution_count": 16,
   "id": "1f7d188a",
   "metadata": {},
   "outputs": [
    {
     "data": {
      "text/plain": [
       "array(['Rauf', '', 'Maaz', 'Hadeed', 'Mujahid', 'Mohid', 'Jamil'],\n",
       "      dtype=object)"
      ]
     },
     "execution_count": 16,
     "metadata": {},
     "output_type": "execute_result"
    }
   ],
   "source": [
    "# `values` attribute of a series object return the list of values and its datatype\n",
    "s.values"
   ]
  },
  {
   "cell_type": "code",
   "execution_count": null,
   "id": "8d3fb450",
   "metadata": {},
   "outputs": [],
   "source": []
  },
  {
   "cell_type": "code",
   "execution_count": 17,
   "id": "0c117bdd",
   "metadata": {},
   "outputs": [
    {
     "data": {
      "text/plain": [
       "dtype('O')"
      ]
     },
     "execution_count": 17,
     "metadata": {},
     "output_type": "execute_result"
    }
   ],
   "source": [
    "# `dtype` attribute of a series object return the type of underlying data\n",
    "s.dtype"
   ]
  },
  {
   "cell_type": "code",
   "execution_count": null,
   "id": "14f93c3b",
   "metadata": {},
   "outputs": [],
   "source": []
  },
  {
   "cell_type": "code",
   "execution_count": 18,
   "id": "2e044be9",
   "metadata": {},
   "outputs": [
    {
     "data": {
      "text/plain": [
       "(7,)"
      ]
     },
     "execution_count": 18,
     "metadata": {},
     "output_type": "execute_result"
    }
   ],
   "source": [
    "# `shape` attribute of a series object return a tuple of shape of underlying data\n",
    "s.shape"
   ]
  },
  {
   "cell_type": "code",
   "execution_count": null,
   "id": "101670e3",
   "metadata": {},
   "outputs": [],
   "source": []
  },
  {
   "cell_type": "code",
   "execution_count": 19,
   "id": "be57c960",
   "metadata": {},
   "outputs": [
    {
     "data": {
      "text/plain": [
       "56"
      ]
     },
     "execution_count": 19,
     "metadata": {},
     "output_type": "execute_result"
    }
   ],
   "source": [
    "# `nbytes` attribute of a series object return the number of bytes of underlying data (object data type take 8 bytes)\n",
    "s.nbytes"
   ]
  },
  {
   "cell_type": "code",
   "execution_count": null,
   "id": "ee4ab797",
   "metadata": {},
   "outputs": [],
   "source": []
  },
  {
   "cell_type": "code",
   "execution_count": 20,
   "id": "0236e399",
   "metadata": {},
   "outputs": [
    {
     "data": {
      "text/plain": [
       "7"
      ]
     },
     "execution_count": 20,
     "metadata": {},
     "output_type": "execute_result"
    }
   ],
   "source": [
    "# `size` attribute of a series object return number of elements in the underlying data\n",
    "s.size"
   ]
  },
  {
   "cell_type": "code",
   "execution_count": null,
   "id": "b5c0a63b",
   "metadata": {},
   "outputs": [],
   "source": []
  },
  {
   "cell_type": "code",
   "execution_count": 21,
   "id": "4d41072e",
   "metadata": {},
   "outputs": [
    {
     "data": {
      "text/plain": [
       "1"
      ]
     },
     "execution_count": 21,
     "metadata": {},
     "output_type": "execute_result"
    }
   ],
   "source": [
    "# `ndim` attribute of a series object return number of dimensions of underlying data\n",
    "s.ndim"
   ]
  },
  {
   "cell_type": "code",
   "execution_count": null,
   "id": "287f42d9",
   "metadata": {},
   "outputs": [],
   "source": []
  },
  {
   "cell_type": "code",
   "execution_count": 22,
   "id": "0072cb0f",
   "metadata": {},
   "outputs": [
    {
     "data": {
      "text/plain": [
       "False"
      ]
     },
     "execution_count": 22,
     "metadata": {},
     "output_type": "execute_result"
    }
   ],
   "source": [
    "# `hasnans` attribute of a series object return true if there are NaN values in the data\n",
    "s.hasnans"
   ]
  },
  {
   "cell_type": "code",
   "execution_count": null,
   "id": "281a380b",
   "metadata": {},
   "outputs": [],
   "source": []
  },
  {
   "cell_type": "code",
   "execution_count": null,
   "id": "c6a9779c",
   "metadata": {},
   "outputs": [],
   "source": []
  },
  {
   "cell_type": "code",
   "execution_count": null,
   "id": "2aeb05ea",
   "metadata": {},
   "outputs": [],
   "source": []
  },
  {
   "cell_type": "code",
   "execution_count": null,
   "id": "7bff4936",
   "metadata": {},
   "outputs": [],
   "source": []
  },
  {
   "cell_type": "code",
   "execution_count": null,
   "id": "36f5d724",
   "metadata": {},
   "outputs": [],
   "source": []
  },
  {
   "cell_type": "code",
   "execution_count": null,
   "id": "27db5cc4",
   "metadata": {},
   "outputs": [],
   "source": []
  },
  {
   "cell_type": "code",
   "execution_count": null,
   "id": "94db271e",
   "metadata": {},
   "outputs": [],
   "source": []
  },
  {
   "cell_type": "markdown",
   "id": "1471a464",
   "metadata": {},
   "source": [
    "<img align=\"right\" width=\"500\" height=\"500\"  src=\"images/series-anatomy.png\"  >\n",
    "\n",
    "## 4. Understanding Index in a Series\n",
    "- Every series object has an index associated with every item. \n",
    "- The Pandas series object supports both integer-based (default) and label/string-based indexing and provides a host of methods for performing operations involving the index.\n",
    "<br><br>\n",
    "    - When index is unique, Pandas use a hashtable to map `key to value` and searching can be done in O(1) time. \n",
    "    - When index is non-unique but sorted, Pandas use binary search, which takes logarithmic time O(logN).\n",
    "    - When index is randomly ordered, searching takes linear time, as Pandas need to check all the keys in the index O(N).<br><br>\n",
    "- Index in series object is used for three purposes:\n",
    "    - Identification\n",
    "    - Selection/Filtering/Subsetting\n",
    "    - Alignment <br><br>"
   ]
  },
  {
   "cell_type": "code",
   "execution_count": null,
   "id": "26d6e7a3",
   "metadata": {},
   "outputs": [],
   "source": []
  },
  {
   "cell_type": "code",
   "execution_count": null,
   "id": "586a0a8a",
   "metadata": {},
   "outputs": [],
   "source": []
  },
  {
   "cell_type": "markdown",
   "id": "08a63cdf",
   "metadata": {},
   "source": [
    "### a. Changing Index of a Series Object\n",
    "- In above examples, we have seen that\n",
    "    - If we create a Series object from dictionary, the keys of dictionray become the index \n",
    "    - If we create a Series object from a list or numPy array, the index defaults to integers from 0, 1, 2, ...\n",
    "    - Last but not the least, we can assign the indices of our own choice, which can be integers or strings\n",
    "- Let us see as how we can change the indices of a series object after creation"
   ]
  },
  {
   "cell_type": "code",
   "execution_count": 23,
   "id": "81221a73",
   "metadata": {},
   "outputs": [
    {
     "name": "stdout",
     "output_type": "stream",
     "text": [
      "0       Rauf\n",
      "1       Arif\n",
      "2       Maaz\n",
      "3     Hadeed\n",
      "4    Mujahid\n",
      "dtype: object\n",
      "RangeIndex(start=0, stop=5, step=1)\n"
     ]
    }
   ],
   "source": [
    "list1 = ['Rauf', 'Arif', 'Maaz', 'Hadeed', 'Mujahid']\n",
    "s = pd.Series(data=list1)\n",
    "print(s)\n",
    "print(s.index)"
   ]
  },
  {
   "cell_type": "markdown",
   "id": "6514f86e",
   "metadata": {},
   "source": [
    ">Index attribute of series object shows that index range for this series is from (0-4) with step value of 1"
   ]
  },
  {
   "cell_type": "markdown",
   "id": "2ac638df",
   "metadata": {},
   "source": [
    "**Let us modify the index of this series object to some random integers by assigning a random array of integers to `index` attribute of this series object**"
   ]
  },
  {
   "cell_type": "code",
   "execution_count": 28,
   "id": "ca48f7cb",
   "metadata": {},
   "outputs": [
    {
     "name": "stdout",
     "output_type": "stream",
     "text": [
      "120       Rauf\n",
      "166       Arif\n",
      "154       Maaz\n",
      "136     Hadeed\n",
      "184    Mujahid\n",
      "dtype: object\n",
      "Int64Index([120, 166, 154, 136, 184], dtype='int64')\n"
     ]
    }
   ],
   "source": [
    "\n",
    "arr1 = np.random.randint(low = 100, high = 200, size = 5)\n",
    "\n",
    "s.index = arr1\n",
    "\n",
    "print(s)\n",
    "print(s.index)"
   ]
  },
  {
   "cell_type": "code",
   "execution_count": null,
   "id": "4154c8d6",
   "metadata": {},
   "outputs": [],
   "source": []
  },
  {
   "cell_type": "code",
   "execution_count": null,
   "id": "b026a028",
   "metadata": {},
   "outputs": [],
   "source": []
  },
  {
   "cell_type": "code",
   "execution_count": null,
   "id": "7a23c416",
   "metadata": {},
   "outputs": [],
   "source": []
  },
  {
   "cell_type": "code",
   "execution_count": null,
   "id": "50e077bf",
   "metadata": {},
   "outputs": [],
   "source": []
  },
  {
   "cell_type": "code",
   "execution_count": null,
   "id": "1af2cc88",
   "metadata": {},
   "outputs": [],
   "source": []
  },
  {
   "cell_type": "code",
   "execution_count": null,
   "id": "ccd09941",
   "metadata": {},
   "outputs": [],
   "source": []
  },
  {
   "cell_type": "markdown",
   "id": "c7252611",
   "metadata": {},
   "source": [
    "**Changing index of a series to a list of strings**"
   ]
  },
  {
   "cell_type": "code",
   "execution_count": 29,
   "id": "3b0106b8",
   "metadata": {},
   "outputs": [
    {
     "name": "stdout",
     "output_type": "stream",
     "text": [
      "0       Rauf\n",
      "1       Arif\n",
      "2       Maaz\n",
      "3     Hadeed\n",
      "4    Mujahid\n",
      "dtype: object\n",
      "RangeIndex(start=0, stop=5, step=1)\n"
     ]
    }
   ],
   "source": [
    "list1 = ['Rauf', 'Arif', 'Maaz', 'Hadeed', 'Mujahid']\n",
    "s = pd.Series(data=list1)\n",
    "print(s)\n",
    "print(s.index)"
   ]
  },
  {
   "cell_type": "code",
   "execution_count": 30,
   "id": "c8738768",
   "metadata": {},
   "outputs": [
    {
     "name": "stdout",
     "output_type": "stream",
     "text": [
      "num1       Rauf\n",
      "num2       Arif\n",
      "num3       Maaz\n",
      "num4     Hadeed\n",
      "num5    Mujahid\n",
      "dtype: object\n",
      "Index(['num1', 'num2', 'num3', 'num4', 'num5'], dtype='object')\n"
     ]
    }
   ],
   "source": [
    "indices = ['num1', 'num2', 'num3', 'num4', 'num5']\n",
    "\n",
    "s.index = indices\n",
    "\n",
    "print(s)\n",
    "print(s.index)"
   ]
  },
  {
   "cell_type": "code",
   "execution_count": null,
   "id": "6b9aefbf",
   "metadata": {},
   "outputs": [],
   "source": []
  },
  {
   "cell_type": "code",
   "execution_count": null,
   "id": "4dd3b213",
   "metadata": {},
   "outputs": [],
   "source": []
  },
  {
   "cell_type": "code",
   "execution_count": null,
   "id": "a97bee8b",
   "metadata": {},
   "outputs": [],
   "source": []
  },
  {
   "cell_type": "code",
   "execution_count": null,
   "id": "cda603e5",
   "metadata": {},
   "outputs": [],
   "source": []
  },
  {
   "cell_type": "code",
   "execution_count": null,
   "id": "872bac58",
   "metadata": {},
   "outputs": [],
   "source": []
  },
  {
   "cell_type": "markdown",
   "id": "6ae33d5a",
   "metadata": {},
   "source": [
    "<img align=\"right\" width=\"300\" height=\"300\"  src=\"images/series-anatomy.png\"  >\n",
    "\n",
    "### b. First use of Index (Identification)\n",
    "- Since every data value of a series object has an associated index (integer or string).So we can use this index/label to identify or access data value(s)\n",
    "- There are three ways to access elements of a series:\n",
    "    - Using `s[]` operator and specifying the index (integer/label)\n",
    "    - Using `s.loc[]` method and specifying the index (integer/label)\n",
    "    - Using `.iloc[]` method and specify the position (an integer value from 0 to length-1). It also support negative indexing, the last element can be accessed by an index of -1"
   ]
  },
  {
   "cell_type": "markdown",
   "id": "2f62003c",
   "metadata": {},
   "source": [
    "**Identification using Integer Indices or by Position**"
   ]
  },
  {
   "cell_type": "code",
   "execution_count": 31,
   "id": "d708f31c",
   "metadata": {},
   "outputs": [
    {
     "data": {
      "text/plain": [
       "5        Rauf\n",
       "10       Arif\n",
       "15       Maaz\n",
       "20     Hadeed\n",
       "25    Mujahid\n",
       "dtype: object"
      ]
     },
     "execution_count": 31,
     "metadata": {},
     "output_type": "execute_result"
    }
   ],
   "source": [
    "list1 = ['Rauf', 'Arif', 'Maaz', 'Hadeed', 'Mujahid']\n",
    "indices = [5, 10, 15, 20, 25]\n",
    "s = pd.Series(data=list1, index=indices)\n",
    "s"
   ]
  },
  {
   "cell_type": "code",
   "execution_count": 34,
   "id": "c9045a42",
   "metadata": {},
   "outputs": [
    {
     "data": {
      "text/plain": [
       "'Mujahid'"
      ]
     },
     "execution_count": 34,
     "metadata": {},
     "output_type": "execute_result"
    }
   ],
   "source": [
    "# Give index to subscript operator\n",
    "s[25]"
   ]
  },
  {
   "cell_type": "code",
   "execution_count": 37,
   "id": "aa0c38b5",
   "metadata": {},
   "outputs": [
    {
     "data": {
      "text/plain": [
       "'Hadeed'"
      ]
     },
     "execution_count": 37,
     "metadata": {},
     "output_type": "execute_result"
    }
   ],
   "source": [
    "# Give index to  loc method\n",
    "s.loc[20]"
   ]
  },
  {
   "cell_type": "code",
   "execution_count": 40,
   "id": "e21b7e48",
   "metadata": {},
   "outputs": [],
   "source": [
    "# iloc method is position based, so will flag an error if you pass it indices\n",
    "#s.iloc[20] "
   ]
  },
  {
   "cell_type": "code",
   "execution_count": 39,
   "id": "855fbda2",
   "metadata": {},
   "outputs": [
    {
     "data": {
      "text/plain": [
       "'Hadeed'"
      ]
     },
     "execution_count": 39,
     "metadata": {},
     "output_type": "execute_result"
    }
   ],
   "source": [
    "# So always give position to iloc method (not index)\n",
    "s.iloc[3]"
   ]
  },
  {
   "cell_type": "code",
   "execution_count": 41,
   "id": "a63e1a06",
   "metadata": {},
   "outputs": [
    {
     "data": {
      "text/plain": [
       "20    Hadeed\n",
       "5       Rauf\n",
       "dtype: object"
      ]
     },
     "execution_count": 41,
     "metadata": {},
     "output_type": "execute_result"
    }
   ],
   "source": [
    "# Can access multiple values by specifying a list of indices\n",
    "s[[20, 5]]"
   ]
  },
  {
   "cell_type": "code",
   "execution_count": 42,
   "id": "bee25cf3",
   "metadata": {},
   "outputs": [
    {
     "data": {
      "text/plain": [
       "20    Hadeed\n",
       "5       Rauf\n",
       "dtype: object"
      ]
     },
     "execution_count": 42,
     "metadata": {},
     "output_type": "execute_result"
    }
   ],
   "source": [
    "# Can access multiple values by specifying a list of indices\n",
    "s.loc[[20, 5]]"
   ]
  },
  {
   "cell_type": "code",
   "execution_count": 43,
   "id": "712eb404",
   "metadata": {},
   "outputs": [
    {
     "data": {
      "text/plain": [
       "20    Hadeed\n",
       "5       Rauf\n",
       "dtype: object"
      ]
     },
     "execution_count": 43,
     "metadata": {},
     "output_type": "execute_result"
    }
   ],
   "source": [
    "# Can access multiple values by specifying list of positions\n",
    "s.iloc[[3, 0]]"
   ]
  },
  {
   "cell_type": "code",
   "execution_count": null,
   "id": "a0ef9771",
   "metadata": {},
   "outputs": [],
   "source": []
  },
  {
   "cell_type": "code",
   "execution_count": null,
   "id": "49ed6d72",
   "metadata": {},
   "outputs": [],
   "source": []
  },
  {
   "cell_type": "code",
   "execution_count": null,
   "id": "5db2be07",
   "metadata": {},
   "outputs": [],
   "source": []
  },
  {
   "cell_type": "code",
   "execution_count": null,
   "id": "6e1458f1",
   "metadata": {},
   "outputs": [],
   "source": []
  },
  {
   "cell_type": "code",
   "execution_count": null,
   "id": "7b447220",
   "metadata": {},
   "outputs": [],
   "source": []
  },
  {
   "cell_type": "code",
   "execution_count": null,
   "id": "f8025bfc",
   "metadata": {},
   "outputs": [],
   "source": []
  },
  {
   "cell_type": "markdown",
   "id": "77ac3b00",
   "metadata": {},
   "source": [
    "**Identification using String Indices or by Position**"
   ]
  },
  {
   "cell_type": "code",
   "execution_count": 44,
   "id": "d4794a46",
   "metadata": {},
   "outputs": [
    {
     "data": {
      "text/plain": [
       "num1       Rauf\n",
       "num2       Arif\n",
       "num3       Maaz\n",
       "num4     Hadeed\n",
       "num5    Mujahid\n",
       "dtype: object"
      ]
     },
     "execution_count": 44,
     "metadata": {},
     "output_type": "execute_result"
    }
   ],
   "source": [
    "list1 = ['Rauf', 'Arif', 'Maaz', 'Hadeed', 'Mujahid']\n",
    "indices = ['num1', 'num2', 'num3', 'num4', 'num5']\n",
    "s = pd.Series(data=list1, index=indices)\n",
    "s"
   ]
  },
  {
   "cell_type": "code",
   "execution_count": 45,
   "id": "7896749e",
   "metadata": {},
   "outputs": [
    {
     "data": {
      "text/plain": [
       "'Rauf'"
      ]
     },
     "execution_count": 45,
     "metadata": {},
     "output_type": "execute_result"
    }
   ],
   "source": [
    "# Give index to subscript operator (which in this case is a string or label)\n",
    "s['num1']"
   ]
  },
  {
   "cell_type": "code",
   "execution_count": 46,
   "id": "6eb25351",
   "metadata": {},
   "outputs": [
    {
     "data": {
      "text/plain": [
       "'Rauf'"
      ]
     },
     "execution_count": 46,
     "metadata": {},
     "output_type": "execute_result"
    }
   ],
   "source": [
    "# Give index to  loc method (which in this case is a string or label)\n",
    "s.loc['num1']"
   ]
  },
  {
   "cell_type": "code",
   "execution_count": 48,
   "id": "33fa58b7",
   "metadata": {},
   "outputs": [
    {
     "data": {
      "text/plain": [
       "'Rauf'"
      ]
     },
     "execution_count": 48,
     "metadata": {},
     "output_type": "execute_result"
    }
   ],
   "source": [
    "# iloc method is position based, so will flag an error if you pass it string indices\n",
    "#s.iloc['num1'] \n",
    "# however will work fine if you pass an integer specifying the position\n",
    "s.iloc[0]"
   ]
  },
  {
   "cell_type": "code",
   "execution_count": 49,
   "id": "f11d537e",
   "metadata": {},
   "outputs": [
    {
     "data": {
      "text/plain": [
       "num3    Maaz\n",
       "num1    Rauf\n",
       "dtype: object"
      ]
     },
     "execution_count": 49,
     "metadata": {},
     "output_type": "execute_result"
    }
   ],
   "source": [
    "# Can access multiple values by specifying a list of indices (which in this case are strings or labels)\n",
    "s[['num3', 'num1']]"
   ]
  },
  {
   "cell_type": "code",
   "execution_count": 50,
   "id": "4f6464df",
   "metadata": {},
   "outputs": [
    {
     "data": {
      "text/plain": [
       "num3    Maaz\n",
       "num1    Rauf\n",
       "dtype: object"
      ]
     },
     "execution_count": 50,
     "metadata": {},
     "output_type": "execute_result"
    }
   ],
   "source": [
    "# Can access multiple values by specifying a list of indices (which in this case are strings or labels)\n",
    "s.loc[['num3', 'num1']]"
   ]
  },
  {
   "cell_type": "code",
   "execution_count": 53,
   "id": "5219c075",
   "metadata": {},
   "outputs": [
    {
     "data": {
      "text/plain": [
       "num3    Maaz\n",
       "num1    Rauf\n",
       "dtype: object"
      ]
     },
     "execution_count": 53,
     "metadata": {},
     "output_type": "execute_result"
    }
   ],
   "source": [
    "# iloc method is position based, so will flag an error if you pass it string indices\n",
    "#s.iloc['num3', 'num1'] \n",
    "# however will work fine if you pass an integer specifying the position\n",
    "s.iloc[[2,0]]"
   ]
  },
  {
   "cell_type": "code",
   "execution_count": null,
   "id": "01d09cc2",
   "metadata": {},
   "outputs": [],
   "source": []
  },
  {
   "cell_type": "code",
   "execution_count": null,
   "id": "8327e511",
   "metadata": {},
   "outputs": [],
   "source": []
  },
  {
   "cell_type": "code",
   "execution_count": null,
   "id": "89ec23c9",
   "metadata": {},
   "outputs": [],
   "source": []
  },
  {
   "cell_type": "code",
   "execution_count": null,
   "id": "512cda65",
   "metadata": {},
   "outputs": [],
   "source": []
  },
  {
   "cell_type": "code",
   "execution_count": null,
   "id": "6b6889c9",
   "metadata": {},
   "outputs": [],
   "source": []
  },
  {
   "cell_type": "code",
   "execution_count": null,
   "id": "5fb3b05c",
   "metadata": {},
   "outputs": [],
   "source": []
  },
  {
   "cell_type": "markdown",
   "id": "c33193ff",
   "metadata": {},
   "source": [
    "<img align=\"right\" width=\"400\" height=\"400\"  src=\"images/series-anatomy.png\"  >\n",
    "\n",
    "### c. Second use of Index (Selection)\n",
    "- A series can be sliced using `:` symbol, which returns a subset of a series object (values with corresponding indices).\n",
    "- There are three arguments of slice object `[[start]:[stop][:step]]`, and all are optional\n",
    "\n",
    "- The slice object can be used in three ways to slice a Pandas Series object::\n",
    "    - Using `s[]` operator and specifying the index (integer/label)\n",
    "    - Using `s.loc[]` method and specifying the index (integer/label)\n",
    "    - Using `.iloc` method and specify the position (an integer value from 0 to length-1). It also support negative indexing, the last element can be accessed by an index of -1\n",
    "- Keep following points in mind:\n",
    "    - The `stop` argument is NOT inclusive for `s[]` for integer indices, while it is inclusive for string indices.\n",
    "    - The `stop` argument is inclusive for `s.loc[]` for both integer and label indices.\n",
    "    - The `stop` argument is NOT inclusive for `s.iloc[]` being position based.\n",
    "  \n",
    ">**Note: Once you slice a Pandas series, you get a view of the original object, which is similar to shallow copy. So if you modify an element in original series object, the change will also be visible in the other series object.**"
   ]
  },
  {
   "cell_type": "markdown",
   "id": "1e3ea7a4",
   "metadata": {},
   "source": [
    "**Selection/Filtering/Subsetting of Series object having Integer indices**"
   ]
  },
  {
   "cell_type": "code",
   "execution_count": 54,
   "id": "12d58d8f",
   "metadata": {},
   "outputs": [
    {
     "data": {
      "text/plain": [
       "0       Rauf\n",
       "1       Arif\n",
       "2       Maaz\n",
       "3     Hadeed\n",
       "4    Mujahid\n",
       "dtype: object"
      ]
     },
     "execution_count": 54,
     "metadata": {},
     "output_type": "execute_result"
    }
   ],
   "source": [
    "list1 = ['Rauf', 'Arif', 'Maaz', 'Hadeed', 'Mujahid']\n",
    "s = pd.Series(data=list1)\n",
    "s"
   ]
  },
  {
   "cell_type": "code",
   "execution_count": 55,
   "id": "1da738e1",
   "metadata": {},
   "outputs": [
    {
     "data": {
      "text/plain": [
       "2      Maaz\n",
       "3    Hadeed\n",
       "dtype: object"
      ]
     },
     "execution_count": 55,
     "metadata": {},
     "output_type": "execute_result"
    }
   ],
   "source": [
    "# The `stop` argument is NOT inclusive for `s[]` for integer indices\n",
    "s[2:4]"
   ]
  },
  {
   "cell_type": "code",
   "execution_count": 56,
   "id": "faacfdb9",
   "metadata": {},
   "outputs": [
    {
     "data": {
      "text/plain": [
       "2       Maaz\n",
       "3     Hadeed\n",
       "4    Mujahid\n",
       "dtype: object"
      ]
     },
     "execution_count": 56,
     "metadata": {},
     "output_type": "execute_result"
    }
   ],
   "source": [
    "# The stop argument is inclusive for `s.loc[]` for both integer and label indices\n",
    "s.loc[2:4]"
   ]
  },
  {
   "cell_type": "code",
   "execution_count": 57,
   "id": "b9516690",
   "metadata": {},
   "outputs": [
    {
     "data": {
      "text/plain": [
       "2      Maaz\n",
       "3    Hadeed\n",
       "dtype: object"
      ]
     },
     "execution_count": 57,
     "metadata": {},
     "output_type": "execute_result"
    }
   ],
   "source": [
    "# The `stop` argument is NOT inclusive for `s.iloc[]` being position based\n",
    "s.iloc[2:4]"
   ]
  },
  {
   "cell_type": "code",
   "execution_count": null,
   "id": "04f57513",
   "metadata": {},
   "outputs": [],
   "source": []
  },
  {
   "cell_type": "code",
   "execution_count": null,
   "id": "6492eee8",
   "metadata": {},
   "outputs": [],
   "source": []
  },
  {
   "cell_type": "code",
   "execution_count": null,
   "id": "47eed183",
   "metadata": {},
   "outputs": [],
   "source": []
  },
  {
   "cell_type": "code",
   "execution_count": null,
   "id": "e97851e4",
   "metadata": {},
   "outputs": [],
   "source": []
  },
  {
   "cell_type": "markdown",
   "id": "633520b4",
   "metadata": {},
   "source": [
    "**Selection/Filtering/Subsetting of Series object having String Indices**"
   ]
  },
  {
   "cell_type": "code",
   "execution_count": 58,
   "id": "c56129ab",
   "metadata": {},
   "outputs": [
    {
     "data": {
      "text/plain": [
       "num1       Rauf\n",
       "num2       Arif\n",
       "num3       Maaz\n",
       "num4     Hadeed\n",
       "num5    Mujahid\n",
       "dtype: object"
      ]
     },
     "execution_count": 58,
     "metadata": {},
     "output_type": "execute_result"
    }
   ],
   "source": [
    "list1 = ['Rauf', 'Arif', 'Maaz', 'Hadeed', 'Mujahid']\n",
    "indices = ['num1', 'num2', 'num3', 'num4', 'num5']\n",
    "s = pd.Series(data=list1, index=indices)\n",
    "s"
   ]
  },
  {
   "cell_type": "code",
   "execution_count": 59,
   "id": "6618a2d7",
   "metadata": {},
   "outputs": [
    {
     "data": {
      "text/plain": [
       "num2      Arif\n",
       "num3      Maaz\n",
       "num4    Hadeed\n",
       "dtype: object"
      ]
     },
     "execution_count": 59,
     "metadata": {},
     "output_type": "execute_result"
    }
   ],
   "source": [
    "# The `stop` argument is inclusive for `s[]` for string indices, while it is NOT inclusive for integer indices.\n",
    "s['num2':'num4']"
   ]
  },
  {
   "cell_type": "code",
   "execution_count": 60,
   "id": "e310d26b",
   "metadata": {},
   "outputs": [
    {
     "data": {
      "text/plain": [
       "num2      Arif\n",
       "num3      Maaz\n",
       "num4    Hadeed\n",
       "dtype: object"
      ]
     },
     "execution_count": 60,
     "metadata": {},
     "output_type": "execute_result"
    }
   ],
   "source": [
    "# The `stop` argument is inclusive for `s.loc[]` for both integer and label indices\n",
    "s.loc['num2':'num4']"
   ]
  },
  {
   "cell_type": "code",
   "execution_count": 61,
   "id": "e9214d37",
   "metadata": {},
   "outputs": [
    {
     "data": {
      "text/plain": [
       "num2      Arif\n",
       "num3      Maaz\n",
       "num4    Hadeed\n",
       "dtype: object"
      ]
     },
     "execution_count": 61,
     "metadata": {},
     "output_type": "execute_result"
    }
   ],
   "source": [
    "# iloc method is position based, so will flag an error if you pass it string indices\n",
    "#s.iloc['num2': 'num4'] \n",
    "# however will work fine if you pass an integer values (specifying positions) in the slice operator\n",
    "s.iloc[1:4]"
   ]
  },
  {
   "cell_type": "code",
   "execution_count": null,
   "id": "a46059a2",
   "metadata": {},
   "outputs": [],
   "source": []
  },
  {
   "cell_type": "code",
   "execution_count": null,
   "id": "1bb4ceda",
   "metadata": {},
   "outputs": [],
   "source": []
  },
  {
   "cell_type": "code",
   "execution_count": 62,
   "id": "3ec7cf17",
   "metadata": {},
   "outputs": [
    {
     "data": {
      "text/plain": [
       "num2      Arif\n",
       "num4    Hadeed\n",
       "dtype: object"
      ]
     },
     "execution_count": 62,
     "metadata": {},
     "output_type": "execute_result"
    }
   ],
   "source": [
    "# The step works fine with string indices as well\n",
    "s['num2':'num5':2]"
   ]
  },
  {
   "cell_type": "code",
   "execution_count": 63,
   "id": "0a54d42f",
   "metadata": {},
   "outputs": [
    {
     "data": {
      "text/plain": [
       "num5    Mujahid\n",
       "num4     Hadeed\n",
       "num3       Maaz\n",
       "dtype: object"
      ]
     },
     "execution_count": 63,
     "metadata": {},
     "output_type": "execute_result"
    }
   ],
   "source": [
    "# The step works fine with string indices as well\n",
    "s['num5':'num3':-1]"
   ]
  },
  {
   "cell_type": "code",
   "execution_count": null,
   "id": "5ad54c87",
   "metadata": {},
   "outputs": [],
   "source": []
  },
  {
   "cell_type": "code",
   "execution_count": null,
   "id": "54cd9ce2",
   "metadata": {},
   "outputs": [],
   "source": []
  },
  {
   "cell_type": "code",
   "execution_count": null,
   "id": "8b89715b",
   "metadata": {},
   "outputs": [],
   "source": []
  },
  {
   "cell_type": "code",
   "execution_count": null,
   "id": "620dc625",
   "metadata": {},
   "outputs": [],
   "source": []
  },
  {
   "cell_type": "code",
   "execution_count": null,
   "id": "67f47703",
   "metadata": {},
   "outputs": [],
   "source": []
  },
  {
   "cell_type": "code",
   "execution_count": null,
   "id": "05f5be0c",
   "metadata": {},
   "outputs": [],
   "source": []
  },
  {
   "cell_type": "markdown",
   "id": "d4be2333",
   "metadata": {},
   "source": [
    "<img align=\"right\" width=\"300\" height=\"300\"  src=\"images/series-anatomy.png\"  >\n",
    "\n",
    "### d. Third use of Index (Alignment)\n",
    "- We can perform basic arithmetic operations like addition, subtraction, multiplication, division, etc., on two Series objects, to produce a new Series instance.\n",
    "- The operation is done on each corresponding pair of elements. This is done by matching the indices of the two series objects."
   ]
  },
  {
   "cell_type": "markdown",
   "id": "66b50cf4",
   "metadata": {},
   "source": [
    "**Example 1:** Adding two series object with same integer indices"
   ]
  },
  {
   "cell_type": "code",
   "execution_count": 64,
   "id": "1896462a",
   "metadata": {},
   "outputs": [],
   "source": [
    "list1 = [1,3,5,7,9];\n",
    "list2 = [2,4,6,8,10];\n",
    "s1 = pd.Series(data=list1);\n",
    "s2 = pd.Series(data=list1);"
   ]
  },
  {
   "cell_type": "code",
   "execution_count": 65,
   "id": "78574d22",
   "metadata": {},
   "outputs": [
    {
     "name": "stdout",
     "output_type": "stream",
     "text": [
      "0    1\n",
      "1    3\n",
      "2    5\n",
      "3    7\n",
      "4    9\n",
      "dtype: int64\n",
      "RangeIndex(start=0, stop=5, step=1)\n"
     ]
    }
   ],
   "source": [
    "print(s1)\n",
    "print(s1.index)"
   ]
  },
  {
   "cell_type": "code",
   "execution_count": 66,
   "id": "788d4ac4",
   "metadata": {},
   "outputs": [
    {
     "name": "stdout",
     "output_type": "stream",
     "text": [
      "0    1\n",
      "1    3\n",
      "2    5\n",
      "3    7\n",
      "4    9\n",
      "dtype: int64\n",
      "RangeIndex(start=0, stop=5, step=1)\n"
     ]
    }
   ],
   "source": [
    "print(s2)\n",
    "print(s2.index)"
   ]
  },
  {
   "cell_type": "code",
   "execution_count": 67,
   "id": "753cef5e",
   "metadata": {},
   "outputs": [
    {
     "name": "stdout",
     "output_type": "stream",
     "text": [
      "0     2\n",
      "1     6\n",
      "2    10\n",
      "3    14\n",
      "4    18\n",
      "dtype: int64\n",
      "RangeIndex(start=0, stop=5, step=1)\n"
     ]
    }
   ],
   "source": [
    "s3 = s1 + s2\n",
    "print(s3)\n",
    "print(s3.index)"
   ]
  },
  {
   "cell_type": "code",
   "execution_count": null,
   "id": "c948732c",
   "metadata": {},
   "outputs": [],
   "source": []
  },
  {
   "cell_type": "code",
   "execution_count": null,
   "id": "7bea2564",
   "metadata": {},
   "outputs": [],
   "source": []
  },
  {
   "cell_type": "code",
   "execution_count": null,
   "id": "3ded7bcb",
   "metadata": {},
   "outputs": [],
   "source": []
  },
  {
   "cell_type": "code",
   "execution_count": null,
   "id": "c386ef94",
   "metadata": {},
   "outputs": [],
   "source": []
  },
  {
   "cell_type": "code",
   "execution_count": null,
   "id": "c5554bb4",
   "metadata": {},
   "outputs": [],
   "source": []
  },
  {
   "cell_type": "code",
   "execution_count": null,
   "id": "835e7be4",
   "metadata": {},
   "outputs": [],
   "source": []
  },
  {
   "cell_type": "code",
   "execution_count": null,
   "id": "ac788ebc",
   "metadata": {},
   "outputs": [],
   "source": []
  },
  {
   "cell_type": "markdown",
   "id": "3e2db378",
   "metadata": {},
   "source": [
    "**Example 2:** Adding two series object having different integer indices"
   ]
  },
  {
   "cell_type": "code",
   "execution_count": 68,
   "id": "66e62e56",
   "metadata": {},
   "outputs": [],
   "source": [
    "list1 = [6,9,7,5]\n",
    "index1 = [0,1,2,3]\n",
    "list2 = [8,6,2,1]\n",
    "index2 = [0,2,3,5]\n",
    "s1 = pd.Series(data=list1, index=index1);\n",
    "s2 = pd.Series(data=list2, index=index2);"
   ]
  },
  {
   "cell_type": "code",
   "execution_count": 69,
   "id": "5919d832",
   "metadata": {},
   "outputs": [
    {
     "name": "stdout",
     "output_type": "stream",
     "text": [
      "0    6\n",
      "1    9\n",
      "2    7\n",
      "3    5\n",
      "dtype: int64\n",
      "Int64Index([0, 1, 2, 3], dtype='int64')\n"
     ]
    }
   ],
   "source": [
    "print(s1)\n",
    "print(s1.index)"
   ]
  },
  {
   "cell_type": "code",
   "execution_count": 71,
   "id": "ca5a5129",
   "metadata": {},
   "outputs": [
    {
     "name": "stdout",
     "output_type": "stream",
     "text": [
      "0    8\n",
      "2    6\n",
      "3    2\n",
      "5    1\n",
      "dtype: int64\n",
      "Int64Index([0, 2, 3, 5], dtype='int64')\n"
     ]
    }
   ],
   "source": [
    "print(s2)\n",
    "print(s2.index)"
   ]
  },
  {
   "cell_type": "code",
   "execution_count": 72,
   "id": "871fc971",
   "metadata": {},
   "outputs": [
    {
     "name": "stdout",
     "output_type": "stream",
     "text": [
      "0    14.0\n",
      "1     NaN\n",
      "2    13.0\n",
      "3     7.0\n",
      "5     NaN\n",
      "dtype: float64\n",
      "Int64Index([0, 1, 2, 3, 5], dtype='int64')\n"
     ]
    }
   ],
   "source": [
    "s3 = s1 + s2\n",
    "print(s3)\n",
    "print(s3.index)"
   ]
  },
  {
   "cell_type": "markdown",
   "id": "0dc94b75",
   "metadata": {},
   "source": [
    "**Problem:** While performing mathematical operations on series having mismatched indices, all missing values are filled in with NaN by default."
   ]
  },
  {
   "cell_type": "code",
   "execution_count": null,
   "id": "defbb4cb",
   "metadata": {},
   "outputs": [],
   "source": []
  },
  {
   "cell_type": "markdown",
   "id": "5890b468",
   "metadata": {},
   "source": [
    "**Solution:** To handle this problem, instead of using the operators (`+, -, *, /`), an explicit call to `s.add()`, `s.sub()`, `s.mul()` and `s.div()` is preferred. This allows us to replace the missing values in any of the series witth a specific value, so as to have a concrete output in place of NaN"
   ]
  },
  {
   "cell_type": "code",
   "execution_count": 73,
   "id": "2de7e8d0",
   "metadata": {},
   "outputs": [
    {
     "data": {
      "text/plain": [
       "0    14.0\n",
       "1     9.0\n",
       "2    13.0\n",
       "3     7.0\n",
       "5     1.0\n",
       "dtype: float64"
      ]
     },
     "execution_count": 73,
     "metadata": {},
     "output_type": "execute_result"
    }
   ],
   "source": [
    "s1.add(s2, fill_value=0) # Compare it with above result"
   ]
  },
  {
   "cell_type": "code",
   "execution_count": null,
   "id": "885c2265",
   "metadata": {},
   "outputs": [],
   "source": []
  },
  {
   "cell_type": "code",
   "execution_count": null,
   "id": "19717ed7",
   "metadata": {},
   "outputs": [],
   "source": []
  },
  {
   "cell_type": "code",
   "execution_count": null,
   "id": "a1e75906",
   "metadata": {},
   "outputs": [],
   "source": []
  },
  {
   "cell_type": "code",
   "execution_count": null,
   "id": "02b1d7c8",
   "metadata": {},
   "outputs": [],
   "source": []
  },
  {
   "cell_type": "code",
   "execution_count": null,
   "id": "854410fe",
   "metadata": {},
   "outputs": [],
   "source": []
  },
  {
   "cell_type": "code",
   "execution_count": null,
   "id": "db9cd84e",
   "metadata": {},
   "outputs": [],
   "source": []
  },
  {
   "cell_type": "code",
   "execution_count": null,
   "id": "682e1f94",
   "metadata": {},
   "outputs": [],
   "source": []
  },
  {
   "cell_type": "markdown",
   "id": "cf9c2aac",
   "metadata": {},
   "source": [
    "**Example 3:** Adding two series object having different string indices"
   ]
  },
  {
   "cell_type": "code",
   "execution_count": 74,
   "id": "8e7704fc",
   "metadata": {},
   "outputs": [],
   "source": [
    "list1 = [6,9,7,5, 2]\n",
    "labels1 = ['num1', 'num2', 'num3', 'num4', 'num5']\n",
    "\n",
    "list2 = [8,6,2,3,6]\n",
    "labels2 = ['num1', 'num2', 'num3', 'num8', 'num5']\n",
    "\n",
    "s1 = pd.Series(data=list1, index=labels1)\n",
    "s2 = pd.Series(data=list2, index=labels2)\n"
   ]
  },
  {
   "cell_type": "code",
   "execution_count": 75,
   "id": "c300583c",
   "metadata": {},
   "outputs": [
    {
     "name": "stdout",
     "output_type": "stream",
     "text": [
      "num1    6\n",
      "num2    9\n",
      "num3    7\n",
      "num4    5\n",
      "num5    2\n",
      "dtype: int64\n",
      "Index(['num1', 'num2', 'num3', 'num4', 'num5'], dtype='object')\n"
     ]
    }
   ],
   "source": [
    "print(s1)\n",
    "print(s1.index)"
   ]
  },
  {
   "cell_type": "code",
   "execution_count": 76,
   "id": "c55c3331",
   "metadata": {},
   "outputs": [
    {
     "name": "stdout",
     "output_type": "stream",
     "text": [
      "num1    8\n",
      "num2    6\n",
      "num3    2\n",
      "num8    3\n",
      "num5    6\n",
      "dtype: int64\n",
      "Index(['num1', 'num2', 'num3', 'num8', 'num5'], dtype='object')\n"
     ]
    }
   ],
   "source": [
    "print(s2)\n",
    "print(s2.index)"
   ]
  },
  {
   "cell_type": "code",
   "execution_count": 77,
   "id": "ec478667",
   "metadata": {},
   "outputs": [
    {
     "name": "stdout",
     "output_type": "stream",
     "text": [
      "num1    14.0\n",
      "num2    15.0\n",
      "num3     9.0\n",
      "num4     5.0\n",
      "num5     8.0\n",
      "num8     3.0\n",
      "dtype: float64\n",
      "Index(['num1', 'num2', 'num3', 'num4', 'num5', 'num8'], dtype='object')\n"
     ]
    }
   ],
   "source": [
    "# Let us use the `add()` method\n",
    "#s1+s2\n",
    "s3 = s1.add(s2, fill_value=0)\n",
    "print(s3)\n",
    "print(s3.index)"
   ]
  },
  {
   "cell_type": "code",
   "execution_count": null,
   "id": "ab14e78c",
   "metadata": {},
   "outputs": [],
   "source": []
  },
  {
   "cell_type": "code",
   "execution_count": null,
   "id": "fbf436be",
   "metadata": {},
   "outputs": [],
   "source": []
  },
  {
   "cell_type": "code",
   "execution_count": null,
   "id": "71fab575",
   "metadata": {},
   "outputs": [],
   "source": []
  },
  {
   "cell_type": "markdown",
   "id": "bf470aef",
   "metadata": {},
   "source": [
    "**My dear students, I am skipping following topics for Pandas Series objectswill discuss following topics while studying Pandas Dataframe object:**\n",
    "- Boolean/Fancy Indexing and Slicing\n",
    "- Use of `reset_index()` method for completely resetting the index\n",
    "- Use of other manipulation methods like `pop()`, `drop()` `append()`, and `update()` will be discussed while studying Pandas Dataframe object\n",
    "\n",
    ">**We will discuss these while studying Pandas Dataframe object InshaAllah**"
   ]
  },
  {
   "cell_type": "code",
   "execution_count": null,
   "id": "7214c9fd",
   "metadata": {},
   "outputs": [],
   "source": []
  },
  {
   "cell_type": "code",
   "execution_count": null,
   "id": "1d83dd0b",
   "metadata": {},
   "outputs": [],
   "source": []
  },
  {
   "cell_type": "code",
   "execution_count": null,
   "id": "37405e5c",
   "metadata": {},
   "outputs": [],
   "source": []
  },
  {
   "cell_type": "code",
   "execution_count": null,
   "id": "c73f204f",
   "metadata": {},
   "outputs": [],
   "source": []
  },
  {
   "cell_type": "markdown",
   "id": "e50d5209",
   "metadata": {},
   "source": [
    "# Pandas Series vs NumPy 1-D Arrays\n",
    ">- In a series object we can define our own labeled index to access elements of an array. These can be numbers or strings. NumPy arrays are accessed  by their integer position using numbers only.\n",
    ">- In a series object the elements can be indexed in descending order also. In NumPy arrays, the indexing starts with zero for the first element and the index is fixed.\n",
    ">- While performing arithmetic operations on series having misaligned indices, NaN or missing values may be generated. In NumPy arrays, the concept of broadcasting exist and there is no concept of NaN values. While performing arithmetic on incompatible numPy arrays the operation fails.\n",
    ">- Series require more memory. NumPy arrays occupies lesser memory.\n",
    "    \n",
    "    "
   ]
  },
  {
   "cell_type": "code",
   "execution_count": null,
   "id": "2c63885d",
   "metadata": {},
   "outputs": [],
   "source": []
  },
  {
   "cell_type": "code",
   "execution_count": null,
   "id": "a3e6fafb",
   "metadata": {},
   "outputs": [],
   "source": []
  }
 ],
 "metadata": {
  "kernelspec": {
   "display_name": "Python 3 (ipykernel)",
   "language": "python",
   "name": "python3"
  },
  "language_info": {
   "codemirror_mode": {
    "name": "ipython",
    "version": 3
   },
   "file_extension": ".py",
   "mimetype": "text/x-python",
   "name": "python",
   "nbconvert_exporter": "python",
   "pygments_lexer": "ipython3",
   "version": "3.8.10"
  }
 },
 "nbformat": 4,
 "nbformat_minor": 5
}
