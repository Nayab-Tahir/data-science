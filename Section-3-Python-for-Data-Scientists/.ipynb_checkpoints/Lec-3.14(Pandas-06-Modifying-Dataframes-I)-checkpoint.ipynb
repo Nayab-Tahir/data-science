{
 "cells": [
  {
   "cell_type": "markdown",
   "id": "4a87b5ef",
   "metadata": {},
   "source": [
    "---   \n",
    " <img align=\"left\" width=\"75\" height=\"75\"  src=\"https://upload.wikimedia.org/wikipedia/en/c/c8/University_of_the_Punjab_logo.png\"> \n",
    "\n",
    "<h1 align=\"center\">Department of Data Science</h1>\n",
    "<h1 align=\"center\">Course: Tools and Techniques for Data Science</h1>\n",
    "\n",
    "---\n",
    "<h3><div align=\"right\">Instructor: Muhammad Arif Butt, Ph.D.</div></h3>    "
   ]
  },
  {
   "cell_type": "markdown",
   "id": "ab0dc25c",
   "metadata": {},
   "source": [
    "<h1 align=\"center\">Lecture 3.14 (Pandas-06)</h1>"
   ]
  },
  {
   "cell_type": "markdown",
   "id": "19f82705",
   "metadata": {},
   "source": [
    "<img align=\"right\" width=\"400\" height=\"400\"  src=\"images/pandas-apps.png\"  >\n",
    "\n",
    "## _Modifying Dataframes Part-I_"
   ]
  },
  {
   "cell_type": "code",
   "execution_count": null,
   "id": "29077002",
   "metadata": {},
   "outputs": [],
   "source": [
    "# To install this library in Jupyter notebook\n",
    "#import sys\n",
    "#!{sys.executable} -m pip install pandas"
   ]
  },
  {
   "cell_type": "code",
   "execution_count": null,
   "id": "9c0b2727",
   "metadata": {},
   "outputs": [],
   "source": [
    "import pandas as pd\n",
    "pd.__version__ , pd.__path__"
   ]
  },
  {
   "cell_type": "code",
   "execution_count": null,
   "id": "ca007acb",
   "metadata": {},
   "outputs": [],
   "source": []
  },
  {
   "cell_type": "code",
   "execution_count": null,
   "id": "7bdeb1c8",
   "metadata": {},
   "outputs": [],
   "source": []
  },
  {
   "cell_type": "code",
   "execution_count": null,
   "id": "4456b458",
   "metadata": {},
   "outputs": [],
   "source": []
  },
  {
   "cell_type": "markdown",
   "id": "12db95e1",
   "metadata": {},
   "source": [
    "## Learning agenda of this notebook\n",
    "1. Modifying Column labels of Dataframe\n",
    "2. Modifying Row indices of Dataframe\n",
    "3. Modifying Row(s) Data (Records) of a Dataframe\n",
    "   - Modifying a single Row\n",
    "   - Modifying multiple Rows\n",
    "       - `map()` Method\n",
    "       - `df.remove()` Method\n",
    "       - `df.apply()` Method\n",
    "       - `df.applymap()` Method"
   ]
  },
  {
   "cell_type": "code",
   "execution_count": null,
   "id": "5f29d5eb",
   "metadata": {},
   "outputs": [],
   "source": []
  },
  {
   "cell_type": "code",
   "execution_count": null,
   "id": "c2d9e4d8",
   "metadata": {},
   "outputs": [],
   "source": []
  },
  {
   "cell_type": "code",
   "execution_count": null,
   "id": "2efd78e9",
   "metadata": {},
   "outputs": [],
   "source": []
  },
  {
   "cell_type": "code",
   "execution_count": null,
   "id": "c0a73c2f",
   "metadata": {},
   "outputs": [],
   "source": []
  },
  {
   "cell_type": "code",
   "execution_count": null,
   "id": "162aea4b",
   "metadata": {},
   "outputs": [],
   "source": []
  },
  {
   "cell_type": "code",
   "execution_count": null,
   "id": "e1a693f3",
   "metadata": {},
   "outputs": [],
   "source": []
  },
  {
   "cell_type": "markdown",
   "id": "73464b5a",
   "metadata": {},
   "source": [
    "##  Read a Sample Dataframe"
   ]
  },
  {
   "cell_type": "code",
   "execution_count": null,
   "id": "6914759c",
   "metadata": {},
   "outputs": [],
   "source": [
    "import pandas as pd\n",
    "df = pd.read_csv('datasets/groupdata.csv')\n",
    "df.head()"
   ]
  },
  {
   "cell_type": "code",
   "execution_count": null,
   "id": "f48af20d",
   "metadata": {},
   "outputs": [],
   "source": [
    "# `shape` attribute of a dataframe object return a two value tuple containing rows and columns\n",
    "# Note the rows count does not include the column labels and column count does not include the row index\n",
    "df.shape"
   ]
  },
  {
   "cell_type": "code",
   "execution_count": null,
   "id": "8c00cc7d",
   "metadata": {},
   "outputs": [],
   "source": [
    "# `index` attribute of a dataframe object return the list of row indices and its datatype\n",
    "df.index"
   ]
  },
  {
   "cell_type": "code",
   "execution_count": null,
   "id": "b8a7fc1b",
   "metadata": {},
   "outputs": [],
   "source": [
    "# `columns` attribute of a dataframe object return the list of column labels and its datatype\n",
    "df.columns"
   ]
  },
  {
   "cell_type": "code",
   "execution_count": null,
   "id": "899d087f",
   "metadata": {},
   "outputs": [],
   "source": [
    "# `dtypes` attribute of a dataframe object return the data type of each column in the dataframe\n",
    "df.dtypes"
   ]
  },
  {
   "cell_type": "code",
   "execution_count": null,
   "id": "c86a7a72",
   "metadata": {},
   "outputs": [],
   "source": []
  },
  {
   "cell_type": "code",
   "execution_count": null,
   "id": "942690a1",
   "metadata": {},
   "outputs": [],
   "source": []
  },
  {
   "cell_type": "code",
   "execution_count": null,
   "id": "d3f59e86",
   "metadata": {},
   "outputs": [],
   "source": []
  },
  {
   "cell_type": "code",
   "execution_count": null,
   "id": "2db3ebbb",
   "metadata": {},
   "outputs": [],
   "source": []
  },
  {
   "cell_type": "code",
   "execution_count": null,
   "id": "776d872f",
   "metadata": {},
   "outputs": [],
   "source": []
  },
  {
   "cell_type": "code",
   "execution_count": null,
   "id": "24af77d1",
   "metadata": {},
   "outputs": [],
   "source": []
  },
  {
   "cell_type": "code",
   "execution_count": null,
   "id": "846b966a",
   "metadata": {},
   "outputs": [],
   "source": []
  },
  {
   "cell_type": "markdown",
   "id": "5cc6dae4",
   "metadata": {},
   "source": [
    "## 1. Modifying Column Names of a Dataframe\n",
    "- Every dataframe has column labels associated with its columns\n",
    "- These by default are integer values from 0,1,2,3...\n",
    "- However, while creating a dataframe from scratch, or while reading them from a file you can set them to more meaningful string values.\n",
    "- While reading from csv file the first row in the file is taken as the column labels\n",
    "- We can change the column labels, if we want\n",
    "- Let us practically see this for better understanding"
   ]
  },
  {
   "cell_type": "code",
   "execution_count": null,
   "id": "81a7d7d3",
   "metadata": {},
   "outputs": [],
   "source": [
    "! cat datasets/groupdatawithoutcollables.csv"
   ]
  },
  {
   "cell_type": "code",
   "execution_count": null,
   "id": "96a9cf31",
   "metadata": {},
   "outputs": [],
   "source": []
  },
  {
   "cell_type": "code",
   "execution_count": null,
   "id": "65131297",
   "metadata": {},
   "outputs": [],
   "source": []
  },
  {
   "cell_type": "code",
   "execution_count": null,
   "id": "8c430dc6",
   "metadata": {},
   "outputs": [],
   "source": []
  },
  {
   "cell_type": "code",
   "execution_count": null,
   "id": "4408e47b",
   "metadata": {},
   "outputs": [],
   "source": []
  },
  {
   "cell_type": "code",
   "execution_count": null,
   "id": "973cec39",
   "metadata": {},
   "outputs": [],
   "source": []
  },
  {
   "cell_type": "code",
   "execution_count": null,
   "id": "bc3314df",
   "metadata": {},
   "outputs": [],
   "source": []
  },
  {
   "cell_type": "markdown",
   "id": "6a8c8924",
   "metadata": {},
   "source": [
    "### a. While Reading a Dataset in a Dataframe\n",
    "- Pass a List of column names to `names` argument of `pd.read_csv()` method"
   ]
  },
  {
   "cell_type": "code",
   "execution_count": null,
   "id": "62b72b08",
   "metadata": {},
   "outputs": [],
   "source": [
    "df = pd.read_csv('datasets/groupdatawithoutcollables.csv', names = ['roll no', 'name', 'age', 'address', 'session', \n",
    "                                                                'group', 'gender','subj1', 'subj2', 'scholarship'])\n",
    "\n",
    "df.head(3)"
   ]
  },
  {
   "cell_type": "code",
   "execution_count": null,
   "id": "23c74655",
   "metadata": {},
   "outputs": [],
   "source": []
  },
  {
   "cell_type": "code",
   "execution_count": null,
   "id": "cb95c044",
   "metadata": {},
   "outputs": [],
   "source": []
  },
  {
   "cell_type": "code",
   "execution_count": null,
   "id": "2da24a30",
   "metadata": {},
   "outputs": [],
   "source": []
  },
  {
   "cell_type": "code",
   "execution_count": null,
   "id": "7c278f53",
   "metadata": {},
   "outputs": [],
   "source": []
  },
  {
   "cell_type": "code",
   "execution_count": null,
   "id": "e7f23de3",
   "metadata": {},
   "outputs": [],
   "source": []
  },
  {
   "cell_type": "code",
   "execution_count": null,
   "id": "49ea4238",
   "metadata": {},
   "outputs": [],
   "source": []
  },
  {
   "cell_type": "code",
   "execution_count": null,
   "id": "aa5bd254",
   "metadata": {},
   "outputs": [],
   "source": []
  },
  {
   "cell_type": "code",
   "execution_count": null,
   "id": "4c2660f6",
   "metadata": {},
   "outputs": [],
   "source": []
  },
  {
   "cell_type": "markdown",
   "id": "b77fcfe7",
   "metadata": {},
   "source": [
    "### b. After Dataframe is Loaded (Use `columns` attribute of dataframe)"
   ]
  },
  {
   "cell_type": "code",
   "execution_count": null,
   "id": "8523eb8d",
   "metadata": {},
   "outputs": [],
   "source": [
    "df = pd.read_csv('datasets/groupdatawithoutcollables.csv', header = None)\n",
    "df.head(3)"
   ]
  },
  {
   "cell_type": "code",
   "execution_count": null,
   "id": "b1f7ec9a",
   "metadata": {},
   "outputs": [],
   "source": [
    "df.columns = ['roll no', 'name', 'age', 'address', 'session', 'group', 'gender', 'subj1', 'subj2', 'scholarship']\n",
    "df.head(3)"
   ]
  },
  {
   "cell_type": "code",
   "execution_count": null,
   "id": "40195d2c",
   "metadata": {},
   "outputs": [],
   "source": []
  },
  {
   "cell_type": "code",
   "execution_count": null,
   "id": "4812237d",
   "metadata": {},
   "outputs": [],
   "source": []
  },
  {
   "cell_type": "code",
   "execution_count": null,
   "id": "9f2c3654",
   "metadata": {},
   "outputs": [],
   "source": []
  },
  {
   "cell_type": "code",
   "execution_count": null,
   "id": "483429cb",
   "metadata": {},
   "outputs": [],
   "source": []
  },
  {
   "cell_type": "code",
   "execution_count": null,
   "id": "2a85f43d",
   "metadata": {},
   "outputs": [],
   "source": []
  },
  {
   "cell_type": "code",
   "execution_count": null,
   "id": "b820899a",
   "metadata": {},
   "outputs": [],
   "source": []
  },
  {
   "cell_type": "code",
   "execution_count": null,
   "id": "2fc69a49",
   "metadata": {},
   "outputs": [],
   "source": []
  },
  {
   "cell_type": "code",
   "execution_count": null,
   "id": "f61060e0",
   "metadata": {},
   "outputs": [],
   "source": []
  },
  {
   "cell_type": "markdown",
   "id": "245f0d9f",
   "metadata": {},
   "source": [
    ">- Suppose we have a dataframe in which there are certain column labels having spaces in between the names.\n",
    ">- We want to rename all such columns by replacing the space character with an underscore\n",
    ">- One way to do this is call `replace()` method of String class on all the column names of dataframe"
   ]
  },
  {
   "cell_type": "code",
   "execution_count": null,
   "id": "1f54be50",
   "metadata": {},
   "outputs": [],
   "source": [
    "df.columns"
   ]
  },
  {
   "cell_type": "code",
   "execution_count": null,
   "id": "607b9dd0",
   "metadata": {},
   "outputs": [],
   "source": [
    "df.columns.str.replace(' ', '_')"
   ]
  },
  {
   "cell_type": "code",
   "execution_count": null,
   "id": "8fbbf61f",
   "metadata": {},
   "outputs": [],
   "source": [
    "df.columns = df.columns.str.replace(' ', '_')"
   ]
  },
  {
   "cell_type": "code",
   "execution_count": null,
   "id": "7e2929b0",
   "metadata": {},
   "outputs": [],
   "source": [
    "df.columns"
   ]
  },
  {
   "cell_type": "code",
   "execution_count": null,
   "id": "e099b68e",
   "metadata": {},
   "outputs": [],
   "source": []
  },
  {
   "cell_type": "code",
   "execution_count": null,
   "id": "0a51e26b",
   "metadata": {},
   "outputs": [],
   "source": []
  },
  {
   "cell_type": "code",
   "execution_count": null,
   "id": "5d920a9e",
   "metadata": {},
   "outputs": [],
   "source": []
  },
  {
   "cell_type": "markdown",
   "id": "c7fc9bde",
   "metadata": {},
   "source": [
    ">- Suppose we have a dataframe in which there are column labels having names in different cases.\n",
    ">- We want to rename all such columns such that the names are all lower or all upper case.\n",
    ">- One way to do this is to generate a new list as per the requirement using List comprehension."
   ]
  },
  {
   "cell_type": "code",
   "execution_count": null,
   "id": "fcd1431a",
   "metadata": {},
   "outputs": [],
   "source": [
    "list1 = [x.upper() for x in df.columns]\n",
    "list1"
   ]
  },
  {
   "cell_type": "code",
   "execution_count": null,
   "id": "92b2e1a3",
   "metadata": {},
   "outputs": [],
   "source": [
    "df.columns = list1\n",
    "df.head(3)"
   ]
  },
  {
   "cell_type": "code",
   "execution_count": null,
   "id": "67ef966e",
   "metadata": {},
   "outputs": [],
   "source": []
  },
  {
   "cell_type": "code",
   "execution_count": null,
   "id": "9b9cda1f",
   "metadata": {},
   "outputs": [],
   "source": []
  },
  {
   "cell_type": "code",
   "execution_count": null,
   "id": "8149b3b9",
   "metadata": {},
   "outputs": [],
   "source": []
  },
  {
   "cell_type": "code",
   "execution_count": null,
   "id": "400ac883",
   "metadata": {},
   "outputs": [],
   "source": []
  },
  {
   "cell_type": "code",
   "execution_count": null,
   "id": "3ce045cf",
   "metadata": {},
   "outputs": [],
   "source": []
  },
  {
   "cell_type": "code",
   "execution_count": null,
   "id": "ca7b1328",
   "metadata": {},
   "outputs": [],
   "source": []
  },
  {
   "cell_type": "markdown",
   "id": "d5e388c9",
   "metadata": {},
   "source": [
    "### c. After Dataframe is Loaded (Use `df.rename()` method)\n",
    "- What if your dataframe has lots and lots of columns having appropriate column names, and you just want to change just one or two column names and not all of them.\n",
    "- Use `df.rename()` method to modify one or more column names to new one\n",
    "```\n",
    "df.rename(mapper, axis=None, inplace=False)\n",
    "```\n",
    "- Where,\n",
    "    - `mapper`: can be a dictionary having comma separated key:value pairs, where, key is the old column name, while the value is the new column name\n",
    "    - `axis`: If you want to change the column names use axis = 1 (column axis that moves from left to right)\n",
    "    - `inplace`: If you want this change to occur inplace make this argument True, in which case the method will return None"
   ]
  },
  {
   "cell_type": "code",
   "execution_count": null,
   "id": "01c9b321",
   "metadata": {},
   "outputs": [],
   "source": [
    "df = pd.read_csv('datasets/groupdata.csv')\n",
    "df.head(3)"
   ]
  },
  {
   "cell_type": "code",
   "execution_count": null,
   "id": "b8e0a405",
   "metadata": {},
   "outputs": [],
   "source": [
    "#Since the inplace argument is by default False, so the rename() method will return a new dataframe\n",
    "df.rename(mapper={'roll no': 'rollno'}, axis=1)"
   ]
  },
  {
   "cell_type": "code",
   "execution_count": null,
   "id": "9e64955e",
   "metadata": {},
   "outputs": [],
   "source": [
    "df.columns"
   ]
  },
  {
   "cell_type": "code",
   "execution_count": null,
   "id": "68b1215a",
   "metadata": {},
   "outputs": [],
   "source": [
    "#Since the inplace argument is now set to True, so the rename() method will return None\n",
    "#however, the `df` will be changed\n",
    "df.rename(mapper={'roll no': 'rollno'}, axis=1, inplace=True)"
   ]
  },
  {
   "cell_type": "code",
   "execution_count": null,
   "id": "d517045f",
   "metadata": {},
   "outputs": [],
   "source": [
    "df.columns"
   ]
  },
  {
   "cell_type": "code",
   "execution_count": null,
   "id": "acdca369",
   "metadata": {},
   "outputs": [],
   "source": []
  },
  {
   "cell_type": "code",
   "execution_count": null,
   "id": "86f3a3d0",
   "metadata": {},
   "outputs": [],
   "source": []
  },
  {
   "cell_type": "code",
   "execution_count": null,
   "id": "39df39db",
   "metadata": {},
   "outputs": [],
   "source": []
  },
  {
   "cell_type": "code",
   "execution_count": null,
   "id": "dacab45e",
   "metadata": {},
   "outputs": [],
   "source": []
  },
  {
   "cell_type": "code",
   "execution_count": null,
   "id": "cf88d228",
   "metadata": {},
   "outputs": [],
   "source": []
  },
  {
   "cell_type": "code",
   "execution_count": null,
   "id": "323554fd",
   "metadata": {},
   "outputs": [],
   "source": []
  },
  {
   "cell_type": "code",
   "execution_count": null,
   "id": "5a84096b",
   "metadata": {},
   "outputs": [],
   "source": []
  },
  {
   "cell_type": "markdown",
   "id": "ca6f31e3",
   "metadata": {},
   "source": [
    "## 2. Modifying Row Indices of a Dataframe\n",
    "- Every dataframe has row index associated with every row, normally are integer values from 0,1,2,3...\n",
    "- After you have sliced a datafreame on a condition or sorted a dataframe, these row indices will be randomized.\n",
    "- We have seen in detail in our previous session the two methods namely `df.set_index()` and `df.reset_index()`, to handle this issue."
   ]
  },
  {
   "cell_type": "code",
   "execution_count": null,
   "id": "e188d523",
   "metadata": {},
   "outputs": [],
   "source": []
  },
  {
   "cell_type": "code",
   "execution_count": null,
   "id": "42628f09",
   "metadata": {},
   "outputs": [],
   "source": []
  },
  {
   "cell_type": "code",
   "execution_count": null,
   "id": "90ef3500",
   "metadata": {},
   "outputs": [],
   "source": []
  },
  {
   "cell_type": "code",
   "execution_count": null,
   "id": "79000a15",
   "metadata": {},
   "outputs": [],
   "source": []
  },
  {
   "cell_type": "code",
   "execution_count": null,
   "id": "2cf5b5d7",
   "metadata": {},
   "outputs": [],
   "source": []
  },
  {
   "cell_type": "markdown",
   "id": "0d66a0b7",
   "metadata": {},
   "source": [
    "## 3. Modifying Data of a Single Row/Record of a Dataframe"
   ]
  },
  {
   "cell_type": "code",
   "execution_count": null,
   "id": "8b374f27",
   "metadata": {},
   "outputs": [],
   "source": [
    "df = pd.read_csv('datasets/groupdata.csv')\n",
    "df.head(3)"
   ]
  },
  {
   "cell_type": "code",
   "execution_count": null,
   "id": "f173af21",
   "metadata": {},
   "outputs": [],
   "source": []
  },
  {
   "cell_type": "code",
   "execution_count": null,
   "id": "646315f5",
   "metadata": {},
   "outputs": [],
   "source": []
  },
  {
   "cell_type": "code",
   "execution_count": null,
   "id": "da0f8542",
   "metadata": {},
   "outputs": [],
   "source": []
  },
  {
   "cell_type": "code",
   "execution_count": null,
   "id": "326184dd",
   "metadata": {},
   "outputs": [],
   "source": []
  },
  {
   "cell_type": "code",
   "execution_count": null,
   "id": "ccb8dbb5",
   "metadata": {},
   "outputs": [],
   "source": []
  },
  {
   "cell_type": "markdown",
   "id": "ab874052",
   "metadata": {},
   "source": [
    "### a.  Grep the row/record you want to modify\n",
    "Let us suppose we want to change the `subj1` and `subj2` marks of Shaista"
   ]
  },
  {
   "cell_type": "code",
   "execution_count": null,
   "id": "4437b197",
   "metadata": {},
   "outputs": [],
   "source": [
    "# Returns a Series object\n",
    "df.loc[2,:]"
   ]
  },
  {
   "cell_type": "code",
   "execution_count": null,
   "id": "f80d1c9e",
   "metadata": {},
   "outputs": [],
   "source": [
    "# Returns a Dataframe object\n",
    "df.loc[df.name=='Shaista', :]"
   ]
  },
  {
   "cell_type": "code",
   "execution_count": null,
   "id": "b1ffbdf9",
   "metadata": {},
   "outputs": [],
   "source": []
  },
  {
   "cell_type": "markdown",
   "id": "0b457b3b",
   "metadata": {},
   "source": [
    "### b.  Option 1:\n",
    "- One way is to pass a new list of values and assign it to the appropriate series (row)"
   ]
  },
  {
   "cell_type": "code",
   "execution_count": null,
   "id": "8ffa376a",
   "metadata": {},
   "outputs": [],
   "source": [
    "# Any of the following two LOC will work\n",
    "df.loc[2,:] = ['MS03', 'Shaista', 35, 'Karachi', 'AFTERNOON', 'group B', 'Female', 99, 99, 8500.0]\n",
    "df.loc[df.name=='Shaista', :] = ['MS03', 'Shaista', 35, 'Karachi', 'AFTERNOON', 'group B', 'Female', 99, 99, 8500.0]\n",
    "df.head(3)"
   ]
  },
  {
   "cell_type": "code",
   "execution_count": null,
   "id": "63ad2084",
   "metadata": {},
   "outputs": [],
   "source": []
  },
  {
   "cell_type": "code",
   "execution_count": null,
   "id": "dcc60079",
   "metadata": {},
   "outputs": [],
   "source": []
  },
  {
   "cell_type": "code",
   "execution_count": null,
   "id": "9f8a7b45",
   "metadata": {},
   "outputs": [],
   "source": []
  },
  {
   "cell_type": "code",
   "execution_count": null,
   "id": "57f4927c",
   "metadata": {},
   "outputs": [],
   "source": []
  },
  {
   "cell_type": "code",
   "execution_count": null,
   "id": "a27edb7e",
   "metadata": {},
   "outputs": [],
   "source": []
  },
  {
   "cell_type": "code",
   "execution_count": null,
   "id": "9ada9aaf",
   "metadata": {},
   "outputs": [],
   "source": []
  },
  {
   "cell_type": "code",
   "execution_count": null,
   "id": "55dcaf87",
   "metadata": {},
   "outputs": [],
   "source": []
  },
  {
   "cell_type": "markdown",
   "id": "da44dcc2",
   "metadata": {},
   "source": [
    "### c.  Option 2:\n",
    "- A better way is to assign only those two values that we want to change instead of assigning the complete list of values in that row"
   ]
  },
  {
   "cell_type": "code",
   "execution_count": null,
   "id": "578eb3ae",
   "metadata": {},
   "outputs": [],
   "source": [
    "# Returns a series\n",
    "df.loc[2, ['subj1', 'subj2']] "
   ]
  },
  {
   "cell_type": "code",
   "execution_count": null,
   "id": "9d4fdeae",
   "metadata": {},
   "outputs": [],
   "source": [
    "# Returns a dataframe\n",
    "df.loc[df.name=='Shaista', ['subj1', 'subj2']]"
   ]
  },
  {
   "cell_type": "code",
   "execution_count": null,
   "id": "a134245a",
   "metadata": {},
   "outputs": [],
   "source": [
    "df.loc[2, ['subj1', 'subj2']] = [100, 100]\n",
    "df.loc[df.name=='Shaista', ['subj1', 'subj2']] = [100, 100]\n",
    "df.head(3)"
   ]
  },
  {
   "cell_type": "code",
   "execution_count": null,
   "id": "dca30c2e",
   "metadata": {},
   "outputs": [],
   "source": []
  },
  {
   "cell_type": "markdown",
   "id": "1614e432",
   "metadata": {},
   "source": [
    "**Note: You can also use `df.iloc[]` method instead of `df.loc[]` to change multiple or single value of a row. Other than these two you may also try using `df.at[]` method to change a single value of a row.**\n",
    "```\n",
    "df.loc[filter, 'column(s)'] = 'value(s)'\n",
    "```"
   ]
  },
  {
   "cell_type": "code",
   "execution_count": null,
   "id": "19ad884d",
   "metadata": {},
   "outputs": [],
   "source": []
  },
  {
   "cell_type": "code",
   "execution_count": null,
   "id": "c8c5c2ef",
   "metadata": {},
   "outputs": [],
   "source": []
  },
  {
   "cell_type": "code",
   "execution_count": null,
   "id": "31063bff",
   "metadata": {},
   "outputs": [],
   "source": []
  },
  {
   "cell_type": "code",
   "execution_count": null,
   "id": "ac169003",
   "metadata": {},
   "outputs": [],
   "source": []
  },
  {
   "cell_type": "code",
   "execution_count": null,
   "id": "fc0ef9db",
   "metadata": {},
   "outputs": [],
   "source": []
  },
  {
   "cell_type": "markdown",
   "id": "22806e44",
   "metadata": {},
   "source": [
    "## 4. Modify Data of Multiple Rows and \n",
    "- Uptill now we have learnt to modify a single, multiple or all the values of a single row in a dataframe.\n",
    "- What if we want to modify multiple rows at a time?\n",
    "- The following methods will come for your rescue:\n",
    "    - `map()`\n",
    "    - `df.remove()`\n",
    "    - `df.apply()`\n",
    "    - `df.applymap()`"
   ]
  },
  {
   "cell_type": "code",
   "execution_count": null,
   "id": "2a4f1591",
   "metadata": {},
   "outputs": [],
   "source": []
  },
  {
   "cell_type": "code",
   "execution_count": null,
   "id": "6b05fbf2",
   "metadata": {},
   "outputs": [],
   "source": []
  },
  {
   "cell_type": "code",
   "execution_count": null,
   "id": "a9d30f12",
   "metadata": {},
   "outputs": [],
   "source": []
  },
  {
   "cell_type": "code",
   "execution_count": null,
   "id": "fa212818",
   "metadata": {},
   "outputs": [],
   "source": []
  },
  {
   "cell_type": "markdown",
   "id": "cd93d75e",
   "metadata": {},
   "source": [
    "### a. The Python Built-in `map()` Method\n",
    "- The ```map(aFunction, *iterables)``` function simply returns a map object after applying  `aFunction()` to all the elements of `iterable(s)`. \n",
    "- Later you can type cast the map object to appropriate data structure\n",
    "- The original iterable(s) remains unchanged. "
   ]
  },
  {
   "cell_type": "code",
   "execution_count": null,
   "id": "9b6bf957",
   "metadata": {},
   "outputs": [],
   "source": [
    "import pandas as pd\n",
    "df = pd.read_csv('datasets/groupdata.csv')\n",
    "df.head(3)"
   ]
  },
  {
   "cell_type": "markdown",
   "id": "881bc68b",
   "metadata": {},
   "source": [
    "**Example:** Using built-in function with `map()`"
   ]
  },
  {
   "cell_type": "code",
   "execution_count": null,
   "id": "65cb5dd4",
   "metadata": {},
   "outputs": [],
   "source": [
    "# Passing a Series object (a column of dataframe) to map() as argument\n",
    "# The Python built-in `len()` function is applied to all the values of name column and return a map object\n",
    "map(len, df['name'])"
   ]
  },
  {
   "cell_type": "code",
   "execution_count": null,
   "id": "34203752",
   "metadata": {},
   "outputs": [],
   "source": [
    "# Type cast the map object to Series\n",
    "pd.Series(map(len, df['name']))"
   ]
  },
  {
   "cell_type": "code",
   "execution_count": null,
   "id": "c3d3f625",
   "metadata": {},
   "outputs": [],
   "source": [
    "# Another way is to call the map() method by a Series object using dot notation\n",
    "df['name'].map(len)"
   ]
  },
  {
   "cell_type": "code",
   "execution_count": null,
   "id": "a96e3ece",
   "metadata": {},
   "outputs": [],
   "source": []
  },
  {
   "cell_type": "code",
   "execution_count": null,
   "id": "923f99ac",
   "metadata": {},
   "outputs": [],
   "source": []
  },
  {
   "cell_type": "code",
   "execution_count": null,
   "id": "b4cbd935",
   "metadata": {},
   "outputs": [],
   "source": []
  },
  {
   "cell_type": "code",
   "execution_count": null,
   "id": "6491f364",
   "metadata": {},
   "outputs": [],
   "source": []
  },
  {
   "cell_type": "code",
   "execution_count": null,
   "id": "a43a1f8d",
   "metadata": {},
   "outputs": [],
   "source": []
  },
  {
   "cell_type": "code",
   "execution_count": null,
   "id": "73b1094e",
   "metadata": {},
   "outputs": [],
   "source": []
  },
  {
   "cell_type": "code",
   "execution_count": null,
   "id": "20b8ee75",
   "metadata": {},
   "outputs": [],
   "source": []
  },
  {
   "cell_type": "code",
   "execution_count": null,
   "id": "02165afa",
   "metadata": {},
   "outputs": [],
   "source": []
  },
  {
   "cell_type": "markdown",
   "id": "b2136f4c",
   "metadata": {},
   "source": [
    "**Example:** Using a user-defined function with `map()`"
   ]
  },
  {
   "cell_type": "code",
   "execution_count": null,
   "id": "d9a2a056",
   "metadata": {},
   "outputs": [],
   "source": [
    "df = pd.read_csv('datasets/groupdata.csv')\n",
    "df.head(3)"
   ]
  },
  {
   "cell_type": "code",
   "execution_count": null,
   "id": "70d5e443",
   "metadata": {},
   "outputs": [],
   "source": [
    "# Let us pass a user-defined function\n",
    "def myfunc(x):\n",
    "    if (x <= 50):\n",
    "        return \"Young\"\n",
    "    else:\n",
    "        return \"Old\"\n",
    "\n",
    "df['age'].map(myfunc)"
   ]
  },
  {
   "cell_type": "code",
   "execution_count": null,
   "id": "b91e659c",
   "metadata": {},
   "outputs": [],
   "source": [
    "# If you want to save this as a new column in the dataframe you can do that\n",
    "df['newcol'] = df['age'].map(myfunc)"
   ]
  },
  {
   "cell_type": "code",
   "execution_count": null,
   "id": "d741e353",
   "metadata": {},
   "outputs": [],
   "source": [
    "df.head()"
   ]
  },
  {
   "cell_type": "code",
   "execution_count": null,
   "id": "63161f88",
   "metadata": {},
   "outputs": [],
   "source": []
  },
  {
   "cell_type": "code",
   "execution_count": null,
   "id": "a6e30b64",
   "metadata": {},
   "outputs": [],
   "source": []
  },
  {
   "cell_type": "code",
   "execution_count": null,
   "id": "6b0b49f6",
   "metadata": {},
   "outputs": [],
   "source": []
  },
  {
   "cell_type": "code",
   "execution_count": null,
   "id": "5d14120b",
   "metadata": {},
   "outputs": [],
   "source": []
  },
  {
   "cell_type": "code",
   "execution_count": null,
   "id": "72e748cc",
   "metadata": {},
   "outputs": [],
   "source": []
  },
  {
   "cell_type": "markdown",
   "id": "91d41121",
   "metadata": {},
   "source": [
    "**Example:** Using a Lambda function with `map()`"
   ]
  },
  {
   "cell_type": "code",
   "execution_count": null,
   "id": "234ff79b",
   "metadata": {},
   "outputs": [],
   "source": [
    "df['age'].map(lambda x: \"Young\" if x<=50 else \"Old\")"
   ]
  },
  {
   "cell_type": "code",
   "execution_count": null,
   "id": "741de9e7",
   "metadata": {},
   "outputs": [],
   "source": []
  },
  {
   "cell_type": "code",
   "execution_count": null,
   "id": "19791570",
   "metadata": {},
   "outputs": [],
   "source": []
  },
  {
   "cell_type": "code",
   "execution_count": null,
   "id": "9158df78",
   "metadata": {},
   "outputs": [],
   "source": []
  },
  {
   "cell_type": "code",
   "execution_count": null,
   "id": "5a766818",
   "metadata": {},
   "outputs": [],
   "source": []
  },
  {
   "cell_type": "markdown",
   "id": "6e4f1a2b",
   "metadata": {},
   "source": [
    "**Example:** Using a Dictionary with `map()`"
   ]
  },
  {
   "cell_type": "code",
   "execution_count": null,
   "id": "908daab4",
   "metadata": {},
   "outputs": [],
   "source": [
    "df = pd.read_csv('datasets/groupdata.csv')\n",
    "df.head()"
   ]
  },
  {
   "cell_type": "code",
   "execution_count": null,
   "id": "1a719d7c",
   "metadata": {},
   "outputs": [],
   "source": [
    "df['session'].map({'MORNING':'M', 'AFTERNOON':'A'})"
   ]
  },
  {
   "cell_type": "markdown",
   "id": "87abf27c",
   "metadata": {},
   "source": [
    ">**Limitations of `map()` Method**\n",
    ">- If there are values for which there is no match, the old values are changed and have become NaN. Solution is use `df.remove()` method\n",
    ">- You can use it on an iterable or Series object not with entire dataframe. Solution is use `df.apply()` and `df.applymap()`"
   ]
  },
  {
   "cell_type": "markdown",
   "id": "a58ead30",
   "metadata": {},
   "source": [
    "### b. The `df.replace()` Method\n",
    "- The `df.replace()` method is used to replace values given in `to_replace` with `value`\n",
    "- The matching values in the entire dataframe are replaced with new values dynamically.\n",
    "- This differs from updating with ``.loc`` or ``.iloc``, which require you to specify a location to update with some value.\n",
    "\n",
    "```\n",
    "df.replace(to_replace, value, inplace=False)\n",
    "```"
   ]
  },
  {
   "cell_type": "code",
   "execution_count": null,
   "id": "419efc68",
   "metadata": {},
   "outputs": [],
   "source": [
    "df = pd.read_csv('datasets/groupdata.csv')\n",
    "df.head()"
   ]
  },
  {
   "cell_type": "code",
   "execution_count": null,
   "id": "abeba402",
   "metadata": {},
   "outputs": [],
   "source": [
    "df['session'].replace({'MORNING':'M', 'AFTERNOON':'A'})"
   ]
  },
  {
   "cell_type": "markdown",
   "id": "f0655714",
   "metadata": {},
   "source": [
    ">- Note that now there are no NaN values, rather the values that do not have a match remains as such\n",
    ">- Another important point is `replace()` method works equally well with dataframe"
   ]
  },
  {
   "cell_type": "code",
   "execution_count": null,
   "id": "c91cd3da",
   "metadata": {},
   "outputs": [],
   "source": [
    "# Calling replace on entire dataframe\n",
    "df.replace({'MORNING':'M', 'AFTERNOON':'A', 'group A':'GROUP-A'})"
   ]
  },
  {
   "cell_type": "code",
   "execution_count": null,
   "id": "e24a55f2",
   "metadata": {},
   "outputs": [],
   "source": []
  },
  {
   "cell_type": "code",
   "execution_count": null,
   "id": "78ca4c2e",
   "metadata": {},
   "outputs": [],
   "source": []
  },
  {
   "cell_type": "code",
   "execution_count": null,
   "id": "533456da",
   "metadata": {},
   "outputs": [],
   "source": []
  },
  {
   "cell_type": "code",
   "execution_count": null,
   "id": "292a8c86",
   "metadata": {},
   "outputs": [],
   "source": []
  },
  {
   "cell_type": "code",
   "execution_count": null,
   "id": "33f64c58",
   "metadata": {},
   "outputs": [],
   "source": []
  },
  {
   "cell_type": "code",
   "execution_count": null,
   "id": "996c6ff7",
   "metadata": {},
   "outputs": [],
   "source": []
  },
  {
   "cell_type": "markdown",
   "id": "163c7161",
   "metadata": {},
   "source": [
    "### c. The `df.apply()` Method\n",
    "- The `df.apply()` method is used to run a function along the mentioned axis of the dataframe. \n",
    "- In simple words, `apply()` method runs a function on all the elements of a series of a dataframe\n",
    "\n",
    "```\n",
    "df.apply(func, axis=0, args)\n",
    "```\n",
    "- Where,\n",
    "    - `func`: It can be a built-in, user-defined or a lambda function that is applied to every series of the dataframe as per the axis argument. (Objects passed to the func are series objects)\n",
    "    - `axis`: The default value of axis argument is zero, so the func is applied to each column. If you want to apply the func to the values of a row, mention axis as one.\n",
    "    - `args` : If you want to pass additional arguments to `func` in addition to the element of series, you can pass them as a tuple."
   ]
  },
  {
   "cell_type": "code",
   "execution_count": null,
   "id": "8ba6146d",
   "metadata": {},
   "outputs": [],
   "source": [
    "import pandas as pd\n",
    "df = pd.read_csv('datasets/groupdata.csv')\n",
    "df.head(3)"
   ]
  },
  {
   "cell_type": "code",
   "execution_count": null,
   "id": "d04dd0c2",
   "metadata": {},
   "outputs": [],
   "source": [
    "# Let us pass the built-in function `len()` and compute the length of each name under the name column of df\n",
    "# So now the len() method is applied to all the values of a single column and return a series object\n",
    "df['name'].apply(len)"
   ]
  },
  {
   "cell_type": "code",
   "execution_count": null,
   "id": "1d0e18cc",
   "metadata": {},
   "outputs": [],
   "source": []
  },
  {
   "cell_type": "code",
   "execution_count": null,
   "id": "b9d1b200",
   "metadata": {},
   "outputs": [],
   "source": []
  },
  {
   "cell_type": "code",
   "execution_count": null,
   "id": "dfebf714",
   "metadata": {},
   "outputs": [],
   "source": [
    "# Let us pass a user-defined function, with an additional argument as well. This was not possible with map() method\n",
    "def myfunc(x, age):\n",
    "    if (x <= age):\n",
    "        return \"Young\"\n",
    "    else:\n",
    "        return \"Old\"\n",
    "\n",
    "df['age'].apply(myfunc, args = (50,))"
   ]
  },
  {
   "cell_type": "code",
   "execution_count": null,
   "id": "f61cf709",
   "metadata": {},
   "outputs": [],
   "source": []
  },
  {
   "cell_type": "code",
   "execution_count": null,
   "id": "a7a86fe4",
   "metadata": {},
   "outputs": [],
   "source": []
  },
  {
   "cell_type": "code",
   "execution_count": null,
   "id": "6a36ac97",
   "metadata": {},
   "outputs": [],
   "source": []
  },
  {
   "cell_type": "code",
   "execution_count": null,
   "id": "5de1dbdb",
   "metadata": {},
   "outputs": [],
   "source": []
  },
  {
   "cell_type": "code",
   "execution_count": null,
   "id": "174c7f23",
   "metadata": {},
   "outputs": [],
   "source": []
  },
  {
   "cell_type": "code",
   "execution_count": null,
   "id": "34028461",
   "metadata": {},
   "outputs": [],
   "source": [
    "# Let us use Lambda function to convert each name under the name column of df to upper case\n",
    "df['name'].apply(lambda x : x.upper())"
   ]
  },
  {
   "cell_type": "code",
   "execution_count": null,
   "id": "8dd799eb",
   "metadata": {},
   "outputs": [],
   "source": []
  },
  {
   "cell_type": "code",
   "execution_count": null,
   "id": "08764bf6",
   "metadata": {},
   "outputs": [],
   "source": []
  },
  {
   "cell_type": "code",
   "execution_count": null,
   "id": "e6ece708",
   "metadata": {},
   "outputs": [],
   "source": []
  },
  {
   "cell_type": "code",
   "execution_count": null,
   "id": "940698ab",
   "metadata": {},
   "outputs": [],
   "source": []
  },
  {
   "cell_type": "code",
   "execution_count": null,
   "id": "f46807d4",
   "metadata": {},
   "outputs": [],
   "source": [
    "# If you are satisfied with the result, you may assign it to the specific column\n",
    "df['name'] = df['name'].apply(lambda x : x.upper())"
   ]
  },
  {
   "cell_type": "code",
   "execution_count": null,
   "id": "036f4676",
   "metadata": {},
   "outputs": [],
   "source": [
    "# Verify\n",
    "df.head(3)"
   ]
  },
  {
   "cell_type": "code",
   "execution_count": null,
   "id": "f0ac3511",
   "metadata": {},
   "outputs": [],
   "source": []
  },
  {
   "cell_type": "code",
   "execution_count": null,
   "id": "63a122b3",
   "metadata": {},
   "outputs": [],
   "source": []
  },
  {
   "cell_type": "code",
   "execution_count": null,
   "id": "f3671684",
   "metadata": {},
   "outputs": [],
   "source": []
  },
  {
   "cell_type": "code",
   "execution_count": null,
   "id": "2b2ddc5e",
   "metadata": {},
   "outputs": [],
   "source": []
  },
  {
   "cell_type": "code",
   "execution_count": null,
   "id": "2b4fd6c9",
   "metadata": {},
   "outputs": [],
   "source": []
  },
  {
   "cell_type": "code",
   "execution_count": null,
   "id": "059305e8",
   "metadata": {},
   "outputs": [],
   "source": []
  },
  {
   "cell_type": "code",
   "execution_count": null,
   "id": "f656ada6",
   "metadata": {},
   "outputs": [],
   "source": [
    "# Can anyone guess what this LOC will do?\n",
    "df['subj1'] = df['subj1'].apply(lambda x : x+5)"
   ]
  },
  {
   "cell_type": "code",
   "execution_count": null,
   "id": "101bc6b1",
   "metadata": {},
   "outputs": [],
   "source": [
    "df.head(3)"
   ]
  },
  {
   "cell_type": "code",
   "execution_count": null,
   "id": "abefe135",
   "metadata": {},
   "outputs": [],
   "source": []
  },
  {
   "cell_type": "code",
   "execution_count": null,
   "id": "3a6f83a0",
   "metadata": {},
   "outputs": [],
   "source": []
  },
  {
   "cell_type": "code",
   "execution_count": null,
   "id": "95e52b89",
   "metadata": {},
   "outputs": [],
   "source": []
  },
  {
   "cell_type": "code",
   "execution_count": null,
   "id": "97836444",
   "metadata": {},
   "outputs": [],
   "source": []
  },
  {
   "cell_type": "code",
   "execution_count": null,
   "id": "a791375c",
   "metadata": {},
   "outputs": [],
   "source": []
  },
  {
   "cell_type": "markdown",
   "id": "af40d0e6",
   "metadata": {},
   "source": [
    ">Uptill now we have applied the `df.apply()` method on a specific column of a dataframe. Let us apply it on a row of dataframe"
   ]
  },
  {
   "cell_type": "code",
   "execution_count": null,
   "id": "42297637",
   "metadata": {},
   "outputs": [],
   "source": [
    "# Since we have different dtypes in each row, so let us create a dataframe hving numeric columns only\n",
    "df = pd.read_csv('datasets/groupdata.csv')\n",
    "df_numeric = df.loc[:,['age','subj1','subj2','scholarship']]"
   ]
  },
  {
   "cell_type": "code",
   "execution_count": null,
   "id": "686e4ba0",
   "metadata": {},
   "outputs": [],
   "source": [
    "df_numeric.head()"
   ]
  },
  {
   "cell_type": "code",
   "execution_count": null,
   "id": "c11ff67f",
   "metadata": {},
   "outputs": [],
   "source": []
  },
  {
   "cell_type": "code",
   "execution_count": null,
   "id": "bea6865c",
   "metadata": {},
   "outputs": [],
   "source": []
  },
  {
   "cell_type": "code",
   "execution_count": null,
   "id": "be1781b0",
   "metadata": {
    "scrolled": true
   },
   "outputs": [],
   "source": [
    "# Although not much meaningful, let us add a number to each value of the row\n",
    "df_numeric.loc[0].apply(lambda x : x+5)"
   ]
  },
  {
   "cell_type": "code",
   "execution_count": null,
   "id": "dce4b6c7",
   "metadata": {},
   "outputs": [],
   "source": [
    "# If you want to commit this to the datafream you can do that "
   ]
  },
  {
   "cell_type": "code",
   "execution_count": null,
   "id": "d9b0e9b7",
   "metadata": {},
   "outputs": [],
   "source": [
    "df_numeric.loc[0] = df_numeric.loc[0].apply(lambda x : x+5)"
   ]
  },
  {
   "cell_type": "code",
   "execution_count": null,
   "id": "37fdfdbe",
   "metadata": {},
   "outputs": [],
   "source": [
    "df_numeric.head()"
   ]
  },
  {
   "cell_type": "code",
   "execution_count": null,
   "id": "157d25eb",
   "metadata": {},
   "outputs": [],
   "source": []
  },
  {
   "cell_type": "code",
   "execution_count": null,
   "id": "80cf8a36",
   "metadata": {},
   "outputs": [],
   "source": []
  },
  {
   "cell_type": "code",
   "execution_count": null,
   "id": "0e8d22e1",
   "metadata": {},
   "outputs": [],
   "source": []
  },
  {
   "cell_type": "code",
   "execution_count": null,
   "id": "44cc2859",
   "metadata": {},
   "outputs": [],
   "source": []
  },
  {
   "cell_type": "markdown",
   "id": "bd0ea695",
   "metadata": {},
   "source": [
    ">Let us use the `df.apply()` method on entire dataframe"
   ]
  },
  {
   "cell_type": "code",
   "execution_count": null,
   "id": "a3b94ebc",
   "metadata": {},
   "outputs": [],
   "source": [
    "df.apply(min)"
   ]
  },
  {
   "cell_type": "code",
   "execution_count": null,
   "id": "777ee890",
   "metadata": {},
   "outputs": [],
   "source": [
    "min(df['subj1'])"
   ]
  },
  {
   "cell_type": "markdown",
   "id": "95cc5dc1",
   "metadata": {},
   "source": [
    "The `min()` function has been applied on each column of the dataframe and for each column the minimum value has been computed and the `df.apply()` method has returned a Series object"
   ]
  },
  {
   "cell_type": "code",
   "execution_count": null,
   "id": "3dda80b4",
   "metadata": {},
   "outputs": [],
   "source": []
  },
  {
   "cell_type": "code",
   "execution_count": null,
   "id": "b832ee96",
   "metadata": {},
   "outputs": [],
   "source": []
  },
  {
   "cell_type": "code",
   "execution_count": null,
   "id": "c66ddff9",
   "metadata": {},
   "outputs": [],
   "source": []
  },
  {
   "cell_type": "markdown",
   "id": "9eb7892d",
   "metadata": {},
   "source": [
    "### b. The `df.applymap()` Method\n",
    "- The `df.map()` method applies a function to datafreame elementwise.\n",
    "\n",
    "```\n",
    "df.applymap(func, axis=0)\n",
    "```\n",
    "- Where,\n",
    "    - `func`: A function that is passed a single value and returns a single value.\n",
    "    \n",
    "Note: A Series object do not have a `applymap()` method, so you cannot call it with a Series object"
   ]
  },
  {
   "cell_type": "code",
   "execution_count": null,
   "id": "15dabb09",
   "metadata": {},
   "outputs": [],
   "source": [
    "df = pd.read_csv('datasets/groupdata.csv')\n",
    "df_string = df.loc[:,['roll no','name','address','session', 'group', 'gender']]\n",
    "df_numeric = df.loc[:,['age','subj1','subj2','scholarship']]"
   ]
  },
  {
   "cell_type": "code",
   "execution_count": null,
   "id": "9b5b49bf",
   "metadata": {},
   "outputs": [],
   "source": []
  },
  {
   "cell_type": "code",
   "execution_count": null,
   "id": "b2868128",
   "metadata": {},
   "outputs": [],
   "source": []
  },
  {
   "cell_type": "code",
   "execution_count": null,
   "id": "b0122589",
   "metadata": {},
   "outputs": [],
   "source": []
  },
  {
   "cell_type": "code",
   "execution_count": null,
   "id": "d6c90e7f",
   "metadata": {},
   "outputs": [],
   "source": [
    "df_string.head()"
   ]
  },
  {
   "cell_type": "code",
   "execution_count": null,
   "id": "13271d72",
   "metadata": {},
   "outputs": [],
   "source": [
    "df_string.applymap(str.upper).head()"
   ]
  },
  {
   "cell_type": "code",
   "execution_count": null,
   "id": "a140b1c3",
   "metadata": {},
   "outputs": [],
   "source": []
  },
  {
   "cell_type": "code",
   "execution_count": null,
   "id": "92d3f2dc",
   "metadata": {},
   "outputs": [],
   "source": []
  },
  {
   "cell_type": "code",
   "execution_count": null,
   "id": "208b9fd4",
   "metadata": {},
   "outputs": [],
   "source": []
  },
  {
   "cell_type": "code",
   "execution_count": null,
   "id": "07ced308",
   "metadata": {},
   "outputs": [],
   "source": [
    "df_numeric.head(5)"
   ]
  },
  {
   "cell_type": "code",
   "execution_count": null,
   "id": "6e14f875",
   "metadata": {},
   "outputs": [],
   "source": [
    "# The applymap() method will apply the len function on each element of dataframe \n",
    "df_numeric.applymap(lambda x : x+5).head(5)"
   ]
  },
  {
   "cell_type": "code",
   "execution_count": null,
   "id": "561ebf36",
   "metadata": {},
   "outputs": [],
   "source": []
  },
  {
   "cell_type": "code",
   "execution_count": null,
   "id": "5278c848",
   "metadata": {},
   "outputs": [],
   "source": []
  },
  {
   "cell_type": "code",
   "execution_count": null,
   "id": "65e630d4",
   "metadata": {},
   "outputs": [],
   "source": []
  },
  {
   "cell_type": "code",
   "execution_count": null,
   "id": "b94ae184",
   "metadata": {},
   "outputs": [],
   "source": []
  }
 ],
 "metadata": {
  "kernelspec": {
   "display_name": "Python 3 (ipykernel)",
   "language": "python",
   "name": "python3"
  },
  "language_info": {
   "codemirror_mode": {
    "name": "ipython",
    "version": 3
   },
   "file_extension": ".py",
   "mimetype": "text/x-python",
   "name": "python",
   "nbconvert_exporter": "python",
   "pygments_lexer": "ipython3",
   "version": "3.8.10"
  }
 },
 "nbformat": 4,
 "nbformat_minor": 5
}
