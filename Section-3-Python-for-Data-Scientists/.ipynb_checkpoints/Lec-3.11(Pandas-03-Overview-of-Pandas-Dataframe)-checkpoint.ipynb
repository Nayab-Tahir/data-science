{
 "cells": [
  {
   "cell_type": "markdown",
   "id": "4a87b5ef",
   "metadata": {},
   "source": [
    "---   \n",
    " <img align=\"left\" width=\"75\" height=\"75\"  src=\"https://upload.wikimedia.org/wikipedia/en/c/c8/University_of_the_Punjab_logo.png\"> \n",
    "\n",
    "<h1 align=\"center\">Department of Data Science</h1>\n",
    "<h1 align=\"center\">Course: Tools and Techniques for Data Science</h1>\n",
    "\n",
    "---\n",
    "<h3><div align=\"right\">Instructor: Muhammad Arif Butt, Ph.D.</div></h3>    "
   ]
  },
  {
   "cell_type": "markdown",
   "id": "ab0dc25c",
   "metadata": {},
   "source": [
    "<h1 align=\"center\">Lecture 3.11 (Pandas-03)</h1>"
   ]
  },
  {
   "cell_type": "markdown",
   "id": "19f82705",
   "metadata": {},
   "source": [
    "<img align=\"right\" width=\"400\" height=\"400\"  src=\"images/pandas-apps.png\"  >\n",
    "\n",
    "## _Overview of Pandas Dataframe Data Structure_"
   ]
  },
  {
   "cell_type": "markdown",
   "id": "4c4a18fd",
   "metadata": {},
   "source": [
    "#### Read about Pandas Data Structures: https://pandas.pydata.org/docs/user_guide/dsintro.html#dsintro"
   ]
  },
  {
   "cell_type": "code",
   "execution_count": null,
   "id": "7a8cb713",
   "metadata": {},
   "outputs": [],
   "source": []
  },
  {
   "cell_type": "code",
   "execution_count": null,
   "id": "bb848f9d",
   "metadata": {},
   "outputs": [],
   "source": []
  },
  {
   "cell_type": "code",
   "execution_count": null,
   "id": "a6a7da4a",
   "metadata": {},
   "outputs": [],
   "source": []
  },
  {
   "cell_type": "code",
   "execution_count": null,
   "id": "a660071a",
   "metadata": {},
   "outputs": [],
   "source": []
  },
  {
   "cell_type": "code",
   "execution_count": null,
   "id": "8b7d8bf2",
   "metadata": {},
   "outputs": [],
   "source": []
  },
  {
   "cell_type": "code",
   "execution_count": null,
   "id": "b60a276b",
   "metadata": {},
   "outputs": [],
   "source": []
  },
  {
   "cell_type": "code",
   "execution_count": null,
   "id": "a932d2cd",
   "metadata": {},
   "outputs": [],
   "source": []
  },
  {
   "cell_type": "code",
   "execution_count": null,
   "id": "31fc4ed9",
   "metadata": {},
   "outputs": [],
   "source": []
  },
  {
   "cell_type": "markdown",
   "id": "9727124d",
   "metadata": {},
   "source": [
    "## Learning agenda of this notebook\n",
    "1. Anatomy of a Dataframe\n",
    "2. Creating Dataframe\n",
    "    - An empty dataframe\n",
    "    - Two-Dimensional NumPy Array\n",
    "    - Dictionary of Python Lists\n",
    "    - Dictionary of Panda Series\n",
    "2. Attributes of a Dataframe\n",
    "3. Bonus"
   ]
  },
  {
   "cell_type": "code",
   "execution_count": 1,
   "id": "c2831c56",
   "metadata": {},
   "outputs": [],
   "source": [
    "# To install this library in Jupyter notebook\n",
    "#import sys\n",
    "#!{sys.executable} -m pip install pandas"
   ]
  },
  {
   "cell_type": "code",
   "execution_count": 3,
   "id": "dba905d0",
   "metadata": {},
   "outputs": [
    {
     "data": {
      "text/plain": [
       "('1.3.4',\n",
       " ['/Library/Frameworks/Python.framework/Versions/3.8/lib/python3.8/site-packages/pandas'])"
      ]
     },
     "execution_count": 3,
     "metadata": {},
     "output_type": "execute_result"
    }
   ],
   "source": [
    "import pandas as pd\n",
    "pd.__version__ , pd.__path__"
   ]
  },
  {
   "cell_type": "code",
   "execution_count": null,
   "id": "f0c8f172",
   "metadata": {},
   "outputs": [],
   "source": []
  },
  {
   "cell_type": "code",
   "execution_count": null,
   "id": "effa5981",
   "metadata": {},
   "outputs": [],
   "source": []
  },
  {
   "cell_type": "code",
   "execution_count": null,
   "id": "43ca81eb",
   "metadata": {},
   "outputs": [],
   "source": []
  },
  {
   "cell_type": "code",
   "execution_count": null,
   "id": "e6b5f3a6",
   "metadata": {},
   "outputs": [],
   "source": []
  },
  {
   "cell_type": "code",
   "execution_count": null,
   "id": "88a306ac",
   "metadata": {},
   "outputs": [],
   "source": []
  },
  {
   "cell_type": "markdown",
   "id": "99a7442e",
   "metadata": {},
   "source": [
    "<img align=\"right\" width=\"500\" height=\"500\"  src=\"images/pandas00.png\"  >\n",
    "\n",
    "## 1. Creating a Dataframe\n",
    "<br><br>\n",
    ">**A Pandas Dataframe is a two-dimensional labeled data structure (like SQL table) with heterogeneously typed columns, having both a row and a column index.**\n",
    "\n",
    "<br><br><br><br>\n",
    "\n",
    "**```pd.DataFrame(data=None, index=None, columns=None, dtype=None)```**\n",
    "- Where,\n",
    "   - `data`: It can be a 2-D NumPy Array, a Dictionary of Python Lists, or a Dictionary of Panda Series (You can also create a dataframe from a file in CSV, Excel, JSON, HTML format or may be from a database table as well).\n",
    "   - `index`: These are the row indices. Will default to RangeIndex (0, 1, 2, ..., n), if index argument is not passed and no indexing information is part of input data.\n",
    "   - `columns`: These are the column indices or labels. Will default to RangeIndex (0, 1, 2, ..., n), if index argument is not passed and no indexing information is part of input data.\n",
    "   - `dtype`: Data type to force. Only a single dtype is allowed. If None, infer."
   ]
  },
  {
   "cell_type": "code",
   "execution_count": null,
   "id": "117228e0",
   "metadata": {},
   "outputs": [],
   "source": []
  },
  {
   "cell_type": "code",
   "execution_count": null,
   "id": "b7c99c79",
   "metadata": {},
   "outputs": [],
   "source": []
  },
  {
   "cell_type": "code",
   "execution_count": null,
   "id": "95177ec2",
   "metadata": {},
   "outputs": [],
   "source": []
  },
  {
   "cell_type": "code",
   "execution_count": null,
   "id": "b3ab50bb",
   "metadata": {},
   "outputs": [],
   "source": []
  },
  {
   "cell_type": "code",
   "execution_count": null,
   "id": "ff6ca294",
   "metadata": {},
   "outputs": [],
   "source": []
  },
  {
   "cell_type": "markdown",
   "id": "d7273559",
   "metadata": {},
   "source": [
    "### a. Creating an Empty Dataframe"
   ]
  },
  {
   "cell_type": "code",
   "execution_count": 4,
   "id": "7b9f2409",
   "metadata": {},
   "outputs": [
    {
     "name": "stdout",
     "output_type": "stream",
     "text": [
      "Empty DataFrame\n",
      "Columns: []\n",
      "Index: []\n"
     ]
    }
   ],
   "source": [
    "import pandas as pd\n",
    "import numpy as np\n",
    "df = pd.DataFrame()\n",
    "print(df)"
   ]
  },
  {
   "cell_type": "code",
   "execution_count": null,
   "id": "adf6151f",
   "metadata": {},
   "outputs": [],
   "source": []
  },
  {
   "cell_type": "code",
   "execution_count": null,
   "id": "8c5d39df",
   "metadata": {},
   "outputs": [],
   "source": []
  },
  {
   "cell_type": "markdown",
   "id": "bc846b98",
   "metadata": {},
   "source": [
    "### b. Creating a Dataframe from a 2-D NumPy Array"
   ]
  },
  {
   "cell_type": "code",
   "execution_count": 5,
   "id": "c002856d",
   "metadata": {},
   "outputs": [
    {
     "name": "stdout",
     "output_type": "stream",
     "text": [
      "Numpy Array:\n",
      " [[91 25 46 89 43]\n",
      " [17 48 70 14 42]\n",
      " [54 27 72 67 10]\n",
      " [86 95 41 30 68]\n",
      " [91 60 69 84 30]\n",
      " [25 91 87 96 27]]\n",
      "Pandas Dataframe:\n",
      "     0   1   2   3   4\n",
      "0  91  25  46  89  43\n",
      "1  17  48  70  14  42\n",
      "2  54  27  72  67  10\n",
      "3  86  95  41  30  68\n",
      "4  91  60  69  84  30\n",
      "5  25  91  87  96  27\n"
     ]
    }
   ],
   "source": [
    "arr = np.random.randint(10,100, size= (6,5))\n",
    "print(\"Numpy Array:\\n\",arr)\n",
    "\n",
    "df = pd.DataFrame(data=arr)\n",
    "print(\"Pandas Dataframe:\\n\",df)"
   ]
  },
  {
   "cell_type": "markdown",
   "id": "6810f5a0",
   "metadata": {},
   "source": [
    "- Note that both the row indices and the column labels/indices are implicitly set to numerical values from 0 to n-1, since neither of the two is provided while creating the dataframe object. They are also not considered as part of data in the dataframe.\n",
    "- In majority of the cases the row label is left as default, i.e., 0,1,2,3.... However, the column labels are changed from 0,1,2,3,... to some meaningful values."
   ]
  },
  {
   "cell_type": "code",
   "execution_count": null,
   "id": "45cc7af4",
   "metadata": {},
   "outputs": [],
   "source": []
  },
  {
   "cell_type": "code",
   "execution_count": null,
   "id": "ac575877",
   "metadata": {},
   "outputs": [],
   "source": []
  },
  {
   "cell_type": "code",
   "execution_count": null,
   "id": "45413af0",
   "metadata": {},
   "outputs": [],
   "source": []
  },
  {
   "cell_type": "code",
   "execution_count": null,
   "id": "49edf302",
   "metadata": {},
   "outputs": [],
   "source": []
  },
  {
   "cell_type": "code",
   "execution_count": null,
   "id": "f80abfa4",
   "metadata": {},
   "outputs": [],
   "source": []
  },
  {
   "cell_type": "code",
   "execution_count": null,
   "id": "354845ed",
   "metadata": {},
   "outputs": [],
   "source": []
  },
  {
   "cell_type": "code",
   "execution_count": 6,
   "id": "e30fb823",
   "metadata": {},
   "outputs": [
    {
     "data": {
      "text/html": [
       "<div>\n",
       "<style scoped>\n",
       "    .dataframe tbody tr th:only-of-type {\n",
       "        vertical-align: middle;\n",
       "    }\n",
       "\n",
       "    .dataframe tbody tr th {\n",
       "        vertical-align: top;\n",
       "    }\n",
       "\n",
       "    .dataframe thead th {\n",
       "        text-align: right;\n",
       "    }\n",
       "</style>\n",
       "<table border=\"1\" class=\"dataframe\">\n",
       "  <thead>\n",
       "    <tr style=\"text-align: right;\">\n",
       "      <th></th>\n",
       "      <th>Col1</th>\n",
       "      <th>Col2</th>\n",
       "      <th>Col3</th>\n",
       "      <th>Col4</th>\n",
       "      <th>Col5</th>\n",
       "    </tr>\n",
       "  </thead>\n",
       "  <tbody>\n",
       "    <tr>\n",
       "      <th>0</th>\n",
       "      <td>91</td>\n",
       "      <td>25</td>\n",
       "      <td>46</td>\n",
       "      <td>89</td>\n",
       "      <td>43</td>\n",
       "    </tr>\n",
       "    <tr>\n",
       "      <th>1</th>\n",
       "      <td>17</td>\n",
       "      <td>48</td>\n",
       "      <td>70</td>\n",
       "      <td>14</td>\n",
       "      <td>42</td>\n",
       "    </tr>\n",
       "    <tr>\n",
       "      <th>2</th>\n",
       "      <td>54</td>\n",
       "      <td>27</td>\n",
       "      <td>72</td>\n",
       "      <td>67</td>\n",
       "      <td>10</td>\n",
       "    </tr>\n",
       "    <tr>\n",
       "      <th>3</th>\n",
       "      <td>86</td>\n",
       "      <td>95</td>\n",
       "      <td>41</td>\n",
       "      <td>30</td>\n",
       "      <td>68</td>\n",
       "    </tr>\n",
       "    <tr>\n",
       "      <th>4</th>\n",
       "      <td>91</td>\n",
       "      <td>60</td>\n",
       "      <td>69</td>\n",
       "      <td>84</td>\n",
       "      <td>30</td>\n",
       "    </tr>\n",
       "    <tr>\n",
       "      <th>5</th>\n",
       "      <td>25</td>\n",
       "      <td>91</td>\n",
       "      <td>87</td>\n",
       "      <td>96</td>\n",
       "      <td>27</td>\n",
       "    </tr>\n",
       "  </tbody>\n",
       "</table>\n",
       "</div>"
      ],
      "text/plain": [
       "   Col1  Col2  Col3  Col4  Col5\n",
       "0    91    25    46    89    43\n",
       "1    17    48    70    14    42\n",
       "2    54    27    72    67    10\n",
       "3    86    95    41    30    68\n",
       "4    91    60    69    84    30\n",
       "5    25    91    87    96    27"
      ]
     },
     "execution_count": 6,
     "metadata": {},
     "output_type": "execute_result"
    }
   ],
   "source": [
    "# Let us name the column labels of our choice, while creating it\n",
    "col_labels=['Col1', 'Col2', 'Col3', 'Col4', 'Col5']\n",
    "df = pd.DataFrame(data=arr, columns=col_labels)\n",
    "df"
   ]
  },
  {
   "cell_type": "code",
   "execution_count": null,
   "id": "b24bc59c",
   "metadata": {},
   "outputs": [],
   "source": []
  },
  {
   "cell_type": "code",
   "execution_count": null,
   "id": "7886dbfc",
   "metadata": {},
   "outputs": [],
   "source": []
  },
  {
   "cell_type": "code",
   "execution_count": null,
   "id": "756f359d",
   "metadata": {},
   "outputs": [],
   "source": []
  },
  {
   "cell_type": "code",
   "execution_count": null,
   "id": "1d58d8e7",
   "metadata": {},
   "outputs": [],
   "source": []
  },
  {
   "cell_type": "code",
   "execution_count": null,
   "id": "f362c1df",
   "metadata": {},
   "outputs": [],
   "source": []
  },
  {
   "cell_type": "code",
   "execution_count": 7,
   "id": "faace9e7",
   "metadata": {},
   "outputs": [
    {
     "data": {
      "text/html": [
       "<div>\n",
       "<style scoped>\n",
       "    .dataframe tbody tr th:only-of-type {\n",
       "        vertical-align: middle;\n",
       "    }\n",
       "\n",
       "    .dataframe tbody tr th {\n",
       "        vertical-align: top;\n",
       "    }\n",
       "\n",
       "    .dataframe thead th {\n",
       "        text-align: right;\n",
       "    }\n",
       "</style>\n",
       "<table border=\"1\" class=\"dataframe\">\n",
       "  <thead>\n",
       "    <tr style=\"text-align: right;\">\n",
       "      <th></th>\n",
       "      <th>0</th>\n",
       "      <th>1</th>\n",
       "      <th>2</th>\n",
       "      <th>3</th>\n",
       "      <th>4</th>\n",
       "    </tr>\n",
       "  </thead>\n",
       "  <tbody>\n",
       "    <tr>\n",
       "      <th>Row0</th>\n",
       "      <td>91</td>\n",
       "      <td>25</td>\n",
       "      <td>46</td>\n",
       "      <td>89</td>\n",
       "      <td>43</td>\n",
       "    </tr>\n",
       "    <tr>\n",
       "      <th>Row1</th>\n",
       "      <td>17</td>\n",
       "      <td>48</td>\n",
       "      <td>70</td>\n",
       "      <td>14</td>\n",
       "      <td>42</td>\n",
       "    </tr>\n",
       "    <tr>\n",
       "      <th>Row2</th>\n",
       "      <td>54</td>\n",
       "      <td>27</td>\n",
       "      <td>72</td>\n",
       "      <td>67</td>\n",
       "      <td>10</td>\n",
       "    </tr>\n",
       "    <tr>\n",
       "      <th>Row3</th>\n",
       "      <td>86</td>\n",
       "      <td>95</td>\n",
       "      <td>41</td>\n",
       "      <td>30</td>\n",
       "      <td>68</td>\n",
       "    </tr>\n",
       "    <tr>\n",
       "      <th>Row4</th>\n",
       "      <td>91</td>\n",
       "      <td>60</td>\n",
       "      <td>69</td>\n",
       "      <td>84</td>\n",
       "      <td>30</td>\n",
       "    </tr>\n",
       "    <tr>\n",
       "      <th>Row5</th>\n",
       "      <td>25</td>\n",
       "      <td>91</td>\n",
       "      <td>87</td>\n",
       "      <td>96</td>\n",
       "      <td>27</td>\n",
       "    </tr>\n",
       "  </tbody>\n",
       "</table>\n",
       "</div>"
      ],
      "text/plain": [
       "       0   1   2   3   4\n",
       "Row0  91  25  46  89  43\n",
       "Row1  17  48  70  14  42\n",
       "Row2  54  27  72  67  10\n",
       "Row3  86  95  41  30  68\n",
       "Row4  91  60  69  84  30\n",
       "Row5  25  91  87  96  27"
      ]
     },
     "execution_count": 7,
     "metadata": {},
     "output_type": "execute_result"
    }
   ],
   "source": [
    "# Let us name the row labels of our choice, while creating it\n",
    "df = pd.DataFrame(data=arr, index=['Row0', 'Row1', 'Row2', 'Row3', 'Row4', 'Row5'])\n",
    "df"
   ]
  },
  {
   "cell_type": "code",
   "execution_count": null,
   "id": "75763331",
   "metadata": {},
   "outputs": [],
   "source": []
  },
  {
   "cell_type": "code",
   "execution_count": null,
   "id": "6eccab61",
   "metadata": {},
   "outputs": [],
   "source": []
  },
  {
   "cell_type": "code",
   "execution_count": null,
   "id": "8f4d6492",
   "metadata": {},
   "outputs": [],
   "source": []
  },
  {
   "cell_type": "code",
   "execution_count": null,
   "id": "ba3992f4",
   "metadata": {},
   "outputs": [],
   "source": []
  },
  {
   "cell_type": "code",
   "execution_count": null,
   "id": "1c9c67c7",
   "metadata": {},
   "outputs": [],
   "source": []
  },
  {
   "cell_type": "code",
   "execution_count": 8,
   "id": "1ea2973f",
   "metadata": {},
   "outputs": [
    {
     "data": {
      "text/html": [
       "<div>\n",
       "<style scoped>\n",
       "    .dataframe tbody tr th:only-of-type {\n",
       "        vertical-align: middle;\n",
       "    }\n",
       "\n",
       "    .dataframe tbody tr th {\n",
       "        vertical-align: top;\n",
       "    }\n",
       "\n",
       "    .dataframe thead th {\n",
       "        text-align: right;\n",
       "    }\n",
       "</style>\n",
       "<table border=\"1\" class=\"dataframe\">\n",
       "  <thead>\n",
       "    <tr style=\"text-align: right;\">\n",
       "      <th></th>\n",
       "      <th>Col0</th>\n",
       "      <th>Col1</th>\n",
       "      <th>Col2</th>\n",
       "      <th>Col3</th>\n",
       "      <th>Col4</th>\n",
       "    </tr>\n",
       "  </thead>\n",
       "  <tbody>\n",
       "    <tr>\n",
       "      <th>Row0</th>\n",
       "      <td>91</td>\n",
       "      <td>25</td>\n",
       "      <td>46</td>\n",
       "      <td>89</td>\n",
       "      <td>43</td>\n",
       "    </tr>\n",
       "    <tr>\n",
       "      <th>Row1</th>\n",
       "      <td>17</td>\n",
       "      <td>48</td>\n",
       "      <td>70</td>\n",
       "      <td>14</td>\n",
       "      <td>42</td>\n",
       "    </tr>\n",
       "    <tr>\n",
       "      <th>Row2</th>\n",
       "      <td>54</td>\n",
       "      <td>27</td>\n",
       "      <td>72</td>\n",
       "      <td>67</td>\n",
       "      <td>10</td>\n",
       "    </tr>\n",
       "    <tr>\n",
       "      <th>Row3</th>\n",
       "      <td>86</td>\n",
       "      <td>95</td>\n",
       "      <td>41</td>\n",
       "      <td>30</td>\n",
       "      <td>68</td>\n",
       "    </tr>\n",
       "    <tr>\n",
       "      <th>Row4</th>\n",
       "      <td>91</td>\n",
       "      <td>60</td>\n",
       "      <td>69</td>\n",
       "      <td>84</td>\n",
       "      <td>30</td>\n",
       "    </tr>\n",
       "    <tr>\n",
       "      <th>Row5</th>\n",
       "      <td>25</td>\n",
       "      <td>91</td>\n",
       "      <td>87</td>\n",
       "      <td>96</td>\n",
       "      <td>27</td>\n",
       "    </tr>\n",
       "  </tbody>\n",
       "</table>\n",
       "</div>"
      ],
      "text/plain": [
       "      Col0  Col1  Col2  Col3  Col4\n",
       "Row0    91    25    46    89    43\n",
       "Row1    17    48    70    14    42\n",
       "Row2    54    27    72    67    10\n",
       "Row3    86    95    41    30    68\n",
       "Row4    91    60    69    84    30\n",
       "Row5    25    91    87    96    27"
      ]
     },
     "execution_count": 8,
     "metadata": {},
     "output_type": "execute_result"
    }
   ],
   "source": [
    "# Let us name the both row labels and column labels to strings of our choice, while creating it\n",
    "row_labels = ['Row0', 'Row1', 'Row2', 'Row3', 'Row4', 'Row5']\n",
    "col_labels = ['Col0', 'Col1', 'Col2', 'Col3', 'Col4']\n",
    "df = pd.DataFrame(data=arr, index=row_labels, columns=col_labels)\n",
    "df"
   ]
  },
  {
   "cell_type": "markdown",
   "id": "3b79c790",
   "metadata": {},
   "source": [
    "- You can do this later as well, i.e., after the dataframe has been created with default indices.\n",
    "- This is done by assigning a list of labels/values to `index` and `columns` attributes of a dataframe object."
   ]
  },
  {
   "cell_type": "code",
   "execution_count": null,
   "id": "5d991780",
   "metadata": {},
   "outputs": [],
   "source": []
  },
  {
   "cell_type": "code",
   "execution_count": null,
   "id": "9e49fa27",
   "metadata": {},
   "outputs": [],
   "source": []
  },
  {
   "cell_type": "code",
   "execution_count": null,
   "id": "ef4c1820",
   "metadata": {},
   "outputs": [],
   "source": []
  },
  {
   "cell_type": "code",
   "execution_count": 9,
   "id": "2805dd6e",
   "metadata": {},
   "outputs": [
    {
     "data": {
      "text/html": [
       "<div>\n",
       "<style scoped>\n",
       "    .dataframe tbody tr th:only-of-type {\n",
       "        vertical-align: middle;\n",
       "    }\n",
       "\n",
       "    .dataframe tbody tr th {\n",
       "        vertical-align: top;\n",
       "    }\n",
       "\n",
       "    .dataframe thead th {\n",
       "        text-align: right;\n",
       "    }\n",
       "</style>\n",
       "<table border=\"1\" class=\"dataframe\">\n",
       "  <thead>\n",
       "    <tr style=\"text-align: right;\">\n",
       "      <th></th>\n",
       "      <th>0</th>\n",
       "      <th>1</th>\n",
       "      <th>2</th>\n",
       "      <th>3</th>\n",
       "      <th>4</th>\n",
       "    </tr>\n",
       "  </thead>\n",
       "  <tbody>\n",
       "    <tr>\n",
       "      <th>0</th>\n",
       "      <td>86</td>\n",
       "      <td>98</td>\n",
       "      <td>77</td>\n",
       "      <td>96</td>\n",
       "      <td>21</td>\n",
       "    </tr>\n",
       "    <tr>\n",
       "      <th>1</th>\n",
       "      <td>65</td>\n",
       "      <td>63</td>\n",
       "      <td>48</td>\n",
       "      <td>62</td>\n",
       "      <td>31</td>\n",
       "    </tr>\n",
       "    <tr>\n",
       "      <th>2</th>\n",
       "      <td>54</td>\n",
       "      <td>47</td>\n",
       "      <td>78</td>\n",
       "      <td>20</td>\n",
       "      <td>74</td>\n",
       "    </tr>\n",
       "    <tr>\n",
       "      <th>3</th>\n",
       "      <td>54</td>\n",
       "      <td>85</td>\n",
       "      <td>91</td>\n",
       "      <td>74</td>\n",
       "      <td>57</td>\n",
       "    </tr>\n",
       "    <tr>\n",
       "      <th>4</th>\n",
       "      <td>91</td>\n",
       "      <td>86</td>\n",
       "      <td>75</td>\n",
       "      <td>28</td>\n",
       "      <td>59</td>\n",
       "    </tr>\n",
       "    <tr>\n",
       "      <th>5</th>\n",
       "      <td>48</td>\n",
       "      <td>26</td>\n",
       "      <td>77</td>\n",
       "      <td>90</td>\n",
       "      <td>93</td>\n",
       "    </tr>\n",
       "  </tbody>\n",
       "</table>\n",
       "</div>"
      ],
      "text/plain": [
       "    0   1   2   3   4\n",
       "0  86  98  77  96  21\n",
       "1  65  63  48  62  31\n",
       "2  54  47  78  20  74\n",
       "3  54  85  91  74  57\n",
       "4  91  86  75  28  59\n",
       "5  48  26  77  90  93"
      ]
     },
     "execution_count": 9,
     "metadata": {},
     "output_type": "execute_result"
    }
   ],
   "source": [
    "arr = np.random.randint(10,100, size= (6,5))\n",
    "df = pd.DataFrame(data=arr)\n",
    "df"
   ]
  },
  {
   "cell_type": "code",
   "execution_count": 10,
   "id": "5009a4b0",
   "metadata": {},
   "outputs": [
    {
     "data": {
      "text/html": [
       "<div>\n",
       "<style scoped>\n",
       "    .dataframe tbody tr th:only-of-type {\n",
       "        vertical-align: middle;\n",
       "    }\n",
       "\n",
       "    .dataframe tbody tr th {\n",
       "        vertical-align: top;\n",
       "    }\n",
       "\n",
       "    .dataframe thead th {\n",
       "        text-align: right;\n",
       "    }\n",
       "</style>\n",
       "<table border=\"1\" class=\"dataframe\">\n",
       "  <thead>\n",
       "    <tr style=\"text-align: right;\">\n",
       "      <th></th>\n",
       "      <th>Col0</th>\n",
       "      <th>Col1</th>\n",
       "      <th>Col2</th>\n",
       "      <th>Col3</th>\n",
       "      <th>Col4</th>\n",
       "    </tr>\n",
       "  </thead>\n",
       "  <tbody>\n",
       "    <tr>\n",
       "      <th>Row0</th>\n",
       "      <td>86</td>\n",
       "      <td>98</td>\n",
       "      <td>77</td>\n",
       "      <td>96</td>\n",
       "      <td>21</td>\n",
       "    </tr>\n",
       "    <tr>\n",
       "      <th>Row1</th>\n",
       "      <td>65</td>\n",
       "      <td>63</td>\n",
       "      <td>48</td>\n",
       "      <td>62</td>\n",
       "      <td>31</td>\n",
       "    </tr>\n",
       "    <tr>\n",
       "      <th>Row2</th>\n",
       "      <td>54</td>\n",
       "      <td>47</td>\n",
       "      <td>78</td>\n",
       "      <td>20</td>\n",
       "      <td>74</td>\n",
       "    </tr>\n",
       "    <tr>\n",
       "      <th>Row3</th>\n",
       "      <td>54</td>\n",
       "      <td>85</td>\n",
       "      <td>91</td>\n",
       "      <td>74</td>\n",
       "      <td>57</td>\n",
       "    </tr>\n",
       "    <tr>\n",
       "      <th>Row4</th>\n",
       "      <td>91</td>\n",
       "      <td>86</td>\n",
       "      <td>75</td>\n",
       "      <td>28</td>\n",
       "      <td>59</td>\n",
       "    </tr>\n",
       "    <tr>\n",
       "      <th>Row5</th>\n",
       "      <td>48</td>\n",
       "      <td>26</td>\n",
       "      <td>77</td>\n",
       "      <td>90</td>\n",
       "      <td>93</td>\n",
       "    </tr>\n",
       "  </tbody>\n",
       "</table>\n",
       "</div>"
      ],
      "text/plain": [
       "      Col0  Col1  Col2  Col3  Col4\n",
       "Row0    86    98    77    96    21\n",
       "Row1    65    63    48    62    31\n",
       "Row2    54    47    78    20    74\n",
       "Row3    54    85    91    74    57\n",
       "Row4    91    86    75    28    59\n",
       "Row5    48    26    77    90    93"
      ]
     },
     "execution_count": 10,
     "metadata": {},
     "output_type": "execute_result"
    }
   ],
   "source": [
    "row_labels = ['Row0', 'Row1', 'Row2', 'Row3', 'Row4', 'Row5']\n",
    "col_labels = ['Col0', 'Col1', 'Col2', 'Col3', 'Col4']\n",
    "\n",
    "df.columns = col_labels\n",
    "df.index = row_labels\n",
    "df"
   ]
  },
  {
   "cell_type": "code",
   "execution_count": null,
   "id": "5e98f389",
   "metadata": {},
   "outputs": [],
   "source": []
  },
  {
   "cell_type": "code",
   "execution_count": null,
   "id": "6e225297",
   "metadata": {},
   "outputs": [],
   "source": []
  },
  {
   "cell_type": "code",
   "execution_count": null,
   "id": "84a33aee",
   "metadata": {},
   "outputs": [],
   "source": []
  },
  {
   "cell_type": "code",
   "execution_count": null,
   "id": "ecbf08b8",
   "metadata": {},
   "outputs": [],
   "source": []
  },
  {
   "cell_type": "code",
   "execution_count": null,
   "id": "87a6f30f",
   "metadata": {},
   "outputs": [],
   "source": []
  },
  {
   "cell_type": "code",
   "execution_count": null,
   "id": "14a7ea81",
   "metadata": {},
   "outputs": [],
   "source": []
  },
  {
   "cell_type": "markdown",
   "id": "4d78c91b",
   "metadata": {},
   "source": [
    "### c. Creating a Dataframe from a Dictionary of Python Lists\n",
    "- You can create a dataframe object from a dictionary of Python Lists \n",
    "    - The dictionary `Keys` become the column names, and \n",
    "    - The dictionary `Values` are lists/arrays containing data for the respective columns."
   ]
  },
  {
   "cell_type": "code",
   "execution_count": 11,
   "id": "4f4c0cc7",
   "metadata": {},
   "outputs": [
    {
     "data": {
      "text/plain": [
       "{'name': ['Rauf', 'Arif', 'Maaz', 'Hadeed', 'Mujahid', 'Mohid'],\n",
       " 'age': [52, 51, 26, 22, 18, 17],\n",
       " 'address': ['Lahore', 'Karachi', 'Lahore', 'Islamabad', 'Kakul', 'Karachi'],\n",
       " 'cell': ['321-123', '320-431', '321-478', '324-446', '321-967', '320-678'],\n",
       " 'bg': ['B+', 'A-', 'B+', 'O-', 'A-', 'B+']}"
      ]
     },
     "execution_count": 11,
     "metadata": {},
     "output_type": "execute_result"
    }
   ],
   "source": [
    "people = {\n",
    "    \"name\" : [\"Rauf\", \"Arif\", \"Maaz\", \"Hadeed\", \"Mujahid\", \"Mohid\"],\n",
    "    \"age\" : [52, 51, 26, 22, 18, 17],\n",
    "    \"address\": [\"Lahore\", \"Karachi\", \"Lahore\", \"Islamabad\", \"Kakul\", \"Karachi\"],\n",
    "    \"cell\" : [\"321-123\", \"320-431\", \"321-478\", \"324-446\", \"321-967\", \"320-678\"],\n",
    "    \"bg\": [\"B+\", \"A-\", \"B+\", \"O-\", \"A-\", \"B+\"]\n",
    "}\n",
    "people"
   ]
  },
  {
   "cell_type": "code",
   "execution_count": 12,
   "id": "daea6fce",
   "metadata": {},
   "outputs": [
    {
     "data": {
      "text/html": [
       "<div>\n",
       "<style scoped>\n",
       "    .dataframe tbody tr th:only-of-type {\n",
       "        vertical-align: middle;\n",
       "    }\n",
       "\n",
       "    .dataframe tbody tr th {\n",
       "        vertical-align: top;\n",
       "    }\n",
       "\n",
       "    .dataframe thead th {\n",
       "        text-align: right;\n",
       "    }\n",
       "</style>\n",
       "<table border=\"1\" class=\"dataframe\">\n",
       "  <thead>\n",
       "    <tr style=\"text-align: right;\">\n",
       "      <th></th>\n",
       "      <th>name</th>\n",
       "      <th>age</th>\n",
       "      <th>address</th>\n",
       "      <th>cell</th>\n",
       "      <th>bg</th>\n",
       "    </tr>\n",
       "  </thead>\n",
       "  <tbody>\n",
       "    <tr>\n",
       "      <th>0</th>\n",
       "      <td>Rauf</td>\n",
       "      <td>52</td>\n",
       "      <td>Lahore</td>\n",
       "      <td>321-123</td>\n",
       "      <td>B+</td>\n",
       "    </tr>\n",
       "    <tr>\n",
       "      <th>1</th>\n",
       "      <td>Arif</td>\n",
       "      <td>51</td>\n",
       "      <td>Karachi</td>\n",
       "      <td>320-431</td>\n",
       "      <td>A-</td>\n",
       "    </tr>\n",
       "    <tr>\n",
       "      <th>2</th>\n",
       "      <td>Maaz</td>\n",
       "      <td>26</td>\n",
       "      <td>Lahore</td>\n",
       "      <td>321-478</td>\n",
       "      <td>B+</td>\n",
       "    </tr>\n",
       "    <tr>\n",
       "      <th>3</th>\n",
       "      <td>Hadeed</td>\n",
       "      <td>22</td>\n",
       "      <td>Islamabad</td>\n",
       "      <td>324-446</td>\n",
       "      <td>O-</td>\n",
       "    </tr>\n",
       "    <tr>\n",
       "      <th>4</th>\n",
       "      <td>Mujahid</td>\n",
       "      <td>18</td>\n",
       "      <td>Kakul</td>\n",
       "      <td>321-967</td>\n",
       "      <td>A-</td>\n",
       "    </tr>\n",
       "    <tr>\n",
       "      <th>5</th>\n",
       "      <td>Mohid</td>\n",
       "      <td>17</td>\n",
       "      <td>Karachi</td>\n",
       "      <td>320-678</td>\n",
       "      <td>B+</td>\n",
       "    </tr>\n",
       "  </tbody>\n",
       "</table>\n",
       "</div>"
      ],
      "text/plain": [
       "      name  age    address     cell  bg\n",
       "0     Rauf   52     Lahore  321-123  B+\n",
       "1     Arif   51    Karachi  320-431  A-\n",
       "2     Maaz   26     Lahore  321-478  B+\n",
       "3   Hadeed   22  Islamabad  324-446  O-\n",
       "4  Mujahid   18      Kakul  321-967  A-\n",
       "5    Mohid   17    Karachi  320-678  B+"
      ]
     },
     "execution_count": 12,
     "metadata": {},
     "output_type": "execute_result"
    }
   ],
   "source": [
    "# Pass this Dictionary of Python Lists to pd.Dataframe()\n",
    "df_people = pd.DataFrame(data=people)\n",
    "df_people"
   ]
  },
  {
   "cell_type": "markdown",
   "id": "c7ddb8c1",
   "metadata": {},
   "source": [
    "- Note that column labels are set as per the keys inside the dictionary object, while the row labels/indices are set to default numerical values.\n",
    "- You can set the row indices while creating the dataframe by passing the index argument to `pd.DataFrame()` method, or can do that later by assigning the new values to the `index` and `columns` attributes of a dataframe object."
   ]
  },
  {
   "cell_type": "code",
   "execution_count": 13,
   "id": "933c79a6",
   "metadata": {},
   "outputs": [
    {
     "data": {
      "text/html": [
       "<div>\n",
       "<style scoped>\n",
       "    .dataframe tbody tr th:only-of-type {\n",
       "        vertical-align: middle;\n",
       "    }\n",
       "\n",
       "    .dataframe tbody tr th {\n",
       "        vertical-align: top;\n",
       "    }\n",
       "\n",
       "    .dataframe thead th {\n",
       "        text-align: right;\n",
       "    }\n",
       "</style>\n",
       "<table border=\"1\" class=\"dataframe\">\n",
       "  <thead>\n",
       "    <tr style=\"text-align: right;\">\n",
       "      <th></th>\n",
       "      <th>name</th>\n",
       "      <th>age</th>\n",
       "      <th>address</th>\n",
       "      <th>cell</th>\n",
       "      <th>bg</th>\n",
       "    </tr>\n",
       "  </thead>\n",
       "  <tbody>\n",
       "    <tr>\n",
       "      <th>MS01</th>\n",
       "      <td>Rauf</td>\n",
       "      <td>52</td>\n",
       "      <td>Lahore</td>\n",
       "      <td>321-123</td>\n",
       "      <td>B+</td>\n",
       "    </tr>\n",
       "    <tr>\n",
       "      <th>MS02</th>\n",
       "      <td>Arif</td>\n",
       "      <td>51</td>\n",
       "      <td>Karachi</td>\n",
       "      <td>320-431</td>\n",
       "      <td>A-</td>\n",
       "    </tr>\n",
       "    <tr>\n",
       "      <th>MS03</th>\n",
       "      <td>Maaz</td>\n",
       "      <td>26</td>\n",
       "      <td>Lahore</td>\n",
       "      <td>321-478</td>\n",
       "      <td>B+</td>\n",
       "    </tr>\n",
       "    <tr>\n",
       "      <th>MS04</th>\n",
       "      <td>Hadeed</td>\n",
       "      <td>22</td>\n",
       "      <td>Islamabad</td>\n",
       "      <td>324-446</td>\n",
       "      <td>O-</td>\n",
       "    </tr>\n",
       "    <tr>\n",
       "      <th>MS05</th>\n",
       "      <td>Mujahid</td>\n",
       "      <td>18</td>\n",
       "      <td>Kakul</td>\n",
       "      <td>321-967</td>\n",
       "      <td>A-</td>\n",
       "    </tr>\n",
       "    <tr>\n",
       "      <th>MS06</th>\n",
       "      <td>Mohid</td>\n",
       "      <td>17</td>\n",
       "      <td>Karachi</td>\n",
       "      <td>320-678</td>\n",
       "      <td>B+</td>\n",
       "    </tr>\n",
       "  </tbody>\n",
       "</table>\n",
       "</div>"
      ],
      "text/plain": [
       "         name  age    address     cell  bg\n",
       "MS01     Rauf   52     Lahore  321-123  B+\n",
       "MS02     Arif   51    Karachi  320-431  A-\n",
       "MS03     Maaz   26     Lahore  321-478  B+\n",
       "MS04   Hadeed   22  Islamabad  324-446  O-\n",
       "MS05  Mujahid   18      Kakul  321-967  A-\n",
       "MS06    Mohid   17    Karachi  320-678  B+"
      ]
     },
     "execution_count": 13,
     "metadata": {},
     "output_type": "execute_result"
    }
   ],
   "source": [
    "# Let us change the row labels of above dataframe\n",
    "row_labels = ['MS01', 'MS02', 'MS03', 'MS04', 'MS05', 'MS06']\n",
    "df_people.index = row_labels\n",
    "df_people"
   ]
  },
  {
   "cell_type": "code",
   "execution_count": null,
   "id": "0a066777",
   "metadata": {},
   "outputs": [],
   "source": []
  },
  {
   "cell_type": "code",
   "execution_count": null,
   "id": "21ec23ba",
   "metadata": {},
   "outputs": [],
   "source": []
  },
  {
   "cell_type": "code",
   "execution_count": null,
   "id": "721b7c0c",
   "metadata": {},
   "outputs": [],
   "source": []
  },
  {
   "cell_type": "code",
   "execution_count": null,
   "id": "2f04c29e",
   "metadata": {},
   "outputs": [],
   "source": []
  },
  {
   "cell_type": "code",
   "execution_count": null,
   "id": "f6aaa02f",
   "metadata": {},
   "outputs": [],
   "source": []
  },
  {
   "cell_type": "code",
   "execution_count": null,
   "id": "7d5591a0",
   "metadata": {},
   "outputs": [],
   "source": []
  },
  {
   "cell_type": "markdown",
   "id": "dfdad357",
   "metadata": {},
   "source": [
    "### d. Creating a Dataframe from Dictionary of Panda Series\n",
    "One can think of a dataframe as a dictionary of Panda Series: \n",
    "- `Keys` are column names, and \n",
    "- `Values` are Series object for the respective columns."
   ]
  },
  {
   "cell_type": "code",
   "execution_count": 14,
   "id": "9fa00f68",
   "metadata": {
    "scrolled": true
   },
   "outputs": [
    {
     "data": {
      "text/html": [
       "<div>\n",
       "<style scoped>\n",
       "    .dataframe tbody tr th:only-of-type {\n",
       "        vertical-align: middle;\n",
       "    }\n",
       "\n",
       "    .dataframe tbody tr th {\n",
       "        vertical-align: top;\n",
       "    }\n",
       "\n",
       "    .dataframe thead th {\n",
       "        text-align: right;\n",
       "    }\n",
       "</style>\n",
       "<table border=\"1\" class=\"dataframe\">\n",
       "  <thead>\n",
       "    <tr style=\"text-align: right;\">\n",
       "      <th></th>\n",
       "      <th>name</th>\n",
       "      <th>age</th>\n",
       "      <th>addr</th>\n",
       "    </tr>\n",
       "  </thead>\n",
       "  <tbody>\n",
       "    <tr>\n",
       "      <th>0</th>\n",
       "      <td>Arif</td>\n",
       "      <td>50</td>\n",
       "      <td>Lahore</td>\n",
       "    </tr>\n",
       "    <tr>\n",
       "      <th>1</th>\n",
       "      <td>Hadeed</td>\n",
       "      <td>22</td>\n",
       "      <td>Islamabad</td>\n",
       "    </tr>\n",
       "    <tr>\n",
       "      <th>2</th>\n",
       "      <td>Mujahid</td>\n",
       "      <td>18</td>\n",
       "      <td>Karachi</td>\n",
       "    </tr>\n",
       "  </tbody>\n",
       "</table>\n",
       "</div>"
      ],
      "text/plain": [
       "      name  age       addr\n",
       "0     Arif   50     Lahore\n",
       "1   Hadeed   22  Islamabad\n",
       "2  Mujahid   18    Karachi"
      ]
     },
     "execution_count": 14,
     "metadata": {},
     "output_type": "execute_result"
    }
   ],
   "source": [
    "dict = {\n",
    "    \"name\": pd.Series(['Arif', 'Hadeed', 'Mujahid']),\n",
    "    \"age\": pd.Series([50, 22, 18]),\n",
    "    \"addr\": pd.Series(['Lahore', 'Islamabad','Karachi']),\n",
    "}\n",
    "df = pd.DataFrame(data=dict)\n",
    "df"
   ]
  },
  {
   "cell_type": "markdown",
   "id": "c9d92bf4",
   "metadata": {},
   "source": [
    ">Note from the above output, that every series object becomes the data of the appropriate column. Moreover, the keys of the dictionary become the column labels."
   ]
  },
  {
   "cell_type": "code",
   "execution_count": null,
   "id": "c99c0f0a",
   "metadata": {},
   "outputs": [],
   "source": []
  },
  {
   "cell_type": "code",
   "execution_count": null,
   "id": "cc02572b",
   "metadata": {},
   "outputs": [],
   "source": []
  },
  {
   "cell_type": "code",
   "execution_count": null,
   "id": "71753bd9",
   "metadata": {},
   "outputs": [],
   "source": []
  },
  {
   "cell_type": "code",
   "execution_count": null,
   "id": "fbd41d29",
   "metadata": {},
   "outputs": [],
   "source": []
  },
  {
   "cell_type": "code",
   "execution_count": 15,
   "id": "3984364d",
   "metadata": {},
   "outputs": [
    {
     "data": {
      "text/html": [
       "<div>\n",
       "<style scoped>\n",
       "    .dataframe tbody tr th:only-of-type {\n",
       "        vertical-align: middle;\n",
       "    }\n",
       "\n",
       "    .dataframe tbody tr th {\n",
       "        vertical-align: top;\n",
       "    }\n",
       "\n",
       "    .dataframe thead th {\n",
       "        text-align: right;\n",
       "    }\n",
       "</style>\n",
       "<table border=\"1\" class=\"dataframe\">\n",
       "  <thead>\n",
       "    <tr style=\"text-align: right;\">\n",
       "      <th></th>\n",
       "      <th>name</th>\n",
       "      <th>age</th>\n",
       "      <th>addr</th>\n",
       "    </tr>\n",
       "  </thead>\n",
       "  <tbody>\n",
       "    <tr>\n",
       "      <th>a</th>\n",
       "      <td>Arif</td>\n",
       "      <td>50.0</td>\n",
       "      <td>Lahore</td>\n",
       "    </tr>\n",
       "    <tr>\n",
       "      <th>b</th>\n",
       "      <td>Hadeed</td>\n",
       "      <td>22.0</td>\n",
       "      <td></td>\n",
       "    </tr>\n",
       "    <tr>\n",
       "      <th>c</th>\n",
       "      <td>Mujahid</td>\n",
       "      <td>NaN</td>\n",
       "      <td>Peshawer</td>\n",
       "    </tr>\n",
       "    <tr>\n",
       "      <th>d</th>\n",
       "      <td>Maaz</td>\n",
       "      <td>18.0</td>\n",
       "      <td>Karachi</td>\n",
       "    </tr>\n",
       "  </tbody>\n",
       "</table>\n",
       "</div>"
      ],
      "text/plain": [
       "      name   age      addr\n",
       "a     Arif  50.0    Lahore\n",
       "b   Hadeed  22.0          \n",
       "c  Mujahid   NaN  Peshawer\n",
       "d     Maaz  18.0   Karachi"
      ]
     },
     "execution_count": 15,
     "metadata": {},
     "output_type": "execute_result"
    }
   ],
   "source": [
    "dict = {\n",
    "    \"name\": pd.Series(data=['Arif', 'Hadeed', 'Mujahid', 'Maaz'], index=['a','b','c', 'd']),\n",
    "    \"age\": pd.Series(data=[50, 22,np.nan, 18], index=['a','b','c','d']),\n",
    "    \"addr\": pd.Series(data=['Lahore', '', 'Peshawer','Karachi'], index=['a','b','c', 'd']),\n",
    "}\n",
    "df = pd.DataFrame(dict)\n",
    "df"
   ]
  },
  {
   "cell_type": "markdown",
   "id": "62175e2b",
   "metadata": {},
   "source": [
    ">- In the above code and its output, note that every series object has four data values and four corresponding indices.\n",
    ">- Also note that in the `age` series, we have a NaN value, and in the `addr` series we have an empty string.\n",
    ">- Another point to note that the row indices of the three series exactly match, in number as well as in sequence/value.\n",
    ">- A question arise, what if the indices of series are different. See the following code to understand this concept."
   ]
  },
  {
   "cell_type": "code",
   "execution_count": null,
   "id": "a0d5332b",
   "metadata": {},
   "outputs": [],
   "source": []
  },
  {
   "cell_type": "code",
   "execution_count": null,
   "id": "75936ada",
   "metadata": {},
   "outputs": [],
   "source": []
  },
  {
   "cell_type": "code",
   "execution_count": null,
   "id": "0e49d96e",
   "metadata": {},
   "outputs": [],
   "source": []
  },
  {
   "cell_type": "code",
   "execution_count": null,
   "id": "a75d4fa9",
   "metadata": {},
   "outputs": [],
   "source": []
  },
  {
   "cell_type": "code",
   "execution_count": null,
   "id": "558777d2",
   "metadata": {},
   "outputs": [],
   "source": []
  },
  {
   "cell_type": "code",
   "execution_count": 16,
   "id": "4c16eeab",
   "metadata": {},
   "outputs": [
    {
     "data": {
      "text/html": [
       "<div>\n",
       "<style scoped>\n",
       "    .dataframe tbody tr th:only-of-type {\n",
       "        vertical-align: middle;\n",
       "    }\n",
       "\n",
       "    .dataframe tbody tr th {\n",
       "        vertical-align: top;\n",
       "    }\n",
       "\n",
       "    .dataframe thead th {\n",
       "        text-align: right;\n",
       "    }\n",
       "</style>\n",
       "<table border=\"1\" class=\"dataframe\">\n",
       "  <thead>\n",
       "    <tr style=\"text-align: right;\">\n",
       "      <th></th>\n",
       "      <th>name</th>\n",
       "      <th>age</th>\n",
       "      <th>addr</th>\n",
       "    </tr>\n",
       "  </thead>\n",
       "  <tbody>\n",
       "    <tr>\n",
       "      <th>a</th>\n",
       "      <td>Arif</td>\n",
       "      <td>50.0</td>\n",
       "      <td>Lahore</td>\n",
       "    </tr>\n",
       "    <tr>\n",
       "      <th>b</th>\n",
       "      <td>Hadeed</td>\n",
       "      <td>NaN</td>\n",
       "      <td>NaN</td>\n",
       "    </tr>\n",
       "    <tr>\n",
       "      <th>c</th>\n",
       "      <td>Mujahid</td>\n",
       "      <td>NaN</td>\n",
       "      <td>NaN</td>\n",
       "    </tr>\n",
       "    <tr>\n",
       "      <th>d</th>\n",
       "      <td>Maaz</td>\n",
       "      <td>18.0</td>\n",
       "      <td></td>\n",
       "    </tr>\n",
       "    <tr>\n",
       "      <th>x</th>\n",
       "      <td>NaN</td>\n",
       "      <td>22.0</td>\n",
       "      <td>Karachi</td>\n",
       "    </tr>\n",
       "    <tr>\n",
       "      <th>y</th>\n",
       "      <td>NaN</td>\n",
       "      <td>NaN</td>\n",
       "      <td>NaN</td>\n",
       "    </tr>\n",
       "  </tbody>\n",
       "</table>\n",
       "</div>"
      ],
      "text/plain": [
       "      name   age     addr\n",
       "a     Arif  50.0   Lahore\n",
       "b   Hadeed   NaN      NaN\n",
       "c  Mujahid   NaN      NaN\n",
       "d     Maaz  18.0         \n",
       "x      NaN  22.0  Karachi\n",
       "y      NaN   NaN      NaN"
      ]
     },
     "execution_count": 16,
     "metadata": {},
     "output_type": "execute_result"
    }
   ],
   "source": [
    "dict = {\n",
    "    \"name\": pd.Series(['Arif', 'Hadeed', 'Mujahid', 'Maaz'], index=['a','b','c', 'd']),\n",
    "    \"age\": pd.Series([50, 22,np.nan, 18], index=['a','x','y','d']),\n",
    "    \"addr\": pd.Series(['Lahore', '','Karachi'], index=['a', 'd', 'x']),\n",
    "}\n",
    "df = pd.DataFrame(dict)\n",
    "df"
   ]
  },
  {
   "cell_type": "markdown",
   "id": "7fb33e69",
   "metadata": {},
   "source": [
    ">- In the above code and its output, note that first series object has four data values and four corresponding indices. Similarly, second series object has four data values (with one `np.nan` value) and four corresponding indices, which are a bit different from the first series object. Third series has three data values (with one empty string) and three indices.\n",
    ">- Note the resulting Dataframe has six rows and three columns.\n",
    "    - For index 'a' we have value in all the three series objects or columns.\n",
    "    - For index 'b' we have a value in first series object, and NaN for the second and third column, since the second and third series object has no value corresponding to row index 'b."
   ]
  },
  {
   "cell_type": "code",
   "execution_count": null,
   "id": "50cd9930",
   "metadata": {},
   "outputs": [],
   "source": []
  },
  {
   "cell_type": "code",
   "execution_count": null,
   "id": "bc35f3a3",
   "metadata": {},
   "outputs": [],
   "source": []
  },
  {
   "cell_type": "code",
   "execution_count": null,
   "id": "84210776",
   "metadata": {},
   "outputs": [],
   "source": []
  },
  {
   "cell_type": "code",
   "execution_count": null,
   "id": "dde164c1",
   "metadata": {},
   "outputs": [],
   "source": []
  },
  {
   "cell_type": "code",
   "execution_count": null,
   "id": "2e500525",
   "metadata": {},
   "outputs": [],
   "source": []
  },
  {
   "cell_type": "code",
   "execution_count": null,
   "id": "5f9a4c39",
   "metadata": {},
   "outputs": [],
   "source": []
  },
  {
   "cell_type": "markdown",
   "id": "b77fae30",
   "metadata": {},
   "source": [
    "## 3. Attributes of Pandas Dataframe\n",
    "- Like Series, we can access properties/attributes of a dataframe by using dot `.` notation"
   ]
  },
  {
   "cell_type": "code",
   "execution_count": 17,
   "id": "18688a13",
   "metadata": {},
   "outputs": [
    {
     "data": {
      "text/html": [
       "<div>\n",
       "<style scoped>\n",
       "    .dataframe tbody tr th:only-of-type {\n",
       "        vertical-align: middle;\n",
       "    }\n",
       "\n",
       "    .dataframe tbody tr th {\n",
       "        vertical-align: top;\n",
       "    }\n",
       "\n",
       "    .dataframe thead th {\n",
       "        text-align: right;\n",
       "    }\n",
       "</style>\n",
       "<table border=\"1\" class=\"dataframe\">\n",
       "  <thead>\n",
       "    <tr style=\"text-align: right;\">\n",
       "      <th></th>\n",
       "      <th>name</th>\n",
       "      <th>age</th>\n",
       "      <th>address</th>\n",
       "      <th>cell</th>\n",
       "      <th>bg</th>\n",
       "    </tr>\n",
       "  </thead>\n",
       "  <tbody>\n",
       "    <tr>\n",
       "      <th>MS01</th>\n",
       "      <td>Rauf</td>\n",
       "      <td>52</td>\n",
       "      <td>Lahore</td>\n",
       "      <td>321-123</td>\n",
       "      <td>B+</td>\n",
       "    </tr>\n",
       "    <tr>\n",
       "      <th>MS02</th>\n",
       "      <td>Arif</td>\n",
       "      <td>51</td>\n",
       "      <td>Karachi</td>\n",
       "      <td>320-431</td>\n",
       "      <td>A-</td>\n",
       "    </tr>\n",
       "    <tr>\n",
       "      <th>MS03</th>\n",
       "      <td>Maaz</td>\n",
       "      <td>26</td>\n",
       "      <td>Lahore</td>\n",
       "      <td>321-478</td>\n",
       "      <td>B+</td>\n",
       "    </tr>\n",
       "    <tr>\n",
       "      <th>MS04</th>\n",
       "      <td>Hadeed</td>\n",
       "      <td>22</td>\n",
       "      <td>Islamabad</td>\n",
       "      <td>324-446</td>\n",
       "      <td>O-</td>\n",
       "    </tr>\n",
       "    <tr>\n",
       "      <th>MS05</th>\n",
       "      <td>Mujahid</td>\n",
       "      <td>18</td>\n",
       "      <td>Kakul</td>\n",
       "      <td>321-967</td>\n",
       "      <td>A-</td>\n",
       "    </tr>\n",
       "    <tr>\n",
       "      <th>MS06</th>\n",
       "      <td>Mohid</td>\n",
       "      <td>17</td>\n",
       "      <td>Karachi</td>\n",
       "      <td>320-678</td>\n",
       "      <td>B+</td>\n",
       "    </tr>\n",
       "  </tbody>\n",
       "</table>\n",
       "</div>"
      ],
      "text/plain": [
       "         name  age    address     cell  bg\n",
       "MS01     Rauf   52     Lahore  321-123  B+\n",
       "MS02     Arif   51    Karachi  320-431  A-\n",
       "MS03     Maaz   26     Lahore  321-478  B+\n",
       "MS04   Hadeed   22  Islamabad  324-446  O-\n",
       "MS05  Mujahid   18      Kakul  321-967  A-\n",
       "MS06    Mohid   17    Karachi  320-678  B+"
      ]
     },
     "execution_count": 17,
     "metadata": {},
     "output_type": "execute_result"
    }
   ],
   "source": [
    "people = {\n",
    "    \"name\" : [\"Rauf\", \"Arif\", \"Maaz\", \"Hadeed\", \"Mujahid\", \"Mohid\"],\n",
    "    \"age\" : [52, 51, 26, 22, 18, 17],\n",
    "    \"address\": [\"Lahore\", \"Karachi\", \"Lahore\", \"Islamabad\", \"Kakul\", \"Karachi\"],\n",
    "    \"cell\" : [\"321-123\", \"320-431\", \"321-478\", \"324-446\", \"321-967\", \"320-678\"],\n",
    "    \"bg\": [\"B+\", \"A-\", \"B+\", \"O-\", \"A-\", \"B+\"]\n",
    "}\n",
    "\n",
    "df_people = pd.DataFrame(data=people, index=['MS01', 'MS02', 'MS03', 'MS04', 'MS05', 'MS06'])\n",
    "df_people"
   ]
  },
  {
   "cell_type": "code",
   "execution_count": null,
   "id": "268f7a6c",
   "metadata": {},
   "outputs": [],
   "source": []
  },
  {
   "cell_type": "code",
   "execution_count": 18,
   "id": "ee17855b",
   "metadata": {},
   "outputs": [
    {
     "data": {
      "text/plain": [
       "(6, 5)"
      ]
     },
     "execution_count": 18,
     "metadata": {},
     "output_type": "execute_result"
    }
   ],
   "source": [
    "# `shape` attribute of a dataframe object return a two value tuple containing rows and columns\n",
    "# Note the rows count does not include the column labels and column count does not include the row index\n",
    "df_people.shape "
   ]
  },
  {
   "cell_type": "code",
   "execution_count": null,
   "id": "2a6e7edd",
   "metadata": {},
   "outputs": [],
   "source": []
  },
  {
   "cell_type": "code",
   "execution_count": 19,
   "id": "53fe6d82",
   "metadata": {},
   "outputs": [
    {
     "data": {
      "text/plain": [
       "2"
      ]
     },
     "execution_count": 19,
     "metadata": {},
     "output_type": "execute_result"
    }
   ],
   "source": [
    "# `ndim` attribute of a dataframe object returns number of dimensions (which is always 2)\n",
    "df_people.ndim"
   ]
  },
  {
   "cell_type": "code",
   "execution_count": null,
   "id": "4b807f01",
   "metadata": {},
   "outputs": [],
   "source": []
  },
  {
   "cell_type": "code",
   "execution_count": 20,
   "id": "f4716fdf",
   "metadata": {},
   "outputs": [
    {
     "data": {
      "text/plain": [
       "30"
      ]
     },
     "execution_count": 20,
     "metadata": {},
     "output_type": "execute_result"
    }
   ],
   "source": [
    "# `size` attribute of a dataframe object returns the number of elements in the underlying data\n",
    "df_people.size"
   ]
  },
  {
   "cell_type": "code",
   "execution_count": null,
   "id": "6b28b509",
   "metadata": {},
   "outputs": [],
   "source": []
  },
  {
   "cell_type": "code",
   "execution_count": 21,
   "id": "b943c0ac",
   "metadata": {},
   "outputs": [
    {
     "data": {
      "text/plain": [
       "Index(['MS01', 'MS02', 'MS03', 'MS04', 'MS05', 'MS06'], dtype='object')"
      ]
     },
     "execution_count": 21,
     "metadata": {},
     "output_type": "execute_result"
    }
   ],
   "source": [
    "# `index` attribute of a dataframe object return the list of row indices and its datatype\n",
    "df_people.index"
   ]
  },
  {
   "cell_type": "code",
   "execution_count": null,
   "id": "3f879f9a",
   "metadata": {},
   "outputs": [],
   "source": []
  },
  {
   "cell_type": "code",
   "execution_count": 22,
   "id": "b8a7fc1b",
   "metadata": {},
   "outputs": [
    {
     "data": {
      "text/plain": [
       "Index(['name', 'age', 'address', 'cell', 'bg'], dtype='object')"
      ]
     },
     "execution_count": 22,
     "metadata": {},
     "output_type": "execute_result"
    }
   ],
   "source": [
    "# `columns` attribute of a dataframe object return the list of column labels and its datatype\n",
    "df_people.columns"
   ]
  },
  {
   "cell_type": "code",
   "execution_count": null,
   "id": "05476544",
   "metadata": {},
   "outputs": [],
   "source": []
  },
  {
   "cell_type": "code",
   "execution_count": 23,
   "id": "3806bafa",
   "metadata": {},
   "outputs": [
    {
     "data": {
      "text/plain": [
       "array([['Rauf', 52, 'Lahore', '321-123', 'B+'],\n",
       "       ['Arif', 51, 'Karachi', '320-431', 'A-'],\n",
       "       ['Maaz', 26, 'Lahore', '321-478', 'B+'],\n",
       "       ['Hadeed', 22, 'Islamabad', '324-446', 'O-'],\n",
       "       ['Mujahid', 18, 'Kakul', '321-967', 'A-'],\n",
       "       ['Mohid', 17, 'Karachi', '320-678', 'B+']], dtype=object)"
      ]
     },
     "execution_count": 23,
     "metadata": {},
     "output_type": "execute_result"
    }
   ],
   "source": [
    "# `values` attribute of a dataframe object returns a NumPy 2-D having all the values in the DataFrame, \n",
    "# without the row indices and column labels\n",
    "df_people.values"
   ]
  },
  {
   "cell_type": "code",
   "execution_count": null,
   "id": "5ca5006b",
   "metadata": {},
   "outputs": [],
   "source": []
  },
  {
   "cell_type": "code",
   "execution_count": 24,
   "id": "899d087f",
   "metadata": {},
   "outputs": [
    {
     "data": {
      "text/plain": [
       "name       object\n",
       "age         int64\n",
       "address    object\n",
       "cell       object\n",
       "bg         object\n",
       "dtype: object"
      ]
     },
     "execution_count": 24,
     "metadata": {},
     "output_type": "execute_result"
    }
   ],
   "source": [
    "# `dtypes` attribute of a dataframe object return the data type of each column in the dataframe\n",
    "df_people.dtypes"
   ]
  },
  {
   "cell_type": "code",
   "execution_count": null,
   "id": "61d0403a",
   "metadata": {},
   "outputs": [],
   "source": []
  },
  {
   "cell_type": "code",
   "execution_count": 25,
   "id": "63c3d167",
   "metadata": {
    "scrolled": true
   },
   "outputs": [
    {
     "data": {
      "text/plain": [
       "name       6\n",
       "age        6\n",
       "address    6\n",
       "cell       6\n",
       "bg         6\n",
       "dtype: int64"
      ]
     },
     "execution_count": 25,
     "metadata": {},
     "output_type": "execute_result"
    }
   ],
   "source": [
    "# To check number on non-NA values\n",
    "df_people.count()"
   ]
  },
  {
   "cell_type": "code",
   "execution_count": null,
   "id": "e1b64d0e",
   "metadata": {},
   "outputs": [],
   "source": []
  },
  {
   "cell_type": "markdown",
   "id": "2011f372",
   "metadata": {},
   "source": [
    "# Bonus"
   ]
  },
  {
   "cell_type": "markdown",
   "id": "506b8217",
   "metadata": {},
   "source": [
    "#### The `df.info()` Method"
   ]
  },
  {
   "cell_type": "code",
   "execution_count": 26,
   "id": "92f3c6a1",
   "metadata": {},
   "outputs": [
    {
     "name": "stdout",
     "output_type": "stream",
     "text": [
      "<class 'pandas.core.frame.DataFrame'>\n",
      "Index: 6 entries, MS01 to MS06\n",
      "Data columns (total 5 columns):\n",
      " #   Column   Non-Null Count  Dtype \n",
      "---  ------   --------------  ----- \n",
      " 0   name     6 non-null      object\n",
      " 1   age      6 non-null      int64 \n",
      " 2   address  6 non-null      object\n",
      " 3   cell     6 non-null      object\n",
      " 4   bg       6 non-null      object\n",
      "dtypes: int64(1), object(4)\n",
      "memory usage: 288.0+ bytes\n"
     ]
    }
   ],
   "source": [
    "#This method prints information about a DataFrame including the row indices, column labels, \n",
    "# non-null values count in each column, datatype and memory usage\n",
    "df_people.info()"
   ]
  },
  {
   "cell_type": "code",
   "execution_count": null,
   "id": "f33e588a",
   "metadata": {},
   "outputs": [],
   "source": []
  },
  {
   "cell_type": "code",
   "execution_count": null,
   "id": "3cd86298",
   "metadata": {},
   "outputs": [],
   "source": []
  },
  {
   "cell_type": "code",
   "execution_count": null,
   "id": "c3cfb3f0",
   "metadata": {},
   "outputs": [],
   "source": []
  }
 ],
 "metadata": {
  "kernelspec": {
   "display_name": "Python 3 (ipykernel)",
   "language": "python",
   "name": "python3"
  },
  "language_info": {
   "codemirror_mode": {
    "name": "ipython",
    "version": 3
   },
   "file_extension": ".py",
   "mimetype": "text/x-python",
   "name": "python",
   "nbconvert_exporter": "python",
   "pygments_lexer": "ipython3",
   "version": "3.8.10"
  }
 },
 "nbformat": 4,
 "nbformat_minor": 5
}
