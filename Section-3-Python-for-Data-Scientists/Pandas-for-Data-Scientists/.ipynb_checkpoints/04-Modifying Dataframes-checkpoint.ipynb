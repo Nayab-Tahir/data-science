{
 "cells": [
  {
   "cell_type": "markdown",
   "id": "4a87b5ef",
   "metadata": {},
   "source": [
    "---   \n",
    " <img align=\"left\" width=\"75\" height=\"75\"  src=\"https://upload.wikimedia.org/wikipedia/en/c/c8/University_of_the_Punjab_logo.png\"> \n",
    "\n",
    "<h1 align=\"center\">Department of Data Science</h1>\n",
    "<h1 align=\"center\">Course: Tools and Techniques for Data Science</h1>\n",
    "\n",
    "---\n",
    "<h3><div align=\"right\">Instructor: Muhammad Arif Butt, Ph.D.</div></h3>    "
   ]
  },
  {
   "cell_type": "markdown",
   "id": "ab0dc25c",
   "metadata": {},
   "source": [
    "<h1 align=\"center\">Lecture 3.6</h1>"
   ]
  },
  {
   "cell_type": "markdown",
   "id": "19f82705",
   "metadata": {},
   "source": [
    "## _Modifying Data in Dataframes.ipynb_"
   ]
  },
  {
   "cell_type": "markdown",
   "id": "12db95e1",
   "metadata": {},
   "source": [
    "## Learning agenda of this notebook\n",
    "\n",
    "1. How to add a row/column in a dataframe (unconditionally)\n",
    "2. How to delete a row/column from a dataframe (unconditionally)\n",
    "3. How to conditionally perform above operations\n",
    "4. How to iterate a dataframe\n",
    "5. How to write a dataframe to a file"
   ]
  },
  {
   "cell_type": "markdown",
   "id": "0f1b5c02",
   "metadata": {},
   "source": [
    "## 1. How to add a row/column in a dataframe (unconditionally)"
   ]
  },
  {
   "cell_type": "markdown",
   "id": "fa9d6a81",
   "metadata": {},
   "source": [
    "### a. Create a Simple Dataframe to perform the tasks"
   ]
  },
  {
   "cell_type": "code",
   "execution_count": null,
   "id": "3d547c34",
   "metadata": {},
   "outputs": [],
   "source": [
    "import pandas as pd\n",
    "d1 = {\n",
    "    'name': ['Arif', 'Hadeed', 'Mujahid'],\n",
    "    'math': [80, 82, 90],\n",
    "    'english': [70, 69, 74],\n",
    "    'urdu': [87, 71, 66],\n",
    "}\n",
    "# Pass this Dictionary of Python Lists to pd.Dataframe()\n",
    "df = pd.DataFrame(data=d1)\n",
    "df"
   ]
  },
  {
   "cell_type": "markdown",
   "id": "7b63d269",
   "metadata": {},
   "source": [
    "### b. Add a Column in the Dataframe"
   ]
  },
  {
   "cell_type": "code",
   "execution_count": null,
   "id": "d88d116b",
   "metadata": {},
   "outputs": [],
   "source": [
    "# Create a new column named 'Total', having sum of the three subjects marks of each student\n",
    "df['Total'] = df['math'] + df['english'] + df['urdu']\n",
    "df"
   ]
  },
  {
   "cell_type": "markdown",
   "id": "7702ec09",
   "metadata": {},
   "source": [
    "### c. Add a Row in the Dataframe"
   ]
  },
  {
   "cell_type": "code",
   "execution_count": null,
   "id": "4387bd17",
   "metadata": {},
   "outputs": [],
   "source": [
    "# To add a new row in above dataframe, we have to first create a series\n",
    "# Create a series\n",
    "my_dict = {\n",
    "    \"name\" : 'Maaz', \n",
    "    \"math\" : 85, \n",
    "    \"english\" : 85,\n",
    "    \"urdu\" : 85\n",
    "}\n",
    "new_row = pd.Series(my_dict, name=3)\n",
    "df = df.append(new_row, ignore_index=True)\n",
    "df\n"
   ]
  },
  {
   "cell_type": "code",
   "execution_count": null,
   "id": "4a0b59e9",
   "metadata": {},
   "outputs": [],
   "source": []
  },
  {
   "cell_type": "markdown",
   "id": "2ecc2052",
   "metadata": {},
   "source": [
    "## 2. How to delete a row/column in a dataframe"
   ]
  },
  {
   "cell_type": "markdown",
   "id": "a9db3975",
   "metadata": {},
   "source": [
    "### a. Delete a Column in the Dataframe"
   ]
  },
  {
   "cell_type": "code",
   "execution_count": null,
   "id": "f766cb1f",
   "metadata": {},
   "outputs": [],
   "source": [
    "# Let us drop the Total Column from our dataframe\n",
    "df.drop('Total', axis=1, inplace=True)\n",
    "df"
   ]
  },
  {
   "cell_type": "markdown",
   "id": "6319a646",
   "metadata": {},
   "source": [
    "### b. Delete a Row in the Dataframe"
   ]
  },
  {
   "cell_type": "code",
   "execution_count": null,
   "id": "7ab6fa06",
   "metadata": {},
   "outputs": [],
   "source": [
    "df.drop(3, axis=0, inplace=True)\n",
    "df"
   ]
  },
  {
   "cell_type": "code",
   "execution_count": null,
   "id": "c86ced17",
   "metadata": {},
   "outputs": [],
   "source": []
  },
  {
   "cell_type": "markdown",
   "id": "902c85fb",
   "metadata": {},
   "source": [
    "## 3. How to add/delete a row/column in a Dataframe (conditionally)"
   ]
  },
  {
   "cell_type": "markdown",
   "id": "9525846c",
   "metadata": {},
   "source": [
    "### a. Add a Column in the Dataframe Based on a Specific Condition"
   ]
  },
  {
   "cell_type": "code",
   "execution_count": null,
   "id": "56401cbd",
   "metadata": {},
   "outputs": [],
   "source": [
    "import pandas as pd\n",
    "d1 = {\n",
    "    'name': ['Arif', 'Hadeed', 'Mujahid'],\n",
    "    'math': [80, 82, 90],\n",
    "    'english': [70, 69, 74],\n",
    "    'urdu': [87, 71, 66],\n",
    "}\n",
    "# Pass this Dictionary of Python Lists to pd.Dataframe()\n",
    "df = pd.DataFrame(data=d1)\n",
    "df['Total'] = df['math'] + df['english'] + df['urdu']\n",
    "df"
   ]
  },
  {
   "cell_type": "code",
   "execution_count": null,
   "id": "c07407ff",
   "metadata": {},
   "outputs": [],
   "source": [
    "# Create a new column named 'Grade', having overall grades of the three subjects based on their total marks \n",
    "\n",
    "# Add a new column named 'Grade'\n",
    "df['Grade'] = ['A' if x >= 230 else 'B' if x >= 220 else 'F' for x in df['Total']]\n",
    "df"
   ]
  },
  {
   "cell_type": "markdown",
   "id": "89ba7d78",
   "metadata": {},
   "source": [
    "### b. Add a Row in the Dataframe Based on a Specific Condition"
   ]
  },
  {
   "cell_type": "code",
   "execution_count": null,
   "id": "d83a508f",
   "metadata": {},
   "outputs": [],
   "source": [
    "# You can add row at your desired position using concat method with slicing operator\n",
    "\n",
    "import numpy as np\n",
    "import pandas as pd\n",
    "\n",
    "my_dict1 = {\n",
    "    \"name\" : 'Mohid', \n",
    "    \"math\" : 80, \n",
    "    \"english\" : 80,\n",
    "    \"urdu\" : 80\n",
    "}\n",
    "\n",
    "# Converting dict into dataframe\n",
    "df1 = pd.DataFrame([my_dict1])\n",
    "# placing the new dataframe row at your desird location using slicing operator\n",
    "df = pd.concat([df[:1], df1, df[1:]], ignore_index = True)\n",
    "\n",
    "df"
   ]
  },
  {
   "cell_type": "markdown",
   "id": "3a057e47",
   "metadata": {},
   "source": [
    "### c. Delete a Column in the Dataframe Based on Specific Condition"
   ]
  },
  {
   "cell_type": "code",
   "execution_count": null,
   "id": "a437cbdb",
   "metadata": {},
   "outputs": [],
   "source": [
    "# Let us drop a column from the data frame, if it contains more than 2 NaN values\n",
    "# It will delete the Total column\n",
    "\n",
    "df.drop(df.columns[df.apply(lambda col: col.isnull().sum() > 2)], axis=1)"
   ]
  },
  {
   "cell_type": "markdown",
   "id": "2146aabb",
   "metadata": {},
   "source": [
    "### d. Delete a Row in the Dataframe Based on Specific Condition"
   ]
  },
  {
   "cell_type": "code",
   "execution_count": null,
   "id": "6d63cfca",
   "metadata": {},
   "outputs": [],
   "source": [
    "# Let us drop an entire row from the data frame, in which name is 'Maaz'\n",
    "# Get the indices where name == 'Maaz' using the .index function\n",
    "count = df[df['name'] == 'Maaz'].index\n",
    "\n",
    "# Pass those indices to the drop function to delete those rows\n",
    "df.drop(count, inplace = True)\n",
    "df"
   ]
  },
  {
   "cell_type": "code",
   "execution_count": null,
   "id": "6645c07b",
   "metadata": {},
   "outputs": [],
   "source": []
  },
  {
   "cell_type": "markdown",
   "id": "924510cc",
   "metadata": {},
   "source": [
    "## 4. How to Iterate a Dataframe"
   ]
  },
  {
   "cell_type": "markdown",
   "id": "86eb667b",
   "metadata": {},
   "source": [
    "### a. Create a Dataframe"
   ]
  },
  {
   "cell_type": "code",
   "execution_count": 1,
   "id": "2b98957b",
   "metadata": {},
   "outputs": [
    {
     "data": {
      "text/html": [
       "<div>\n",
       "<style scoped>\n",
       "    .dataframe tbody tr th:only-of-type {\n",
       "        vertical-align: middle;\n",
       "    }\n",
       "\n",
       "    .dataframe tbody tr th {\n",
       "        vertical-align: top;\n",
       "    }\n",
       "\n",
       "    .dataframe thead th {\n",
       "        text-align: right;\n",
       "    }\n",
       "</style>\n",
       "<table border=\"1\" class=\"dataframe\">\n",
       "  <thead>\n",
       "    <tr style=\"text-align: right;\">\n",
       "      <th></th>\n",
       "      <th>Col1</th>\n",
       "      <th>Col2</th>\n",
       "      <th>Col3</th>\n",
       "      <th>Col4</th>\n",
       "      <th>Col5</th>\n",
       "    </tr>\n",
       "  </thead>\n",
       "  <tbody>\n",
       "    <tr>\n",
       "      <th>0</th>\n",
       "      <td>68</td>\n",
       "      <td>33</td>\n",
       "      <td>61</td>\n",
       "      <td>62</td>\n",
       "      <td>26</td>\n",
       "    </tr>\n",
       "    <tr>\n",
       "      <th>1</th>\n",
       "      <td>24</td>\n",
       "      <td>30</td>\n",
       "      <td>91</td>\n",
       "      <td>46</td>\n",
       "      <td>11</td>\n",
       "    </tr>\n",
       "    <tr>\n",
       "      <th>2</th>\n",
       "      <td>91</td>\n",
       "      <td>22</td>\n",
       "      <td>70</td>\n",
       "      <td>90</td>\n",
       "      <td>39</td>\n",
       "    </tr>\n",
       "    <tr>\n",
       "      <th>3</th>\n",
       "      <td>17</td>\n",
       "      <td>14</td>\n",
       "      <td>35</td>\n",
       "      <td>73</td>\n",
       "      <td>82</td>\n",
       "    </tr>\n",
       "    <tr>\n",
       "      <th>4</th>\n",
       "      <td>98</td>\n",
       "      <td>23</td>\n",
       "      <td>55</td>\n",
       "      <td>57</td>\n",
       "      <td>26</td>\n",
       "    </tr>\n",
       "    <tr>\n",
       "      <th>5</th>\n",
       "      <td>32</td>\n",
       "      <td>40</td>\n",
       "      <td>76</td>\n",
       "      <td>62</td>\n",
       "      <td>45</td>\n",
       "    </tr>\n",
       "  </tbody>\n",
       "</table>\n",
       "</div>"
      ],
      "text/plain": [
       "   Col1  Col2  Col3  Col4  Col5\n",
       "0    68    33    61    62    26\n",
       "1    24    30    91    46    11\n",
       "2    91    22    70    90    39\n",
       "3    17    14    35    73    82\n",
       "4    98    23    55    57    26\n",
       "5    32    40    76    62    45"
      ]
     },
     "execution_count": 1,
     "metadata": {},
     "output_type": "execute_result"
    }
   ],
   "source": [
    "import pandas as pd\n",
    "import numpy as np\n",
    "\n",
    "# Let us create a dataframe and name the row and column labels of our choice\n",
    "arr2 = np.random.randint(10,100, size= (6,5))\n",
    "df = pd.DataFrame(data=arr2, columns=['Col1', 'Col2', 'Col3', 'Col4', 'Col5'])\n",
    "df"
   ]
  },
  {
   "cell_type": "markdown",
   "id": "832f6027",
   "metadata": {},
   "source": [
    "### b. Use index and subscript operator"
   ]
  },
  {
   "cell_type": "code",
   "execution_count": 3,
   "id": "b518c0f6",
   "metadata": {},
   "outputs": [
    {
     "data": {
      "text/plain": [
       "RangeIndex(start=0, stop=6, step=1)"
      ]
     },
     "execution_count": 3,
     "metadata": {},
     "output_type": "execute_result"
    }
   ],
   "source": [
    "df.index"
   ]
  },
  {
   "cell_type": "code",
   "execution_count": 5,
   "id": "9895c7ea",
   "metadata": {},
   "outputs": [
    {
     "name": "stdout",
     "output_type": "stream",
     "text": [
      "68\n",
      "24\n",
      "91\n",
      "17\n",
      "98\n",
      "32\n"
     ]
    }
   ],
   "source": [
    "# Iterate over all the rows of a dataframe using index and printing using [] operator\n",
    "for index in df.index:\n",
    "    print(df['Col1'][index])"
   ]
  },
  {
   "cell_type": "code",
   "execution_count": 6,
   "id": "1aeca884",
   "metadata": {},
   "outputs": [
    {
     "name": "stdout",
     "output_type": "stream",
     "text": [
      "68 62\n",
      "24 46\n",
      "91 90\n",
      "17 73\n",
      "98 57\n",
      "32 62\n"
     ]
    }
   ],
   "source": [
    "for index in df.index:\n",
    "    print(df['Col1'][index], df['Col4'][index])"
   ]
  },
  {
   "cell_type": "markdown",
   "id": "1658450f",
   "metadata": {},
   "source": [
    "### c. Use index and loc"
   ]
  },
  {
   "cell_type": "code",
   "execution_count": 8,
   "id": "730f93f5",
   "metadata": {},
   "outputs": [
    {
     "name": "stdout",
     "output_type": "stream",
     "text": [
      "68 62\n",
      "24 46\n",
      "91 90\n",
      "17 73\n",
      "98 57\n",
      "32 62\n"
     ]
    }
   ],
   "source": [
    "# Iterate over all the rows of a dataframe using index and printing using loc method\n",
    "for index in range(len(df)):\n",
    "    print(df.loc[index, 'Col1'], df.loc[index, 'Col4'])"
   ]
  },
  {
   "cell_type": "markdown",
   "id": "dd1dbf92",
   "metadata": {},
   "source": [
    "### d. Use index and iloc"
   ]
  },
  {
   "cell_type": "code",
   "execution_count": 10,
   "id": "f909f4db",
   "metadata": {},
   "outputs": [
    {
     "name": "stdout",
     "output_type": "stream",
     "text": [
      "68 62\n",
      "24 46\n",
      "91 90\n",
      "17 73\n",
      "98 57\n",
      "32 62\n"
     ]
    }
   ],
   "source": [
    "# Iterate over all the rows of a dataframe using index and printing using iloc\n",
    "for index in range(len(df)):\n",
    "    print(df.iloc[index, 0], df.iloc[index, 3])   # instead of column name give col index starting from zero"
   ]
  },
  {
   "cell_type": "markdown",
   "id": "685d574d",
   "metadata": {},
   "source": [
    "### e. Use iterrows() Function"
   ]
  },
  {
   "cell_type": "code",
   "execution_count": 12,
   "id": "8eabed4c",
   "metadata": {},
   "outputs": [
    {
     "name": "stdout",
     "output_type": "stream",
     "text": [
      "68 33 61 62 26\n",
      "24 30 91 46 11\n",
      "91 22 70 90 39\n",
      "17 14 35 73 82\n",
      "98 23 55 57 26\n",
      "32 40 76 62 45\n"
     ]
    }
   ],
   "source": [
    "# Iterate over all the rows of a dataframe using iterrows() function\n",
    "for index, row in df.iterrows(): \n",
    "            print(row['Col1'], row['Col2'], row['Col3'], row['Col4'], row['Col5'])"
   ]
  },
  {
   "cell_type": "markdown",
   "id": "cb65e219",
   "metadata": {},
   "source": [
    "### f. Use itertuples() Function"
   ]
  },
  {
   "cell_type": "code",
   "execution_count": 13,
   "id": "506d4b8a",
   "metadata": {},
   "outputs": [
    {
     "name": "stdout",
     "output_type": "stream",
     "text": [
      "68 62\n",
      "24 46\n",
      "91 90\n",
      "17 73\n",
      "98 57\n",
      "32 62\n"
     ]
    }
   ],
   "source": [
    "# Iterate over all the rows of a dataframe using df.itertuples() and builtin getattr() function\n",
    "for row in df.itertuples():\n",
    "    print(getattr(row, 'Col1'), getattr(row,'Col4'))"
   ]
  },
  {
   "cell_type": "markdown",
   "id": "a0a5df3d",
   "metadata": {},
   "source": [
    "### g. Use apply() Function"
   ]
  },
  {
   "cell_type": "code",
   "execution_count": 16,
   "id": "329b678f",
   "metadata": {},
   "outputs": [
    {
     "name": "stdout",
     "output_type": "stream",
     "text": [
      "0    68\n",
      "1    24\n",
      "2    91\n",
      "3    17\n",
      "4    98\n",
      "5    32\n",
      "dtype: int64\n"
     ]
    }
   ],
   "source": [
    "print(df.apply(lambda row: row['Col1'], axis=1))"
   ]
  },
  {
   "cell_type": "code",
   "execution_count": null,
   "id": "6f9bfde4",
   "metadata": {},
   "outputs": [],
   "source": []
  },
  {
   "cell_type": "code",
   "execution_count": null,
   "id": "06434e27",
   "metadata": {},
   "outputs": [],
   "source": []
  },
  {
   "cell_type": "code",
   "execution_count": 55,
   "id": "dc959c4a",
   "metadata": {},
   "outputs": [
    {
     "name": "stdout",
     "output_type": "stream",
     "text": [
      "index =  0\n",
      "Col1    59\n",
      "Col2    90\n",
      "Col3    30\n",
      "Col4    77\n",
      "Col5    64\n",
      "Name: 0, dtype: int64 \n",
      "\n",
      "index =  1\n",
      "Col1    52\n",
      "Col2    80\n",
      "Col3    57\n",
      "Col4    70\n",
      "Col5    81\n",
      "Name: 1, dtype: int64 \n",
      "\n"
     ]
    }
   ],
   "source": [
    "#EX2: Iterating through the first two rows\n",
    "for index, row in df.iterrows(): \n",
    "        while index < 2:\n",
    "            print(\"index = \",index)\n",
    "            print(row, \"\\n\")\n",
    "            break"
   ]
  },
  {
   "cell_type": "code",
   "execution_count": 56,
   "id": "9f1f8e94",
   "metadata": {},
   "outputs": [
    {
     "name": "stdout",
     "output_type": "stream",
     "text": [
      "90\n",
      "80\n",
      "26\n",
      "78\n",
      "46\n",
      "93\n"
     ]
    }
   ],
   "source": [
    "#EX3: Print values of Col2 only\n",
    "for index, row in df.iterrows():\n",
    "        print(df['Col2'].iloc[index])  "
   ]
  },
  {
   "cell_type": "markdown",
   "id": "14ef1a95",
   "metadata": {},
   "source": [
    "### c. Change the Values inside a Column Conditionally using iterrrows() Function"
   ]
  },
  {
   "cell_type": "code",
   "execution_count": 57,
   "id": "bf03bb1e",
   "metadata": {},
   "outputs": [
    {
     "data": {
      "text/html": [
       "<div>\n",
       "<style scoped>\n",
       "    .dataframe tbody tr th:only-of-type {\n",
       "        vertical-align: middle;\n",
       "    }\n",
       "\n",
       "    .dataframe tbody tr th {\n",
       "        vertical-align: top;\n",
       "    }\n",
       "\n",
       "    .dataframe thead th {\n",
       "        text-align: right;\n",
       "    }\n",
       "</style>\n",
       "<table border=\"1\" class=\"dataframe\">\n",
       "  <thead>\n",
       "    <tr style=\"text-align: right;\">\n",
       "      <th></th>\n",
       "      <th>Col1</th>\n",
       "      <th>Col2</th>\n",
       "      <th>Col3</th>\n",
       "      <th>Col4</th>\n",
       "      <th>Col5</th>\n",
       "    </tr>\n",
       "  </thead>\n",
       "  <tbody>\n",
       "    <tr>\n",
       "      <th>0</th>\n",
       "      <td>59</td>\n",
       "      <td>1</td>\n",
       "      <td>30</td>\n",
       "      <td>77</td>\n",
       "      <td>64</td>\n",
       "    </tr>\n",
       "    <tr>\n",
       "      <th>1</th>\n",
       "      <td>52</td>\n",
       "      <td>1</td>\n",
       "      <td>57</td>\n",
       "      <td>70</td>\n",
       "      <td>81</td>\n",
       "    </tr>\n",
       "    <tr>\n",
       "      <th>2</th>\n",
       "      <td>79</td>\n",
       "      <td>0</td>\n",
       "      <td>73</td>\n",
       "      <td>62</td>\n",
       "      <td>46</td>\n",
       "    </tr>\n",
       "    <tr>\n",
       "      <th>3</th>\n",
       "      <td>72</td>\n",
       "      <td>1</td>\n",
       "      <td>95</td>\n",
       "      <td>95</td>\n",
       "      <td>58</td>\n",
       "    </tr>\n",
       "    <tr>\n",
       "      <th>4</th>\n",
       "      <td>44</td>\n",
       "      <td>0</td>\n",
       "      <td>73</td>\n",
       "      <td>99</td>\n",
       "      <td>42</td>\n",
       "    </tr>\n",
       "    <tr>\n",
       "      <th>5</th>\n",
       "      <td>33</td>\n",
       "      <td>1</td>\n",
       "      <td>55</td>\n",
       "      <td>78</td>\n",
       "      <td>83</td>\n",
       "    </tr>\n",
       "  </tbody>\n",
       "</table>\n",
       "</div>"
      ],
      "text/plain": [
       "   Col1  Col2  Col3  Col4  Col5\n",
       "0    59     1    30    77    64\n",
       "1    52     1    57    70    81\n",
       "2    79     0    73    62    46\n",
       "3    72     1    95    95    58\n",
       "4    44     0    73    99    42\n",
       "5    33     1    55    78    83"
      ]
     },
     "execution_count": 57,
     "metadata": {},
     "output_type": "execute_result"
    }
   ],
   "source": [
    "#EX4: Change the values in Col2 conditionally\n",
    "df\n",
    "for index, row in df.iterrows():   \n",
    "    val = row['Col2']\n",
    "    if val < 50:\n",
    "        df['Col2'].iloc[index] = 0 \n",
    "        #df.at[index,'Col2'] = 0 \n",
    "    else:\n",
    "        df['Col2'].iloc[index] = 1\n",
    "        #df.at[index,'Col2'] = 1\n",
    "df"
   ]
  },
  {
   "cell_type": "markdown",
   "id": "4ad76436",
   "metadata": {},
   "source": [
    "### d. Change the Values inside a Column Conditionally using apply() Function"
   ]
  },
  {
   "cell_type": "code",
   "execution_count": 59,
   "id": "f7a602b3",
   "metadata": {},
   "outputs": [
    {
     "data": {
      "text/html": [
       "<div>\n",
       "<style scoped>\n",
       "    .dataframe tbody tr th:only-of-type {\n",
       "        vertical-align: middle;\n",
       "    }\n",
       "\n",
       "    .dataframe tbody tr th {\n",
       "        vertical-align: top;\n",
       "    }\n",
       "\n",
       "    .dataframe thead th {\n",
       "        text-align: right;\n",
       "    }\n",
       "</style>\n",
       "<table border=\"1\" class=\"dataframe\">\n",
       "  <thead>\n",
       "    <tr style=\"text-align: right;\">\n",
       "      <th></th>\n",
       "      <th>Col1</th>\n",
       "      <th>Col2</th>\n",
       "      <th>Col3</th>\n",
       "      <th>Col4</th>\n",
       "      <th>Col5</th>\n",
       "    </tr>\n",
       "  </thead>\n",
       "  <tbody>\n",
       "    <tr>\n",
       "      <th>0</th>\n",
       "      <td>59</td>\n",
       "      <td>1</td>\n",
       "      <td>30</td>\n",
       "      <td>1</td>\n",
       "      <td>1</td>\n",
       "    </tr>\n",
       "    <tr>\n",
       "      <th>1</th>\n",
       "      <td>52</td>\n",
       "      <td>1</td>\n",
       "      <td>57</td>\n",
       "      <td>1</td>\n",
       "      <td>1</td>\n",
       "    </tr>\n",
       "    <tr>\n",
       "      <th>2</th>\n",
       "      <td>79</td>\n",
       "      <td>0</td>\n",
       "      <td>73</td>\n",
       "      <td>1</td>\n",
       "      <td>0</td>\n",
       "    </tr>\n",
       "    <tr>\n",
       "      <th>3</th>\n",
       "      <td>72</td>\n",
       "      <td>1</td>\n",
       "      <td>95</td>\n",
       "      <td>1</td>\n",
       "      <td>0</td>\n",
       "    </tr>\n",
       "    <tr>\n",
       "      <th>4</th>\n",
       "      <td>44</td>\n",
       "      <td>0</td>\n",
       "      <td>73</td>\n",
       "      <td>1</td>\n",
       "      <td>0</td>\n",
       "    </tr>\n",
       "    <tr>\n",
       "      <th>5</th>\n",
       "      <td>33</td>\n",
       "      <td>1</td>\n",
       "      <td>55</td>\n",
       "      <td>1</td>\n",
       "      <td>1</td>\n",
       "    </tr>\n",
       "  </tbody>\n",
       "</table>\n",
       "</div>"
      ],
      "text/plain": [
       "   Col1  Col2  Col3  Col4  Col5\n",
       "0    59     1    30     1     1\n",
       "1    52     1    57     1     1\n",
       "2    79     0    73     1     0\n",
       "3    72     1    95     1     0\n",
       "4    44     0    73     1     0\n",
       "5    33     1    55     1     1"
      ]
     },
     "execution_count": 59,
     "metadata": {},
     "output_type": "execute_result"
    }
   ],
   "source": [
    "#EX5: Change the values in Col4 conditionally\n",
    "# Another way to perform the above function is using lambda function in apply method\n",
    "# apply() method allows the users to pass a function and apply it on every single value of that specific column\n",
    "df['Col5'] = df['Col5'].apply(lambda x : 0 if x < 60 else 1)\n",
    "\n",
    "df"
   ]
  },
  {
   "cell_type": "code",
   "execution_count": null,
   "id": "6f0f0db6",
   "metadata": {},
   "outputs": [],
   "source": []
  },
  {
   "cell_type": "markdown",
   "id": "cc476cae",
   "metadata": {},
   "source": [
    "## 5. How to Write a Dataframe to a File"
   ]
  },
  {
   "cell_type": "code",
   "execution_count": null,
   "id": "4c7001ef",
   "metadata": {},
   "outputs": [],
   "source": [
    "# Create a simple dataframe\n",
    "import pandas as pd\n",
    "\n",
    "d1 = {\n",
    "    'name': ['Arif', 'Hadeed', 'Mujahid', 'Rauf', 'Maaz'],\n",
    "    'math': [80, 82, 90, 81, 75],\n",
    "    'english': [70, 69, 74, 80, 79],\n",
    "    'urdu': [87, 71, 66, 85, 65],\n",
    "}\n",
    "# Pass this Dictionary of Python Lists to pd.Dataframe()\n",
    "df = pd.DataFrame(data=d1)\n",
    "df"
   ]
  },
  {
   "cell_type": "markdown",
   "id": "414b50cd",
   "metadata": {},
   "source": [
    "### a- Writing Dataframe to a CSV file"
   ]
  },
  {
   "cell_type": "code",
   "execution_count": null,
   "id": "b3f865f1",
   "metadata": {},
   "outputs": [],
   "source": [
    "# writing this data to a CSV file using .to_csv function\n",
    "df.to_csv('datasets/mydata.csv', sep=',')"
   ]
  },
  {
   "cell_type": "code",
   "execution_count": null,
   "id": "bbc0b436",
   "metadata": {},
   "outputs": [],
   "source": [
    "# reading the csv file\n",
    "df1 = pd.read_csv('datasets/mydata.csv')\n",
    "df1"
   ]
  },
  {
   "cell_type": "code",
   "execution_count": null,
   "id": "2923a9c7",
   "metadata": {},
   "outputs": [],
   "source": [
    "# mention the index attribute false to prevent that unnamed column\n",
    "df.to_csv('datasets/mydata.csv', sep=',', index=False)"
   ]
  },
  {
   "cell_type": "code",
   "execution_count": null,
   "id": "ddde8732",
   "metadata": {},
   "outputs": [],
   "source": [
    "# reading the csv file again\n",
    "df1 = pd.read_csv('datasets/mydata.csv')\n",
    "df1"
   ]
  },
  {
   "cell_type": "code",
   "execution_count": null,
   "id": "83665aae",
   "metadata": {},
   "outputs": [],
   "source": [
    "# You can also save data separated with tab instead of comma separated\n",
    "df.to_csv('datasets/mydata.csv', sep='\\t', index=False)"
   ]
  },
  {
   "cell_type": "code",
   "execution_count": null,
   "id": "d786825a",
   "metadata": {},
   "outputs": [],
   "source": [
    "df1 = pd.read_csv('datasets/mydata.csv', sep='\\t')\n",
    "df1"
   ]
  },
  {
   "cell_type": "markdown",
   "id": "f4ff6ded",
   "metadata": {},
   "source": [
    "### b. Writing Dataframe to Excel File"
   ]
  },
  {
   "cell_type": "code",
   "execution_count": null,
   "id": "5f231cb2",
   "metadata": {},
   "outputs": [],
   "source": [
    "# Use to_excel method\n",
    "df.to_excel('datasets/mydata.xlsx', sheet_name = 'Students', index=False)"
   ]
  },
  {
   "cell_type": "code",
   "execution_count": null,
   "id": "3d40c93d",
   "metadata": {},
   "outputs": [],
   "source": [
    "# Reading from csv\n",
    "df1 = pd.read_excel('datasets/mydata.xlsx', sheet_name = 'Students')\n",
    "df1"
   ]
  },
  {
   "cell_type": "code",
   "execution_count": null,
   "id": "dc29a35c",
   "metadata": {},
   "outputs": [],
   "source": []
  }
 ],
 "metadata": {
  "kernelspec": {
   "display_name": "Python 3 (ipykernel)",
   "language": "python",
   "name": "python3"
  },
  "language_info": {
   "codemirror_mode": {
    "name": "ipython",
    "version": 3
   },
   "file_extension": ".py",
   "mimetype": "text/x-python",
   "name": "python",
   "nbconvert_exporter": "python",
   "pygments_lexer": "ipython3",
   "version": "3.8.10"
  }
 },
 "nbformat": 4,
 "nbformat_minor": 5
}
