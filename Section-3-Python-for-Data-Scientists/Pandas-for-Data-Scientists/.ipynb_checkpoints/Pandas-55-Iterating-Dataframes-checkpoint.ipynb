{
 "cells": [
  {
   "cell_type": "markdown",
   "id": "4a87b5ef",
   "metadata": {},
   "source": [
    "---   \n",
    " <img align=\"left\" width=\"75\" height=\"75\"  src=\"https://upload.wikimedia.org/wikipedia/en/c/c8/University_of_the_Punjab_logo.png\"> \n",
    "\n",
    "<h1 align=\"center\">Department of Data Science</h1>\n",
    "<h1 align=\"center\">Course: Tools and Techniques for Data Science</h1>\n",
    "\n",
    "---\n",
    "<h3><div align=\"right\">Instructor: Muhammad Arif Butt, Ph.D.</div></h3>    "
   ]
  },
  {
   "cell_type": "markdown",
   "id": "ab0dc25c",
   "metadata": {},
   "source": [
    "<h1 align=\"center\">Pandas</h1>"
   ]
  },
  {
   "cell_type": "markdown",
   "id": "19f82705",
   "metadata": {},
   "source": [
    "## _15-Iterating Dataframes.ipynb_"
   ]
  },
  {
   "cell_type": "markdown",
   "id": "12db95e1",
   "metadata": {},
   "source": [
    "## Learning agenda of this notebook\n",
    "\n",
    "1. How to iterate a dataframe"
   ]
  },
  {
   "cell_type": "markdown",
   "id": "86eb667b",
   "metadata": {},
   "source": [
    "## 1. Create a Dataframe"
   ]
  },
  {
   "cell_type": "code",
   "execution_count": 1,
   "id": "2b98957b",
   "metadata": {},
   "outputs": [
    {
     "data": {
      "text/html": [
       "<div>\n",
       "<style scoped>\n",
       "    .dataframe tbody tr th:only-of-type {\n",
       "        vertical-align: middle;\n",
       "    }\n",
       "\n",
       "    .dataframe tbody tr th {\n",
       "        vertical-align: top;\n",
       "    }\n",
       "\n",
       "    .dataframe thead th {\n",
       "        text-align: right;\n",
       "    }\n",
       "</style>\n",
       "<table border=\"1\" class=\"dataframe\">\n",
       "  <thead>\n",
       "    <tr style=\"text-align: right;\">\n",
       "      <th></th>\n",
       "      <th>Col1</th>\n",
       "      <th>Col2</th>\n",
       "      <th>Col3</th>\n",
       "      <th>Col4</th>\n",
       "      <th>Col5</th>\n",
       "    </tr>\n",
       "  </thead>\n",
       "  <tbody>\n",
       "    <tr>\n",
       "      <th>0</th>\n",
       "      <td>78</td>\n",
       "      <td>73</td>\n",
       "      <td>82</td>\n",
       "      <td>54</td>\n",
       "      <td>23</td>\n",
       "    </tr>\n",
       "    <tr>\n",
       "      <th>1</th>\n",
       "      <td>55</td>\n",
       "      <td>67</td>\n",
       "      <td>65</td>\n",
       "      <td>54</td>\n",
       "      <td>93</td>\n",
       "    </tr>\n",
       "    <tr>\n",
       "      <th>2</th>\n",
       "      <td>69</td>\n",
       "      <td>12</td>\n",
       "      <td>60</td>\n",
       "      <td>89</td>\n",
       "      <td>99</td>\n",
       "    </tr>\n",
       "    <tr>\n",
       "      <th>3</th>\n",
       "      <td>69</td>\n",
       "      <td>54</td>\n",
       "      <td>33</td>\n",
       "      <td>64</td>\n",
       "      <td>46</td>\n",
       "    </tr>\n",
       "    <tr>\n",
       "      <th>4</th>\n",
       "      <td>23</td>\n",
       "      <td>85</td>\n",
       "      <td>30</td>\n",
       "      <td>45</td>\n",
       "      <td>32</td>\n",
       "    </tr>\n",
       "    <tr>\n",
       "      <th>5</th>\n",
       "      <td>32</td>\n",
       "      <td>84</td>\n",
       "      <td>20</td>\n",
       "      <td>78</td>\n",
       "      <td>34</td>\n",
       "    </tr>\n",
       "  </tbody>\n",
       "</table>\n",
       "</div>"
      ],
      "text/plain": [
       "   Col1  Col2  Col3  Col4  Col5\n",
       "0    78    73    82    54    23\n",
       "1    55    67    65    54    93\n",
       "2    69    12    60    89    99\n",
       "3    69    54    33    64    46\n",
       "4    23    85    30    45    32\n",
       "5    32    84    20    78    34"
      ]
     },
     "execution_count": 1,
     "metadata": {},
     "output_type": "execute_result"
    }
   ],
   "source": [
    "import pandas as pd\n",
    "import numpy as np\n",
    "\n",
    "# Let us create a dataframe and name the row and column labels of our choice\n",
    "arr2 = np.random.randint(10,100, size= (6,5))\n",
    "df = pd.DataFrame(data=arr2, columns=['Col1', 'Col2', 'Col3', 'Col4', 'Col5'])\n",
    "df"
   ]
  },
  {
   "cell_type": "markdown",
   "id": "832f6027",
   "metadata": {},
   "source": [
    "## 2. Iterate using index and subscript operator"
   ]
  },
  {
   "cell_type": "code",
   "execution_count": 2,
   "id": "b518c0f6",
   "metadata": {},
   "outputs": [
    {
     "data": {
      "text/plain": [
       "RangeIndex(start=0, stop=6, step=1)"
      ]
     },
     "execution_count": 2,
     "metadata": {},
     "output_type": "execute_result"
    }
   ],
   "source": [
    "df.index"
   ]
  },
  {
   "cell_type": "code",
   "execution_count": 2,
   "id": "9895c7ea",
   "metadata": {},
   "outputs": [
    {
     "name": "stdout",
     "output_type": "stream",
     "text": [
      "73\n",
      "67\n",
      "12\n",
      "54\n",
      "85\n",
      "84\n"
     ]
    }
   ],
   "source": [
    "# Iterate over all the rows of a dataframe using index and printing using [] operator\n",
    "for index in df.index:\n",
    "    print(df['Col2'][index])"
   ]
  },
  {
   "cell_type": "code",
   "execution_count": 4,
   "id": "1aeca884",
   "metadata": {},
   "outputs": [
    {
     "name": "stdout",
     "output_type": "stream",
     "text": [
      "54 48\n",
      "91 91\n",
      "77 98\n",
      "93 94\n",
      "72 34\n",
      "84 86\n"
     ]
    }
   ],
   "source": [
    "for index in df.index:\n",
    "    print(df['Col1'][index], df['Col4'][index])"
   ]
  },
  {
   "cell_type": "markdown",
   "id": "1658450f",
   "metadata": {},
   "source": [
    "## 3. Iterate using index and loc"
   ]
  },
  {
   "cell_type": "code",
   "execution_count": 5,
   "id": "730f93f5",
   "metadata": {},
   "outputs": [
    {
     "name": "stdout",
     "output_type": "stream",
     "text": [
      "54 48\n",
      "91 91\n",
      "77 98\n",
      "93 94\n",
      "72 34\n",
      "84 86\n"
     ]
    }
   ],
   "source": [
    "# Iterate over all the rows of a dataframe using index and printing using loc method\n",
    "for index in range(len(df)):\n",
    "    print(df.loc[index, 'Col1'], df.loc[index, 'Col4'])"
   ]
  },
  {
   "cell_type": "markdown",
   "id": "dd1dbf92",
   "metadata": {},
   "source": [
    "## 4. Iterate using index and iloc"
   ]
  },
  {
   "cell_type": "code",
   "execution_count": 6,
   "id": "f909f4db",
   "metadata": {},
   "outputs": [
    {
     "name": "stdout",
     "output_type": "stream",
     "text": [
      "54 48\n",
      "91 91\n",
      "77 98\n",
      "93 94\n",
      "72 34\n",
      "84 86\n"
     ]
    }
   ],
   "source": [
    "# Iterate over all the rows of a dataframe using index and printing using iloc\n",
    "for index in range(len(df)):\n",
    "    print(df.iloc[index, 0], df.iloc[index, 3])   # instead of column name give col index starting from zero"
   ]
  },
  {
   "cell_type": "markdown",
   "id": "685d574d",
   "metadata": {},
   "source": [
    "## 5. Iterate using `df.iterrows()` Method\n",
    "Iterate over DataFrame rows as (index, Series) pairs"
   ]
  },
  {
   "cell_type": "code",
   "execution_count": 17,
   "id": "a79511ca",
   "metadata": {},
   "outputs": [
    {
     "data": {
      "text/plain": [
       "<generator object DataFrame.iterrows at 0x7ff0e82e8c80>"
      ]
     },
     "execution_count": 17,
     "metadata": {},
     "output_type": "execute_result"
    }
   ],
   "source": [
    "df.iterrows()"
   ]
  },
  {
   "cell_type": "code",
   "execution_count": 18,
   "id": "8eabed4c",
   "metadata": {},
   "outputs": [
    {
     "name": "stdout",
     "output_type": "stream",
     "text": [
      "76 50 69 72 52\n",
      "37 21 92 91 46\n",
      "30 12 66 10 82\n",
      "49 91 84 18 46\n",
      "35 28 80 21 74\n",
      "36 86 57 18 18\n"
     ]
    }
   ],
   "source": [
    "# Iterate over all the rows of a dataframe using iterrows() function\n",
    "for index, ser in df.iterrows(): \n",
    "            print(ser['Col1'], ser['Col2'], ser['Col3'], ser['Col4'], ser['Col5'])"
   ]
  },
  {
   "cell_type": "markdown",
   "id": "cb65e219",
   "metadata": {},
   "source": [
    "## 6. Iterate using `df.itertuples()` Method"
   ]
  },
  {
   "cell_type": "code",
   "execution_count": 8,
   "id": "506d4b8a",
   "metadata": {},
   "outputs": [
    {
     "name": "stdout",
     "output_type": "stream",
     "text": [
      "54 48\n",
      "91 91\n",
      "77 98\n",
      "93 94\n",
      "72 34\n",
      "84 86\n"
     ]
    }
   ],
   "source": [
    "# Iterate over all the rows of a dataframe using df.itertuples() and builtin getattr() function\n",
    "for row in df.itertuples():\n",
    "    print(getattr(row, 'Col1'), getattr(row,'Col4'))"
   ]
  },
  {
   "cell_type": "markdown",
   "id": "a0a5df3d",
   "metadata": {},
   "source": [
    "## 7. Iterate using `df.apply()` Method"
   ]
  },
  {
   "cell_type": "code",
   "execution_count": 22,
   "id": "329b678f",
   "metadata": {},
   "outputs": [
    {
     "data": {
      "text/plain": [
       "0    76\n",
       "1    37\n",
       "2    30\n",
       "3    49\n",
       "4    35\n",
       "5    36\n",
       "dtype: int64"
      ]
     },
     "execution_count": 22,
     "metadata": {},
     "output_type": "execute_result"
    }
   ],
   "source": [
    "df.apply(lambda row: row['Col1'], axis=1)"
   ]
  },
  {
   "cell_type": "code",
   "execution_count": null,
   "id": "6f9bfde4",
   "metadata": {},
   "outputs": [],
   "source": []
  },
  {
   "cell_type": "code",
   "execution_count": null,
   "id": "06434e27",
   "metadata": {},
   "outputs": [],
   "source": []
  },
  {
   "cell_type": "code",
   "execution_count": 10,
   "id": "dc959c4a",
   "metadata": {},
   "outputs": [
    {
     "name": "stdout",
     "output_type": "stream",
     "text": [
      "index =  0\n",
      "Col1    54\n",
      "Col2    69\n",
      "Col3    76\n",
      "Col4    48\n",
      "Col5    83\n",
      "Name: 0, dtype: int64 \n",
      "\n",
      "index =  1\n",
      "Col1    91\n",
      "Col2    58\n",
      "Col3    89\n",
      "Col4    91\n",
      "Col5    10\n",
      "Name: 1, dtype: int64 \n",
      "\n"
     ]
    }
   ],
   "source": [
    "#EX2: Iterating through the first two rows\n",
    "for index, row in df.iterrows(): \n",
    "        while index < 2:\n",
    "            print(\"index = \",index)\n",
    "            print(row, \"\\n\")\n",
    "            break"
   ]
  },
  {
   "cell_type": "code",
   "execution_count": 11,
   "id": "9f1f8e94",
   "metadata": {},
   "outputs": [
    {
     "name": "stdout",
     "output_type": "stream",
     "text": [
      "69\n",
      "58\n",
      "96\n",
      "37\n",
      "96\n",
      "18\n"
     ]
    }
   ],
   "source": [
    "#EX3: Print values of Col2 only\n",
    "for index, row in df.iterrows():\n",
    "        print(df['Col2'].iloc[index])  "
   ]
  },
  {
   "cell_type": "markdown",
   "id": "14ef1a95",
   "metadata": {},
   "source": [
    "## 8. Change the Values inside a Column Conditionally using iterrrows() Function"
   ]
  },
  {
   "cell_type": "code",
   "execution_count": 12,
   "id": "bf03bb1e",
   "metadata": {},
   "outputs": [
    {
     "data": {
      "text/html": [
       "<div>\n",
       "<style scoped>\n",
       "    .dataframe tbody tr th:only-of-type {\n",
       "        vertical-align: middle;\n",
       "    }\n",
       "\n",
       "    .dataframe tbody tr th {\n",
       "        vertical-align: top;\n",
       "    }\n",
       "\n",
       "    .dataframe thead th {\n",
       "        text-align: right;\n",
       "    }\n",
       "</style>\n",
       "<table border=\"1\" class=\"dataframe\">\n",
       "  <thead>\n",
       "    <tr style=\"text-align: right;\">\n",
       "      <th></th>\n",
       "      <th>Col1</th>\n",
       "      <th>Col2</th>\n",
       "      <th>Col3</th>\n",
       "      <th>Col4</th>\n",
       "      <th>Col5</th>\n",
       "    </tr>\n",
       "  </thead>\n",
       "  <tbody>\n",
       "    <tr>\n",
       "      <th>0</th>\n",
       "      <td>54</td>\n",
       "      <td>1</td>\n",
       "      <td>76</td>\n",
       "      <td>48</td>\n",
       "      <td>83</td>\n",
       "    </tr>\n",
       "    <tr>\n",
       "      <th>1</th>\n",
       "      <td>91</td>\n",
       "      <td>1</td>\n",
       "      <td>89</td>\n",
       "      <td>91</td>\n",
       "      <td>10</td>\n",
       "    </tr>\n",
       "    <tr>\n",
       "      <th>2</th>\n",
       "      <td>77</td>\n",
       "      <td>1</td>\n",
       "      <td>60</td>\n",
       "      <td>98</td>\n",
       "      <td>71</td>\n",
       "    </tr>\n",
       "    <tr>\n",
       "      <th>3</th>\n",
       "      <td>93</td>\n",
       "      <td>0</td>\n",
       "      <td>57</td>\n",
       "      <td>94</td>\n",
       "      <td>48</td>\n",
       "    </tr>\n",
       "    <tr>\n",
       "      <th>4</th>\n",
       "      <td>72</td>\n",
       "      <td>1</td>\n",
       "      <td>22</td>\n",
       "      <td>34</td>\n",
       "      <td>52</td>\n",
       "    </tr>\n",
       "    <tr>\n",
       "      <th>5</th>\n",
       "      <td>84</td>\n",
       "      <td>0</td>\n",
       "      <td>54</td>\n",
       "      <td>86</td>\n",
       "      <td>48</td>\n",
       "    </tr>\n",
       "  </tbody>\n",
       "</table>\n",
       "</div>"
      ],
      "text/plain": [
       "   Col1  Col2  Col3  Col4  Col5\n",
       "0    54     1    76    48    83\n",
       "1    91     1    89    91    10\n",
       "2    77     1    60    98    71\n",
       "3    93     0    57    94    48\n",
       "4    72     1    22    34    52\n",
       "5    84     0    54    86    48"
      ]
     },
     "execution_count": 12,
     "metadata": {},
     "output_type": "execute_result"
    }
   ],
   "source": [
    "#EX4: Change the values in Col2 conditionally\n",
    "df\n",
    "for index, row in df.iterrows():   \n",
    "    val = row['Col2']\n",
    "    if val < 50:\n",
    "        df['Col2'].iloc[index] = 0 \n",
    "        #df.at[index,'Col2'] = 0 \n",
    "    else:\n",
    "        df['Col2'].iloc[index] = 1\n",
    "        #df.at[index,'Col2'] = 1\n",
    "df"
   ]
  },
  {
   "cell_type": "markdown",
   "id": "4ad76436",
   "metadata": {},
   "source": [
    "## 9. Change the Values inside a Column Conditionally using apply() Function"
   ]
  },
  {
   "cell_type": "code",
   "execution_count": 13,
   "id": "f7a602b3",
   "metadata": {},
   "outputs": [
    {
     "data": {
      "text/html": [
       "<div>\n",
       "<style scoped>\n",
       "    .dataframe tbody tr th:only-of-type {\n",
       "        vertical-align: middle;\n",
       "    }\n",
       "\n",
       "    .dataframe tbody tr th {\n",
       "        vertical-align: top;\n",
       "    }\n",
       "\n",
       "    .dataframe thead th {\n",
       "        text-align: right;\n",
       "    }\n",
       "</style>\n",
       "<table border=\"1\" class=\"dataframe\">\n",
       "  <thead>\n",
       "    <tr style=\"text-align: right;\">\n",
       "      <th></th>\n",
       "      <th>Col1</th>\n",
       "      <th>Col2</th>\n",
       "      <th>Col3</th>\n",
       "      <th>Col4</th>\n",
       "      <th>Col5</th>\n",
       "    </tr>\n",
       "  </thead>\n",
       "  <tbody>\n",
       "    <tr>\n",
       "      <th>0</th>\n",
       "      <td>54</td>\n",
       "      <td>1</td>\n",
       "      <td>76</td>\n",
       "      <td>48</td>\n",
       "      <td>1</td>\n",
       "    </tr>\n",
       "    <tr>\n",
       "      <th>1</th>\n",
       "      <td>91</td>\n",
       "      <td>1</td>\n",
       "      <td>89</td>\n",
       "      <td>91</td>\n",
       "      <td>0</td>\n",
       "    </tr>\n",
       "    <tr>\n",
       "      <th>2</th>\n",
       "      <td>77</td>\n",
       "      <td>1</td>\n",
       "      <td>60</td>\n",
       "      <td>98</td>\n",
       "      <td>1</td>\n",
       "    </tr>\n",
       "    <tr>\n",
       "      <th>3</th>\n",
       "      <td>93</td>\n",
       "      <td>0</td>\n",
       "      <td>57</td>\n",
       "      <td>94</td>\n",
       "      <td>0</td>\n",
       "    </tr>\n",
       "    <tr>\n",
       "      <th>4</th>\n",
       "      <td>72</td>\n",
       "      <td>1</td>\n",
       "      <td>22</td>\n",
       "      <td>34</td>\n",
       "      <td>0</td>\n",
       "    </tr>\n",
       "    <tr>\n",
       "      <th>5</th>\n",
       "      <td>84</td>\n",
       "      <td>0</td>\n",
       "      <td>54</td>\n",
       "      <td>86</td>\n",
       "      <td>0</td>\n",
       "    </tr>\n",
       "  </tbody>\n",
       "</table>\n",
       "</div>"
      ],
      "text/plain": [
       "   Col1  Col2  Col3  Col4  Col5\n",
       "0    54     1    76    48     1\n",
       "1    91     1    89    91     0\n",
       "2    77     1    60    98     1\n",
       "3    93     0    57    94     0\n",
       "4    72     1    22    34     0\n",
       "5    84     0    54    86     0"
      ]
     },
     "execution_count": 13,
     "metadata": {},
     "output_type": "execute_result"
    }
   ],
   "source": [
    "#EX5: Change the values in Col4 conditionally\n",
    "# Another way to perform the above function is using lambda function in apply method\n",
    "# apply() method allows the users to pass a function and apply it on every single value of that specific column\n",
    "df['Col5'] = df['Col5'].apply(lambda x : 0 if x < 60 else 1)\n",
    "\n",
    "df"
   ]
  },
  {
   "cell_type": "code",
   "execution_count": null,
   "id": "6f0f0db6",
   "metadata": {},
   "outputs": [],
   "source": []
  }
 ],
 "metadata": {
  "kernelspec": {
   "display_name": "Python 3 (ipykernel)",
   "language": "python",
   "name": "python3"
  },
  "language_info": {
   "codemirror_mode": {
    "name": "ipython",
    "version": 3
   },
   "file_extension": ".py",
   "mimetype": "text/x-python",
   "name": "python",
   "nbconvert_exporter": "python",
   "pygments_lexer": "ipython3",
   "version": "3.8.10"
  }
 },
 "nbformat": 4,
 "nbformat_minor": 5
}
