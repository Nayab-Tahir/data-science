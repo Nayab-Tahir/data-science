{
 "cells": [
  {
   "cell_type": "markdown",
   "id": "07d04291",
   "metadata": {},
   "source": [
    "---   \n",
    " <img align=\"left\" width=\"75\" height=\"75\"  src=\"https://upload.wikimedia.org/wikipedia/en/c/c8/University_of_the_Punjab_logo.png\"> \n",
    "\n",
    "<h1 align=\"center\">Department of Data Science</h1>\n",
    "<h1 align=\"center\">Course: Tools and Techniques for Data Science</h1>\n",
    "\n",
    "---\n",
    "<h3><div align=\"right\">Instructor: Muhammad Arif Butt, Ph.D.</div></h3>    "
   ]
  },
  {
   "cell_type": "markdown",
   "id": "f362a88f",
   "metadata": {},
   "source": [
    "<h1 align=\"center\">Lecture 3.1 (NumPy-01)</h1>"
   ]
  },
  {
   "cell_type": "markdown",
   "id": "c96db45f",
   "metadata": {},
   "source": [
    "<a href=\"https://colab.research.google.com/github/arifpucit/data-science/blob/master/Section-2-Basics-of-Python-Programming/Lec-2.02-Anaconda-and-Jupyter-Notebook/02-markdown-example.ipynb\" target=\"_parent\"><img src=\"https://colab.research.google.com/assets/colab-badge.svg\" alt=\"Open In Colab\"/></a>"
   ]
  },
  {
   "cell_type": "markdown",
   "id": "fa7486dc",
   "metadata": {},
   "source": [
    "# _01-NumPy-ArrayCreation.ipynb_"
   ]
  },
  {
   "cell_type": "markdown",
   "id": "c4837a46",
   "metadata": {},
   "source": [
    "<img align=\"center\" width=\"400\" height=\"400\"  src=\"images/numpyintro.png\" > "
   ]
  },
  {
   "cell_type": "code",
   "execution_count": null,
   "id": "18f7ad6e",
   "metadata": {},
   "outputs": [],
   "source": []
  },
  {
   "cell_type": "code",
   "execution_count": null,
   "id": "85b301cc",
   "metadata": {},
   "outputs": [],
   "source": []
  },
  {
   "cell_type": "code",
   "execution_count": null,
   "id": "0f890596",
   "metadata": {},
   "outputs": [],
   "source": []
  },
  {
   "cell_type": "markdown",
   "id": "2a5c5e74",
   "metadata": {},
   "source": [
    "# Learning agenda of this notebook\n",
    "1. Introduction to Numpy Library\n",
    "2. Array Creation using `np.array()` constructor\n",
    "3. Miscellaneous Array Creation Functions\n",
    "    - `np.zeros()`\n",
    "    - `np.ones()`\n",
    "    - `np.empty()`\n",
    "    - `np.full()`\n",
    "    - `np.eye()`\n",
    "    - `np.fromstring()`\n",
    "    - `np.arange()`\n",
    "    - `np.linspace()`\n",
    "    - `np.random.rand()`\n",
    "    - `np.random.randint()`\n",
    "    - `np.zeros_like()`"
   ]
  },
  {
   "cell_type": "code",
   "execution_count": null,
   "id": "166dd8a2",
   "metadata": {},
   "outputs": [],
   "source": []
  },
  {
   "cell_type": "code",
   "execution_count": null,
   "id": "ac7bc64b",
   "metadata": {},
   "outputs": [],
   "source": []
  },
  {
   "cell_type": "code",
   "execution_count": null,
   "id": "ce98aac6",
   "metadata": {},
   "outputs": [],
   "source": []
  },
  {
   "cell_type": "markdown",
   "id": "307bcc79",
   "metadata": {},
   "source": [
    "## 1. Introduction to Numpy Library\n",
    "<img align=\"right\" width=\"500\" height=\"300\"  src=\"images/ndarrays.png\" > \n",
    "\n",
    "- *A **NumPy array** (https://numpy.org) is a numerically ordered sequence of elements stored contiguously in memory, that can store elements of homogeneous types (usually numbers but can be boolians, strings, or other objects), is iterable, mutable, non-growable/shrinkable and allows duplicate elements.*\n",
    "- Some attributes of NumPy Array:\n",
    ">- **ndim:** The number of dimensions, can be 1, 2, 3, ... N\n",
    ">- **axis:** Each dimension is called an axis: `axis 0` is the vertical axis, goes from top to bottom, represents the number of rows, `axis 1` is the horizontal axis, goes from left to right, represents the number of columns, `axis 2` is the number of columns along z axis\n",
    ">- **rank:** The number of axes is called the rank.\n",
    ">- **shape:** It is a tuple whose length is the rank and elements are dimension of each axis.\n",
    ">- **size:** It is the total number of elements, which is the product of all axis lengths.\n",
    ">- **itemsize:** It gives you the size in bytes of each element of the array (depends on dtype).\n",
    ">- **nbytes:** It gives you the total number of bytes occupied by entire array object in memory (size x itemsize)."
   ]
  },
  {
   "cell_type": "code",
   "execution_count": 8,
   "id": "c2831c56",
   "metadata": {},
   "outputs": [
    {
     "name": "stdout",
     "output_type": "stream",
     "text": [
      "Requirement already satisfied: numpy in /Library/Frameworks/Python.framework/Versions/3.8/lib/python3.8/site-packages (1.19.5)\r\n"
     ]
    }
   ],
   "source": [
    "# Unlike the other modules, we have been working so far, you have to download and install numPy\n",
    "# To install this library in Jupyter notebook\n",
    "import sys\n",
    "!{sys.executable} -m pip install numpy"
   ]
  },
  {
   "cell_type": "code",
   "execution_count": 9,
   "id": "dba905d0",
   "metadata": {},
   "outputs": [
    {
     "data": {
      "text/plain": [
       "('1.19.5',\n",
       " ['/Library/Frameworks/Python.framework/Versions/3.8/lib/python3.8/site-packages/numpy'])"
      ]
     },
     "execution_count": 9,
     "metadata": {},
     "output_type": "execute_result"
    }
   ],
   "source": [
    "import numpy as np\n",
    "np.__version__ , np.__path__"
   ]
  },
  {
   "cell_type": "code",
   "execution_count": null,
   "id": "3a1ea773",
   "metadata": {},
   "outputs": [],
   "source": []
  },
  {
   "cell_type": "code",
   "execution_count": null,
   "id": "5c001cfc",
   "metadata": {},
   "outputs": [],
   "source": []
  },
  {
   "cell_type": "code",
   "execution_count": null,
   "id": "334f89af",
   "metadata": {},
   "outputs": [],
   "source": []
  },
  {
   "cell_type": "code",
   "execution_count": null,
   "id": "b92c0712",
   "metadata": {},
   "outputs": [],
   "source": []
  },
  {
   "cell_type": "markdown",
   "id": "acd0efbb",
   "metadata": {},
   "source": [
    "## 2.  Array Creation using `np.array()` Constructor\n",
    "```\n",
    "np.array(seq, dtype)\n",
    "```\n",
    "- The only required argument is a sequence like object like a list from which to create an array\n",
    "- The optional dtype argument specifies the data type of the array objects. For integer values it is normally int64, and for float objects it is float64.  You can pass dtype as an optional argument, if you want to limit memory usage. To check for available data types in Numpy check the value of **`np.sctypes`** attribute:\n",
    "    - **`int`:** `numpy.int8, numpy.int16, numpy.int32, numpy.int64`\n",
    "    - **`uint`:** `numpy.uint8, numpy.uint16, numpy.uint32, numpy.uint64`\n",
    "    - **`float`:** `numpy.float16, numpy.float32, numpy.float64, numpy.float128`\n",
    "    - **`complex`:** `numpy.complex64, numpy.complex128, numpy.complex256`\n",
    "    - **`others`:** `bool, object, bytes, str, numpy.void`"
   ]
  },
  {
   "cell_type": "code",
   "execution_count": 3,
   "id": "8fe6d012",
   "metadata": {},
   "outputs": [
    {
     "data": {
      "text/plain": [
       "{'int': [numpy.int8, numpy.int16, numpy.int32, numpy.int64],\n",
       " 'uint': [numpy.uint8, numpy.uint16, numpy.uint32, numpy.uint64],\n",
       " 'float': [numpy.float16, numpy.float32, numpy.float64, numpy.float128],\n",
       " 'complex': [numpy.complex64, numpy.complex128, numpy.complex256],\n",
       " 'others': [bool, object, bytes, str, numpy.void]}"
      ]
     },
     "execution_count": 3,
     "metadata": {},
     "output_type": "execute_result"
    }
   ],
   "source": [
    "np.sctypes"
   ]
  },
  {
   "cell_type": "code",
   "execution_count": null,
   "id": "e8e17ac9",
   "metadata": {},
   "outputs": [],
   "source": []
  },
  {
   "cell_type": "code",
   "execution_count": null,
   "id": "8ad8c561",
   "metadata": {},
   "outputs": [],
   "source": []
  },
  {
   "cell_type": "code",
   "execution_count": null,
   "id": "ec541f81",
   "metadata": {},
   "outputs": [],
   "source": []
  },
  {
   "cell_type": "code",
   "execution_count": null,
   "id": "663fa5c9",
   "metadata": {},
   "outputs": [],
   "source": []
  },
  {
   "cell_type": "code",
   "execution_count": null,
   "id": "757eb216",
   "metadata": {},
   "outputs": [],
   "source": []
  },
  {
   "cell_type": "markdown",
   "id": "b8dbea3f",
   "metadata": {},
   "source": [
    "### a.  Creating an Empty NumPy Array"
   ]
  },
  {
   "cell_type": "code",
   "execution_count": 4,
   "id": "a72abbe2",
   "metadata": {},
   "outputs": [
    {
     "name": "stdout",
     "output_type": "stream",
     "text": [
      "[]\n",
      "<class 'numpy.ndarray'>\n"
     ]
    }
   ],
   "source": [
    "import numpy as np\n",
    "arr = np.array([])\n",
    "print(arr)\n",
    "print(type(arr))"
   ]
  },
  {
   "cell_type": "markdown",
   "id": "38beed8a",
   "metadata": {},
   "source": [
    "### b.  0-Dimensional Array\n",
    "- A 0-D array has a single scalar value, and has zero or no axis"
   ]
  },
  {
   "cell_type": "code",
   "execution_count": 1,
   "id": "e25df0a4",
   "metadata": {},
   "outputs": [
    {
     "name": "stdout",
     "output_type": "stream",
     "text": [
      "array:  10\n"
     ]
    }
   ],
   "source": [
    "# Create a 0-D numpy array using array() constructor\n",
    "import numpy as np\n",
    "arr = np.array(10)\n",
    "print(\"array: \", arr)"
   ]
  },
  {
   "cell_type": "code",
   "execution_count": null,
   "id": "0e297790",
   "metadata": {},
   "outputs": [],
   "source": []
  },
  {
   "cell_type": "code",
   "execution_count": null,
   "id": "ac694dc5",
   "metadata": {},
   "outputs": [],
   "source": []
  },
  {
   "cell_type": "code",
   "execution_count": null,
   "id": "85d38e34",
   "metadata": {},
   "outputs": [],
   "source": []
  },
  {
   "cell_type": "code",
   "execution_count": null,
   "id": "80564e6f",
   "metadata": {},
   "outputs": [],
   "source": []
  },
  {
   "cell_type": "code",
   "execution_count": null,
   "id": "f4b11685",
   "metadata": {},
   "outputs": [],
   "source": []
  },
  {
   "cell_type": "markdown",
   "id": "07a08a79",
   "metadata": {},
   "source": [
    "### c.  1-Dimensional Arrays\n",
    "<img align=\"left\" width=\"200\" height=\"100\"  src=\"images/1d.png\" > \n",
    "\n",
    "- An array that has 0-D arrays or scalar values, as its elements is called a 1-D array. \n",
    "- Used to represent vectors or 1st order tensors.\n",
    "- A 1-D array has only one axis:\n",
    "    - **axis 0:** or vertical axis   or x-axis or number of rows"
   ]
  },
  {
   "cell_type": "code",
   "execution_count": 6,
   "id": "3530bb63",
   "metadata": {},
   "outputs": [
    {
     "name": "stdout",
     "output_type": "stream",
     "text": [
      "array:  [1 4 2 5 3]\n",
      "arr.ndim:  1\n",
      "arr.shape:  (5,)\n",
      "arr.size:  5\n",
      "arr.dtype:  uint16\n",
      "arr.itemsize:  2\n",
      "arr.nbytes:  10\n"
     ]
    }
   ],
   "source": [
    "# Create a 1-D numpy array using array() constructor of numpy\n",
    "\n",
    "mylist = [1, 4, 2, 5, 3]\n",
    "arr = np.array(mylist, dtype=np.uint16)\n",
    "arr = np.array([1, 4, 2, 5, 3], dtype=np.uint16)\n",
    "\n",
    "print(\"array: \", arr)\n",
    "print(\"arr.ndim: \", arr.ndim)   # get number of dimensions\n",
    "print(\"arr.shape: \", arr.shape) # This is 1-D array having 5 columns, so return a tuple with one element\n",
    "print(\"arr.size: \", arr.size)   # get total number of elements\n",
    "print(\"arr.dtype: \", arr.dtype) # get data type, default is what is minimum required to hold the max size element\n",
    "print(\"arr.itemsize: \", arr.itemsize)  # get size in bytes of each element of the array\n",
    "print(\"arr.nbytes: \", arr.nbytes)  # get number of bytes occupied by entire array object in memory (2*5=10)"
   ]
  },
  {
   "cell_type": "code",
   "execution_count": null,
   "id": "43808214",
   "metadata": {},
   "outputs": [],
   "source": []
  },
  {
   "cell_type": "code",
   "execution_count": null,
   "id": "97caf331",
   "metadata": {},
   "outputs": [],
   "source": []
  },
  {
   "cell_type": "code",
   "execution_count": null,
   "id": "5656d7ae",
   "metadata": {},
   "outputs": [],
   "source": []
  },
  {
   "cell_type": "markdown",
   "id": "92edb9d5",
   "metadata": {},
   "source": [
    "### d.  2-Dimensional Arrays\n",
    "<img align=\"left\" width=\"200\" height=\"100\"  src=\"images/2d.png\" > \n",
    "\n",
    "- An array that has 1-D arrays as its elements is called a 2-D array. \n",
    "- Used to represent matrix or 2nd order tensors.\n",
    "- A 2-D array has two axis:\n",
    "    - **axis 0:** is the vertical axis, goes from top to bottom, represents the number of rows (5)\n",
    "    - **axis 1:** is the horizontal axis, goes from left to right, represents the number of columns (4)\n",
    "- If you've taken a linear algebra class in high school, you may recognize this 2-d array as a matrix with five rows and four columns. \n",
    "- Each row represents a city, and the columns may contain temperature, rainfall, humidity, and smog in that city respectively."
   ]
  },
  {
   "cell_type": "code",
   "execution_count": 7,
   "id": "3f19c130",
   "metadata": {},
   "outputs": [
    {
     "name": "stdout",
     "output_type": "stream",
     "text": [
      "array:  [[1 2 3 4]\n",
      " [5 6 7 8]\n",
      " [3 2 4 1]\n",
      " [7 3 4 9]\n",
      " [4 0 3 1]]\n",
      "arr.ndim:  2\n",
      "arr.shape:  (5, 4)\n",
      "arr.size:  20\n",
      "arr.dtype:  int64\n",
      "arr.itemsize:  8\n",
      "arr.nbytes:  160\n"
     ]
    }
   ],
   "source": [
    "# creating 2-D (5x4) array using array constructor in numpy\n",
    "\n",
    "mylist = [\n",
    "          [1, 2, 3, 4], \n",
    "          [5, 6, 7, 8], \n",
    "          [3, 2, 4, 1], \n",
    "          [7, 3, 4, 9], \n",
    "          [4, 0, 3, 1]\n",
    "          ]\n",
    "arr = np.array(mylist)\n",
    "print(\"array: \", arr)\n",
    "print(\"arr.ndim: \", arr.ndim)   #get number of dimensions (2-D array)\n",
    "print(\"arr.shape: \", arr.shape) #get dimension size.For a 2-D array, return a tuple with two elements (rows, cols)\n",
    "print(\"arr.size: \", arr.size)   #get total number of elements (5*4=20 elements)\n",
    "print(\"arr.dtype: \", arr.dtype) #get data type, default is what is minimum required to hold the max size element\n",
    "print(\"arr.itemsize: \", arr.itemsize)  # get size in bytes of each element of the array\n",
    "print(\"arr.nbytes: \", arr.nbytes)  # get number of bytes occupied by entire array object in memory (8*20=160)"
   ]
  },
  {
   "cell_type": "code",
   "execution_count": null,
   "id": "d66656a6",
   "metadata": {},
   "outputs": [],
   "source": []
  },
  {
   "cell_type": "code",
   "execution_count": null,
   "id": "35a22b00",
   "metadata": {},
   "outputs": [],
   "source": []
  },
  {
   "cell_type": "code",
   "execution_count": null,
   "id": "8f7a7f9d",
   "metadata": {},
   "outputs": [],
   "source": []
  },
  {
   "cell_type": "markdown",
   "id": "bbd0d916",
   "metadata": {},
   "source": [
    "### e.  3-Dimensional Arrays\n",
    "<img align=\"left\" width=\"200\" height=\"100\"  src=\"images/3d.png\" > \n",
    "\n",
    "- An array that has 2-D arrays as its elements is called a 3-D array. Used to represent 3rd order tensors.\n",
    "- A 3-D array has three axis:\n",
    "    - **axis 0:** represent the number of rows along x-axis(axis 0). (5)\n",
    "    - **axis 1:** represents the number of rows along y-axis (axis 1). (4)\n",
    "    - **axis 2:** represents the number of columns along z-axis (axix 2). (3)"
   ]
  },
  {
   "cell_type": "code",
   "execution_count": 8,
   "id": "94082d91",
   "metadata": {},
   "outputs": [
    {
     "name": "stdout",
     "output_type": "stream",
     "text": [
      "array:  [[[1 2 3]\n",
      "  [5 6 7]\n",
      "  [3 2 4]\n",
      "  [7 3 4]]\n",
      "\n",
      " [[8 1 6]\n",
      "  [1 9 4]\n",
      "  [5 6 4]\n",
      "  [2 6 2]]\n",
      "\n",
      " [[5 3 2]\n",
      "  [2 0 5]\n",
      "  [8 3 0]\n",
      "  [5 6 9]]\n",
      "\n",
      " [[6 7 1]\n",
      "  [8 1 6]\n",
      "  [1 4 7]\n",
      "  [2 0 4]]\n",
      "\n",
      " [[2 8 9]\n",
      "  [3 0 4]\n",
      "  [5 2 2]\n",
      "  [1 3 8]]]\n",
      "arr.ndim:  3\n",
      "arr.shape:  (5, 4, 3)\n",
      "arr.size:  60\n",
      "arr.dtype:  int64\n",
      "arr.itemsize:  8\n",
      "arr.nbytes:  480\n"
     ]
    }
   ],
   "source": [
    "# creating 3-D (5x4x3) array using array constructor in numpy\n",
    "mylist = [\n",
    "          [[1, 2, 3], [5, 6, 7], [3, 2, 4], [7, 3, 4]],\n",
    "          [[8, 1, 6], [1, 9, 4], [5, 6, 4], [2, 6, 2]],\n",
    "          [[5, 3, 2], [2, 0, 5], [8, 3, 0], [5, 6, 9]],\n",
    "          [[6, 7, 1], [8, 1, 6], [1, 4, 7], [2, 0, 4]],\n",
    "          [[2, 8, 9], [3, 0, 4], [5, 2, 2], [1, 3, 8]],\n",
    "         ]\n",
    "arr = np.array(mylist)\n",
    "\n",
    "\n",
    "print(\"array: \", arr)\n",
    "print(\"arr.ndim: \", arr.ndim)    # get number of dimensions (3-D array)\n",
    "print(\"arr.shape: \", arr.shape)  # get dimension size.For a 3-D array, return a tuple with three elements\n",
    "print(\"arr.size: \", arr.size)    # get total number of elements (5*4*3=60 elements)\n",
    "print(\"arr.dtype: \", arr.dtype)  # get data type, default is what is minimum required to hold the max size element\n",
    "print(\"arr.itemsize: \", arr.itemsize)  # get size in bytes of each element of the array\n",
    "print(\"arr.nbytes: \", arr.nbytes)  # get number of bytes occupied by entire array object in memory (8*60=4800)"
   ]
  },
  {
   "cell_type": "code",
   "execution_count": null,
   "id": "32c21fbb",
   "metadata": {},
   "outputs": [],
   "source": []
  },
  {
   "cell_type": "code",
   "execution_count": null,
   "id": "ec14546c",
   "metadata": {},
   "outputs": [],
   "source": []
  },
  {
   "cell_type": "code",
   "execution_count": null,
   "id": "d6fed87f",
   "metadata": {},
   "outputs": [],
   "source": []
  },
  {
   "cell_type": "code",
   "execution_count": null,
   "id": "b65d9e8d",
   "metadata": {},
   "outputs": [],
   "source": []
  },
  {
   "cell_type": "markdown",
   "id": "2ad94463",
   "metadata": {},
   "source": [
    "## 3. Miscellaneous Array Creation Function\n",
    "- Numpy also provides some handy methods to create arrays of desired shapes with fixed or random values. Check out the [official documentation](https://numpy.org/doc/stable/reference/routines.array-creation.html) or use the `help` function to learn more."
   ]
  },
  {
   "cell_type": "markdown",
   "id": "cc2a77b5",
   "metadata": {},
   "source": [
    "<img align=\"right\" width=\"150\" height=\"100\"  src=\"images/zeros.png\"  > \n",
    "\n",
    "### a. Using `np.zeros()` Method\n",
    "This method returns an array of given shape and type, filled with zeros.\n",
    "\n",
    "```\n",
    "numpy.zeros(shape, dtype=float)\n",
    "```\n",
    "\n",
    "- shape : The shape is an int or tuple of ints to define the size/shape of the array.\n",
    "- dtype : The dtype is an optional parameter with default value as float."
   ]
  },
  {
   "cell_type": "code",
   "execution_count": 9,
   "id": "8db932d3",
   "metadata": {},
   "outputs": [
    {
     "data": {
      "text/plain": [
       "array([0., 0., 0.])"
      ]
     },
     "execution_count": 9,
     "metadata": {},
     "output_type": "execute_result"
    }
   ],
   "source": [
    "# Creating 1-Dimensional array of all zeros\n",
    "arr = np.zeros(3)\n",
    "arr\n",
    "# Notice that the elements are having the default data type as the float. That’s why the zeros are 0."
   ]
  },
  {
   "cell_type": "code",
   "execution_count": 10,
   "id": "57ec3ff3",
   "metadata": {},
   "outputs": [
    {
     "data": {
      "text/plain": [
       "array([[0., 0., 0.],\n",
       "       [0., 0., 0.]])"
      ]
     },
     "execution_count": 10,
     "metadata": {},
     "output_type": "execute_result"
    }
   ],
   "source": [
    "# Creating 2-Dimensional array filled with zeros\n",
    "arr = np.zeros((2,3))\n",
    "arr\n"
   ]
  },
  {
   "cell_type": "code",
   "execution_count": 11,
   "id": "c1823941",
   "metadata": {},
   "outputs": [
    {
     "data": {
      "text/plain": [
       "(array([[0, 0, 0],\n",
       "        [0, 0, 0]], dtype=int16),\n",
       " 12)"
      ]
     },
     "execution_count": 11,
     "metadata": {},
     "output_type": "execute_result"
    }
   ],
   "source": [
    "# Creating 2-Dimensional array filled with zeros of integer types\n",
    "arr = np.zeros((2,3), dtype=np.int16)\n",
    "arr, arr.nbytes"
   ]
  },
  {
   "cell_type": "code",
   "execution_count": null,
   "id": "34e3bd7e",
   "metadata": {},
   "outputs": [],
   "source": []
  },
  {
   "cell_type": "code",
   "execution_count": null,
   "id": "230c29a0",
   "metadata": {},
   "outputs": [],
   "source": []
  },
  {
   "cell_type": "code",
   "execution_count": null,
   "id": "f55f489e",
   "metadata": {},
   "outputs": [],
   "source": []
  },
  {
   "cell_type": "code",
   "execution_count": null,
   "id": "9c928b85",
   "metadata": {},
   "outputs": [],
   "source": []
  },
  {
   "cell_type": "code",
   "execution_count": null,
   "id": "0dc5e89e",
   "metadata": {},
   "outputs": [],
   "source": []
  },
  {
   "cell_type": "markdown",
   "id": "ddc10a77",
   "metadata": {},
   "source": [
    "<img align=\"right\" width=\"100\" height=\"100\"  src=\"images/ones.png\"  > \n",
    "\n",
    "### b. Using `np.ones()` Method\n",
    "This method returns an array of given shape and type, filled with ones.\n",
    "\n",
    "```\n",
    "numpy.ones(shape, dtype=float)\n",
    "```\n",
    "\n",
    "- shape : The shape is an int or tuple of ints to define the size/shape of the array.\n",
    "- dtype : The dtype is an optional parameter with default value as float."
   ]
  },
  {
   "cell_type": "code",
   "execution_count": 12,
   "id": "418071eb",
   "metadata": {},
   "outputs": [
    {
     "data": {
      "text/plain": [
       "array([1., 1., 1.])"
      ]
     },
     "execution_count": 12,
     "metadata": {},
     "output_type": "execute_result"
    }
   ],
   "source": [
    "# Creating one-dimensional array with ones\n",
    "arr = np.ones(3)\n",
    "arr\n"
   ]
  },
  {
   "cell_type": "code",
   "execution_count": 13,
   "id": "a8825242",
   "metadata": {},
   "outputs": [
    {
     "data": {
      "text/plain": [
       "array([[1., 1., 1.],\n",
       "       [1., 1., 1.]])"
      ]
     },
     "execution_count": 13,
     "metadata": {},
     "output_type": "execute_result"
    }
   ],
   "source": [
    "# Creating 2-Dimensional array having 3 columns filled with ones\n",
    "arr = np.ones((2,3))\n",
    "arr"
   ]
  },
  {
   "cell_type": "code",
   "execution_count": 14,
   "id": "3365218c",
   "metadata": {},
   "outputs": [
    {
     "data": {
      "text/plain": [
       "array([[1, 1, 1],\n",
       "       [1, 1, 1]], dtype=int16)"
      ]
     },
     "execution_count": 14,
     "metadata": {},
     "output_type": "execute_result"
    }
   ],
   "source": [
    "# Creating 2-Dimensional array having 3 columns filled with ones of integer types\n",
    "arr = np.ones((2,3), dtype=np.int16)\n",
    "arr"
   ]
  },
  {
   "cell_type": "code",
   "execution_count": null,
   "id": "3667cfc2",
   "metadata": {},
   "outputs": [],
   "source": []
  },
  {
   "cell_type": "code",
   "execution_count": null,
   "id": "23ed4eb6",
   "metadata": {},
   "outputs": [],
   "source": []
  },
  {
   "cell_type": "code",
   "execution_count": null,
   "id": "2cdb3029",
   "metadata": {},
   "outputs": [],
   "source": []
  },
  {
   "cell_type": "code",
   "execution_count": null,
   "id": "b0bf8659",
   "metadata": {},
   "outputs": [],
   "source": []
  },
  {
   "cell_type": "code",
   "execution_count": null,
   "id": "1504856f",
   "metadata": {},
   "outputs": [],
   "source": []
  },
  {
   "cell_type": "markdown",
   "id": "092ed147",
   "metadata": {},
   "source": [
    "<img align=\"right\" width=\"250\" height=\"100\"  src=\"images/empty.png\"  > \n",
    "\n",
    "### c. Using `np.empty()` Method\n",
    "This method returns an array of given shape and type, filled with junk values.\n",
    "\n",
    "```\n",
    "numpy.empty(shape, dtype=float)\n",
    "```\n",
    "\n",
    "- shape : The shape is an int or tuple of ints to define the size/shape of the array.\n",
    "- dtype : The dtype is an optional parameter with default value as float.\n",
    "\n",
    "\n",
    "Un-like numpy.zeros(), and numpy.ones(), the numpy.empty() function doesn't initialize the entries, so they contain junk values."
   ]
  },
  {
   "cell_type": "code",
   "execution_count": 15,
   "id": "b0626a6f",
   "metadata": {},
   "outputs": [
    {
     "data": {
      "text/plain": [
       "array([1., 1., 1.])"
      ]
     },
     "execution_count": 15,
     "metadata": {},
     "output_type": "execute_result"
    }
   ],
   "source": [
    "arr = np.empty(3)\n",
    "arr"
   ]
  },
  {
   "cell_type": "code",
   "execution_count": 16,
   "id": "32cd666e",
   "metadata": {},
   "outputs": [
    {
     "data": {
      "text/plain": [
       "array([257, 257, 257], dtype=int16)"
      ]
     },
     "execution_count": 16,
     "metadata": {},
     "output_type": "execute_result"
    }
   ],
   "source": [
    "arr = np.empty(3, dtype=np.int16)\n",
    "arr"
   ]
  },
  {
   "cell_type": "code",
   "execution_count": 23,
   "id": "ccc1b0f1",
   "metadata": {},
   "outputs": [
    {
     "data": {
      "text/plain": [
       "array([[     0,      0,      0],\n",
       "       [     0, -25412, -11145]], dtype=int16)"
      ]
     },
     "execution_count": 23,
     "metadata": {},
     "output_type": "execute_result"
    }
   ],
   "source": [
    "# Creating 2-Dimensional array having 3 columns filled with junk values\n",
    "arr = np.empty((2,3), dtype=np.int16)\n",
    "arr"
   ]
  },
  {
   "cell_type": "code",
   "execution_count": null,
   "id": "76ddc9d1",
   "metadata": {},
   "outputs": [],
   "source": []
  },
  {
   "cell_type": "code",
   "execution_count": null,
   "id": "964a4ae3",
   "metadata": {},
   "outputs": [],
   "source": []
  },
  {
   "cell_type": "code",
   "execution_count": null,
   "id": "94a93eea",
   "metadata": {},
   "outputs": [],
   "source": []
  },
  {
   "cell_type": "code",
   "execution_count": null,
   "id": "19950dc4",
   "metadata": {},
   "outputs": [],
   "source": []
  },
  {
   "cell_type": "code",
   "execution_count": null,
   "id": "66c813bf",
   "metadata": {},
   "outputs": [],
   "source": []
  },
  {
   "cell_type": "markdown",
   "id": "cef960cb",
   "metadata": {},
   "source": [
    "<img align=\"right\" width=\"200\" height=\"100\"  src=\"images/full.png\"  > \n",
    "\n",
    "### d. Using `np.full()` Method\n",
    "This method return a new array of given shape and type, filled with fill_value.\n",
    "```\n",
    "np.full(shape, fill_value, dtype=None)\n",
    "```\n",
    "- shape: Shape of the new array\n",
    "- fill_value: Fill value.\n",
    "- dtype\tThe desired data-type for the array"
   ]
  },
  {
   "cell_type": "code",
   "execution_count": 24,
   "id": "ffbef9b8",
   "metadata": {},
   "outputs": [
    {
     "data": {
      "text/plain": [
       "array([54, 54, 54, 54, 54, 54, 54])"
      ]
     },
     "execution_count": 24,
     "metadata": {},
     "output_type": "execute_result"
    }
   ],
   "source": [
    "arr = np.full(7, 54)\n",
    "arr"
   ]
  },
  {
   "cell_type": "code",
   "execution_count": 25,
   "id": "3650c4c8",
   "metadata": {},
   "outputs": [
    {
     "data": {
      "text/plain": [
       "array([21.5, 21.5, 21.5, 21.5, 21.5, 21.5, 21.5])"
      ]
     },
     "execution_count": 25,
     "metadata": {},
     "output_type": "execute_result"
    }
   ],
   "source": [
    "arr = np.full(7, 21.5)\n",
    "arr"
   ]
  },
  {
   "cell_type": "code",
   "execution_count": 26,
   "id": "0c012b63",
   "metadata": {},
   "outputs": [
    {
     "data": {
      "text/plain": [
       "array([[21.5, 21.5, 21.5],\n",
       "       [21.5, 21.5, 21.5]])"
      ]
     },
     "execution_count": 26,
     "metadata": {},
     "output_type": "execute_result"
    }
   ],
   "source": [
    "arr = np.full((2,3), 21.5)\n",
    "arr"
   ]
  },
  {
   "cell_type": "code",
   "execution_count": null,
   "id": "b00fb9ed",
   "metadata": {},
   "outputs": [],
   "source": []
  },
  {
   "cell_type": "code",
   "execution_count": null,
   "id": "7aed7fa6",
   "metadata": {},
   "outputs": [],
   "source": []
  },
  {
   "cell_type": "code",
   "execution_count": null,
   "id": "2cf1688d",
   "metadata": {},
   "outputs": [],
   "source": []
  },
  {
   "cell_type": "markdown",
   "id": "0476bba5",
   "metadata": {},
   "source": [
    "<img align=\"right\" width=\"120\" height=\"130\"  src=\"images/eye.png\"  >\n",
    "\n",
    "### e. Using `np.eye()` Method\n",
    "This method is used to create a 2-D array with ones on the diagonal and zeros elsewhere.\n",
    "\n",
    "```\n",
    "eye(N, M=None, k=0 , dtype=float)\n",
    "```\n",
    "- N: Number of rows in the output\n",
    "- M: Number of columns in the output. If None, defaults to N\n",
    "- k: Index of the diagonal: (Default 0) refers to the main diagonal, a positive value refers to an upper diagonal, and a negative value to a lower diagonal\n",
    "- dtype: Data-type of the returned array"
   ]
  },
  {
   "cell_type": "code",
   "execution_count": 28,
   "id": "0e0d26d2",
   "metadata": {},
   "outputs": [
    {
     "data": {
      "text/plain": [
       "array([[1., 0., 0.],\n",
       "       [0., 1., 0.],\n",
       "       [0., 0., 1.]])"
      ]
     },
     "execution_count": 28,
     "metadata": {},
     "output_type": "execute_result"
    }
   ],
   "source": [
    "# creating 2-D array using eye function\n",
    "# with 2 rows and 2 columns having 1's at on the main diagonal\n",
    "eye_arr = np.eye(3,3)\n",
    "eye_arr\n"
   ]
  },
  {
   "cell_type": "code",
   "execution_count": 29,
   "id": "a9a00e2b",
   "metadata": {},
   "outputs": [
    {
     "data": {
      "text/plain": [
       "array([[1, 0, 0],\n",
       "       [0, 1, 0],\n",
       "       [0, 0, 1],\n",
       "       [0, 0, 0]], dtype=int8)"
      ]
     },
     "execution_count": 29,
     "metadata": {},
     "output_type": "execute_result"
    }
   ],
   "source": [
    "# creating 2-D array of int type using eye function with 4 rows and 3 columns having 1's at on the main diagonal\n",
    "eye_arr = np.eye(4, 3, dtype=np.int8)\n",
    "eye_arr\n"
   ]
  },
  {
   "cell_type": "code",
   "execution_count": 30,
   "id": "d1d38f70",
   "metadata": {},
   "outputs": [
    {
     "data": {
      "text/plain": [
       "array([[0, 1, 0],\n",
       "       [0, 0, 1],\n",
       "       [0, 0, 0],\n",
       "       [0, 0, 0]])"
      ]
     },
     "execution_count": 30,
     "metadata": {},
     "output_type": "execute_result"
    }
   ],
   "source": [
    "# creating 2-D array of int type using eye function with 4 rows and 3 columns having 1's at one place higher\n",
    "eye_arr = np.eye(4, 3, k = 1, dtype=int)\n",
    "eye_arr"
   ]
  },
  {
   "cell_type": "code",
   "execution_count": 31,
   "id": "df6a499a",
   "metadata": {},
   "outputs": [
    {
     "data": {
      "text/plain": [
       "array([[0, 0, 0],\n",
       "       [1, 0, 0],\n",
       "       [0, 1, 0],\n",
       "       [0, 0, 1]])"
      ]
     },
     "execution_count": 31,
     "metadata": {},
     "output_type": "execute_result"
    }
   ],
   "source": [
    "# creating 2-D array of int type using eye function with 4 rows and 3 columns having 1's at one place lower\n",
    "eye_arr = np.eye(4, 3, k = -1, dtype=int)\n",
    "eye_arr"
   ]
  },
  {
   "cell_type": "code",
   "execution_count": null,
   "id": "7c9cd7ec",
   "metadata": {},
   "outputs": [],
   "source": []
  },
  {
   "cell_type": "code",
   "execution_count": null,
   "id": "3fd511a2",
   "metadata": {},
   "outputs": [],
   "source": []
  },
  {
   "cell_type": "code",
   "execution_count": null,
   "id": "d3ba626d",
   "metadata": {},
   "outputs": [],
   "source": []
  },
  {
   "cell_type": "markdown",
   "id": "649f820a",
   "metadata": {},
   "source": [
    "<img align=\"right\" width=\"200\" height=\"150\"  src=\"images/fromstring.png\"  > \n",
    "\n",
    "### f. Using `np.fromstring()` Method\n",
    "This function is used to create a new 1-D array initialized from raw binary or text data in a string.\n",
    "```\n",
    "np.fromstring(string, dtype, sep)\n",
    "```\n",
    "- string: A string containing the data\n",
    "- dtype: The data type of the array (by default float)\n",
    "- sep: The string separating numbers in the data"
   ]
  },
  {
   "cell_type": "code",
   "execution_count": 32,
   "id": "147af890",
   "metadata": {},
   "outputs": [
    {
     "data": {
      "text/plain": [
       "array([25., 30., 35., 40.])"
      ]
     },
     "execution_count": 32,
     "metadata": {},
     "output_type": "execute_result"
    }
   ],
   "source": [
    "# convert the space separated string '25 30 35 40' into an floats array\n",
    "arr = np.fromstring('25 30 35 40', sep=' ')\n",
    "arr"
   ]
  },
  {
   "cell_type": "code",
   "execution_count": 33,
   "id": "b6c3dc8b",
   "metadata": {},
   "outputs": [
    {
     "data": {
      "text/plain": [
       "array([25, 30, 35, 40], dtype=uint8)"
      ]
     },
     "execution_count": 33,
     "metadata": {},
     "output_type": "execute_result"
    }
   ],
   "source": [
    "# convert the space separated string '25 30 35 40' into an integer array\n",
    "arr = np.fromstring('25 30 35 40', sep=' ', dtype=np.uint8)\n",
    "arr"
   ]
  },
  {
   "cell_type": "code",
   "execution_count": 34,
   "id": "72a344df",
   "metadata": {},
   "outputs": [
    {
     "name": "stdout",
     "output_type": "stream",
     "text": [
      "[ 0.7 10.4 50.5]\n"
     ]
    }
   ],
   "source": [
    "# converting comma separated string into float type array\n",
    "arr = np.fromstring('0.7, 10.4, 50.5', sep=\",\")\n",
    "print(arr)\n"
   ]
  },
  {
   "cell_type": "code",
   "execution_count": 35,
   "id": "a8ca92d9",
   "metadata": {},
   "outputs": [
    {
     "name": "stderr",
     "output_type": "stream",
     "text": [
      "/var/folders/1t/g3ylw8h50cjdqmk5d6jh1qmm0000gn/T/ipykernel_30410/1942666505.py:2: DeprecationWarning: string or file could not be read to its end due to unmatched data; this will raise a ValueError in the future.\n",
      "  arr = np.fromstring('0.57, str, 50.555', dtype=float, sep=',')\n"
     ]
    }
   ],
   "source": [
    "# It will raise error\n",
    "arr = np.fromstring('0.57, str, 50.555', dtype=float, sep=',')"
   ]
  },
  {
   "cell_type": "code",
   "execution_count": null,
   "id": "fba185c4",
   "metadata": {},
   "outputs": [],
   "source": []
  },
  {
   "cell_type": "code",
   "execution_count": null,
   "id": "1ffde9be",
   "metadata": {},
   "outputs": [],
   "source": []
  },
  {
   "cell_type": "code",
   "execution_count": null,
   "id": "0641540e",
   "metadata": {},
   "outputs": [],
   "source": []
  },
  {
   "cell_type": "markdown",
   "id": "0d429a59",
   "metadata": {},
   "source": [
    "### g. Using `np.arange()` Method\n",
    "<img align=\"right\" width=\"200\" height=\"100\"  src=\"images/arrange.png\"  > \n",
    "This function is used to get evenly spaced values within a given interval.\n",
    "\n",
    "```\n",
    "numpy.arange([start,] stop[, step])\n",
    "```\n",
    "- If only one argument is given will generate an int64 array from zero to that value (not inclusive)\n",
    "- If two arguments are given then start value in inclusive, stop value is not inclusive and the default step is 1\n",
    "- If three arguments are given then the third argument is the distance between two adjacent values. (default step size is 1)\n",
    "- All the three arguments can be integers or floats\n",
    "\n",
    "The image shows the array created by np.arange(5,9,1)\n"
   ]
  },
  {
   "cell_type": "code",
   "execution_count": 36,
   "id": "c567ce50",
   "metadata": {},
   "outputs": [
    {
     "name": "stdout",
     "output_type": "stream",
     "text": [
      "[0 1 2 3 4]\n",
      "int64\n"
     ]
    }
   ],
   "source": [
    "arr = np.arange(5)\n",
    "print(arr)\n",
    "print(arr.dtype)"
   ]
  },
  {
   "cell_type": "code",
   "execution_count": 37,
   "id": "32a8c7a1",
   "metadata": {},
   "outputs": [
    {
     "name": "stdout",
     "output_type": "stream",
     "text": [
      "[0. 1. 2. 3. 4.]\n",
      "float64\n"
     ]
    }
   ],
   "source": [
    "arr = np.arange(5, dtype=float)\n",
    "print(arr)\n",
    "print(arr.dtype)"
   ]
  },
  {
   "cell_type": "code",
   "execution_count": 38,
   "id": "f84c7cb4",
   "metadata": {},
   "outputs": [
    {
     "data": {
      "text/plain": [
       "array([5, 6, 7, 8, 9])"
      ]
     },
     "execution_count": 38,
     "metadata": {},
     "output_type": "execute_result"
    }
   ],
   "source": [
    "arr = np.arange(5,10)\n",
    "arr"
   ]
  },
  {
   "cell_type": "code",
   "execution_count": 39,
   "id": "41f6e3c6",
   "metadata": {},
   "outputs": [
    {
     "data": {
      "text/plain": [
       "array([5, 7, 9])"
      ]
     },
     "execution_count": 39,
     "metadata": {},
     "output_type": "execute_result"
    }
   ],
   "source": [
    "arr = np.arange(5, 10, 2)\n",
    "arr"
   ]
  },
  {
   "cell_type": "code",
   "execution_count": 40,
   "id": "8b48cd16",
   "metadata": {},
   "outputs": [
    {
     "data": {
      "text/plain": [
       "array([10,  9,  8,  7,  6])"
      ]
     },
     "execution_count": 40,
     "metadata": {},
     "output_type": "execute_result"
    }
   ],
   "source": [
    "arr = np.arange(10, 5, -1)\n",
    "arr"
   ]
  },
  {
   "cell_type": "code",
   "execution_count": 41,
   "id": "591ba433",
   "metadata": {},
   "outputs": [
    {
     "data": {
      "text/plain": [
       "array([-1. , -1.5, -2. , -2.5, -3. , -3.5])"
      ]
     },
     "execution_count": 41,
     "metadata": {},
     "output_type": "execute_result"
    }
   ],
   "source": [
    "arr = np.arange(-1, -4, -.5)\n",
    "arr"
   ]
  },
  {
   "cell_type": "code",
   "execution_count": 42,
   "id": "d05da103",
   "metadata": {},
   "outputs": [
    {
     "name": "stdout",
     "output_type": "stream",
     "text": [
      "[1.  1.5 2.  2.5 3.  3.5 4.  4.5]\n"
     ]
    }
   ],
   "source": [
    "arr = np.arange(1, 5, .5)\n",
    "print(arr)"
   ]
  },
  {
   "cell_type": "code",
   "execution_count": null,
   "id": "fca7169c",
   "metadata": {},
   "outputs": [],
   "source": []
  },
  {
   "cell_type": "code",
   "execution_count": null,
   "id": "1c1acf89",
   "metadata": {},
   "outputs": [],
   "source": []
  },
  {
   "cell_type": "code",
   "execution_count": null,
   "id": "48025d5c",
   "metadata": {},
   "outputs": [],
   "source": []
  },
  {
   "cell_type": "code",
   "execution_count": null,
   "id": "d0a3a7df",
   "metadata": {},
   "outputs": [],
   "source": []
  },
  {
   "cell_type": "markdown",
   "id": "c88a4fb1",
   "metadata": {},
   "source": [
    "### h. Using `np.linspace()` Method\n",
    "<img align=\"right\" width=\"300\" height=\"200\"  src=\"images/linspace1.png\"  > \n",
    "\n",
    "This method by default returns an array of 50 evenly spaced elements starting from the first argument (inclusive) to the second argument (inclusive). The third argument, if given, is the count of number of elements of the array, default is 50.\n",
    "\n",
    "```\n",
    "numpy.linspace(start, stop, num=50)\n",
    "```"
   ]
  },
  {
   "cell_type": "code",
   "execution_count": 43,
   "id": "415725c9",
   "metadata": {},
   "outputs": [
    {
     "name": "stdout",
     "output_type": "stream",
     "text": [
      "[2.         2.33333333 2.66666667 3.        ]\n",
      "float64\n"
     ]
    }
   ],
   "source": [
    "arr = np.linspace(2,3,4)\n",
    "print(arr)\n",
    "print(arr.dtype)"
   ]
  },
  {
   "cell_type": "code",
   "execution_count": 45,
   "id": "4a98e38d",
   "metadata": {},
   "outputs": [
    {
     "name": "stdout",
     "output_type": "stream",
     "text": [
      "[1.         1.02040816 1.04081633 1.06122449 1.08163265 1.10204082\n",
      " 1.12244898 1.14285714 1.16326531 1.18367347 1.20408163 1.2244898\n",
      " 1.24489796 1.26530612 1.28571429 1.30612245 1.32653061 1.34693878\n",
      " 1.36734694 1.3877551  1.40816327 1.42857143 1.44897959 1.46938776\n",
      " 1.48979592 1.51020408 1.53061224 1.55102041 1.57142857 1.59183673\n",
      " 1.6122449  1.63265306 1.65306122 1.67346939 1.69387755 1.71428571\n",
      " 1.73469388 1.75510204 1.7755102  1.79591837 1.81632653 1.83673469\n",
      " 1.85714286 1.87755102 1.89795918 1.91836735 1.93877551 1.95918367\n",
      " 1.97959184 2.        ]\n",
      "float64\n"
     ]
    }
   ],
   "source": [
    "arr = np.linspace(1,2)\n",
    "print(arr)\n",
    "print(arr.dtype)"
   ]
  },
  {
   "cell_type": "code",
   "execution_count": 46,
   "id": "fa61f7a4",
   "metadata": {},
   "outputs": [
    {
     "name": "stdout",
     "output_type": "stream",
     "text": [
      "[-1.         -1.08163265 -1.16326531 -1.24489796 -1.32653061 -1.40816327\n",
      " -1.48979592 -1.57142857 -1.65306122 -1.73469388 -1.81632653 -1.89795918\n",
      " -1.97959184 -2.06122449 -2.14285714 -2.2244898  -2.30612245 -2.3877551\n",
      " -2.46938776 -2.55102041 -2.63265306 -2.71428571 -2.79591837 -2.87755102\n",
      " -2.95918367 -3.04081633 -3.12244898 -3.20408163 -3.28571429 -3.36734694\n",
      " -3.44897959 -3.53061224 -3.6122449  -3.69387755 -3.7755102  -3.85714286\n",
      " -3.93877551 -4.02040816 -4.10204082 -4.18367347 -4.26530612 -4.34693878\n",
      " -4.42857143 -4.51020408 -4.59183673 -4.67346939 -4.75510204 -4.83673469\n",
      " -4.91836735 -5.        ]\n"
     ]
    }
   ],
   "source": [
    "arr = np.linspace(-1,-5)\n",
    "print(arr)"
   ]
  },
  {
   "cell_type": "code",
   "execution_count": null,
   "id": "9b2689c7",
   "metadata": {},
   "outputs": [],
   "source": []
  },
  {
   "cell_type": "code",
   "execution_count": null,
   "id": "9f699b0f",
   "metadata": {},
   "outputs": [],
   "source": []
  },
  {
   "cell_type": "markdown",
   "id": "6ae200be",
   "metadata": {},
   "source": [
    "### i. Using `np.random.rand()` Method\n",
    "- This method generates an array of random floats (between 0 and 1) of as many dimensions passed as argument.\n",
    "- If no argument is passed, generates a scalar value between 0 and 1\n",
    "\n",
    "```\n",
    "numpy.random.rand(d0 [,d1] [,d2]....)\n",
    "```\n"
   ]
  },
  {
   "cell_type": "code",
   "execution_count": 57,
   "id": "30215cdf",
   "metadata": {},
   "outputs": [
    {
     "data": {
      "text/plain": [
       "0.2516260164179611"
      ]
     },
     "execution_count": 57,
     "metadata": {},
     "output_type": "execute_result"
    }
   ],
   "source": [
    "#Python's built-in random module has random() function that returns a single float between 0 and 1\n",
    "import random\n",
    "value = random.random()\n",
    "value"
   ]
  },
  {
   "cell_type": "code",
   "execution_count": 58,
   "id": "0b52089a",
   "metadata": {},
   "outputs": [
    {
     "data": {
      "text/plain": [
       "array([0.73330424, 0.43812661, 0.56596848, 0.45486744, 0.51214531])"
      ]
     },
     "execution_count": 58,
     "metadata": {},
     "output_type": "execute_result"
    }
   ],
   "source": [
    "# Creating 1-D array of 5 elements of random floats between 0 and 1\n",
    "arr = np.random.rand(5)\n",
    "arr\n"
   ]
  },
  {
   "cell_type": "code",
   "execution_count": 64,
   "id": "0cc0885d",
   "metadata": {},
   "outputs": [
    {
     "data": {
      "text/plain": [
       "array([4.33607362, 0.78119092, 4.10859073, 1.37162561, 1.70376317])"
      ]
     },
     "execution_count": 64,
     "metadata": {},
     "output_type": "execute_result"
    }
   ],
   "source": [
    "# Creating 1-D array of 5 elements of random floats between 0 and 10\n",
    "arr = np.random.rand(5)*10\n",
    "arr\n"
   ]
  },
  {
   "cell_type": "code",
   "execution_count": 65,
   "id": "cbde7fc6",
   "metadata": {},
   "outputs": [
    {
     "data": {
      "text/plain": [
       "array([[0.26865913, 0.79707145, 0.73026312],\n",
       "       [0.04682302, 0.48705421, 0.17333337],\n",
       "       [0.86869311, 0.95222452, 0.84177373],\n",
       "       [0.27084945, 0.50562113, 0.99702055]])"
      ]
     },
     "execution_count": 65,
     "metadata": {},
     "output_type": "execute_result"
    }
   ],
   "source": [
    "# Creating 2-D array (4x3) having random floats between 0 and 1\n",
    "arr = np.random.rand(4,3)\n",
    "arr"
   ]
  },
  {
   "cell_type": "code",
   "execution_count": 66,
   "id": "908d56a7",
   "metadata": {},
   "outputs": [
    {
     "data": {
      "text/plain": [
       "array([[6.22757893, 5.51504268, 7.37091015],\n",
       "       [4.71260541, 1.59607495, 6.56987965],\n",
       "       [8.03573863, 9.11115861, 0.43321932],\n",
       "       [1.57134618, 5.07485563, 8.36027025]])"
      ]
     },
     "execution_count": 66,
     "metadata": {},
     "output_type": "execute_result"
    }
   ],
   "source": [
    "# Creating 2-D array (4x3) having random floats between 0 and 10\n",
    "arr = np.random.rand(4,3)*10\n",
    "arr"
   ]
  },
  {
   "cell_type": "code",
   "execution_count": 67,
   "id": "f1713e5a",
   "metadata": {},
   "outputs": [
    {
     "data": {
      "text/plain": [
       "array([[[0.46022229, 0.68568631, 0.02691946],\n",
       "        [0.32932096, 0.31757644, 0.58400298],\n",
       "        [0.8748877 , 0.62493768, 0.33046376],\n",
       "        [0.47144154, 0.95754875, 0.6939116 ]],\n",
       "\n",
       "       [[0.72138725, 0.37898658, 0.71886202],\n",
       "        [0.35410542, 0.10208396, 0.43341983],\n",
       "        [0.63056472, 0.25882903, 0.89294499],\n",
       "        [0.8045415 , 0.36717918, 0.917939  ]],\n",
       "\n",
       "       [[0.35047891, 0.34515628, 0.45087798],\n",
       "        [0.3941456 , 0.62580203, 0.78587664],\n",
       "        [0.28688956, 0.53597233, 0.64760892],\n",
       "        [0.16349175, 0.35212498, 0.59345578]],\n",
       "\n",
       "       [[0.94353131, 0.96802591, 0.87076817],\n",
       "        [0.62120313, 0.37112594, 0.39225916],\n",
       "        [0.06170176, 0.42090752, 0.1468633 ],\n",
       "        [0.59785886, 0.02603709, 0.11847262]],\n",
       "\n",
       "       [[0.85308663, 0.50297553, 0.40250721],\n",
       "        [0.30585556, 0.42862618, 0.5787846 ],\n",
       "        [0.19915658, 0.97327125, 0.7416632 ],\n",
       "        [0.29412694, 0.97579625, 0.85737534]]])"
      ]
     },
     "execution_count": 67,
     "metadata": {},
     "output_type": "execute_result"
    }
   ],
   "source": [
    "# Creating 3-D array of with random values using np.random.rand()\n",
    "arr = np.random.rand(5,4,3)\n",
    "arr"
   ]
  },
  {
   "cell_type": "code",
   "execution_count": null,
   "id": "f709212b",
   "metadata": {},
   "outputs": [],
   "source": []
  },
  {
   "cell_type": "code",
   "execution_count": null,
   "id": "46e49255",
   "metadata": {},
   "outputs": [],
   "source": []
  },
  {
   "cell_type": "code",
   "execution_count": null,
   "id": "a4a2fd10",
   "metadata": {},
   "outputs": [],
   "source": []
  },
  {
   "cell_type": "markdown",
   "id": "f97ace7a",
   "metadata": {},
   "source": [
    "### i. Using `np.random.randint()` Method\n",
    "This method returns an array of specified shape and fills it with random integers.\n",
    "```\n",
    "numpy.random.randint(low, high=None, size)\n",
    "```\n",
    "- low: Lowest (signed) integer to be drawn from the distribution. But, it works as a highest integer in the sample if high=None.\n",
    "- high: Largest (signed) integer to be drawn from the distribution (not inclusive)\n",
    "- size: number of samples to be generated (default is 1 for scalar and >1 for 1-D array and a tupple for ndarray)"
   ]
  },
  {
   "cell_type": "code",
   "execution_count": 68,
   "id": "967ec0b5",
   "metadata": {},
   "outputs": [
    {
     "data": {
      "text/plain": [
       "2"
      ]
     },
     "execution_count": 68,
     "metadata": {},
     "output_type": "execute_result"
    }
   ],
   "source": [
    "# Generating a random integer scalar b/w interval (0,9) \n",
    "value = np.random.randint(10)\n",
    "value"
   ]
  },
  {
   "cell_type": "code",
   "execution_count": 71,
   "id": "a773e1bf",
   "metadata": {},
   "outputs": [
    {
     "data": {
      "text/plain": [
       "13"
      ]
     },
     "execution_count": 71,
     "metadata": {},
     "output_type": "execute_result"
    }
   ],
   "source": [
    "# Generating a random integer scalar b/w interval (5,19) \n",
    "value = np.random.randint(low=5, high=20)\n",
    "value"
   ]
  },
  {
   "cell_type": "code",
   "execution_count": 81,
   "id": "8d8c685b",
   "metadata": {},
   "outputs": [
    {
     "data": {
      "text/plain": [
       "3"
      ]
     },
     "execution_count": 81,
     "metadata": {},
     "output_type": "execute_result"
    }
   ],
   "source": [
    "# Generating a random integer scalar from -5 to 4 \n",
    "value = np.random.randint(low=-5, high=5)\n",
    "value"
   ]
  },
  {
   "cell_type": "code",
   "execution_count": 86,
   "id": "830eee4b",
   "metadata": {},
   "outputs": [
    {
     "data": {
      "text/plain": [
       "array([11, 99, 52, 35, 80, 40])"
      ]
     },
     "execution_count": 86,
     "metadata": {},
     "output_type": "execute_result"
    }
   ],
   "source": [
    "# creating 1-D array of size 6 of int type b/w interval (1,100) \n",
    "arr = np.random.randint(low=1, high=101, size=6)\n",
    "arr"
   ]
  },
  {
   "cell_type": "code",
   "execution_count": 87,
   "id": "ad60a9b1",
   "metadata": {},
   "outputs": [
    {
     "data": {
      "text/plain": [
       "array([-2, -1, -3, -1])"
      ]
     },
     "execution_count": 87,
     "metadata": {},
     "output_type": "execute_result"
    }
   ],
   "source": [
    "# creating 1-D array of size 6 of int type b/w interval (-5,4) \n",
    "arr = np.random.randint(low = -5, high = 5, size = 4)\n",
    "arr"
   ]
  },
  {
   "cell_type": "code",
   "execution_count": 101,
   "id": "5b72f8a5",
   "metadata": {},
   "outputs": [
    {
     "data": {
      "text/plain": [
       "array([[8, 5, 8],\n",
       "       [4, 2, 6],\n",
       "       [3, 4, 4]])"
      ]
     },
     "execution_count": 101,
     "metadata": {},
     "output_type": "execute_result"
    }
   ],
   "source": [
    "# By passing a tuple to size means rows and columns\n",
    "arr = np.random.randint(low = 1, high = 10, size = (3,3))\n",
    "arr"
   ]
  },
  {
   "cell_type": "code",
   "execution_count": 102,
   "id": "f5720914",
   "metadata": {},
   "outputs": [
    {
     "data": {
      "text/plain": [
       "array([[[1, 3, 1, 9],\n",
       "        [7, 3, 8, 2],\n",
       "        [9, 2, 9, 6]],\n",
       "\n",
       "       [[7, 3, 5, 6],\n",
       "        [5, 1, 1, 2],\n",
       "        [6, 1, 7, 3]]])"
      ]
     },
     "execution_count": 102,
     "metadata": {},
     "output_type": "execute_result"
    }
   ],
   "source": [
    "arr = np.random.randint(low = 1, high = 10, size = (2,3,4))\n",
    "arr"
   ]
  },
  {
   "cell_type": "code",
   "execution_count": null,
   "id": "fe0ca2b2",
   "metadata": {},
   "outputs": [],
   "source": []
  },
  {
   "cell_type": "code",
   "execution_count": null,
   "id": "6b55b588",
   "metadata": {},
   "outputs": [],
   "source": []
  },
  {
   "cell_type": "code",
   "execution_count": null,
   "id": "d97eabf5",
   "metadata": {},
   "outputs": [],
   "source": []
  },
  {
   "cell_type": "markdown",
   "id": "3a053da9",
   "metadata": {},
   "source": [
    "<img align=\"right\" width=\"100\" height=\"130\"  src=\"images/zeros_like.png\"  >\n",
    "\n",
    "### k. Using `np.zeros_like()` Method\n",
    "This method is used to get an array of zeros with the same shape and type as a given array.\n",
    "\n",
    "```\n",
    "zeros_like(arr, dtype=None) \n",
    "```\n",
    "\n",
    "- arr: array like input\n",
    "- dtype: Overrides the data type of the result"
   ]
  },
  {
   "cell_type": "code",
   "execution_count": 103,
   "id": "373857fe",
   "metadata": {},
   "outputs": [
    {
     "name": "stdout",
     "output_type": "stream",
     "text": [
      "A 2-D array \n",
      " [[0 1]\n",
      " [2 3]]\n",
      "\n",
      " Converted Array \n",
      " [[0 0]\n",
      " [0 0]]\n"
     ]
    }
   ],
   "source": [
    "# creating a 2-D array\n",
    "mylist = [[0, 1],[2, 3]]\n",
    "arr1 = np.array(mylist)\n",
    "print(\"A 2-D array \\n\", arr1)\n",
    "\n",
    "# creating the same array as the shape of 'arr' filled with zeros\n",
    "arr2 = np.zeros_like(arr1)\n",
    "print(\"\\n Converted Array \\n\", arr2)\n"
   ]
  },
  {
   "cell_type": "code",
   "execution_count": 104,
   "id": "b97a4eed",
   "metadata": {},
   "outputs": [
    {
     "name": "stdout",
     "output_type": "stream",
     "text": [
      "A 1-D array \n",
      " [0 1 2 3 4 5 6 7 8 9]\n",
      "\n",
      " Converted Array \n",
      " [0 0 0 0 0 0 0 0 0 0]\n"
     ]
    }
   ],
   "source": [
    "# creating 1-D array\n",
    "arr1 = np.arange(10)\n",
    "print(\"A 1-D array \\n\", arr1)\n",
    "\n",
    "# creating the same array as the shape of 'arr' filled with zeros\n",
    "arr2 = np.zeros_like(arr1)\n",
    "print(\"\\n Converted Array \\n\", arr2)\n"
   ]
  },
  {
   "cell_type": "code",
   "execution_count": null,
   "id": "e3733992",
   "metadata": {},
   "outputs": [],
   "source": []
  },
  {
   "cell_type": "code",
   "execution_count": null,
   "id": "e1c720b1",
   "metadata": {},
   "outputs": [],
   "source": []
  },
  {
   "cell_type": "code",
   "execution_count": null,
   "id": "549b3fac",
   "metadata": {},
   "outputs": [],
   "source": []
  }
 ],
 "metadata": {
  "kernelspec": {
   "display_name": "Python 3 (ipykernel)",
   "language": "python",
   "name": "python3"
  },
  "language_info": {
   "codemirror_mode": {
    "name": "ipython",
    "version": 3
   },
   "file_extension": ".py",
   "mimetype": "text/x-python",
   "name": "python",
   "nbconvert_exporter": "python",
   "pygments_lexer": "ipython3",
   "version": "3.9.7"
  }
 },
 "nbformat": 4,
 "nbformat_minor": 5
}
