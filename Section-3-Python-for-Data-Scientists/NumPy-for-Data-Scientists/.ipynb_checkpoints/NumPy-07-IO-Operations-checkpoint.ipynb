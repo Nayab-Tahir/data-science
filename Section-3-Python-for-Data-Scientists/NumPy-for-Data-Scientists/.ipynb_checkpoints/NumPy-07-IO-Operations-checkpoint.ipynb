{
 "cells": [
  {
   "cell_type": "markdown",
   "id": "5572cc0a",
   "metadata": {},
   "source": [
    "---   \n",
    " <img align=\"left\" width=\"75\" height=\"75\"  src=\"https://upload.wikimedia.org/wikipedia/en/c/c8/University_of_the_Punjab_logo.png\"> \n",
    "\n",
    "<h1 align=\"center\">Department of Data Science</h1>\n",
    "<h1 align=\"center\">Course: Tools and Techniques for Data Science</h1>\n",
    "\n",
    "---\n",
    "<h3><div align=\"right\">Instructor: Muhammad Arif Butt, Ph.D.</div></h3>    "
   ]
  },
  {
   "cell_type": "markdown",
   "id": "04ba630a",
   "metadata": {},
   "source": [
    "<h1 align=\"center\">Lecture 3.7</h1>"
   ]
  },
  {
   "cell_type": "markdown",
   "id": "a5a92293",
   "metadata": {},
   "source": [
    "# _07-IO Operations.ipynb_"
   ]
  },
  {
   "cell_type": "markdown",
   "id": "7aeadcc5",
   "metadata": {},
   "source": [
    "# Learning agenda of this notebook\n",
    "1. Reading Data from text/csv Files\n",
    "2. Writing data to files\n",
    "3. A Sample Project"
   ]
  },
  {
   "cell_type": "code",
   "execution_count": 1,
   "id": "cea29d7c",
   "metadata": {},
   "outputs": [],
   "source": [
    "# To install this library in Jupyter notebook\n",
    "#import sys\n",
    "#!{sys.executable} -m pip install numpy"
   ]
  },
  {
   "cell_type": "code",
   "execution_count": 2,
   "id": "64d5768b",
   "metadata": {},
   "outputs": [
    {
     "data": {
      "text/plain": [
       "('1.19.5',\n",
       " ['/Library/Frameworks/Python.framework/Versions/3.8/lib/python3.8/site-packages/numpy'])"
      ]
     },
     "execution_count": 2,
     "metadata": {},
     "output_type": "execute_result"
    }
   ],
   "source": [
    "import numpy as np\n",
    "np.__version__ , np.__path__"
   ]
  },
  {
   "cell_type": "code",
   "execution_count": null,
   "id": "3e1d672c",
   "metadata": {},
   "outputs": [],
   "source": []
  },
  {
   "cell_type": "markdown",
   "id": "3b320c77",
   "metadata": {},
   "source": [
    "## 1. Reading Data from Files\n",
    "The ```numpy.loadtxt()```  and ```numpy.genfromtxt``` are both used to load data from a text file. There’s no major difference between the two; the only one that stands out is np.genfromtxt’s ability to smoothly handle missing values.\n",
    "```\n",
    "numpy.loadtxt(fname, dtype=’float’, delimiter=None, skiprows=0, comments='#')\n",
    "numpy.genfromtxt(fname, dtype=’float’, delimiter=None, skip_header=0, comments='#',  missing_values=None, filling_values=None)\n",
    "```\n",
    "\n",
    "   - **fname:** filename, or generator to read. The extension can be .txt or anything, however, the file contents must be txt. If the filename extension is .gz or .bz2, the file is first decompressed.\n",
    "   - **dtype:** Data-type of the resulting array; default: float.\n",
    "   - **delimiter:** A delimiter is a character or a string of characters that separates individual values on a line. Default delimiter is space, however, it can be \",\", or \"\\t\".\n",
    "   - **skiprows:** Skip the first skiprows lines; default: 0.\n",
    "   -  **comments:** The characters or list of characters used to indicate the start of a comment. None implies no comments. For backwards compatibility, byte strings will be decoded as 'latin1'. The default is '#'."
   ]
  },
  {
   "cell_type": "code",
   "execution_count": 3,
   "id": "e9689994",
   "metadata": {},
   "outputs": [],
   "source": [
    "#np.genfromtxt()"
   ]
  },
  {
   "cell_type": "code",
   "execution_count": 4,
   "id": "53568686",
   "metadata": {},
   "outputs": [
    {
     "name": "stdout",
     "output_type": "stream",
     "text": [
      "[[12. 19. 62.]\n",
      " [ 9. 33. 61.]]\n"
     ]
    }
   ],
   "source": [
    "# Example 1: \n",
    "import numpy as np\n",
    "arr = np.genfromtxt(\"datasets/data.txt\")\n",
    "print(arr)"
   ]
  },
  {
   "cell_type": "code",
   "execution_count": 5,
   "id": "64327a0f",
   "metadata": {},
   "outputs": [
    {
     "name": "stdout",
     "output_type": "stream",
     "text": [
      "[[12 19 62]\n",
      " [ 9 33 61]]\n"
     ]
    }
   ],
   "source": [
    "# Example 2: \n",
    "import numpy as np\n",
    "arr = np.genfromtxt(\"datasets/data.txt\", dtype=int)\n",
    "print(arr)"
   ]
  },
  {
   "cell_type": "code",
   "execution_count": 6,
   "id": "c7b877c1",
   "metadata": {},
   "outputs": [
    {
     "name": "stdout",
     "output_type": "stream",
     "text": [
      "[[0 1 2]\n",
      " [3 4 5]]\n"
     ]
    }
   ],
   "source": [
    "# Example 3: \n",
    "import numpy as np\n",
    "from io import StringIO   \n",
    "\n",
    "# StringIO behaves like a file object\n",
    "data = StringIO(\"0, 1, 2 \\n 3, 4, 5\")\n",
    "arr1 = np.genfromtxt(data, dtype=int, delimiter=\",\")\n",
    "print(arr1)"
   ]
  },
  {
   "cell_type": "code",
   "execution_count": 7,
   "id": "13182a3e",
   "metadata": {},
   "outputs": [
    {
     "name": "stdout",
     "output_type": "stream",
     "text": [
      "[[34 12  5]\n",
      " [36 14  7]\n",
      " [30 18  6]\n",
      " [39 11  4]]\n"
     ]
    }
   ],
   "source": [
    "# Example 4: \n",
    "import numpy as np\n",
    "from io import StringIO   \n",
    "\n",
    "# StringIO behaves like a file object\n",
    "data = StringIO(\"Temp Humidity Rainfall \\n 34, 12, 5 \\n 36, 14, 7 \\n 30, 18, 6 \\n 39, 11, 4\")\n",
    "arr1 = np.genfromtxt(data, dtype=int, delimiter=\",\", skip_header=1)\n",
    "print(arr1)"
   ]
  },
  {
   "cell_type": "markdown",
   "id": "0df9cc92",
   "metadata": {},
   "source": [
    "**CSVs**: A comma-separated values (CSV) file is a delimited text file that uses a comma to separate values. Each line of the file is a data record. Each record consists of one or more fields, separated by commas. A CSV file typically stores tabular data (numbers and text) in plain text, in which case each line will have the same number of fields. "
   ]
  },
  {
   "cell_type": "code",
   "execution_count": 8,
   "id": "8274bf49",
   "metadata": {},
   "outputs": [
    {
     "name": "stdout",
     "output_type": "stream",
     "text": [
      "Ice Cream Sales data: \n",
      " [[ 37. 292.]\n",
      " [ 40. 228.]\n",
      " [ 49. 324.]\n",
      " [ 61. 376.]\n",
      " [ 72. 440.]\n",
      " [ 79. 496.]\n",
      " [ 83. 536.]\n",
      " [ 81. 556.]\n",
      " [ 75. 496.]\n",
      " [ 64. 412.]\n",
      " [ 53. 324.]\n",
      " [ 40. 320.]]\n",
      "\n",
      "Sum of columns: [ 734. 4800.]\n",
      "Mean of columns:  [ 61.16666667 400.        ]\n",
      "Median of columns:  [ 62.5 394. ]\n"
     ]
    }
   ],
   "source": [
    "# Example 5:\n",
    "import numpy as np\n",
    " \n",
    "data = np.genfromtxt(\"datasets/icecreamsales.csv\", skip_header=1, usecols=[0, 1], delimiter=',')\n",
    " \n",
    "print(\"Ice Cream Sales data: \\n\", data)\n",
    "\n",
    "# Sum of columns\n",
    "print(\"\\nSum of columns:\", np.sum(data,axis=0))\n",
    "print(\"Mean of columns: \", np.mean(data, axis=0))\n",
    "print(\"Median of columns: \", np.median(data, axis=0))\n"
   ]
  },
  {
   "cell_type": "markdown",
   "id": "5b90198c",
   "metadata": {},
   "source": [
    "## 2. Writing Data into Files\n",
    "The ```numpy.savetxt()``` is used to save a NumPy array to a text file\n",
    "```\n",
    "np.savetxt(fname, arr, fmt='%.18e', delimiter=' ', newline='\\n', header='', footer='', comments='# ', encoding=None)\n",
    "```\n",
    "\n",
    "    - **fname:** If the filename ends in ``.gz``, the file is automatically saved in compressed gzip format.\n",
    "    - **arr:** 1-D or 2-D array to be saved to a text file-type of the resulting array; default: float.\n",
    "    - **fmt:** str or sequence of strs, optional\n",
    "    - **delimiter:** String or character separating columns.\n",
    "    - **newline:** String or character separating lines.\n",
    "    - **header:** A String that will be written at the beginning of the file.\n",
    "    - **footer:** A String that will be written at the end of the file.\n",
    "    - **comments:** A string that will be prepended to the ``header`` and ``footer`` strings,to mark them comments.\n",
    "   \n",
    "- The **np.save()** saves an array to a binary file in NumPy .npy format\n",
    "- The **np.savez()** saves several arrays into an uncompressed .npz archive\n",
    "- The **np.savez_compressed()** save several arrays into a compressed .npz archive"
   ]
  },
  {
   "cell_type": "code",
   "execution_count": 9,
   "id": "45c14919",
   "metadata": {},
   "outputs": [
    {
     "data": {
      "text/plain": [
       "array([[1., 2., 3.],\n",
       "       [4., 5., 6.],\n",
       "       [7., 8., 9.]])"
      ]
     },
     "execution_count": 9,
     "metadata": {},
     "output_type": "execute_result"
    }
   ],
   "source": [
    "#Example 1: Creating a NumPy array and then Saving it as a text file and then reading from that text file\n",
    "arr1 = np.array([[1, 2, 3], [4, 5, 6],[7, 8, 9]])\n",
    "np.savetxt('datasets/myarr.txt', arr1)\n",
    "arr2 = np.genfromtxt(\"datasets/myarr.txt\")\n",
    "arr2"
   ]
  },
  {
   "cell_type": "code",
   "execution_count": 10,
   "id": "0e425f13",
   "metadata": {},
   "outputs": [
    {
     "data": {
      "text/plain": [
       "array([[1., 2.],\n",
       "       [4., 5.],\n",
       "       [7., 8.]])"
      ]
     },
     "execution_count": 10,
     "metadata": {},
     "output_type": "execute_result"
    }
   ],
   "source": [
    "#Example 2: Creating a NumPy array and then Saving it as a csv file and then reading from that csv file\n",
    "arr1 = np.array([[1, 2, 3], [4, 5, 6],[7, 8, 9]])\n",
    "np.savetxt('datasets/myarr.csv', arr1, delimiter=',')\n",
    "arr2 = np.genfromtxt(\"datasets/myarr.csv\", usecols=[0, 1], delimiter=',')\n",
    "arr2"
   ]
  },
  {
   "cell_type": "code",
   "execution_count": 11,
   "id": "ecb33eb8",
   "metadata": {},
   "outputs": [
    {
     "data": {
      "text/plain": [
       "array([[34., 12.,  5.],\n",
       "       [36., 14.,  7.],\n",
       "       [30., 18.,  6.],\n",
       "       [39., 11.,  4.]])"
      ]
     },
     "execution_count": 11,
     "metadata": {},
     "output_type": "execute_result"
    }
   ],
   "source": [
    "# Example 3: Creating a NumPy array using StringIO(), then saving and then reading from a csv file\n",
    "import numpy as np\n",
    "from io import StringIO   \n",
    "\n",
    "# Generate StringIO behaves like a file object, \n",
    "arr1 = StringIO(\"Temp Humidity Rainfall \\n 34, 12, 5 \\n 36, 14, 7 \\n 30, 18, 6 \\n 39, 11, 4\")\n",
    "arr2 = np.genfromtxt(arr1, dtype=int, delimiter=\",\", skip_header=1)\n",
    "\n",
    "np.savetxt('datasets/weather.csv', arr2, delimiter=',')\n",
    "arr3 = np.genfromtxt(\"datasets/weather.csv\", usecols=[0, 1, 2], delimiter=',')\n",
    "arr3"
   ]
  },
  {
   "cell_type": "markdown",
   "id": "6a26824e",
   "metadata": {},
   "source": [
    "## 3.  A Sampe Project\n",
    "\n",
    "Let's download a file `climate.txt`, which contains 10,000 climate measurements (temperature, rainfall & humidity) in the following format:\n",
    "\n",
    "```\n",
    "temperature,rainfall,humidity\n",
    "25.00,76.00,99.00\n",
    "39.00,65.00,70.00\n",
    "59.00,45.00,77.00\n",
    "84.00,63.00,38.00\n",
    "66.00,50.00,52.00\n",
    "41.00,94.00,77.00\n",
    "91.00,57.00,96.00\n",
    "49.00,96.00,99.00\n",
    "67.00,20.00,28.00\n",
    "...\n",
    "```"
   ]
  },
  {
   "cell_type": "code",
   "execution_count": 12,
   "id": "bd166fee",
   "metadata": {},
   "outputs": [],
   "source": [
    "import urllib.request\n",
    "import numpy as np\n",
    "\n",
    "# Uncomment followin two lines if you get a URLError\n",
    "#URLError: <urlopen error [SSL: CERTIFICATE_VERIFY_FAILED] ... unable to get local issuer certificate>\n",
    "import ssl\n",
    "ssl._create_default_https_context = ssl._create_unverified_context\n",
    "\n",
    "#Download climate.csv file from the following link\n",
    "urllib.request.urlretrieve('https://hub.jovian.ml/wp-content/uploads/2020/08/climate.csv', 'climate.csv')\n",
    "#climate_data = np.genfromtxt('climate.txt', delimiter=',', skip_header=1)\n",
    "#Read the file into a NumPy Array\n",
    "climate_data = np.loadtxt('climate.csv', delimiter=',', skiprows=1)\n"
   ]
  },
  {
   "cell_type": "code",
   "execution_count": 13,
   "id": "6c6459a4",
   "metadata": {},
   "outputs": [
    {
     "data": {
      "text/plain": [
       "array([[25., 76., 99.],\n",
       "       [39., 65., 70.],\n",
       "       [59., 45., 77.],\n",
       "       ...,\n",
       "       [99., 62., 58.],\n",
       "       [70., 71., 91.],\n",
       "       [92., 39., 76.]])"
      ]
     },
     "execution_count": 13,
     "metadata": {},
     "output_type": "execute_result"
    }
   ],
   "source": [
    "climate_data"
   ]
  },
  {
   "cell_type": "code",
   "execution_count": 14,
   "id": "428d3788",
   "metadata": {},
   "outputs": [
    {
     "data": {
      "text/plain": [
       "(10000, 3)"
      ]
     },
     "execution_count": 14,
     "metadata": {},
     "output_type": "execute_result"
    }
   ],
   "source": [
    "climate_data.shape"
   ]
  },
  {
   "cell_type": "markdown",
   "id": "c010ee34",
   "metadata": {},
   "source": [
    "We can now perform a matrix multiplication using the `@` operator to predict the yield of apples for the entire dataset using a given set of weights."
   ]
  },
  {
   "cell_type": "code",
   "execution_count": 15,
   "id": "3d3d12b3",
   "metadata": {},
   "outputs": [],
   "source": [
    "weights = np.array([0.3, 0.2, 0.5])"
   ]
  },
  {
   "cell_type": "code",
   "execution_count": 16,
   "id": "cf3a5c7d",
   "metadata": {},
   "outputs": [],
   "source": [
    "yields = climate_data @ weights\n",
    "yields = np.matmul(climate_data, weights)"
   ]
  },
  {
   "cell_type": "code",
   "execution_count": 17,
   "id": "e1cc1826",
   "metadata": {},
   "outputs": [
    {
     "data": {
      "text/plain": [
       "array([72.2, 59.7, 65.2, ..., 71.1, 80.7, 73.4])"
      ]
     },
     "execution_count": 17,
     "metadata": {},
     "output_type": "execute_result"
    }
   ],
   "source": [
    "yields"
   ]
  },
  {
   "cell_type": "code",
   "execution_count": 18,
   "id": "34a91e3a",
   "metadata": {},
   "outputs": [
    {
     "data": {
      "text/plain": [
       "(10000,)"
      ]
     },
     "execution_count": 18,
     "metadata": {},
     "output_type": "execute_result"
    }
   ],
   "source": [
    "yields.shape"
   ]
  },
  {
   "cell_type": "markdown",
   "id": "ff89587a",
   "metadata": {},
   "source": [
    "Let's add the `yields` to `climate_data` as a fourth column using the `np.concatenate`\n",
    "Since we wish to add new columns, we pass the argument `axis=1` to `np.concatenate`. The `axis` argument specifies the dimension for concatenation."
   ]
  },
  {
   "cell_type": "code",
   "execution_count": 19,
   "id": "9c029f34",
   "metadata": {},
   "outputs": [],
   "source": [
    "climate_results = np.concatenate((climate_data, yields.reshape(10000, 1)), axis=1)"
   ]
  },
  {
   "cell_type": "code",
   "execution_count": 20,
   "id": "b23178e9",
   "metadata": {},
   "outputs": [
    {
     "data": {
      "text/plain": [
       "array([[25. , 76. , 99. , 72.2],\n",
       "       [39. , 65. , 70. , 59.7],\n",
       "       [59. , 45. , 77. , 65.2],\n",
       "       ...,\n",
       "       [99. , 62. , 58. , 71.1],\n",
       "       [70. , 71. , 91. , 80.7],\n",
       "       [92. , 39. , 76. , 73.4]])"
      ]
     },
     "execution_count": 20,
     "metadata": {},
     "output_type": "execute_result"
    }
   ],
   "source": [
    "climate_results"
   ]
  },
  {
   "cell_type": "markdown",
   "id": "953f9df4",
   "metadata": {},
   "source": [
    "Let's write the final results from our computation above back to a file using the `np.savetxt` function."
   ]
  },
  {
   "cell_type": "code",
   "execution_count": 21,
   "id": "dc4f0c02",
   "metadata": {},
   "outputs": [
    {
     "data": {
      "text/plain": [
       "array([[25. , 76. , 99. , 72.2],\n",
       "       [39. , 65. , 70. , 59.7],\n",
       "       [59. , 45. , 77. , 65.2],\n",
       "       ...,\n",
       "       [99. , 62. , 58. , 71.1],\n",
       "       [70. , 71. , 91. , 80.7],\n",
       "       [92. , 39. , 76. , 73.4]])"
      ]
     },
     "execution_count": 21,
     "metadata": {},
     "output_type": "execute_result"
    }
   ],
   "source": [
    "climate_results"
   ]
  },
  {
   "cell_type": "code",
   "execution_count": 22,
   "id": "2db36782",
   "metadata": {},
   "outputs": [],
   "source": [
    "np.savetxt('climate_results.txt', \n",
    "           climate_results, \n",
    "           fmt='%.2f', \n",
    "           delimiter=',',\n",
    "           header='temperature,rainfall,humidity,yeild_apples', \n",
    "           comments='')"
   ]
  },
  {
   "cell_type": "markdown",
   "id": "bd2dd41f",
   "metadata": {},
   "source": [
    "The results are written back in the CSV format to the file `climate_results.txt`. \n",
    "\n",
    "```\n",
    "temperature,rainfall,humidity,yeild_apples\n",
    "25.00,76.00,99.00,72.20\n",
    "39.00,65.00,70.00,59.70\n",
    "59.00,45.00,77.00,65.20\n",
    "84.00,63.00,38.00,56.80\n",
    "...\n",
    "```\n",
    "\n"
   ]
  }
 ],
 "metadata": {
  "kernelspec": {
   "display_name": "Python 3 (ipykernel)",
   "language": "python",
   "name": "python3"
  },
  "language_info": {
   "codemirror_mode": {
    "name": "ipython",
    "version": 3
   },
   "file_extension": ".py",
   "mimetype": "text/x-python",
   "name": "python",
   "nbconvert_exporter": "python",
   "pygments_lexer": "ipython3",
   "version": "3.8.10"
  }
 },
 "nbformat": 4,
 "nbformat_minor": 5
}
