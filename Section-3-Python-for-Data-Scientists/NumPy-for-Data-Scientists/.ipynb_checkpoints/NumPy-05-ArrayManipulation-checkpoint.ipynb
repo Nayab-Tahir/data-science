{
 "cells": [
  {
   "cell_type": "markdown",
   "id": "f20b26d7",
   "metadata": {},
   "source": [
    "---   \n",
    " <img align=\"left\" width=\"75\" height=\"75\"  src=\"https://upload.wikimedia.org/wikipedia/en/c/c8/University_of_the_Punjab_logo.png\"> \n",
    "\n",
    "<h1 align=\"center\">Department of Data Science</h1>\n",
    "<h1 align=\"center\">Course: Tools and Techniques for Data Science</h1>\n",
    "\n",
    "---\n",
    "<h3><div align=\"right\">Instructor: Muhammad Arif Butt, Ph.D.</div></h3>    "
   ]
  },
  {
   "cell_type": "markdown",
   "id": "3f7ee3b8",
   "metadata": {},
   "source": [
    "<h1 align=\"center\">Lecture 3.5 (NumPy-05)</h1>"
   ]
  },
  {
   "cell_type": "markdown",
   "id": "fa6dcb19",
   "metadata": {},
   "source": [
    "# _Array Manipulation.ipynb_"
   ]
  },
  {
   "cell_type": "markdown",
   "id": "c97f0f67",
   "metadata": {},
   "source": [
    "# Learning agenda of this notebook\n",
    "1. Updating existing values of NumPy array elements\n",
    "2. Append new elements to a NumPy array using np.append()\n",
    "3. Insert new elements in a NumPy array using np.insert()\n",
    "4. Delete elements of a NumPy array using np.delete()\n",
    "5. Assigning vs Copying NumPy arrays\n",
    "6. Sorting NumPy Arrays"
   ]
  },
  {
   "cell_type": "code",
   "execution_count": null,
   "id": "5f9a8b93",
   "metadata": {},
   "outputs": [],
   "source": [
    "# To install this library in Jupyter notebook\n",
    "#import sys\n",
    "#!{sys.executable} -m pip install numpy"
   ]
  },
  {
   "cell_type": "code",
   "execution_count": null,
   "id": "6fa14827",
   "metadata": {},
   "outputs": [],
   "source": [
    "import numpy as np\n",
    "np.__version__ , np.__path__"
   ]
  },
  {
   "cell_type": "code",
   "execution_count": null,
   "id": "a55cc9b4",
   "metadata": {},
   "outputs": [],
   "source": []
  },
  {
   "cell_type": "markdown",
   "id": "9800e96a",
   "metadata": {},
   "source": [
    "## 1. Updating Existing Values of Numpy Array Elements"
   ]
  },
  {
   "cell_type": "markdown",
   "id": "2c75b1aa",
   "metadata": {},
   "source": [
    "### a. 1-D Arrays"
   ]
  },
  {
   "cell_type": "code",
   "execution_count": null,
   "id": "c22d47e9",
   "metadata": {},
   "outputs": [],
   "source": [
    "# creating 1-D array of size 5 of int type b/w interval 1 to 99 \n",
    "arr = np.random.randint(low = 1, high = 100, size = 10)\n",
    "print(\"Original Array \\n\", arr)\n",
    "arr[2] = 333\n",
    "arr[-1] = 777\n",
    "print(\"Updated Array \\n\", arr)"
   ]
  },
  {
   "cell_type": "markdown",
   "id": "2bd1f603",
   "metadata": {},
   "source": [
    "### b. 2-D Arrays"
   ]
  },
  {
   "cell_type": "code",
   "execution_count": null,
   "id": "3e3b0f21",
   "metadata": {},
   "outputs": [],
   "source": [
    "# Creating 2-D array of size 4x4 of int type b/w interval 1 to 9\n",
    "arr = np.random.randint(low = 1, high = 10, size = (4,4))\n",
    "print(\"Original Array \\n\", arr)\n",
    "arr[0][1] = 77\n",
    "arr[1][2] = 66\n",
    "arr[3][-1] = 22\n",
    "print(\"Updated Array \\n\", arr)"
   ]
  },
  {
   "cell_type": "markdown",
   "id": "c7b21ead",
   "metadata": {},
   "source": [
    "## 2. Append New Elements to Numpy Arrays\n",
    "- The Numpy append method allows us to insert new values into the last of an existing NumPy array.\n",
    "- This function always returns a copy of the existing numpy array with the values appended to the given axis.\n",
    "- If axis is not specified, values can be of any shape and will be flattened before use\n",
    "```\n",
    "np.append(arr, values, axis=None)\n",
    "```\n",
    "- A new array is allocated and filled and returned.\n",
    "- The original array remains as such, as it does not occur in-place.\n"
   ]
  },
  {
   "cell_type": "markdown",
   "id": "c9b7fa54",
   "metadata": {},
   "source": [
    "### a. Appending Elements in 1-D Arrays"
   ]
  },
  {
   "cell_type": "code",
   "execution_count": null,
   "id": "22b89811",
   "metadata": {},
   "outputs": [],
   "source": [
    "# You can add a scalar value or a list of values at the end of the array\n",
    "arr1 = np.random.randint(low = 1, high = 100, size = 10)\n",
    "print(\"arr1 = \", arr1)\n",
    "arr2 = np.append(arr1, [101, 202,303])\n",
    "print(\"After append:\")\n",
    "print(\"arr1 = \", arr1)\n",
    "print(\"arr2 = \", arr2)"
   ]
  },
  {
   "cell_type": "markdown",
   "id": "b71d3c60",
   "metadata": {},
   "source": [
    "### b. Appending Elements in 2-D Arrays"
   ]
  },
  {
   "cell_type": "code",
   "execution_count": null,
   "id": "9fdcd017",
   "metadata": {},
   "outputs": [],
   "source": [
    "# For appending in a 2-D array, need to take care of dimensions\n",
    "# If the axis is not mentioned, values can be of any shape and will be flattened before use\n",
    "arr1 = np.random.randint(low = 1, high = 10, size = (3,3))\n",
    "print(\"arr1 = \\n\", arr1)\n",
    "arr2 = np.append(arr1, [101, 202,303])\n",
    "print(\"After append:\")\n",
    "print(\"arr1 = \\n\", arr1)\n",
    "print(\"arr2 = \", arr2)"
   ]
  },
  {
   "cell_type": "code",
   "execution_count": null,
   "id": "469af8c2",
   "metadata": {},
   "outputs": [],
   "source": [
    "# Example: Add a new row to an existing 2-D array\n",
    "# For appending in a 2-D array, need to take care of dimensions\n",
    "# The list to be appended must be of the correct shape (the same shape as `arr`, excluding `axis`)\n",
    "arr1 = np.random.randint(low = 1, high = 10, size = (3,3))\n",
    "print(\"arr1 = \\n\", arr1)\n",
    "arr2 = np.append(arr1, [[101, 202,303]], axis=0)\n",
    "print(\"After append:\")\n",
    "print(\"arr1 = \\n\", arr1)\n",
    "print(\"arr2 = \\n\", arr2)"
   ]
  },
  {
   "cell_type": "code",
   "execution_count": null,
   "id": "70c4b2dc",
   "metadata": {},
   "outputs": [],
   "source": [
    "# Example: Add a new column to an existing 2-D array\n",
    "# For appending in a 2-D array, need to take care of dimensions\n",
    "# The list to be appended must be of the correct shape (the same shape as `arr`, excluding `axis`)\n",
    "arr1 = np.random.randint(low = 1, high = 10, size = (3,3))\n",
    "print(\"arr1 = \\n\", arr1)\n",
    "arr2 = np.append(arr1, [[101], [202],[303]], axis=1)\n",
    "print(\"After append:\")\n",
    "print(\"arr1 = \\n\", arr1)\n",
    "print(\"arr2 = \\n\", arr2)"
   ]
  },
  {
   "cell_type": "markdown",
   "id": "66964303",
   "metadata": {},
   "source": [
    "## 3. Inserting New Elements in Numpy Arrays\n",
    "- The Numpy insert method allows us to insert new values along the given axis before the given indices.\n",
    "- This function always returns a copy of the existing numpy array with the new values inserted to the given axis.\n",
    "- If axis is not specified, values can be of any shape and will be flattened before use\n",
    "```\n",
    "np.insert(arr, index, values, axis=None)\n",
    "```\n",
    "- A new array is allocated and filled and returned.\n",
    "- The original array remains as such, as it does not occur in-place.\n"
   ]
  },
  {
   "cell_type": "markdown",
   "id": "962d7c69",
   "metadata": {},
   "source": [
    "### a. Inserting Elements in 1-D Arrays"
   ]
  },
  {
   "cell_type": "code",
   "execution_count": 2,
   "id": "91d0bab3",
   "metadata": {},
   "outputs": [
    {
     "name": "stdout",
     "output_type": "stream",
     "text": [
      "arr1 =  [9 6 9 1 4]\n",
      "After insert:\n",
      "arr1 =  [9 6 9 1 4]\n",
      "arr2 =  [ 9  6  9 55 66 77  1  4]\n"
     ]
    }
   ],
   "source": [
    "import numpy as np\n",
    "# You can insert a scalar value or a list of values in between array elements at a specific index\n",
    "arr1 = np.random.randint(low = 1, high = 10, size = 5)\n",
    "print(\"arr1 = \", arr1)\n",
    "arr2 = np.insert(arr1, 3, [55, 66, 77])\n",
    "print(\"After insert:\")\n",
    "print(\"arr1 = \", arr1)\n",
    "print(\"arr2 = \", arr2)"
   ]
  },
  {
   "cell_type": "markdown",
   "id": "06a5cb18",
   "metadata": {},
   "source": [
    "### b. Inserting Elements in 2-D Arrays"
   ]
  },
  {
   "cell_type": "code",
   "execution_count": null,
   "id": "fa335af1",
   "metadata": {},
   "outputs": [],
   "source": [
    "# For inserting in a 2-D array, need to take care of dimensions\n",
    "# If the axis is not mentioned, values can be of any shape and will be flattened before use\n",
    "arr1 = np.random.randint(low = 1, high = 10, size = (3,3))\n",
    "print(\"arr1 = \\n\", arr1)\n",
    "arr2 = np.insert(arr1, 2, [55, 66,77])\n",
    "print(\"After insert:\")\n",
    "print(\"arr1 = \\n\", arr1)\n",
    "print(\"arr2 = \\n\", arr2)"
   ]
  },
  {
   "cell_type": "code",
   "execution_count": null,
   "id": "1e4f4ff4",
   "metadata": {},
   "outputs": [],
   "source": [
    "# Example: Insert a new row at row index 2 to an existing 2-D array\n",
    "# For inserting in a 2-D array, need to take care of dimensions\n",
    "# The list to be inserted must be of the correct shape (the same shape as `arr`, excluding `axis`)\n",
    "arr1 = np.random.randint(low = 1, high = 10, size = (3,3))\n",
    "print(\"arr1 = \\n\", arr1)\n",
    "arr2 = np.insert(arr1, 2, [55, 66,77], axis=0)\n",
    "print(\"After insert:\")\n",
    "print(\"arr1 = \\n\", arr1)\n",
    "print(\"arr2 = \\n\", arr2)"
   ]
  },
  {
   "cell_type": "code",
   "execution_count": null,
   "id": "8585094d",
   "metadata": {},
   "outputs": [],
   "source": [
    "# Example: Insert a new column at column index 1 to an existing 2-D array\n",
    "# For inserting in a 2-D array, need to take care of dimensions\n",
    "# The list to be inserted must be of the correct shape (the same shape as `arr`, excluding `axis`)\n",
    "arr1 = np.random.randint(low = 1, high = 10, size = (3,3))\n",
    "print(\"arr1 = \\n\", arr1)\n",
    "arr2 = np.insert(arr1, 1, [55, 66,77], axis=1)\n",
    "print(\"After insert:\")\n",
    "print(\"arr1 = \\n\", arr1)\n",
    "print(\"arr2 = \\n\", arr2)"
   ]
  },
  {
   "cell_type": "markdown",
   "id": "835da82c",
   "metadata": {},
   "source": [
    "## 4. Deleting  Elements of Numpy Arrays\n",
    "- The Numpy delete method allows us to delete value(s) from an array given the index\n",
    "- This function always returns a copy of the existing numpy array with the values deleted from the given axis.\n",
    "- If axis is not specified, values can be of any shape and will be flattened before use\n",
    "```\n",
    "np.insert(arr, index, axis=None)\n",
    "```\n",
    "- A new array is allocated and filled and returned.\n",
    "- The original array remains as such, as it does not occur in-place.\n"
   ]
  },
  {
   "cell_type": "markdown",
   "id": "8179e2e5",
   "metadata": {},
   "source": [
    "### a. Deleting Elements from a 1-D Arrays"
   ]
  },
  {
   "cell_type": "code",
   "execution_count": null,
   "id": "fe38b972",
   "metadata": {},
   "outputs": [],
   "source": [
    "# You can delete a scalar value or a list of values in between array elements at a specific index\n",
    "arr1 = np.random.randint(low = 1, high = 10, size = 10)\n",
    "print(\"arr1 = \", arr1)\n",
    "arr2 = np.delete(arr1, 3)\n",
    "print(\"After delete:\")\n",
    "print(\"arr1 = \", arr1)\n",
    "print(\"arr2 = \", arr2)"
   ]
  },
  {
   "cell_type": "code",
   "execution_count": null,
   "id": "e1911555",
   "metadata": {},
   "outputs": [],
   "source": [
    "# You can delete a scalar value or a list of values in between array elements at a specific index\n",
    "arr1 = np.random.randint(low = 1, high = 10, size = 10)\n",
    "print(\"arr1 = \", arr1)\n",
    "arr2 = np.delete(arr1, [2,5,8])\n",
    "print(\"After delete:\")\n",
    "print(\"arr1 = \", arr1)\n",
    "print(\"arr2 = \", arr2)"
   ]
  },
  {
   "cell_type": "markdown",
   "id": "9fd1c3ac",
   "metadata": {},
   "source": [
    "### b. Deleting Elements from a 2-D Arrays"
   ]
  },
  {
   "cell_type": "code",
   "execution_count": null,
   "id": "3b859729",
   "metadata": {},
   "outputs": [],
   "source": [
    "# Example: Delete a specific element from a 2-D array, don't mention the axis \n",
    "# The resulting array is flattened before use\n",
    "\n",
    "arr1 = np.random.randint(low = 1, high = 10, size = (3,3))\n",
    "print(\"arr1 = \\n\", arr1)\n",
    "arr2 = np.delete(arr1, 2)\n",
    "print(\"After append:\")\n",
    "print(\"arr1 = \\n\", arr1)\n",
    "print(\"arr2 = \", arr2)"
   ]
  },
  {
   "cell_type": "code",
   "execution_count": null,
   "id": "9c787db6",
   "metadata": {},
   "outputs": [],
   "source": [
    "# Example: Delete a specific row from an existing 2-D array\n",
    "arr1 = np.random.randint(low = 1, high = 10, size = (4,4))\n",
    "print(\"arr1 = \\n\", arr1)\n",
    "arr2 = np.delete(arr1, 2, axis=0)\n",
    "print(\"After delete:\")\n",
    "print(\"arr1 = \\n\", arr1)\n",
    "print(\"arr2 = \\n\", arr2)"
   ]
  },
  {
   "cell_type": "code",
   "execution_count": null,
   "id": "e6da91c2",
   "metadata": {},
   "outputs": [],
   "source": [
    "# Example: Delete a specific column from an existing 2-D array\n",
    "arr1 = np.random.randint(low = 1, high = 10, size = (4,4))\n",
    "print(\"arr1 = \\n\", arr1)\n",
    "arr2 = np.delete(arr1, 2, axis=1)\n",
    "print(\"After delete:\")\n",
    "print(\"arr1 = \\n\", arr1)\n",
    "print(\"arr2 = \\n\", arr2)"
   ]
  },
  {
   "cell_type": "markdown",
   "id": "7f00bded",
   "metadata": {},
   "source": [
    "## 5. Assigning vs Coping NumPy Arrays"
   ]
  },
  {
   "cell_type": "markdown",
   "id": "8e0e6a49",
   "metadata": {},
   "source": [
    "### a. Assigning two NumPy Arrays"
   ]
  },
  {
   "cell_type": "code",
   "execution_count": null,
   "id": "382c3f2c",
   "metadata": {},
   "outputs": [],
   "source": [
    "arr1 = np.random.randint(low = 1, high = 10, size = 10)\n",
    "\n",
    "# Creating a copy using assignment operator, both variables point at the same array\n",
    "arr2 = arr1\n",
    "print(\"arr1 = \", arr1)\n",
    "print(\"arr2 = \", arr2)\n",
    "\n",
    "# Change value in array 1 will also occur in array 2\n",
    "arr2[5] = 55\n",
    "\n",
    "print(\"\\nAfter arr2 = arr1, and making changes in arr2\")\n",
    "print(\"arr1 = \", arr1)\n",
    "print(\"arr2 = \", arr2)\n"
   ]
  },
  {
   "cell_type": "markdown",
   "id": "3f007f4f",
   "metadata": {},
   "source": [
    "### b. Copying two NumPy Arrays"
   ]
  },
  {
   "cell_type": "code",
   "execution_count": null,
   "id": "5b11e005",
   "metadata": {},
   "outputs": [],
   "source": [
    "arr1 = np.random.randint(low = 1, high = 10, size = 10)\n",
    "\n",
    "# Now Copy array using copy() method, which will create a new copy of the array\n",
    "arr2 = arr1.copy()\n",
    "print(\"arr1 = \", arr1)\n",
    "print(\"arr2 = \", arr2)\n",
    "\n",
    "# Change value in array 1 will NOT occur in array 2\n",
    "arr2[5] = 55\n",
    "\n",
    "print(\"\\nAfter arr2=arr1.copy() and making changes in arr2\")\n",
    "print(\"arr1 = \", arr1)\n",
    "print(\"arr2 = \", arr2)"
   ]
  },
  {
   "cell_type": "code",
   "execution_count": null,
   "id": "5ec509b4",
   "metadata": {},
   "outputs": [],
   "source": []
  },
  {
   "cell_type": "markdown",
   "id": "3eaaeab6",
   "metadata": {},
   "source": [
    "## 6. Sorting Arrays using sort() method\n",
    "- The Numpy np.sort() method returns a sorted copy of an array.\n",
    "- If axis is not specified, values can be of any shape and will be flattened before use\n",
    "```\n",
    "np.insert(arr, axis=None)\n",
    "```\n",
    "    - arr : Array to be sorted.\n",
    "    - axis : Axis along which we need array to be started. The default is -1, which sorts along the last axis. 0 stands for sorting along first axis. If metioned None, the array is flattened before sorting.\n",
    " \n",
    "[Click here to learn more about sorting](https://numpy.org/doc/stable/reference/generated/numpy.sort.html)"
   ]
  },
  {
   "cell_type": "markdown",
   "id": "81262fcf",
   "metadata": {},
   "source": [
    "### a. Sorting a 1-D Array"
   ]
  },
  {
   "cell_type": "code",
   "execution_count": null,
   "id": "d9a041db",
   "metadata": {},
   "outputs": [],
   "source": [
    "# Sorting 1-D arrays\n",
    "import numpy as np\n",
    "arr1 = np.random.randint(low = 1, high = 10, size = 10)\n",
    "arr2 = np.sort(arr1)\n",
    "print(\"After arr2=np.sort(arr1)\")\n",
    "print(\"arr1 = \", arr1)\n",
    "print(\"arr2 = \", arr2)\n"
   ]
  },
  {
   "cell_type": "markdown",
   "id": "791d8537",
   "metadata": {},
   "source": [
    "### b. Sorting a 2-D Array"
   ]
  },
  {
   "cell_type": "code",
   "execution_count": null,
   "id": "ff2f4f38",
   "metadata": {},
   "outputs": [],
   "source": [
    "#Example: Sorting a 2-D array with axis=None, it is flattened before sorting\n",
    "arr1 = np.random.randint(low = 1, high = 10, size = (3,3))\n",
    "print(\"arr1 = \\n\", arr1)\n",
    "\n",
    "arr2 = np.sort(arr1, axis = None)        \n",
    "print (\"\\nSorting along axis=None \\n\", arr2)"
   ]
  },
  {
   "cell_type": "code",
   "execution_count": null,
   "id": "d271af63",
   "metadata": {},
   "outputs": [],
   "source": [
    "#Example: Sorting a 2-D array with axis=0, will sort it along columns\n",
    "arr1 = np.random.randint(low = 1, high = 10, size = (3,3))\n",
    "print(\"arr1 = \\n\", arr1)\n",
    "\n",
    "arr2 = np.sort(arr1, axis = 0)        \n",
    "print (\"\\nSorting along axis=0 \\n\", arr2)      "
   ]
  },
  {
   "cell_type": "code",
   "execution_count": null,
   "id": "4a1c96be",
   "metadata": {},
   "outputs": [],
   "source": [
    "#Example: Sorting a 2-D array with axis=1, will sort it along rows\n",
    "arr1 = np.random.randint(low = 1, high = 10, size = (3,3))\n",
    "print(\"arr1 = \\n\", arr1)\n",
    "\n",
    "arr2 = np.sort(arr1, axis = 1)        \n",
    "print (\"\\nSorting along axis=1 \\n\", arr2) "
   ]
  },
  {
   "cell_type": "code",
   "execution_count": null,
   "id": "91093267",
   "metadata": {},
   "outputs": [],
   "source": []
  },
  {
   "cell_type": "code",
   "execution_count": null,
   "id": "8bc1301b",
   "metadata": {},
   "outputs": [],
   "source": []
  }
 ],
 "metadata": {
  "kernelspec": {
   "display_name": "Python 3 (ipykernel)",
   "language": "python",
   "name": "python3"
  },
  "language_info": {
   "codemirror_mode": {
    "name": "ipython",
    "version": 3
   },
   "file_extension": ".py",
   "mimetype": "text/x-python",
   "name": "python",
   "nbconvert_exporter": "python",
   "pygments_lexer": "ipython3",
   "version": "3.8.10"
  }
 },
 "nbformat": 4,
 "nbformat_minor": 5
}
