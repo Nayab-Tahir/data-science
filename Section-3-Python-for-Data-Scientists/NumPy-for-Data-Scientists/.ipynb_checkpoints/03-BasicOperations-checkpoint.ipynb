{
 "cells": [
  {
   "cell_type": "markdown",
   "id": "5572cc0a",
   "metadata": {},
   "source": [
    "---   \n",
    " <img align=\"left\" width=\"75\" height=\"75\"  src=\"https://upload.wikimedia.org/wikipedia/en/c/c8/University_of_the_Punjab_logo.png\"> \n",
    "\n",
    "<h1 align=\"center\">Department of Data Science</h1>\n",
    "<h1 align=\"center\">Course: Tools and Techniques for Data Science</h1>\n",
    "\n",
    "---\n",
    "<h3><div align=\"right\">Instructor: Muhammad Arif Butt, Ph.D.</div></h3>    "
   ]
  },
  {
   "cell_type": "markdown",
   "id": "04ba630a",
   "metadata": {},
   "source": [
    "<h1 align=\"center\">Lecture 3.2</h1>"
   ]
  },
  {
   "cell_type": "markdown",
   "id": "a5a92293",
   "metadata": {},
   "source": [
    "# _03-BasicOperations.ipynb_\n",
    "#### [Click me to learn more about Numpy Library](https://www.w3schools.com/python/numpy/numpy_intro.asp)"
   ]
  },
  {
   "cell_type": "markdown",
   "id": "7aeadcc5",
   "metadata": {},
   "source": [
    "# Learning agenda of this notebook\n",
    "Operations on numpy arrays are done element-wise. This means that you don't explicitly have to write for-loops in order to do these operations!\n",
    "1. Operations on NumPy 1-D Arrays\n",
    "    - Arithmetic operations\n",
    "    - Aggregate functions\n",
    "    - Comparison operations\n",
    "    - Searching\n",
    "2. Operations on NumPy 2-D Arrays\n",
    "    - Arithmetic operations\n",
    "    - Aggregate functions\n",
    "    - Comparison operations"
   ]
  },
  {
   "cell_type": "code",
   "execution_count": null,
   "id": "ad592c7e",
   "metadata": {},
   "outputs": [],
   "source": [
    "# To install this library in Jupyter notebook\n",
    "#import sys\n",
    "#!{sys.executable} -m pip install numpy"
   ]
  },
  {
   "cell_type": "code",
   "execution_count": null,
   "id": "bca9f700",
   "metadata": {},
   "outputs": [],
   "source": [
    "import numpy as np\n",
    "np.__version__ , np.__path__"
   ]
  },
  {
   "cell_type": "code",
   "execution_count": null,
   "id": "f92dc237",
   "metadata": {},
   "outputs": [],
   "source": []
  },
  {
   "cell_type": "markdown",
   "id": "3b320c77",
   "metadata": {},
   "source": [
    "## 1. Operations on NumPy 1-D Arrays"
   ]
  },
  {
   "cell_type": "markdown",
   "id": "26f8690c",
   "metadata": {},
   "source": [
    "### - Scalar Math on 1-D Arrays"
   ]
  },
  {
   "cell_type": "code",
   "execution_count": null,
   "id": "08b13d56",
   "metadata": {},
   "outputs": [],
   "source": [
    "# Create two 1-D arrays each having 4 random integers from 1 to 9\n",
    "import numpy as np\n",
    "arr = np.random.randint(1,10, size=4)\n",
    "print(\"arr1: \", arr1)\n",
    "\n",
    "print(\"np.add(arr,2): \", np.add(arr1,2))\n",
    "print(\"np.subtract(arr,2): \", np.subtract(arr1,2))\n",
    "print(\"np.multiply(arr,2): \", np.multiply(arr1,2))\n",
    "print(\"np.divide(arr,2): \", np.divide(arr1,2))\n",
    "print(\"np.mod(arr,2): \", np.mod(arr1,2))\n"
   ]
  },
  {
   "cell_type": "markdown",
   "id": "28f196d5",
   "metadata": {},
   "source": [
    "### b. Arithmetic Operations on 1-D Arrays"
   ]
  },
  {
   "cell_type": "code",
   "execution_count": null,
   "id": "b16820db",
   "metadata": {},
   "outputs": [],
   "source": [
    "# Create two 1-D arrays each having 4 random integers from 1 to 9\n",
    "import numpy as np\n",
    "arr1 = np.random.randint(1,10, size=4)\n",
    "arr2 = np.random.randint(1,10, size=4)\n",
    "print(\"arr1: \", arr1)\n",
    "print(\"arr2: \", arr2)"
   ]
  },
  {
   "cell_type": "code",
   "execution_count": null,
   "id": "7a98c520",
   "metadata": {},
   "outputs": [],
   "source": [
    "# Add operation\n",
    "arr3 = arr1 + arr2\n",
    "arr3 = np.add(arr1, arr2)\n",
    "print(\"np.add(arr1, arr2) = \", arr3)"
   ]
  },
  {
   "cell_type": "code",
   "execution_count": null,
   "id": "eaa6bf22",
   "metadata": {},
   "outputs": [],
   "source": [
    "# Subtract\n",
    "arr3 = arr1 - arr2\n",
    "arr3 = np.subtract(arr1, arr2)\n",
    "print(\"np.subtract(arr1, arr2) = \", arr3)\n"
   ]
  },
  {
   "cell_type": "code",
   "execution_count": null,
   "id": "97c50d4f",
   "metadata": {},
   "outputs": [],
   "source": [
    "# Multiply\n",
    "arr3 = arr1 * arr2\n",
    "arr3 = np.multiply(arr1, arr2)\n",
    "print(\"np.multiply(arr1, arr2) = \", arr3)"
   ]
  },
  {
   "cell_type": "code",
   "execution_count": null,
   "id": "f3201787",
   "metadata": {},
   "outputs": [],
   "source": [
    "# Divide\n",
    "arr3 = arr1 / arr2\n",
    "arr3 = np.divide(arr1, arr2)\n",
    "print(\"np.divide(arr1, arr2) = \", arr3)"
   ]
  },
  {
   "cell_type": "code",
   "execution_count": null,
   "id": "2a526c6c",
   "metadata": {},
   "outputs": [],
   "source": [
    "arr3 = arr1 % arr2\n",
    "arr3 = np.mod(arr1, arr2)\n",
    "print(\"np.mod(arr1, arr2) = \", arr3)\n"
   ]
  },
  {
   "cell_type": "code",
   "execution_count": null,
   "id": "fff7d417",
   "metadata": {},
   "outputs": [],
   "source": [
    "#Square root\n",
    "print(\"np.sqrt(arr1) = \", np.sqrt(arr1))\n",
    "# # Cube root\n",
    "print(\"np.cbrt(arr1) = \", np.cbrt(arr1))"
   ]
  },
  {
   "cell_type": "code",
   "execution_count": null,
   "id": "fdf792a8",
   "metadata": {},
   "outputs": [],
   "source": [
    "#Exponent\n",
    "print(\"np.exp(arr1) = \", np.exp(arr1))"
   ]
  },
  {
   "cell_type": "code",
   "execution_count": null,
   "id": "2fa0b47c",
   "metadata": {},
   "outputs": [],
   "source": [
    "# Logarithmic functions\n",
    "print(\"np.log(arr1) = \", np.log(arr1))   #natural log or base e (2.71828...) log\n",
    "print(\"np.log2(arr1) = \", np.log2(arr1))  # base 2 log\n",
    "print(\"np.log10(arr1) = \", np.log10(arr1))  # base 10 log"
   ]
  },
  {
   "cell_type": "markdown",
   "id": "dde44c0c",
   "metadata": {},
   "source": [
    "### b. Aggregate Functions on 1-D Arrays"
   ]
  },
  {
   "cell_type": "code",
   "execution_count": null,
   "id": "65a99fd8",
   "metadata": {},
   "outputs": [],
   "source": [
    "# Creating array\n",
    "arr = np.random.randint(1, 10, size=5)\n",
    "print(\"arr: \", arr1)\n",
    "\n",
    "print(\"np.min(arr) = \", np.min(arr))\n",
    "print(\"np.max(arr) = \", np.max(arr))\n",
    "\n",
    "print(\"np.sum(arr) = \", np.sum(arr))\n",
    "print(\"np.mean(arr) = \", np.mean(arr)) \n",
    "print(\"np.average(arr) = \", np.average(arr))\n",
    "print(\"np.median(arr) = \", np.median(arr))  \n",
    "\n",
    "print(\"\\nnp.std(arr1) = \", np.std(arr1))\n",
    "print(\"np.var(arr1) = \", np.var(arr1))\n",
    "print(\"np.corrcoef(arr1) = \", np.corrcoef(arr1))"
   ]
  },
  {
   "cell_type": "markdown",
   "id": "624dfa93",
   "metadata": {},
   "source": [
    "### c. Comparing NumPy 1-D Arrays"
   ]
  },
  {
   "cell_type": "code",
   "execution_count": null,
   "id": "6d2137ef",
   "metadata": {},
   "outputs": [],
   "source": [
    "import numpy as np\n",
    "# Create two 1-D arrays with random integers  between 1 to 9\n",
    "arr1 = np.random.randint(1,10, size=(5))\n",
    "arr2 = np.random.randint(1, 10, size=(5))\n",
    "print(arr1)\n",
    "print(\"\\n\", arr2)\n",
    "\n",
    "## Returns a Boolean numpy array containing True/False after doing element wise comparison\n",
    "rv = arr1 == arr2\n",
    "rv = np.equal(arr1,arr2)\n",
    "print(\"\\n\", rv)\n"
   ]
  },
  {
   "cell_type": "code",
   "execution_count": null,
   "id": "0a3ac9d8",
   "metadata": {},
   "outputs": [],
   "source": [
    "import numpy as np\n",
    "# Create two 1-D arrays with random integers  between 1 to 9\n",
    "arr1 = np.random.randint(1,10, size=(5))\n",
    "arr2 = np.random.randint(1, 10, size=(5))\n",
    "print(arr1)\n",
    "print(\"\\n\", arr2)\n",
    "\n",
    "## Returns a Boolean numpy array containing True/False after doing element wise comparison\n",
    "rv = arr1 != arr2\n",
    "rv = np.not_equal(arr1,arr2)\n",
    "print(\"\\n\", rv)\n"
   ]
  },
  {
   "cell_type": "code",
   "execution_count": null,
   "id": "7ef2ed58",
   "metadata": {},
   "outputs": [],
   "source": [
    "import numpy as np\n",
    "# Create two 1-D arrays with random integers  between 1 to 9\n",
    "arr1 = np.random.randint(1,10, size=(5))\n",
    "arr2 = np.random.randint(1, 10, size=(5))\n",
    "print(arr1)\n",
    "print(\"\\n\", arr2)\n",
    "\n",
    "## Returns a Boolean numpy array containing True/False after doing element wise comparison\n",
    "rv = arr1 > arr2\n",
    "rv = np.greater(arr1,arr2)\n",
    "print(\"\\n\", rv)\n"
   ]
  },
  {
   "cell_type": "code",
   "execution_count": null,
   "id": "6304e0bf",
   "metadata": {},
   "outputs": [],
   "source": [
    "import numpy as np\n",
    "# Create two 1-D arrays with random integers  between 1 to 9\n",
    "arr1 = np.random.randint(1,10, size=(5))\n",
    "arr2 = np.random.randint(1, 10, size=(5))\n",
    "print(arr1)\n",
    "print(\"\\n\", arr2)\n",
    "\n",
    "## Returns a Boolean numpy array containing True/False after doing element wise comparison\n",
    "rv = arr1 >= arr2\n",
    "rv = np.greater_equal(arr1,arr2)\n",
    "print(\"\\n\", rv)\n"
   ]
  },
  {
   "cell_type": "code",
   "execution_count": null,
   "id": "0a6c6d49",
   "metadata": {},
   "outputs": [],
   "source": [
    "import numpy as np\n",
    "# Create two 1-D arrays with random integers  between 1 to 9\n",
    "arr1 = np.random.randint(1,10, size=(5))\n",
    "arr2 = np.random.randint(1, 10, size=(5))\n",
    "print(arr1)\n",
    "print(\"\\n\", arr2)\n",
    "\n",
    "## Returns a Boolean numpy array containing True/False after doing element wise comparison\n",
    "rv = arr1 < arr2\n",
    "rv = np.less(arr1,arr2)\n",
    "print(\"\\n\", rv)"
   ]
  },
  {
   "cell_type": "code",
   "execution_count": null,
   "id": "5866d371",
   "metadata": {},
   "outputs": [],
   "source": [
    "import numpy as np\n",
    "# Create two 1-D arrays with random integers  between 1 to 9\n",
    "arr1 = np.random.randint(1,10, size=(5))\n",
    "arr2 = np.random.randint(1, 10, size=(5))\n",
    "print(arr1)\n",
    "print(\"\\n\", arr2)\n",
    "\n",
    "## Returns a Boolean numpy array containing True/False after doing element wise comparison\n",
    "rv = arr1 <= arr2\n",
    "rv = np.less_equal(arr1,arr2)\n",
    "print(\"\\n\", rv)"
   ]
  },
  {
   "cell_type": "markdown",
   "id": "7a15d751",
   "metadata": {},
   "source": [
    "### d. Searching NumPy 1-D Arrays"
   ]
  },
  {
   "cell_type": "markdown",
   "id": "bfcf9f08",
   "metadata": {},
   "source": [
    "- The numpy.where() function is used to search NumPy arrays for the index values of any element which matches the condition passed as a parameter to the function.\n",
    "```\n",
    "numpy.where(condition, [x, y])\n",
    "```\n",
    "    - condition : When True, yield x, otherwise yield y.\n",
    "    - x, y :  Values from which to choose. x, y and condition need to be broadcastable to some shape.\n",
    "    - Returns: ndarray or tuple of ndarrays. If both x and y are specified, the output array contains elements of x where condition is True, and elements from y elsewhere."
   ]
  },
  {
   "cell_type": "code",
   "execution_count": 6,
   "id": "0a209cc5",
   "metadata": {},
   "outputs": [
    {
     "name": "stdout",
     "output_type": "stream",
     "text": [
      "(array([3, 5, 6]),)\n"
     ]
    }
   ],
   "source": [
    "import numpy as np\n",
    "arr = np.array([1, 2, 3, 4, 5, 4, 4, 9, 2, 3, 8])\n",
    "x = np.where(arr == 4)\n",
    "print(x)"
   ]
  },
  {
   "cell_type": "code",
   "execution_count": null,
   "id": "7c6fe56b",
   "metadata": {},
   "outputs": [],
   "source": [
    "import numpy as np\n",
    "arr = np.array([1, 2, 3, 4, 5, 6, 7, 8])\n",
    "x = np.where(arr%2 == 0)\n",
    "print(x)"
   ]
  },
  {
   "cell_type": "markdown",
   "id": "9ba3f096",
   "metadata": {},
   "source": [
    "- The numpy.nonzero() function is used to find the indices of the elements that are non-zero. \n",
    "- It returns a tuple of arrays, one for each dimension of arr, containing the indices of the non-zero elements in that dimension. \n",
    "- The corresponding non-zero values in the array can be obtained with ```arr.nonzero(arr)```"
   ]
  },
  {
   "cell_type": "code",
   "execution_count": 7,
   "id": "2ff7a59e",
   "metadata": {},
   "outputs": [
    {
     "name": "stdout",
     "output_type": "stream",
     "text": [
      "[ 0 23  0  9 51  0  0 59  0  0  0]\n",
      "(array([0, 0, 0, 0]), array([1, 3, 4, 7]))\n"
     ]
    }
   ],
   "source": [
    "import numpy as np\n",
    "arr = np.array([0, 23, 0, 9, 51, 0, 0, 59, 0, 0, 0])\n",
    "print(arr)\n",
    "result = np.nonzero([arr])\n",
    "print(result)"
   ]
  },
  {
   "cell_type": "markdown",
   "id": "410771e5",
   "metadata": {},
   "source": [
    "## 2. Operations on NumPy 2-D Arrays"
   ]
  },
  {
   "cell_type": "markdown",
   "id": "2d1e56e0",
   "metadata": {},
   "source": [
    "### a. Arithmetic Operations on 2-D Arrays"
   ]
  },
  {
   "cell_type": "code",
   "execution_count": null,
   "id": "af38f462",
   "metadata": {},
   "outputs": [],
   "source": [
    "import numpy as np\n",
    "# Create a 2x3 matrix with random integers  between 1 to 9\n",
    "arr1 = np.random.randint(1,10, size=(2, 3))\n",
    "arr2 = np.random.randint(1, 10, size=(2, 3))\n",
    "print(arr1)\n",
    "print(\"\\n\",arr2)\n",
    "\n",
    "#Adding Elements of two matrices\n",
    "print(\"\\nnp.add(arr1, arr2): \\n\", np.add(arr1, arr2))"
   ]
  },
  {
   "cell_type": "code",
   "execution_count": null,
   "id": "0706df8f",
   "metadata": {},
   "outputs": [],
   "source": [
    "import numpy as np\n",
    "# Create a 2x3 matrix with random integers  between 1 to 9\n",
    "arr1 = np.random.randint(1,10, size=(2, 3))\n",
    "arr2 = np.random.randint(1, 10, size=(2, 3))\n",
    "print(arr1)\n",
    "print(\"\\n\",arr2)\n",
    "\n",
    "#Subtracting Elements of two matrices\n",
    "print(\"\\nnp.subtract(arr1, arr2): \\n\", np.subtract(arr1, arr2))"
   ]
  },
  {
   "cell_type": "code",
   "execution_count": null,
   "id": "16184bef",
   "metadata": {},
   "outputs": [],
   "source": [
    "import numpy as np\n",
    "# Create a 2x3 matrix with random integers  between 1 to 9\n",
    "arr1 = np.random.randint(1,10, size=(2, 3))\n",
    "arr2 = np.random.randint(1, 10, size=(2, 3))\n",
    "print(arr1)\n",
    "print(\"\\n\",arr2)\n",
    "\n",
    "#Multiplying two matrices (element by element)\n",
    "print(\"\\nnp.multiply(arr1, arr2): \\n\", np.multiply(arr1, arr2))\n",
    "\n",
    "\n",
    "\n",
    "\n",
    "mat1 = np.array([[1, 2], [3, 4]])\n",
    "mat2 = np.array([[2, 4], [6, 9]])\n",
    "print(\"\\n\", mat1)\n",
    "print(\"\\n\", mat2)\n",
    "\n",
    "print(\"\\nnp.dot(mat1, mat2): \\n\", np.dot(mat1, mat2))"
   ]
  },
  {
   "cell_type": "code",
   "execution_count": null,
   "id": "4f2fd45e",
   "metadata": {},
   "outputs": [],
   "source": [
    "import numpy as np\n",
    "# Create a 2x3 matrix with random integers  between 1 to 9\n",
    "arr1 = np.random.randint(1,10, size=(2, 3))\n",
    "arr2 = np.random.randint(1, 10, size=(2, 3))\n",
    "print(arr1)\n",
    "print(\"\\n\",arr2)\n",
    "\n",
    "#Dividing Elements of two matrices\n",
    "print(\"\\nnp.divide(arr1, arr2): \\n\", np.divide(arr1, arr2))"
   ]
  },
  {
   "cell_type": "code",
   "execution_count": null,
   "id": "1f25e759",
   "metadata": {},
   "outputs": [],
   "source": [
    "import numpy as np\n",
    "# Create a 2x3 matrix with random integers  between 1 to 9\n",
    "arr1 = np.random.randint(1,10, size=(2, 3))\n",
    "arr2 = np.random.randint(1, 10, size=(2, 3))\n",
    "print(arr1)\n",
    "print(\"\\n\",arr2)\n",
    "\n",
    "#Get remainder elements of two matrices\n",
    "print(\"\\nnp.remainder(arr1, arr2): \\n\", np.remainder(arr1, arr2))"
   ]
  },
  {
   "cell_type": "code",
   "execution_count": null,
   "id": "c7737dba",
   "metadata": {},
   "outputs": [],
   "source": [
    "from numpy import linalg as LA\n",
    "# creating arrays\n",
    "mat1 = np.array([[1, 2], [3, 4]])\n",
    "mat2 = np.array([[2, 4], [6, 9]])\n",
    "print(\"Matrix1:\\n\", mat1)\n",
    "print(\"Matrix2:\\n\", mat2)\n",
    "\n",
    "print(\"\\nComputing dot product of mat1 & mat2: \\n\", np.dot(mat1, mat2))\n"
   ]
  },
  {
   "cell_type": "code",
   "execution_count": null,
   "id": "f7e39a0d",
   "metadata": {},
   "outputs": [],
   "source": []
  },
  {
   "cell_type": "markdown",
   "id": "91a48419",
   "metadata": {},
   "source": [
    "### b. Aggregate Functions on 2-D Arrays"
   ]
  },
  {
   "cell_type": "code",
   "execution_count": null,
   "id": "cd70dc1c",
   "metadata": {},
   "outputs": [],
   "source": [
    "import numpy as np\n",
    "# Create a 3x3 (2-D array) initialized with random integers from 1 to 9\n",
    "matrix = np.random.randint(1,10, size=(3, 3))\n",
    "print(matrix)\n",
    "\n",
    "# Sum of each column\n",
    "print(\"\\nnp.sum(matrix, axis=0):\", np.sum(matrix, axis=0))\n",
    "\n",
    "# Sum of each row\n",
    "print(\"\\nnp.sum(matrix, axis=1):\", np.sum(matrix, axis=1))"
   ]
  },
  {
   "cell_type": "code",
   "execution_count": null,
   "id": "018662f2",
   "metadata": {},
   "outputs": [],
   "source": [
    "import numpy as np\n",
    "# Create a 3x3 (2-D array) initialized with random integers from 1 to 9\n",
    "matrix = np.random.randint(1,10, size=(3, 3))\n",
    "print(matrix)\n",
    "\n",
    "# Min of each column\n",
    "print(\"\\nnp.min(matrix, axis=0):\", np.min(matrix, axis=0))\n",
    "# Min of each row\n",
    "print(\"\\nnp.min(matrix, axis=1):\", np.min(matrix, axis=1))"
   ]
  },
  {
   "cell_type": "code",
   "execution_count": null,
   "id": "25f96e8a",
   "metadata": {},
   "outputs": [],
   "source": [
    "import numpy as np\n",
    "# Create a 3x3 (2-D array) initialized with random integers from 1 to 9\n",
    "matrix = np.random.randint(1,10, size=(3, 3))\n",
    "print(matrix)\n",
    "\n",
    "# Max of each column\n",
    "print(\"\\nnp.max(matrix, axis=0):\", np.max(matrix, axis=0))\n",
    "# Max of each row\n",
    "print(\"\\nnp.max(matrix, axis=1):\", np.max(matrix, axis=1))"
   ]
  },
  {
   "cell_type": "code",
   "execution_count": null,
   "id": "65dc15d6",
   "metadata": {},
   "outputs": [],
   "source": [
    "import numpy as np\n",
    "# Create a 3x3 (2-D array) initialized with random integers from 1 to 9\n",
    "matrix = np.random.randint(1,10, size=(3, 3))\n",
    "print(matrix)\n",
    "\n",
    "# Mean of each column\n",
    "print(\"\\nnp.mean(matrix, axis=0):\", np.mean(matrix, axis=0))\n",
    "# Mean of each row\n",
    "print(\"\\nnp.mean(matrix, axis=1):\", np.mean(matrix, axis=1))"
   ]
  },
  {
   "cell_type": "code",
   "execution_count": null,
   "id": "856cea28",
   "metadata": {},
   "outputs": [],
   "source": [
    "import numpy as np\n",
    "# Create a 5x5 (2-D array) initialized with random integers from 1 to 9\n",
    "matrix = np.random.randint(1,10, size=(5, 5))\n",
    "print(matrix)\n",
    "\n",
    "# Mean of each column\n",
    "print(\"\\nnp.median(matrix, axis=0):\", np.median(matrix, axis=0))\n",
    "# Mean of each row\n",
    "print(\"\\nnp.median(matrix, axis=1):\", np.median(matrix, axis=1))"
   ]
  },
  {
   "cell_type": "markdown",
   "id": "d03fa4fb",
   "metadata": {},
   "source": [
    "### c. Comparing NumPy 2-D Arrays"
   ]
  },
  {
   "cell_type": "code",
   "execution_count": null,
   "id": "bd166fee",
   "metadata": {},
   "outputs": [],
   "source": [
    "import numpy as np\n",
    "# Create a 2x3 (2-D array) initialized with random integers from 1 to 9\n",
    "matrix1 = np.random.randint(1,10, size=(2, 2))\n",
    "matrix2 = np.random.randint(1,10, size=(2, 2))\n",
    "print(matrix1)\n",
    "print(\"\\n\",matrix2)\n",
    "\n",
    "# Coompare two matrices (for equality)\n",
    "rv = matrix1 == matrix2\n",
    "rv = np.equal(matrix1, matrix2)\n",
    "print(\"\\n\", rv)\n"
   ]
  },
  {
   "cell_type": "code",
   "execution_count": null,
   "id": "1630b550",
   "metadata": {},
   "outputs": [],
   "source": [
    "import numpy as np\n",
    "# Create a 2x3 (2-D array) initialized with random integers from 1 to 9\n",
    "matrix1 = np.random.randint(1,10, size=(2, 2))\n",
    "matrix2 = np.random.randint(1,10, size=(2, 2))\n",
    "print(matrix1)\n",
    "print(\"\\n\",matrix2)\n",
    "\n",
    "## Coompare two matrices (for not equality)\n",
    "rv = matrix1 != matrix2\n",
    "rv = np.not_equal(matrix1, matrix2)\n",
    "print(\"\\n\", rv)"
   ]
  },
  {
   "cell_type": "markdown",
   "id": "1a91c76e",
   "metadata": {},
   "source": [
    "#### Similarly, you can perform the operations np.less(), np.less_equal(), np.greater(),  and np.greater_equal()"
   ]
  },
  {
   "cell_type": "markdown",
   "id": "57f89640",
   "metadata": {},
   "source": [
    "### d. Searching NumPy 2-D Arrays"
   ]
  },
  {
   "cell_type": "markdown",
   "id": "e6ff1a0b",
   "metadata": {},
   "source": [
    "- The numpy.where() function is used to search NumPy arrays for the index values of any element which matches the condition passed as a parameter to the function.\n",
    "- It returns the indices of elements in an input array where the given condition is satisfied.\n",
    "```\n",
    "numpy.where(condition, [x, y])\n",
    "```\n",
    "    - condition : When True, yield x, otherwise yield y.\n",
    "    - x, y :  Values from which to choose. x, y and condition need to be broadcastable to some shape.\n",
    "    - Returns: ndarray or tuple of ndarrays. If both x and y are specified, the output array contains elements of x where condition is True, and elements from y elsewhere."
   ]
  },
  {
   "cell_type": "code",
   "execution_count": 3,
   "id": "62752f49",
   "metadata": {},
   "outputs": [
    {
     "name": "stdout",
     "output_type": "stream",
     "text": [
      "(array([1, 1, 2]), array([0, 2, 0]))\n"
     ]
    }
   ],
   "source": [
    "import numpy as np\n",
    "arr = np.array([[1, 2, 3], [4, 5, 4], [4, 9, 2], [3, 8, 6]])\n",
    "x = np.where(arr == 4)\n",
    "print(x)"
   ]
  },
  {
   "cell_type": "code",
   "execution_count": 2,
   "id": "1055a5c9",
   "metadata": {},
   "outputs": [
    {
     "name": "stdout",
     "output_type": "stream",
     "text": [
      "(array([0, 1, 1, 2, 2, 3, 3]), array([1, 0, 2, 0, 2, 1, 2]))\n"
     ]
    }
   ],
   "source": [
    "import numpy as np\n",
    "arr = np.array([[1, 2, 3], [4, 5, 4], [4, 9, 2], [3, 8, 6]])\n",
    "x = np.where(arr%2 == 0)\n",
    "print(x)"
   ]
  },
  {
   "cell_type": "markdown",
   "id": "f44b6648",
   "metadata": {},
   "source": [
    "- The **numpy.nonzero()** function is used to find the indices of the elements that are non-zero. \n",
    "- It returns a tuple of arrays, one for each dimension of arr, containing the indices of the non-zero elements in that dimension. \n",
    "- The corresponding non-zero values in the array can be obtained with ```arr.nonzero(arr)```"
   ]
  },
  {
   "cell_type": "code",
   "execution_count": 28,
   "id": "83c02afa",
   "metadata": {},
   "outputs": [
    {
     "name": "stdout",
     "output_type": "stream",
     "text": [
      "Input  array : \n",
      " [[ 0  0  0  7]\n",
      " [ 0  0  0  0]\n",
      " [ 0  0  0 59]\n",
      " [ 0  8  0  0]]\n",
      "\n",
      "np.nonzero(arr):  (array([0, 2, 3]), array([3, 3, 1]))\n",
      "\n",
      "Non-zero elements are:  [ 7 59  8]\n"
     ]
    }
   ],
   "source": [
    "import numpy as np\n",
    "arr = np.array([[0, 0, 0, 7], [0, 0, 0, 0], [0, 0, 0, 59], [0, 8, 0, 0]])\n",
    "print (\"Input  array : \\n\", arr)\n",
    "result = np.nonzero(arr)\n",
    "print(\"\\nnp.nonzero(arr): \", result)\n",
    "# The corresponding non-zero values:\n",
    "out_arr = arr[result]\n",
    "print(\"\\nNon-zero elements are: \" ,arr[result])"
   ]
  },
  {
   "cell_type": "code",
   "execution_count": null,
   "id": "3ac7c142",
   "metadata": {},
   "outputs": [],
   "source": []
  }
 ],
 "metadata": {
  "kernelspec": {
   "display_name": "Python 3 (ipykernel)",
   "language": "python",
   "name": "python3"
  },
  "language_info": {
   "codemirror_mode": {
    "name": "ipython",
    "version": 3
   },
   "file_extension": ".py",
   "mimetype": "text/x-python",
   "name": "python",
   "nbconvert_exporter": "python",
   "pygments_lexer": "ipython3",
   "version": "3.8.10"
  }
 },
 "nbformat": 4,
 "nbformat_minor": 5
}
