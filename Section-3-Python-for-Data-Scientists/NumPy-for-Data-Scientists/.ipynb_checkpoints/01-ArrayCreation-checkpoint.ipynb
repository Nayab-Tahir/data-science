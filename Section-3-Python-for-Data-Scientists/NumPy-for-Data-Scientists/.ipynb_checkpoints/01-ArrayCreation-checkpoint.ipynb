{
 "cells": [
  {
   "cell_type": "markdown",
   "id": "07d04291",
   "metadata": {},
   "source": [
    "---   \n",
    " <img align=\"left\" width=\"75\" height=\"75\"  src=\"https://upload.wikimedia.org/wikipedia/en/c/c8/University_of_the_Punjab_logo.png\"> \n",
    "\n",
    "<h1 align=\"center\">Department of Data Science</h1>\n",
    "<h1 align=\"center\">Course: Tools and Techniques for Data Science</h1>\n",
    "\n",
    "---\n",
    "<h3><div align=\"right\">Instructor: Muhammad Arif Butt, Ph.D.</div></h3>    "
   ]
  },
  {
   "cell_type": "markdown",
   "id": "f362a88f",
   "metadata": {},
   "source": [
    "<h1 align=\"center\">Lecture 3.2</h1>"
   ]
  },
  {
   "cell_type": "markdown",
   "id": "fa7486dc",
   "metadata": {},
   "source": [
    "# _01-ArrayCreation.ipynb_\n",
    "#### [Click me to learn more about Numpy Library](https://www.w3schools.com/python/numpy/numpy_intro.asp)"
   ]
  },
  {
   "cell_type": "markdown",
   "id": "2a5c5e74",
   "metadata": {},
   "source": [
    "# Learning agenda of this notebook\n",
    "1. Introduction to Numpy Library\n",
    "2. Array Creation using array() constructor\n",
    "3. Miscellaneous Array Creation Functions\n",
    "    - np.arange()\n",
    "    - np.linspace()\n",
    "    - np.zeros()\n",
    "    - np.ones()\n",
    "    - np.empty()\n",
    "    - np.full()\n",
    "    - np.fromstring()\n",
    "    - np.zeros_like()\n",
    "    - np.eye()\n",
    "    - np.random.rand()\n",
    "    - np.random.randint()\n",
    "4. NumPy Array Attributes\n",
    "    - arr.size\n",
    "    - arr.shape\n",
    "    - arr.ndim\n",
    "    - arr.itemsize\n",
    "    - arr.dtype\n",
    "    - arr.nbytes"
   ]
  },
  {
   "cell_type": "markdown",
   "id": "307bcc79",
   "metadata": {},
   "source": [
    "## 1. Introduction to Numpy Library\n",
    "<img align=\"right\" width=\"500\" height=\"300\"  src=\"images/ndarrays.png\" > \n",
    "\n",
    "- The \"data\" in *Data Analysis* typically refers to numerical data, e.g., stock prices, sales figures, sensor measurements, sports scores, database tables, etc. The [Numpy](https://numpy.org) library provides specialized data structures, functions, and other tools for numerical computing in Python.\n",
    "- NumPy is the fundamental package for scientific computing in Python. NumPy arrays facilitate advanced mathematical and other types of operations on large numbers of data.\n",
    "- A NumPy array is an ordered and mutable data structure that is used to store a collection of items.\n",
    "- A Numpy arrays can have any number of dimensions (N-dimensions) and different lengths along each dimension. We can inspect the length along each dimension using the `.shape` property of an array.\n",
    "- Items must be of same data type (can have array of structs). \n",
    "- Items are stored contiguously in memory.\n",
    "- Numpy ‘ndarray’ is a much more efficient way of storing and manipulating “numerical data” than the built-in Python data structures.\n",
    "- NumPy library is written partially in Python, but most of the parts that require fast computation are written in C or C++."
   ]
  },
  {
   "cell_type": "code",
   "execution_count": 26,
   "id": "c2831c56",
   "metadata": {},
   "outputs": [],
   "source": [
    "# To install this library in Jupyter notebook\n",
    "#import sys\n",
    "#!{sys.executable} -m pip install numpy"
   ]
  },
  {
   "cell_type": "code",
   "execution_count": 27,
   "id": "dba905d0",
   "metadata": {},
   "outputs": [
    {
     "data": {
      "text/plain": [
       "('1.19.5',\n",
       " ['/Library/Frameworks/Python.framework/Versions/3.8/lib/python3.8/site-packages/numpy'])"
      ]
     },
     "execution_count": 27,
     "metadata": {},
     "output_type": "execute_result"
    }
   ],
   "source": [
    "import numpy as np\n",
    "np.__version__ , np.__path__"
   ]
  },
  {
   "cell_type": "code",
   "execution_count": null,
   "id": "3a1ea773",
   "metadata": {},
   "outputs": [],
   "source": []
  },
  {
   "cell_type": "markdown",
   "id": "acd0efbb",
   "metadata": {},
   "source": [
    "## 2.  Array Creation using array(seq) Constructor\n",
    "```\n",
    "np.array(seq, dtype)\n",
    "```\n",
    "- The only required argument is a sequence like object like a list from which to create an array\n",
    "- The optional dtype argument specifies the data type of the array objects. For integer values it is normally int64, and for float objects it is float64.  You can pass dtype as an optional argument, if you want to limit memory usage. To check for available data types in Numpy check the value of **np.sctypes** attribute:\n",
    "    - **uint:** numpy.uint8, numpy.uint16, numpy.uint32, numpy.uint64\n",
    "    - **float:** numpy.float16, numpy.float32, numpy.float64, numpy.float128\n",
    "    - **complex:** numpy.complex64, numpy.complex128, numpy.complex256\n",
    "    - **others:** bool, object, bytes, str, numpy.void"
   ]
  },
  {
   "cell_type": "markdown",
   "id": "b8dbea3f",
   "metadata": {},
   "source": [
    "### a.  Creating an Empty NumPy Array"
   ]
  },
  {
   "cell_type": "code",
   "execution_count": 28,
   "id": "a72abbe2",
   "metadata": {},
   "outputs": [
    {
     "name": "stdout",
     "output_type": "stream",
     "text": [
      "[]\n",
      "<class 'numpy.ndarray'>\n"
     ]
    }
   ],
   "source": [
    "import numpy as np\n",
    "mylist = []\n",
    "arr = np.array(mylist)\n",
    "print(arr)\n",
    "print(type(arr))"
   ]
  },
  {
   "cell_type": "markdown",
   "id": "38beed8a",
   "metadata": {},
   "source": [
    "### b.  0-Dimensional Array\n",
    "- A 0-D array has a single scalar value, and has zero or no axis"
   ]
  },
  {
   "cell_type": "code",
   "execution_count": 29,
   "id": "e25df0a4",
   "metadata": {},
   "outputs": [
    {
     "name": "stdout",
     "output_type": "stream",
     "text": [
      "array:  10\n",
      "arr.ndim:  0\n",
      "arr.shape:  ()\n",
      "arr.size:  1\n",
      "arr.dtype:  int64\n",
      "arr.itemsize:  8\n",
      "arr.nbytes:  8\n"
     ]
    }
   ],
   "source": [
    "# Create a 0-D numpy array using array() constructor\n",
    "import numpy as np\n",
    "arr = np.array(10)\n",
    "print(\"array: \", arr)\n",
    "print(\"arr.ndim: \", arr.ndim)    # get number of dimensions \n",
    "print(\"arr.shape: \", arr.shape)  # get dimension size (The tuple returned is empty for 0-D array)\n",
    "print(\"arr.size: \", arr.size)    # get total number of elements\n",
    "print(\"arr.dtype: \", arr.dtype)  # get data type, default is what is minimum required to hold the max size element\n",
    "print(\"arr.itemsize: \", arr.itemsize)  # get size in bytes of each element of the array\n",
    "print(\"arr.nbytes: \", arr.nbytes)  # get number of bytes occupied by entire array object in memory (1*8=8)\n"
   ]
  },
  {
   "cell_type": "markdown",
   "id": "07a08a79",
   "metadata": {},
   "source": [
    "### c.  1-Dimensional Arrays\n",
    "<img align=\"left\" width=\"200\" height=\"100\"  src=\"images/1d.png\" > \n",
    "\n",
    "- An array that has 0-D arrays or scalar values, as its elements is called a 1-D array. \n",
    "- Used to represent vectors or 1st order tensors.\n",
    "- A 1-D array has only one axis:\n",
    "    - **axis 0:** or vertical axis   or x-axis or number of rows"
   ]
  },
  {
   "cell_type": "code",
   "execution_count": 30,
   "id": "3530bb63",
   "metadata": {},
   "outputs": [
    {
     "name": "stdout",
     "output_type": "stream",
     "text": [
      "array:  [1 4 2 5 3]\n",
      "arr.ndim:  1\n",
      "arr.shape:  (5,)\n",
      "arr.size:  5\n",
      "arr.dtype:  uint16\n",
      "arr.itemsize:  2\n",
      "arr.nbytes:  10\n"
     ]
    }
   ],
   "source": [
    "# Create a 1-D numpy array using array() constructor of numpy\n",
    "\n",
    "mylist = [1, 4, 2, 5, 3]\n",
    "arr = np.array(mylist, dtype=np.uint16)\n",
    "arr = np.array([1, 4, 2, 5, 3], dtype=np.uint16)\n",
    "\n",
    "print(\"array: \", arr)\n",
    "print(\"arr.ndim: \", arr.ndim)   # get number of dimensions\n",
    "print(\"arr.shape: \", arr.shape) # This is 1-D array having 5 columns, so return a tuple with one element\n",
    "print(\"arr.size: \", arr.size)   # get total number of elements\n",
    "print(\"arr.dtype: \", arr.dtype) # get data type, default is what is minimum required to hold the max size element\n",
    "print(\"arr.itemsize: \", arr.itemsize)  # get size in bytes of each element of the array\n",
    "print(\"arr.nbytes: \", arr.nbytes)  # get number of bytes occupied by entire array object in memory (2*5=10)"
   ]
  },
  {
   "cell_type": "markdown",
   "id": "92edb9d5",
   "metadata": {},
   "source": [
    "### d.  2-Dimensional Arrays\n",
    "<img align=\"left\" width=\"200\" height=\"100\"  src=\"images/2d.png\" > \n",
    "\n",
    "- An array that has 1-D arrays as its elements is called a 2-D array. \n",
    "- Used to represent matrix or 2nd order tensors.\n",
    "- A 2-D array has two axis:\n",
    "    - **axis 0:** or vertical axis   or x-axis or number of rows\n",
    "    - **axis 1:** or horizontal axis or y-axis or number of columns\n",
    "- If you've taken a linear algebra class in high school, you may recognize this 2-d array as a matrix with five rows and four columns. Each row represents one city, and the columns may contain temperature, rainfall, humidity, and smog in that city respectively."
   ]
  },
  {
   "cell_type": "code",
   "execution_count": 31,
   "id": "3f19c130",
   "metadata": {},
   "outputs": [
    {
     "name": "stdout",
     "output_type": "stream",
     "text": [
      "array:  [[1 2 3 4]\n",
      " [5 6 7 8]\n",
      " [3 2 4 1]\n",
      " [7 3 4 9]\n",
      " [4 0 3 1]]\n",
      "arr.ndim:  2\n",
      "arr.shape:  (5, 4)\n",
      "arr.size:  20\n",
      "arr.dtype:  int64\n",
      "arr.itemsize:  8\n",
      "arr.nbytes:  160\n"
     ]
    }
   ],
   "source": [
    "# creating 2-D array using array constructor in numpy\n",
    "\n",
    "mylist = [\n",
    "          [1, 2, 3, 4], \n",
    "          [5, 6, 7, 8], \n",
    "          [3, 2, 4, 1], \n",
    "          [7, 3, 4, 9], \n",
    "          [4, 0, 3, 1]\n",
    "          ]\n",
    "arr = np.array(mylist)\n",
    "print(\"array: \", arr)\n",
    "print(\"arr.ndim: \", arr.ndim)   #get number of dimensions (2-D array)\n",
    "print(\"arr.shape: \", arr.shape) #get dimension size.For a 2-D array, return a tuple with two elements (rows, cols)\n",
    "print(\"arr.size: \", arr.size)   #get total number of elements (5*4=20 elements)\n",
    "print(\"arr.dtype: \", arr.dtype) #get data type, default is what is minimum required to hold the max size element\n",
    "print(\"arr.itemsize: \", arr.itemsize)  # get size in bytes of each element of the array\n",
    "print(\"arr.nbytes: \", arr.nbytes)  # get number of bytes occupied by entire array object in memory (8*20=160)"
   ]
  },
  {
   "cell_type": "markdown",
   "id": "bbd0d916",
   "metadata": {},
   "source": [
    "### e.  3-Dimensional Arrays\n",
    "<img align=\"left\" width=\"200\" height=\"100\"  src=\"images/3d.png\" > \n",
    "\n",
    "- An array that has 2-D arrays as its elements is called a 3-D array. Used to represent 3rd order tensors.\n",
    "- A 3-D array has three axis:\n",
    "    - **axis 0:** or number of rows along x-axis\n",
    "    - **axis 1:** or number of rows along y-axis\n",
    "    - **axis 2:** or number of columns along z-axis"
   ]
  },
  {
   "cell_type": "code",
   "execution_count": 32,
   "id": "94082d91",
   "metadata": {},
   "outputs": [
    {
     "name": "stdout",
     "output_type": "stream",
     "text": [
      "array:  [[[1 2 3]\n",
      "  [5 6 7]\n",
      "  [3 2 4]\n",
      "  [7 3 4]]\n",
      "\n",
      " [[8 1 6]\n",
      "  [1 9 4]\n",
      "  [5 6 4]\n",
      "  [2 6 2]]\n",
      "\n",
      " [[5 3 2]\n",
      "  [2 0 5]\n",
      "  [8 3 0]\n",
      "  [5 6 9]]\n",
      "\n",
      " [[6 7 1]\n",
      "  [8 1 6]\n",
      "  [1 4 7]\n",
      "  [2 0 4]]\n",
      "\n",
      " [[2 8 9]\n",
      "  [3 0 4]\n",
      "  [5 2 2]\n",
      "  [1 3 8]]]\n",
      "arr.ndim:  3\n",
      "arr.shape:  (5, 4, 3)\n",
      "arr.size:  60\n",
      "arr.dtype:  int64\n",
      "arr.itemsize:  8\n",
      "arr.nbytes:  480\n"
     ]
    }
   ],
   "source": [
    "# creating 3-D array using array constructor in numpy\n",
    "mylist = [\n",
    "          [[1, 2, 3], [5, 6, 7], [3, 2, 4], [7, 3, 4]],\n",
    "          [[8, 1, 6], [1, 9, 4], [5, 6, 4], [2, 6, 2]],\n",
    "          [[5, 3, 2], [2, 0, 5], [8, 3, 0], [5, 6, 9]],\n",
    "          [[6, 7, 1], [8, 1, 6], [1, 4, 7], [2, 0, 4]],\n",
    "          [[2, 8, 9], [3, 0, 4], [5, 2, 2], [1, 3, 8]],\n",
    "         ]\n",
    "arr = np.array(mylist)\n",
    "\n",
    "\n",
    "print(\"array: \", arr)\n",
    "print(\"arr.ndim: \", arr.ndim)    # get number of dimensions (3-D array)\n",
    "print(\"arr.shape: \", arr.shape)  # get dimension size.For a 3-D array, return a tuple with three elements\n",
    "                                 # A 3-D array having five levels each having a 4x3 matrix OR you can interpret as\n",
    "                                 # number of rows along x-axis (axis 0) are 5\n",
    "                                 # number of rows along y-axis (axis 1) are 4\n",
    "                                 # number of columns on z-axis (axis 2) are 3\n",
    "                \n",
    "print(\"arr.size: \", arr.size)    # get total number of elements (2*5*4=40 elements)\n",
    "print(\"arr.dtype: \", arr.dtype)  # get data type, default is what is minimum required to hold the max size element\n",
    "print(\"arr.itemsize: \", arr.itemsize)  # get size in bytes of each element of the array\n",
    "print(\"arr.nbytes: \", arr.nbytes)  # get number of bytes occupied by entire array object in memory (8*40=320)"
   ]
  },
  {
   "cell_type": "code",
   "execution_count": null,
   "id": "b65d9e8d",
   "metadata": {},
   "outputs": [],
   "source": []
  },
  {
   "cell_type": "markdown",
   "id": "2ad94463",
   "metadata": {},
   "source": [
    "## 3. Miscellaneous Array Creation Function\n",
    "- Numpy also provides some handy functions to create arrays of desired shapes with fixed or random values. Check out the [official documentation](https://numpy.org/doc/stable/reference/routines.array-creation.html) or use the `help` function to learn more."
   ]
  },
  {
   "cell_type": "markdown",
   "id": "cc2a77b5",
   "metadata": {},
   "source": [
    "<img align=\"right\" width=\"150\" height=\"100\"  src=\"images/zeros.png\"  > \n",
    "\n",
    "### a. Using np.zeros() function\n",
    "This function returns an array of given shape and type, filled with zeros.\n",
    "\n",
    "```\n",
    "numpy.zeros(shape, dtype)\n",
    "```\n",
    "\n",
    "- shape : The shape is an int or tuple of ints to define the size/shape of the array.\n",
    "- dtype : The dtype is an optional parameter with default value as float."
   ]
  },
  {
   "cell_type": "code",
   "execution_count": 33,
   "id": "8db932d3",
   "metadata": {},
   "outputs": [
    {
     "data": {
      "text/plain": [
       "array([0., 0., 0.])"
      ]
     },
     "execution_count": 33,
     "metadata": {},
     "output_type": "execute_result"
    }
   ],
   "source": [
    "# Creating 1-Dimensional array of all zeros\n",
    "arr = np.zeros(3)\n",
    "arr\n",
    "# Notice that the elements are having the default data type as the float. That’s why the zeros are 0."
   ]
  },
  {
   "cell_type": "code",
   "execution_count": 34,
   "id": "57ec3ff3",
   "metadata": {},
   "outputs": [
    {
     "data": {
      "text/plain": [
       "array([[0., 0., 0.],\n",
       "       [0., 0., 0.]])"
      ]
     },
     "execution_count": 34,
     "metadata": {},
     "output_type": "execute_result"
    }
   ],
   "source": [
    "# Creating 2-Dimensional array filled with zeros\n",
    "arr = np.zeros((2,3))\n",
    "arr\n"
   ]
  },
  {
   "cell_type": "code",
   "execution_count": 42,
   "id": "c1823941",
   "metadata": {},
   "outputs": [
    {
     "data": {
      "text/plain": [
       "(array([[0, 0, 0],\n",
       "        [0, 0, 0]]),\n",
       " 48)"
      ]
     },
     "execution_count": 42,
     "metadata": {},
     "output_type": "execute_result"
    }
   ],
   "source": [
    "# Creating 2-Dimensional array filled with zeros of integer types\n",
    "arr = np.zeros((2,3), dtype=int)\n",
    "arr, arr.nbytes"
   ]
  },
  {
   "cell_type": "code",
   "execution_count": 43,
   "id": "4deb6df4",
   "metadata": {},
   "outputs": [
    {
     "data": {
      "text/plain": [
       "(array([[0, 0, 0],\n",
       "        [0, 0, 0]], dtype=uint16),\n",
       " 12)"
      ]
     },
     "execution_count": 43,
     "metadata": {},
     "output_type": "execute_result"
    }
   ],
   "source": [
    "# Creating 2-Dimensional array filled with zeros of integer types\n",
    "arr = np.zeros((2,3), dtype=np.uint16)\n",
    "arr, arr.nbytes"
   ]
  },
  {
   "cell_type": "markdown",
   "id": "ddc10a77",
   "metadata": {},
   "source": [
    "<img align=\"right\" width=\"100\" height=\"100\"  src=\"images/ones.png\"  > \n",
    "\n",
    "### b. Using np.ones() function\n",
    "This function returns an array of given shape and type, filled with ones.\n",
    "\n",
    "```\n",
    "numpy.ones(shape, dtype)\n",
    "```\n",
    "\n",
    "- shape : The shape is an int or tuple of ints to define the size/shape of the array.\n",
    "- dtype : The dtype is an optional parameter with default value as float."
   ]
  },
  {
   "cell_type": "code",
   "execution_count": 24,
   "id": "418071eb",
   "metadata": {},
   "outputs": [
    {
     "data": {
      "text/plain": [
       "array([1., 1., 1.])"
      ]
     },
     "execution_count": 24,
     "metadata": {},
     "output_type": "execute_result"
    }
   ],
   "source": [
    "# Creating one-dimensional array with ones\n",
    "arr = np.ones(3)\n",
    "arr\n"
   ]
  },
  {
   "cell_type": "code",
   "execution_count": 45,
   "id": "a8825242",
   "metadata": {},
   "outputs": [
    {
     "data": {
      "text/plain": [
       "array([[1., 1., 1.],\n",
       "       [1., 1., 1.]])"
      ]
     },
     "execution_count": 45,
     "metadata": {},
     "output_type": "execute_result"
    }
   ],
   "source": [
    "# Creating 2-Dimensional array having 3 columns filled with ones\n",
    "arr = np.ones((2,3))\n",
    "arr"
   ]
  },
  {
   "cell_type": "code",
   "execution_count": 44,
   "id": "3365218c",
   "metadata": {},
   "outputs": [
    {
     "data": {
      "text/plain": [
       "array([[1, 1, 1],\n",
       "       [1, 1, 1]])"
      ]
     },
     "execution_count": 44,
     "metadata": {},
     "output_type": "execute_result"
    }
   ],
   "source": [
    "# Creating 2-Dimensional array having 3 columns filled with ones of integer types\n",
    "arr = np.ones((2,3), dtype=int)\n",
    "arr"
   ]
  },
  {
   "cell_type": "markdown",
   "id": "092ed147",
   "metadata": {},
   "source": [
    "<img align=\"right\" width=\"250\" height=\"100\"  src=\"images/empty.png\"  > \n",
    "\n",
    "### c. Using np.empty() function\n",
    "This function returns an array of given shape and type, filled with junk values.\n",
    "\n",
    "```\n",
    "numpy.empty(shape, dtype)\n",
    "```\n",
    "\n",
    "- shape : The shape is an int or tuple of ints to define the size/shape of the array.\n",
    "- dtype : The dtype is an optional parameter with default value as float.\n",
    "\n",
    "\n",
    "Un-like numpy.zeros(), and numpy.ones(), the numpy.empty() function doesn't initialize the entries, so they contain junk values."
   ]
  },
  {
   "cell_type": "code",
   "execution_count": 49,
   "id": "b0626a6f",
   "metadata": {},
   "outputs": [
    {
     "data": {
      "text/plain": [
       "array([3.10503618e+231, 1.29073636e-231, 1.48219694e-323])"
      ]
     },
     "execution_count": 49,
     "metadata": {},
     "output_type": "execute_result"
    }
   ],
   "source": [
    "arr = np.empty(3)\n",
    "arr"
   ]
  },
  {
   "cell_type": "code",
   "execution_count": 50,
   "id": "32cd666e",
   "metadata": {},
   "outputs": [
    {
     "data": {
      "text/plain": [
       "array([8070450532247928832, 1152930267586621999,                   3])"
      ]
     },
     "execution_count": 50,
     "metadata": {},
     "output_type": "execute_result"
    }
   ],
   "source": [
    "arr = np.empty(3, dtype=int)\n",
    "arr"
   ]
  },
  {
   "cell_type": "code",
   "execution_count": 51,
   "id": "ccc1b0f1",
   "metadata": {},
   "outputs": [
    {
     "data": {
      "text/plain": [
       "array([[4607182418800017408, 4607182418800017408, 4607182418800017408],\n",
       "       [4607182418800017408, 4607182418800017408, 4607182418800017408]])"
      ]
     },
     "execution_count": 51,
     "metadata": {},
     "output_type": "execute_result"
    }
   ],
   "source": [
    "# Creating 2-Dimensional array having 3 columns filled with junk values\n",
    "arr = np.empty((2,3), dtype=int)\n",
    "arr"
   ]
  },
  {
   "cell_type": "markdown",
   "id": "cef960cb",
   "metadata": {},
   "source": [
    "<img align=\"right\" width=\"200\" height=\"100\"  src=\"images/full.png\"  > \n",
    "\n",
    "### d. Using np.full() function\n",
    "The full() function return a new array of given shape and type, filled with fill_value.\n",
    "```\n",
    "np.full(shape, fill_value, dtype)\n",
    "```\n",
    "- shape: Shape of the new array\n",
    "- fill_value: Fill value.\n",
    "- dtype\tThe desired data-type for the array"
   ]
  },
  {
   "cell_type": "code",
   "execution_count": 66,
   "id": "ffbef9b8",
   "metadata": {},
   "outputs": [
    {
     "data": {
      "text/plain": [
       "array([54, 54, 54, 54, 54, 54, 54])"
      ]
     },
     "execution_count": 66,
     "metadata": {},
     "output_type": "execute_result"
    }
   ],
   "source": [
    "arr = np.full(7, 54)\n",
    "arr"
   ]
  },
  {
   "cell_type": "code",
   "execution_count": 67,
   "id": "3650c4c8",
   "metadata": {},
   "outputs": [
    {
     "data": {
      "text/plain": [
       "array([21.5, 21.5, 21.5, 21.5, 21.5, 21.5, 21.5])"
      ]
     },
     "execution_count": 67,
     "metadata": {},
     "output_type": "execute_result"
    }
   ],
   "source": [
    "arr = np.full(7, 21.5, dtype=float)\n",
    "arr"
   ]
  },
  {
   "cell_type": "code",
   "execution_count": 68,
   "id": "0c012b63",
   "metadata": {},
   "outputs": [
    {
     "data": {
      "text/plain": [
       "array([[21.5, 21.5, 21.5],\n",
       "       [21.5, 21.5, 21.5]])"
      ]
     },
     "execution_count": 68,
     "metadata": {},
     "output_type": "execute_result"
    }
   ],
   "source": [
    "arr = np.full((2,3), 21.5)\n",
    "arr"
   ]
  },
  {
   "cell_type": "markdown",
   "id": "0476bba5",
   "metadata": {},
   "source": [
    "<img align=\"right\" width=\"120\" height=\"130\"  src=\"images/eye.png\"  >\n",
    "\n",
    "### e. Using np.eye() function\n",
    "The eye() function is used to create a 2-D array with ones on the diagonal and zeros elsewhere.\n",
    "\n",
    "**syntax:** eye(N, M, k , dtype)\n",
    "- N: Number of rows in the output\n",
    "- M: Number of columns in the output. If None, defaults to N\n",
    "- k: Index of the diagonal: (Default 0) refers to the main diagonal, a positive value refers to an upper diagonal, and a negative value to a lower diagonal\n",
    "- dtype: Data-type of the returned array"
   ]
  },
  {
   "cell_type": "code",
   "execution_count": 71,
   "id": "0e0d26d2",
   "metadata": {},
   "outputs": [
    {
     "data": {
      "text/plain": [
       "array([[1., 0., 0.],\n",
       "       [0., 1., 0.],\n",
       "       [0., 0., 1.]])"
      ]
     },
     "execution_count": 71,
     "metadata": {},
     "output_type": "execute_result"
    }
   ],
   "source": [
    "# creating 2-D array using eye function\n",
    "# with 2 rows and 2 columns having 1's at on the main diagonal\n",
    "eye_arr = np.eye(3)\n",
    "eye_arr\n"
   ]
  },
  {
   "cell_type": "code",
   "execution_count": null,
   "id": "a9a00e2b",
   "metadata": {},
   "outputs": [],
   "source": [
    "# creating 2-D array of int type using eye function with 4 rows and 3 columns having 1's at on the main diagonal\n",
    "eye_arr = np.eye(4, 3, dtype=int)\n",
    "eye_arr\n"
   ]
  },
  {
   "cell_type": "code",
   "execution_count": null,
   "id": "d1d38f70",
   "metadata": {},
   "outputs": [],
   "source": [
    "# creating 2-D array of int type using eye function with 4 rows and 3 columns having 1's at one place higher\n",
    "eye_arr = np.eye(4, 3, k = 1, dtype=int)\n",
    "eye_arr"
   ]
  },
  {
   "cell_type": "code",
   "execution_count": null,
   "id": "df6a499a",
   "metadata": {},
   "outputs": [],
   "source": [
    "# creating 2-D array of int type using eye function with 4 rows and 3 columns having 1's at one place lower\n",
    "eye_arr = np.eye(4, 3, k = -1, dtype=int)\n",
    "eye_arr"
   ]
  },
  {
   "cell_type": "markdown",
   "id": "649f820a",
   "metadata": {},
   "source": [
    "<img align=\"right\" width=\"200\" height=\"150\"  src=\"images/fromstring.png\"  > \n",
    "\n",
    "### f. Using np.fromstring() function\n",
    "This function is used to create a new 1-D array initialized from raw binary or text data in a string.\n",
    "```\n",
    "np.fromstring(string, dtype, sep)\n",
    "```\n",
    "- string: A string containing the data\n",
    "- dtype: The data type of the array (by default float)\n",
    "- sep: The string separating numbers in the data"
   ]
  },
  {
   "cell_type": "code",
   "execution_count": 77,
   "id": "147af890",
   "metadata": {},
   "outputs": [
    {
     "data": {
      "text/plain": [
       "array([25., 30., 35., 40.])"
      ]
     },
     "execution_count": 77,
     "metadata": {},
     "output_type": "execute_result"
    }
   ],
   "source": [
    "# convert the space separated string '25 30 35 40' into an floats array\n",
    "arr = np.fromstring('25 30 35 40', sep=' ')\n",
    "arr"
   ]
  },
  {
   "cell_type": "code",
   "execution_count": 80,
   "id": "b6c3dc8b",
   "metadata": {},
   "outputs": [
    {
     "data": {
      "text/plain": [
       "array([25, 30, 35, 40])"
      ]
     },
     "execution_count": 80,
     "metadata": {},
     "output_type": "execute_result"
    }
   ],
   "source": [
    "# convert the space separated string '25 30 35 40' into an integer array\n",
    "arr = np.fromstring('25 30 35 40', sep=' ', dtype=int)\n",
    "arr"
   ]
  },
  {
   "cell_type": "code",
   "execution_count": 83,
   "id": "72a344df",
   "metadata": {},
   "outputs": [
    {
     "name": "stdout",
     "output_type": "stream",
     "text": [
      "[ 0.7 10.4 50.5]\n"
     ]
    }
   ],
   "source": [
    "# converting comma separated string into float type array\n",
    "arr = np.fromstring('0.7, 10.4, 50.5', sep=\",\", dtype=float)\n",
    "print(arr)\n"
   ]
  },
  {
   "cell_type": "code",
   "execution_count": null,
   "id": "a8ca92d9",
   "metadata": {},
   "outputs": [],
   "source": [
    "# It will raise error\n",
    "#arr = np.fromstring('0.57, str, 50.555', dtype=float, sep=',')"
   ]
  },
  {
   "cell_type": "markdown",
   "id": "0d429a59",
   "metadata": {},
   "source": [
    "### g. Using np.arange() function\n",
    "<img align=\"right\" width=\"200\" height=\"100\"  src=\"images/arrange.png\"  > \n",
    "This function is used to get evenly spaced values within a given interval.\n",
    "\n",
    "```\n",
    "numpy.arange(start, stop, step)\n",
    "```\n",
    "- If only one argument is given will generate an int64 array from zero to that value (not inclusive)\n",
    "- If two arguments are given then start value in inclusive, stop value is not inclusive and the default step is 1\n",
    "- If three arguments are given then the third argument is the distance between two adjacent values. (default step size is 1)\n",
    "- All the three arguments can be integers or floats\n",
    "\n",
    "The image shows the array created by np.arange(5,9,1)\n"
   ]
  },
  {
   "cell_type": "code",
   "execution_count": 52,
   "id": "c567ce50",
   "metadata": {},
   "outputs": [
    {
     "name": "stdout",
     "output_type": "stream",
     "text": [
      "[0 1 2 3 4]\n",
      "int64\n"
     ]
    }
   ],
   "source": [
    "arr = np.arange(5)\n",
    "print(arr)\n",
    "print(arr.dtype)"
   ]
  },
  {
   "cell_type": "code",
   "execution_count": null,
   "id": "32a8c7a1",
   "metadata": {},
   "outputs": [],
   "source": [
    "arr = np.arange(5, dtype=float)\n",
    "print(arr)\n",
    "print(arr.dtype)"
   ]
  },
  {
   "cell_type": "code",
   "execution_count": null,
   "id": "a4758334",
   "metadata": {},
   "outputs": [],
   "source": [
    "arr = np.arange(5, dtype=np.uint8)\n",
    "print(arr)\n",
    "print(arr.dtype)\n",
    "\n",
    "#To check available datatypes for numpy arrays check the attribute sctypes\n",
    "#np.sctypes\n"
   ]
  },
  {
   "cell_type": "code",
   "execution_count": 89,
   "id": "f84c7cb4",
   "metadata": {},
   "outputs": [
    {
     "data": {
      "text/plain": [
       "array([5, 6, 7, 8, 9])"
      ]
     },
     "execution_count": 89,
     "metadata": {},
     "output_type": "execute_result"
    }
   ],
   "source": [
    "arr = np.arange(5,10)\n",
    "arr"
   ]
  },
  {
   "cell_type": "code",
   "execution_count": 88,
   "id": "41f6e3c6",
   "metadata": {},
   "outputs": [
    {
     "data": {
      "text/plain": [
       "array([5, 7, 9])"
      ]
     },
     "execution_count": 88,
     "metadata": {},
     "output_type": "execute_result"
    }
   ],
   "source": [
    "arr = np.arange(5, 10, 2)\n",
    "arr"
   ]
  },
  {
   "cell_type": "code",
   "execution_count": null,
   "id": "8b48cd16",
   "metadata": {},
   "outputs": [],
   "source": [
    "arr = np.arange(10, 5, -1)\n",
    "arr"
   ]
  },
  {
   "cell_type": "code",
   "execution_count": null,
   "id": "591ba433",
   "metadata": {},
   "outputs": [],
   "source": [
    "arr = np.arange(-1, -4, -.5)\n",
    "arr"
   ]
  },
  {
   "cell_type": "code",
   "execution_count": 69,
   "id": "d05da103",
   "metadata": {},
   "outputs": [
    {
     "name": "stdout",
     "output_type": "stream",
     "text": [
      "[1.  1.5 2.  2.5 3.  3.5 4.  4.5]\n"
     ]
    }
   ],
   "source": [
    "arr = np.arange(1, 5, .5)\n",
    "print(arr)"
   ]
  },
  {
   "cell_type": "markdown",
   "id": "c88a4fb1",
   "metadata": {},
   "source": [
    "### h. Using np.linspace() function\n",
    "<img align=\"right\" width=\"300\" height=\"200\"  src=\"images/linspace1.png\"  > \n",
    "\n",
    "This function by default returns an array of 50 evenly spaced elements starting from the first argument (inclusive) to the seond argument (inclusive). The third argument, if given, is the count of number of elements of the array, default is 50.\n",
    "\n",
    "```\n",
    "numpy.linspace(start, stop, num)\n",
    "```"
   ]
  },
  {
   "cell_type": "code",
   "execution_count": 62,
   "id": "415725c9",
   "metadata": {},
   "outputs": [
    {
     "name": "stdout",
     "output_type": "stream",
     "text": [
      "[1.         1.08163265 1.16326531 1.24489796 1.32653061 1.40816327\n",
      " 1.48979592 1.57142857 1.65306122 1.73469388 1.81632653 1.89795918\n",
      " 1.97959184 2.06122449 2.14285714 2.2244898  2.30612245 2.3877551\n",
      " 2.46938776 2.55102041 2.63265306 2.71428571 2.79591837 2.87755102\n",
      " 2.95918367 3.04081633 3.12244898 3.20408163 3.28571429 3.36734694\n",
      " 3.44897959 3.53061224 3.6122449  3.69387755 3.7755102  3.85714286\n",
      " 3.93877551 4.02040816 4.10204082 4.18367347 4.26530612 4.34693878\n",
      " 4.42857143 4.51020408 4.59183673 4.67346939 4.75510204 4.83673469\n",
      " 4.91836735 5.        ]\n",
      "float64\n"
     ]
    }
   ],
   "source": [
    "arr = np.linspace(1,5)\n",
    "print(arr)\n",
    "print(arr.dtype)"
   ]
  },
  {
   "cell_type": "code",
   "execution_count": 64,
   "id": "fa61f7a4",
   "metadata": {},
   "outputs": [
    {
     "name": "stdout",
     "output_type": "stream",
     "text": [
      "[-1.         -1.08163265 -1.16326531 -1.24489796 -1.32653061 -1.40816327\n",
      " -1.48979592 -1.57142857 -1.65306122 -1.73469388 -1.81632653 -1.89795918\n",
      " -1.97959184 -2.06122449 -2.14285714 -2.2244898  -2.30612245 -2.3877551\n",
      " -2.46938776 -2.55102041 -2.63265306 -2.71428571 -2.79591837 -2.87755102\n",
      " -2.95918367 -3.04081633 -3.12244898 -3.20408163 -3.28571429 -3.36734694\n",
      " -3.44897959 -3.53061224 -3.6122449  -3.69387755 -3.7755102  -3.85714286\n",
      " -3.93877551 -4.02040816 -4.10204082 -4.18367347 -4.26530612 -4.34693878\n",
      " -4.42857143 -4.51020408 -4.59183673 -4.67346939 -4.75510204 -4.83673469\n",
      " -4.91836735 -5.        ]\n"
     ]
    }
   ],
   "source": [
    "arr = np.linspace(-1,-5)\n",
    "print(arr)"
   ]
  },
  {
   "cell_type": "code",
   "execution_count": 65,
   "id": "a444fa6b",
   "metadata": {},
   "outputs": [
    {
     "name": "stdout",
     "output_type": "stream",
     "text": [
      "[5.   5.25 5.5  5.75 6.   6.25 6.5  6.75 7.   7.25 7.5  7.75 8.  ]\n"
     ]
    }
   ],
   "source": [
    "# creating array b/w the interval (5 , 8) and generate 13 sample values\n",
    "arr1 = np.linspace(5, 8, 13)\n",
    "print(arr1)"
   ]
  },
  {
   "cell_type": "code",
   "execution_count": null,
   "id": "9f699b0f",
   "metadata": {},
   "outputs": [],
   "source": []
  },
  {
   "cell_type": "markdown",
   "id": "6ae200be",
   "metadata": {},
   "source": [
    "### i. Using np.random.rand() function\n",
    "- This function generates an array of random floats (between 0 and 1) of as many dimensions passed as argument.\n",
    "\n",
    "```\n",
    "numpy.random.rand(d0 [,d1] [,d2]....)\n",
    "```\n"
   ]
  },
  {
   "cell_type": "code",
   "execution_count": 96,
   "id": "72169df7",
   "metadata": {},
   "outputs": [
    {
     "data": {
      "text/plain": [
       "0.8455901674855594"
      ]
     },
     "execution_count": 96,
     "metadata": {},
     "output_type": "execute_result"
    }
   ],
   "source": [
    "# Python's built-in random module has random() function that returns a single float between 0 and 1\n",
    "import random\n",
    "value = random.random()\n",
    "value"
   ]
  },
  {
   "cell_type": "code",
   "execution_count": 99,
   "id": "0b52089a",
   "metadata": {},
   "outputs": [
    {
     "data": {
      "text/plain": [
       "array([0.88514143, 0.34602291, 0.07814961, 0.08395324, 0.50468123])"
      ]
     },
     "execution_count": 99,
     "metadata": {},
     "output_type": "execute_result"
    }
   ],
   "source": [
    "# Creating 1-D array of 5 elements of random floats between 0 and 1\n",
    "arr = np.random.rand(5)\n",
    "arr\n"
   ]
  },
  {
   "cell_type": "code",
   "execution_count": 266,
   "id": "0cc0885d",
   "metadata": {},
   "outputs": [
    {
     "data": {
      "text/plain": [
       "array([9.18546301, 7.0883127 , 5.58000445, 5.06968111, 2.34223725])"
      ]
     },
     "execution_count": 266,
     "metadata": {},
     "output_type": "execute_result"
    }
   ],
   "source": [
    "# Creating 1-D array of 5 elements of random floats between 0 and 10\n",
    "arr = np.random.rand(5)*10\n",
    "arr\n"
   ]
  },
  {
   "cell_type": "code",
   "execution_count": 100,
   "id": "cbde7fc6",
   "metadata": {},
   "outputs": [
    {
     "data": {
      "text/plain": [
       "array([[0.28430932, 0.64913934, 0.46484515],\n",
       "       [0.99737835, 0.42633812, 0.51008499],\n",
       "       [0.57923734, 0.8134352 , 0.45155214],\n",
       "       [0.51275496, 0.09320418, 0.88126801]])"
      ]
     },
     "execution_count": 100,
     "metadata": {},
     "output_type": "execute_result"
    }
   ],
   "source": [
    "# Creating 2-D array (4x3) having random floats between 0 and 1\n",
    "arr = np.random.rand(4,3)\n",
    "arr"
   ]
  },
  {
   "cell_type": "code",
   "execution_count": 102,
   "id": "f1713e5a",
   "metadata": {},
   "outputs": [
    {
     "data": {
      "text/plain": [
       "array([[[0.57375027, 0.50403017, 0.48350181],\n",
       "        [0.7858176 , 0.64931622, 0.25118726],\n",
       "        [0.16901067, 0.67581081, 0.84923553],\n",
       "        [0.18122844, 0.52757624, 0.1448434 ]],\n",
       "\n",
       "       [[0.16214743, 0.49076867, 0.74495534],\n",
       "        [0.40294417, 0.52758966, 0.75414443],\n",
       "        [0.28185413, 0.98882386, 0.80548063],\n",
       "        [0.73169919, 0.00568712, 0.7312231 ]],\n",
       "\n",
       "       [[0.66992913, 0.33451961, 0.42480575],\n",
       "        [0.9598717 , 0.04513415, 0.54069845],\n",
       "        [0.02139786, 0.7595543 , 0.69868743],\n",
       "        [0.22614498, 0.88687288, 0.87729805]],\n",
       "\n",
       "       [[0.54926599, 0.04386554, 0.03339737],\n",
       "        [0.8402173 , 0.73659333, 0.24766848],\n",
       "        [0.63043419, 0.46835281, 0.54600443],\n",
       "        [0.01358104, 0.24481054, 0.16538061]],\n",
       "\n",
       "       [[0.9897882 , 0.0474574 , 0.7679283 ],\n",
       "        [0.51640844, 0.59194184, 0.98219911],\n",
       "        [0.05189206, 0.85749777, 0.03929711],\n",
       "        [0.65419745, 0.58276542, 0.55856738]]])"
      ]
     },
     "execution_count": 102,
     "metadata": {},
     "output_type": "execute_result"
    }
   ],
   "source": [
    "# Creating 3-D array of with random values using np.random.rand()\n",
    "arr = np.random.rand(5,4,3)\n",
    "arr"
   ]
  },
  {
   "cell_type": "markdown",
   "id": "f97ace7a",
   "metadata": {},
   "source": [
    "### i. Using np.random.randint() function\n",
    "This function returns an array of specified shape and fills it with random integers.\n",
    "```\n",
    "numpy.random.randint(low, high, size)\n",
    "```\n",
    "- low: Lowest (signed) integer to be drawn from the distribution. But, it works as a highest integer in the sample if high=None.\n",
    "- high: Largest (signed) integer to be drawn from the distribution (not inclusive)\n",
    "- size: number of samples to be generated (default is 1 for scalar and >1 for 1-D array and a tupple for ndarray)"
   ]
  },
  {
   "cell_type": "code",
   "execution_count": 158,
   "id": "967ec0b5",
   "metadata": {},
   "outputs": [
    {
     "data": {
      "text/plain": [
       "1"
      ]
     },
     "execution_count": 158,
     "metadata": {},
     "output_type": "execute_result"
    }
   ],
   "source": [
    "# Generating a random integer scalar b/w interval (0,9) \n",
    "value = np.random.randint(10)\n",
    "value"
   ]
  },
  {
   "cell_type": "code",
   "execution_count": 159,
   "id": "a773e1bf",
   "metadata": {},
   "outputs": [
    {
     "data": {
      "text/plain": [
       "17"
      ]
     },
     "execution_count": 159,
     "metadata": {},
     "output_type": "execute_result"
    }
   ],
   "source": [
    "# Generating a random integer scalar b/w interval (5,19) \n",
    "value = np.random.randint(5,20)\n",
    "value"
   ]
  },
  {
   "cell_type": "code",
   "execution_count": 215,
   "id": "8d8c685b",
   "metadata": {},
   "outputs": [
    {
     "data": {
      "text/plain": [
       "3"
      ]
     },
     "execution_count": 215,
     "metadata": {},
     "output_type": "execute_result"
    }
   ],
   "source": [
    "# Generating a random integer scalar from -5 to 4 \n",
    "value = np.random.randint(-5, 5)\n",
    "value"
   ]
  },
  {
   "cell_type": "code",
   "execution_count": 230,
   "id": "830eee4b",
   "metadata": {},
   "outputs": [
    {
     "data": {
      "text/plain": [
       "array([66, 79, 94, 75, 78, 39])"
      ]
     },
     "execution_count": 230,
     "metadata": {},
     "output_type": "execute_result"
    }
   ],
   "source": [
    "# creating 1-D array of size 6 of int type b/w interval (1,100) \n",
    "arr = np.random.randint(1, 101, 6)\n",
    "arr"
   ]
  },
  {
   "cell_type": "code",
   "execution_count": 86,
   "id": "ad60a9b1",
   "metadata": {},
   "outputs": [
    {
     "data": {
      "text/plain": [
       "array([4, 1, 1, 0])"
      ]
     },
     "execution_count": 86,
     "metadata": {},
     "output_type": "execute_result"
    }
   ],
   "source": [
    "# creating 1-D array of size 6 of int type b/w interval (-5,4) \n",
    "arr = np.random.randint(low = -5, high = 5, size = 4)\n",
    "arr"
   ]
  },
  {
   "cell_type": "code",
   "execution_count": 238,
   "id": "5b72f8a5",
   "metadata": {},
   "outputs": [
    {
     "data": {
      "text/plain": [
       "array([[9, 6, 3],\n",
       "       [8, 1, 7],\n",
       "       [3, 4, 8]])"
      ]
     },
     "execution_count": 238,
     "metadata": {},
     "output_type": "execute_result"
    }
   ],
   "source": [
    "# By passing a tuple to size means rows and columns\n",
    "arr = np.random.randint(low = 1, high = 10, size = (3,3))\n",
    "arr"
   ]
  },
  {
   "cell_type": "code",
   "execution_count": 251,
   "id": "f5720914",
   "metadata": {},
   "outputs": [
    {
     "data": {
      "text/plain": [
       "array([[[5, 8, 7, 8],\n",
       "        [5, 1, 8, 3],\n",
       "        [9, 7, 5, 1]],\n",
       "\n",
       "       [[9, 1, 6, 9],\n",
       "        [1, 9, 2, 8],\n",
       "        [2, 8, 9, 4]]])"
      ]
     },
     "execution_count": 251,
     "metadata": {},
     "output_type": "execute_result"
    }
   ],
   "source": [
    "arr = np.random.randint(low = 1, high = 10, size = (2,3,4))\n",
    "arr"
   ]
  },
  {
   "cell_type": "code",
   "execution_count": null,
   "id": "d97eabf5",
   "metadata": {},
   "outputs": [],
   "source": []
  },
  {
   "cell_type": "markdown",
   "id": "3a053da9",
   "metadata": {},
   "source": [
    "### k. Using np.zeros_like() function\n",
    "<img align=\"right\" width=\"100\" height=\"130\"  src=\"images/zeros_like.png\"  >\n",
    "The zeros_like() function is used to get an array of zeros with the same shape and type as a given array.\n",
    "\n",
    "```\n",
    "zeros_like(arr, dtype) \n",
    "```\n",
    "\n",
    "- arr: array like input\n",
    "- dtype: Overrides the data type of the result"
   ]
  },
  {
   "cell_type": "code",
   "execution_count": 272,
   "id": "b97a4eed",
   "metadata": {},
   "outputs": [
    {
     "name": "stdout",
     "output_type": "stream",
     "text": [
      "Create 1-D array \n",
      " [0 1 2 3 4 5 6 7 8 9]\n",
      "\n",
      " Converted Array \n",
      " [0 0 0 0 0 0 0 0 0 0]\n"
     ]
    }
   ],
   "source": [
    "# creating 1-D array\n",
    "arr1 = np.arange(10)\n",
    "print(\"Create 1-D array \\n\", arr1)\n",
    "\n",
    "# creating the same array as the shape of 'arr' filled with zeros\n",
    "arr2 = np.zeros_like(arr1)\n",
    "print(\"\\n Converted Array \\n\", arr2)\n"
   ]
  },
  {
   "cell_type": "code",
   "execution_count": 273,
   "id": "f58fbe7a",
   "metadata": {},
   "outputs": [
    {
     "name": "stdout",
     "output_type": "stream",
     "text": [
      "Create 1-D array \n",
      " [[1 2 3]\n",
      " [4 5 6]\n",
      " [7 8 9]]\n",
      "\n",
      " Converted Array \n",
      " [[0 0 0]\n",
      " [0 0 0]\n",
      " [0 0 0]]\n"
     ]
    }
   ],
   "source": [
    "# creating array using arange function b/w interval (1,5)\n",
    "mylist = [[1,2,3],[4,5,6],[7,8,9]]\n",
    "arr1 = np.array(mylist)\n",
    "print(\"Create 1-D array \\n\", arr1)\n",
    "\n",
    "# creating the same array as the shape of 'arr' filled with zeros\n",
    "arr2 = np.zeros_like(arr1)\n",
    "print(\"\\n Converted Array \\n\", arr2)\n"
   ]
  },
  {
   "cell_type": "code",
   "execution_count": 57,
   "id": "ac466a8f",
   "metadata": {},
   "outputs": [
    {
     "ename": "ValueError",
     "evalue": "cannot reshape array of size 7 into shape (2,2)",
     "output_type": "error",
     "traceback": [
      "\u001b[0;31m---------------------------------------------------------------------------\u001b[0m",
      "\u001b[0;31mValueError\u001b[0m                                Traceback (most recent call last)",
      "\u001b[0;32m/var/folders/1t/g3ylw8h50cjdqmk5d6jh1qmm0000gn/T/ipykernel_33381/517209842.py\u001b[0m in \u001b[0;36m<module>\u001b[0;34m\u001b[0m\n\u001b[1;32m      1\u001b[0m \u001b[0;31m# Changing the dimension of array using reshape function, converting arr into 2-Dimentional array\u001b[0m\u001b[0;34m\u001b[0m\u001b[0;34m\u001b[0m\u001b[0;34m\u001b[0m\u001b[0m\n\u001b[0;32m----> 2\u001b[0;31m \u001b[0marr\u001b[0m \u001b[0;34m=\u001b[0m \u001b[0marr\u001b[0m\u001b[0;34m.\u001b[0m\u001b[0mreshape\u001b[0m\u001b[0;34m(\u001b[0m\u001b[0;34m(\u001b[0m\u001b[0;36m2\u001b[0m\u001b[0;34m,\u001b[0m\u001b[0;36m2\u001b[0m\u001b[0;34m)\u001b[0m\u001b[0;34m)\u001b[0m\u001b[0;34m\u001b[0m\u001b[0;34m\u001b[0m\u001b[0m\n\u001b[0m\u001b[1;32m      3\u001b[0m \u001b[0mprint\u001b[0m\u001b[0;34m(\u001b[0m\u001b[0;34m\"\\n Print the Reshaped Array \\n\"\u001b[0m\u001b[0;34m,\u001b[0m \u001b[0marr\u001b[0m\u001b[0;34m)\u001b[0m\u001b[0;34m\u001b[0m\u001b[0;34m\u001b[0m\u001b[0m\n\u001b[1;32m      4\u001b[0m \u001b[0;34m\u001b[0m\u001b[0m\n\u001b[1;32m      5\u001b[0m \u001b[0;34m\u001b[0m\u001b[0m\n",
      "\u001b[0;31mValueError\u001b[0m: cannot reshape array of size 7 into shape (2,2)"
     ]
    }
   ],
   "source": [
    "\n",
    "# Changing the dimension of array using reshape function, converting arr into 2-Dimentional array\n",
    "arr = arr.reshape((2,2))\n",
    "print(\"\\n Print the Reshaped Array \\n\", arr)\n",
    "\n",
    "\n",
    "# creating the same array as the shape of arr2 filled with zeros\n",
    "arr3 = np.zeros_like(arr)\n",
    "print(\"\\n Zeros array\\n\", arr3)"
   ]
  },
  {
   "cell_type": "markdown",
   "id": "36853582",
   "metadata": {},
   "source": [
    "## 4. NumPy Array Attributes\n",
    "- arr.ndim\n",
    "- arr.shape\n",
    "- arr.size\n",
    "- arr.dtype\n",
    "- arr.itemsize\n",
    "- arr.nbytes"
   ]
  },
  {
   "cell_type": "markdown",
   "id": "65b43e28",
   "metadata": {},
   "source": [
    "### a. NumPy size attribute & size function\n",
    "- The np.size attribute returns the number of elements in a NumPy array\n",
    "- The np.size() function returns the number of elements in a NumPy array passed as the only argument\n",
    "- If a second argument, axis is passed, then it returns the number of elements in that axis of the array only\n",
    "```\n",
    "np.size(array, axis=None)\n",
    "```\n"
   ]
  },
  {
   "cell_type": "code",
   "execution_count": 276,
   "id": "f828e57b",
   "metadata": {},
   "outputs": [
    {
     "name": "stdout",
     "output_type": "stream",
     "text": [
      "[[[54 54 54 54]\n",
      "  [54 54 54 54]\n",
      "  [54 54 54 54]\n",
      "  [54 54 54 54]\n",
      "  [54 54 54 54]]\n",
      "\n",
      " [[54 54 54 54]\n",
      "  [54 54 54 54]\n",
      "  [54 54 54 54]\n",
      "  [54 54 54 54]\n",
      "  [54 54 54 54]]]\n",
      "arr.size:  40\n",
      "np.size(arr):  40\n",
      "Number of rows along x-axis:  2\n",
      "Number of rows along y-axis:  5\n",
      "Number of columns along z-axis:  4\n"
     ]
    }
   ],
   "source": [
    "mylist = [\n",
    "          [[1, 2, 3, 4], [5, 6, 7, 8], [3, 2, 4, 1], [7, 3, 4, 9], [4, 0, 3, 1]],\n",
    "          [[3, 8, 1, 6], [3, 1, 9, 4], [1, 9, 6, 4], [2, 6, 2, 5], [8, 1, 6, 9]]\n",
    "         ]\n",
    "\n",
    "mylist1 = arr = np.full((2,5,4), 54)\n",
    "arr = np.array(mylist1)\n",
    "print(arr)\n",
    "\n",
    "# check total no. of elements using either the size attribute or size() function\n",
    "print(\"arr.size: \", arr.size)\n",
    "print(\"np.size(arr): \", np.size(arr))\n",
    "\n",
    "# check no. of elements along x-axis (0 denotes x-axis)\n",
    "print(\"Number of rows along x-axis: \", np.size(arr, 0))\n",
    "\n",
    "# check no. of elements along y-axis (1 denotes y-axis)\n",
    "print(\"Number of rows along y-axis: \", np.size(arr, 1))\n",
    "\n",
    "# check no. of elements along z-axis (2 denotes z-axis)\n",
    "print(\"Number of columns along z-axis: \", np.size(arr, 2))"
   ]
  },
  {
   "cell_type": "code",
   "execution_count": null,
   "id": "3591ee59",
   "metadata": {},
   "outputs": [],
   "source": []
  }
 ],
 "metadata": {
  "kernelspec": {
   "display_name": "Python 3 (ipykernel)",
   "language": "python",
   "name": "python3"
  },
  "language_info": {
   "codemirror_mode": {
    "name": "ipython",
    "version": 3
   },
   "file_extension": ".py",
   "mimetype": "text/x-python",
   "name": "python",
   "nbconvert_exporter": "python",
   "pygments_lexer": "ipython3",
   "version": "3.8.10"
  }
 },
 "nbformat": 4,
 "nbformat_minor": 5
}
