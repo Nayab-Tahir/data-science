{
 "cells": [
  {
   "cell_type": "markdown",
   "id": "07d04291",
   "metadata": {},
   "source": [
    "<div style=\"background-color:rgba(50, 81, 100, .9); font-family: 'Bebas Neue'; padding:10px 0;  margin-top:2px; margin-bottom:2px\">\n",
    "\n",
    "   \n",
    " <img align=\"left\" width=\"75\" height=\"75\"  src=\"https://upload.wikimedia.org/wikipedia/en/c/c8/University_of_the_Punjab_logo.png\"  > \n",
    "\n",
    "   \n",
    "<h1><div style=\"text-align: center\"> Department of Data Science</div>\n",
    "<div style=\"text-align: center\"> University of the Punjab, Lahore</div></h1>\n",
    "\n",
    "\n",
    "<h1><div style=\"text-align: center\">Course Title: Tools and Techniques for Data Science</div></h1>\n",
    "\n",
    "   <div style=\"text-align: right; margin-right: 5px; font-size:18px\"> <em><strong>Muhammad Arif Butt, Ph.D.</strong></em></div>\n",
    "    \n",
    "    \n",
    "  "
   ]
  },
  {
   "cell_type": "markdown",
   "id": "f362a88f",
   "metadata": {},
   "source": [
    "<h2><div style=\"text-align: center\"> \" <u>Lecture 3.3</u> \"</div></h2>"
   ]
  },
  {
   "cell_type": "markdown",
   "id": "fa7486dc",
   "metadata": {},
   "source": [
    "## _numpy_ArrayCreation.ipynb_\n",
    "#### [Click me to learn more about Numpy Library](https://www.w3schools.com/python/numpy/numpy_intro.asp)"
   ]
  },
  {
   "cell_type": "markdown",
   "id": "2a5c5e74",
   "metadata": {},
   "source": [
    "### Learning agenda of this notebook\n",
    "1. Introduction to Numpy Library (Installation, Import Numpy)\n",
    "2. Creating Multi-Dimensional Array (0-D - 3-D)\n",
    "3. Explore Different functions for Array Creation"
   ]
  },
  {
   "cell_type": "markdown",
   "id": "307bcc79",
   "metadata": {},
   "source": [
    "## 1. Introduction to Numpy Library\n",
    "<img align=\"right\" width=\"500\" height=\"300\"  src=\"images/arrays.png\"  > \n",
    "NumPy is a very popular python library for large multi-dimensional array and matrix processing, with the help of a large collection of high-level mathematical functions. It is very useful for fundamental scientific computations in Machine Learning. NumPy library is written partially in Python, but most of the parts that require fast computation are written in C or C++.\n",
    "\n",
    "It is particularly useful for:\n",
    " - N-dimensional Array\n",
    " - Linear algebra \n",
    " - Fourier transform \n",
    " - Random number capabilities "
   ]
  },
  {
   "cell_type": "code",
   "execution_count": 2,
   "id": "dba905d0",
   "metadata": {},
   "outputs": [],
   "source": [
    "# Anaconda has already installed numpy and some other libraries, So you can simply import the numpy\n",
    "\n",
    "# importing the numpy library as np\n",
    "import numpy as np"
   ]
  },
  {
   "cell_type": "code",
   "execution_count": 3,
   "id": "e251bdc6",
   "metadata": {},
   "outputs": [],
   "source": [
    "# If you are using some other distrubution which doesn't comes with pre-installed numpy library \n",
    "# And got an error while importing the numpy library, \n",
    "# Make sure you have already installed PIP package manager\n",
    "\n",
    "# Install numpy by using the following command\n",
    "# !pip3 install numpy"
   ]
  },
  {
   "cell_type": "code",
   "execution_count": 4,
   "id": "909128ab",
   "metadata": {},
   "outputs": [
    {
     "data": {
      "text/plain": [
       "'1.19.5'"
      ]
     },
     "execution_count": 4,
     "metadata": {},
     "output_type": "execute_result"
    }
   ],
   "source": [
    "# You can check the verison of the numpy library\n",
    "np.__version__"
   ]
  },
  {
   "cell_type": "markdown",
   "id": "acd0efbb",
   "metadata": {},
   "source": [
    "## 2.  Array Creation using array() Constructor\n",
    "There are many ways to instantiate a numpy array. For example:\n",
    "- Pass in a List to the array() constructor\n",
    "- Use arange() function, similar to range() function but used for numpy arrays\n",
    "- Use linspace() function to create an array of n equally spaced values\n",
    "- Create an array empty, full of ones or zeroes, or full of any fill value.\n",
    "\n",
    "You can pass in dtype as an optional argument for any of above. This is especially useful if you want to limit memory usage for a very large array of small integers because int8 and int16 use much less space than the default int32"
   ]
  },
  {
   "cell_type": "markdown",
   "id": "38beed8a",
   "metadata": {},
   "source": [
    "### a.  0-Dimensional Array\n",
    "0-D arrays, or Scalars, are the elements in an array. Each value in an array is a 0-D array."
   ]
  },
  {
   "cell_type": "code",
   "execution_count": 7,
   "id": "e25df0a4",
   "metadata": {},
   "outputs": [
    {
     "name": "stdout",
     "output_type": "stream",
     "text": [
      "<class 'numpy.ndarray'>\n",
      "10\n"
     ]
    }
   ],
   "source": [
    "# Create a 0-D numpy array using array() constructor\n",
    "\n",
    "import numpy as np\n",
    "\n",
    "arr = np.array(10)\n",
    "\n",
    "# checking type of the array\n",
    "print(type(arr))\n",
    "print(arr)\n"
   ]
  },
  {
   "cell_type": "markdown",
   "id": "07a08a79",
   "metadata": {},
   "source": [
    "### b.  1-Dimensional Arrays\n",
    "An array that has 0-D arrays as its elements is called uni-dimensional or 1-D array.\n",
    "These are the most common and basic arrays."
   ]
  },
  {
   "cell_type": "code",
   "execution_count": 10,
   "id": "3530bb63",
   "metadata": {},
   "outputs": [
    {
     "name": "stdout",
     "output_type": "stream",
     "text": [
      "<class 'numpy.ndarray'>\n",
      "[1 4 2 5 3]\n"
     ]
    }
   ],
   "source": [
    "# Create a 1-D numpy array using array() constructor of numpy\n",
    "# passing a list of integers to array constructor to create an array\n",
    "list1 = [1, 4, 2, 5, 3]\n",
    "arr = np.array(list1)\n",
    "\n",
    "# checking the type of the array\n",
    "print(type(arr))\n",
    "print(arr)"
   ]
  },
  {
   "cell_type": "markdown",
   "id": "92edb9d5",
   "metadata": {},
   "source": [
    "### c.  2-Dimensional Arrays\n",
    "An array that has 1-D arrays as its elements is called a 2-D array. These are often used to represent matrix or 2nd order tensors."
   ]
  },
  {
   "cell_type": "code",
   "execution_count": 14,
   "id": "3f19c130",
   "metadata": {},
   "outputs": [
    {
     "name": "stdout",
     "output_type": "stream",
     "text": [
      "[[1 2 3]\n",
      " [4 5 6]]\n"
     ]
    }
   ],
   "source": [
    "# creating 2-D array using array constructor in numpy\n",
    "# passing lists as elements\n",
    "arr_2D = np.array([[1, 2, 3], [4, 5, 6]])\n",
    "arr_2D = np.array([(1, 2, 3), (4, 5, 6)])\n",
    "\n",
    "print(arr_2D)"
   ]
  },
  {
   "cell_type": "markdown",
   "id": "bbd0d916",
   "metadata": {},
   "source": [
    "### d.  3-Dimensional Arrays\n",
    "An array that has 2-D arrays (matrices) as its elements is called 3-D array.\n",
    "These are often used to represent a 3rd order tensor."
   ]
  },
  {
   "cell_type": "code",
   "execution_count": 13,
   "id": "94082d91",
   "metadata": {},
   "outputs": [
    {
     "name": "stdout",
     "output_type": "stream",
     "text": [
      "[[[1 2 3]\n",
      "  [4 5 6]]\n",
      "\n",
      " [[1 2 3]\n",
      "  [4 5 6]]]\n"
     ]
    }
   ],
   "source": [
    "# creating 2-D array using array constructor in numpy\n",
    "# passing 2-D list as elements\n",
    "list2 = [[[1, 2, 3], [4, 5, 6]], [[1, 2, 3], [4, 5, 6]]]\n",
    "arr_3D = np.array(list2)\n",
    "\n",
    "print(arr_3D)"
   ]
  },
  {
   "cell_type": "markdown",
   "id": "ee2c518b",
   "metadata": {},
   "source": [
    "### e.  Creating an Empty Array"
   ]
  },
  {
   "cell_type": "code",
   "execution_count": 73,
   "id": "8d3ab8ef",
   "metadata": {},
   "outputs": [
    {
     "name": "stdout",
     "output_type": "stream",
     "text": [
      "[]\n",
      "<class 'numpy.ndarray'>\n"
     ]
    }
   ],
   "source": [
    "mylist = []\n",
    "arr1 = np.array(mylist)\n",
    "print(arr1)\n",
    "print(type(arr1))"
   ]
  },
  {
   "cell_type": "markdown",
   "id": "2ad94463",
   "metadata": {},
   "source": [
    "## 3. Miscelleaneous Array Creation Function"
   ]
  },
  {
   "cell_type": "markdown",
   "id": "0d429a59",
   "metadata": {},
   "source": [
    "### a. Using np.arange() function\n",
    "The arange() function is used to get evenly spaced values within a given interval. or integer arguments the function is equivalent to the Python built-in range function, but returns an ndarray rather than a list. \n",
    "\n",
    "**syntax:** (start, stop, step)\n",
    "\n",
    "<img align=\"right\" width=\"200\" height=\"100\"  src=\"images/arrange.png\"  > \n",
    "\n",
    "- Start of interval: The interval includes this value. (default start value is 0)\n",
    "- End of interval: The interval does not include this value,\n",
    "- Spacing between values: For any output out, this is the distance between two adjacent values. (default step size is 1)\n",
    "\n",
    "The image shows the array created by np.arange(5,9,1)\n"
   ]
  },
  {
   "cell_type": "code",
   "execution_count": 16,
   "id": "d05da103",
   "metadata": {},
   "outputs": [
    {
     "name": "stdout",
     "output_type": "stream",
     "text": [
      "[ 1  3  5  7  9 11]\n"
     ]
    }
   ],
   "source": [
    "# Creating array using arange function, passing the arguments start, end and step\n",
    "# creating array b/w the interval (1,12) with step value 2\n",
    "\n",
    "arr = np.arange(1, 12, 2)\n",
    "print(arr)"
   ]
  },
  {
   "cell_type": "markdown",
   "id": "c88a4fb1",
   "metadata": {},
   "source": [
    "<img align=\"right\" width=\"300\" height=\"200\"  src=\"images/linspace1.png\"  > \n",
    "\n",
    "### b. Using linspace function\n",
    "The numpy.linspace() function returns number spaces evenly w.r.t interval. Similar to numpy.arange() function but instead of step it uses sample number. \n",
    "\n",
    "**Syntax:** np.linspace(start, stop, num)\n",
    "- Start: The interval includes this value. (default start value is 0)\n",
    "- Stop: The interval include this value\n",
    "- Num: This is the number of samples to generate(default value of samples is 50)\n",
    "\n",
    "Basically, linspace is used when using a non-integer step, such as 0.1. It is better to use linspace for these cases."
   ]
  },
  {
   "cell_type": "code",
   "execution_count": 25,
   "id": "a444fa6b",
   "metadata": {},
   "outputs": [
    {
     "name": "stdout",
     "output_type": "stream",
     "text": [
      "[5.   5.25 5.5  5.75 6.   6.25 6.5  6.75 7.   7.25 7.5  7.75 8.  ]\n",
      "\n",
      "\n",
      "\n",
      "[5.         5.06122449 5.12244898 5.18367347 5.24489796 5.30612245\n",
      " 5.36734694 5.42857143 5.48979592 5.55102041 5.6122449  5.67346939\n",
      " 5.73469388 5.79591837 5.85714286 5.91836735 5.97959184 6.04081633\n",
      " 6.10204082 6.16326531 6.2244898  6.28571429 6.34693878 6.40816327\n",
      " 6.46938776 6.53061224 6.59183673 6.65306122 6.71428571 6.7755102\n",
      " 6.83673469 6.89795918 6.95918367 7.02040816 7.08163265 7.14285714\n",
      " 7.20408163 7.26530612 7.32653061 7.3877551  7.44897959 7.51020408\n",
      " 7.57142857 7.63265306 7.69387755 7.75510204 7.81632653 7.87755102\n",
      " 7.93877551 8.        ]\n"
     ]
    }
   ],
   "source": [
    "# Creating array using linspace function\n",
    "# passing the arguments start, end and number of items\n",
    "\n",
    "# creating array b/w the interval (5 , 8) and generate 13 sample values\n",
    "arr1 = np.linspace(5, 8, 13)\n",
    "print(arr1)\n",
    "print(\"\\n\\n\")\n",
    "arr2 = np.linspace(5,8)\n",
    "print(arr2)"
   ]
  },
  {
   "cell_type": "markdown",
   "id": "cc2a77b5",
   "metadata": {},
   "source": [
    "<img align=\"right\" width=\"150\" height=\"100\"  src=\"images/zeros.png\"  > \n",
    "\n",
    "### c. Using zeros function\n",
    "The np.zeros() function returns an array of given shape and type, filled with zeros.\n",
    "\n",
    "**syntax:** numpy.zeros(shape, dtype)\n",
    "\n",
    "- shape : The shape is an int or tuple of ints to define the size of the array\n",
    "- dtype : The dtype is an optional parameter with default value as float. It’s used to specify the data type of the array"
   ]
  },
  {
   "cell_type": "code",
   "execution_count": 10,
   "id": "0f207d4c",
   "metadata": {},
   "outputs": [
    {
     "name": "stdout",
     "output_type": "stream",
     "text": [
      "Creating 1-D array of Zeros\n",
      " [0. 0. 0.]\n",
      "\n",
      " Creating 2-D array of Zeros\n",
      " [[0. 0. 0.]\n",
      " [0. 0. 0.]]\n",
      "\n",
      " Creating Integer array of Zeros\n",
      " [[0 0 0]\n",
      " [0 0 0]]\n",
      "\n",
      " Array of Tuples \n",
      " [[(0., 0) (0., 0) (0., 0)]\n",
      " [(0., 0) (0., 0) (0., 0)]]\n"
     ]
    }
   ],
   "source": [
    "# Creating array using zeros function\n",
    "\n",
    "# Creating one-dimensional array with zeros\n",
    "arr = np.zeros(3)\n",
    "print(\"Creating 1-D array of Zeros\\n\", arr)\n",
    "# Notice that the elements are having the default data type as the float. That’s why the zeros are 0.\n",
    "\n",
    "\n",
    "# Creating 2-Dimensional array having 3 columns filled with zeros\n",
    "arr1 = np.zeros((2, 3))\n",
    "print(\"\\n Creating 2-D array of Zeros\\n\", arr1)\n",
    "\n",
    "\n",
    "# NumPy zeros array with int data type\n",
    "arr2 = np.zeros((2, 3), dtype=int)\n",
    "print(\"\\n Creating Integer array of Zeros\\n\",arr2)\n",
    "\n",
    "\n",
    "# We can specify the array elements as a tuple and specify their data types too.\n",
    "arr3 = np.zeros((2,3), dtype=[('x', 'float'), ('y', 'int')])\n",
    "print(\"\\n Array of Tuples \\n\", arr3)"
   ]
  },
  {
   "cell_type": "markdown",
   "id": "ddc10a77",
   "metadata": {},
   "source": [
    "<img align=\"right\" width=\"100\" height=\"100\"  src=\"images/ones.png\"  > \n",
    "\n",
    "### d. Using ones function\n",
    "Python numpy.ones() function returns a new array of given shape and data type, where the element’s value is set to 1. This function is very similar to numpy zeros() function."
   ]
  },
  {
   "cell_type": "code",
   "execution_count": 11,
   "id": "2b10b2e9",
   "metadata": {},
   "outputs": [
    {
     "name": "stdout",
     "output_type": "stream",
     "text": [
      "Creating 1-D array filled with Ones\n",
      " [1. 1. 1.]\n",
      "\n",
      " Creating 2-D array filled with Ones\n",
      " [[1. 1. 1.]\n",
      " [1. 1. 1.]]\n",
      "\n",
      " Creating Integer array filled with Ones\n",
      " [[1 1 1]\n",
      " [1 1 1]]\n",
      "\n",
      " Array of Tuples \n",
      " [[(1., 1) (1., 1) (1., 1)]\n",
      " [(1., 1) (1., 1) (1., 1)]]\n"
     ]
    }
   ],
   "source": [
    "# Creating array using ones function\n",
    "\n",
    "# Creating one-dimensional array with ones\n",
    "arr = np.ones(3)\n",
    "print(\"Creating 1-D array filled with Ones\\n\", arr)\n",
    "# Notice that the elements are having the default data type as the float.\n",
    "\n",
    "\n",
    "# Creating 2-Dimensional array having 3 columns filled with 1's\n",
    "arr1 = np.ones((2, 3))\n",
    "print(\"\\n Creating 2-D array filled with Ones\\n\", arr1)\n",
    "\n",
    "\n",
    "# NumPy ones array with int data type\n",
    "arr2 = np.ones((2, 3), dtype=int)\n",
    "print(\"\\n Creating Integer array filled with Ones\\n\",arr2)\n",
    "\n",
    "\n",
    "# We can specify the array elements as a tuple and specify their data types too.\n",
    "arr3 = np.ones((2,3), dtype=[('x', 'float'), ('y', 'int')])\n",
    "print(\"\\n Array of Tuples \\n\", arr3)"
   ]
  },
  {
   "cell_type": "markdown",
   "id": "092ed147",
   "metadata": {},
   "source": [
    "<img align=\"right\" width=\"250\" height=\"100\"  src=\"images/empty.png\"  > \n",
    "\n",
    "### e. Using empty function\n",
    "The numpy module of Python provides a function called numpy.empty(). This function is used to create an array without initializing the entries of given shape and type, containing junk values\n",
    "\n",
    "Un-like numpy.zeros(), and numpy.ones(), the numpy.empty() function doesn't initialize the entries, so they contain junk values."
   ]
  },
  {
   "cell_type": "code",
   "execution_count": 84,
   "id": "79520ec0",
   "metadata": {},
   "outputs": [
    {
     "name": "stdout",
     "output_type": "stream",
     "text": [
      "Creating 1-D array \n",
      " [4617315517961601024 4619004367821864960 4620693217682128896]\n",
      "\n",
      " Creating 2-D array \n",
      " [[-0.e+000 -0.e+000  4.e-323]\n",
      " [ 0.e+000  0.e+000  0.e+000]\n",
      " [ 0.e+000  0.e+000  0.e+000]\n",
      " [ 0.e+000  0.e+000  0.e+000]]\n"
     ]
    }
   ],
   "source": [
    "# Creating array using empty function\n",
    "\n",
    "# Creating one-dimensional array \n",
    "array1 = np.empty(3, dtype=int)\n",
    "print(\"Creating 1-D array \\n\", array1)\n",
    "\n",
    "# Creating 2-Dimensional array\n",
    "array2 = np.empty((4, 3), dtype=float)\n",
    "print(\"\\n Creating 2-D array \\n\", array2)"
   ]
  },
  {
   "cell_type": "markdown",
   "id": "cef960cb",
   "metadata": {},
   "source": [
    "<img align=\"right\" width=\"200\" height=\"100\"  src=\"images/full.png\"  > \n",
    "\n",
    "### f. Using full function\n",
    "The full() function return a new array of given shape and type, filled with fill_value.\n",
    "```\n",
    "np.full(shape, fill_value, dtype=None, order='C')\n",
    "```\n",
    "- shape: Shape of the new array\n",
    "- fill_value: Fill value.\n",
    "- dtype\tThe desired data-type for the array"
   ]
  },
  {
   "cell_type": "code",
   "execution_count": 86,
   "id": "e4f94cc5",
   "metadata": {},
   "outputs": [
    {
     "name": "stdout",
     "output_type": "stream",
     "text": [
      "1-D array filled with 10.77 \n",
      " [10.77 10.77 10.77]\n",
      "\n",
      " 2-D array filled with 55 \n",
      " [[55 55 55]\n",
      " [55 55 55]\n",
      " [55 55 55]\n",
      " [55 55 55]]\n"
     ]
    }
   ],
   "source": [
    "# creating a 1-D array of float type filled with 10.77\n",
    "array4 = np.full((3), 10.77, dtype=float)\n",
    "print(\"1-D array filled with 10.77 \\n\", array4)\n",
    "\n",
    "\n",
    "\n",
    "#creating a 2-D array of int type filled with 55\n",
    "array5 = np.full((4,3), 55, dtype=int)\n",
    "print(\"\\n 2-D array filled with 55 \\n\", array5)"
   ]
  },
  {
   "cell_type": "markdown",
   "id": "649f820a",
   "metadata": {},
   "source": [
    "<img align=\"right\" width=\"200\" height=\"150\"  src=\"images/fromstring.png\"  > \n",
    "\n",
    "### g. Using fromstring function\n",
    "The fromstring() function is used to create a new 1-D array initialized from raw binary or text data in a string.\n",
    "\n",
    "**syntax:** fromstring(string, dtype, sep)\n",
    "- string: A string containing the data\n",
    "- dtype: The data type of the array (by default float)\n",
    "- sep: The string separating numbers in the data"
   ]
  },
  {
   "cell_type": "code",
   "execution_count": 87,
   "id": "c9eda3e3",
   "metadata": {},
   "outputs": [
    {
     "name": "stdout",
     "output_type": "stream",
     "text": [
      "<class 'numpy.ndarray'> [25 30 35 40]\n",
      "[ 0.57  10.34  50.555]\n",
      "[ 0.57 -1.  ]\n"
     ]
    },
    {
     "name": "stderr",
     "output_type": "stream",
     "text": [
      "/var/folders/1t/g3ylw8h50cjdqmk5d6jh1qmm0000gn/T/ipykernel_74707/3766538818.py:17: DeprecationWarning: string or file could not be read to its end due to unmatched data; this will raise a ValueError in the future.\n",
      "  array8 = np.fromstring('0.57, str, 50.555', dtype=float, sep=',')\n"
     ]
    }
   ],
   "source": [
    "# Creating array using fromstring function\n",
    "\n",
    "# convert the space separated string '25 30 35 40'\n",
    "# into an integer array\n",
    "array6 = np.fromstring('25 30 35 40', dtype=int, sep=' ')\n",
    "# print the type as well as the array\n",
    "print(type(array6), array6)\n",
    "\n",
    "\n",
    "\n",
    "# converting comma separated string into float type array\n",
    "array7 = np.fromstring('0.57, 10.34, 50.555', dtype=float, sep=',')\n",
    "print(array7)\n",
    "\n",
    "\n",
    "# It will raise error\n",
    "array8 = np.fromstring('0.57, str, 50.555', dtype=float, sep=',')\n",
    "print(array8)"
   ]
  },
  {
   "cell_type": "markdown",
   "id": "3a053da9",
   "metadata": {},
   "source": [
    "### h. Using zeros_like() function\n",
    "The zeros_like() function is used to get an array of zeros with the same shape and type as a given array.\n",
    "\n",
    "**syntax:** zeros_like(arr, dtype) \n",
    "- arr: array like input\n",
    "- dtype: Overrides the data type of the result\n",
    "\n",
    "<img align=\"left\" width=\"500\" height=\"100\"  src=\"images/reshape.png\"  >\n",
    "<img align=\"right\" width=\"100\" height=\"130\"  src=\"images/zeros_like.png\"  >"
   ]
  },
  {
   "cell_type": "code",
   "execution_count": 91,
   "id": "ac466a8f",
   "metadata": {},
   "outputs": [
    {
     "name": "stdout",
     "output_type": "stream",
     "text": [
      "Create 1-D array \n",
      " [1 2 3 4]\n",
      "\n",
      " Converted Array \n",
      " [0 0 0 0]\n",
      "\n",
      " Print the Reshaped Array \n",
      " [[1 2]\n",
      " [3 4]]\n",
      "\n",
      " Zeros array\n",
      " [[0 0]\n",
      " [0 0]]\n"
     ]
    }
   ],
   "source": [
    "# Creating array using zeros_like function\n",
    "\n",
    "# creating array using arange function b/w interval (1,5)\n",
    "arr = np.arange(1,5)\n",
    "print(\"Create 1-D array \\n\", arr)\n",
    "\n",
    "# creating the same array as the shape of 'arr' filled with zeros\n",
    "arr2 = np.zeros_like(arr)\n",
    "print(\"\\n Converted Array \\n\", arr2)\n",
    "\n",
    "\n",
    "# Changing the dimension of array using reshape function, converting arr into 2-Dimentional array\n",
    "arr = arr.reshape((2,2))\n",
    "print(\"\\n Print the Reshaped Array \\n\", arr)\n",
    "\n",
    "\n",
    "# creating the same array as the shape of arr2 filled with zeros\n",
    "arr3 = np.zeros_like(arr)\n",
    "print(\"\\n Zeros array\\n\", arr3)"
   ]
  },
  {
   "cell_type": "markdown",
   "id": "0476bba5",
   "metadata": {},
   "source": [
    "<img align=\"right\" width=\"120\" height=\"130\"  src=\"images/eye.png\"  >\n",
    "\n",
    "### i. Using eye() function\n",
    "The eye() function is used to create a 2-D array with ones on the diagonal and zeros elsewhere.\n",
    "\n",
    "**syntax:** eye(N, M, k , dtype)\n",
    "- N: Number of rows in the output\n",
    "- M: Number of columns in the output. If None, defaults to N\n",
    "- k: Index of the diagonal: (Default 0) refers to the main diagonal, a positive value refers to an upper diagonal, and a negative value to a lower diagonal\n",
    "- dtype: Data-type of the returned array"
   ]
  },
  {
   "cell_type": "code",
   "execution_count": 105,
   "id": "0e0d26d2",
   "metadata": {},
   "outputs": [
    {
     "name": "stdout",
     "output_type": "stream",
     "text": [
      "Print float array \n",
      " [[1. 0. 0.]\n",
      " [0. 1. 0.]\n",
      " [0. 0. 1.]]\n",
      "\n",
      " Print integer array \n",
      " [[1 0 0]\n",
      " [0 1 0]\n",
      " [0 0 1]\n",
      " [0 0 0]]\n",
      "\n",
      " Print integer array \n",
      " [[0 0 0]\n",
      " [1 0 0]\n",
      " [0 1 0]\n",
      " [0 0 1]]\n"
     ]
    }
   ],
   "source": [
    "# creating 2-D array using eye function\n",
    "# with 2 rows and 2 columns having 1's at on the main diagonal\n",
    "eye_array = np.eye(3)\n",
    "print(\"Print float array \\n\",eye_array)\n",
    "\n",
    "# creating 2-D array of int type using eye function with 4 rows and 3 columns having 1's at on the main diagonal\n",
    "eye_array1 = np.eye(4, 3, dtype=int)\n",
    "print(\"\\n Print integer array \\n\", eye_array1)\n",
    "\n",
    "# creating 2-D array of int type using eye function with 4 rows and 3 columns having 1's at one place lower\n",
    "eye_array1 = np.eye(4, 3, k=-1, dtype=int)\n",
    "print(\"\\n Print integer array \\n\", eye_array1)\n"
   ]
  },
  {
   "cell_type": "markdown",
   "id": "6ae200be",
   "metadata": {},
   "source": [
    "### j. Using numpy.random.rand() function\n",
    "The numpy.random.rand() function creates an array of specified shape and fills it with float random values.\n"
   ]
  },
  {
   "cell_type": "code",
   "execution_count": 108,
   "id": "0b52089a",
   "metadata": {},
   "outputs": [
    {
     "name": "stdout",
     "output_type": "stream",
     "text": [
      "Creating 1-D array filled with Random values \n",
      " [0.33693193 0.74844602 0.73418987]\n",
      "\n",
      " Creating 2-D array filled with Random values \n",
      " [[0.02401428 0.17703468 0.89697431]\n",
      " [0.50706657 0.67066215 0.18969224]\n",
      " [0.30067824 0.42213249 0.46837443]]\n",
      "\n",
      " Creating 3-D array filled with Random values \n",
      " [[[0.14823556 0.86692776 0.59102622]\n",
      "  [0.40222219 0.06417608 0.37715787]\n",
      "  [0.55941737 0.08243896 0.44690303]]\n",
      "\n",
      " [[0.7766891  0.72836912 0.3830712 ]\n",
      "  [0.45624294 0.45868725 0.64680192]\n",
      "  [0.12236252 0.26667225 0.54884239]]\n",
      "\n",
      " [[0.6791407  0.69712855 0.98351349]\n",
      "  [0.90451224 0.48863063 0.63123494]\n",
      "  [0.80090521 0.81580913 0.67379224]]]\n"
     ]
    }
   ],
   "source": [
    "# Creating 1-D array with random values using np.random.rand()\n",
    "r_arr = np.random.rand(3)\n",
    "print(\"Creating 1-D array filled with Random values \\n\", r_arr)\n",
    "\n",
    "# Creating 2-D array with random values using np.random.rand()\n",
    "i_arr = np.random.rand(3,3)\n",
    "print(\"\\n Creating 2-D array filled with Random values \\n\", i_arr)\n",
    "\n",
    "# Creating 3-D array of with random values using np.random.rand()\n",
    "im_arr = np.random.rand(3,3,3)\n",
    "print(\"\\n Creating 3-D array filled with Random values \\n\", im_arr)"
   ]
  },
  {
   "cell_type": "markdown",
   "id": "f97ace7a",
   "metadata": {},
   "source": [
    "### k. Using numpy.random.randint() function\n",
    "It is one of the function for doing random sampling in numpy. It returns an array of specified shape and fills it with random integers.\n",
    "\n",
    "**syntax:** numpy.random.randint(low, high, size)\n",
    "- low: Lowest (signed) integer to be drawn from the distribution. But, it works as a highest integer in the sample if high=None.\n",
    "- high: Largest (signed) integer to be drawn from the distribution (not inclusive)\n",
    "- size: number of samples to be generated (default is 1)"
   ]
  },
  {
   "cell_type": "code",
   "execution_count": 139,
   "id": "7c86dd0d",
   "metadata": {},
   "outputs": [
    {
     "name": "stdout",
     "output_type": "stream",
     "text": [
      "Output 1-D array with random integers \n",
      " [8 2 8 5 6 6 3 2 3 7]\n",
      "Output 1-D array with random integers \n",
      " [7 1 0 4]\n",
      "\n",
      " Output 2D Array filled with random integers \n",
      " [[6 4 5]\n",
      " [8 2 2]\n",
      " [2 1 2]]\n"
     ]
    }
   ],
   "source": [
    "# creating 1-D array of size 10 of int type b/w interval (0,9) \n",
    "array1 = np.random.randint(low=0, high=9, size=10)\n",
    "print(\"Output 1-D array with random integers \\n\", array1)\n",
    "\n",
    "\n",
    "# In the example below, by default low will work as highest integer, so, the sample values will be b/w (0,4)\n",
    "array2 = np.random.randint(low=8, size=4)\n",
    "print(\"Output 1-D array with random integers \\n\", array2)\n",
    "\n",
    "\n",
    "\n",
    "\n",
    "# here size (3,3) means creating 2-D array with 3 rows and 3 columns\n",
    "array3 = np.random.randint(1, 10, size =(3, 3))\n",
    "print (\"\\n Output 2D Array filled with random integers \\n\", array3)"
   ]
  },
  {
   "cell_type": "code",
   "execution_count": null,
   "id": "54efb2f5",
   "metadata": {},
   "outputs": [],
   "source": []
  },
  {
   "cell_type": "code",
   "execution_count": null,
   "id": "f828e57b",
   "metadata": {},
   "outputs": [],
   "source": []
  }
 ],
 "metadata": {
  "kernelspec": {
   "display_name": "Python 3 (ipykernel)",
   "language": "python",
   "name": "python3"
  },
  "language_info": {
   "codemirror_mode": {
    "name": "ipython",
    "version": 3
   },
   "file_extension": ".py",
   "mimetype": "text/x-python",
   "name": "python",
   "nbconvert_exporter": "python",
   "pygments_lexer": "ipython3",
   "version": "3.8.10"
  }
 },
 "nbformat": 4,
 "nbformat_minor": 5
}
