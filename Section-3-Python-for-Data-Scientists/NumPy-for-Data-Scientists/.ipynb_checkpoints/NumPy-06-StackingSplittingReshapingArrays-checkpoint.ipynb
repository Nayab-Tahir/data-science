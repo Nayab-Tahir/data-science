{
 "cells": [
  {
   "cell_type": "markdown",
   "id": "b5b40627",
   "metadata": {},
   "source": [
    "---   \n",
    " <img align=\"left\" width=\"75\" height=\"75\"  src=\"https://upload.wikimedia.org/wikipedia/en/c/c8/University_of_the_Punjab_logo.png\"> \n",
    "\n",
    "<h1 align=\"center\">Department of Data Science</h1>\n",
    "<h1 align=\"center\">Course: Tools and Techniques for Data Science</h1>\n",
    "\n",
    "---\n",
    "<h3><div align=\"right\">Instructor: Muhammad Arif Butt, Ph.D.</div></h3>    "
   ]
  },
  {
   "cell_type": "markdown",
   "id": "7e05a8a1",
   "metadata": {},
   "source": [
    "<h1 align=\"center\">Lecture 3.6</h1>"
   ]
  },
  {
   "cell_type": "markdown",
   "id": "2f6acdc3",
   "metadata": {},
   "source": [
    "# _06-StackingSplittingReshapingArrays.ipynb_\n",
    "#### [Click me to learn more about Numpy Library](https://www.w3schools.com/python/numpy/numpy_intro.asp)"
   ]
  },
  {
   "cell_type": "markdown",
   "id": "c10ce742",
   "metadata": {},
   "source": [
    "# Learning agenda of this notebook\n",
    "1. Concatenating NumPy Arrays\n",
    "1. Stacking NumPy Arrays\n",
    "2. Splitting NumPy Arrays\n",
    "3. Broadcasting NumPy Arrays\n",
    "4. Reshaping NumPy Arrays"
   ]
  },
  {
   "cell_type": "code",
   "execution_count": 41,
   "id": "932c9898",
   "metadata": {},
   "outputs": [],
   "source": [
    "# To install this library in Jupyter notebook\n",
    "#import sys\n",
    "#!{sys.executable} -m pip install numpy"
   ]
  },
  {
   "cell_type": "code",
   "execution_count": 42,
   "id": "98474a05",
   "metadata": {},
   "outputs": [
    {
     "data": {
      "text/plain": [
       "('1.19.5',\n",
       " ['/Library/Frameworks/Python.framework/Versions/3.8/lib/python3.8/site-packages/numpy'])"
      ]
     },
     "execution_count": 42,
     "metadata": {},
     "output_type": "execute_result"
    }
   ],
   "source": [
    "import numpy as np\n",
    "np.__version__ , np.__path__"
   ]
  },
  {
   "cell_type": "markdown",
   "id": "cdc7a39b",
   "metadata": {},
   "source": [
    "## 1. Concatenating NumPy Arrays\n",
    "- The concatenate() function is for joining arrays\n",
    "```\n",
    "np.concatenate(a1, a2, a3, ..., axis=0)\n",
    "```\n",
    "- A new array is allocated and filled and returned.\n",
    "- The original arrays remains as such, as it does not occur in-place.\n"
   ]
  },
  {
   "cell_type": "code",
   "execution_count": 43,
   "id": "328b234a",
   "metadata": {},
   "outputs": [
    {
     "name": "stdout",
     "output_type": "stream",
     "text": [
      "arr1 =  [80 16 88 32 10]\n",
      "arr2 =  [49 63 71 13 49]\n",
      "\n",
      "np.concatenate((arr1,arr2)) =  [80 16 88 32 10 49 63 71 13 49]\n"
     ]
    }
   ],
   "source": [
    "# Example: Concatenating two 1-D arrays\n",
    "import numpy as np\n",
    "arr1 = np.random.randint(low = 1, high = 100, size = 5)\n",
    "arr2 = np.random.randint(low = 1, high = 100, size = 5)\n",
    "print(\"arr1 = \", arr1)\n",
    "print(\"arr2 = \", arr2)\n",
    "\n",
    "arr3 = np.concatenate((arr1, arr2))\n",
    "print(\"\\nnp.concatenate((arr1,arr2)) = \", arr3)"
   ]
  },
  {
   "cell_type": "code",
   "execution_count": 51,
   "id": "86f79a6f",
   "metadata": {},
   "outputs": [
    {
     "name": "stdout",
     "output_type": "stream",
     "text": [
      "arr1 = \n",
      " [[7 5]\n",
      " [5 2]]\n",
      "arr2 = \n",
      " [[7 6]\n",
      " [5 8]\n",
      " [3 1]]\n",
      "\n",
      "np.concatenate((arr1,arr2)) = \n",
      " [[7 5]\n",
      " [5 2]\n",
      " [7 6]\n",
      " [5 8]\n",
      " [3 1]]\n"
     ]
    }
   ],
   "source": [
    "# Example: Concatenating two 2-D arrays along axis=0, i.e., vertically. The number of columns of two arrays must match\n",
    "arr1 = np.random.randint(low = 1, high = 10, size = (2,2))\n",
    "arr2 = np.random.randint(low = 1, high = 10, size = (3,2))\n",
    "print(\"arr1 = \\n\", arr1)\n",
    "print(\"arr2 = \\n\", arr2)\n",
    "\n",
    "# joining arrays using concatenate function\n",
    "arr3 = np.concatenate((arr1, arr2), axis=0)\n",
    "print(\"\\nnp.concatenate((arr1,arr2)) = \\n\", arr3)"
   ]
  },
  {
   "cell_type": "code",
   "execution_count": 49,
   "id": "b2096ab9",
   "metadata": {},
   "outputs": [
    {
     "name": "stdout",
     "output_type": "stream",
     "text": [
      "arr1 = \n",
      " [[9 7]\n",
      " [4 9]]\n",
      "arr2 = \n",
      " [[7 1 3]\n",
      " [6 9 5]]\n",
      "\n",
      "np.concatenate((arr1,arr2)) = \n",
      " [[9 7 7 1 3]\n",
      " [4 9 6 9 5]]\n"
     ]
    }
   ],
   "source": [
    "#Example: Concatenating two 2-D arrays along axis=1, i.e., horizontally. The number of rows of two arrays must match\n",
    "arr1 = np.random.randint(low = 1, high = 10, size = (2,2))\n",
    "arr2 = np.random.randint(low = 1, high = 10, size = (2,3))\n",
    "print(\"arr1 = \\n\", arr1)\n",
    "print(\"arr2 = \\n\", arr2)\n",
    "\n",
    "# joining arrays using concatenate function\n",
    "arr3 = np.concatenate((arr1, arr2), axis=1)\n",
    "print(\"\\nnp.concatenate((arr1,arr2)) = \\n\", arr3)"
   ]
  },
  {
   "cell_type": "markdown",
   "id": "9ad0ca2a",
   "metadata": {},
   "source": [
    "## 2. Stacking NumPy Arrays\n",
    "- Stacking is also the concept of joining arrays in NumPy. \n",
    "- **Concatenating joins a sequence of arrays along an existing axis, and stacking joins a sequence of arrays along existing as well as along a new axis**\n",
    "- Arrays having the same dimensions can be stacked.\n",
    "- We can perform stacking along three dimensions:\n",
    "    - vstack() : it performs vertical stacking along the rows.\n",
    "    - hstack() : it performs horizontal stacking along with the columns.\n",
    "    - dstack() : it performs in-depth stacking along a new third axis."
   ]
  },
  {
   "cell_type": "markdown",
   "id": "6b791ea8",
   "metadata": {},
   "source": [
    "### a. Using np.vstack() for Row-Wise Concatenation\n",
    "- The vstack() function is used to sequentially stack arrays in a vertical order i.e. along the rows.\n",
    "- The number of columns of two arrays must match"
   ]
  },
  {
   "cell_type": "code",
   "execution_count": 52,
   "id": "0a1ba250",
   "metadata": {},
   "outputs": [
    {
     "name": "stdout",
     "output_type": "stream",
     "text": [
      "arr1 =  [2 3 7 8]\n",
      "arr2 =  [5 8 4 5]\n",
      "\n",
      " np.vstack((arr1, arr2)):\n",
      "  [[2 3 7 8]\n",
      " [5 8 4 5]]\n"
     ]
    }
   ],
   "source": [
    "# Example: Perform vertical stacking of two 1-D Arrays.\n",
    "# Since two 1-D arrays have only one column, so no issue\n",
    "import numpy as np\n",
    "arr1 = np.random.randint(low = 1, high = 10, size = 4)\n",
    "arr2 = np.random.randint(low = 1, high = 10, size = 4)\n",
    "print(\"arr1 = \", arr1)\n",
    "print(\"arr2 = \", arr2)\n",
    "  \n",
    "arr3 = np.vstack((arr1, arr2))\n",
    "print (\"\\n np.vstack((arr1, arr2)):\\n \", arr3)"
   ]
  },
  {
   "cell_type": "code",
   "execution_count": 53,
   "id": "dd21992c",
   "metadata": {},
   "outputs": [
    {
     "name": "stdout",
     "output_type": "stream",
     "text": [
      "arr1 = \n",
      " [[6 4 8]\n",
      " [2 1 3]]\n",
      "arr2 = \n",
      " [[8 8 8]\n",
      " [1 6 1]\n",
      " [1 2 6]]\n",
      "\n",
      " np.vstack((arr1, arr2)):\n",
      "  [[6 4 8]\n",
      " [2 1 3]\n",
      " [8 8 8]\n",
      " [1 6 1]\n",
      " [1 2 6]]\n"
     ]
    }
   ],
   "source": [
    "# Example: Perform vertical stacking of two 2-D Arrays. The number of columns of two arrays must match\n",
    "import numpy as np\n",
    "arr1 = np.random.randint(low = 1, high = 10, size = (2,3))\n",
    "arr2 = np.random.randint(low = 1, high = 10, size = (3,3))\n",
    "print(\"arr1 = \\n\", arr1)\n",
    "print(\"arr2 = \\n\", arr2)\n",
    "\n",
    "arr3 = np.vstack((arr1, arr2))\n",
    "print (\"\\n np.vstack((arr1, arr2)):\\n \", arr3)"
   ]
  },
  {
   "cell_type": "markdown",
   "id": "2e1e3875",
   "metadata": {},
   "source": [
    "### b. Using np.hstack() for Column-Wise Concatenation\n",
    "<img align=\"right\" width=\"200\" height=\"70\"  src=\"images/hstack.png\" > \n",
    "\n",
    "- The hstack() function is used to sequentially stack arrays in a horizontal order i.e. along the columns.\n",
    "- The number of rows of two arrays must match"
   ]
  },
  {
   "cell_type": "code",
   "execution_count": 35,
   "id": "bac46141",
   "metadata": {},
   "outputs": [
    {
     "name": "stdout",
     "output_type": "stream",
     "text": [
      "arr1 =  [2 3 9 9]\n",
      "arr2 =  [9 1 1 3]\n",
      "\n",
      " np.hstack((arr1, arr2)):\n",
      "  [2 3 9 9 9 1 1 3]\n"
     ]
    }
   ],
   "source": [
    "# Example: Perform horizontal stacking of two 1-D Arrays. \n",
    "import numpy as np\n",
    "arr1 = np.random.randint(low = 1, high = 10, size = 4)\n",
    "arr2 = np.random.randint(low = 1, high = 10, size = 4)\n",
    "print(\"arr1 = \", arr1)\n",
    "print(\"arr2 = \", arr2)\n",
    "  \n",
    "arr3 = np.hstack((arr1, arr2))\n",
    "print (\"\\n np.hstack((arr1, arr2)):\\n \", arr3)"
   ]
  },
  {
   "cell_type": "code",
   "execution_count": 56,
   "id": "1b6fce65",
   "metadata": {},
   "outputs": [
    {
     "name": "stdout",
     "output_type": "stream",
     "text": [
      "arr1 = \n",
      " [[8 9]\n",
      " [4 5]]\n",
      "arr2 = \n",
      " [[1 5 9]\n",
      " [8 6 6]]\n",
      "\n",
      " np.vstack((arr1, arr2)):\n",
      "  [[8 9 1 5 9]\n",
      " [4 5 8 6 6]]\n"
     ]
    }
   ],
   "source": [
    "# Example: Perform horizontal stackding of two 2-D Arrays. The number of rows of two arrays must match\n",
    "import numpy as np\n",
    "arr1 = np.random.randint(low = 1, high = 10, size = (2,2))\n",
    "arr2 = np.random.randint(low = 1, high = 10, size = (2,3))\n",
    "print(\"arr1 = \\n\", arr1)\n",
    "print(\"arr2 = \\n\", arr2)\n",
    "\n",
    "arr3 = np.hstack((arr1, arr2))\n",
    "print (\"\\n np.hstack((arr1, arr2)):\\n \", arr3)"
   ]
  },
  {
   "cell_type": "markdown",
   "id": "078b40c1",
   "metadata": {},
   "source": [
    "### c. Using np.dstack()\n",
    "<img align=\"right\" width=\"100\" height=\"50\"  src=\"images/dstack.png\" > \n",
    "\n",
    "- This np.dstack() is used to stack arrays in sequence depth wise (along third axis).\n",
    "- It returns the array formed by stacking the given arrays, will be at least 3-D.\n",
    "- The arrays must have the same shape along all but the third axis. 1-D or 2-D arrays must have the same shape.\n",
    "- This function makes most sense for arrays with up to 3 dimensions. For instance, for pixel-data with a height (first axis), width (second axis), and r/g/b channels (third axis)."
   ]
  },
  {
   "cell_type": "code",
   "execution_count": 65,
   "id": "36d7c062",
   "metadata": {},
   "outputs": [
    {
     "name": "stdout",
     "output_type": "stream",
     "text": [
      "arr1 =  [7 4 7]\n",
      "arr2 =  [1 2 1]\n",
      "\n",
      " np.dstack((arr1, arr2)):\n",
      "  [[[7 1]\n",
      "  [4 2]\n",
      "  [7 1]]]\n"
     ]
    }
   ],
   "source": [
    "# Example: Perform depth stacking of two 1-D Arrays. The size/shape of the two arrays must be same.\n",
    "import numpy as np\n",
    "arr1 = np.random.randint(low = 1, high = 10, size = 3)\n",
    "arr2 = np.random.randint(low = 1, high = 10, size = 3)\n",
    "print(\"arr1 = \", arr1)\n",
    "print(\"arr2 = \", arr2)\n",
    "  \n",
    "# perform depth stacking\n",
    "# Stack arr_2 under arr_1 in depth\n",
    "arr3 = np.dstack((arr1, arr2))\n",
    "print (\"\\n np.dstack((arr1, arr2)):\\n \", arr3)"
   ]
  },
  {
   "cell_type": "code",
   "execution_count": 66,
   "id": "cccd580b",
   "metadata": {},
   "outputs": [
    {
     "name": "stdout",
     "output_type": "stream",
     "text": [
      "arr1 = \n",
      " [[9 7 7]\n",
      " [3 1 7]]\n",
      "arr2 = \n",
      " [[9 2 4]\n",
      " [6 8 4]]\n",
      "\n",
      " np.dstack((arr1, arr2)):\n",
      "  [[[9 9]\n",
      "  [7 2]\n",
      "  [7 4]]\n",
      "\n",
      " [[3 6]\n",
      "  [1 8]\n",
      "  [7 4]]]\n"
     ]
    }
   ],
   "source": [
    "# Example: Perform depth stackding of two 2-D Arrays. The size/shape of the two arrays must be same.\n",
    "import numpy as np\n",
    "arr1 = np.random.randint(low = 1, high = 10, size = (2,3))\n",
    "arr2 = np.random.randint(low = 1, high = 10, size = (2,3))\n",
    "print(\"arr1 = \\n\", arr1)\n",
    "print(\"arr2 = \\n\", arr2)\n",
    "\n",
    "# perform depth stacking\n",
    "# Stack arr_2 under arr_1 in depth\n",
    "arr3 = np.dstack((arr1, arr2))\n",
    "print (\"\\n np.dstack((arr1, arr2)):\\n \", arr3)"
   ]
  },
  {
   "cell_type": "markdown",
   "id": "538597f0",
   "metadata": {},
   "source": [
    "### d. Using np.stack()\n",
    "- numpy.stack() function is used to join a sequence of same dimension arrays along a new axis.\n",
    "- The axis parameter specifies the index of the new axis in the dimensions of the result. \n",
    "- For example, if axis=0 it will be the first dimension and if axis=-1 it will be the last dimension.\n",
    "```\n",
    "np.stack(a1, a2, a3, ..., axis=0)\n",
    "```\n",
    "\n",
    "**Concatenating joins a sequence of tensors along an existing axis, and stacking joins a sequence of tensors along a new axis**"
   ]
  },
  {
   "cell_type": "markdown",
   "id": "bf7c1a4c",
   "metadata": {},
   "source": [
    "#### - 1-D array"
   ]
  },
  {
   "cell_type": "code",
   "execution_count": 40,
   "id": "d41eb42c",
   "metadata": {},
   "outputs": [
    {
     "name": "stdout",
     "output_type": "stream",
     "text": [
      "arr1 =  [5 9 1 6]\n",
      "arr2 =  [6 9 2 3]\n",
      "\n",
      " np.stack((arr1, arr2), axis=0):\n",
      "  [[5 9 1 6]\n",
      " [6 9 2 3]]\n",
      "\n",
      " np.stack((arr1, arr2), axis=1):\n",
      "  [[5 6]\n",
      " [9 9]\n",
      " [1 2]\n",
      " [6 3]]\n"
     ]
    }
   ],
   "source": [
    "import numpy as np\n",
    "arr1 = np.random.randint(low = 1, high = 10, size = 4)\n",
    "arr2 = np.random.randint(low = 1, high = 10, size = 4)\n",
    "print(\"arr1 = \", arr1)\n",
    "print(\"arr2 = \", arr2)\n",
    "  \n",
    "# Stacking the two arrays along axis 0\n",
    "arr3 = np.stack((arr1, arr2), axis = 0)\n",
    "print (\"\\n np.stack((arr1, arr2), axis=0):\\n \", arr3)\n",
    "  \n",
    "# Stacking the two arrays along axis 1\n",
    "arr4 = np.stack((arr1, arr2), axis = 1)\n",
    "print (\"\\n np.stack((arr1, arr2), axis=1):\\n \", arr4)"
   ]
  },
  {
   "cell_type": "markdown",
   "id": "ec563ebb",
   "metadata": {},
   "source": [
    "#### - 2-D array"
   ]
  },
  {
   "cell_type": "code",
   "execution_count": 31,
   "id": "75d2beb7",
   "metadata": {},
   "outputs": [
    {
     "name": "stdout",
     "output_type": "stream",
     "text": [
      "arr1 = \n",
      " [[9 6 7]\n",
      " [9 9 8]]\n",
      "arr2 = \n",
      " [[4 2 7]\n",
      " [1 3 6]]\n",
      "\n",
      " np.stack((arr1, arr2), axis=0): \n",
      " [[[9 6 7]\n",
      "  [9 9 8]]\n",
      "\n",
      " [[4 2 7]\n",
      "  [1 3 6]]]\n",
      "\n",
      " np.stack((arr1, arr2), axis=1):\n",
      "  [[[9 6 7]\n",
      "  [4 2 7]]\n",
      "\n",
      " [[9 9 8]\n",
      "  [1 3 6]]]\n",
      "\n",
      " np.stack((arr1, arr2), axis=-1):\n",
      "  [[[9 4]\n",
      "  [6 2]\n",
      "  [7 7]]\n",
      "\n",
      " [[9 1]\n",
      "  [9 3]\n",
      "  [8 6]]]\n"
     ]
    }
   ],
   "source": [
    "import numpy as np\n",
    "arr1 = np.random.randint(low = 1, high = 10, size = (2,3))\n",
    "arr2 = np.random.randint(low = 1, high = 10, size = (2,3))\n",
    "print(\"arr1 = \\n\", arr1)\n",
    "print(\"arr2 = \\n\", arr2)\n",
    "\n",
    "# Stacking the two arrays along axis 0\n",
    "arr3 = np.stack((arr1, arr2), axis = 0)\n",
    "print (\"\\n np.stack((arr1, arr2), axis=0): \\n\", arr3)\n",
    "  \n",
    "# Stacking the two arrays along axis 1\n",
    "arr4 = np.stack((arr1, arr2), axis = 1)\n",
    "print (\"\\n np.stack((arr1, arr2), axis=1):\\n \", arr4)\n",
    "\n",
    "# Stacking the two arrays along last axis\n",
    "arr5 = np.stack((arr1, arr2), axis = -1)\n",
    "print (\"\\n np.stack((arr1, arr2), axis=-1):\\n \", arr5)"
   ]
  },
  {
   "cell_type": "code",
   "execution_count": null,
   "id": "8bc1301b",
   "metadata": {},
   "outputs": [],
   "source": []
  },
  {
   "cell_type": "code",
   "execution_count": null,
   "id": "0cf6f20b",
   "metadata": {},
   "outputs": [],
   "source": []
  },
  {
   "cell_type": "markdown",
   "id": "3bb7e22c",
   "metadata": {},
   "source": [
    "## 3. Splitting NumPy Arrays\n",
    "- Splitting is reverse operation of Joining.\n",
    "- Joining merges multiple arrays into one and Splitting breaks one array into multiple. Similar to stack, vstack, hstack, and dstack, in splitting, split, vsplit, hsplit and dsplit methods are also available in python.\n",
    "\n",
    "- We can perform stacking along three dimensions:\n",
    "\n",
    "    - hsplit : Split array into multiple sub-arrays horizontally (column wise).\n",
    "    - vsplit : Split array into multiple sub-arrays vertically (row wise).\n",
    "    - dsplit : Split array into multiple sub-arrays along the 3rd axis (depth).\n",
    "    - split : Split array into a list of multiple sub-arrays of equal size.\n"
   ]
  },
  {
   "cell_type": "markdown",
   "id": "968822fb",
   "metadata": {},
   "source": [
    "### split method\n",
    "numpy.split method splits an array into multiple sub-arrays as views into ary.\n",
    "\n",
    "**Parameters**\n",
    "- arr: Array to be divided into sub-arrays.\n",
    "- indices_or_sections: is an integer, N, the array will be divided into N equal arrays along axis. If such a split is not possible, an error is raised.\n",
    "- axis: The axis along which to split, default is 0."
   ]
  },
  {
   "cell_type": "code",
   "execution_count": null,
   "id": "93d40d2b",
   "metadata": {},
   "outputs": [],
   "source": [
    "# create an array of float type\n",
    "arr1 = np.arange(9.0)\n",
    "# print array\n",
    "print(\"arr1:\\n\",arr1)\n",
    "\n",
    "# split array into 3 subarrays using split method\n",
    "print(\"\\nSub-arrays: \\n\", np.split(arr1, 3))"
   ]
  },
  {
   "cell_type": "markdown",
   "id": "6fe57a59",
   "metadata": {},
   "source": [
    "### vsplit method\n",
    "The vsplit() function is used to split an array into multiple sub-arrays vertically (row-wise).\n",
    "\n",
    "Note: vsplit is equivalent to split with axis=0 (default), the array is always split along the first axis regardless of the array dimension"
   ]
  },
  {
   "cell_type": "code",
   "execution_count": 2,
   "id": "b4f3ba75",
   "metadata": {},
   "outputs": [
    {
     "name": "stdout",
     "output_type": "stream",
     "text": [
      "arr2:\n",
      " [[ 0.  1.  2.  3.  4.]\n",
      " [ 5.  6.  7.  8.  9.]\n",
      " [10. 11. 12. 13. 14.]\n",
      " [15. 16. 17. 18. 19.]]\n",
      "\n",
      "Sub-arrays: \n",
      " [array([[0., 1., 2., 3., 4.],\n",
      "       [5., 6., 7., 8., 9.]]), array([[10., 11., 12., 13., 14.],\n",
      "       [15., 16., 17., 18., 19.]])]\n"
     ]
    }
   ],
   "source": [
    "import numpy as np\n",
    "# create an array of float type with 4 rows and 5 columns\n",
    "arr2 = np.arange(20.0).reshape(4,5)\n",
    "# print array\n",
    "print(\"arr2:\\n\",arr2)\n",
    "\n",
    "# vertically split array into 2 subarrays\n",
    "print(\"\\nSub-arrays: \\n\", np.vsplit(arr2, 2))\n"
   ]
  },
  {
   "cell_type": "markdown",
   "id": "0a688f2a",
   "metadata": {},
   "source": [
    "### hsplit method\n",
    "The hsplit() function is used to split an array into multiple sub-arrays horizontally (column-wise).\n",
    "hsplit is equivalent to split with axis=1, the array is always split along the second axis regardless of the array dimension."
   ]
  },
  {
   "cell_type": "code",
   "execution_count": null,
   "id": "d9baa401",
   "metadata": {},
   "outputs": [],
   "source": [
    "# create an array of float type with 4 rows and 5 columns\n",
    "arr3 = np.arange(16.0).reshape(4,4)\n",
    "# print array\n",
    "print(\"arr3:\\n\",arr3)\n",
    "\n",
    "# horizontally split array into 2 subarrays\n",
    "print(\"\\nSub-arrays: \\n\", np.hsplit(arr3, 2))"
   ]
  },
  {
   "cell_type": "markdown",
   "id": "68b59b7a",
   "metadata": {},
   "source": [
    "### dsplit method\n",
    "Split array into multiple sub-arrays along the 3rd axis (depth). dsplit only works on arrays of 3 or more dimensions"
   ]
  },
  {
   "cell_type": "code",
   "execution_count": null,
   "id": "e0719a79",
   "metadata": {},
   "outputs": [],
   "source": [
    "# create an array of float type with 4 rows and 5 columns\n",
    "arr4 = np.arange(16.0).reshape(2, 2, 4)\n",
    "# print array\n",
    "print(\"arr4:\\n\",arr4)\n",
    "\n",
    "# dsplit array into 2 subarrays\n",
    "print(\"\\nSub-arrays: \\n\", np.dsplit(arr4, 2))"
   ]
  },
  {
   "cell_type": "markdown",
   "id": "c3ea9ffe",
   "metadata": {},
   "source": [
    "## 4. Broadcasting Arrays\n",
    "- The term broadcasting describes how numpy treats arrays with different shapes during arithmetic operations. \n",
    "- Numpy arrays also support **broadcasting**, allowing arithmetic operations between two arrays with different numbers of dimensions but compatible shapes. \n",
    "- When operating on two arrays, NumPy compares their shapes element-wise. It starts with the trailing (i.e. rightmost) dimensions and works its way left. Two dimensions are compatible when\n",
    "    - they are equal, or\n",
    "    - one of them is 1\n",
    "- Let's look at an example to see how it works."
   ]
  },
  {
   "cell_type": "markdown",
   "id": "6a0b96e6",
   "metadata": {},
   "source": [
    "#### a. Example 1: Broadcasting Numpy Arrays"
   ]
  },
  {
   "cell_type": "code",
   "execution_count": 22,
   "id": "190a7d24",
   "metadata": {},
   "outputs": [
    {
     "name": "stdout",
     "output_type": "stream",
     "text": [
      "arr1 = \n",
      " [[1 2 3 4]\n",
      " [5 6 7 8]\n",
      " [9 1 2 3]]\n",
      "\n",
      "arr2 = \n",
      " [[11 12 13 14]\n",
      " [15 16 17 18]\n",
      " [19 11 12 13]]\n"
     ]
    }
   ],
   "source": [
    "# Example: 1\n",
    "# The simplest broadcasting example occurs, when an array and a scalar value are combined in an operation:\n",
    "# Numpy arrays support arithmetic operators like `+`, `-`, `*`, etc. \n",
    "# You can perform an arithmetic operation with a scalar or with another array of the same shape. \n",
    "# Operators make it easy to write mathematical expressions with multi-dimensional arrays.\n",
    "\n",
    "import numpy as np\n",
    "\n",
    "arr1 = np.array([[1, 2, 3, 4], \n",
    "                 [5, 6, 7, 8], \n",
    "                 [9, 1, 2, 3]])\n",
    "arr2 = np.array([[11, 12, 13, 14], \n",
    "                 [15, 16, 17, 18], \n",
    "                 [19, 11, 12, 13]])\n",
    "print (\"arr1 = \\n\", arr1)\n",
    "print (\"\\narr2 = \\n\", arr2)\n"
   ]
  },
  {
   "cell_type": "code",
   "execution_count": 29,
   "id": "cdd88a9b",
   "metadata": {},
   "outputs": [
    {
     "name": "stdout",
     "output_type": "stream",
     "text": [
      "arr1 = \n",
      " [[1 2 3 4]\n",
      " [5 6 7 8]\n",
      " [9 1 2 3]]\n",
      "arr1 + 3 = \n",
      " [[ 4  5  6  7]\n",
      " [ 8  9 10 11]\n",
      " [12  4  5  6]]\n"
     ]
    }
   ],
   "source": [
    "# Adding a scalar\n",
    "print (\"arr1 = \\n\", arr1)\n",
    "print (\"arr1 + 3 = \\n\", arr1 + 3)"
   ]
  },
  {
   "cell_type": "code",
   "execution_count": 30,
   "id": "b3b77e5f",
   "metadata": {},
   "outputs": [
    {
     "name": "stdout",
     "output_type": "stream",
     "text": [
      "arr1 = \n",
      " [[1 2 3 4]\n",
      " [5 6 7 8]\n",
      " [9 1 2 3]]\n",
      "arr1 / 2 = \n",
      " [[0.5 1.  1.5 2. ]\n",
      " [2.5 3.  3.5 4. ]\n",
      " [4.5 0.5 1.  1.5]]\n"
     ]
    },
    {
     "data": {
      "text/plain": [
       "array([[0.5, 1. , 1.5, 2. ],\n",
       "       [2.5, 3. , 3.5, 4. ],\n",
       "       [4.5, 0.5, 1. , 1.5]])"
      ]
     },
     "execution_count": 30,
     "metadata": {},
     "output_type": "execute_result"
    }
   ],
   "source": [
    "# Division by scalar\n",
    "print (\"arr1 = \\n\", arr1)\n",
    "print (\"arr1 / 2 = \\n\", arr1 / 2)\n",
    "arr1 / 2"
   ]
  },
  {
   "cell_type": "code",
   "execution_count": 32,
   "id": "b9f451fa",
   "metadata": {},
   "outputs": [
    {
     "name": "stdout",
     "output_type": "stream",
     "text": [
      "arr1 = \n",
      " [[1 2 3 4]\n",
      " [5 6 7 8]\n",
      " [9 1 2 3]]\n",
      "arr1 % 4 = \n",
      " [[1 2 3 0]\n",
      " [1 2 3 0]\n",
      " [1 1 2 3]]\n"
     ]
    }
   ],
   "source": [
    "# Modulus with scalar\n",
    "print (\"arr1 = \\n\", arr1)\n",
    "print (\"arr1 % 4 = \\n\", arr1 % 4)"
   ]
  },
  {
   "cell_type": "code",
   "execution_count": 33,
   "id": "b0157062",
   "metadata": {},
   "outputs": [
    {
     "name": "stdout",
     "output_type": "stream",
     "text": [
      "arr1 = \n",
      " [[1 2 3 4]\n",
      " [5 6 7 8]\n",
      " [9 1 2 3]]\n",
      "arr2 = \n",
      " [[11 12 13 14]\n",
      " [15 16 17 18]\n",
      " [19 11 12 13]]\n",
      "arr1 - arr2 = \n",
      " [[-10 -10 -10 -10]\n",
      " [-10 -10 -10 -10]\n",
      " [-10 -10 -10 -10]]\n"
     ]
    }
   ],
   "source": [
    "# Element-wise subtraction\n",
    "print (\"arr1 = \\n\", arr1)\n",
    "print (\"arr2 = \\n\", arr2)\n",
    "print (\"arr1 - arr2 = \\n\", arr1 - arr2)"
   ]
  },
  {
   "cell_type": "code",
   "execution_count": 34,
   "id": "73520c0b",
   "metadata": {},
   "outputs": [
    {
     "name": "stdout",
     "output_type": "stream",
     "text": [
      "arr1 = \n",
      " [[1 2 3 4]\n",
      " [5 6 7 8]\n",
      " [9 1 2 3]]\n",
      "arr2 = \n",
      " [[11 12 13 14]\n",
      " [15 16 17 18]\n",
      " [19 11 12 13]]\n",
      "arr1 * arr2 = \n",
      " [[ 11  24  39  56]\n",
      " [ 75  96 119 144]\n",
      " [171  11  24  39]]\n"
     ]
    }
   ],
   "source": [
    "# Element-wise multiplication\n",
    "print (\"arr1 = \\n\", arr1)\n",
    "print (\"arr2 = \\n\", arr2)\n",
    "print (\"arr1 * arr2 = \\n\", arr1 * arr2)"
   ]
  },
  {
   "cell_type": "code",
   "execution_count": null,
   "id": "8fd45fc3",
   "metadata": {},
   "outputs": [],
   "source": []
  },
  {
   "cell_type": "markdown",
   "id": "d824b817",
   "metadata": {},
   "source": [
    "#### b. Example 2: Broadcasting Numpy Arrays\n",
    "- "
   ]
  },
  {
   "cell_type": "code",
   "execution_count": 35,
   "id": "2a2c4e50",
   "metadata": {},
   "outputs": [
    {
     "data": {
      "text/plain": [
       "(array([[1, 2, 3, 4],\n",
       "        [5, 6, 7, 8],\n",
       "        [9, 1, 2, 3]]),\n",
       " (3, 4))"
      ]
     },
     "execution_count": 35,
     "metadata": {},
     "output_type": "execute_result"
    }
   ],
   "source": [
    "import numpy as np\n",
    "arr1 = np.array([[1, 2, 3, 4], \n",
    "                 [5, 6, 7, 8], \n",
    "                 [9, 1, 2, 3]])\n",
    "arr1, arr1.shape"
   ]
  },
  {
   "cell_type": "code",
   "execution_count": 37,
   "id": "44d6234d",
   "metadata": {},
   "outputs": [
    {
     "data": {
      "text/plain": [
       "(array([4, 5, 6, 7]), (4,))"
      ]
     },
     "execution_count": 37,
     "metadata": {},
     "output_type": "execute_result"
    }
   ],
   "source": [
    "arr2 = np.array([4, 5, 6, 7])\n",
    "arr2 , arr2.shape\n"
   ]
  },
  {
   "cell_type": "code",
   "execution_count": 38,
   "id": "a6520188",
   "metadata": {},
   "outputs": [
    {
     "data": {
      "text/plain": [
       "array([[ 5,  7,  9, 11],\n",
       "       [ 9, 11, 13, 15],\n",
       "       [13,  6,  8, 10]])"
      ]
     },
     "execution_count": 38,
     "metadata": {},
     "output_type": "execute_result"
    }
   ],
   "source": [
    "arr1 + arr2"
   ]
  },
  {
   "cell_type": "markdown",
   "id": "6d31e56a",
   "metadata": {},
   "source": [
    "When the expression `arr1 + arr2` is evaluated, `arr2` (which has the shape `(4,)`) is replicated three times to match the shape `(3, 4)` of `arr1`. Numpy performs the replication without actually creating three copies of the smaller dimension array, thus improving performance and using lower memory.\n",
    "\n",
    "Broadcasting only works if one of the arrays can be replicated to match the other array's shape."
   ]
  },
  {
   "cell_type": "code",
   "execution_count": 41,
   "id": "d52b23e0",
   "metadata": {},
   "outputs": [],
   "source": [
    "arr3 = np.array([7, 8])"
   ]
  },
  {
   "cell_type": "code",
   "execution_count": 42,
   "id": "43dffb6a",
   "metadata": {},
   "outputs": [
    {
     "data": {
      "text/plain": [
       "(2,)"
      ]
     },
     "execution_count": 42,
     "metadata": {},
     "output_type": "execute_result"
    }
   ],
   "source": [
    "arr3.shape"
   ]
  },
  {
   "cell_type": "code",
   "execution_count": 43,
   "id": "644837b6",
   "metadata": {},
   "outputs": [
    {
     "ename": "ValueError",
     "evalue": "operands could not be broadcast together with shapes (3,4) (2,) ",
     "output_type": "error",
     "traceback": [
      "\u001b[0;31m---------------------------------------------------------------------------\u001b[0m",
      "\u001b[0;31mValueError\u001b[0m                                Traceback (most recent call last)",
      "\u001b[0;32m/var/folders/1t/g3ylw8h50cjdqmk5d6jh1qmm0000gn/T/ipykernel_5757/592755465.py\u001b[0m in \u001b[0;36m<module>\u001b[0;34m\u001b[0m\n\u001b[0;32m----> 1\u001b[0;31m \u001b[0marr1\u001b[0m \u001b[0;34m+\u001b[0m \u001b[0marr3\u001b[0m\u001b[0;34m\u001b[0m\u001b[0;34m\u001b[0m\u001b[0m\n\u001b[0m",
      "\u001b[0;31mValueError\u001b[0m: operands could not be broadcast together with shapes (3,4) (2,) "
     ]
    }
   ],
   "source": [
    "arr1 + arr3"
   ]
  },
  {
   "cell_type": "markdown",
   "id": "1c688f06",
   "metadata": {},
   "source": [
    "In the above example, even if `arr3` is replicated three times, it will not match the shape of `arr1`. Hence `arr1 + arr3` cannot be evaluated successfully. Learn more about broadcasting here: https://numpy.org/doc/stable/user/basics.broadcasting.html ."
   ]
  },
  {
   "cell_type": "code",
   "execution_count": null,
   "id": "9b56a671",
   "metadata": {},
   "outputs": [],
   "source": []
  },
  {
   "cell_type": "code",
   "execution_count": null,
   "id": "78a71a85",
   "metadata": {},
   "outputs": [],
   "source": []
  },
  {
   "cell_type": "code",
   "execution_count": null,
   "id": "e6c8cfb8",
   "metadata": {},
   "outputs": [],
   "source": []
  },
  {
   "cell_type": "code",
   "execution_count": null,
   "id": "16bdf057",
   "metadata": {},
   "outputs": [],
   "source": []
  },
  {
   "cell_type": "code",
   "execution_count": 44,
   "id": "6dfaf774",
   "metadata": {},
   "outputs": [
    {
     "name": "stdout",
     "output_type": "stream",
     "text": [
      "New array: \n",
      " [[ 0.]\n",
      " [10.]\n",
      " [20.]\n",
      " [30.]]\n",
      "\n",
      "Broadcast array: \n",
      " [[ 1.  2.  3.]\n",
      " [11. 12. 13.]\n",
      " [21. 22. 23.]\n",
      " [31. 32. 33.]]\n"
     ]
    }
   ],
   "source": [
    "# create array\n",
    "a = np.array([0.0, 10.0, 20.0, 30.0])\n",
    "b = np.array([1.0, 2.0, 3.0])\n",
    "\n",
    "# newaxis index operator inserts a new axis into a, making it a two-dimensional 4x1 array\n",
    "c = a[:, np.newaxis]\n",
    "print(\"New array: \\n\", c)\n",
    "\n",
    "\n",
    "# Combining the 4x1 array with b, which has shape (3,), yields a 4x3 array.\n",
    "c = c + b\n",
    "print(\"\\nBroadcast array: \\n\",c)"
   ]
  },
  {
   "cell_type": "markdown",
   "id": "7494392a",
   "metadata": {},
   "source": [
    "## 5. Reshaping Arrays\n",
    "- Reshaping numpy array simply means changing the shape of the given array, shape basically tells the number of elements and dimension of array, by reshaping an array we can add or remove dimensions or change number of elements in each dimension.\n",
    "- NumPy has two functions (and also methods) to change array shapes - reshape and resize. "
   ]
  },
  {
   "cell_type": "markdown",
   "id": "49b38500",
   "metadata": {},
   "source": [
    "### a. np.reshape()\n",
    "- The reshape() function takes the input array, then a tuple that defines the shape of the new array and returns the new array\n",
    "```\n",
    "np.reshape(arr, newshape)\n",
    "```\n",
    "- You can also use ```array.reshape(shape)```, which will also return new array"
   ]
  },
  {
   "cell_type": "code",
   "execution_count": 40,
   "id": "0e3c6adc",
   "metadata": {},
   "outputs": [
    {
     "name": "stdout",
     "output_type": "stream",
     "text": [
      "Original Array \n",
      " [1 2 3 4] \n",
      "Array Size:  (4,)\n",
      "\n",
      " np.reshape(arr, (2,2): \n",
      " [[1 2]\n",
      " [3 4]]\n",
      "\n",
      "Original Array \n",
      " [1 2 3 4] \n",
      "Array Size:  (4,)\n",
      "\n",
      " After making change in new array Original Array:  [99  2  3  4]\n"
     ]
    }
   ],
   "source": [
    "# Example: Reshaping from 1-D to 2-D\n",
    "import numpy as np\n",
    "arr = np.array([1, 2, 3, 4])\n",
    "print(\"Original Array \\n\", arr, \"\\nArray Size: \", arr.shape)\n",
    "\n",
    "# Changing the dimension of array using reshape function, converting 1-D array into 2-Dimentional array\n",
    "newarr = np.reshape(arr, (2, 2))\n",
    "print(\"\\n np.reshape(arr, (2,2): \\n\", newarr)\n",
    "\n",
    "# print the original array, which shows that shape of original array is not changed\n",
    "print(\"\\nOriginal Array \\n\", arr, \"\\nArray Size: \", arr.shape)\n",
    "\n",
    "\n",
    "# However, the converted array in reshape function or method shares the same memory of the original array. \n",
    "# You could think it as shallow copy in Python, where if you change the data in one array, \n",
    "# the corresponding data in the other array is also modified.\n",
    "\n",
    "# make change in new array\n",
    "newarr[0][0] = 99\n",
    "# print the original array, which shows that original array is not changed\n",
    "print(\"\\n After making change in new array Original Array: \", arr)"
   ]
  },
  {
   "cell_type": "code",
   "execution_count": 3,
   "id": "b6ae4c1f",
   "metadata": {},
   "outputs": [
    {
     "name": "stdout",
     "output_type": "stream",
     "text": [
      "Original Array \n",
      " [ 1  2  3  4  5  6  7  8  9 10 11 12] \n",
      "Array Size:  (12,)\n",
      "\n",
      " np.reshape(arr, (2,3, 2): \n",
      " [[[ 1  2]\n",
      "  [ 3  4]\n",
      "  [ 5  6]]\n",
      "\n",
      " [[ 7  8]\n",
      "  [ 9 10]\n",
      "  [11 12]]]\n",
      "\n",
      "Original Array \n",
      " [ 1  2  3  4  5  6  7  8  9 10 11 12] \n",
      "Array Size:  (12,)\n"
     ]
    }
   ],
   "source": [
    "# Example: Reshaping from 1-D to 3-D\n",
    "import numpy as np\n",
    "arr = np.array([1, 2, 3, 4, 5, 6, 7, 8, 9, 10, 11, 12])\n",
    "print(\"Original Array \\n\", arr, \"\\nArray Size: \", arr.shape)\n",
    "newarr = np.reshape(arr, (2, 3, 2))\n",
    "# Changing the dimension of array using reshape function, converting 1-D array into 2-Dimentional array\n",
    "print(\"\\n np.reshape(arr, (2,3, 2): \\n\", newarr)\n",
    "\n",
    "# print the original array, which shows that original array is not changed\n",
    "print(\"\\nOriginal Array \\n\", arr, \"\\nArray Size: \", arr.shape)"
   ]
  },
  {
   "cell_type": "code",
   "execution_count": 20,
   "id": "ae8a7890",
   "metadata": {},
   "outputs": [
    {
     "name": "stdout",
     "output_type": "stream",
     "text": [
      "Original Array \n",
      " [[ 1  2  3]\n",
      " [ 6  7  8]\n",
      " [ 4  5  6]\n",
      " [11 14 10]] \n",
      "Array Size:  (4, 3)\n",
      "\n",
      " Print the Reshaped Array \n",
      " [ 1  2  3  6  7  8  4  5  6 11 14 10]\n"
     ]
    }
   ],
   "source": [
    "# Example: Flattening Arrays. Reshaping an N-Dimension array with unknown dimension into 1-D \n",
    "# You can convert an array of an unknown dimension to a 1D array using reshape(-1) \n",
    "\n",
    "arr = np.array([[1, 2, 3], [6, 7, 8], [4, 5, 6], [11, 14, 10]])\n",
    "\n",
    "# print array and its shape\n",
    "print(\"Original Array \\n\", arr, \"\\nArray Size: \", arr.shape)\n",
    "\n",
    "# Reshape array into 1-D array\n",
    "newarr = np.reshape(arr, (-1))\n",
    "print(\"\\n Print the Reshaped Array \\n\", newarr)"
   ]
  },
  {
   "cell_type": "code",
   "execution_count": 18,
   "id": "87a7f813",
   "metadata": {},
   "outputs": [
    {
     "name": "stdout",
     "output_type": "stream",
     "text": [
      "[[1 2 3 4]\n",
      " [5 6 7 8]]\n"
     ]
    }
   ],
   "source": [
    "# Can We Reshape Into any Shape?\n",
    "# Yes, as long as the elements required for reshaping are equal in both shapes.\n",
    "# We can reshape an 8 elements 1D array into 4 elements in 2 rows 2D array \n",
    "# but we cannot reshape it into a 3 elements 3 rows 2D array as that would require 3x3 = 9 elements. \n",
    "\n",
    "import numpy as np\n",
    "arr = np.array([1, 2, 3, 4, 5, 6, 7, 8])\n",
    "newarr = np.reshape(arr, (3, 3))\n",
    "#newarr = np.reshape(arr, (2, 4))\n",
    "print(newarr)"
   ]
  },
  {
   "cell_type": "code",
   "execution_count": 35,
   "id": "9c9b67fb",
   "metadata": {},
   "outputs": [
    {
     "name": "stdout",
     "output_type": "stream",
     "text": [
      "\n",
      "Original Array \n",
      " [[ 1  2  3]\n",
      " [ 6  7  8]\n",
      " [ 4  5  9]\n",
      " [10 11 13]]\n",
      "\n",
      "Reshaped Array \n",
      " [[ 1  2  3  6  7  8]\n",
      " [ 4  5  9 10 11 13]]\n",
      "\n",
      "Converted to original Array again\n",
      " [[ 1  2  3]\n",
      " [ 6  7  8]\n",
      " [ 4  5  9]\n",
      " [10 11 13]]\n"
     ]
    }
   ],
   "source": [
    "# Example: Reshaping an array back to its original dimensions\n",
    "# If you applied the reshape() method to an array and you want to get the original shape of the array back\n",
    "# you can call the reshape function on that array again\n",
    "\n",
    "arr = np.array([[1, 2, 3], [6, 7, 8], [4, 5, 9], [10, 11, 13]])\n",
    "\n",
    "# print array and its shape\n",
    "print(\"\\nOriginal Array \\n\", arr)\n",
    "\n",
    "# Reshape array\n",
    "newarr1 = np.reshape(arr, (2,6))\n",
    "# print array and its shape\n",
    "print(\"\\nReshaped Array \\n\", newarr1)\n",
    "\n",
    "# covert the array into original shape again\n",
    "newarr2 = np.reshape(newarr1, (arr.shape))\n",
    "\n",
    "print(\"\\nConverted to original Array again\\n\",newarr2)"
   ]
  },
  {
   "cell_type": "markdown",
   "id": "8b2e1617",
   "metadata": {},
   "source": [
    "### b.  np.resize()\n",
    "- Both reshape and resize change the shape of the numpy array; the difference is that using resize will affect the original array while using reshape create a new reshaped instance of the array (resize is called in-place operation)\n",
    "- numpy.resize() is a bit similar to reshape in the sense of shape conversion, with two significant differences.\n",
    "\n",
    "    - It doesn’t have order parameter. The order of resize is the same as order='C' in reshape.\n",
    "    - If the number of elements of target array is not the same as original array, it will force to resize but not raise errors.\n",
    "\n",
    "```\n",
    "np.resize(arr, newshape)\n",
    "```\n",
    "- You can also use ```array.resize(shape)```\n",
    "- If the new array is larger than the original array, then the new array is filled with repeated copies of `a`.  Note that this behavior is different from a.resize(new_shape) which fills with zeros instead of repeated copies of `a`."
   ]
  },
  {
   "cell_type": "code",
   "execution_count": 43,
   "id": "1ed0a8d6",
   "metadata": {},
   "outputs": [
    {
     "name": "stdout",
     "output_type": "stream",
     "text": [
      "Original Array \n",
      " [1 2 3 4] \n",
      "Array Size:  (4,)\n",
      "\n",
      " np.resize(arr, (2,2): \n",
      " [[1 2]\n",
      " [3 4]]\n",
      "\n",
      "Original Array \n",
      " [1 2 3 4] \n",
      "Array Size:  (4,)\n",
      "\n",
      " After making change in new array New Array: \n",
      " [[99  2]\n",
      " [ 3  4]]\n",
      "\n",
      " After making change in new array Original Array:  [1 2 3 4]\n"
     ]
    }
   ],
   "source": [
    "# Example: Resizing from 1-D to 2-D\n",
    "import numpy as np\n",
    "arr = np.array([1, 2, 3, 4])\n",
    "print(\"Original Array \\n\", arr, \"\\nArray Size: \", arr.shape)\n",
    "\n",
    "# Changing the dimension of array using reshape function, converting 1-D array into 2-Dimentional array\n",
    "newarr = np.resize(arr, (2, 2))\n",
    "print(\"\\n np.resize(arr, (2,2): \\n\", newarr)\n",
    "\n",
    "# print the original array, which shows that shape of original array is not changed\n",
    "print(\"\\nOriginal Array \\n\", arr, \"\\nArray Size: \", arr.shape)\n",
    "\n",
    "\n",
    "# The new array doesn’t share the same memory with the original array in resize function/method. \n",
    "# The data change in one array is not mapped to the other.\n",
    "\n",
    "# make change in new array\n",
    "newarr[0][0] = 99\n",
    "# print the new array, which naturally shows that new array is not changed\n",
    "print(\"\\n After making change in new array New Array: \\n\", newarr)\n",
    "\n",
    "# print the original array, which shows that original array is not changed\n",
    "print(\"\\n After making change in new array Original Array: \", arr)\n",
    "\n",
    "# The new array doesn’t share the same memory with the original array in resize function/method. \n",
    "# The data change in one array is not mapped to the other."
   ]
  },
  {
   "cell_type": "code",
   "execution_count": 57,
   "id": "03c6399a",
   "metadata": {},
   "outputs": [
    {
     "name": "stdout",
     "output_type": "stream",
     "text": [
      "\n",
      " Original Array \n",
      " [1 2 3 4 5 6] \n",
      "Array Size:  (6,)\n",
      "\n",
      "Print the Resized Array \n",
      " [[1 2 3 4]\n",
      " [5 6 1 2]\n",
      " [3 4 5 6]\n",
      " [1 2 3 4]]\n"
     ]
    }
   ],
   "source": [
    "# Example: resize function allows you to resize an array to a new array having larger size than the original array\n",
    "# In this scenario, it fills the remaining array with repeated copies of original array elements\n",
    "\n",
    "arr = np.array([1, 2, 3, 4, 5, 6])\n",
    "# print array and its shape\n",
    "print(\"\\n Original Array \\n\", arr, \"\\nArray Size: \", arr.shape)\n",
    "\n",
    "# converting 1-D array into 2-Dimentional array using resize method\n",
    "newarr = np.resize(arr,(4, 4))\n",
    "print(\"\\nPrint the Resized Array \\n\",newarr)"
   ]
  },
  {
   "cell_type": "code",
   "execution_count": 58,
   "id": "63e4c2c7",
   "metadata": {},
   "outputs": [
    {
     "name": "stdout",
     "output_type": "stream",
     "text": [
      "\n",
      " Original Array \n",
      " [1 2 3 4 5 6 7 8] \n",
      "Array Size:  (8,)\n",
      "\n",
      "Print the Resized Array \n",
      " [[1 2]\n",
      " [3 4]]\n"
     ]
    }
   ],
   "source": [
    "## Example: resize function allows you to resize an array to a new array having smaller size than the original array\n",
    "# In this scenario, it fills the remaining array with zeros\n",
    "\n",
    "arr = np.array([1, 2, 3, 4, 5, 6, 7, 8])\n",
    "# print array and its shape\n",
    "print(\"\\n Original Array \\n\", arr, \"\\nArray Size: \", arr.shape)\n",
    "\n",
    "# converting 1-D array into 2-Dimentional array using resize method\n",
    "newarr = np.resize(arr,(2, 2))\n",
    "print(\"\\nPrint the Resized Array \\n\",newarr)"
   ]
  },
  {
   "cell_type": "markdown",
   "id": "5f8e1f7c",
   "metadata": {},
   "source": [
    "### c. np.transpose()\n",
    "- The numpy.transpose()is used to transpose 2-D arrays. It has no effect on 1-D arrays.\n",
    "- Returns a view of the array with axes transposed.\n"
   ]
  },
  {
   "cell_type": "code",
   "execution_count": 67,
   "id": "5e407a2d",
   "metadata": {},
   "outputs": [
    {
     "name": "stdout",
     "output_type": "stream",
     "text": [
      "\n",
      "Original Array \n",
      " [[ 1  2  3  4]\n",
      " [ 5  6  7  8]\n",
      " [ 9 10 11 12]] \n",
      "Array Size:  (3, 4)\n",
      "\n",
      "Transpose array \n",
      " [[ 1  5  9]\n",
      " [ 2  6 10]\n",
      " [ 3  7 11]\n",
      " [ 4  8 12]] \n",
      "Array Size:  (4, 3)\n",
      "\n",
      " After modifying new array the Original Array \n",
      " [[ 1  2  3  4]\n",
      " [ 5 99  7  8]\n",
      " [ 9 10 11 12]]\n"
     ]
    }
   ],
   "source": [
    "# Create NumPy 2-D array\n",
    "arr = np.array([[1, 2, 3, 4], [5, 6, 7, 8], [9, 10, 11, 12]])\n",
    "# print array and its shape\n",
    "print(\"\\nOriginal Array \\n\", arr, \"\\nArray Size: \", arr.shape)\n",
    "\n",
    "\n",
    "newarr = arr.transpose()\n",
    "#Reshape array using transpose method\n",
    "print(\"\\nTranspose array \\n\", newarr,  \"\\nArray Size: \", newarr.shape)\n",
    "\n",
    "newarr[1][1] = 99\n",
    "print(\"\\n After modifying new array the Original Array \\n\", arr)"
   ]
  },
  {
   "cell_type": "markdown",
   "id": "093dc697",
   "metadata": {},
   "source": [
    "### d. np.swapaxes()\n",
    "The swapaxes() function is used to interchange two axes of an array.\n",
    "```\n",
    "swapaxes(arr, axis1, axis2)\n",
    "```\n",
    "- arr: Input array whose axes are to be swapped\n",
    "- axis1: First axis\n",
    "- axis2: Second axis\n",
    "\n",
    "- For NumPy >= 1.10.0, if `arr` is an ndarray, then a view of `arr` is returned; otherwise a new array is created. For earlier NumPy versions a view of `arr` is returned only if the order of the axes is changed, otherwise the input array is returned."
   ]
  },
  {
   "cell_type": "code",
   "execution_count": 80,
   "id": "76e10f42",
   "metadata": {},
   "outputs": [
    {
     "name": "stdout",
     "output_type": "stream",
     "text": [
      "\n",
      " Original Array \n",
      " [[0 1 2 3]\n",
      " [4 5 6 7]] \n",
      "Array Size:  (2, 4)\n",
      "\n",
      "Swapped axis (0,1) \n",
      " [[0 4]\n",
      " [1 5]\n",
      " [2 6]\n",
      " [3 7]]\n"
     ]
    }
   ],
   "source": [
    "# Create a 2 dimensional array \n",
    "arr = np.arange(8).reshape(2,4) \n",
    "\n",
    "# print array and its shape\n",
    "print(\"\\n Original Array \\n\", arr, \"\\nArray Size: \", arr.shape)\n",
    "\n",
    "#swap axis (0,1) using swapaxes method\n",
    "print(\"\\nSwapped axis (0,1) \\n\", np.swapaxes(arr, 0, 1))"
   ]
  },
  {
   "cell_type": "code",
   "execution_count": 81,
   "id": "a0349928",
   "metadata": {},
   "outputs": [
    {
     "name": "stdout",
     "output_type": "stream",
     "text": [
      "\n",
      " Original Array \n",
      " [[[0 1]\n",
      "  [2 3]]\n",
      "\n",
      " [[4 5]\n",
      "  [6 7]]] \n",
      "Array Size:  (2, 2, 2)\n",
      "\n",
      "Swapped axis (0,1) \n",
      " [[[0 1]\n",
      "  [4 5]]\n",
      "\n",
      " [[2 3]\n",
      "  [6 7]]]\n"
     ]
    }
   ],
   "source": [
    "# Create a 3 dimensional array \n",
    "arr = np.arange(8).reshape(2,2,2) \n",
    "\n",
    "# print array and its shape\n",
    "print(\"\\n Original Array \\n\", arr, \"\\nArray Size: \", arr.shape)\n",
    "\n",
    "#swap axis (0,1) using swapaxes method (its equivalent to (1,0))\n",
    "print(\"\\nSwapped axis (0,1) \\n\", np.swapaxes(arr, 0, 1))"
   ]
  },
  {
   "cell_type": "code",
   "execution_count": 82,
   "id": "32c3c7a8",
   "metadata": {},
   "outputs": [
    {
     "name": "stdout",
     "output_type": "stream",
     "text": [
      "\n",
      " Original Array \n",
      " [[[0 1]\n",
      "  [2 3]]\n",
      "\n",
      " [[4 5]\n",
      "  [6 7]]] \n",
      "Array Size:  (2, 2, 2)\n",
      "\n",
      "Swapped axis (0,2) \n",
      " [[[0 4]\n",
      "  [2 6]]\n",
      "\n",
      " [[1 5]\n",
      "  [3 7]]]\n"
     ]
    }
   ],
   "source": [
    "# Create a 3 dimensional array \n",
    "arr = np.arange(8).reshape(2,2,2) \n",
    "\n",
    "# print array and its shape\n",
    "print(\"\\n Original Array \\n\", arr, \"\\nArray Size: \", arr.shape)\n",
    "\n",
    "#swap axis (0,2) using swapaxes method (its equivalent to (2,0))\n",
    "# now swap numbers between axis 0 (along depth) and axis 2 (along width) \n",
    "print(\"\\nSwapped axis (0,2) \\n\", np.swapaxes(arr, 0, 2))"
   ]
  },
  {
   "cell_type": "code",
   "execution_count": 84,
   "id": "5bb3f188",
   "metadata": {},
   "outputs": [
    {
     "name": "stdout",
     "output_type": "stream",
     "text": [
      "\n",
      " Original Array \n",
      " [[[0 1]\n",
      "  [2 3]]\n",
      "\n",
      " [[4 5]\n",
      "  [6 7]]] \n",
      "Array Size:  (2, 2, 2)\n",
      "\n",
      "Swapped axis (2,0) \n",
      " [[[0 2]\n",
      "  [1 3]]\n",
      "\n",
      " [[4 6]\n",
      "  [5 7]]]\n"
     ]
    }
   ],
   "source": [
    "# Create a 3 dimensional array \n",
    "arr = np.arange(8).reshape(2,2,2) \n",
    "\n",
    "# print array and its shape\n",
    "print(\"\\n Original Array \\n\", arr, \"\\nArray Size: \", arr.shape)\n",
    "\n",
    "#swap axis (1,2) using swapaxes method\n",
    "print(\"\\nSwapped axis (2,0) \\n\", np.swapaxes(arr, 1, 2))"
   ]
  },
  {
   "cell_type": "markdown",
   "id": "d514bdfc",
   "metadata": {},
   "source": [
    "### e. np.flatten()\n",
    "By using ndarray.flatten() function we can flatten a Multi-Dimensional array/matrix to one dimension in python. It is used when we need to return the copy of the array in a 1-d array rather than a 2-d or multi-dimensional array. Optional arguments can be passed to flatten method.\n",
    "- C’ means to flatten in row-major order (Default). \n",
    "- ‘F’ means to flatten in column-major"
   ]
  },
  {
   "cell_type": "code",
   "execution_count": 10,
   "id": "feaddafa",
   "metadata": {},
   "outputs": [
    {
     "name": "stdout",
     "output_type": "stream",
     "text": [
      "\n",
      "Original Array \n",
      " [[[0 1]\n",
      "  [2 3]]\n",
      "\n",
      " [[4 5]\n",
      "  [6 7]]] \n",
      "Array dimensions:  3\n",
      "\n",
      "Flattened array in row major order \n",
      " [0 1 2 3 4 5 6 7] \n",
      "Array dimensions:  1\n",
      "\n",
      "Flattened array in cloumn major order \n",
      " [0 4 2 6 1 5 3 7] \n",
      "Array dimensions:  1\n"
     ]
    }
   ],
   "source": [
    "# Create a 3 dimensional array \n",
    "arr = np.arange(8).reshape(2,2,2) \n",
    "\n",
    "# print array and its shape\n",
    "print(\"\\nOriginal Array \\n\", arr, \"\\nArray dimensions: \", arr.ndim)\n",
    "\n",
    "# flatten the array in row-major order\n",
    "output_arr = arr.flatten(order = 'C')\n",
    "print(\"\\nFlattened array in row major order \\n\", output_arr, \"\\nArray dimensions: \", output_arr.ndim)\n",
    "\n",
    "# flatten the array in column-major order\n",
    "output1_arr = arr.flatten(order = 'F')\n",
    "print(\"\\nFlattened array in cloumn major order \\n\", output1_arr, \"\\nArray dimensions: \", output1_arr.ndim)"
   ]
  },
  {
   "cell_type": "markdown",
   "id": "7e1e9118",
   "metadata": {},
   "source": [
    "### f. np.newaxis()\n",
    "- The ```numpy.newaxis``` object is used to add a new dimension to a NumPy array in Python.\n",
    "    - 1D array will become 2D array\n",
    "    - 2D array will become 3D array\n",
    "    - 3D array will become 4D array\n",
    "    - 4D array will become 5D array\n",
    "- The ```numpy.newaxis``` object object is equivalent to use None as a parameter while declaring the array. \n",
    "- The trick is to use the ```numpy.newaxis``` object as a parameter at the index location in which you want to add the new axis."
   ]
  },
  {
   "cell_type": "code",
   "execution_count": 101,
   "id": "676dc40c",
   "metadata": {},
   "outputs": [
    {
     "name": "stdout",
     "output_type": "stream",
     "text": [
      "original array:  [1 2 3 4] \n",
      "array shape:  (4,)  and array dimension:  1\n",
      "\n",
      "Transformed array:  [[1 2 3 4]] \n",
      "array shape:  (1, 4)  and array dimension:  2\n"
     ]
    }
   ],
   "source": [
    "# Example: Transformig a 1D array into a row matrix\n",
    "arr = np.array([1,2,3,4])\n",
    "print(\"original array: \", arr, \"\\narray shape: \", arr.shape,  \" and array dimension: \", arr.ndim)\n",
    "\n",
    "arr = arr[np.newaxis]\n",
    "print(\"\\nTransformed array: \", arr, \"\\narray shape: \", arr.shape,  \" and array dimension: \", arr.ndim)"
   ]
  },
  {
   "cell_type": "code",
   "execution_count": 105,
   "id": "d39aa241",
   "metadata": {},
   "outputs": [
    {
     "name": "stdout",
     "output_type": "stream",
     "text": [
      "original array:  [1 2 3 4] \n",
      "array shape:  (4,)  and array dimension:  1\n",
      "\n",
      "Transformed array: \n",
      " [[1]\n",
      " [2]\n",
      " [3]\n",
      " [4]] \n",
      "array shape:  (4, 1)  and array dimension:  2\n"
     ]
    }
   ],
   "source": [
    "# Example: Transformig a 1D array into a column matrix using slicing operator :\n",
    "arr = np.array([1,2,3,4])\n",
    "print(\"original array: \", arr, \"\\narray shape: \", arr.shape,  \" and array dimension: \", arr.ndim)\n",
    "\n",
    "arr = arr[:,np.newaxis]\n",
    "print(\"\\nTransformed array: \\n\", arr, \"\\narray shape: \", arr.shape,  \" and array dimension: \", arr.ndim)"
   ]
  },
  {
   "cell_type": "code",
   "execution_count": 110,
   "id": "d47d6de2",
   "metadata": {},
   "outputs": [
    {
     "name": "stdout",
     "output_type": "stream",
     "text": [
      "original array: \n",
      " [[ 0  1  2  3  4]\n",
      " [ 5  6  7  8  9]\n",
      " [10 11 12 13 14]\n",
      " [15 16 17 18 19]\n",
      " [20 21 22 23 24]] \n",
      "array shape:  (5, 5)  and array dimension:  2\n",
      "\n",
      "Transformed array: \n",
      " [[[[ 0  1  2  3  4]\n",
      "   [ 5  6  7  8  9]\n",
      "   [10 11 12 13 14]\n",
      "   [15 16 17 18 19]\n",
      "   [20 21 22 23 24]]]] \n",
      "array shape:  (1, 1, 5, 5)  and array dimension:  4\n"
     ]
    }
   ],
   "source": [
    "#Example: Adding three more dimensions to a 2-D matrix, thus making it a Transforming a 5x5\n",
    "\n",
    "arr = np.arange(5*5).reshape(5, 5)\n",
    "print(\"original array: \\n\", arr, \"\\narray shape: \", arr.shape,  \" and array dimension: \", arr.ndim)\n",
    "  \n",
    "# promoting 2D array to a 4D array\n",
    "arr3D = arr[np.newaxis, np.newaxis]\n",
    "  \n",
    "print(\"\\nTransformed array: \\n\", arr3D, \"\\narray shape: \", arr3D.shape,  \" and array dimension: \", arr3D.ndim)"
   ]
  },
  {
   "cell_type": "code",
   "execution_count": null,
   "id": "2ce2845f",
   "metadata": {},
   "outputs": [],
   "source": []
  }
 ],
 "metadata": {
  "kernelspec": {
   "display_name": "Python 3 (ipykernel)",
   "language": "python",
   "name": "python3"
  },
  "language_info": {
   "codemirror_mode": {
    "name": "ipython",
    "version": 3
   },
   "file_extension": ".py",
   "mimetype": "text/x-python",
   "name": "python",
   "nbconvert_exporter": "python",
   "pygments_lexer": "ipython3",
   "version": "3.8.10"
  }
 },
 "nbformat": 4,
 "nbformat_minor": 5
}
