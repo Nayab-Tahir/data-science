{
 "cells": [
  {
   "cell_type": "markdown",
   "id": "70c36625",
   "metadata": {},
   "source": [
    "---   \n",
    " <img align=\"left\" width=\"75\" height=\"75\"  src=\"https://upload.wikimedia.org/wikipedia/en/c/c8/University_of_the_Punjab_logo.png\"> \n",
    "\n",
    "<h1 align=\"center\">Department of Data Science</h1>\n",
    "<h1 align=\"center\">Course: Tools and Techniques for Data Science</h1>\n",
    "\n",
    "---\n",
    "<h3><div align=\"right\">Instructor: Muhammad Arif Butt, Ph.D.</div></h3>    "
   ]
  },
  {
   "cell_type": "markdown",
   "id": "adc36fed",
   "metadata": {},
   "source": [
    "<h1 align=\"center\">Lecture 3.2</h1>"
   ]
  },
  {
   "cell_type": "markdown",
   "id": "a7b29f74",
   "metadata": {},
   "source": [
    "## _03-Array Indexing and Slicing.ipynb_\n",
    "#### [Click me to learn more about Numpy Library](https://www.w3schools.com/python/numpy/numpy_intro.asp)"
   ]
  },
  {
   "cell_type": "markdown",
   "id": "17adef0e",
   "metadata": {},
   "source": [
    "### Learning agenda of this notebook\n",
    "1. Indexing NumPy Arrays\n",
    "    - Access and Update NumPy Arrays using Indexing\n",
    "    - Access and Update NumPy Arrays using arr.item() and arr.itemset() Methods\n",
    "    - Access and Update NumPy Arrays using np.take() and np.put() Methods\n",
    "    - Conditionally Accessing Elements of NumPy Arrays\n",
    "2. Slicing NumPy Arrays\n",
    "3. Boolean Array Indexing"
   ]
  },
  {
   "cell_type": "code",
   "execution_count": null,
   "id": "ac8bf697",
   "metadata": {},
   "outputs": [],
   "source": [
    "# To install this library in Jupyter notebook\n",
    "#import sys\n",
    "#!{sys.executable} -m pip install numpy"
   ]
  },
  {
   "cell_type": "code",
   "execution_count": 2,
   "id": "dba905d0",
   "metadata": {},
   "outputs": [
    {
     "data": {
      "text/plain": [
       "('1.19.5',\n",
       " ['/Library/Frameworks/Python.framework/Versions/3.8/lib/python3.8/site-packages/numpy'])"
      ]
     },
     "execution_count": 2,
     "metadata": {},
     "output_type": "execute_result"
    }
   ],
   "source": [
    "import numpy as np\n",
    "np.__version__ , np.__path__"
   ]
  },
  {
   "cell_type": "code",
   "execution_count": null,
   "id": "2431d33b",
   "metadata": {},
   "outputs": [],
   "source": []
  },
  {
   "cell_type": "markdown",
   "id": "0c917a71",
   "metadata": {},
   "source": [
    "## 1- Indexing Numpy Arrays\n",
    "Array indexing is the same as accessing an array element. You can access an array element by referring to its index number.\n",
    "The indexes in NumPy arrays start with 0, meaning that the first element has index 0, and the second has index 1 etc.\n",
    "Use square brackets to get any item of an array by index. Multi-dimensional arrays can use multiple square brackets."
   ]
  },
  {
   "cell_type": "markdown",
   "id": "ef47a8ba",
   "metadata": {},
   "source": [
    "### a. Access and Update NumPy Arrays using Indexing"
   ]
  },
  {
   "cell_type": "code",
   "execution_count": 2,
   "id": "2bb93d8c",
   "metadata": {},
   "outputs": [
    {
     "name": "stdout",
     "output_type": "stream",
     "text": [
      "Original Array \n",
      " [[1 2 3]\n",
      " [4 5 6]\n",
      " [7 8 9]] \n",
      " \n",
      " Array Size:  (3, 3)\n",
      "\n",
      "Accessing first element:  [1 2 3]\n",
      "Accessing second element:  [4 5 6]\n",
      "Accessing third element:  [7 8 9]\n",
      "\n",
      "Accessing third element at 0 index:  3\n",
      "Accessing second element at 1 index:  5\n",
      "Accessing first element at 2 index:  7\n",
      "\n",
      "accessing last element:  [7 8 9]\n",
      "accessing second-last element:  [4 5 6]\n",
      "accessing Last element from 2nd index:  6\n",
      "\n",
      " Updated array \n",
      " [[2 2 3]\n",
      " [4 5 6]\n",
      " [7 8 9]]\n"
     ]
    }
   ],
   "source": [
    "# import numpy\n",
    "import numpy as np\n",
    "\n",
    "# Create a 2-Dimentional list\n",
    "list1 = [[1, 2, 3], [4, 5, 6], [7, 8, 9]]\n",
    "\n",
    "# Create NumPy 2-D array \n",
    "arr1 = np.array(list1)\n",
    "# print array and its shape\n",
    "print(\"Original Array \\n\", arr1, \"\\n \\n Array Size: \",arr1.shape)\n",
    "\n",
    "\n",
    "# You can access elements of array using indexing which starts from zero\n",
    "print(\"\\nAccessing first element: \", arr1[0])\n",
    "print(\"Accessing second element: \", arr1[1])\n",
    "print(\"Accessing third element: \", arr1[2])\n",
    "\n",
    "\n",
    "# accessing Nested array elements\n",
    "print(\"\\nAccessing third element at 0 index: \", arr1[0][2])\n",
    "print(\"Accessing second element at 1 index: \", arr1[1][1])\n",
    "print(\"Accessing first element at 2 index: \", arr1[2][0])\n",
    "\n",
    "\n",
    "# Negative indexing\n",
    "print(\"\\naccessing last element: \", arr1[-1])                #accessing last element\n",
    "print(\"accessing second-last element: \", arr1[-2])           #accessing second last element\n",
    "print(\"accessing Last element from 2nd index: \", arr1[1, -1]) # accessing last element of 2nd array\n",
    "\n",
    "\n",
    "# arrays are mutable so you can change the value at specific index as well\n",
    "arr1[0,0] = 2\n",
    "print(\"\\n Updated array \\n\", arr1)"
   ]
  },
  {
   "cell_type": "markdown",
   "id": "9686e386",
   "metadata": {},
   "source": [
    "### b. Access and Update NumPy Arrays using arr.item() and arr.itemset() Methods"
   ]
  },
  {
   "cell_type": "code",
   "execution_count": 6,
   "id": "afd5601f",
   "metadata": {},
   "outputs": [
    {
     "name": "stdout",
     "output_type": "stream",
     "text": [
      "Original Array \n",
      " [[1 2 3]\n",
      " [4 5 6]\n",
      " [7 8 9]] \n",
      " \n",
      " Array Shape:  (3, 3)\n",
      "\n",
      " Get the second item at 1 index:  5\n",
      "\n",
      " Updated array using item method \n",
      " [[1 2 3]\n",
      " [4 0 6]\n",
      " [7 8 9]]\n"
     ]
    }
   ],
   "source": [
    "# Create NumPy 2-D array\n",
    "import numpy as np\n",
    "\n",
    "arr1 = np.array([[1, 2, 3], [4, 5, 6], [7, 8, 9]])\n",
    "# print array and its shape\n",
    "print(\"Original Array \\n\", arr1, \"\\n \\n Array Shape: \",arr1.shape)\n",
    "\n",
    "# you can get the specific scalar value using item() method by passing the specific index\n",
    "print(\"\\n Get the second item at 1 index: \", arr1.item(1,1))\n",
    "\n",
    "# you can change the value as well using itemset method, that takes index and value that is to be updated\n",
    "\n",
    "# for example, placing zero at (1,1)\n",
    "arr1.itemset((1,1), 0)\n",
    "print(\"\\n Updated array using item method \\n\",  arr1)"
   ]
  },
  {
   "cell_type": "markdown",
   "id": "8b1882f7",
   "metadata": {},
   "source": [
    "### c. Access and Update NumPy Arrays using np.take() and np.put() Methods"
   ]
  },
  {
   "cell_type": "code",
   "execution_count": 7,
   "id": "fe4d7744",
   "metadata": {},
   "outputs": [
    {
     "name": "stdout",
     "output_type": "stream",
     "text": [
      "Original Array \n",
      " [[1 2 3]\n",
      " [4 5 6]\n",
      " [7 8 9]] \n",
      " \n",
      " Array Size:  (3, 3)\n",
      "\n",
      " Get the values at 0,3,6 index:  [1 4 7]\n",
      "\n",
      " Updated array using put method \n",
      " [[10  2  3]\n",
      " [10  5  6]\n",
      " [10  8  9]]\n"
     ]
    }
   ],
   "source": [
    "# Create NumPy 2-D array\n",
    "arr3 = np.array([[1, 2, 3], [4, 5, 6], [7, 8, 9]])\n",
    "# print array and its shape\n",
    "print(\"Original Array \\n\", arr3, \"\\n \\n Array Size: \",arr3.shape)\n",
    "\n",
    "\n",
    "# you can Get specific indices using take method\n",
    "print(\"\\n Get the values at 0,3,6 index: \", np.take(arr3, [0, 3, 6]))\n",
    "\n",
    "# As well as can Replace provided index values with new values\n",
    "# put function takes the array, specific indices and the new value\n",
    "# that you want to place\n",
    "np.put(arr3, [0, 3, 6], [10, 10, 10])\n",
    "print(\"\\n Updated array using put method \\n\", arr3)"
   ]
  },
  {
   "cell_type": "markdown",
   "id": "2e9cde3a",
   "metadata": {},
   "source": [
    "### d. Conditionally Accessing Elements of NumPy Arrays"
   ]
  },
  {
   "cell_type": "code",
   "execution_count": 8,
   "id": "7ad67261",
   "metadata": {},
   "outputs": [
    {
     "name": "stdout",
     "output_type": "stream",
     "text": [
      "Original Array \n",
      " [[ 11  21  13  24]\n",
      " [ 15  61  17  81]\n",
      " [ 19  20 121 132]\n",
      " [ 13  14  15  16]] \n",
      " \n",
      " Array Size:  (4, 4)\n",
      "\n",
      "Print even values: [ 24  20 132  14  16]\n",
      "\n",
      "Print values > 100: [121 132]\n",
      "\n",
      "Print 20 < values < 50: [21 24]\n"
     ]
    }
   ],
   "source": [
    "# Create NumPy 2-D array\n",
    "arr4 = np.array([[11, 21, 13, 24], [15, 61, 17, 81], [19, 20, 121, 132], [13, 14, 15, 16]])\n",
    "# print array and its shape\n",
    "print(\"Original Array \\n\", arr4, \"\\n \\n Array Size: \", arr4.shape)\n",
    "\n",
    "\n",
    "# Getting even values from array\n",
    "evens = arr4[arr4%2==0]\n",
    "print(\"\\nPrint even values:\",evens)\n",
    "\n",
    "\n",
    "# Getting values greater than 5\n",
    "value = arr4[arr4 > 100]\n",
    "print(\"\\nPrint values > 100:\", value)\n",
    "\n",
    "# Getting values 5 < values < 9\n",
    "values = arr4[(arr4 > 20) & (arr4 < 50)]\n",
    "print(\"\\nPrint 20 < values < 50:\", values)\n"
   ]
  },
  {
   "cell_type": "markdown",
   "id": "f37d31f0",
   "metadata": {},
   "source": [
    "## 2. Slicing NumPy Arrays\n",
    "- Slicing in python means taking elements from one given index to another given index. \n",
    "- An array can be sliced using : symbol, which returns the range of elements specified by the index numbers\n",
    "- There are three arguments for slicing arrays, all are optional: [start:stop:step]\n",
    "    - start: specifies from where the slicing should start, inclusive (default is 0) \n",
    "    - stop: specifies where it has to stop, exclusive (default is end of the array) \n",
    "    - step:  is by-default 1"
   ]
  },
  {
   "cell_type": "markdown",
   "id": "adc5e316",
   "metadata": {},
   "source": [
    "### a. Slicing 1-D Arrays"
   ]
  },
  {
   "cell_type": "code",
   "execution_count": 9,
   "id": "8cab2f63",
   "metadata": {},
   "outputs": [
    {
     "name": "stdout",
     "output_type": "stream",
     "text": [
      "Original Array\n",
      " [1 2 3 4 5 6 7 8 9]\n",
      "\n",
      "arr3[:] returns: [1 2 3 4 5 6 7 8 9]\n",
      "arr3[4:] returns: [4 5 6 7 8 9]\n",
      "arr3[:4] returns: [1 2 3 4]\n",
      "arr3[2:5] returns: [3 4 5]\n",
      "arr3[:-2] returns: [1 2 3 4 5 6 7]\n",
      "arr3[-1:] returns: [9]\n",
      "arr3[::-1] returns: [9 8 7 6 5 4 3 2 1]\n",
      "\n",
      "After all this arr3 is same:  [1 2 3 4 5 6 7 8 9]\n"
     ]
    }
   ],
   "source": [
    "# Creating numpy array\n",
    "arr3 = np.array([1, 2, 3, 4, 5, 6, 7, 8, 9])\n",
    "print(\"Original Array\\n\", arr3)\n",
    "\n",
    "print(\"\\narr3[:] returns:\", arr3[:])\n",
    "\n",
    "print(\"arr3[4:] returns:\", arr3[3:])\n",
    "\n",
    "print(\"arr3[:4] returns:\", arr3[:4])\n",
    "\n",
    "print(\"arr3[2:5] returns:\", arr3[2:5])\n",
    "\n",
    "print(\"arr3[:-2] returns:\", arr3[:-2])\n",
    "\n",
    "print(\"arr3[-1:] returns:\", arr3[-1:])\n",
    "\n",
    "\n",
    "# reverse the array using step value as -1\n",
    "print(\"arr3[::-1] returns:\", arr3[::-1])\n",
    "\n",
    "print(\"\\nAfter all this arr3 is same: \", arr3)\n"
   ]
  },
  {
   "cell_type": "markdown",
   "id": "4c18349f",
   "metadata": {},
   "source": [
    "### b. Slicing 2-D Arrays"
   ]
  },
  {
   "cell_type": "code",
   "execution_count": 10,
   "id": "f84dbff5",
   "metadata": {},
   "outputs": [
    {
     "name": "stdout",
     "output_type": "stream",
     "text": [
      "Original Array \n",
      " [[ 1  2  3  4]\n",
      " [ 5  6  7  8]\n",
      " [ 9 10 11 12]\n",
      " [13 14 15 16]] \n",
      " \n",
      " Array Size:  (4, 4)\n",
      "\n",
      "arr4[:3:2] returns: \n",
      " \n",
      " [[ 1  2  3  4]\n",
      " [ 9 10 11 12]]\n",
      "\n",
      "arr4[1, 1:3] returns:  [6 7]\n",
      "\n",
      "arr4[:, 1] returns:  [ 2  6 10 14]\n",
      "\n",
      "arr4[::-1] returns: \n",
      " [[13 14 15 16]\n",
      " [ 9 10 11 12]\n",
      " [ 5  6  7  8]\n",
      " [ 1  2  3  4]]\n",
      "\n",
      "arr4[::-1] returns: \n",
      " [[ 4  3  2  1]\n",
      " [ 8  7  6  5]\n",
      " [12 11 10  9]\n",
      " [16 15 14 13]]\n"
     ]
    }
   ],
   "source": [
    "# Create NumPy 2-D array\n",
    "arr4 = np.array([[1, 2, 3, 4], [5, 6, 7, 8], [9, 10, 11, 12], [13, 14, 15, 16]])\n",
    "# print array and its shape\n",
    "print(\"Original Array \\n\", arr4, \"\\n \\n Array Size: \",arr4.shape)\n",
    "\n",
    "# Start at 1st through 3rd with 2 step\n",
    "print(\"\\narr4[:3:2] returns: \\n \\n\", arr4[:3:2])\n",
    "\n",
    "\n",
    "# From the second element, slice elements from index 1 to index 3\n",
    "print(\"\\narr4[1, 1:3] returns: \",arr4[1, 1:3])\n",
    "\n",
    "# Get 2nd value from each row\n",
    "print(\"\\narr4[:, 1] returns: \", arr4[:, 1])\n",
    "\n",
    "# Reverse sequence of all arrays\n",
    "print(\"\\narr4[::-1] returns: \\n\", arr4[::-1])\n",
    "\n",
    "# Reverse elements of all arrays\n",
    "print(\"\\narr4[::-1] returns: \\n\", arr4[:, ::-1])"
   ]
  },
  {
   "cell_type": "markdown",
   "id": "2b77777e",
   "metadata": {},
   "source": [
    "## 3. Boolean Array Indexing\n",
    "- NumPy also permits the use of a boolean-valued array as an index, to perform advanced indexing on an array. \n",
    "- This is an extremely intuitive and elegant method for selecting contents from an array based on logical conditions.\n",
    "- In its simplest form, boolean indexing behaves as follows: \n",
    "    - Suppose **x** is an **N-dimensional** array, and **ind** is a boolean-value array of the same shape as x.\n",
    "    - Wherever an element of ind is True, the corresponding entry of x is added to the end of the resulting array. \n",
    "\n",
    "### For Your Information\n",
    "https://cloudxlab.com/assessment/displayslide/2538/numpy-arrays-multi-dimensional-arrays-and-boolean-indexing\n",
    "https://www.pythonlikeyoumeanit.com/Module3_IntroducingNumpy/AdvancedIndexing.html"
   ]
  },
  {
   "cell_type": "code",
   "execution_count": 13,
   "id": "ac89d4c6",
   "metadata": {},
   "outputs": [
    {
     "name": "stdout",
     "output_type": "stream",
     "text": [
      "Original Array \n",
      " [[ 0  1  2  3]\n",
      " [ 4  5  6  7]\n",
      " [ 8  9 10 11]]\n",
      "\n",
      "Getting Desired Rows \n",
      " [[ 0  1  2  3]\n",
      " [ 8  9 10 11]]\n"
     ]
    }
   ],
   "source": [
    "# You can index NumPy arrays using a NumPy array of boolean values on one axis to specify the indices that we want to access\n",
    "\n",
    "# Create NumPy array of size 3x4 (3 rows and 4 columns) with values from 0 to 11\n",
    "arr1 = np.array([[0, 1, 2, 3], [4, 5, 6, 7], [8, 9, 10, 11]])\n",
    "print(\"Original Array \\n\", arr1)\n",
    "\n",
    "\n",
    "# we want first row (True) and 3rd row (True) values, and don't want 2nd-row value (False)\n",
    "# Create a boolean array\n",
    "rows_wanted = np.array( [True, False, True] )\n",
    "\n",
    "\n",
    "# Let us use this boolean NumPy array rows_wanted in the above multi-dimensional array (multi_arr)\n",
    "# to extract the desired portion of this multi_arr array\n",
    "\n",
    "# get all columns :, but get only row numbers 1 and 3 ('0' and '2' index rows)\n",
    "multi_arr_portion = arr1[rows_wanted, : ]\n",
    "\n",
    "\n",
    "# print array\n",
    "print(\"\\nGetting Desired Rows \\n\", multi_arr_portion)"
   ]
  },
  {
   "cell_type": "code",
   "execution_count": null,
   "id": "61035f8e",
   "metadata": {},
   "outputs": [],
   "source": []
  }
 ],
 "metadata": {
  "kernelspec": {
   "display_name": "Python 3 (ipykernel)",
   "language": "python",
   "name": "python3"
  },
  "language_info": {
   "codemirror_mode": {
    "name": "ipython",
    "version": 3
   },
   "file_extension": ".py",
   "mimetype": "text/x-python",
   "name": "python",
   "nbconvert_exporter": "python",
   "pygments_lexer": "ipython3",
   "version": "3.8.10"
  }
 },
 "nbformat": 4,
 "nbformat_minor": 5
}
