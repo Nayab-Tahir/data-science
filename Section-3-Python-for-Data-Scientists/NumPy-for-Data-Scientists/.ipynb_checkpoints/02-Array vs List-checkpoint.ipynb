{
 "cells": [
  {
   "cell_type": "markdown",
   "id": "ea2c042f",
   "metadata": {},
   "source": [
    "---   \n",
    " <img align=\"left\" width=\"75\" height=\"75\"  src=\"https://upload.wikimedia.org/wikipedia/en/c/c8/University_of_the_Punjab_logo.png\"> \n",
    "\n",
    "<h1 align=\"center\">Department of Data Science</h1>\n",
    "<h1 align=\"center\">Course: Tools and Techniques for Data Science</h1>\n",
    "\n",
    "---\n",
    "<h3><div align=\"right\">Instructor: Muhammad Arif Butt, Ph.D.</div></h3>    "
   ]
  },
  {
   "cell_type": "markdown",
   "id": "fb955b9f",
   "metadata": {},
   "source": [
    "<h1 align=\"center\">Lecture 3.2</h1>"
   ]
  },
  {
   "cell_type": "markdown",
   "id": "1217d912",
   "metadata": {},
   "source": [
    "# _02-Array vs List.ipynb_\n",
    "#### [Click me to learn more about Numpy Library](https://www.w3schools.com/python/numpy/numpy_intro.asp)"
   ]
  },
  {
   "cell_type": "markdown",
   "id": "f5e8412f",
   "metadata": {},
   "source": [
    "# Learning agenda of this notebook\n",
    "1. A Comparison\n",
    "    - Python List\n",
    "    - Python Arrays\n",
    "    - NumPy Arrays\n",
    "2. Memory Consumption of Python List and Numpy Array\n",
    "3. Operation cost on Python List and Numpy Array"
   ]
  },
  {
   "cell_type": "markdown",
   "id": "b52beaef",
   "metadata": {},
   "source": [
    "## Benefits of using Numpy arrays\n",
    "\n",
    "Numpy arrays offer the following benefits over Python lists for operating on numerical data:\n",
    "\n",
    "- **Ease of use**: You can write small, concise, and intuitive mathematical expressions like `(kanto * weights).sum()` rather than using loops & custom functions like `crop_yield`.\n",
    "- **Performance**: Numpy operations and functions are implemented internally in C++, which makes them much faster than using Python statements & loops that are interpreted at runtime\n",
    "\n",
    "Here's a comparison of dot products performed using Python loops vs. Numpy arrays on two vectors with a million elements each."
   ]
  },
  {
   "cell_type": "markdown",
   "id": "b60a9d88",
   "metadata": {},
   "source": [
    "## 1. A Comparison\n",
    "**Python List:** \n",
    "1. A Python List (part of core Python) is an oredered and mutable data structure that is used to store a collection of items\n",
    "2. Python list is by default 1 dimensional. But we can create an N-Dimensional list. But then too it will be 1 D list storing another 1D list\n",
    "3. Items can be of same or different data types. \n",
    "4. More memory hungry.\n",
    "5. Items are stored non-contiguously in memory.\n",
    "6. Operations on Lists are typically slower, however, append operation will take O(1) time.\n",
    "\n",
    "\n",
    "**NumPy Arrays:** \n",
    "1. NumPy is the fundamental package for scientific computing in Python. NumPy arrays facilitate advanced mathematical and other types of operations on large numbers of data.\n",
    "2. A NumPy array is also an ordered and mutable data structure that is used to store a collection of items.\n",
    "3. A NumPy array can be N-dimensional.\n",
    "4. Items must be of same data type (can have array of structs). \n",
    "5. Less memory hungry.\n",
    "6. Items are stored contiguously in memory.\n",
    "7. Operations on Arrays are typically faster, however, append operation will take O(n) time."
   ]
  },
  {
   "cell_type": "code",
   "execution_count": null,
   "id": "6f9b364a",
   "metadata": {},
   "outputs": [],
   "source": [
    "# To install this library in Jupyter notebook\n",
    "#import sys\n",
    "#!{sys.executable} -m pip install numpy"
   ]
  },
  {
   "cell_type": "code",
   "execution_count": 2,
   "id": "dba905d0",
   "metadata": {},
   "outputs": [
    {
     "data": {
      "text/plain": [
       "('1.19.5',\n",
       " ['/Library/Frameworks/Python.framework/Versions/3.8/lib/python3.8/site-packages/numpy'])"
      ]
     },
     "execution_count": 2,
     "metadata": {},
     "output_type": "execute_result"
    }
   ],
   "source": [
    "import numpy as np\n",
    "np.__version__ , np.__path__"
   ]
  },
  {
   "cell_type": "markdown",
   "id": "221f59c9",
   "metadata": {},
   "source": [
    "### a. Python List"
   ]
  },
  {
   "cell_type": "code",
   "execution_count": null,
   "id": "9f8e9078",
   "metadata": {},
   "outputs": [],
   "source": [
    "# creating a list containing elements belonging to different data types  \n",
    "list1 = [1, \"Data Science\", ['a','e']]  \n",
    "print(list1) \n",
    "\n",
    "\n",
    "# creating a list having elements of different data types\n",
    "list2 = [1, 4, '2', 5.3, False]\n",
    "print(list2)\n",
    "\n"
   ]
  },
  {
   "cell_type": "markdown",
   "id": "09410505",
   "metadata": {},
   "source": [
    "### b. Python Array"
   ]
  },
  {
   "cell_type": "code",
   "execution_count": null,
   "id": "cb0f7367",
   "metadata": {},
   "outputs": [],
   "source": [
    "# A simple Python array is a sequence of objects of similar data dype\n",
    "# Python array module requires all array elements to be of the same type. \n",
    "# Moreover, to create an array, you'll need to specify a value type. \n",
    "\n",
    "# To use Python arrays, you have to i=import Python's built-in array module\n",
    "import array as arr  \n",
    "\n",
    "# declaring array of integers\n",
    "arr1 = arr.array(\"i\", [3, 6, 9, 2])  \n",
    "print(arr1)  \n",
    "print(type(arr1))  \n",
    "\n",
    "# declaring array of floats\n",
    "arr2 = arr.array(\"f\", [3.4, 6.7, 9.5, 2])  \n",
    "print(arr2)  \n",
    "print(type(arr2))  "
   ]
  },
  {
   "cell_type": "markdown",
   "id": "3fb494e4",
   "metadata": {},
   "source": [
    "### c. Numpy Array\n",
    "- Numpy arrays offer the following benefits over Python lists for operating on numerical data:\n",
    "    - **Ease of use**: You can write small, concise, and intuitive mathematical expressions like `(kanto * weights).sum()` rather than using loops & custom functions like `crop_yield`.\n",
    "    - **Performance**: Numpy operations and functions are implemented internally in C++, which makes them much faster than using Python statements & loops that are interpreted at runtime"
   ]
  },
  {
   "cell_type": "code",
   "execution_count": 3,
   "id": "af7df8cd",
   "metadata": {},
   "outputs": [
    {
     "data": {
      "text/plain": [
       "{'int': [numpy.int8, numpy.int16, numpy.int32, numpy.int64],\n",
       " 'uint': [numpy.uint8, numpy.uint16, numpy.uint32, numpy.uint64],\n",
       " 'float': [numpy.float16, numpy.float32, numpy.float64, numpy.float128],\n",
       " 'complex': [numpy.complex64, numpy.complex128, numpy.complex256],\n",
       " 'others': [bool, object, bytes, str, numpy.void]}"
      ]
     },
     "execution_count": 3,
     "metadata": {},
     "output_type": "execute_result"
    }
   ],
   "source": [
    "np.sctypes"
   ]
  },
  {
   "cell_type": "code",
   "execution_count": null,
   "id": "ef33990a",
   "metadata": {},
   "outputs": [],
   "source": [
    "# To create a NumPy array, you only need to specify the items (enclosed in square brackets) \n",
    "# Optionally you can mention the dtype\n",
    "\n",
    "import numpy as np  \n",
    "\n",
    "mylist = [1, 4, 2, 5, 3]\n",
    "arr = np.array(mylist, dtype=np.uint16)\n",
    "print(arr)\n",
    "print(type(arr))  \n",
    "\n",
    "\n",
    "# NumPy array upcast data type of all elements to bigger datatype in case it is heterogeneous\n",
    "arr2 = np.array([1, 4.6, 2, False])\n",
    "print(arr2)\n",
    "\n",
    "\n",
    "# NumPy array upcast data type of all elements to bigger datatype in case it is heterogeneous\n",
    "arr2 = np.array([3, 5.1, '5', False])\n",
    "print(arr2)\n"
   ]
  },
  {
   "cell_type": "markdown",
   "id": "6559684c",
   "metadata": {},
   "source": [
    "## 2. Memory Consumption of NumPy Array and Python List\n",
    "- Python Lists consume more memory than NumPy arrays"
   ]
  },
  {
   "cell_type": "code",
   "execution_count": null,
   "id": "d4f5466f",
   "metadata": {},
   "outputs": [],
   "source": [
    "# Let's have an example to compare the memory consumption of NumPy array and Python List\n",
    "\n",
    "# importing system module\n",
    "import sys\n",
    "  \n",
    "# declaring a list of 1000 elements \n",
    "list1 = range(1000)\n",
    "\n",
    "# printing size of each element of the list, You can use getsizeof function from sys module\n",
    "print(\"Size of each element of list in bytes: \", sys.getsizeof(list1))\n",
    "  \n",
    "# You can get the size of whole list in bytes by multiplying len of list with size of individual element    \n",
    "size = sys.getsizeof(list1)*len(list1)    \n",
    "print(\"Size of the whole list in bytes: \", size)\n",
    "\n",
    "# declaring a Numpy array of 1000 elements \n",
    "array1 = np.arange(1000)\n",
    "  \n",
    "# printing size of each element of the Numpy array\n",
    "print(\"Size of each element of the Numpy array in bytes: \", array1.itemsize)\n",
    "  \n",
    "# printing size of the whole Numpy array\n",
    "print(\"Size of the whole Numpy array in bytes: \", array1.nbytes)"
   ]
  },
  {
   "cell_type": "markdown",
   "id": "6cd0dac0",
   "metadata": {},
   "source": [
    "## 3. Operations on NumPy Arrays vs Python Lists\n",
    "- NumPy arrays are stored at one continuous place in memory unlike lists, so processes can access and manipulate them very efficiently. \n",
    "- This behavior is called **locality of reference** in computer science. \n",
    "- This is the main reason why NumPy is faster than lists. \n",
    "- As a proof of concept, we can multiply two list and arrays, and compare their multiplication time"
   ]
  },
  {
   "cell_type": "markdown",
   "id": "e2c6900a",
   "metadata": {},
   "source": [
    "### Effect of * operator on NumPy Array and Python List"
   ]
  },
  {
   "cell_type": "code",
   "execution_count": 4,
   "id": "adcf2c46",
   "metadata": {},
   "outputs": [
    {
     "data": {
      "text/plain": [
       "array([ 1,  4,  9, 16, 25, 36])"
      ]
     },
     "execution_count": 4,
     "metadata": {},
     "output_type": "execute_result"
    }
   ],
   "source": [
    "# You can multiply two numPy arrays using * operator\n",
    "import numpy as np\n",
    "myarray1 = np.array([1, 2, 3, 4, 5, 6])\n",
    "myarray2 = np.array([1, 2, 3, 4, 5, 6])\n",
    "myarray3 = myarray1 * myarray2\n",
    "myarray3"
   ]
  },
  {
   "cell_type": "code",
   "execution_count": 13,
   "id": "4da8d1ed",
   "metadata": {},
   "outputs": [
    {
     "data": {
      "text/plain": [
       "[1, 4, 9, 16, 25, 36]"
      ]
     },
     "execution_count": 13,
     "metadata": {},
     "output_type": "execute_result"
    }
   ],
   "source": [
    "# you can't multiply two lists using a * operator, you have to use a loop\n",
    "mylist1 = [1, 2, 3, 4, 5, 6]\n",
    "mylist2 = [1, 2, 3, 4, 5, 6]\n",
    "mylist3 = [0, 0, 0, 0, 0, 0]\n",
    "for i in range(0,6):\n",
    "    mylist3[i] = mylist1[i] * mylist2[i]\n",
    "mylist3"
   ]
  },
  {
   "cell_type": "code",
   "execution_count": 27,
   "id": "00ef9daf",
   "metadata": {},
   "outputs": [
    {
     "name": "stdout",
     "output_type": "stream",
     "text": [
      "\n",
      "Time taken by NumPy Arrays to perform multiplication: 0.001650094985961914 seconds\n",
      "\n",
      "Time taken by Lists to perform multiplication: 0.2171339988708496 seconds\n"
     ]
    }
   ],
   "source": [
    "# importing required packages\n",
    "import time\n",
    "import numpy as np\n",
    "\n",
    "\n",
    "# Creating two large size arrays and multiplying them element by element\n",
    "size = 1000000\n",
    "array1 = np.arange(size)\n",
    "array2 = np.arange(size)\n",
    "# capturing time before the multiplication of Numpy arrays\n",
    "initialTime = time.time()\n",
    "# multiplying elements of both the Numpy arrays and stored in another Numpy array\n",
    "array3 = array1 * array2\n",
    "# capturing time again after the multiplication is done\n",
    "finishTime = time.time()\n",
    "print(\"\\nTime taken by NumPy Arrays to perform multiplication:\", finishTime - initialTime, \"seconds\")\n",
    "\n",
    "\n",
    "\n",
    "\n",
    "# Creating two large size Lists and multiplying them element by element\n",
    "list1 = list(range(size))\n",
    "list2 = list(range(size))\n",
    "list3 = list(range(size))\n",
    "# capturing time before the multiplication of Python Lists\n",
    "initialTime = time.time()\n",
    "# multiplying elements of both the lists and stored in another list\n",
    "# simply run a loop and overwrite the elements of the new list with resulting value\n",
    "for i in range(0, len(list1)):\n",
    "     list3[i] = list1[i] * list2[i]\n",
    "\n",
    "\n",
    "# capturing time again after the multiplication is done\n",
    "finishTime = time.time()\n",
    "print(\"\\nTime taken by Lists to perform multiplication:\", finishTime - initialTime, \"seconds\")"
   ]
  },
  {
   "cell_type": "code",
   "execution_count": null,
   "id": "b15a7194",
   "metadata": {},
   "outputs": [],
   "source": []
  },
  {
   "cell_type": "code",
   "execution_count": null,
   "id": "f4a39243",
   "metadata": {},
   "outputs": [],
   "source": []
  },
  {
   "cell_type": "markdown",
   "id": "daf2a3db",
   "metadata": {},
   "source": [
    "** \n",
    "- The element-wise multiplication of two vectors and taking a sum of the results is called the **dot product**.\n",
    "- Let us do a comparison of dot products performed using two Python Lists using loop and two Numpy arrays using the dot() methodon two vectors with a million elements each**"
   ]
  },
  {
   "cell_type": "code",
   "execution_count": 26,
   "id": "3be493aa",
   "metadata": {},
   "outputs": [],
   "source": [
    "# Python lists\n",
    "arr1 = list(range(1000000))\n",
    "arr2 = list(range(1000000, 2000000))"
   ]
  },
  {
   "cell_type": "code",
   "execution_count": 27,
   "id": "6025c722",
   "metadata": {},
   "outputs": [
    {
     "name": "stdout",
     "output_type": "stream",
     "text": [
      "CPU times: user 194 ms, sys: 2.46 ms, total: 196 ms\n",
      "Wall time: 195 ms\n"
     ]
    },
    {
     "data": {
      "text/plain": [
       "833332333333500000"
      ]
     },
     "execution_count": 27,
     "metadata": {},
     "output_type": "execute_result"
    }
   ],
   "source": [
    "%%time\n",
    "result = 0\n",
    "for x1, x2 in zip(arr1, arr2):\n",
    "    result += x1*x2\n",
    "result"
   ]
  },
  {
   "cell_type": "code",
   "execution_count": 28,
   "id": "f8c324bf",
   "metadata": {},
   "outputs": [],
   "source": [
    "# Numpy arrays\n",
    "arr1_np = np.array(arr1)\n",
    "arr2_np = np.array(arr2)"
   ]
  },
  {
   "cell_type": "code",
   "execution_count": 29,
   "id": "15df9a5a",
   "metadata": {},
   "outputs": [
    {
     "name": "stdout",
     "output_type": "stream",
     "text": [
      "CPU times: user 1.97 ms, sys: 680 µs, total: 2.65 ms\n",
      "Wall time: 1.34 ms\n"
     ]
    },
    {
     "data": {
      "text/plain": [
       "833332333333500000"
      ]
     },
     "execution_count": 29,
     "metadata": {},
     "output_type": "execute_result"
    }
   ],
   "source": [
    "%%time\n",
    "np.dot(arr1_np, arr2_np)"
   ]
  },
  {
   "cell_type": "markdown",
   "id": "7730f2d7",
   "metadata": {},
   "source": [
    "As you can see, using `np.dot` is around 150 times faster than using a `for` loop. This makes Numpy especially useful while working with really large datasets with tens of thousands or millions of data points."
   ]
  },
  {
   "cell_type": "code",
   "execution_count": null,
   "id": "a1e9a75a",
   "metadata": {},
   "outputs": [],
   "source": []
  }
 ],
 "metadata": {
  "kernelspec": {
   "display_name": "Python 3 (ipykernel)",
   "language": "python",
   "name": "python3"
  },
  "language_info": {
   "codemirror_mode": {
    "name": "ipython",
    "version": 3
   },
   "file_extension": ".py",
   "mimetype": "text/x-python",
   "name": "python",
   "nbconvert_exporter": "python",
   "pygments_lexer": "ipython3",
   "version": "3.8.10"
  }
 },
 "nbformat": 4,
 "nbformat_minor": 5
}
