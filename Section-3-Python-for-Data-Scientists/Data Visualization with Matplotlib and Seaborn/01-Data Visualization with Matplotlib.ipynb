{
 "cells": [
  {
   "cell_type": "markdown",
   "id": "fff56b76",
   "metadata": {},
   "source": [
    "---   \n",
    " <img align=\"left\" width=\"75\" height=\"75\"  src=\"https://upload.wikimedia.org/wikipedia/en/c/c8/University_of_the_Punjab_logo.png\"> \n",
    "\n",
    "<h1 align=\"center\">Department of Data Science</h1>\n",
    "<h1 align=\"center\">Course: Tools and Techniques for Data Science</h1>\n",
    "\n",
    "---\n",
    "<h3><div align=\"right\">Instructor: Muhammad Arif Butt, Ph.D.</div></h3>    "
   ]
  },
  {
   "cell_type": "markdown",
   "id": "05dbb7e4",
   "metadata": {},
   "source": [
    "<h1 align=\"center\">Lecture 3.10</h1>"
   ]
  },
  {
   "cell_type": "markdown",
   "id": "6b493626",
   "metadata": {},
   "source": [
    "<a href=\"https://colab.research.google.com/github/arifpucit/data-science/blob/master/Section-2-Basics-of-Python-Programming/Lec-2.02-Anaconda-and-Jupyter-Notebook/02-markdown-example.ipynb\" target=\"_parent\"><img src=\"https://colab.research.google.com/assets/colab-badge.svg\" alt=\"Open In Colab\"/></a>"
   ]
  },
  {
   "cell_type": "markdown",
   "id": "9127e57b",
   "metadata": {},
   "source": [
    "## _01-Data Visualization with Matplotlib and Seaborn.ipynb_"
   ]
  },
  {
   "cell_type": "markdown",
   "id": "e42b820a",
   "metadata": {},
   "source": [
    "## Learning agenda of this notebook\n",
    "\n",
    "1. Data Visualization and Matplotlib Library\n",
    "2. Basics of Data Visualization\n",
    "3. Bar-plots\n",
    "4. Scatter-plot\n",
    "5. Histogram\n",
    "6. Working with a Built-in Dataset\n",
    "7. Pie Chart\n",
    "8. DoughNut Chart\n",
    "9. Box-plot\n",
    "10. Violin plot\n",
    "11. Heatmap\n",
    "12. 3-D Surface\n",
    "13. Plotting Time Series\n",
    "14. Stem Plot\n",
    "15. Radar Plot"
   ]
  },
  {
   "cell_type": "markdown",
   "id": "2a1a90b7",
   "metadata": {},
   "source": [
    "## 1. Data Visualization and Matplotlib Library\n",
    "<img align=\"right\" width=\"500\" height=\"500\"  src=\"images/graphs1.png\"  >\n",
    "\n",
    ">- Data visualization is the graphic representation of data. It involves producing images that communicate relationships among the represented data to viewers. \n",
    ">- Visualizing data is an essential part of data analysis and machine learning. We'll use Python library [Matplotlib](https://matplotlib.org) to learn and apply some popular data visualization techniques. Normally the words _chart_, _plot_, and _graph_ are interchangeably in literature.\n",
    ">- Matplotlib is a low level graph plotting library in python that serves as a visualization utility. It is a very popular Python library for data visualization. It particularly comes in handy when a programmer wants to visualize the patterns in the data. \n",
    ">- Matplotlib is a 2D plotting library used for creating 2D graphs and plots, and is used as a part of the exploratory process; for example, helping identify outliers, needed data transformations, or coming up with ideas for models."
   ]
  },
  {
   "cell_type": "markdown",
   "id": "dfd1b1d8",
   "metadata": {},
   "source": [
    "To begin, let's install the Matplotlib library. We'll use the `matplotlib.pyplot` module for basic plots like line & bar charts. It is often imported with the alias `plt`. "
   ]
  },
  {
   "cell_type": "code",
   "execution_count": null,
   "id": "7e6f955f",
   "metadata": {},
   "outputs": [],
   "source": [
    "# To install this library in Jupyter notebook\n",
    "import sys\n",
    "!{sys.executable} -m pip install matplotlib --quiet"
   ]
  },
  {
   "cell_type": "code",
   "execution_count": null,
   "id": "e99b39c5",
   "metadata": {},
   "outputs": [],
   "source": [
    "import matplotlib\n",
    "matplotlib.__version__ , matplotlib.__path__"
   ]
  },
  {
   "cell_type": "markdown",
   "id": "e6e9f900",
   "metadata": {},
   "source": [
    "<img align=\"right\" width=\"250\" height=\"100\"  src=\"images/basic.png\"  >\n",
    "\n",
    "## 2. Line Chart/Graph with Matplotlib\n",
    ">- Matplotlib is a versatile tool that can be used to create many different plot elements. \n",
    ">- Before trying to create a plot, let’s make sure to define some basic terms first. For example the  image in front tells us some important parts of a figure."
   ]
  },
  {
   "cell_type": "markdown",
   "id": "7fe0418e",
   "metadata": {},
   "source": [
    "### a. How to Draw a Basic Line Graph\n",
    ">- The line chart is one of the simplest and most widely used data visualization techniques. A line chart displays information as a series of data points or markers connected by straight lines. You can customize the shape, size, color, and other aesthetic elements of the lines and markers for better visual clarity.\n",
    ">- If we want to get a simple image quickly, we can call the function `plot()` from the pyplot module"
   ]
  },
  {
   "cell_type": "code",
   "execution_count": 6,
   "id": "b1e59bd3",
   "metadata": {},
   "outputs": [
    {
     "data": {
      "text/plain": [
       "[<matplotlib.lines.Line2D at 0x7fe190701a00>]"
      ]
     },
     "execution_count": 6,
     "metadata": {},
     "output_type": "execute_result"
    },
    {
     "data": {
      "image/png": "[encoded data removed]",
      "text/plain": [
       "<Figure size 432x288 with 1 Axes>"
      ]
     },
     "metadata": {
      "needs_background": "light"
     },
     "output_type": "display_data"
    }
   ],
   "source": [
    "# Example 2: Graph showing export of sports goods of a factory in million rupees in last 12 years\n",
    "import numpy as np\n",
    "from matplotlib import pyplot as plt\n",
    "\n",
    "export = [0.810, 0.831, 0.895, 0.91, 0.915, 0.926, 0.945, 0.931, 0.919, 0.921, 0.920, 0.919]\n",
    "plt.plot(export)"
   ]
  },
  {
   "cell_type": "markdown",
   "id": "0413d74f",
   "metadata": {},
   "source": [
    "Calling the `plt.plot` function draws the line chart as expected. It also returns a list of plots drawn `[<matplotlib.lines.Line2D at 0x7fc0542e0af0>]`, shown within the output. We can include a semicolon (`;`) at the end of the last statement in the cell to avoiding showing the output and display just the graph."
   ]
  },
  {
   "cell_type": "code",
   "execution_count": null,
   "id": "06b4ddf4",
   "metadata": {},
   "outputs": [],
   "source": [
    "# Example 2: Graph showing export of sports goods of a factory in million rupees in last 12 years\n",
    "import numpy as np\n",
    "from matplotlib import pyplot as plt\n",
    "\n",
    "export = [0.810, 0.831, 0.895, 0.91, 0.915, 0.926, 0.945, 0.931, 0.919, 0.921, 0.920, 0.919]\n",
    "#The only required argument is the data to be plotted on the y-axis\n",
    "plt.plot(export);"
   ]
  },
  {
   "cell_type": "markdown",
   "id": "46c1e359",
   "metadata": {},
   "source": [
    "## Enhance the Graph Step by Step"
   ]
  },
  {
   "cell_type": "markdown",
   "id": "b3fa3522",
   "metadata": {},
   "source": [
    "### b. Setting x/y-Labels\n",
    ">- We can add labels to the axes to show what each axis represents using the `plt.xlabel()` and `plt.ylabel()` methods."
   ]
  },
  {
   "cell_type": "code",
   "execution_count": 1,
   "id": "1fbade17",
   "metadata": {},
   "outputs": [
    {
     "data": {
      "image/png": "[encoded data removed]",
      "text/plain": [
       "<Figure size 432x288 with 1 Axes>"
      ]
     },
     "metadata": {
      "needs_background": "light"
     },
     "output_type": "display_data"
    }
   ],
   "source": [
    "# Example 3: Graph showing export of sports goods of a factory in million rupees in last 12 years\n",
    "import numpy as np\n",
    "from matplotlib import pyplot as plt\n",
    "\n",
    "export = [0.810, 0.831, 0.895, 0.91, 0.915, 0.926, 0.945, 0.931, 0.919, 0.921, 0.920, 0.919]\n",
    "years = range(2010, 2022)\n",
    "\n",
    "# Add x and y-lables to the graph\n",
    "plt.xlabel(\"Years\")\n",
    "plt.ylabel(\"Amount (Million Rs.)\")\n",
    "\n",
    "# Pass data points for both axis\n",
    "plt.plot(years, export);"
   ]
  },
  {
   "cell_type": "markdown",
   "id": "66e334cc",
   "metadata": {},
   "source": [
    "### c. Adding Ticks"
   ]
  },
  {
   "cell_type": "code",
   "execution_count": 2,
   "id": "c8801e21",
   "metadata": {},
   "outputs": [
    {
     "data": {
      "image/png": "[encoded data removed]",
      "text/plain": [
       "<Figure size 432x288 with 1 Axes>"
      ]
     },
     "metadata": {
      "needs_background": "light"
     },
     "output_type": "display_data"
    }
   ],
   "source": [
    "# Example : Graph showing export of sports goods of a factory in million rupees in last 12 years\n",
    "import numpy as np\n",
    "from matplotlib import pyplot as plt\n",
    "\n",
    "export = [0.810, 0.831, 0.895, 0.91, 0.915, 0.926, 0.945, 0.931, 0.919, 0.921, 0.920, 0.919]\n",
    "years = range(2010, 2022)\n",
    "plt.xlabel(\"Years\")\n",
    "plt.ylabel(\"Amount (Million Rs.)\")\n",
    "\n",
    "# Adding ticks\n",
    "xvals = [2010, 2012, 2014, 2016, 2018, 2020]\n",
    "yvals = [0.80, 0.82, 0.84, 0.86, 0.88, 0.90, 0.92, 0.94, 0.96, 0.98]\n",
    "plt.xticks(xvals) # set the ticks on x-axis as x array values\n",
    "plt.yticks(yvals) # set the ticks on y-axis as y array values\n",
    "\n",
    "plt.plot(years, export);"
   ]
  },
  {
   "cell_type": "markdown",
   "id": "c70c2f84",
   "metadata": {},
   "source": [
    "### d. Adding Multiple Lines in a Graph\n",
    "You can invoke the `plt.plot` function once for each line to plot multiple lines in the same graph."
   ]
  },
  {
   "cell_type": "code",
   "execution_count": 3,
   "id": "7e529970",
   "metadata": {},
   "outputs": [
    {
     "data": {
      "image/png": "[encoded data removed]",
      "text/plain": [
       "<Figure size 432x288 with 1 Axes>"
      ]
     },
     "metadata": {
      "needs_background": "light"
     },
     "output_type": "display_data"
    }
   ],
   "source": [
    "# Example : Graph showing export of sports goods + Medicines of a factory in million rupees in last 6 years\n",
    "import numpy as np\n",
    "from matplotlib import pyplot as plt\n",
    "\n",
    "sports_export   = [0.810, 0.831, 0.895, 0.91, 0.915, 0.926, 0.945, 0.931, 0.919, 0.921, 0.920, 0.919]\n",
    "medicine_export = [0.791, 0.818, 0.832, 0.816, 0.840, 0.833, 0.835, 0.838, 0.842, 0.910, 0.930, 0.940]\n",
    "years = range(2010, 2022)\n",
    "plt.xlabel(\"Years\")\n",
    "plt.ylabel(\"Amount (Million Rs.)\")\n",
    "xvals = [2010, 2012, 2014, 2016, 2018, 2020]\n",
    "yvals = [0.80, 0.82, 0.84, 0.86, 0.88, 0.90, 0.92, 0.94, 0.96, 0.98]\n",
    "plt.xticks(xvals) # set the ticks on x-axis as x array values\n",
    "plt.yticks(yvals) # set the ticks on y-axis as y array values\n",
    "\n",
    "\n",
    "plt.plot(years, sports_export);\n",
    "plt.plot(years, medicine_export);"
   ]
  },
  {
   "cell_type": "markdown",
   "id": "a8244d5a",
   "metadata": {},
   "source": [
    "### e. Adding Chart Title and Legend\n",
    ">- We can add a title to the graph using the `plt.title()` method\n",
    ">- To differentiate between multiple lines, we can include a legend within the graph using the `plt.legend` method"
   ]
  },
  {
   "cell_type": "code",
   "execution_count": 4,
   "id": "5b49bf34",
   "metadata": {},
   "outputs": [
    {
     "data": {
      "image/png": "[encoded data removed]",
      "text/plain": [
       "<Figure size 432x288 with 1 Axes>"
      ]
     },
     "metadata": {
      "needs_background": "light"
     },
     "output_type": "display_data"
    }
   ],
   "source": [
    "# Example : Graph showing export of sports goods + Medicines of a factory in million rupees in last 12 years\n",
    "import numpy as np\n",
    "from matplotlib import pyplot as plt\n",
    "\n",
    "sports_export   = [0.810, 0.831, 0.895, 0.91, 0.915, 0.926, 0.945, 0.931, 0.919, 0.921, 0.920, 0.919]\n",
    "medicine_export = [0.791, 0.818, 0.832, 0.816, 0.840, 0.833, 0.835, 0.838, 0.842, 0.910, 0.930, 0.940]\n",
    "years = range(2010, 2022)\n",
    "plt.xlabel(\"Years\")\n",
    "plt.ylabel(\"Amount (Million Rs.)\")\n",
    "xvals = [2010, 2012, 2014, 2016, 2018, 2020]\n",
    "yvals = [0.80, 0.82, 0.84, 0.86, 0.88, 0.90, 0.92, 0.94, 0.96, 0.98]\n",
    "plt.xticks(xvals) # set the ticks on x-axis as x array values\n",
    "plt.yticks(yvals) # set the ticks on y-axis as y array values\n",
    "\n",
    "\n",
    "# Add title to the graph\n",
    "plt.title(\"LCI exports in last 12 years\")\n",
    "# Add a lagend to the graph\n",
    "plt.legend([\"Sports\", \"Medicines\"], loc='upper left')\n",
    "#plt.legend([\"Sports\", \"Medicines\"])\n",
    "\n",
    "plt.plot(years, sports_export)\n",
    "plt.plot(years, medicine_export)\n",
    "\n",
    "plt.show()"
   ]
  },
  {
   "cell_type": "markdown",
   "id": "a16b3d1d",
   "metadata": {},
   "source": [
    "### f. Use of Markers\n",
    "- In above graph, if I ask you to tell me the amount of medicines exported in the year 2016, it is a bit difficult to guess. \n",
    "- We can use markers for different datapoints on the line using `marker` argument to the `plt.plot()` method\n",
    "- Matplotlib provides many different markers, like a circle, cross, square, diamond, etc. You can find the full list of marker types here: https://matplotlib.org/3.1.1/api/markers_api.html .\n",
    "- The `plt.plot` function supports many arguments for markers:\n",
    "    - `markersize` or `ms`: Set the size of markers\n",
    "    - `markeredgecolor` or `mec`: Set the edge color for markers\n",
    "    - `markeredgewidth` or `mew`: Set the edge width for markers\n",
    "    - `markerfacecolor` or `mfc`: Set the fill color for markers"
   ]
  },
  {
   "cell_type": "code",
   "execution_count": 5,
   "id": "7c7cb719",
   "metadata": {},
   "outputs": [
    {
     "data": {
      "image/png": "[encoded data removed]",
      "text/plain": [
       "<Figure size 432x288 with 1 Axes>"
      ]
     },
     "metadata": {
      "needs_background": "light"
     },
     "output_type": "display_data"
    }
   ],
   "source": [
    "# Example : Graph showing export of sports goods + Medicines of a factory in million rupees in last 12 years\n",
    "import numpy as np\n",
    "from matplotlib import pyplot as plt\n",
    "\n",
    "sports_export   = [0.810, 0.831, 0.895, 0.91, 0.915, 0.926, 0.945, 0.931, 0.919, 0.921, 0.920, 0.919]\n",
    "medicine_export = [0.791, 0.818, 0.832, 0.816, 0.840, 0.833, 0.835, 0.838, 0.842, 0.910, 0.930, 0.940]\n",
    "years = range(2010, 2022)\n",
    "plt.xlabel(\"Years\")\n",
    "plt.ylabel(\"Amount (Million Rs.)\")\n",
    "xvals = [2010, 2012, 2014, 2016, 2018, 2020]\n",
    "yvals = [0.80, 0.82, 0.84, 0.86, 0.88, 0.90, 0.92, 0.94, 0.96, 0.98]\n",
    "plt.xticks(xvals) # set the ticks on x-axis as x array values\n",
    "plt.yticks(yvals) # set the ticks on y-axis as y array values\n",
    "plt.title(\"LCI exports in last 12 years\")\n",
    "plt.legend([\"Sports\", \"Medicines\"], loc='upper left')\n",
    "\n",
    "\n",
    "#Adding markers\n",
    "plt.plot(years, sports_export, marker='o');\n",
    "plt.plot(years, medicine_export, marker='x');\n"
   ]
  },
  {
   "cell_type": "markdown",
   "id": "4e38184c",
   "metadata": {},
   "source": [
    "### g. Styling the Lines (Line Attributes)\n",
    "- The `plt.plot` function supports many arguments for styling lines\n",
    "    - `color` or `c`: Set the color of the line\n",
    "    - `linestyle` or `ls`: Choose between a solid or dashed line\n",
    "    - `linewidth` or `lw`: Set the width of a line\n",
    "\n",
    "\n",
    "Checkout the supported colors: https://matplotlib.org/3.1.0/gallery/color/named_colors.html\n",
    "\n",
    "Check out the documentation for `plt.plot` to learn more: [https://matplotlib.org/api/_as_gen/matplotlib.pyplot.plot.html#matplotlib.pyplot.plot](https://matplotlib.org/api/_as_gen/matplotlib.pyplot.plot.html#matplotlib.pyplot.plot) .\n"
   ]
  },
  {
   "cell_type": "code",
   "execution_count": 6,
   "id": "17fa4795",
   "metadata": {},
   "outputs": [
    {
     "data": {
      "image/png": "[encoded data removed]",
      "text/plain": [
       "<Figure size 432x288 with 1 Axes>"
      ]
     },
     "metadata": {
      "needs_background": "light"
     },
     "output_type": "display_data"
    }
   ],
   "source": [
    "# Example : Graph showing export of sports goods + Medicines of a factory in million rupees in last 12 years\n",
    "import numpy as np\n",
    "from matplotlib import pyplot as plt\n",
    "\n",
    "sports_export   = [0.810, 0.831, 0.895, 0.91, 0.915, 0.926, 0.945, 0.931, 0.919, 0.921, 0.920, 0.919]\n",
    "medicine_export = [0.791, 0.818, 0.832, 0.816, 0.840, 0.833, 0.835, 0.838, 0.842, 0.910, 0.930, 0.940]\n",
    "years = range(2010, 2022)\n",
    "\n",
    "\n",
    "# Setting Line Attributes\n",
    "plt.plot(years, sports_export, marker='o',  c='b', ls='-', lw=2, ms=8, mew=2, mec='navy')\n",
    "plt.plot(years, medicine_export, marker='x' , c='r', ls='--', lw=3, ms=10, alpha=.5)\n",
    "\n",
    "plt.title(\"LCI export in last 10 years\")\n",
    "plt.xlabel(\"Years\")\n",
    "plt.ylabel(\"Amount (Million Rs.)\")\n",
    "xvals = [2010, 2012, 2014, 2016, 2018, 2020]\n",
    "yvals = [0.80, 0.82, 0.84, 0.86, 0.88, 0.90, 0.92, 0.94, 0.96, 0.98]\n",
    "plt.xticks(xvals, color='b') # set the ticks on x-axis as x array values\n",
    "plt.yticks(yvals, color='b') # set the ticks on y-axis as y array values\n",
    "plt.title(\"LCI exports in last 12 years\")\n",
    "plt.legend([\"Sports\", \"Medicines\"], loc='upper right')\n",
    "\n",
    "plt.show()"
   ]
  },
  {
   "cell_type": "markdown",
   "id": "5fad5dd4",
   "metadata": {},
   "source": [
    "**Most of the time we just want to set the marker, line style, and line color. The plo.plot() method can be passed a single string for this purpose**\n",
    "\n",
    "```plt.plot(years, sports_export, 'o-g')```\n",
    "Moreover, if you skip the line style, only the markers will be shown\n",
    "Sample code for this is shown below:"
   ]
  },
  {
   "cell_type": "code",
   "execution_count": 7,
   "id": "bf746b26",
   "metadata": {},
   "outputs": [
    {
     "data": {
      "image/png": "[encoded data removed]",
      "text/plain": [
       "<Figure size 432x288 with 1 Axes>"
      ]
     },
     "metadata": {
      "needs_background": "light"
     },
     "output_type": "display_data"
    }
   ],
   "source": [
    "# Example : Graph showing export of sports goods + Medicines of a factory in million rupees in last 12 years\n",
    "import numpy as np\n",
    "from matplotlib import pyplot as plt\n",
    "\n",
    "sports_export   = [0.810, 0.831, 0.895, 0.91, 0.915, 0.926, 0.945, 0.931, 0.919, 0.921, 0.920, 0.919]\n",
    "medicine_export = [0.791, 0.818, 0.832, 0.816, 0.840, 0.833, 0.835, 0.838, 0.842, 0.910, 0.930, 0.940]\n",
    "years = range(2010, 2022)\n",
    "\n",
    "\n",
    "# Setting Line Attributes\n",
    "plt.plot(years, sports_export, 'o-g')\n",
    "plt.plot(years, medicine_export, 'xr')\n",
    "\n",
    "plt.title(\"LCI export in last 10 years\")\n",
    "plt.xlabel(\"Years\")\n",
    "plt.ylabel(\"Amount (Million Rs.)\")\n",
    "xvals = [2010, 2012, 2014, 2016, 2018, 2020]\n",
    "yvals = [0.80, 0.82, 0.84, 0.86, 0.88, 0.90, 0.92, 0.94, 0.96, 0.98]\n",
    "plt.xticks(xvals, color='b') # set the ticks on x-axis as x array values\n",
    "plt.yticks(yvals, color='b') # set the ticks on y-axis as y array values\n",
    "plt.title(\"LCI exports in last 12 years\")\n",
    "plt.legend([\"Sports\", \"Medicines\"], loc='upper right')\n",
    "\n",
    "plt.show()"
   ]
  },
  {
   "cell_type": "markdown",
   "id": "d843efa1",
   "metadata": {},
   "source": [
    "### h. Changing Figure Size\n",
    "You can use the `plt.figure` function to change the size of the figure."
   ]
  },
  {
   "cell_type": "code",
   "execution_count": 8,
   "id": "fdbe57e3",
   "metadata": {},
   "outputs": [
    {
     "data": {
      "image/png": "[encoded data removed]",
      "text/plain": [
       "<Figure size 864x432 with 1 Axes>"
      ]
     },
     "metadata": {
      "needs_background": "light"
     },
     "output_type": "display_data"
    }
   ],
   "source": [
    "# Example : Graph showing export of sports goods + Medicines of a factory in million rupees in last 12 years\n",
    "import numpy as np\n",
    "from matplotlib import pyplot as plt\n",
    "\n",
    "sports_export   = [0.810, 0.831, 0.895, 0.91, 0.915, 0.926, 0.945, 0.931, 0.919, 0.921, 0.920, 0.919]\n",
    "medicine_export = [0.791, 0.818, 0.832, 0.816, 0.840, 0.833, 0.835, 0.838, 0.842, 0.910, 0.930, 0.940]\n",
    "years = range(2010, 2022)\n",
    "\n",
    "# Setting the figure size\n",
    "plt.figure(figsize=(12, 6))\n",
    "\n",
    "# Setting Line Attributes\n",
    "plt.plot(years, sports_export, 'o-g')\n",
    "plt.plot(years, medicine_export, 'x:r')\n",
    "\n",
    "plt.title(\"LCI export in last 10 years\")\n",
    "plt.xlabel(\"Years\")\n",
    "plt.ylabel(\"Amount (Million Rs.)\")\n",
    "xvals = [2010, 2012, 2014, 2016, 2018, 2020]\n",
    "yvals = [0.80, 0.82, 0.84, 0.86, 0.88, 0.90, 0.92, 0.94, 0.96, 0.98]\n",
    "plt.xticks(xvals, color='b') # set the ticks on x-axis as x array values\n",
    "plt.yticks(yvals, color='b') # set the ticks on y-axis as y array values\n",
    "plt.title(\"LCI exports in last 12 years\")\n",
    "plt.legend([\"Sports\", \"Medicines\"], loc='upper right')\n",
    "\n",
    "plt.show()"
   ]
  },
  {
   "cell_type": "markdown",
   "id": "5a234940",
   "metadata": {},
   "source": [
    "### i. Using Annotation\n",
    ">Annotate is a piece of text that identifies a specific data point on a graph, designed to help users understand charts. For example, annotate can be used to give a detailed explanation.\n",
    "The uses of the basic text() will place text at an arbitrary position on the Axes. A common use case of text is to annotate some feature of the plot, and the annotate() method provides helper functionality to make annotations easy. In an annotation, there are two points to consider: \n",
    ">- the location being annotated represented by the argument xy \n",
    ">- and the location of the text xytext. Both of these arguments are (x,y) tuples.\n",
    ">- arrow can be drawn using arrowprops argument"
   ]
  },
  {
   "cell_type": "code",
   "execution_count": 9,
   "id": "56a6c1a7",
   "metadata": {},
   "outputs": [
    {
     "data": {
      "image/png": "[encoded data removed]",
      "text/plain": [
       "<Figure size 864x432 with 1 Axes>"
      ]
     },
     "metadata": {
      "needs_background": "light"
     },
     "output_type": "display_data"
    }
   ],
   "source": [
    "# Example : Graph showing export of sports goods + Medicines of a factory in million rupees in last 12 years\n",
    "import numpy as np\n",
    "from matplotlib import pyplot as plt\n",
    "\n",
    "sports_export   = [0.810, 0.831, 0.895, 0.91, 0.915, 0.926, 0.945, 0.931, 0.919, 0.921, 0.920, 0.919]\n",
    "medicine_export = [0.791, 0.818, 0.832, 0.816, 0.840, 0.833, 0.835, 0.838, 0.842, 0.910, 0.930, 0.940]\n",
    "years = range(2010, 2022)\n",
    "\n",
    "\n",
    "plt.figure(figsize=(12, 6))\n",
    "\n",
    "# Setting Line Attributes\n",
    "plt.plot(years, sports_export, 'o-g')\n",
    "plt.plot(years, medicine_export, 'x:r')\n",
    "\n",
    "plt.title(\"LCI export in last 10 years\")\n",
    "plt.xlabel(\"Years\")\n",
    "plt.ylabel(\"Amount (Million Rs.)\")\n",
    "xvals = [2010, 2012, 2014, 2016, 2018, 2020]\n",
    "yvals = [0.80, 0.82, 0.84, 0.86, 0.88, 0.90, 0.92, 0.94, 0.96, 0.98]\n",
    "plt.xticks(xvals, color='b') # set the ticks on x-axis as x array values\n",
    "plt.yticks(yvals, color='b') # set the ticks on y-axis as y array values\n",
    "plt.title(\"LCI exports in last 12 years\")\n",
    "plt.legend([\"Sports\", \"Medicines\"], loc='upper right')\n",
    "\n",
    "\n",
    "# setting Annotation that point to the cosine function using an arrow\n",
    "plt.annotate('Medicines', xy=(2019, 0.9), xytext=(2020, 0.87), arrowprops=dict(facecolor='red'))\n",
    "plt.annotate('Sports', xy=(2017, 0.92), xytext=(2015, 0.89), arrowprops=dict(facecolor='green'))\n",
    "# or you can add simple text as annotation at a specific location\n",
    "#plt.text(6, -.75, \"two functions\")\n",
    "\n",
    "\n",
    "\n",
    "\n",
    "plt.show()"
   ]
  },
  {
   "cell_type": "markdown",
   "id": "ed5fef83",
   "metadata": {},
   "source": [
    "### j. Setting Spines\n",
    ">- Spines are lines that connect the axis tick marks to one another. Spines also note the boundaries of the data area. They can be placed in any position we want. By default, they are the boundary of the entire axes. So, for an axes, we have four spines: top, bottom, left, and right.\n",
    ">- At times we want to have the right and top spines "
   ]
  },
  {
   "cell_type": "code",
   "execution_count": 10,
   "id": "8f4e9b68",
   "metadata": {},
   "outputs": [
    {
     "data": {
      "image/png": "[encoded data removed]",
      "text/plain": [
       "<Figure size 432x288 with 1 Axes>"
      ]
     },
     "metadata": {
      "needs_background": "light"
     },
     "output_type": "display_data"
    }
   ],
   "source": [
    "# Example: Plot graph without top and right spines\n",
    "import numpy as np\n",
    "from matplotlib import pyplot as plt\n",
    "\n",
    "sports_export   = [0.810, 0.831, 0.895, 0.91, 0.915, 0.926, 0.945, 0.931, 0.919, 0.921, 0.920, 0.919]\n",
    "medicine_export = [0.791, 0.818, 0.832, 0.816, 0.840, 0.833, 0.835, 0.838, 0.842, 0.910, 0.930, 0.940]\n",
    "years = range(2010, 2022)\n",
    "\n",
    "# spines are the property of axes so first we need to set the axes object using subplots method\n",
    "fig, axes = plt.subplots(1,1)\n",
    "# and then we can remove the spines of our choice using axes\n",
    "axes.spines['top'].set_visible(False)\n",
    "axes.spines['right'].set_visible(False)\n",
    "\n",
    "\n",
    "plt.plot(years, sports_export, 'o-g')\n",
    "plt.plot(years, medicine_export, 'x:r')\n",
    "\n",
    "plt.title(\"LCI export in last 10 years\")\n",
    "plt.xlabel(\"Years\")\n",
    "plt.ylabel(\"Amount (Million Rs.)\")\n",
    "xvals = [2010, 2012, 2014, 2016, 2018, 2020]\n",
    "yvals = [0.80, 0.82, 0.84, 0.86, 0.88, 0.90, 0.92, 0.94, 0.96, 0.98]\n",
    "plt.xticks(xvals, color='b') # set the ticks on x-axis as x array values\n",
    "plt.yticks(yvals, color='b') # set the ticks on y-axis as y array values\n",
    "plt.title(\"LCI exports in last 12 years\")\n",
    "plt.legend([\"Sports\", \"Medicines\"], loc='upper right')\n",
    "\n",
    "plt.show()"
   ]
  },
  {
   "cell_type": "code",
   "execution_count": null,
   "id": "a1cd087f",
   "metadata": {},
   "outputs": [],
   "source": []
  },
  {
   "cell_type": "code",
   "execution_count": null,
   "id": "6b6b7e4d",
   "metadata": {},
   "outputs": [],
   "source": []
  },
  {
   "cell_type": "code",
   "execution_count": null,
   "id": "2b080104",
   "metadata": {},
   "outputs": [],
   "source": []
  },
  {
   "cell_type": "markdown",
   "id": "822f09aa",
   "metadata": {},
   "source": [
    "## 3. Introduction to Seaborn Library\n",
    "- Seaborn is a data visualization library built on top of Matplotlib.\n",
    "- One can choose from a variety of available styles in the Seaborn library, which can be applied globally using the `sns.set_style` function. This makes you create attractive and informative statistical graphs in far less lines of code than Matplotlib.\n",
    "- It provides a high-level interface for drawing attractive and informative statistical graphics.\n",
    "- Another advantage of Seaborn is that it easily integrates with functionalities provided by Pandas dataframes. \n",
    "- You can see a full list of predefined styles here: https://seaborn.pydata.org/generated/seaborn.set_style.html ."
   ]
  },
  {
   "cell_type": "code",
   "execution_count": null,
   "id": "99a71935",
   "metadata": {},
   "outputs": [],
   "source": [
    "# To install this library in Jupyter notebook\n",
    "import sys\n",
    "!{sys.executable} -m pip install seaborn --quiet"
   ]
  },
  {
   "cell_type": "code",
   "execution_count": null,
   "id": "2aa732b4",
   "metadata": {},
   "outputs": [],
   "source": [
    "import seaborn as sns\n",
    "sns.__version__ , sns.__path__"
   ]
  },
  {
   "cell_type": "markdown",
   "id": "6bb1244c",
   "metadata": {},
   "source": [
    "## 4. Line Chart using Seaborn"
   ]
  },
  {
   "cell_type": "markdown",
   "id": "94c984fc",
   "metadata": {},
   "source": [
    "### a. Line Chart of LCI Dataset"
   ]
  },
  {
   "cell_type": "code",
   "execution_count": null,
   "id": "3a9ea3d8",
   "metadata": {},
   "outputs": [],
   "source": [
    "import seaborn as sns\n",
    "from matplotlib import pyplot as plt\n",
    "\n",
    "# Dataset of LCI\n",
    "sports_export   = [0.810, 0.831, 0.895, 0.91, 0.915, 0.926, 0.945, 0.931, 0.919, 0.921, 0.920, 0.919]\n",
    "medicine_export = [0.791, 0.818, 0.832, 0.816, 0.840, 0.833, 0.835, 0.838, 0.842, 0.910, 0.930, 0.940]\n",
    "years = range(2010, 2022)\n",
    "\n",
    "# Set the stype\n",
    "sns.set_style(\"darkgrid\")\n",
    "sns.set_style(\"whitegrid\")\n",
    "\n",
    "#Draw the line plot of seaborn\n",
    "sns.lineplot(x = years, y=sports_export)\n",
    "sns.lineplot(x = years, y=medicine_export)\n",
    "plt.show()"
   ]
  },
  {
   "cell_type": "markdown",
   "id": "83bea962",
   "metadata": {},
   "source": [
    "**You can use all the methods of pyplot module as discussed above**"
   ]
  },
  {
   "cell_type": "code",
   "execution_count": 2,
   "id": "52462399",
   "metadata": {},
   "outputs": [
    {
     "data": {
      "image/png": "[encoded data removed]",
      "text/plain": [
       "<Figure size 432x288 with 1 Axes>"
      ]
     },
     "metadata": {},
     "output_type": "display_data"
    }
   ],
   "source": [
    "import seaborn as sns\n",
    "from matplotlib import pyplot as plt\n",
    "\n",
    "# Dataset of LCI\n",
    "sports_export   = [0.810, 0.831, 0.895, 0.91, 0.915, 0.926, 0.945, 0.931, 0.919, 0.921, 0.920, 0.919]\n",
    "medicine_export = [0.791, 0.818, 0.832, 0.816, 0.840, 0.833, 0.835, 0.838, 0.842, 0.910, 0.930, 0.940]\n",
    "years = range(2010, 2022)\n",
    "\n",
    "\n",
    "# Use all the methods of pyplot as discussed above\n",
    "plt.plot(years, sports_export, 'o-g')\n",
    "plt.plot(years, medicine_export, 'x:r')\n",
    "plt.title(\"LCI export in last 10 years\")\n",
    "plt.xlabel(\"Years\")\n",
    "plt.ylabel(\"Amount (Million Rs.)\")\n",
    "xvals = [2010, 2012, 2014, 2016, 2018, 2020]\n",
    "yvals = [0.80, 0.82, 0.84, 0.86, 0.88, 0.90, 0.92, 0.94, 0.96, 0.98]\n",
    "plt.xticks(xvals, color='b') # set the ticks on x-axis as x array values\n",
    "plt.yticks(yvals, color='b') # set the ticks on y-axis as y array values\n",
    "plt.title(\"LCI exports in last 12 years\")\n",
    "plt.legend([\"Sports\", \"Medicines\"], loc='upper left')\n",
    "\n",
    "\n",
    "#Draw the line plot of seaborn\n",
    "sns.set_style(\"whitegrid\")\n",
    "sns.lineplot(x = years, y=sports_export);\n",
    "sns.lineplot(x = years, y=medicine_export);\n",
    "#plt.show()\n",
    "\n",
    "#plt.show()"
   ]
  },
  {
   "cell_type": "markdown",
   "id": "57fc6aad",
   "metadata": {},
   "source": [
    "### b. Using Built-in Datasets of Seaborn Library"
   ]
  },
  {
   "cell_type": "code",
   "execution_count": null,
   "id": "d8d83c25",
   "metadata": {},
   "outputs": [],
   "source": [
    "import seaborn as sns\n",
    "# To handle URLError: <urlopen error [SSL: CERTIFICATE_VERIFY_FAILED] ... unable to get local issuer certificate>\n",
    "import ssl\n",
    "ssl._create_default_https_context = ssl._create_unverified_context\n",
    "\n",
    "sns.get_dataset_names()"
   ]
  },
  {
   "cell_type": "code",
   "execution_count": null,
   "id": "ae6c5f79",
   "metadata": {},
   "outputs": [],
   "source": [
    "df = sns.load_dataset(\"iris\")\n",
    "df.head()"
   ]
  },
  {
   "cell_type": "code",
   "execution_count": null,
   "id": "1fbe34f9",
   "metadata": {},
   "outputs": [],
   "source": [
    "# draw lineplot between sepal_length and sepal_width column\n",
    "import seaborn as sns\n",
    "sns.lineplot(x=\"sepal_length\", y=\"sepal_width\", data=df);\n",
    "#plt.show()"
   ]
  },
  {
   "cell_type": "code",
   "execution_count": null,
   "id": "10c57da4",
   "metadata": {},
   "outputs": [],
   "source": []
  },
  {
   "cell_type": "code",
   "execution_count": null,
   "id": "799e7295",
   "metadata": {},
   "outputs": [],
   "source": []
  },
  {
   "cell_type": "code",
   "execution_count": null,
   "id": "aec9151c",
   "metadata": {},
   "outputs": [],
   "source": []
  },
  {
   "cell_type": "markdown",
   "id": "c54320b5",
   "metadata": {},
   "source": [
    "## Scatter Plot\n",
    "\n",
    "In a scatter plot, the values of 2 variables are plotted as points on a 2-dimensional grid. Additionally, you can also use a third variable to determine the size or color of the points. Let's try out an example.\n",
    "\n",
    "The [Iris flower dataset](https://en.wikipedia.org/wiki/Iris_flower_data_set) provides sample measurements of sepals and petals for three species of flowers. The Iris dataset is included with the Seaborn library and can be loaded as a Pandas data frame."
   ]
  },
  {
   "cell_type": "code",
   "execution_count": null,
   "id": "9496e264",
   "metadata": {},
   "outputs": [],
   "source": []
  },
  {
   "cell_type": "code",
   "execution_count": null,
   "id": "533b9b60",
   "metadata": {},
   "outputs": [],
   "source": []
  },
  {
   "cell_type": "code",
   "execution_count": null,
   "id": "fc2a93d7",
   "metadata": {},
   "outputs": [],
   "source": []
  },
  {
   "cell_type": "markdown",
   "id": "43065e00",
   "metadata": {},
   "source": [
    "### j. Adding Sub-plots and Initializing Grid\n",
    ">- The subplots() function takes three arguments that describes the layout of the figure.\n",
    "The layout is organized in `rows` and `columns`, which are represented by the first and second argument.\n",
    ">- The `third` argument represents the index of the current plot. You can draw as many plots you like on one figure, just descibe the number of rows, columns, and the index of the plot\n",
    ">- subplots() has two options: nrows and ncols. These options return a figure instance and an array of axes objects, respectively\n",
    ">- We can easily change the layout of a figure’s subplots by changing the values of nrows and ncols."
   ]
  },
  {
   "cell_type": "code",
   "execution_count": null,
   "id": "6489b70a",
   "metadata": {},
   "outputs": [],
   "source": [
    "# Column Wise Sub-Plots\n",
    "import numpy as np\n",
    "from matplotlib import pyplot as plt\n",
    "\n",
    "x = np.linspace(0, 11, 100)\n",
    "\n",
    "# Adding subplot on 1st row, 3rd column and 1st index   `subplot(nrows, ncols, index, **kwargs)`\n",
    "plt.subplot(1,3,1)\n",
    "plt.plot(x, np.sin(x), color ='g')\n",
    "plt.title(\"Line plot for x and sin(x)\")\n",
    "plt.xlabel(\"x-axis\")\n",
    "plt.ylabel(\"y-axis\")\n",
    "# initializing grid\n",
    "plt.grid(True)\n",
    "\n",
    "\n",
    "# create a subplot of 2 rows and 1 column and set figure and axes objects\n",
    "fig, axe = plt.subplots(nrows=1, ncols=2)\n",
    "# use the tight_layout to avoid the overlapping/clipping\n",
    "# This layout helps us adjust our elements to fit them comfortably onto the figure\n",
    "plt.tight_layout()\n",
    "\n",
    "\n",
    "# use axes object to plot histograms in subplots, for example plot on 0th row, 0th column\n",
    "axe[0][0].plot(x, np.cos(x), color='orange')\n",
    "axe[0][0].set_title(\"Line plot for x and cos(x)\")\n",
    "\n",
    "\n",
    "# use axes object to plot histograms in subplots, for example plot on 0th row, 1st column\n",
    "axe[0][0].plot(x, np.sin(x), color='orange')\n",
    "axe[0][0].set_title(\"Line plot for x and sin(x)\")\n",
    "\n",
    "# initializing grid\n",
    "plt.grid(True)\n",
    "\n",
    "\n",
    "# show line plot\n",
    "plt.show()\n",
    "\n"
   ]
  },
  {
   "cell_type": "code",
   "execution_count": null,
   "id": "d1f85250",
   "metadata": {},
   "outputs": [],
   "source": [
    "# Column Wise Sub-Plots\n",
    "import numpy as np\n",
    "from matplotlib import pyplot as plt\n",
    "\n",
    "x = np.linspace(0, 11, 100)\n",
    "\n",
    "# Adding subplot on 1st row, 3rd column and 1st index   `subplot(nrows, ncols, index, **kwargs)`\n",
    "plt.subplot(1,3,1)\n",
    "plt.plot(x, np.sin(x), color ='g')\n",
    "plt.title(\"Line plot for x and sin(x)\")\n",
    "plt.xlabel(\"x-axis\")\n",
    "plt.ylabel(\"y-axis\")\n",
    "# initializing grid\n",
    "plt.grid(True)\n",
    "\n",
    "\n",
    "# Adding subplot on 1st row, 2nd column and 2nd index\n",
    "plt.subplot(1,2,2)\n",
    "plt.plot(x, np.cos(x), color='orange')\n",
    "plt.title(\"Line plot for x and cos(x)\")\n",
    "plt.xlabel(\"x-axis\")\n",
    "plt.ylabel(\"y-axis\")\n",
    "# initializing grid\n",
    "plt.grid(True)\n",
    "\n",
    "\n",
    "# show line plot\n",
    "plt.show()\n",
    "\n"
   ]
  },
  {
   "cell_type": "code",
   "execution_count": null,
   "id": "4eac8560",
   "metadata": {},
   "outputs": [],
   "source": [
    "# Other way is adding row-wise subplots\n",
    "\n",
    "# adding subplot on 2nd row 1st column and 1st index\n",
    "plt.subplot(2,1,1)\n",
    "plt.plot(x, np.cos(x))\n",
    "\n",
    "# adding title\n",
    "plt.title(\"Line plot for x and cos(x)\")\n",
    "# adding labels\n",
    "# plt.xlabel(\"x-axis\")\n",
    "plt.ylabel(\"y-axis\")\n",
    "# adding grid\n",
    "plt.grid(axis='y', color = 'r', linestyle = '-.', linewidth = 2)\n",
    "\n",
    "\n",
    "# adding subplot on 2nd row 1st column and 2nd index\n",
    "plt.subplot(2,1,2)\n",
    "plt.plot(x, np.sin(x), color='orange')\n",
    "\n",
    "# adding title\n",
    "plt.title(\"Line plot for x and sin(x)\")\n",
    "# adding labels\n",
    "plt.xlabel(\"x-axis\")\n",
    "plt.ylabel(\"y-axis\")\n",
    "\n",
    "# using tight layout to prevent clipping/overlappin\n",
    "plt.tight_layout()\n",
    "# adding grid\n",
    "plt.grid(axis='x', color = 'green', linestyle = '--', linewidth = 1)\n",
    "\n",
    "# show line plot\n",
    "plt.show()"
   ]
  },
  {
   "cell_type": "markdown",
   "id": "d017ce5b",
   "metadata": {},
   "source": [
    "### 3. Bar-plot\n",
    ">- Bar charts are quite similar to line charts, i.e., they show a sequence of values. However, a bar is shown for each value, rather than points connected by lines. We can use the `plt.bar` function to draw a bar chart.\n",
    ">- Bar-plot is used when we want to understand the distribution of categorical values. For example, bar charts are useful if we want to plot car sales in different months, the number of people in different countries, or the average salary of a job by region.\n"
   ]
  },
  {
   "cell_type": "markdown",
   "id": "14e544db",
   "metadata": {},
   "source": [
    "#### a. Draw Vertical Bar-plot"
   ]
  },
  {
   "cell_type": "code",
   "execution_count": null,
   "id": "e1d37c9f",
   "metadata": {},
   "outputs": [],
   "source": [
    "# import the required modules\n",
    "import numpy as np\n",
    "from matplotlib import pyplot as plt\n",
    "\n",
    "# creating a dict type object\n",
    "student = {\"Hadeed\" : 85, \"Maaz\" : 45, \"Mujahid\" : 60, \"Mohid\" : 70, \"Kamal\" : 83, \"Jamal\": 35}\n",
    "\n",
    "# Extracting keys from dictionary\n",
    "names = list(student.keys())\n",
    "# Extracting values from dictionary\n",
    "marks = list(student.values())\n",
    "\n",
    "# Draw bar plot between names and marks of the student\n",
    "plt.bar(names, marks)\n",
    "\n",
    "# adding title\n",
    "plt.title(\"Distribution of Student Marks\")\n",
    "# adding labels\n",
    "plt.xlabel(\"Names of Students\")\n",
    "plt.ylabel(\"Marks of Students\")\n",
    "\n",
    "# changing tick color on x-axis\n",
    "plt.xticks(color='b')\n",
    "\n",
    "# show plot\n",
    "plt.show()"
   ]
  },
  {
   "cell_type": "markdown",
   "id": "b2a4f263",
   "metadata": {},
   "source": [
    "#### b. Plot more than One bar in Chart\n",
    "Many times, multiple sets of data are bound to the same variable. In these cases, we need to show the data together on the same chart for comparison. On a bar chart, we can do this by using two sets of bars.\n",
    "\n",
    "- For different data groups, we have to set different data points on the x-axis. Otherwise, the bar will be overridden. As we can see from the code below, the first bar uses the index for its x-axis data points. The second bar uses the index + 0.3 (the width of the bar) for its x-axis data points.\n",
    "\n",
    "\n",
    "- If we have more than one group of data to draw, the bar width parameter should be set smaller.\n",
    "\n",
    "\n",
    "- If we want to identify our categorical data, we need to use set_xticklabels to set the tick labels."
   ]
  },
  {
   "cell_type": "code",
   "execution_count": null,
   "id": "eaf02b96",
   "metadata": {},
   "outputs": [],
   "source": [
    "# import the required modules\n",
    "import numpy as np\n",
    "from matplotlib import pyplot as plt\n",
    "\n",
    "# creating a list of students and their marks in two different subjects \n",
    "student = [\"Hadeed\", \"Maaz\", \"Mujahid\", \"Mohid\", \"Kamal\",  \"Jamal\"]\n",
    "sub1 = [85, 45, 60, 70, 83, 35]\n",
    "sub2 = [82, 47, 63, 69, 81, 38]\n",
    "\n",
    "# create an index array equal to the length of student list\n",
    "index = np.arange(len(student))\n",
    "\n",
    "\n",
    "# Draw bar plot between index on x-axis and marks of the student on y-axis with bar-width 0.3\n",
    "plt.bar(index, sub1, width=0.3)\n",
    "# Draw bar plot between index+0.3 (to prevent overlapping) on x-axis and marks of the student on y-axis with bar-width 0.3\n",
    "plt.bar(index + 0.3, sub2, width=0.3)\n",
    "\n",
    "# adding title\n",
    "plt.title(\"Distribution of Student Marks\")\n",
    "# adding labels\n",
    "plt.xlabel(\"Names of Students\")\n",
    "plt.ylabel(\"Marks of Students\")\n",
    "\n",
    "# setting tick clabels on x-axis\n",
    "plt.xticks(index+0.15, student, color='g')\n",
    "\n",
    "\n",
    "# show plot\n",
    "plt.show()"
   ]
  },
  {
   "cell_type": "markdown",
   "id": "c6feacf5",
   "metadata": {},
   "source": [
    "#### c. Draw Horizontal Bar-plot"
   ]
  },
  {
   "cell_type": "code",
   "execution_count": 1,
   "id": "3bc35dd9",
   "metadata": {},
   "outputs": [
    {
     "data": {
      "image/png": "[encoded data removed]",
      "text/plain": [
       "<Figure size 432x288 with 1 Axes>"
      ]
     },
     "metadata": {
      "needs_background": "light"
     },
     "output_type": "display_data"
    }
   ],
   "source": [
    "# import the required modules\n",
    "import numpy as np\n",
    "from matplotlib import pyplot as plt\n",
    "\n",
    "# creating a list of students and their marks in two different subjects\n",
    "student = [\"Hadeed\", \"Maaz\", \"Mujahid\", \"Mohid\", \"Kamal\",  \"Jamal\"]\n",
    "sub1 = [85, 45, 60, 70, 83, 35]\n",
    "sub2 = [82, 47, 63, 69, 81, 38]\n",
    "\n",
    "# create an index array equal to the length of student list\n",
    "index = np.arange(len(student))\n",
    "\n",
    "\n",
    "\n",
    "# Draw horizontal bar plot between index on x-axis and marks of the student on y-axis with bar-height 0.3\n",
    "plt.barh(index, sub1, height=0.3)\n",
    "plt.barh(index+0.3, sub2, height=0.3)\n",
    "\n",
    "# adding title\n",
    "plt.title(\"Distribution of Student Marks\")\n",
    "# adding labels\n",
    "plt.ylabel(\"Names of Students\")\n",
    "plt.xlabel(\"Marks of Students\")\n",
    "\n",
    "# setting tick clabels on y-axis\n",
    "plt.yticks(index+0.15, student, color='g')\n",
    "\n",
    "# show plot\n",
    "plt.show()"
   ]
  },
  {
   "cell_type": "markdown",
   "id": "09ebc67d",
   "metadata": {},
   "source": [
    "#### d. Stacking the bars\n",
    "Stacking the bars is a useful feature that allows us to stack multiple bars on top of each other. We begin by passing the value of the previous bar to the bottom parameter of the next bar."
   ]
  },
  {
   "cell_type": "code",
   "execution_count": 2,
   "id": "47465f04",
   "metadata": {},
   "outputs": [
    {
     "data": {
      "image/png": "[encoded data removed]",
      "text/plain": [
       "<Figure size 432x288 with 1 Axes>"
      ]
     },
     "metadata": {
      "needs_background": "light"
     },
     "output_type": "display_data"
    }
   ],
   "source": [
    "# import the required modules\n",
    "import numpy as np\n",
    "from matplotlib import pyplot as plt\n",
    "\n",
    "# creating a list of students and their marks in two different subjects \n",
    "student = [\"Hadeed\", \"Maaz\", \"Mujahid\", \"Mohid\", \"Kamal\",  \"Jamal\"]\n",
    "values1 = [50, 35, 58, 28, 75, 67]\n",
    "values2 = [95, 75, 36, 65, 85, 47]\n",
    "\n",
    "# create an index array equal to the length of student list\n",
    "index = np.arange(len(student))\n",
    "\n",
    "\n",
    "# Draw bar plot between index on x-axis and marks of the student on y-axis\n",
    "plt.bar(index, sub1, width=0.6)\n",
    "# Draw bar plot between index on x-axis and marks of the student on y-axis\n",
    "# place sub1 value at bottom in stacked bar\n",
    "plt.bar(index, sub2, width=0.6, bottom = sub1)\n",
    "\n",
    "\n",
    "# adding title\n",
    "plt.title(\"Distribution of Student Marks\")\n",
    "# adding labels\n",
    "plt.xlabel(\"Names of Students\")\n",
    "plt.ylabel(\"Marks of Students\")\n",
    "\n",
    "# setting tick clabels on x-axis\n",
    "plt.xticks(index+0.15, student, color='g')\n",
    "\n",
    "\n",
    "#setting legend\n",
    "plt.legend([\"subject1\", \"subject2\"], loc='upper right')\n",
    "\n",
    "# show plot\n",
    "plt.show()"
   ]
  },
  {
   "cell_type": "code",
   "execution_count": null,
   "id": "ff68ab4c",
   "metadata": {},
   "outputs": [],
   "source": []
  },
  {
   "cell_type": "markdown",
   "id": "659c7612",
   "metadata": {},
   "source": [
    "### 4. Scatter plot\n",
    "A scatter plot is used to plot data points on a figure based on the horizontal and vertical axes. Scatter plots can be used to show the relationship between two variables. They can also show how data clusters in a dataset. One of the most striking features of drawing scatter plots in Matplotlib is the ability to set different colors and sizes for individual data points by using additional variables."
   ]
  },
  {
   "cell_type": "markdown",
   "id": "ce68929a",
   "metadata": {},
   "source": [
    "#### a. Draw Scatter-plot"
   ]
  },
  {
   "cell_type": "code",
   "execution_count": null,
   "id": "63a44175",
   "metadata": {},
   "outputs": [],
   "source": [
    "# import the required modules\n",
    "import numpy as np\n",
    "from matplotlib import pyplot as plt\n",
    "\n",
    "# Creating list of integrs\n",
    "l1 = [10, 15, 20, 25, 30, 35, 40, 50, 60, 70, 80, 90]\n",
    "l2 = [8, 4, 2, 3, 1, 7, 2, 0, 3, 7, 3, 10]\n",
    "l3 = np.linspace(1,11,12)\n",
    "\n",
    "# Draw Scatter plot where two points intersect in l1 and l2\n",
    "plt.scatter(l1, l2)\n",
    "# Draw Scatter plot where two points intersect in l1 and l3\n",
    "plt.scatter(l1, l3, marker = 'x', s=50, color='orange')\n",
    "# Draw Scatter plot where two points intersect in l2 and l3\n",
    "plt.scatter(l2, l3, marker = '*', s=50, color='black')\n",
    "\n",
    "# adding title\n",
    "plt.title(\"Scatter Plot\")\n",
    "# axis will also be changes when drawing horizontal bar-plot\n",
    "plt.xlabel(\"List 1\")\n",
    "plt.ylabel(\"List 2\")\n",
    "\n",
    "# adding legend\n",
    "plt.legend(['list1', 'list2', 'list3'])\n",
    "\n",
    "plt.show()"
   ]
  },
  {
   "cell_type": "markdown",
   "id": "8ab7f71d",
   "metadata": {},
   "source": [
    "#### b. Draw Scatter plot on Specific Dataset\n",
    "Typically, different sizes and colors can be used to represent data in more complex ways, and can help people better understand what a chart means.\n",
    "\n",
    "   - In this example, we are trying to show the relationship between the prices of some houses and their distances to some locations. In the image below, the x-axis represents the distance to location x, and the y-axis represents the distance to location y. The size of each data point indicates how high or low the price is, and the color indicates how close to the two locations the house is."
   ]
  },
  {
   "cell_type": "code",
   "execution_count": 4,
   "id": "868d0fe3",
   "metadata": {},
   "outputs": [
    {
     "data": {
      "text/html": [
       "<div>\n",
       "<style scoped>\n",
       "    .dataframe tbody tr th:only-of-type {\n",
       "        vertical-align: middle;\n",
       "    }\n",
       "\n",
       "    .dataframe tbody tr th {\n",
       "        vertical-align: top;\n",
       "    }\n",
       "\n",
       "    .dataframe thead th {\n",
       "        text-align: right;\n",
       "    }\n",
       "</style>\n",
       "<table border=\"1\" class=\"dataframe\">\n",
       "  <thead>\n",
       "    <tr style=\"text-align: right;\">\n",
       "      <th></th>\n",
       "      <th>x</th>\n",
       "      <th>y</th>\n",
       "      <th>price</th>\n",
       "    </tr>\n",
       "  </thead>\n",
       "  <tbody>\n",
       "    <tr>\n",
       "      <th>0</th>\n",
       "      <td>1</td>\n",
       "      <td>3</td>\n",
       "      <td>100</td>\n",
       "    </tr>\n",
       "    <tr>\n",
       "      <th>1</th>\n",
       "      <td>7</td>\n",
       "      <td>3</td>\n",
       "      <td>200</td>\n",
       "    </tr>\n",
       "    <tr>\n",
       "      <th>2</th>\n",
       "      <td>2</td>\n",
       "      <td>4</td>\n",
       "      <td>300</td>\n",
       "    </tr>\n",
       "    <tr>\n",
       "      <th>3</th>\n",
       "      <td>9</td>\n",
       "      <td>5</td>\n",
       "      <td>700</td>\n",
       "    </tr>\n",
       "    <tr>\n",
       "      <th>4</th>\n",
       "      <td>5</td>\n",
       "      <td>1</td>\n",
       "      <td>140</td>\n",
       "    </tr>\n",
       "    <tr>\n",
       "      <th>5</th>\n",
       "      <td>2</td>\n",
       "      <td>4</td>\n",
       "      <td>340</td>\n",
       "    </tr>\n",
       "    <tr>\n",
       "      <th>6</th>\n",
       "      <td>8</td>\n",
       "      <td>9</td>\n",
       "      <td>1600</td>\n",
       "    </tr>\n",
       "    <tr>\n",
       "      <th>7</th>\n",
       "      <td>7</td>\n",
       "      <td>6</td>\n",
       "      <td>800</td>\n",
       "    </tr>\n",
       "    <tr>\n",
       "      <th>8</th>\n",
       "      <td>2</td>\n",
       "      <td>8</td>\n",
       "      <td>230</td>\n",
       "    </tr>\n",
       "    <tr>\n",
       "      <th>9</th>\n",
       "      <td>6</td>\n",
       "      <td>2</td>\n",
       "      <td>380</td>\n",
       "    </tr>\n",
       "    <tr>\n",
       "      <th>10</th>\n",
       "      <td>8</td>\n",
       "      <td>7</td>\n",
       "      <td>880</td>\n",
       "    </tr>\n",
       "  </tbody>\n",
       "</table>\n",
       "</div>"
      ],
      "text/plain": [
       "    x  y  price\n",
       "0   1  3    100\n",
       "1   7  3    200\n",
       "2   2  4    300\n",
       "3   9  5    700\n",
       "4   5  1    140\n",
       "5   2  4    340\n",
       "6   8  9   1600\n",
       "7   7  6    800\n",
       "8   2  8    230\n",
       "9   6  2    380\n",
       "10  8  7    880"
      ]
     },
     "execution_count": 4,
     "metadata": {},
     "output_type": "execute_result"
    }
   ],
   "source": [
    "# import required libraries\n",
    "import numpy as np\n",
    "import matplotlib.pyplot as plt\n",
    "import pandas as pd\n",
    "\n",
    "# reading data from a CSV file\n",
    "df = pd.read_csv(\"datasets/data.csv\", sep=\",\", header=0)\n",
    "\n",
    "df"
   ]
  },
  {
   "cell_type": "code",
   "execution_count": 5,
   "id": "9d3bfabd",
   "metadata": {},
   "outputs": [
    {
     "data": {
      "image/png": "[encoded data removed]",
      "text/plain": [
       "<Figure size 432x288 with 1 Axes>"
      ]
     },
     "metadata": {
      "needs_background": "light"
     },
     "output_type": "display_data"
    }
   ],
   "source": [
    "# reading values from dataframe in x and y \n",
    "x = df[\"x\"]\n",
    "y = df[\"y\"]\n",
    "\n",
    "# set the sizes of marker in scatter plot as the multiple of price column\n",
    "sizes = df[\"price\"].astype(int)*2\n",
    "\n",
    "# also set the color of markers according to the size\n",
    "colors = sizes\n",
    "\n",
    "# plot data on scatter plot, by passing sizes and colors as parameter\n",
    "plt.scatter(x, y, s=sizes, c=colors, alpha=0.5)           # alpha is the blending value, which we can set between 0 (transparent) and 1 (opaque)\n",
    "\n",
    "# setting labels and title\n",
    "plt.xlabel(\"distance to place X\")\n",
    "plt.ylabel(\"distance to place Y\")\n",
    "plt.title(\"house price in different location\")\n",
    "\n",
    "plt.show()"
   ]
  },
  {
   "cell_type": "code",
   "execution_count": null,
   "id": "82958b64",
   "metadata": {},
   "outputs": [],
   "source": []
  },
  {
   "cell_type": "markdown",
   "id": "08c30f2d",
   "metadata": {},
   "source": [
    "### 5. Plotting Histogram\n",
    "The histogram is an important graph in statistics and data analysis. It can be used to help people quickly understand the distribution of data. In order to draw a histogram, we follow the steps outlined below:\n",
    "\n",
    "- Step 1: Bin the range of your data.\n",
    "- Step 2: Divide the entire range of values into their corresponding bins.\n",
    "- Step 3: Count how many values fall into each different bin"
   ]
  },
  {
   "cell_type": "markdown",
   "id": "39cb3004",
   "metadata": {},
   "source": [
    "#### a. Draw Histogram\n",
    "The function in Matplotlib that we can use to draw a histogram is `hist()`. Below are some of the important parameters that we may need:\n",
    "\n",
    "- `x`: Our input values, either a single list/array or multiple sequences of arrays.\n",
    "- `bins`: If bins is set with an integer, it will define the number of equal-width bins within a range. If bins is set with a sequence, it will define the bin edges, including the left edge of the first bin and the right edge of the last bin.\n",
    "- `histtype`: Sets the style of the histogram. The default value is bar. step generates a line plot that is unfilled by default. stepfilled generates a line plot that is filled by default.\n",
    "- `density`: Sets True or False. The default is set to False. If True, the histogram will be normalized to form a probability density.\n",
    "- `cumulative`: Sets True or -1. If True, then a histogram is computed where each bin gives the count in that bin plus all bins for smaller values."
   ]
  },
  {
   "cell_type": "code",
   "execution_count": null,
   "id": "e424ae86",
   "metadata": {},
   "outputs": [],
   "source": [
    "# import the required modules\n",
    "import numpy as np\n",
    "from matplotlib import pyplot as plt\n",
    "\n",
    "# creating list of intgers\n",
    "num = [2,2,2,5,5,1,6,7,8,3,6,6,9,2,4,5,6]\n",
    "\n",
    "# plot histogram, which shows the frequncy of numbers\n",
    "plt.hist(num)\n",
    "plt.show()\n",
    "# This histogram shows that frequency of 2 and 6 is highest"
   ]
  },
  {
   "cell_type": "markdown",
   "id": "ee7d0234",
   "metadata": {},
   "source": [
    "#### b. Changing Attributes\n"
   ]
  },
  {
   "cell_type": "code",
   "execution_count": null,
   "id": "337804c3",
   "metadata": {},
   "outputs": [],
   "source": [
    "# import required libraries\n",
    "import matplotlib.pyplot as plt\n",
    "import numpy as np\n",
    "\n",
    "# geerating random values withing range from a univariate “normal” (Gaussian) distribution of mean 0 and variance 1.\n",
    "data = np.random.randn(2000)\n",
    "\n",
    "# create a subplot of 2 rows and 2 columns and set figure and axes objects\n",
    "fig, axe = plt.subplots(nrows=2, ncols=2)\n",
    "\n",
    "# use the tight_layout to avoid the overlapping/clipping\n",
    "# This layout helps us adjust our elements to fit them comfortably onto the figure\n",
    "plt.tight_layout()\n",
    "\n",
    "# use axes object to plot histograms in subplots, for example plot histrogram on 0th row, 0th column\n",
    "axe[0][0].hist(data, bins=30)\n",
    "axe[0][0].set_title(\"set bins=30\")\n",
    "\n",
    "# plot histrogram on 0th row, 1st column, by setting density to true which normalized the histogram\n",
    "axe[0][1].hist(data, density=True, color=\"r\")\n",
    "axe[0][1].set_title(\"normalized\")\n",
    "\n",
    "# plot histrogram on 1st row, 0th column,\n",
    "axe[1][0].hist(data, color=\"orange\")\n",
    "axe[1][0].set_title(\"set color as Oranges\")\n",
    "\n",
    "# plot histrogram on 1st row, 1st column, by setting histogram type as step\n",
    "axe[1][1].hist(data, histtype='step')\n",
    "axe[1][1].set_title(\"step\")\n",
    "\n",
    "# show figure\n",
    "plt.show()"
   ]
  },
  {
   "cell_type": "markdown",
   "id": "aa762ff4",
   "metadata": {},
   "source": [
    "#### c. Drawing multiple Histograms in Single Chart\n",
    "Sometimes, we need to compare the distribution of data from different data sets. Drawing multiple histograms in the same chart can help us better understand the data."
   ]
  },
  {
   "cell_type": "code",
   "execution_count": null,
   "id": "c877af95",
   "metadata": {},
   "outputs": [],
   "source": [
    "import matplotlib.pyplot as plt\n",
    "import numpy as np\n",
    "\n",
    "# generating random normally distributed data\n",
    "# normal() method takes mean, standard deviation and count of values to be generated\n",
    "data1 = np.random.normal(0, 1, 3000)\n",
    "data2 = np.random.normal(-2.6, 1.8, 3000)\n",
    "data3 = np.random.normal(2.4, 1.5, 3000)\n",
    "\n",
    "# subplot with no argument plot histograms in single chart\n",
    "fig, axes = plt.subplots()\n",
    "\n",
    "# plot 3 histrograms of stepfilled type, that will represent the normal distribution of data that we have created\n",
    "plt.hist(data1, bins=40, density=True, histtype='stepfilled', alpha=0.3, label=\"mean=0,std=1\")\n",
    "plt.hist(data2, bins=40, density=True, histtype='stepfilled', alpha=0.3, label=\"mean=-2.6,std=1.8\")\n",
    "plt.hist(data3, bins=40, density=True, histtype='stepfilled', alpha=0.3, label=\"mu=2.4,std=1.5\")\n",
    "\n",
    "# set legend\n",
    "plt.legend()\n",
    "\n",
    "# removing spines\n",
    "axes.spines['top'].set_visible(False)\n",
    "axes.spines['right'].set_visible(False)\n",
    "\n",
    "plt.show()"
   ]
  },
  {
   "cell_type": "code",
   "execution_count": null,
   "id": "72b573f5",
   "metadata": {},
   "outputs": [],
   "source": []
  },
  {
   "cell_type": "code",
   "execution_count": null,
   "id": "3cd697b1",
   "metadata": {},
   "outputs": [],
   "source": []
  },
  {
   "cell_type": "markdown",
   "id": "65910db0",
   "metadata": {},
   "source": [
    "### 6. Working with a Built-in Dataset"
   ]
  },
  {
   "cell_type": "markdown",
   "id": "766d1f8c",
   "metadata": {},
   "source": [
    "#### a. Have an insight about Dataset"
   ]
  },
  {
   "cell_type": "code",
   "execution_count": null,
   "id": "d831241c",
   "metadata": {},
   "outputs": [],
   "source": [
    "# let us import a built-in dataset from seaborn library\n",
    "\n",
    "# import required libraries\n",
    "import numpy as np\n",
    "import matplotlib\n",
    "from matplotlib import pyplot as plt\n",
    "import seaborn as sns\n",
    "\n",
    "# import iris dataset and display in dataframe\n",
    "df_iris = sns.load_dataset('iris')\n",
    "df_iris"
   ]
  },
  {
   "cell_type": "markdown",
   "id": "0695aecf",
   "metadata": {},
   "source": [
    "#### a. Draw line-plot, bar-plot,  Scatter-plot and Histogram on Iris Dataset"
   ]
  },
  {
   "cell_type": "code",
   "execution_count": null,
   "id": "de6b3edb",
   "metadata": {},
   "outputs": [],
   "source": [
    "# draw sub-plot\n",
    "fig, axes = plt.subplots(nrows=2, ncols=2, dpi=100)\n",
    "\n",
    "\n",
    "# draw line plot on iris data (between dataframe index and sepal_length column)\n",
    "axes[0][0].plot(df_iris.index, df_iris['sepal_length'], color='r')\n",
    "# setting grid\n",
    "axes[0][0].grid(True)\n",
    "axes[0][0].set_facecolor('#FAEBD7')\n",
    "\n",
    "\n",
    "# draw bar-plot on iris data (between dataframe index and sepal_length column)\n",
    "axes[0][1].bar(df_iris.index, df_iris['sepal_length'])\n",
    "\n",
    "\n",
    "# draw scatter-plot on iris data (between sepal_length and sepal_width column)\n",
    "axes[1][0].scatter(df_iris['sepal_width'], df_iris['sepal_length'], color='orange')\n",
    "# setting grid\n",
    "axes[1][0].grid(True)\n",
    "axes[1][0].set_facecolor('#BDEFE9')\n",
    "\n",
    "\n",
    "# draw histogram-plot on iris data (on sepal_length column)\n",
    "axes[1][1].hist(df_iris['sepal_length'], bins=20, density=True, histtype='stepfilled', alpha=0.3, color='orange')\n",
    "\n",
    "\n",
    "plt.show()"
   ]
  },
  {
   "cell_type": "code",
   "execution_count": null,
   "id": "20c1c35f",
   "metadata": {},
   "outputs": [],
   "source": []
  },
  {
   "cell_type": "markdown",
   "id": "0761b3f3",
   "metadata": {},
   "source": [
    "### 7. Pie Chart\n",
    "Pie charts are often used to highlight the proportion of categorical data in relation to the overall value of a dataset. Pie charts are shaped like a pie, and each category that takes up a part of the pie is shaped like a slice. The larger the slice, the greater the proportion of the overall values it represents.\n",
    "\n",
    "Like with other plot types, the basic function in Matplotlib to plot a pie chart is `pie()`. Below are some of the important parameters we may need:\n",
    "\n",
    "- `x`: The list of data we want to present for each Wedge.\n",
    "- `explode`: Set as None or as a list of values that are the same length as x. Each item in this list indicates how far each wedge deviates from the center of the circle\n",
    "- `labels`: A sequence of string that provides labels for each wedge.\n",
    "- `colors`: Set as None or as a list of colors that are the same length as x.\n",
    "- `shadow`: Set as True or False. the default values is False. Setting true adds a shadow effect.\n",
    "- `counterclock`: Set as True or False. The default value is True. Used to specify the direction of the fractions.\n",
    "- `autopct`: Set as none or as a string to label wedges with their numeric values. The label will be placed inside the wedge."
   ]
  },
  {
   "cell_type": "markdown",
   "id": "a8ce9fd8",
   "metadata": {},
   "source": [
    "#### a. Draw pie chart"
   ]
  },
  {
   "cell_type": "code",
   "execution_count": null,
   "id": "377421fa",
   "metadata": {},
   "outputs": [],
   "source": [
    "import matplotlib.pyplot as plt\n",
    "import numpy as np\n",
    "\n",
    "# creating a list of students and their marks in two different subjects \n",
    "student = [\"Hadeed\", \"Maaz\", \"Mujahid\", \"Mohid\", \"Kamal\",  \"Jamal\"]\n",
    "sub1 = [95, 45, 60, 20, 75, 35]\n",
    "\n",
    "fig, axe = plt.subplots(dpi=100)\n",
    "\n",
    "# plotting pie chart\n",
    "axe.pie(sub1, labels=student)\n",
    "\n",
    "plt.show()"
   ]
  },
  {
   "cell_type": "markdown",
   "id": "945feaea",
   "metadata": {},
   "source": [
    "#### b. Add percentage information to the pie plot"
   ]
  },
  {
   "cell_type": "code",
   "execution_count": null,
   "id": "11d14825",
   "metadata": {},
   "outputs": [],
   "source": [
    "import matplotlib.pyplot as plt\n",
    "import numpy as np\n",
    "\n",
    "# creating a list of students and their marks in two different subjects \n",
    "student = [\"Hadeed\", \"Maaz\", \"Mujahid\", \"Mohid\", \"Kamal\",  \"Jamal\"]\n",
    "sub1 = [95, 45, 60, 20, 75, 35]\n",
    "\n",
    "fig, axe = plt.subplots(dpi=100)\n",
    "\n",
    "# setting autopct as a format string, where the input is the percentage of each wedge\n",
    "#  %.2f%% indicates that two decimal places of a floating point number will be displayed on the chart\n",
    "axe.pie(sub1, labels=student, autopct='%.2f%%')\n",
    "\n",
    "plt.show()"
   ]
  },
  {
   "cell_type": "markdown",
   "id": "b859049c",
   "metadata": {},
   "source": [
    "#### c. Adding explode to the pie\n",
    "Sometimes, we want to focus on a specific category, such as the one with the highest or lowest value. We can use explode to emphasize any number of wedges of the pie. explode allows us to specify an offset value for each category."
   ]
  },
  {
   "cell_type": "code",
   "execution_count": null,
   "id": "87d7daa4",
   "metadata": {},
   "outputs": [],
   "source": [
    "import matplotlib.pyplot as plt\n",
    "import numpy as np\n",
    "\n",
    "# creating a list of students and their marks in two different subjects \n",
    "student = [\"Hadeed\", \"Maaz\", \"Mujahid\", \"Mohid\", \"Kamal\",  \"Jamal\"]\n",
    "sub1 = [95, 45, 60, 20, 75, 35]\n",
    "\n",
    "# setting offset value for marks of each student, where 0.5 is for lowest marks\n",
    "explode = [0,0,0,0.5,0,0]\n",
    "\n",
    "\n",
    "fig, axe = plt.subplots(dpi=100)\n",
    "# adding explode for the minimum value students marks\n",
    "axe.pie(sub1, labels=student, autopct='%.2f%%', explode=explode, colors=['yellow', 'black', 'grey', 'blue', 'orange', 'red'])\n",
    "\n",
    "plt.show()"
   ]
  },
  {
   "cell_type": "code",
   "execution_count": null,
   "id": "1b5bc573",
   "metadata": {},
   "outputs": [],
   "source": []
  },
  {
   "cell_type": "markdown",
   "id": "e9edc39d",
   "metadata": {},
   "source": [
    "### 8. DoughNut-chart"
   ]
  },
  {
   "cell_type": "code",
   "execution_count": null,
   "id": "28f47f2d",
   "metadata": {},
   "outputs": [],
   "source": [
    "import matplotlib.pyplot as plt\n",
    "import numpy as np\n",
    "\n",
    "# creating a list of students and their marks in two different subjects \n",
    "student = [\"Hadeed\", \"Maaz\", \"Mujahid\", \"Mohid\", \"Kamal\",  \"Jamal\"]\n",
    "sub1 = [95, 45, 60, 20, 75, 35]\n",
    "\n",
    "# plotting DoughNut chart using pie method and setting radius\n",
    "plt.pie(sub1, labels=student, autopct='%.2f%%', radius=1.75, colors=['yellow', 'black', 'grey', 'blue', 'orange', 'red'])\n",
    "plt.pie([1], colors='w', radius=0.75)\n",
    "\n",
    "plt.show()"
   ]
  },
  {
   "cell_type": "code",
   "execution_count": null,
   "id": "9c6a5a3f",
   "metadata": {},
   "outputs": [],
   "source": []
  },
  {
   "cell_type": "markdown",
   "id": "22153286",
   "metadata": {},
   "source": [
    "### 9. Boxplot\n",
    "A boxplot is a standardized way of displaying a dataset based on a five-number summary: the minimum, the maximum, the sample median, and the first and third quartiles. In statistics, the boxplot is a method for graphically depicting groups of numerical data through their quartiles.\n",
    "\n",
    "<img align=\"right\" width=\"380\" height=\"100\"  src=\"images/boxplot.png\"  >\n",
    "\n",
    "In Matplotlib, `boxplot()` is the core function to create box plot. Below are some of the important parameters of the function:\n",
    "\n",
    "- `x`: Array or a sequence of vectors. The input data.\n",
    "- `vert`: Set as True or False. The default value is True, which displays the boxes vertically.\n",
    "- `labels`: Sets the labels for each dataset.\n",
    "- `notch`: Set as True or False. the default value is False. If True, the parameter will produce a notched box plot.\n",
    "- `widths`: Sets the width of the box.\n",
    "- `patch_artist`: Set as True or False. the default value is False. If False, the parameter will produce boxes with the Line2D artist. Otherwise, the boxes will be drawn with Patch artists."
   ]
  },
  {
   "cell_type": "code",
   "execution_count": null,
   "id": "15f38a36",
   "metadata": {},
   "outputs": [],
   "source": [
    "# import libraries\n",
    "import matplotlib.pyplot as plt\n",
    "import numpy as np\n",
    "\n",
    "# creating Data\n",
    "list1 = np.random.normal(100, 10, 200)\n",
    "list2 = np.random.normal(90, 20, 200)\n",
    "list3 = np.random.normal(120, 25, 200)\n",
    "list4 = np.random.normal(130, 30, 200)\n",
    "\n",
    "values = [list1, list2, list3, list4]\n",
    "labels = [\"list1\", \"list2\", \"list3\", \"list4\"]\n",
    "\n",
    "# plotting boxplot\n",
    "plt.boxplot(values, labels=labels, patch_artist=True)\n",
    "\n",
    "plt.show()"
   ]
  },
  {
   "cell_type": "markdown",
   "id": "be237f5c",
   "metadata": {},
   "source": [
    "### 10. Violin-plot\n",
    "Violin plots are similar to box plots, except that they also show the probability density of the data at different values. These plots include a marker for the median of the data and a box indicating the interquartile range, as in the standard box plots.\n",
    "\n",
    "A violin plot is more informative than a plain box plot. In fact while a box plot only shows summary statistics such as mean/median and interquartile ranges, the violin plot shows the full distribution of the data."
   ]
  },
  {
   "cell_type": "code",
   "execution_count": null,
   "id": "0c9d4594",
   "metadata": {},
   "outputs": [],
   "source": [
    "# import libraries\n",
    "import matplotlib.pyplot as plt\n",
    "import numpy as np\n",
    "\n",
    "# creating Data\n",
    "list1 = np.random.normal(100, 10, 200)\n",
    "list2 = np.random.normal(90, 20, 200)\n",
    "list3 = np.random.normal(120, 25, 200)\n",
    "list4 = np.random.normal(130, 30, 200)\n",
    "\n",
    "values = [list1, list2, list3, list4]\n",
    "labels = [\"list1\", \"list2\", \"list3\", \"list4\"]\n",
    "\n",
    "# plotting boxplot\n",
    "plt.violinplot(values, showmedians=True)\n",
    "\n",
    "# adding grid\n",
    "plt.grid(True, color = 'b', alpha=0.3)\n",
    "plt.show()"
   ]
  },
  {
   "cell_type": "markdown",
   "id": "7a6b26a2",
   "metadata": {},
   "source": [
    "### 11. Heatmap\n",
    "heatmap is a useful chart that we can use to show the relationship between two variables. Heatmap displays a general view of numerical data; it does not extract specific data points. It is a graphical representation of data where the individual values contained in a matrix are represented as colors"
   ]
  },
  {
   "cell_type": "code",
   "execution_count": null,
   "id": "e12aa22f",
   "metadata": {},
   "outputs": [],
   "source": [
    "import matplotlib.pyplot as plt\n",
    "import numpy as np\n",
    "\n",
    "xlabels = [\"col0\", \"col1\", \"col2\", \"col3\", \"col4\"]\n",
    "ylabels = [\"row0\", \"row1\", \"row2\", \"row3\", \"row4\"]\n",
    "\n",
    "# creating data\n",
    "values = np.array([[0.8, 1.2, 0.3, 0.9, 2.2],\n",
    "                   [2.5, 0.1, 0.6, 1.6, 0.7],\n",
    "                   [1.1, 1.3, 2.8, 0.5, 1.7],\n",
    "                   [0.2, 1.2, 1.7, 2.2, 0.5],\n",
    "                   [1.4, 0.7, 0.3, 1.8, 1.0]])\n",
    "\n",
    "fig, axes = plt.subplots()\n",
    "\n",
    "# setting ticks on x-axis\n",
    "axes.set_xticks(np.arange(len(xlabels)))\n",
    "# setting ticks on y-axis\n",
    "axes.set_yticks(np.arange(len(ylabels)))\n",
    "\n",
    "# setting labels on both x and y axes\n",
    "axes.set_xticklabels(xlabels)\n",
    "axes.set_yticklabels(ylabels)\n",
    "\n",
    "# In order to create a heatmap, we can pass a 2-D array to imshow()\n",
    "im = axes.imshow(values)\n",
    "\n",
    "\n",
    "# In order to make our heatmap readable, we need to add some text onto each cell\n",
    "# text is the value from the values 2-D array in a double loop by index ii and jj\n",
    "# horizontalalignment and verticalalignment center the text in each cell\n",
    "\n",
    "for i in range(len(xlabels)):\n",
    "    for j in range(len(ylabels)):\n",
    "        text = axes.text(i, j, values[i, j],\n",
    "                       horizontalalignment=\"center\", verticalalignment=\"center\", color=\"w\")\n",
    "        \n",
    "# you can include a special legend to show the relationship between a color and its value using figure.colorbar()\n",
    "axes.figure.colorbar(im, ax=axes)\n",
    "\n",
    "plt.show()"
   ]
  },
  {
   "cell_type": "markdown",
   "id": "a4cd39e5",
   "metadata": {},
   "source": [
    "### 12. 3D Surface\n",
    "A three-dimensional graph is essentially a plot of points in three dimensions, with data points that are triples (x,y,z). A surface plot is like a wireframe plot, but each face of the wireframe is a filled polygon. We can also add a colormap to the surface plot, which can aid in the perception of the topology of the surface.\n",
    "\n",
    "The basic function to plot a surface is `plot_surface()`. Below are some of its important parameters:\n",
    "\n",
    "- `X, Y, Z`: 2D arrays, the data values.\n",
    "- `rcount, ccount`: The maximum number of samples used in each direction. If the input data is large, it will downsample the data.\n",
    "- `cmap`: Sets the colormap of the surface patches.\n",
    "- `color`: Sets the color of the surface patches.\n",
    "- `norm`: Sets the normalization for the colormap."
   ]
  },
  {
   "cell_type": "code",
   "execution_count": null,
   "id": "48bd8d6e",
   "metadata": {},
   "outputs": [],
   "source": [
    "# importing required libraries\n",
    "import numpy as np\n",
    "import matplotlib.pyplot as plt\n",
    "\n",
    "# Matplotlib was initially designed with only two-dimensional plotting in mind. \n",
    "# some three-dimensional plotting utilities were built on top of Matplotlib's two-dimensional display, \n",
    "# and the result is a convenient (if somewhat limited) set of tools for three-dimensional data visualization. \n",
    "# three-dimensional plots are enabled by importing the mplot3d toolkit\n",
    "from mpl_toolkits import mplot3d\n",
    "\n",
    "# preparing dataset\n",
    "# implementing sin(sqrt(x^2 + y^2))\n",
    "def f(x, y):\n",
    "    return np.sin(np.sqrt(x ** 2 + y ** 2))\n",
    "\n",
    "# creating dataset\n",
    "x = np.linspace(-6, 6, 30)\n",
    "y = np.linspace(-6, 6, 30)\n",
    "\n",
    "# The meshgird helps us generate all (x,y)(x,y) pairs based on our x, y space\n",
    "X, Y = np.meshgrid(x, y)\n",
    "# passing X, Y pairs to the function\n",
    "Z = f(X, Y)\n",
    "\n",
    "# setting figure attributes for clear visualization\n",
    "fig, ax = plt.subplots(dpi=120)\n",
    "\n",
    "# We need to set the projection='3d' for our axes, Otherwise, the code will not work.\n",
    "ax = plt.axes(projection='3d')\n",
    "\n",
    "# surface plot takes a grid of values and project it onto the specified three-dimensional surface, \n",
    "# and can make the resulting three-dimensional forms quite easy to visualize.\n",
    "ax.plot_surface(X, Y, Z, rstride=1, cstride=1, cmap='viridis', edgecolor='none')\n",
    "ax.set_title('surface');"
   ]
  },
  {
   "cell_type": "markdown",
   "id": "7e1f332f",
   "metadata": {},
   "source": [
    "### 13. Plot TimeSeries"
   ]
  },
  {
   "cell_type": "markdown",
   "id": "fa37a4c4",
   "metadata": {},
   "source": [
    "#### a. Have an insight about dataset"
   ]
  },
  {
   "cell_type": "code",
   "execution_count": null,
   "id": "3e12d9b0",
   "metadata": {},
   "outputs": [],
   "source": [
    "import datetime\n",
    "import pandas as pd\n",
    "import numpy as np\n",
    "import matplotlib.pyplot as plt\n",
    "\n",
    "\n",
    "# reading data from a csv while, having dates and numeric values\n",
    "data = pd.read_csv('datasets/timeseries.csv')\n",
    "data"
   ]
  },
  {
   "cell_type": "markdown",
   "id": "5c77a93d",
   "metadata": {},
   "source": [
    "#### b. Visualizating the prices on Specific dates"
   ]
  },
  {
   "cell_type": "code",
   "execution_count": null,
   "id": "873f98c1",
   "metadata": {},
   "outputs": [],
   "source": [
    "# covert data into a numpy array\n",
    "data_np = data.to_numpy()\n",
    "# Get array of prices present in 5th column\n",
    "prices = data_np[:,4]\n",
    "\n",
    "\n",
    "# getting holidays between the given range\n",
    "holidays = [datetime.datetime(2020,5,25), datetime.datetime(2020,8,19)]\n",
    "\n",
    "# Get NumPy array with just weekdays between dates excluding holidays\n",
    "# bdate_range Return a fixed frequency DatetimeIndex, with business day as the default frequency\n",
    "# passing holidays, which tells the function to exclude these dates, C stands for custom frequency\n",
    "date_arr = pd.bdate_range(start='5/20/2020', end='8/19/2020', freq='C', holidays=holidays)\n",
    "\n",
    "# converting data to numpy array\n",
    "date_arr_np = date_arr.to_numpy()\n",
    "\n",
    "# plot data\n",
    "plt.plot(date_arr_np, prices)\n",
    "plt.show()"
   ]
  },
  {
   "cell_type": "markdown",
   "id": "022d9d5b",
   "metadata": {},
   "source": [
    "### 14. Stem Plot\n",
    "stem plots are similar to scatter plots because there are no links between individual data points. However, stem plots include vertical lines that connect each data point to the baseline, while placing a marker at the tip. The stem plot has the advantage of being able to clearly show the shape of a data set’s distribution.\n",
    "\n",
    "Below are some important parameters required by stem().\n",
    "\n",
    "- `x`: The position of the stems on the x-axis.\n",
    "- `y`: The position of the stem heads on the y-axis.\n",
    "- `linefmt`: A string defining the properties of the vertical lines.\n",
    "- `markerfmt`: A string defining the properties of the markers at the stem heads.\n",
    "- `bottom`: The position of the baseline on the y-axis"
   ]
  },
  {
   "cell_type": "code",
   "execution_count": null,
   "id": "8bee7dcf",
   "metadata": {},
   "outputs": [],
   "source": [
    "import matplotlib.pyplot as plt\n",
    "import numpy as np\n",
    "\n",
    "# creating dataset\n",
    "x = np.linspace(0.1, 2 * np.pi, 31)\n",
    "y = np.exp(np.sin(x))\n",
    "\n",
    "# Plotting Stem plot\n",
    "plt.stem(x, y)\n",
    "plt.show()"
   ]
  },
  {
   "cell_type": "markdown",
   "id": "8de29aed",
   "metadata": {},
   "source": [
    "### 15. Radar Plot\n",
    "The radar chart, is also known as web chart, spider chart, or spider web chart, is a chart that consists of a sequence of equi-angular spokes, called radii, where each spoke represents one of the variables that is impacting our data. The data length of a spoke is proportional to the magnitude of the variable for that data point in relation to the maximum magnitude of the variable across all data points. The radar chart is useful in showing relative values for a single data point, or for comparing two or more items as they relate to various categories.\n",
    "\n",
    "- `Step 1`: Calculate the angle for the value of each category. We begin by assigning each category value an angle. The angles are accumulated according to the order in which they occur.\n",
    "- `Step 2`: Append the first item to the last, making the circular graph close.\n",
    "- `Step 3`: Set the coordinate system as polar for your figure.\n",
    "- `Step 4`: Use the plot() function to plot. We use plot() here in the same way that we used it in the lesson How to Draw a Line Plot.\n",
    "- `Step 5`: Fill the area. This step is optional."
   ]
  },
  {
   "cell_type": "code",
   "execution_count": null,
   "id": "695327a6",
   "metadata": {},
   "outputs": [],
   "source": [
    "import matplotlib.pyplot as plt\n",
    "import math\n",
    "\n",
    "# creating Dataset\n",
    "labels = [\"Hadeed\", \"Maaz\", \"Mujahid\", \"Mohid\", \"Kamal\",  \"Jamal\"]\n",
    "values = [95, 45, 60, 20, 75, 35]\n",
    "\n",
    "# Append the first item to the last, making the circular graph close\n",
    "values += values[:1]\n",
    "\n",
    "# Calculate the angle for the value of each category\n",
    "angles = [n / float(len(labels)) * 2 * math.pi for n in range(len(labels))]\n",
    "angles += angles[:1]\n",
    "\n",
    "#  Set the coordinate system as polar\n",
    "fig, axe = plt.subplots(subplot_kw=dict(polar=True), dpi=100)\n",
    "\n",
    "# setting ticks\n",
    "axe.set_xticks(angles[:-1])\n",
    "\n",
    "# setting tick labesl\n",
    "axe.set_xticklabels(labels, color='r')\n",
    "\n",
    "# Plotting Radar between angles and values\n",
    "axe.plot(angles, values)\n",
    "axe.fill(angles, values, 'skyblue', alpha=0.4)\n",
    "\n",
    "plt.show()"
   ]
  },
  {
   "cell_type": "code",
   "execution_count": null,
   "id": "e643ece0",
   "metadata": {},
   "outputs": [],
   "source": []
  }
 ],
 "metadata": {
  "kernelspec": {
   "display_name": "Python 3 (ipykernel)",
   "language": "python",
   "name": "python3"
  },
  "language_info": {
   "codemirror_mode": {
    "name": "ipython",
    "version": 3
   },
   "file_extension": ".py",
   "mimetype": "text/x-python",
   "name": "python",
   "nbconvert_exporter": "python",
   "pygments_lexer": "ipython3",
   "version": "3.9.7"
  }
 },
 "nbformat": 4,
 "nbformat_minor": 5
}
