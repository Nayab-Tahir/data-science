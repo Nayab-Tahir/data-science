{
 "cells": [
  {
   "cell_type": "markdown",
   "id": "52cb0aec",
   "metadata": {},
   "source": [
    "---   \n",
    " <img align=\"left\" width=\"75\" height=\"75\"  src=\"https://upload.wikimedia.org/wikipedia/en/c/c8/University_of_the_Punjab_logo.png\"> \n",
    "\n",
    "<h1 align=\"center\">Department of Data Science</h1>\n",
    "<h1 align=\"center\">Course: Tools and Techniques for Data Science</h1>\n",
    "\n",
    "---\n",
    "<h3><div align=\"right\">Instructor: Muhammad Arif Butt, Ph.D.</div></h3>    "
   ]
  },
  {
   "cell_type": "markdown",
   "id": "e224b328",
   "metadata": {
    "slideshow": {
     "slide_type": "slide"
    }
   },
   "source": [
    "<h1 align=\"center\">Lecture 2.2</h1>"
   ]
  },
  {
   "cell_type": "markdown",
   "id": "6065d4a7",
   "metadata": {},
   "source": [
    "## _01-hellojupyter.ipynb_"
   ]
  },
  {
   "cell_type": "markdown",
   "id": "d01cae8f",
   "metadata": {},
   "source": [
    "### [Click to read about Jupyter Notebook](https://jupyter.readthedocs.io/en/latest/content-quickstart.html)"
   ]
  },
  {
   "cell_type": "markdown",
   "id": "4cd487ed",
   "metadata": {},
   "source": [
    "## A review of the Jupyter notebook Interface\n",
    "IPython Notebooks are just files (.ipynb) on your file system, containing JSON data\n",
    "1. **Header:**  At the top of the notebook document is the header which contains the _notebook title_, _menu bar_, and _toolbar_, which are used to control notebook navigation and document structure.\n",
    "2. **Body:** The body of a notebook is composed of cells. Each cell contains either markdown, code input, code output, or raw text.\n",
    "3. **Types of cells:**\n",
    "    - **Markdown cells** are used to build a nicely formatted narrative around the code in the document. These cells can either be rendered or unrendered. When they are rendered, a nice formatted representation of the cell's contents will be presented. When they are unrendered, the raw text source of the cell will be presented.\n",
    "    - **Code cells**  are used to define the computational code in the document. They come in two forms:\n",
    "        - **Input cell** where the user types the code to be executed, and  \n",
    "        - **output cell** which is the representation of the executed code. Depending on the code, this representation may be a simple scalar value, or something more complex like a plot or an interactive widget.\n",
    "    -**Raw cells:** These are used when text needs to be included in raw form, without execution or transformation.\n",
    "4. **Modes of a cell:**\n",
    "    - **Edit mode** is indicated by a **green** cell border and a prompt showing in the editor area. When a cell is in edit mode, you can type into the cell, like a normal text editor. Enter edit mode by pressing `Enter` or using the mouse to click on a cell's editor area.\n",
    "    - **Command mode** is indicated by a **blue** cell border. When in command mode, the structure of the notebook can be modified as a whole, but the text in individual cells cannot be changed. Most importantly, the keyboard is mapped to a set of shortcuts for efficiently performing notebook and cell actions. Enter command mode by pressing `Esc` or using the mouse to click *outside* a cell's editor area.\n",
    "\n",
    "5. **Keyboard Short cuts:** Keyboard shortcuts are a very popular aspect of the Jupyter environment because they facilitate a speedy cell-based workflow. Following shortcuts work in command mode:\n",
    "    - Press H to see the list of short cuts\n",
    "    - Shift+Enter to execute code of a code-cell and to render the contents of a markdown cell. It also shifts control to cell down. If there is none it creates one. To avoid shifting control to lower cell after you execute a cell code use <Ctrl+Enter> instead\n",
    "    - Scroll up and down your cells with your Up and Down keys.\n",
    "    - Press A or B to insert a new cell above or below the active cell.\n",
    "    - DD (D twice) will delete the active cell.\n",
    "    - L to toggle view linenumbers within a cell\n",
    "    - Z will undo cell deletion. \n",
    "    - M will transform the active cell to a Markdown cell.\n",
    "    - Y will set the active cell to a code cell.\n",
    "    - <Command+/> to toggle between commenting and uncommenting the current LOC or highlighted LOCs\n",
    "    - Hold Shift and press Up or Down to select multiple cells at once. With multiple cells selected, Shift + M will merge your selection."
   ]
  },
  {
   "cell_type": "markdown",
   "id": "52571bcd",
   "metadata": {},
   "source": [
    "## 1. Performing Arithmetic Operations using Python\n",
    "\n",
    "Let's begin by using Python as a calculator. You can write and execute Python using a code cell within Jupyter. \n",
    "\n",
    "> **Working with cells**: To create a new cell within Jupyter, you can select \"Insert > Insert Cell Below\" from the menu bar or just press the \"+\" button on the toolbar. You can also use the keyboard shortcut `Esc+B` to create a new cell. Once a cell is created, click on it to select it. You can then change the cell type to code or markdown (text) using the \"Cell > Cell Type\" menu option. You can also use the keyboard shortcuts `Esc+Y` and `Esc+M`. Double-click a cell to edit the content within the cell. To apply your changes and run a cell, use the \"Cell > Run Cells\" menu option or click the \"Run\" button on the toolbar or just use the keyboard shortcut `Shift+Enter`. You can see a full list of keyboard shortcuts using the \"Help > Keyboard Shortcuts\" menu option.\n",
    "\n",
    "Run the code cells below to perform calculations and view their result. Try changing the numbers and run the modified cells again to see updated results."
   ]
  },
  {
   "cell_type": "code",
   "execution_count": 25,
   "id": "a0f2df50",
   "metadata": {},
   "outputs": [
    {
     "data": {
      "text/plain": [
       "14"
      ]
     },
     "execution_count": 25,
     "metadata": {},
     "output_type": "execute_result"
    }
   ],
   "source": [
    "2 + 3 + 9"
   ]
  },
  {
   "cell_type": "code",
   "execution_count": 26,
   "id": "bc5fabdd",
   "metadata": {},
   "outputs": [
    {
     "data": {
      "text/plain": [
       "26"
      ]
     },
     "execution_count": 26,
     "metadata": {},
     "output_type": "execute_result"
    }
   ],
   "source": [
    "99 - 73"
   ]
  },
  {
   "cell_type": "code",
   "execution_count": 27,
   "id": "ea7b88ba",
   "metadata": {
    "scrolled": true
   },
   "outputs": [
    {
     "data": {
      "text/plain": [
       "-33709.28"
      ]
     },
     "execution_count": 27,
     "metadata": {},
     "output_type": "execute_result"
    }
   ],
   "source": [
    "23.54 * -1432"
   ]
  },
  {
   "cell_type": "code",
   "execution_count": 28,
   "id": "1373d987",
   "metadata": {},
   "outputs": [
    {
     "data": {
      "text/plain": [
       "14.285714285714286"
      ]
     },
     "execution_count": 28,
     "metadata": {},
     "output_type": "execute_result"
    }
   ],
   "source": [
    "100 / 7"
   ]
  },
  {
   "cell_type": "code",
   "execution_count": 29,
   "id": "cea673fe",
   "metadata": {},
   "outputs": [
    {
     "data": {
      "text/plain": [
       "14"
      ]
     },
     "execution_count": 29,
     "metadata": {},
     "output_type": "execute_result"
    }
   ],
   "source": [
    "100 // 7"
   ]
  },
  {
   "cell_type": "code",
   "execution_count": 30,
   "id": "e5e1cb18",
   "metadata": {},
   "outputs": [
    {
     "data": {
      "text/plain": [
       "2"
      ]
     },
     "execution_count": 30,
     "metadata": {},
     "output_type": "execute_result"
    }
   ],
   "source": [
    "100 % 7"
   ]
  },
  {
   "cell_type": "code",
   "execution_count": 31,
   "id": "92fed413",
   "metadata": {},
   "outputs": [
    {
     "data": {
      "text/plain": [
       "125"
      ]
     },
     "execution_count": 31,
     "metadata": {},
     "output_type": "execute_result"
    }
   ],
   "source": [
    "5 ** 3"
   ]
  },
  {
   "cell_type": "markdown",
   "id": "617a4432",
   "metadata": {},
   "source": [
    "As you might expect, operators like `/` and `*` take precedence over other operators like `+` and `-` as per mathematical conventions. You can use parentheses, i.e. `(` and `)`, to specify the order in which operations are performed."
   ]
  },
  {
   "cell_type": "code",
   "execution_count": 32,
   "id": "52524d6c",
   "metadata": {},
   "outputs": [
    {
     "data": {
      "text/plain": [
       "1.53125"
      ]
     },
     "execution_count": 32,
     "metadata": {},
     "output_type": "execute_result"
    }
   ],
   "source": [
    "((2 + 5) * (17 - 3)) / (4 ** 3)"
   ]
  },
  {
   "cell_type": "markdown",
   "id": "b8b3fed5",
   "metadata": {},
   "source": [
    "Python supports the following arithmetic operators:\n",
    "\n",
    "| Operator   | Purpose           | Example     | Result    |\n",
    "|------------|-------------------|-------------|-----------|\n",
    "| `+`        | Addition          | `2 + 3`     | `5`       |\n",
    "| `-`        | Subtraction       | `3 - 2`     | `1`       |\n",
    "| `*`        | Multiplication    | `8 * 12`    | `96`      |\n",
    "| `/`        | Division          | `100 / 7`   | `14.28..` |\n",
    "| `//`       | Floor Division    | `100 // 7`  | `14`      |    \n",
    "| `%`        | Modulus/Remainder | `100 % 7`   | `2`       |\n",
    "| `**`       | Exponent          | `5 ** 3`    | `125`     |\n",
    "\n",
    "\n",
    "Beginner programmers should try solving some simple problems from this page:\n",
    "https://www.math-only-math.com/worksheet-on-word-problems-on-four-operations.html "
   ]
  },
  {
   "cell_type": "markdown",
   "id": "b6342788",
   "metadata": {},
   "source": [
    "## 2. Use of Comments\n",
    "Note that we're using the `#` character to add *comments* within our code. \n",
    "\n",
    "> **Comments**: Comments and blank lines are ignored during execution, but they are useful for providing information to humans (including yourself) about what the code does. Comments can be inline (at the end of some code), on a separate line, or even span multiple lines. \n",
    "\n",
    "Inline and single-line comments start with `#`, whereas multi-line comments begin and end with three quotes, i.e. `\"\"\"`. Here are some examples of code comments:"
   ]
  },
  {
   "cell_type": "code",
   "execution_count": 9,
   "id": "1bf354ab",
   "metadata": {},
   "outputs": [
    {
     "data": {
      "text/plain": [
       "10"
      ]
     },
     "execution_count": 9,
     "metadata": {},
     "output_type": "execute_result"
    }
   ],
   "source": [
    "# This is a single line comment\n",
    "\n",
    "\"\"\"\n",
    "A multi-line comment starts and ends with a tripple double quotes\n",
    "A docstring is a documentation string. As a comment, this Python Syntax is used to explain code.\n",
    "But unlike comments, they are more specific. Also, they are retained at runtime.\n",
    "This way, the programmer can inspect them at runtime. Delimit a docstring using three double-quotes. \n",
    "\"\"\"\n",
    "\n",
    "'''\n",
    "A multi-line comment\n",
    "starts and ends with a tripple single quotes\n",
    "'''\n",
    "x=10  # ends with newline\n",
    "x"
   ]
  },
  {
   "cell_type": "markdown",
   "id": "b4933e01",
   "metadata": {},
   "source": [
    "## 3. Use of print() statement\n",
    "> **`print`**: The `print` is a Python built-in function that used to display information. It takes one or more inputs, which can be text (within quotes, e.g., `\"this is some text\"`), numbers, variables, mathematical expressions, etc. We'll learn more about variables the next tutorial.\n",
    "\n",
    "> Jupyter allows you to write multiple lines of code within a single code cell. However, the result of the last line of code within a cell is displayed as the output. \n"
   ]
  },
  {
   "cell_type": "code",
   "execution_count": 10,
   "id": "2e203634",
   "metadata": {},
   "outputs": [
    {
     "data": {
      "text/plain": [
       "15"
      ]
     },
     "execution_count": 10,
     "metadata": {},
     "output_type": "execute_result"
    }
   ],
   "source": [
    "# Note only the last command appears in output\n",
    "a=10\n",
    "b=a-5\n",
    "c=a+b\n",
    "a\n",
    "b\n",
    "c"
   ]
  },
  {
   "cell_type": "code",
   "execution_count": 11,
   "id": "86a5809c",
   "metadata": {},
   "outputs": [
    {
     "name": "stdout",
     "output_type": "stream",
     "text": [
      "a =  10\n",
      "b =  5\n",
      "c =  15\n",
      "d =  8\n"
     ]
    }
   ],
   "source": [
    "# Therefore better to use print() statement\n",
    "a=10\n",
    "b=a-5\n",
    "c=a+b\n",
    "print(\"a = \", a)\n",
    "print(\"b = \", b)\n",
    "print(\"c = \", c)\n",
    "# You can also fit in more than one statement on one line by separating them with a semicolon.\n",
    "d = 5 + 3; print('d = ', d)\n"
   ]
  },
  {
   "cell_type": "markdown",
   "id": "08562aef",
   "metadata": {},
   "source": [
    "## 4. Getting Help in IPython\n",
    "Within IPython you have various way to access help:\n",
    "-  `?`          Introduction and overview of IPython's features (this screen).\n",
    "-  `help`       Access Python's own help system.\n",
    "-  `object?`    Details about 'object'.\n",
    "-  `object??`   More detailed, verbose information about 'object'.\n",
    "-  `%quickref`  Quick reference of all IPython specific syntax and magics."
   ]
  },
  {
   "cell_type": "code",
   "execution_count": 12,
   "id": "bfa863b6",
   "metadata": {},
   "outputs": [],
   "source": [
    "?"
   ]
  },
  {
   "cell_type": "code",
   "execution_count": 13,
   "id": "4293f426",
   "metadata": {},
   "outputs": [],
   "source": [
    "?print"
   ]
  },
  {
   "cell_type": "code",
   "execution_count": 14,
   "id": "d6dc949d",
   "metadata": {},
   "outputs": [],
   "source": [
    "??print"
   ]
  },
  {
   "cell_type": "code",
   "execution_count": 15,
   "id": "0517542e",
   "metadata": {},
   "outputs": [
    {
     "name": "stdout",
     "output_type": "stream",
     "text": [
      "Help on built-in function print in module builtins:\n",
      "\n",
      "print(...)\n",
      "    print(value, ..., sep=' ', end='\\n', file=sys.stdout, flush=False)\n",
      "    \n",
      "    Prints the values to a stream, or to sys.stdout by default.\n",
      "    Optional keyword arguments:\n",
      "    file:  a file-like object (stream); defaults to the current sys.stdout.\n",
      "    sep:   string inserted between values, default a space.\n",
      "    end:   string appended after the last value, default a newline.\n",
      "    flush: whether to forcibly flush the stream.\n",
      "\n"
     ]
    }
   ],
   "source": [
    "help(print)"
   ]
  },
  {
   "cell_type": "code",
   "execution_count": 16,
   "id": "06381fb4",
   "metadata": {
    "scrolled": false
   },
   "outputs": [
    {
     "name": "stdout",
     "output_type": "stream",
     "text": [
      "\n",
      "Welcome to Python 3.8's help utility!\n",
      "\n",
      "If this is your first time using Python, you should definitely check out\n",
      "the tutorial on the Internet at https://docs.python.org/3.8/tutorial/.\n",
      "\n",
      "Enter the name of any module, keyword, or topic to get help on writing\n",
      "Python programs and using Python modules.  To quit this help utility and\n",
      "return to the interpreter, just type \"quit\".\n",
      "\n",
      "To get a list of available modules, keywords, symbols, or topics, type\n",
      "\"modules\", \"keywords\", \"symbols\", or \"topics\".  Each module also comes\n",
      "with a one-line summary of what it does; to list the modules whose name\n",
      "or summary contain a given string such as \"spam\", type \"modules spam\".\n",
      "\n",
      "help> q\n",
      "\n",
      "You are now leaving help and returning to the Python interpreter.\n",
      "If you want to ask for help on a particular object directly from the\n",
      "interpreter, you can type \"help(object)\".  Executing \"help('string')\"\n",
      "has the same effect as typing a particular string at the help> prompt.\n"
     ]
    }
   ],
   "source": [
    "# Get help about \"keywords\", \"symbols\", \"topics\", ...\n",
    "# Type \"quit\" to exit this interactive command\n",
    "help()"
   ]
  },
  {
   "cell_type": "code",
   "execution_count": 17,
   "id": "1e2a078d",
   "metadata": {},
   "outputs": [
    {
     "name": "stdout",
     "output_type": "stream",
     "text": [
      "Learning is fun with Arif Butt\n",
      "Today's message is:  Learning is fun with Arif Butt\n",
      "Message of arif is  Learning is fun with Arif Butt and today's date is  October 15, 2021\n"
     ]
    }
   ],
   "source": [
    "msg = \"Learning is fun with Arif Butt\"\n",
    "date = \"October 15, 2021\"\n",
    "msg\n",
    "print(msg)\n",
    "print(\"Today's message is: \", msg)\n",
    "print(\"Message of arif is \", msg, \"and today's date is \", date)"
   ]
  },
  {
   "cell_type": "markdown",
   "id": "33375f96",
   "metadata": {},
   "source": [
    "## 5. Running bash shell commands"
   ]
  },
  {
   "cell_type": "code",
   "execution_count": 18,
   "id": "b783dc85",
   "metadata": {},
   "outputs": [
    {
     "name": "stdout",
     "output_type": "stream",
     "text": [
      "/Users/arif/Documents/0-DS-522/Demo-Files-Repo/Section-2 (Basics of Python Programming)/Lec-2.02 (Anaconda and Jupyter Notebook)\n",
      "Tue Nov 30 19:41:08 PKT 2021\n",
      "01-hellojupyter.ipynb     f1.txt\n",
      "02-markdown-example.ipynb \u001b[34mimages\u001b[m\u001b[m\n"
     ]
    }
   ],
   "source": [
    "!pwd\n",
    "!date\n",
    "!touch f1.txt\n",
    "! ls"
   ]
  },
  {
   "cell_type": "markdown",
   "id": "77943be1",
   "metadata": {},
   "source": [
    "## 6. Magic Commands\n",
    "- The magic function system provides a series of functions which allow you to control the behavior of IPython itself, plus a lot of system-type features. There are two kinds of magics, line-oriented and cell-oriented.\n",
    "    - Line magics are prefixed with the % character and work much like OS command-line calls: they get as an argument the rest of the line, where arguments are passed without parentheses or quotes\n",
    "    - Cell magics are prefixed with a double %%, and they are functions that get as an argument not only the rest of the line, but also the lines below it in a separate argument.  These magics are called with two arguments: the rest of the call line and the body of the cell, consisting of the lines below the first."
   ]
  },
  {
   "cell_type": "code",
   "execution_count": 19,
   "id": "eb27b46d",
   "metadata": {},
   "outputs": [],
   "source": [
    "%quickref"
   ]
  },
  {
   "cell_type": "code",
   "execution_count": 20,
   "id": "87b09ae7",
   "metadata": {},
   "outputs": [],
   "source": [
    "%magic"
   ]
  },
  {
   "cell_type": "code",
   "execution_count": 21,
   "id": "a5a3763f",
   "metadata": {},
   "outputs": [
    {
     "data": {
      "application/json": {
       "cell": {
        "!": "OSMagics",
        "HTML": "Other",
        "SVG": "Other",
        "bash": "Other",
        "capture": "ExecutionMagics",
        "debug": "ExecutionMagics",
        "file": "Other",
        "html": "DisplayMagics",
        "javascript": "DisplayMagics",
        "js": "DisplayMagics",
        "latex": "DisplayMagics",
        "markdown": "DisplayMagics",
        "perl": "Other",
        "prun": "ExecutionMagics",
        "pypy": "Other",
        "python": "Other",
        "python2": "Other",
        "python3": "Other",
        "ruby": "Other",
        "script": "ScriptMagics",
        "sh": "Other",
        "svg": "DisplayMagics",
        "sx": "OSMagics",
        "system": "OSMagics",
        "time": "ExecutionMagics",
        "timeit": "ExecutionMagics",
        "writefile": "OSMagics"
       },
       "line": {
        "alias": "OSMagics",
        "alias_magic": "BasicMagics",
        "autoawait": "AsyncMagics",
        "autocall": "AutoMagics",
        "automagic": "AutoMagics",
        "autosave": "KernelMagics",
        "bookmark": "OSMagics",
        "cat": "Other",
        "cd": "OSMagics",
        "clear": "KernelMagics",
        "colors": "BasicMagics",
        "conda": "PackagingMagics",
        "config": "ConfigMagics",
        "connect_info": "KernelMagics",
        "cp": "Other",
        "debug": "ExecutionMagics",
        "dhist": "OSMagics",
        "dirs": "OSMagics",
        "doctest_mode": "BasicMagics",
        "ed": "Other",
        "edit": "KernelMagics",
        "env": "OSMagics",
        "gui": "BasicMagics",
        "hist": "Other",
        "history": "HistoryMagics",
        "killbgscripts": "ScriptMagics",
        "ldir": "Other",
        "less": "KernelMagics",
        "lf": "Other",
        "lk": "Other",
        "ll": "Other",
        "load": "CodeMagics",
        "load_ext": "ExtensionMagics",
        "loadpy": "CodeMagics",
        "logoff": "LoggingMagics",
        "logon": "LoggingMagics",
        "logstart": "LoggingMagics",
        "logstate": "LoggingMagics",
        "logstop": "LoggingMagics",
        "ls": "Other",
        "lsmagic": "BasicMagics",
        "lx": "Other",
        "macro": "ExecutionMagics",
        "magic": "BasicMagics",
        "man": "KernelMagics",
        "matplotlib": "PylabMagics",
        "mkdir": "Other",
        "more": "KernelMagics",
        "mv": "Other",
        "notebook": "BasicMagics",
        "page": "BasicMagics",
        "pastebin": "CodeMagics",
        "pdb": "ExecutionMagics",
        "pdef": "NamespaceMagics",
        "pdoc": "NamespaceMagics",
        "pfile": "NamespaceMagics",
        "pinfo": "NamespaceMagics",
        "pinfo2": "NamespaceMagics",
        "pip": "PackagingMagics",
        "popd": "OSMagics",
        "pprint": "BasicMagics",
        "precision": "BasicMagics",
        "prun": "ExecutionMagics",
        "psearch": "NamespaceMagics",
        "psource": "NamespaceMagics",
        "pushd": "OSMagics",
        "pwd": "OSMagics",
        "pycat": "OSMagics",
        "pylab": "PylabMagics",
        "qtconsole": "KernelMagics",
        "quickref": "BasicMagics",
        "recall": "HistoryMagics",
        "rehashx": "OSMagics",
        "reload_ext": "ExtensionMagics",
        "rep": "Other",
        "rerun": "HistoryMagics",
        "reset": "NamespaceMagics",
        "reset_selective": "NamespaceMagics",
        "rm": "Other",
        "rmdir": "Other",
        "run": "ExecutionMagics",
        "save": "CodeMagics",
        "sc": "OSMagics",
        "set_env": "OSMagics",
        "store": "StoreMagics",
        "sx": "OSMagics",
        "system": "OSMagics",
        "tb": "ExecutionMagics",
        "time": "ExecutionMagics",
        "timeit": "ExecutionMagics",
        "unalias": "OSMagics",
        "unload_ext": "ExtensionMagics",
        "who": "NamespaceMagics",
        "who_ls": "NamespaceMagics",
        "whos": "NamespaceMagics",
        "xdel": "NamespaceMagics",
        "xmode": "BasicMagics"
       }
      },
      "text/plain": [
       "Available line magics:\n",
       "%alias  %alias_magic  %autoawait  %autocall  %automagic  %autosave  %bookmark  %cat  %cd  %clear  %colors  %conda  %config  %connect_info  %cp  %debug  %dhist  %dirs  %doctest_mode  %ed  %edit  %env  %gui  %hist  %history  %killbgscripts  %ldir  %less  %lf  %lk  %ll  %load  %load_ext  %loadpy  %logoff  %logon  %logstart  %logstate  %logstop  %ls  %lsmagic  %lx  %macro  %magic  %man  %matplotlib  %mkdir  %more  %mv  %notebook  %page  %pastebin  %pdb  %pdef  %pdoc  %pfile  %pinfo  %pinfo2  %pip  %popd  %pprint  %precision  %prun  %psearch  %psource  %pushd  %pwd  %pycat  %pylab  %qtconsole  %quickref  %recall  %rehashx  %reload_ext  %rep  %rerun  %reset  %reset_selective  %rm  %rmdir  %run  %save  %sc  %set_env  %store  %sx  %system  %tb  %time  %timeit  %unalias  %unload_ext  %who  %who_ls  %whos  %xdel  %xmode\n",
       "\n",
       "Available cell magics:\n",
       "%%!  %%HTML  %%SVG  %%bash  %%capture  %%debug  %%file  %%html  %%javascript  %%js  %%latex  %%markdown  %%perl  %%prun  %%pypy  %%python  %%python2  %%python3  %%ruby  %%script  %%sh  %%svg  %%sx  %%system  %%time  %%timeit  %%writefile\n",
       "\n",
       "Automagic is ON, % prefix IS NOT needed for line magics."
      ]
     },
     "execution_count": 21,
     "metadata": {},
     "output_type": "execute_result"
    }
   ],
   "source": [
    "%lsmagic"
   ]
  },
  {
   "cell_type": "code",
   "execution_count": 22,
   "id": "d91b5878",
   "metadata": {},
   "outputs": [
    {
     "name": "stdout",
     "output_type": "stream",
     "text": [
      "2 + 3 + 9\n",
      "99 - 73\n",
      "23.54 * -1432\n",
      "100 / 7\n",
      "100 // 7\n",
      "100 % 7\n",
      "5 ** 3\n",
      "((2 + 5) * (17 - 3)) / (4 ** 3)\n",
      "# This is a single line comment\n",
      "\n",
      "\"\"\"\n",
      "A multi-line comment starts and ends with a tripple double quotes\n",
      "A docstring is a documentation string. As a comment, this Python Syntax is used to explain code.\n",
      "But unlike comments, they are more specific. Also, they are retained at runtime.\n",
      "This way, the programmer can inspect them at runtime. Delimit a docstring using three double-quotes. \n",
      "\"\"\"\n",
      "\n",
      "'''\n",
      "A multi-line comment\n",
      "starts and ends with a tripple single quotes\n",
      "'''\n",
      "x=10  # ends with newline\n",
      "x\n",
      "# Note only the last command appears in output\n",
      "a=10\n",
      "b=a-5\n",
      "c=a+b\n",
      "a\n",
      "b\n",
      "c\n",
      "# Therefore better to use print() statement\n",
      "a=10\n",
      "b=a-5\n",
      "c=a+b\n",
      "print(\"a = \", a)\n",
      "print(\"b = \", b)\n",
      "print(\"c = \", c)\n",
      "# You can also fit in more than one statement on one line by separating them with a semicolon.\n",
      "d = 5 + 3; print('d = ', d)\n",
      "?\n",
      "?print\n",
      "??print\n",
      "help(print)\n",
      "# Get help about \"keywords\", \"symbols\", \"topics\", ...\n",
      "# Type \"quit\" to exit this interactive command\n",
      "help()\n",
      "msg = \"Learning is fun with Arif Butt\"\n",
      "date = \"October 15, 2021\"\n",
      "msg\n",
      "print(msg)\n",
      "print(\"Today's message is: \", msg)\n",
      "print(\"Message of arif is \", msg, \"and today's date is \", date)\n",
      "!pwd\n",
      "!date\n",
      "!touch f1.txt\n",
      "! ls\n",
      "%quickref\n",
      "%magic\n",
      "%lsmagic\n",
      "%history\n"
     ]
    }
   ],
   "source": [
    "%history"
   ]
  },
  {
   "cell_type": "code",
   "execution_count": 23,
   "id": "e5f83bb4",
   "metadata": {},
   "outputs": [
    {
     "name": "stdout",
     "output_type": "stream",
     "text": [
      "243 ns ± 10.9 ns per loop (mean ± std. dev. of 7 runs, 1000000 loops each)\n"
     ]
    }
   ],
   "source": [
    "%timeit range(1000)"
   ]
  },
  {
   "cell_type": "code",
   "execution_count": 24,
   "id": "f7f66ed3",
   "metadata": {},
   "outputs": [
    {
     "name": "stdout",
     "output_type": "stream",
     "text": [
      "My shell is: /bin/bash\n",
      "User: arif\n"
     ]
    }
   ],
   "source": [
    "%%bash\n",
    "echo \"My shell is:\" $SHELL\n",
    "echo \"User:\" $USER"
   ]
  },
  {
   "cell_type": "markdown",
   "id": "11f602ee",
   "metadata": {},
   "source": [
    "## Check your Concepts\n",
    "\n",
    "Try answering the following questions to test your understanding of the topics covered in this notebook:\n",
    "\n",
    "1. What is a Jupyter notebook? \n",
    "2. How do you add a new code cell below an existing cell?\n",
    "3. How do you add a new Markdown cell below an existing cell?\n",
    "4. How do you convert a code cell to a Markdown cell or vice versa?\n",
    "5. How do you execute a code cell within Jupyter?\n",
    "6. What is Markdown? Why is it useful?\n",
    "7. How do you create headings of different sizes using Markdown?\n",
    "8. How do you create bulleted and numbered lists using Markdown?\n",
    "9. How do you create bold or italic text using Markdown?\n",
    "10. How do you include links & images within Markdown cells?\n",
    "11. How do you include code blocks within Markdown cells?\n",
    "12. Is it possible to execute the code blocks within Markdown cells?\n",
    "13. How to run operating system commands from a notebook cell?\n",
    "14. Mention three different ways to get help about built-in Python functions from a notebook cell? \n",
    "15. What different arithmetic operators are available in Python?\n",
    "16. Explore different line and cell magic functions of IPython"
   ]
  },
  {
   "cell_type": "code",
   "execution_count": null,
   "id": "returning-workplace",
   "metadata": {},
   "outputs": [],
   "source": []
  }
 ],
 "metadata": {
  "kernelspec": {
   "display_name": "Python 3",
   "language": "python",
   "name": "python3"
  },
  "language_info": {
   "codemirror_mode": {
    "name": "ipython",
    "version": 3
   },
   "file_extension": ".py",
   "mimetype": "text/x-python",
   "name": "python",
   "nbconvert_exporter": "python",
   "pygments_lexer": "ipython3",
   "version": "3.8.2"
  }
 },
 "nbformat": 4,
 "nbformat_minor": 5
}
