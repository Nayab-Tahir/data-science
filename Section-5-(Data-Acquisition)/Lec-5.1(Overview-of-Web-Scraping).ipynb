{
 "cells": [
  {
   "cell_type": "markdown",
   "id": "d162b058",
   "metadata": {},
   "source": [
    "---   \n",
    " <img align=\"left\" width=\"75\" height=\"75\"  src=\"https://upload.wikimedia.org/wikipedia/en/c/c8/University_of_the_Punjab_logo.png\"> \n",
    "\n",
    "<h1 align=\"center\">Department of Data Science</h1>\n",
    "<h1 align=\"center\">Course: Tools and Techniques for Data Science</h1>\n",
    "\n",
    "---\n",
    "<h3><div align=\"right\">Instructor: Muhammad Arif Butt, Ph.D.</div></h3>    \n"
   ]
  },
  {
   "cell_type": "markdown",
   "id": "3184edc1",
   "metadata": {},
   "source": [
    "<h1 align=\"center\">Lecture 5.1 (An Overview of Web Scraping)</h1><br>\n",
    "<a href=\"https://colab.research.google.com/github/arifpucit/data-science/blob/master/Section-5-(Data-Acquisition)/Lec-5.1(Overview-of-Web-Scraping).ipynb\" target=\"_parent\"><img src=\"https://colab.research.google.com/assets/colab-badge.svg\" alt=\"Open In Colab\"/></a>"
   ]
  },
  {
   "cell_type": "markdown",
   "id": "366621b9",
   "metadata": {},
   "source": [
    "<img align=\"left\" width=\"400\" src=\"images/acq.PNG\"  >\n",
    "<img align=\"center\" width=\"400\" height=\"650\"  src=\"images/scrap.PNG\"  >"
   ]
  },
  {
   "cell_type": "markdown",
   "id": "51e21f0d",
   "metadata": {},
   "source": [
    "<img align=\"center\" width=\"600\" src=\"images/api.png\"  >"
   ]
  },
  {
   "cell_type": "code",
   "execution_count": null,
   "id": "77462d4b",
   "metadata": {},
   "outputs": [],
   "source": []
  },
  {
   "cell_type": "markdown",
   "id": "90f3672f",
   "metadata": {},
   "source": [
    "### Web Portals Hosting Datasets\n",
    "1. https://www.kaggle.com/datasets\n",
    "2. https://data.gov/\n",
    "3. https://archive.ics.uci.edu/ml/datasets.php\n",
    "4. https://datahub.io/collections\n",
    "5. https://apps.who.int/gho/data/node.home"
   ]
  },
  {
   "cell_type": "markdown",
   "id": "01a92341",
   "metadata": {},
   "source": [
    "### Web APIs\n",
    "1. What is an API: https://www.altexsoft.com/blog/engineering/what-is-api-definition-types-specifications-documentation/\n",
    "2. Famous Web APIs\n",
    "    - https://developers.google.com/apis-explorer\n",
    "    - https://developers.facebook.com/docs/graph-api/overview\n",
    "    - http://www.espn.com/apis/devcenter/docs/\n",
    "    - https://developer.twitter.com/en/docs/twitter-api\n",
    "    - https://www.partners.skyscanner.net/affiliates/travel-apis\n",
    "    - https://openweathermap.org/"
   ]
  },
  {
   "cell_type": "code",
   "execution_count": null,
   "id": "59d53e6a",
   "metadata": {},
   "outputs": [],
   "source": []
  },
  {
   "cell_type": "code",
   "execution_count": null,
   "id": "a8dec05a",
   "metadata": {},
   "outputs": [],
   "source": []
  },
  {
   "cell_type": "code",
   "execution_count": null,
   "id": "4fe28349",
   "metadata": {},
   "outputs": [],
   "source": []
  },
  {
   "cell_type": "markdown",
   "id": "c065f439",
   "metadata": {},
   "source": [
    "### What is Web Scraping?\n",
    "<img align=\"center\" width=\"700\" src=\"images/webscraping.png\"  >"
   ]
  },
  {
   "cell_type": "code",
   "execution_count": null,
   "id": "a54f6ca0",
   "metadata": {},
   "outputs": [],
   "source": []
  },
  {
   "cell_type": "code",
   "execution_count": null,
   "id": "f44420ff",
   "metadata": {},
   "outputs": [],
   "source": []
  },
  {
   "cell_type": "code",
   "execution_count": null,
   "id": "93beaeff",
   "metadata": {},
   "outputs": [],
   "source": []
  },
  {
   "cell_type": "markdown",
   "id": "927b52ac",
   "metadata": {},
   "source": [
    "### How Web Scraping Works?\n",
    "<img align=\"center\" width=\"800\" height=\"650\"  src=\"images/scrap.PNG\"  >"
   ]
  },
  {
   "cell_type": "code",
   "execution_count": null,
   "id": "0d49b3bd",
   "metadata": {},
   "outputs": [],
   "source": []
  },
  {
   "cell_type": "code",
   "execution_count": null,
   "id": "50e63f75",
   "metadata": {},
   "outputs": [],
   "source": []
  },
  {
   "cell_type": "code",
   "execution_count": null,
   "id": "164da126",
   "metadata": {},
   "outputs": [],
   "source": []
  },
  {
   "cell_type": "markdown",
   "id": "d222c251",
   "metadata": {},
   "source": [
    "### A Comparison?\n",
    "<img align=\"center\" width=\"500\"  src=\"images/bs-se-scrapy.jpg\"  >"
   ]
  },
  {
   "cell_type": "markdown",
   "id": "c772fbf6",
   "metadata": {},
   "source": [
    "<img align=\"right\" width=\"470\"  src=\"images/libs.png\"  >\n",
    "\n",
    "- Requests: https://requests.readthedocs.io/en/latest/\n",
    "- BeautifulSoup: https://beautiful-soup-4.readthedocs.io/en/latest/\n",
    "- Selenium: https://selenium-python.readthedocs.io\n",
    "- Scrapy: https://scrapy.org"
   ]
  },
  {
   "cell_type": "code",
   "execution_count": null,
   "id": "f0da95b4",
   "metadata": {},
   "outputs": [],
   "source": []
  },
  {
   "cell_type": "code",
   "execution_count": null,
   "id": "b52007f1",
   "metadata": {},
   "outputs": [],
   "source": []
  },
  {
   "cell_type": "code",
   "execution_count": null,
   "id": "56c71dfc",
   "metadata": {},
   "outputs": [],
   "source": []
  },
  {
   "cell_type": "markdown",
   "id": "a2e6d610",
   "metadata": {},
   "source": [
    "<img align=\"right\" width=\"200\" src=\"images/legal.png\"  >\n",
    "\n",
    "## Is Web Scraping Legal?\n",
    "- The legality of web scraping depends on the context of how you extract the data and how you plan to use it. Copying information from public domain websites for your own personal review and analysis is normally permissible. But re-using other people’s copyrighted content for profit may be unethical and possibly illegal. It’s important that you discuss your plans with legal counsel to ensure that your use is in compliance with copyright laws.\n",
    "- https://en.wikipedia.org/robots.txt\n",
    "- https://twitter.com/robots.txt\n",
    "- https://www.youtube.com/robots.txt\n",
    "- https://facebook.com/robots.txt\n",
    "- https://www.amazon.com/robots.txt"
   ]
  },
  {
   "cell_type": "markdown",
   "id": "5c27a5fa",
   "metadata": {},
   "source": [
    "<img align=\"center\" width=\"700\" height=\"650\"  src=\"images/imnotarobot.png\"  >"
   ]
  },
  {
   "cell_type": "code",
   "execution_count": null,
   "id": "59bcdd5b",
   "metadata": {},
   "outputs": [],
   "source": []
  },
  {
   "cell_type": "code",
   "execution_count": null,
   "id": "ee42d963",
   "metadata": {},
   "outputs": [],
   "source": []
  },
  {
   "cell_type": "code",
   "execution_count": null,
   "id": "81d5fba7",
   "metadata": {},
   "outputs": [],
   "source": []
  },
  {
   "cell_type": "markdown",
   "id": "81c01c5f",
   "metadata": {},
   "source": [
    "### A Bit of Motivation"
   ]
  },
  {
   "cell_type": "code",
   "execution_count": 34,
   "id": "31408ec8",
   "metadata": {},
   "outputs": [],
   "source": [
    "%run scrap_IK_tweets.py"
   ]
  },
  {
   "cell_type": "code",
   "execution_count": null,
   "id": "87dd0d99",
   "metadata": {},
   "outputs": [],
   "source": []
  },
  {
   "cell_type": "code",
   "execution_count": null,
   "id": "3eb36e87",
   "metadata": {},
   "outputs": [],
   "source": []
  },
  {
   "cell_type": "code",
   "execution_count": null,
   "id": "010ebccb",
   "metadata": {},
   "outputs": [],
   "source": []
  },
  {
   "cell_type": "code",
   "execution_count": null,
   "id": "02371ebc",
   "metadata": {},
   "outputs": [],
   "source": []
  },
  {
   "cell_type": "markdown",
   "id": "71c387d1",
   "metadata": {},
   "source": [
    "### Brush-up Your HTML, CSS, JavaScript Skills\n",
    "- Basics of HTML: https://webplatform.github.io/docs/html/\n",
    "- Basics of CSS: https://webplatform.github.io/docs/css/\n",
    "- Basics of JS: https://webplatform.github.io/docs/javascript/"
   ]
  },
  {
   "cell_type": "code",
   "execution_count": null,
   "id": "c9578b8a",
   "metadata": {},
   "outputs": [],
   "source": []
  },
  {
   "cell_type": "code",
   "execution_count": null,
   "id": "b9c8a8fb",
   "metadata": {},
   "outputs": [],
   "source": []
  },
  {
   "cell_type": "code",
   "execution_count": null,
   "id": "24fe8132",
   "metadata": {},
   "outputs": [],
   "source": []
  },
  {
   "cell_type": "code",
   "execution_count": null,
   "id": "d34c8102",
   "metadata": {},
   "outputs": [],
   "source": []
  },
  {
   "cell_type": "code",
   "execution_count": null,
   "id": "8db2424d",
   "metadata": {},
   "outputs": [],
   "source": []
  },
  {
   "cell_type": "markdown",
   "id": "e4860d50",
   "metadata": {},
   "source": [
    "# Overview of a Web Application Architecture\n",
    "<img align=\"center\"   width=\"750\" height=\"250\" src=\"images/web_architecture.png\"  >"
   ]
  },
  {
   "cell_type": "code",
   "execution_count": null,
   "id": "9d406652",
   "metadata": {},
   "outputs": [],
   "source": []
  },
  {
   "cell_type": "code",
   "execution_count": null,
   "id": "2e768397",
   "metadata": {},
   "outputs": [],
   "source": []
  },
  {
   "cell_type": "code",
   "execution_count": null,
   "id": "f2087e82",
   "metadata": {},
   "outputs": [],
   "source": []
  },
  {
   "cell_type": "code",
   "execution_count": null,
   "id": "bee2567b",
   "metadata": {},
   "outputs": [],
   "source": []
  },
  {
   "cell_type": "code",
   "execution_count": null,
   "id": "e56da888",
   "metadata": {},
   "outputs": [],
   "source": []
  },
  {
   "cell_type": "markdown",
   "id": "99df35ab",
   "metadata": {},
   "source": [
    "## The Anatomy of a Web Page\n",
    "<img align=\"center\"   src=\"images/devtools.png\"  >"
   ]
  },
  {
   "cell_type": "code",
   "execution_count": null,
   "id": "f0ea05c5",
   "metadata": {},
   "outputs": [],
   "source": []
  },
  {
   "cell_type": "code",
   "execution_count": null,
   "id": "028b2600",
   "metadata": {},
   "outputs": [],
   "source": []
  },
  {
   "cell_type": "code",
   "execution_count": null,
   "id": "46e9fa21",
   "metadata": {},
   "outputs": [],
   "source": []
  },
  {
   "cell_type": "markdown",
   "id": "9adcc1ef",
   "metadata": {},
   "source": [
    "## The Document Object Model\n",
    "<img align=\"center\"   src=\"images/dom.jpeg\"  >"
   ]
  },
  {
   "cell_type": "markdown",
   "id": "92db641f",
   "metadata": {},
   "source": [
    "To read more about Document Object Model: https://developer.mozilla.org/en-US/docs/Web/API/Document_Object_Model/Introduction"
   ]
  },
  {
   "cell_type": "code",
   "execution_count": null,
   "id": "8c9275d3",
   "metadata": {},
   "outputs": [],
   "source": []
  },
  {
   "cell_type": "code",
   "execution_count": null,
   "id": "16b98576",
   "metadata": {},
   "outputs": [],
   "source": []
  },
  {
   "cell_type": "code",
   "execution_count": null,
   "id": "534dd6fa",
   "metadata": {},
   "outputs": [],
   "source": []
  },
  {
   "cell_type": "markdown",
   "id": "560aad1d",
   "metadata": {},
   "source": [
    "## Google Chrome Developer Tools"
   ]
  },
  {
   "cell_type": "markdown",
   "id": "00a565ba",
   "metadata": {},
   "source": [
    "\n",
    "To read more about Google Chrome Developer Tools: https://developer.chrome.com/docs/devtools/\n",
    "\n",
    "Books Scraping WebSite (Version 1): https://arifpucit.github.io/bss1\n",
    "\n",
    "Books Scraping WebSite (Version 2): https://arifpucit.github.io/bss2"
   ]
  },
  {
   "cell_type": "code",
   "execution_count": null,
   "id": "108023ac",
   "metadata": {},
   "outputs": [],
   "source": []
  },
  {
   "cell_type": "code",
   "execution_count": null,
   "id": "7f177071",
   "metadata": {},
   "outputs": [],
   "source": []
  },
  {
   "cell_type": "code",
   "execution_count": null,
   "id": "3d8874ea",
   "metadata": {},
   "outputs": [],
   "source": []
  },
  {
   "cell_type": "code",
   "execution_count": null,
   "id": "ab8677a9",
   "metadata": {},
   "outputs": [],
   "source": []
  },
  {
   "cell_type": "code",
   "execution_count": null,
   "id": "07c03f4a",
   "metadata": {},
   "outputs": [],
   "source": []
  },
  {
   "cell_type": "code",
   "execution_count": null,
   "id": "9e75316d",
   "metadata": {},
   "outputs": [],
   "source": []
  },
  {
   "cell_type": "code",
   "execution_count": null,
   "id": "563bae08",
   "metadata": {},
   "outputs": [],
   "source": []
  },
  {
   "cell_type": "markdown",
   "id": "3afdc66a",
   "metadata": {},
   "source": [
    "## Fetching Web Page Contents using Python `urllib` Package\n",
    "- The `urllib` package in Python 3 is a collection of following Python modules used for working with Uniform Resource Locators:\n",
    "    - `urllib.request` for opening and reading URLs, using variety of protocols\n",
    "    - `urllib.error` containing the exceptions raised by urllib.request\n",
    "    - `urllib.parse` for parsing URLs\n",
    "    - `urllib.robotparser` for parsing robots.txt files\n",
    "- https://docs.python.org/3/library/urllib.html\n",
    "- https://developer.mozilla.org/en-US/docs/Web/HTTP/Status"
   ]
  },
  {
   "cell_type": "markdown",
   "id": "fc9d48a6",
   "metadata": {},
   "source": [
    ">**The `urllib.request.urlopen()`, may return a URLError saying `SSL: CERTIFICATE_VERIFY_FAILED`. To handle this error set  the `_create_default_https_context` attribute of `ssl` to `_create_unverified_context`**"
   ]
  },
  {
   "cell_type": "code",
   "execution_count": 1,
   "id": "17a59d28",
   "metadata": {},
   "outputs": [],
   "source": [
    "import urllib"
   ]
  },
  {
   "cell_type": "code",
   "execution_count": 2,
   "id": "85b08fba",
   "metadata": {},
   "outputs": [
    {
     "name": "stdout",
     "output_type": "stream",
     "text": [
      "['__builtins__', '__cached__', '__doc__', '__file__', '__loader__', '__name__', '__package__', '__path__', '__spec__', 'error', 'parse', 'request', 'response']\n"
     ]
    }
   ],
   "source": [
    "print(dir(urllib))"
   ]
  },
  {
   "cell_type": "code",
   "execution_count": 3,
   "id": "9048ad8b",
   "metadata": {},
   "outputs": [
    {
     "name": "stdout",
     "output_type": "stream",
     "text": [
      "['AbstractBasicAuthHandler', 'AbstractDigestAuthHandler', 'AbstractHTTPHandler', 'BaseHandler', 'CacheFTPHandler', 'ContentTooShortError', 'DataHandler', 'FTPHandler', 'FancyURLopener', 'FileHandler', 'HTTPBasicAuthHandler', 'HTTPCookieProcessor', 'HTTPDefaultErrorHandler', 'HTTPDigestAuthHandler', 'HTTPError', 'HTTPErrorProcessor', 'HTTPHandler', 'HTTPPasswordMgr', 'HTTPPasswordMgrWithDefaultRealm', 'HTTPPasswordMgrWithPriorAuth', 'HTTPRedirectHandler', 'HTTPSHandler', 'MAXFTPCACHE', 'OpenerDirector', 'ProxyBasicAuthHandler', 'ProxyDigestAuthHandler', 'ProxyHandler', 'Request', 'URLError', 'URLopener', 'UnknownHandler', '__all__', '__builtins__', '__cached__', '__doc__', '__file__', '__loader__', '__name__', '__package__', '__spec__', '__version__', '_cut_port_re', '_ftperrors', '_get_proxies', '_get_proxy_settings', '_have_ssl', '_localhost', '_noheaders', '_opener', '_parse_proxy', '_proxy_bypass_macosx_sysconf', '_randombytes', '_safe_gethostbyname', '_splitattr', '_splithost', '_splitpasswd', '_splitport', '_splitquery', '_splittag', '_splittype', '_splituser', '_splitvalue', '_thishost', '_to_bytes', '_url_tempfiles', 'addclosehook', 'addinfourl', 'base64', 'bisect', 'build_opener', 'contextlib', 'email', 'ftpcache', 'ftperrors', 'ftpwrapper', 'getproxies', 'getproxies_environment', 'getproxies_macosx_sysconf', 'hashlib', 'http', 'install_opener', 'io', 'localhost', 'noheaders', 'os', 'parse_http_list', 'parse_keqv_list', 'pathname2url', 'posixpath', 'proxy_bypass', 'proxy_bypass_environment', 'proxy_bypass_macosx_sysconf', 'quote', 're', 'request_host', 'socket', 'ssl', 'string', 'sys', 'tempfile', 'thishost', 'time', 'unquote', 'unquote_to_bytes', 'unwrap', 'url2pathname', 'urlcleanup', 'urljoin', 'urlopen', 'urlparse', 'urlretrieve', 'urlsplit', 'urlunparse', 'warnings']\n"
     ]
    }
   ],
   "source": [
    "print(dir(urllib.request))"
   ]
  },
  {
   "cell_type": "code",
   "execution_count": 4,
   "id": "152c2568",
   "metadata": {},
   "outputs": [],
   "source": [
    "import ssl\n",
    "ssl._create_default_https_context = ssl._create_unverified_context"
   ]
  },
  {
   "cell_type": "code",
   "execution_count": 5,
   "id": "81ddcfbf",
   "metadata": {},
   "outputs": [],
   "source": [
    "resp = urllib.request.urlopen(\"https://arifpucit.github.io/bss2\")\n"
   ]
  },
  {
   "cell_type": "code",
   "execution_count": 6,
   "id": "3e44a13c",
   "metadata": {},
   "outputs": [
    {
     "data": {
      "text/plain": [
       "http.client.HTTPResponse"
      ]
     },
     "execution_count": 6,
     "metadata": {},
     "output_type": "execute_result"
    }
   ],
   "source": [
    "type(resp)"
   ]
  },
  {
   "cell_type": "code",
   "execution_count": 7,
   "id": "266f1d4f",
   "metadata": {},
   "outputs": [
    {
     "name": "stdout",
     "output_type": "stream",
     "text": [
      "['__abstractmethods__', '__class__', '__del__', '__delattr__', '__dict__', '__dir__', '__doc__', '__enter__', '__eq__', '__exit__', '__format__', '__ge__', '__getattribute__', '__gt__', '__hash__', '__init__', '__init_subclass__', '__iter__', '__le__', '__lt__', '__module__', '__ne__', '__new__', '__next__', '__reduce__', '__reduce_ex__', '__repr__', '__setattr__', '__sizeof__', '__str__', '__subclasshook__', '_abc_impl', '_checkClosed', '_checkReadable', '_checkSeekable', '_checkWritable', '_check_close', '_close_conn', '_get_chunk_left', '_method', '_peek_chunked', '_read1_chunked', '_read_and_discard_trailer', '_read_chunked', '_read_next_chunk_size', '_read_status', '_readinto_chunked', '_safe_read', '_safe_readinto', 'begin', 'chunk_left', 'chunked', 'close', 'closed', 'code', 'debuglevel', 'detach', 'fileno', 'flush', 'fp', 'getcode', 'getheader', 'getheaders', 'geturl', 'headers', 'info', 'isatty', 'isclosed', 'length', 'msg', 'peek', 'read', 'read1', 'readable', 'readinto', 'readinto1', 'readline', 'readlines', 'reason', 'seek', 'seekable', 'status', 'tell', 'truncate', 'url', 'version', 'will_close', 'writable', 'write', 'writelines']\n"
     ]
    }
   ],
   "source": [
    "print(dir(resp))"
   ]
  },
  {
   "cell_type": "code",
   "execution_count": 8,
   "id": "07277957",
   "metadata": {},
   "outputs": [
    {
     "data": {
      "text/plain": [
       "200"
      ]
     },
     "execution_count": 8,
     "metadata": {},
     "output_type": "execute_result"
    }
   ],
   "source": [
    "resp.code"
   ]
  },
  {
   "cell_type": "code",
   "execution_count": 9,
   "id": "cda4ec35",
   "metadata": {},
   "outputs": [
    {
     "name": "stdout",
     "output_type": "stream",
     "text": [
      "b'<!doctype html>\\n<html lang=\"en\">\\n  <head>\\n    <meta charset=\"utf-8\">\\n    <meta name=\"viewport\" content=\"width=device-width, initial-scale=1\">\\n    <title>BSS2</title>\\n    <!-- external style sheet -->\\n    <link rel=\"stylesheet\" href=\"./index.css\">\\n\\n    <!--Bootstrap style sheet-->\\n    <link href=\"https://cdn.jsdelivr.net/npm/bootstrap@5.2.0-beta1/dist/css/bootstrap.min.css\" rel=\"stylesheet\" integrity=\"sha384-0evHe/X+R7YkIZDRvuzKMRqM+OrBnVFBL6DOitfPri4tjfHxaWutUpFmBp4vmVor\" crossorigin=\"anonymous\">\\n\\n    <!--for icons of tick and cross ans star for in stock-->\\n    <link rel=\"stylesheet\" href=\"https://cdnjs.cloudflare.com/ajax/libs/font-awesome/4.7.0/css/font-awesome.min.css\"> \\n\\n  </head>\\n  <body>\\n    <header class=\"header d-flex align-items-center justify-content-between\">\\n        <img class=\"image-container\" src=\"./images//arif.jpg\" alt=\"arif\"/>\\n         <p> <span class=\"large_text\">Books Scraping Site</span></p>\\n        <img class=\"image-container\" src=\"./images/pucit.jpg\" alt=\"pucit\"/>\\n    </header>\\n    <section>\\n        <div class=\"main-container d-flex align-items-start justify-content-between\">\\n            <div class=\"navbar\">\\n                <ul class=\"nav-links\">\\n                    <div class=\"link text-center\" id=\"book_title\">Books Titles</div>\\n                    <li class=\"link book_type\"><a href=\"index.html\">Operating System</a></li>\\n                    <li class=\"link book_type\"><a href=\"SP.html\">System Programming</a></li>\\n                    <li class=\"link book_type\"><a href=\"CA.html\">Computer Architecture</a></li>\\n                </ul>\\n            </div>\\n            <div class=\"items\">\\n                <div id=\"book_page_titile\">Operating Systems</div>\\n                <div class=\"row\">\\n                    <div class=\"book_container col-sm-4\">\\n                        <img src=\"images/OS concepts.jpg\" alt=\"\" title=\"The Linux Programming Interface (TLPI) is the definitive guide &#10; to the Linux and UNIX programming interface\\xe2\\x80\\x94the interface&#10; employed by nearly every application that runs on a &#10;Linux or UNIX system.\">\\n                        <p  class=\"book_name\"><a href=\"https://www.amazon.com/Operating-System-Concepts-Abridged-Companion/dp/1119456339\" target=\"_blank\">Operating System Concepts </br>By Avi Silberschatz</a></p>\\n                        <div class=\"align-left\">\\n                            <p class=\" price green\">Rs.2000</p>\\n                            <p class=\"stock in_stock \" data-stock=\"in stock\"><i class=\"fa fa-check\" aria-hidden=\"true\"></i> In stock</p>\\n                            <div><span class=\"fa fa-star \"></span><span class=\"fa fa-star \"></span><span class=\"fa fa-star \"></span><span class=\"fa fa-star  not_filled\"></span><span class=\"fa fa-star  not_filled\"></span></div>\\n                            <p class=\"review green\" data-rating=\"20\">20 Reviews</p>\\n                            <button>Add to cart</button>\\n                        </div>\\n                    </div>\\n                    <div class=\"book_container col-sm-4\">\\n                        <img src=\"images/Unix.jpg\" alt=\"\" title=\"It covers many topics not covered in older, more traditional textbook &#10;approaches, such as Python, UNIX System Programming from basics to &#10;socket-based network programming using the client-server paradigm, the &#10;Zettabyte File System (ZFS), and the highly developed X Windows-based&#10; KDE and Gnome GUI desktop environments\">\\n                        <p  class=\"book_name\"><a href=\"https://www.google.com/search?q=Unix+the+textbook+by+mansoor&rlz=1C1CHBD_enPK987PK987&oq=unix+the+textbook+by+mansoor&aqs=chrome.0.69i59j69i57j69i59j69i60l5.4419j0j7&sourceid=chrome&ie=UTF-8\" target=\"_blank\">UNIX The Textbook</br> By Syed Mansoor Sarwar</a></p>\\n                        <div class=\"align-left\">\\n                            <p class=\" price green\">Rs.5000</p>\\n                            <p class=\"stock in_stock \" data-stock=\"in stock\"><i class=\"fa fa-check\" aria-hidden=\"true\"></i> In stock</p>\\n                            <div><span class=\"fa fa-star \"></span><span class=\"fa fa-star \"></span><span class=\"fa fa-star \"></span><span class=\"fa fa-star \"></span><span class=\"fa fa-star \"></span></div>\\n                            <p class=\"review green\" data-rating=\"100\">100 Reviews</p>\\n                            <button>Add to cart</button>\\n                        </div>\\n                    </div>\\n                    <div class=\"book_container col-sm-4\">\\n                        <img src=\"images/taxonomy.jpg\" alt=\"\" title=\"Intrusion Detection using System Call Sequence\">\\n                        <p  class=\"book_name\"><a href=\"https://www.amazon.in/Taxonomy-Ids-Arif-Butt/dp/3639294092\" target=\"_blank\">Taxonomy of IDS </br>By Arif Butt</a></p>\\n                        <div class=\"align-left\">\\n                            <p class=\" price green\">Rs.6900</p>\\n                            <p class=\"stock not_stock \" data-stock=\"not in stock\"><i class=\"fa fa-times\" aria-hidden=\"true\"></i> Not in stock</p>\\n                            <div><span class=\"fa fa-star \"></span><span class=\"fa fa-star \"></span><span class=\"fa fa-star\"></span><span class=\"fa fa-star\"></span><span class=\"fa fa-star not_filled\"></span></div>\\n                            <p class=\"review green\" data-rating=\"20\">20 Reviews</p>\\n                            <button>Add to cart</button>\\n                        </div>\\n                    </div>\\n                    <div class=\"book_container col-sm-4\">\\n                        <img src=\"images/understanding OS.jpg\" alt=\"\" title=\"This book approaches the LINUX environment as a programming&#10; companion. No previous exposure to LINUX is necessary to utilize&#10; this text.\">\\n                        <p  class=\"book_name\"><a href=\"https://www.amazon.com/Understanding-Operating-Systems-Ann-McHoes/dp/1305674251\" target=\"_blank\">Understanding operating systems</br> By Ida Flynn</a></p>\\n                        <div class=\"align-left\">\\n                            <p class=\" price green\">Rs.2700</p>\\n                            <p class=\"stock not_stock \" data-stock=\"not in stock\"><i class=\"fa fa-times\" aria-hidden=\"true\"></i> Not in stock</p>\\n                            <div><span class=\"fa fa-star \"></span><span class=\"fa fa-star \"></span><span class=\"fa fa-star not_filled\"></span><span class=\"fa fa-star not_filled\"></span><span class=\"fa fa-star not_filled\"></span></div>\\n                            <p class=\"review green\" data-rating=\"60\">60 Reviews</p>\\n                            <button>Add to cart</button>\\n                        </div>\\n                    </div>\\n                    <div class=\"book_container col-sm-4\">\\n                        <img src=\"images/Computer Systems.jpg\" alt=\"\" title=\"It covers computers\\' data representation, explains how computer architecture&#10; and its underlying meaning changed over the years, and examines&#10; the implementations and performance enhancements of the central processing unit (CPU).\">\\n                        <p  class=\"book_name\"><a href=\"https://www.goodreads.com/book/show/829182.Computer_Systems\" target=\"_blank\">Computer Systems </br> By Randal E. Bryant </a></p>\\n                        <div class=\"align-left\">\\n                            <p class=\" price green\">Rs.1700</p>\\n                            <p class=\"stock in_stock \" data-stock=\"in stock\"><i class=\"fa fa-check\" aria-hidden=\"true\"></i> In stock</p>\\n                            <div><span class=\"fa fa-star \"></span><span class=\"fa fa-star \"></span><span class=\"fa fa-star not_filled\"></span><span class=\"fa fa-star not_filled\"></span><span class=\"fa fa-star not_filled\"></span></div>\\n                            <p class=\"review green\" data-rating=\"25\">25 Reviews</p>\\n                            <button>Add to cart</button>\\n                        </div>\\n                    </div>\\n                    <div class=\"book_container col-sm-4\">\\n                        <img src=\"images/linux bible.jpg\" alt=\"\" title=\"It includes information on cloud computing, with new guidance on containerization,&#10; Ansible automation, and Kubernetes and OpenShift. With a&#10; focus on RHEL 8\">\\n                        <p  class=\"book_name\"><a href=\"https://www.amazon.com/Linux-Bible-Christopher-Negus/dp/111821854X\" target=\"_blank\">Linux bible </br> Book By Christopher Negus</a></p></p>\\n                        <div class=\"align-left\">\\n                            <p class=\" price green\">Rs.1800</p>\\n                            <p class=\"stock not_stock \" data-stock=\"not in stock\"><i class=\"fa fa-times\" aria-hidden=\"true\"></i> Not in stock</p>\\n                            <div><span class=\"fa fa-star\"></span><span class=\"fa fa-star not_filled\"></span><span class=\"fa fa-star not_filled\"></span><span class=\"fa fa-star not_filled\"></span><span class=\"fa fa-star not_filled\"></span></div>\\n                            <p class=\"review green\" data-rating=\"21\">21 Reviews</p>\\n                            <button>Add to cart</button>\\n                        </div>\\n                    </div>\\n                    <div class=\"book_container col-sm-4\">\\n                        <img src=\"images/advanced programming in unix.jpg\" alt=\"\" title=\"This book approaches the LINUX environment as a programming&#10; companion. No previous exposure to LINUX is necessary to utilize&#10; this text.\">\\n                        <p  class=\"book_name\"><a href=\"https://www.amazon.com/dp/0321637739?tag=uuid10-20\" target=\"_blank\">Advanced Programming in the UNIX Environment </br> By W. Stevans</a></p>\\n                        <div class=\"align-left\">\\n                            <p class=\" price green\">Rs.6000</p>\\n                            <p class=\"stock in_stock \" data-stock=\"in stock\"><i class=\"fa fa-check\" aria-hidden=\"true\"></i> In stock</p>\\n                            <div><span class=\"fa fa-star\"></span><span class=\"fa fa-star not_filled\"></span><span class=\"fa fa-star not_filled\"></span><span class=\"fa fa-star not_filled\"></span><span class=\"fa fa-star not_filled\"></span></div>\\n                            <p class=\"review green\" data-rating=\"40\">40 Reviews</p>\\n                            <button>Add to cart</button>\\n                        </div>\\n                    </div>\\n                    <div class=\"book_container col-sm-4\">\\n                        <img src=\"images/OS a design appraoch.png\" alt=\"\" title=\"It covers computers\\' data representation, explains how computer architecture&#10; and its underlying meaning changed over the years, and examines&#10; the implementations and performance enhancements of the central processing unit (CPU).\">\\n                        <p  class=\"book_name\"><a href=\"https://www.amazon.com/s?k=Operating+Systems%3A+A+Design-oriented+Approach&i=stripbooks-intl-ship&ref=nb_sb_noss\" target=\"_blank\">Operating Systems: A Design-oriented Approach</br> By Charles Patrick Crowley</a></p>\\n                        <div class=\"align-left\">\\n                            <p class=\" price green\">Rs.1000</p>\\n                            <p class=\"stock in_stock \" data-stock=\"in stock\"><i class=\"fa fa-check\" aria-hidden=\"true\"></i> In stock</p>\\n                            <div><span class=\"fa fa-star\"></span><span class=\"fa fa-star \"></span><span class=\"fa fa-star \"></span><span class=\"fa fa-star not_filled\"></span><span class=\"fa fa-star not_filled\"></span></div>\\n                            <p class=\"review green\" data-rating=\"90\">90 Reviews</p>\\n                            <button>Add to cart</button>\\n                        </div>\\n                    </div>\\n                    <div class=\"book_container col-sm-4\">\\n                        <img src=\"images/hands on network programming.jpg\" alt=\"\" title=\"It includes information on cloud computing, with new guidance on containerization,&#10; Ansible automation, and Kubernetes and OpenShift. With a&#10; focus on RHEL 8\">\\n                        <p  class=\"book_name\"><a href=\"https://www.amazon.com/Hands-Network-Programming-programming-optimized/dp/1789349869/ref=sr_1_1?crid=11FC0M0GAFA21&amp&keywords=unix+network+programming+2019&amp&qid=1653381349&amp&s=books&amp&sprefix=unix+network+programming+2019%2Cstripbooks-intl-ship%2C356&amp&sr=1-1\" target=\"_blank\">Hands-On Network Programming with C </br> By Lewis Van Winkle</p></a></p>\\n                        <div class=\"align-left\">\\n                            <p class=\" price green\">Rs.1800</p>\\n                            <p class=\"stock in_stock \" data-stock=\"in stock\"><i class=\"fa fa-check\" aria-hidden=\"true\"></i> In stock</p>\\n                            <div><span class=\"fa fa-star\"></span><span class=\"fa fa-star \"></span><span class=\"fa fa-star\"></span><span class=\"fa fa-star \"></span><span class=\"fa fa-star not_filled\"></span></div>\\n                            <p class=\"review green\" data-rating=\"70\">70 Reviews</p>\\n                            <button>Add to cart</button>\\n                        </div>\\n                    </div>\\n            </div>\\n        </div>\\n    </section>\\n    <script src=\"https://cdn.jsdelivr.net/npm/bootstrap@5.2.0-beta1/dist/js/bootstrap.bundle.min.js\" integrity=\"sha384-pprn3073KE6tl6bjs2QrFaJGz5/SUsLqktiwsUTF55Jfv3qYSDhgCecCxMW52nD2\" crossorigin=\"anonymous\"></script>\\n  </body>\\n</html>\\n'\n"
     ]
    }
   ],
   "source": [
    "html = resp.read()\n",
    "print(html)"
   ]
  },
  {
   "cell_type": "code",
   "execution_count": null,
   "id": "e3ef7dd7",
   "metadata": {},
   "outputs": [],
   "source": []
  },
  {
   "cell_type": "code",
   "execution_count": null,
   "id": "960ac32f",
   "metadata": {},
   "outputs": [],
   "source": []
  },
  {
   "cell_type": "code",
   "execution_count": null,
   "id": "e736db8c",
   "metadata": {},
   "outputs": [],
   "source": []
  },
  {
   "cell_type": "code",
   "execution_count": null,
   "id": "eca30bd5",
   "metadata": {},
   "outputs": [],
   "source": []
  },
  {
   "cell_type": "code",
   "execution_count": null,
   "id": "69ae190e",
   "metadata": {},
   "outputs": [],
   "source": []
  },
  {
   "cell_type": "code",
   "execution_count": null,
   "id": "a21deb80",
   "metadata": {},
   "outputs": [],
   "source": []
  },
  {
   "cell_type": "code",
   "execution_count": null,
   "id": "f8535ca9",
   "metadata": {},
   "outputs": [],
   "source": []
  },
  {
   "cell_type": "code",
   "execution_count": null,
   "id": "3f55f60a",
   "metadata": {},
   "outputs": [],
   "source": []
  },
  {
   "cell_type": "code",
   "execution_count": null,
   "id": "0f78cb5d",
   "metadata": {},
   "outputs": [],
   "source": []
  },
  {
   "cell_type": "code",
   "execution_count": null,
   "id": "97130ce7",
   "metadata": {},
   "outputs": [],
   "source": []
  },
  {
   "cell_type": "code",
   "execution_count": null,
   "id": "0f09ba70",
   "metadata": {},
   "outputs": [],
   "source": []
  },
  {
   "cell_type": "markdown",
   "id": "91480126",
   "metadata": {},
   "source": [
    "## Fetching Web Page Contents using Python `Requests` Library\n",
    "- `Requests` is an open-source Python library that makes HTTP requests more human-friendly and simple to use.\n",
    "- The `requests` library support a fully RESTful API and uses commands to obtain resources, such as:\n",
    "    - `request.get()` to retrieve a resource;\n",
    "    - `request.put()` to change the state of or update a resource, which can be an object, file or block\n",
    "    - `request.post()` to create that resource\n",
    "    - `request.delete()` to remove a resource.\n",
    "- A REST API is an API that conforms to the design principles of the REST, or representational state transfer architectural style:\n",
    "    - Uniform interface\n",
    "    - Client-server decoupling\n",
    "    - Statelessness\n",
    "    - Cacheability\n",
    "    - Layered system architecture\n",
    "\n",
    "- https://requests.readthedocs.io/en/latest/"
   ]
  },
  {
   "cell_type": "markdown",
   "id": "6ac0f9ca",
   "metadata": {},
   "source": [
    "**Installing Requests Library**"
   ]
  },
  {
   "cell_type": "code",
   "execution_count": 11,
   "id": "8b046746",
   "metadata": {},
   "outputs": [],
   "source": [
    "import sys\n",
    "!{sys.executable} -m pip install --upgrade pip -q\n",
    "!{sys.executable} -m pip install --upgrade requests -q"
   ]
  },
  {
   "cell_type": "code",
   "execution_count": 10,
   "id": "550d67ff",
   "metadata": {},
   "outputs": [
    {
     "data": {
      "text/plain": [
       "('2.27.1',\n",
       " ['/Library/Frameworks/Python.framework/Versions/3.10/lib/python3.10/site-packages/requests'])"
      ]
     },
     "execution_count": 10,
     "metadata": {},
     "output_type": "execute_result"
    }
   ],
   "source": [
    "import requests\n",
    "requests.__version__ , requests.__path__"
   ]
  },
  {
   "cell_type": "markdown",
   "id": "771574d5",
   "metadata": {},
   "source": [
    "**Example 1: Fetching, Reading and saving the HTML code of a Web page in a Text File**"
   ]
  },
  {
   "cell_type": "code",
   "execution_count": 11,
   "id": "6b80124a",
   "metadata": {},
   "outputs": [
    {
     "name": "stdout",
     "output_type": "stream",
     "text": [
      "['ConnectTimeout', 'ConnectionError', 'DependencyWarning', 'FileModeWarning', 'HTTPError', 'JSONDecodeError', 'NullHandler', 'PreparedRequest', 'ReadTimeout', 'Request', 'RequestException', 'RequestsDependencyWarning', 'Response', 'Session', 'Timeout', 'TooManyRedirects', 'URLRequired', '__author__', '__author_email__', '__build__', '__builtins__', '__cached__', '__cake__', '__copyright__', '__description__', '__doc__', '__file__', '__license__', '__loader__', '__name__', '__package__', '__path__', '__spec__', '__title__', '__url__', '__version__', '_check_cryptography', '_internal_utils', 'adapters', 'api', 'auth', 'certs', 'chardet_version', 'charset_normalizer_version', 'check_compatibility', 'codes', 'compat', 'cookies', 'delete', 'exceptions', 'get', 'head', 'hooks', 'logging', 'models', 'options', 'packages', 'patch', 'post', 'put', 'request', 'session', 'sessions', 'ssl', 'status_codes', 'structures', 'urllib3', 'utils', 'warnings']\n"
     ]
    }
   ],
   "source": [
    "print(dir(requests))"
   ]
  },
  {
   "cell_type": "code",
   "execution_count": 12,
   "id": "d8ad27d5",
   "metadata": {},
   "outputs": [],
   "source": [
    "resp = requests.get(\"https://arifpucit.github.io/bss2\")"
   ]
  },
  {
   "cell_type": "code",
   "execution_count": 13,
   "id": "c174cad0",
   "metadata": {},
   "outputs": [
    {
     "name": "stdout",
     "output_type": "stream",
     "text": [
      "<class 'requests.models.Response'>\n"
     ]
    }
   ],
   "source": [
    "print(type(resp))"
   ]
  },
  {
   "cell_type": "code",
   "execution_count": 14,
   "id": "221cf10c",
   "metadata": {},
   "outputs": [
    {
     "name": "stdout",
     "output_type": "stream",
     "text": [
      "['__attrs__', '__bool__', '__class__', '__delattr__', '__dict__', '__dir__', '__doc__', '__enter__', '__eq__', '__exit__', '__format__', '__ge__', '__getattribute__', '__getstate__', '__gt__', '__hash__', '__init__', '__init_subclass__', '__iter__', '__le__', '__lt__', '__module__', '__ne__', '__new__', '__nonzero__', '__reduce__', '__reduce_ex__', '__repr__', '__setattr__', '__setstate__', '__sizeof__', '__str__', '__subclasshook__', '__weakref__', '_content', '_content_consumed', '_next', 'apparent_encoding', 'close', 'connection', 'content', 'cookies', 'elapsed', 'encoding', 'headers', 'history', 'is_permanent_redirect', 'is_redirect', 'iter_content', 'iter_lines', 'json', 'links', 'next', 'ok', 'raise_for_status', 'raw', 'reason', 'request', 'status_code', 'text', 'url']\n"
     ]
    }
   ],
   "source": [
    "print(dir(resp))"
   ]
  },
  {
   "cell_type": "code",
   "execution_count": 15,
   "id": "e7baa8a1",
   "metadata": {},
   "outputs": [
    {
     "data": {
      "text/plain": [
       "200"
      ]
     },
     "execution_count": 15,
     "metadata": {},
     "output_type": "execute_result"
    }
   ],
   "source": [
    "resp.status_code"
   ]
  },
  {
   "cell_type": "code",
   "execution_count": 16,
   "id": "3f0519f7",
   "metadata": {},
   "outputs": [
    {
     "data": {
      "text/plain": [
       "'https://arifpucit.github.io/bss2/'"
      ]
     },
     "execution_count": 16,
     "metadata": {},
     "output_type": "execute_result"
    }
   ],
   "source": [
    "resp.url"
   ]
  },
  {
   "cell_type": "code",
   "execution_count": 17,
   "id": "c160cefb",
   "metadata": {},
   "outputs": [
    {
     "data": {
      "text/plain": [
       "{'Connection': 'keep-alive', 'Content-Length': '2757', 'Server': 'GitHub.com', 'Content-Type': 'text/html; charset=utf-8', 'permissions-policy': 'interest-cohort=()', 'Last-Modified': 'Mon, 27 Jun 2022 12:32:49 GMT', 'Access-Control-Allow-Origin': '*', 'ETag': 'W/\"62b9a371-33ad\"', 'expires': 'Tue, 27 Sep 2022 09:05:03 GMT', 'Cache-Control': 'max-age=600', 'Content-Encoding': 'gzip', 'x-proxy-cache': 'MISS', 'X-GitHub-Request-Id': '24F2:68B5:E0FE8:FF0FC:6332BA67', 'Accept-Ranges': 'bytes', 'Date': 'Tue, 27 Sep 2022 08:55:03 GMT', 'Via': '1.1 varnish', 'Age': '0', 'X-Served-By': 'cache-qpg1231-QPG', 'X-Cache': 'MISS', 'X-Cache-Hits': '0', 'X-Timer': 'S1664268903.301780,VS0,VE240', 'Vary': 'Accept-Encoding', 'X-Fastly-Request-ID': '15ef6ec08cc35a9b890ae25cfadc3abd2ce75954'}"
      ]
     },
     "execution_count": 17,
     "metadata": {},
     "output_type": "execute_result"
    }
   ],
   "source": [
    "resp.headers"
   ]
  },
  {
   "cell_type": "code",
   "execution_count": 18,
   "id": "4fa5d5fa",
   "metadata": {},
   "outputs": [
    {
     "data": {
      "text/plain": [
       "'GitHub.com'"
      ]
     },
     "execution_count": 18,
     "metadata": {},
     "output_type": "execute_result"
    }
   ],
   "source": [
    "resp.headers['Server']"
   ]
  },
  {
   "cell_type": "code",
   "execution_count": 19,
   "id": "030d2013",
   "metadata": {},
   "outputs": [
    {
     "data": {
      "text/plain": [
       "'Mon, 27 Jun 2022 12:32:49 GMT'"
      ]
     },
     "execution_count": 19,
     "metadata": {},
     "output_type": "execute_result"
    }
   ],
   "source": [
    "resp.headers['Last-Modified']"
   ]
  },
  {
   "cell_type": "code",
   "execution_count": 20,
   "id": "95f227ab",
   "metadata": {},
   "outputs": [
    {
     "name": "stdout",
     "output_type": "stream",
     "text": [
      "<!doctype html>\n",
      "<html lang=\"en\">\n",
      "  <head>\n",
      "    <meta charset=\"utf-8\">\n",
      "    <meta name=\"viewport\" content=\"width=device-width, initial-scale=1\">\n",
      "    <title>BSS2</title>\n",
      "    <!-- external style sheet -->\n",
      "    <link rel=\"stylesheet\" href=\"./index.css\">\n",
      "\n",
      "    <!--Bootstrap style sheet-->\n",
      "    <link href=\"https://cdn.jsdelivr.net/npm/bootstrap@5.2.0-beta1/dist/css/bootstrap.min.css\" rel=\"stylesheet\" integrity=\"sha384-0evHe/X+R7YkIZDRvuzKMRqM+OrBnVFBL6DOitfPri4tjfHxaWutUpFmBp4vmVor\" crossorigin=\"anonymous\">\n",
      "\n",
      "    <!--for icons of tick and cross ans star for in stock-->\n",
      "    <link rel=\"stylesheet\" href=\"https://cdnjs.cloudflare.com/ajax/libs/font-awesome/4.7.0/css/font-awesome.min.css\"> \n",
      "\n",
      "  </head>\n",
      "  <body>\n",
      "    <header class=\"header d-flex align-items-center justify-content-between\">\n",
      "        <img class=\"image-container\" src=\"./images//arif.jpg\" alt=\"arif\"/>\n",
      "         <p> <span class=\"large_text\">Books Scraping Site</span></p>\n",
      "        <img class=\"image-container\" src=\"./images/pucit.jpg\" alt=\"pucit\"/>\n",
      "    </header>\n",
      "    <section>\n",
      "        <div class=\"main-container d-flex align-items-start justify-content-between\">\n",
      "            <div class=\"navbar\">\n",
      "                <ul class=\"nav-links\">\n",
      "                    <div class=\"link text-center\" id=\"book_title\">Books Titles</div>\n",
      "                    <li class=\"link book_type\"><a href=\"index.html\">Operating System</a></li>\n",
      "                    <li class=\"link book_type\"><a href=\"SP.html\">System Programming</a></li>\n",
      "                    <li class=\"link book_type\"><a href=\"CA.html\">Computer Architecture</a></li>\n",
      "                </ul>\n",
      "            </div>\n",
      "            <div class=\"items\">\n",
      "                <div id=\"book_page_titile\">Operating Systems</div>\n",
      "                <div class=\"row\">\n",
      "                    <div class=\"book_container col-sm-4\">\n",
      "                        <img src=\"images/OS concepts.jpg\" alt=\"\" title=\"The Linux Programming Interface (TLPI) is the definitive guide &#10; to the Linux and UNIX programming interface—the interface&#10; employed by nearly every application that runs on a &#10;Linux or UNIX system.\">\n",
      "                        <p  class=\"book_name\"><a href=\"https://www.amazon.com/Operating-System-Concepts-Abridged-Companion/dp/1119456339\" target=\"_blank\">Operating System Concepts </br>By Avi Silberschatz</a></p>\n",
      "                        <div class=\"align-left\">\n",
      "                            <p class=\" price green\">Rs.2000</p>\n",
      "                            <p class=\"stock in_stock \" data-stock=\"in stock\"><i class=\"fa fa-check\" aria-hidden=\"true\"></i> In stock</p>\n",
      "                            <div><span class=\"fa fa-star \"></span><span class=\"fa fa-star \"></span><span class=\"fa fa-star \"></span><span class=\"fa fa-star  not_filled\"></span><span class=\"fa fa-star  not_filled\"></span></div>\n",
      "                            <p class=\"review green\" data-rating=\"20\">20 Reviews</p>\n",
      "                            <button>Add to cart</button>\n",
      "                        </div>\n",
      "                    </div>\n",
      "                    <div class=\"book_container col-sm-4\">\n",
      "                        <img src=\"images/Unix.jpg\" alt=\"\" title=\"It covers many topics not covered in older, more traditional textbook &#10;approaches, such as Python, UNIX System Programming from basics to &#10;socket-based network programming using the client-server paradigm, the &#10;Zettabyte File System (ZFS), and the highly developed X Windows-based&#10; KDE and Gnome GUI desktop environments\">\n",
      "                        <p  class=\"book_name\"><a href=\"https://www.google.com/search?q=Unix+the+textbook+by+mansoor&rlz=1C1CHBD_enPK987PK987&oq=unix+the+textbook+by+mansoor&aqs=chrome.0.69i59j69i57j69i59j69i60l5.4419j0j7&sourceid=chrome&ie=UTF-8\" target=\"_blank\">UNIX The Textbook</br> By Syed Mansoor Sarwar</a></p>\n",
      "                        <div class=\"align-left\">\n",
      "                            <p class=\" price green\">Rs.5000</p>\n",
      "                            <p class=\"stock in_stock \" data-stock=\"in stock\"><i class=\"fa fa-check\" aria-hidden=\"true\"></i> In stock</p>\n",
      "                            <div><span class=\"fa fa-star \"></span><span class=\"fa fa-star \"></span><span class=\"fa fa-star \"></span><span class=\"fa fa-star \"></span><span class=\"fa fa-star \"></span></div>\n",
      "                            <p class=\"review green\" data-rating=\"100\">100 Reviews</p>\n",
      "                            <button>Add to cart</button>\n",
      "                        </div>\n",
      "                    </div>\n",
      "                    <div class=\"book_container col-sm-4\">\n",
      "                        <img src=\"images/taxonomy.jpg\" alt=\"\" title=\"Intrusion Detection using System Call Sequence\">\n",
      "                        <p  class=\"book_name\"><a href=\"https://www.amazon.in/Taxonomy-Ids-Arif-Butt/dp/3639294092\" target=\"_blank\">Taxonomy of IDS </br>By Arif Butt</a></p>\n",
      "                        <div class=\"align-left\">\n",
      "                            <p class=\" price green\">Rs.6900</p>\n",
      "                            <p class=\"stock not_stock \" data-stock=\"not in stock\"><i class=\"fa fa-times\" aria-hidden=\"true\"></i> Not in stock</p>\n",
      "                            <div><span class=\"fa fa-star \"></span><span class=\"fa fa-star \"></span><span class=\"fa fa-star\"></span><span class=\"fa fa-star\"></span><span class=\"fa fa-star not_filled\"></span></div>\n",
      "                            <p class=\"review green\" data-rating=\"20\">20 Reviews</p>\n",
      "                            <button>Add to cart</button>\n",
      "                        </div>\n",
      "                    </div>\n",
      "                    <div class=\"book_container col-sm-4\">\n",
      "                        <img src=\"images/understanding OS.jpg\" alt=\"\" title=\"This book approaches the LINUX environment as a programming&#10; companion. No previous exposure to LINUX is necessary to utilize&#10; this text.\">\n",
      "                        <p  class=\"book_name\"><a href=\"https://www.amazon.com/Understanding-Operating-Systems-Ann-McHoes/dp/1305674251\" target=\"_blank\">Understanding operating systems</br> By Ida Flynn</a></p>\n",
      "                        <div class=\"align-left\">\n",
      "                            <p class=\" price green\">Rs.2700</p>\n",
      "                            <p class=\"stock not_stock \" data-stock=\"not in stock\"><i class=\"fa fa-times\" aria-hidden=\"true\"></i> Not in stock</p>\n",
      "                            <div><span class=\"fa fa-star \"></span><span class=\"fa fa-star \"></span><span class=\"fa fa-star not_filled\"></span><span class=\"fa fa-star not_filled\"></span><span class=\"fa fa-star not_filled\"></span></div>\n",
      "                            <p class=\"review green\" data-rating=\"60\">60 Reviews</p>\n",
      "                            <button>Add to cart</button>\n",
      "                        </div>\n",
      "                    </div>\n",
      "                    <div class=\"book_container col-sm-4\">\n",
      "                        <img src=\"images/Computer Systems.jpg\" alt=\"\" title=\"It covers computers' data representation, explains how computer architecture&#10; and its underlying meaning changed over the years, and examines&#10; the implementations and performance enhancements of the central processing unit (CPU).\">\n",
      "                        <p  class=\"book_name\"><a href=\"https://www.goodreads.com/book/show/829182.Computer_Systems\" target=\"_blank\">Computer Systems </br> By Randal E. Bryant </a></p>\n",
      "                        <div class=\"align-left\">\n",
      "                            <p class=\" price green\">Rs.1700</p>\n",
      "                            <p class=\"stock in_stock \" data-stock=\"in stock\"><i class=\"fa fa-check\" aria-hidden=\"true\"></i> In stock</p>\n",
      "                            <div><span class=\"fa fa-star \"></span><span class=\"fa fa-star \"></span><span class=\"fa fa-star not_filled\"></span><span class=\"fa fa-star not_filled\"></span><span class=\"fa fa-star not_filled\"></span></div>\n",
      "                            <p class=\"review green\" data-rating=\"25\">25 Reviews</p>\n",
      "                            <button>Add to cart</button>\n",
      "                        </div>\n",
      "                    </div>\n",
      "                    <div class=\"book_container col-sm-4\">\n",
      "                        <img src=\"images/linux bible.jpg\" alt=\"\" title=\"It includes information on cloud computing, with new guidance on containerization,&#10; Ansible automation, and Kubernetes and OpenShift. With a&#10; focus on RHEL 8\">\n",
      "                        <p  class=\"book_name\"><a href=\"https://www.amazon.com/Linux-Bible-Christopher-Negus/dp/111821854X\" target=\"_blank\">Linux bible </br> Book By Christopher Negus</a></p></p>\n",
      "                        <div class=\"align-left\">\n",
      "                            <p class=\" price green\">Rs.1800</p>\n",
      "                            <p class=\"stock not_stock \" data-stock=\"not in stock\"><i class=\"fa fa-times\" aria-hidden=\"true\"></i> Not in stock</p>\n",
      "                            <div><span class=\"fa fa-star\"></span><span class=\"fa fa-star not_filled\"></span><span class=\"fa fa-star not_filled\"></span><span class=\"fa fa-star not_filled\"></span><span class=\"fa fa-star not_filled\"></span></div>\n",
      "                            <p class=\"review green\" data-rating=\"21\">21 Reviews</p>\n",
      "                            <button>Add to cart</button>\n",
      "                        </div>\n",
      "                    </div>\n",
      "                    <div class=\"book_container col-sm-4\">\n",
      "                        <img src=\"images/advanced programming in unix.jpg\" alt=\"\" title=\"This book approaches the LINUX environment as a programming&#10; companion. No previous exposure to LINUX is necessary to utilize&#10; this text.\">\n",
      "                        <p  class=\"book_name\"><a href=\"https://www.amazon.com/dp/0321637739?tag=uuid10-20\" target=\"_blank\">Advanced Programming in the UNIX Environment </br> By W. Stevans</a></p>\n",
      "                        <div class=\"align-left\">\n",
      "                            <p class=\" price green\">Rs.6000</p>\n",
      "                            <p class=\"stock in_stock \" data-stock=\"in stock\"><i class=\"fa fa-check\" aria-hidden=\"true\"></i> In stock</p>\n",
      "                            <div><span class=\"fa fa-star\"></span><span class=\"fa fa-star not_filled\"></span><span class=\"fa fa-star not_filled\"></span><span class=\"fa fa-star not_filled\"></span><span class=\"fa fa-star not_filled\"></span></div>\n",
      "                            <p class=\"review green\" data-rating=\"40\">40 Reviews</p>\n",
      "                            <button>Add to cart</button>\n",
      "                        </div>\n",
      "                    </div>\n",
      "                    <div class=\"book_container col-sm-4\">\n",
      "                        <img src=\"images/OS a design appraoch.png\" alt=\"\" title=\"It covers computers' data representation, explains how computer architecture&#10; and its underlying meaning changed over the years, and examines&#10; the implementations and performance enhancements of the central processing unit (CPU).\">\n",
      "                        <p  class=\"book_name\"><a href=\"https://www.amazon.com/s?k=Operating+Systems%3A+A+Design-oriented+Approach&i=stripbooks-intl-ship&ref=nb_sb_noss\" target=\"_blank\">Operating Systems: A Design-oriented Approach</br> By Charles Patrick Crowley</a></p>\n",
      "                        <div class=\"align-left\">\n",
      "                            <p class=\" price green\">Rs.1000</p>\n",
      "                            <p class=\"stock in_stock \" data-stock=\"in stock\"><i class=\"fa fa-check\" aria-hidden=\"true\"></i> In stock</p>\n",
      "                            <div><span class=\"fa fa-star\"></span><span class=\"fa fa-star \"></span><span class=\"fa fa-star \"></span><span class=\"fa fa-star not_filled\"></span><span class=\"fa fa-star not_filled\"></span></div>\n",
      "                            <p class=\"review green\" data-rating=\"90\">90 Reviews</p>\n",
      "                            <button>Add to cart</button>\n",
      "                        </div>\n",
      "                    </div>\n",
      "                    <div class=\"book_container col-sm-4\">\n",
      "                        <img src=\"images/hands on network programming.jpg\" alt=\"\" title=\"It includes information on cloud computing, with new guidance on containerization,&#10; Ansible automation, and Kubernetes and OpenShift. With a&#10; focus on RHEL 8\">\n",
      "                        <p  class=\"book_name\"><a href=\"https://www.amazon.com/Hands-Network-Programming-programming-optimized/dp/1789349869/ref=sr_1_1?crid=11FC0M0GAFA21&amp&keywords=unix+network+programming+2019&amp&qid=1653381349&amp&s=books&amp&sprefix=unix+network+programming+2019%2Cstripbooks-intl-ship%2C356&amp&sr=1-1\" target=\"_blank\">Hands-On Network Programming with C </br> By Lewis Van Winkle</p></a></p>\n",
      "                        <div class=\"align-left\">\n",
      "                            <p class=\" price green\">Rs.1800</p>\n",
      "                            <p class=\"stock in_stock \" data-stock=\"in stock\"><i class=\"fa fa-check\" aria-hidden=\"true\"></i> In stock</p>\n",
      "                            <div><span class=\"fa fa-star\"></span><span class=\"fa fa-star \"></span><span class=\"fa fa-star\"></span><span class=\"fa fa-star \"></span><span class=\"fa fa-star not_filled\"></span></div>\n",
      "                            <p class=\"review green\" data-rating=\"70\">70 Reviews</p>\n",
      "                            <button>Add to cart</button>\n",
      "                        </div>\n",
      "                    </div>\n",
      "            </div>\n",
      "        </div>\n",
      "    </section>\n",
      "    <script src=\"https://cdn.jsdelivr.net/npm/bootstrap@5.2.0-beta1/dist/js/bootstrap.bundle.min.js\" integrity=\"sha384-pprn3073KE6tl6bjs2QrFaJGz5/SUsLqktiwsUTF55Jfv3qYSDhgCecCxMW52nD2\" crossorigin=\"anonymous\"></script>\n",
      "  </body>\n",
      "</html>\n",
      "\n"
     ]
    }
   ],
   "source": [
    "print(resp.text)"
   ]
  },
  {
   "cell_type": "code",
   "execution_count": 21,
   "id": "a4d36e68",
   "metadata": {},
   "outputs": [],
   "source": [
    "with open(\"bss2-index.html\", 'wt') as fd:\n",
    "    fd.write(resp.text)"
   ]
  },
  {
   "cell_type": "code",
   "execution_count": 22,
   "id": "c462e4c1",
   "metadata": {},
   "outputs": [
    {
     "name": "stdout",
     "output_type": "stream",
     "text": [
      "<!doctype html>\r\n",
      "<html lang=\"en\">\r\n",
      "  <head>\r\n",
      "    <meta charset=\"utf-8\">\r\n",
      "    <meta name=\"viewport\" content=\"width=device-width, initial-scale=1\">\r\n",
      "    <title>BSS2</title>\r\n",
      "    <!-- external style sheet -->\r\n",
      "    <link rel=\"stylesheet\" href=\"./index.css\">\r\n",
      "\r\n",
      "    <!--Bootstrap style sheet-->\r\n",
      "    <link href=\"https://cdn.jsdelivr.net/npm/bootstrap@5.2.0-beta1/dist/css/bootstrap.min.css\" rel=\"stylesheet\" integrity=\"sha384-0evHe/X+R7YkIZDRvuzKMRqM+OrBnVFBL6DOitfPri4tjfHxaWutUpFmBp4vmVor\" crossorigin=\"anonymous\">\r\n",
      "\r\n",
      "    <!--for icons of tick and cross ans star for in stock-->\r\n",
      "    <link rel=\"stylesheet\" href=\"https://cdnjs.cloudflare.com/ajax/libs/font-awesome/4.7.0/css/font-awesome.min.css\"> \r\n",
      "\r\n",
      "  </head>\r\n",
      "  <body>\r\n",
      "    <header class=\"header d-flex align-items-center justify-content-between\">\r\n",
      "        <img class=\"image-container\" src=\"./images//arif.jpg\" alt=\"arif\"/>\r\n",
      "         <p> <span class=\"large_text\">Books Scraping Site</span></p>\r\n",
      "        <img class=\"image-container\" src=\"./images/pucit.jpg\" alt=\"pucit\"/>\r\n",
      "    </header>\r\n",
      "    <section>\r\n",
      "        <div class=\"main-container d-flex align-items-start justify-content-between\">\r\n",
      "            <div class=\"navbar\">\r\n",
      "                <ul class=\"nav-links\">\r\n",
      "                    <div class=\"link text-center\" id=\"book_title\">Books Titles</div>\r\n",
      "                    <li class=\"link book_type\"><a href=\"index.html\">Operating System</a></li>\r\n",
      "                    <li class=\"link book_type\"><a href=\"SP.html\">System Programming</a></li>\r\n",
      "                    <li class=\"link book_type\"><a href=\"CA.html\">Computer Architecture</a></li>\r\n",
      "                </ul>\r\n",
      "            </div>\r\n",
      "            <div class=\"items\">\r\n",
      "                <div id=\"book_page_titile\">Operating Systems</div>\r\n",
      "                <div class=\"row\">\r\n",
      "                    <div class=\"book_container col-sm-4\">\r\n",
      "                        <img src=\"images/OS concepts.jpg\" alt=\"\" title=\"The Linux Programming Interface (TLPI) is the definitive guide &#10; to the Linux and UNIX programming interface—the interface&#10; employed by nearly every application that runs on a &#10;Linux or UNIX system.\">\r\n",
      "                        <p  class=\"book_name\"><a href=\"https://www.amazon.com/Operating-System-Concepts-Abridged-Companion/dp/1119456339\" target=\"_blank\">Operating System Concepts </br>By Avi Silberschatz</a></p>\r\n",
      "                        <div class=\"align-left\">\r\n",
      "                            <p class=\" price green\">Rs.2000</p>\r\n",
      "                            <p class=\"stock in_stock \" data-stock=\"in stock\"><i class=\"fa fa-check\" aria-hidden=\"true\"></i> In stock</p>\r\n",
      "                            <div><span class=\"fa fa-star \"></span><span class=\"fa fa-star \"></span><span class=\"fa fa-star \"></span><span class=\"fa fa-star  not_filled\"></span><span class=\"fa fa-star  not_filled\"></span></div>\r\n",
      "                            <p class=\"review green\" data-rating=\"20\">20 Reviews</p>\r\n",
      "                            <button>Add to cart</button>\r\n",
      "                        </div>\r\n",
      "                    </div>\r\n",
      "                    <div class=\"book_container col-sm-4\">\r\n",
      "                        <img src=\"images/Unix.jpg\" alt=\"\" title=\"It covers many topics not covered in older, more traditional textbook &#10;approaches, such as Python, UNIX System Programming from basics to &#10;socket-based network programming using the client-server paradigm, the &#10;Zettabyte File System (ZFS), and the highly developed X Windows-based&#10; KDE and Gnome GUI desktop environments\">\r\n",
      "                        <p  class=\"book_name\"><a href=\"https://www.google.com/search?q=Unix+the+textbook+by+mansoor&rlz=1C1CHBD_enPK987PK987&oq=unix+the+textbook+by+mansoor&aqs=chrome.0.69i59j69i57j69i59j69i60l5.4419j0j7&sourceid=chrome&ie=UTF-8\" target=\"_blank\">UNIX The Textbook</br> By Syed Mansoor Sarwar</a></p>\r\n",
      "                        <div class=\"align-left\">\r\n",
      "                            <p class=\" price green\">Rs.5000</p>\r\n",
      "                            <p class=\"stock in_stock \" data-stock=\"in stock\"><i class=\"fa fa-check\" aria-hidden=\"true\"></i> In stock</p>\r\n",
      "                            <div><span class=\"fa fa-star \"></span><span class=\"fa fa-star \"></span><span class=\"fa fa-star \"></span><span class=\"fa fa-star \"></span><span class=\"fa fa-star \"></span></div>\r\n",
      "                            <p class=\"review green\" data-rating=\"100\">100 Reviews</p>\r\n",
      "                            <button>Add to cart</button>\r\n",
      "                        </div>\r\n",
      "                    </div>\r\n",
      "                    <div class=\"book_container col-sm-4\">\r\n",
      "                        <img src=\"images/taxonomy.jpg\" alt=\"\" title=\"Intrusion Detection using System Call Sequence\">\r\n",
      "                        <p  class=\"book_name\"><a href=\"https://www.amazon.in/Taxonomy-Ids-Arif-Butt/dp/3639294092\" target=\"_blank\">Taxonomy of IDS </br>By Arif Butt</a></p>\r\n",
      "                        <div class=\"align-left\">\r\n",
      "                            <p class=\" price green\">Rs.6900</p>\r\n",
      "                            <p class=\"stock not_stock \" data-stock=\"not in stock\"><i class=\"fa fa-times\" aria-hidden=\"true\"></i> Not in stock</p>\r\n",
      "                            <div><span class=\"fa fa-star \"></span><span class=\"fa fa-star \"></span><span class=\"fa fa-star\"></span><span class=\"fa fa-star\"></span><span class=\"fa fa-star not_filled\"></span></div>\r\n",
      "                            <p class=\"review green\" data-rating=\"20\">20 Reviews</p>\r\n",
      "                            <button>Add to cart</button>\r\n",
      "                        </div>\r\n",
      "                    </div>\r\n",
      "                    <div class=\"book_container col-sm-4\">\r\n",
      "                        <img src=\"images/understanding OS.jpg\" alt=\"\" title=\"This book approaches the LINUX environment as a programming&#10; companion. No previous exposure to LINUX is necessary to utilize&#10; this text.\">\r\n",
      "                        <p  class=\"book_name\"><a href=\"https://www.amazon.com/Understanding-Operating-Systems-Ann-McHoes/dp/1305674251\" target=\"_blank\">Understanding operating systems</br> By Ida Flynn</a></p>\r\n",
      "                        <div class=\"align-left\">\r\n",
      "                            <p class=\" price green\">Rs.2700</p>\r\n",
      "                            <p class=\"stock not_stock \" data-stock=\"not in stock\"><i class=\"fa fa-times\" aria-hidden=\"true\"></i> Not in stock</p>\r\n",
      "                            <div><span class=\"fa fa-star \"></span><span class=\"fa fa-star \"></span><span class=\"fa fa-star not_filled\"></span><span class=\"fa fa-star not_filled\"></span><span class=\"fa fa-star not_filled\"></span></div>\r\n",
      "                            <p class=\"review green\" data-rating=\"60\">60 Reviews</p>\r\n",
      "                            <button>Add to cart</button>\r\n",
      "                        </div>\r\n",
      "                    </div>\r\n",
      "                    <div class=\"book_container col-sm-4\">\r\n",
      "                        <img src=\"images/Computer Systems.jpg\" alt=\"\" title=\"It covers computers' data representation, explains how computer architecture&#10; and its underlying meaning changed over the years, and examines&#10; the implementations and performance enhancements of the central processing unit (CPU).\">\r\n",
      "                        <p  class=\"book_name\"><a href=\"https://www.goodreads.com/book/show/829182.Computer_Systems\" target=\"_blank\">Computer Systems </br> By Randal E. Bryant </a></p>\r\n",
      "                        <div class=\"align-left\">\r\n",
      "                            <p class=\" price green\">Rs.1700</p>\r\n",
      "                            <p class=\"stock in_stock \" data-stock=\"in stock\"><i class=\"fa fa-check\" aria-hidden=\"true\"></i> In stock</p>\r\n",
      "                            <div><span class=\"fa fa-star \"></span><span class=\"fa fa-star \"></span><span class=\"fa fa-star not_filled\"></span><span class=\"fa fa-star not_filled\"></span><span class=\"fa fa-star not_filled\"></span></div>\r\n",
      "                            <p class=\"review green\" data-rating=\"25\">25 Reviews</p>\r\n",
      "                            <button>Add to cart</button>\r\n",
      "                        </div>\r\n",
      "                    </div>\r\n",
      "                    <div class=\"book_container col-sm-4\">\r\n",
      "                        <img src=\"images/linux bible.jpg\" alt=\"\" title=\"It includes information on cloud computing, with new guidance on containerization,&#10; Ansible automation, and Kubernetes and OpenShift. With a&#10; focus on RHEL 8\">\r\n",
      "                        <p  class=\"book_name\"><a href=\"https://www.amazon.com/Linux-Bible-Christopher-Negus/dp/111821854X\" target=\"_blank\">Linux bible </br> Book By Christopher Negus</a></p></p>\r\n",
      "                        <div class=\"align-left\">\r\n",
      "                            <p class=\" price green\">Rs.1800</p>\r\n",
      "                            <p class=\"stock not_stock \" data-stock=\"not in stock\"><i class=\"fa fa-times\" aria-hidden=\"true\"></i> Not in stock</p>\r\n",
      "                            <div><span class=\"fa fa-star\"></span><span class=\"fa fa-star not_filled\"></span><span class=\"fa fa-star not_filled\"></span><span class=\"fa fa-star not_filled\"></span><span class=\"fa fa-star not_filled\"></span></div>\r\n",
      "                            <p class=\"review green\" data-rating=\"21\">21 Reviews</p>\r\n",
      "                            <button>Add to cart</button>\r\n",
      "                        </div>\r\n",
      "                    </div>\r\n",
      "                    <div class=\"book_container col-sm-4\">\r\n",
      "                        <img src=\"images/advanced programming in unix.jpg\" alt=\"\" title=\"This book approaches the LINUX environment as a programming&#10; companion. No previous exposure to LINUX is necessary to utilize&#10; this text.\">\r\n",
      "                        <p  class=\"book_name\"><a href=\"https://www.amazon.com/dp/0321637739?tag=uuid10-20\" target=\"_blank\">Advanced Programming in the UNIX Environment </br> By W. Stevans</a></p>\r\n",
      "                        <div class=\"align-left\">\r\n",
      "                            <p class=\" price green\">Rs.6000</p>\r\n",
      "                            <p class=\"stock in_stock \" data-stock=\"in stock\"><i class=\"fa fa-check\" aria-hidden=\"true\"></i> In stock</p>\r\n",
      "                            <div><span class=\"fa fa-star\"></span><span class=\"fa fa-star not_filled\"></span><span class=\"fa fa-star not_filled\"></span><span class=\"fa fa-star not_filled\"></span><span class=\"fa fa-star not_filled\"></span></div>\r\n",
      "                            <p class=\"review green\" data-rating=\"40\">40 Reviews</p>\r\n",
      "                            <button>Add to cart</button>\r\n",
      "                        </div>\r\n",
      "                    </div>\r\n",
      "                    <div class=\"book_container col-sm-4\">\r\n",
      "                        <img src=\"images/OS a design appraoch.png\" alt=\"\" title=\"It covers computers' data representation, explains how computer architecture&#10; and its underlying meaning changed over the years, and examines&#10; the implementations and performance enhancements of the central processing unit (CPU).\">\r\n",
      "                        <p  class=\"book_name\"><a href=\"https://www.amazon.com/s?k=Operating+Systems%3A+A+Design-oriented+Approach&i=stripbooks-intl-ship&ref=nb_sb_noss\" target=\"_blank\">Operating Systems: A Design-oriented Approach</br> By Charles Patrick Crowley</a></p>\r\n",
      "                        <div class=\"align-left\">\r\n",
      "                            <p class=\" price green\">Rs.1000</p>\r\n",
      "                            <p class=\"stock in_stock \" data-stock=\"in stock\"><i class=\"fa fa-check\" aria-hidden=\"true\"></i> In stock</p>\r\n",
      "                            <div><span class=\"fa fa-star\"></span><span class=\"fa fa-star \"></span><span class=\"fa fa-star \"></span><span class=\"fa fa-star not_filled\"></span><span class=\"fa fa-star not_filled\"></span></div>\r\n",
      "                            <p class=\"review green\" data-rating=\"90\">90 Reviews</p>\r\n",
      "                            <button>Add to cart</button>\r\n",
      "                        </div>\r\n",
      "                    </div>\r\n",
      "                    <div class=\"book_container col-sm-4\">\r\n",
      "                        <img src=\"images/hands on network programming.jpg\" alt=\"\" title=\"It includes information on cloud computing, with new guidance on containerization,&#10; Ansible automation, and Kubernetes and OpenShift. With a&#10; focus on RHEL 8\">\r\n",
      "                        <p  class=\"book_name\"><a href=\"https://www.amazon.com/Hands-Network-Programming-programming-optimized/dp/1789349869/ref=sr_1_1?crid=11FC0M0GAFA21&amp&keywords=unix+network+programming+2019&amp&qid=1653381349&amp&s=books&amp&sprefix=unix+network+programming+2019%2Cstripbooks-intl-ship%2C356&amp&sr=1-1\" target=\"_blank\">Hands-On Network Programming with C </br> By Lewis Van Winkle</p></a></p>\r\n",
      "                        <div class=\"align-left\">\r\n",
      "                            <p class=\" price green\">Rs.1800</p>\r\n",
      "                            <p class=\"stock in_stock \" data-stock=\"in stock\"><i class=\"fa fa-check\" aria-hidden=\"true\"></i> In stock</p>\r\n",
      "                            <div><span class=\"fa fa-star\"></span><span class=\"fa fa-star \"></span><span class=\"fa fa-star\"></span><span class=\"fa fa-star \"></span><span class=\"fa fa-star not_filled\"></span></div>\r\n",
      "                            <p class=\"review green\" data-rating=\"70\">70 Reviews</p>\r\n",
      "                            <button>Add to cart</button>\r\n",
      "                        </div>\r\n",
      "                    </div>\r\n",
      "            </div>\r\n",
      "        </div>\r\n",
      "    </section>\r\n",
      "    <script src=\"https://cdn.jsdelivr.net/npm/bootstrap@5.2.0-beta1/dist/js/bootstrap.bundle.min.js\" integrity=\"sha384-pprn3073KE6tl6bjs2QrFaJGz5/SUsLqktiwsUTF55Jfv3qYSDhgCecCxMW52nD2\" crossorigin=\"anonymous\"></script>\r\n",
      "  </body>\r\n",
      "</html>\r\n"
     ]
    }
   ],
   "source": [
    "!cat bss2-index.html"
   ]
  },
  {
   "cell_type": "code",
   "execution_count": null,
   "id": "bc42c498",
   "metadata": {},
   "outputs": [],
   "source": []
  },
  {
   "cell_type": "code",
   "execution_count": null,
   "id": "5117412c",
   "metadata": {},
   "outputs": [],
   "source": []
  },
  {
   "cell_type": "markdown",
   "id": "a7396997",
   "metadata": {},
   "source": [
    "**Example 2: Fetching, Reading and saving an Image from the Web Page in a Binary File**"
   ]
  },
  {
   "cell_type": "code",
   "execution_count": 23,
   "id": "7f29de9b",
   "metadata": {},
   "outputs": [],
   "source": [
    "url = \"https://arifpucit.github.io/bss2/\" + \"./images/arif.jpg\"\n",
    "resp = requests.get(url)"
   ]
  },
  {
   "cell_type": "code",
   "execution_count": 24,
   "id": "33b5bffb",
   "metadata": {},
   "outputs": [
    {
     "data": {
      "text/plain": [
       "200"
      ]
     },
     "execution_count": 24,
     "metadata": {},
     "output_type": "execute_result"
    }
   ],
   "source": [
    "resp.status_code"
   ]
  },
  {
   "cell_type": "code",
   "execution_count": 25,
   "id": "2a37b798",
   "metadata": {},
   "outputs": [
    {
     "name": "stdout",
     "output_type": "stream",
     "text": [
      "����\u0000\u0010JFIF\u0000\u0001\u0001\u0000\u0000\u0001\u0000\u0001\u0000\u0000��\u0000�\u0000\n",
      "\u0007\b\u0016\u0016\u0015\u0018\u0016\u0015\u0015\u0018\u0018\u0016\u0018\u001c",
      "\u0018\u0018\u0018\u0019\u001a\u001a\u0015\u001c",
      "\u001a\u0018\u001a\u0018\u001a\u0019\u0019\u0018\u0018\u0018\u0018\u001c",
      "!.%\u001c",
      "\u001e",
      "+\u001f\u0018\u0018&8&+/1555\u001a$;@;4?.451\u0001\f",
      "\f",
      "\f",
      "\u0010\u000f\u0010\u001c",
      "\u0012\u0012\u001e",
      "4!%$14441444444144441144444444444444144444444444444141��\u0000\u0011\b\u0000�\u0000�\u0003\u0001\"\u0000\u0002\u0011\u0001\u0003\u0011\u0001��\u0000\u001c",
      "\u0000\u0001\u0000\u0001\u0005\u0001\u0001\u0000\u0000\u0000\u0000\u0000\u0000\u0000\u0000\u0000\u0000\u0000\u0005\u0001\u0002\u0003\u0004\u0006\u0007\b��\u0000>\u0010\u0000\u0001\u0003\u0002\u0003\u0005\u0005\u0005\u0006\u0005\u0003\u0005\u0000\u0000\u0000\u0000\u0001\u0000\u0002\u0011\u0003!\u0004\u00051\u0012AQaq\u0006\"2��\u0007\u0013���#BRb��r����\u0014s�\u0016$34���\u0000\u0019\u0001\u0001\u0001\u0001\u0001\u0001\u0001\u0000\u0000\u0000\u0000\u0000\u0000\u0000\u0000\u0000\u0000\u0000\u0001\u0002\u0003\u0004\u0005��\u0000\u001e",
      "\u0011\u0001\u0001\u0000\u0002\u0003\u0001\u0001\u0001\u0001\u0000\u0000\u0000\u0000\u0000\u0000\u0000\u0000\u0001\u0002\u0011\u0012!1\u0003AQ\"��\u0000\f",
      "\u0003\u0001\u0000\u0002\u0011\u0003\u0011\u0000?\u0000�dD@DD\u0004D@DD\u0004DADX��kZ\\�\u001a\u0005�&\u0000�\\gh��a���mR,\u001a{��Ӕ�E�n�A�=��P$>�dj\u0001��^/��D�W0\u001e",
      ")2�e�\t�]��r%䛒O\u0013u;5?^����`��95�|]\u0001F������F�\u0013ޝ�\u0003��׋�W������^���k\u0018Rce�q#�S�npU@-��I�q�=\n",
      "���U�&���Y�7D9��\u001c",
      "��+m�Zt ������2ǹ�\n",
      "�2?h��\u00001�\u0019 ˧l\r",
      "�\u0019M���\u0001\u0014\u001e",
      "G�*8�m�Mഁ2{�?��M\u0007\u0003���4�\u0011\u0015A\u0011\u0010\u0011\u0011\u0001\u0011\u0010\u0011\u0011\u0001\u0011\u0010\u0011\u0011\u0001\u0011\u0010Qkc1�����h\u0013א�W�{a�K\u001d",
      "N�\u001c",
      "C���N��\u0001�?U-�X�;]ۺ��\u0011L��\u0001!�\u0011.\u001c",
      "_�.Ch������Cް�$�ڱ�H1�*lج��63�X�eT\\Ɵ${o�P�Ue@,D���\u0014`�tTs%$@��Q�8��\u0010�����U�\u0006�M�U�?n��\u0006\u0003۹�KO���;#���5���;=��\u000e\u001b��\u001fU󣂚�h*a*����!�;��6ޱz���O��he8�֦׷B\u0001�\u0012�֥�\u0002\"*\b����\b����\b����-+����&�2���{�:\u0002����\u0004q\u0010�\\�\u001e",
      "�V�?iR�E��\u0016�\u0002��cQÁ�@w�P�p�V\bZ\u001558Ϧ���,DO-�\u0013�O�Y��\u0007��%M�U��\b�����_��'���$2#�8)r^(��7Tq\u0007K+��7V5����j�J���4�5U�+e&\u0015�E��}���\u000b",
      "�|T��0\u0017~���ebN%�]Ѱ��к���/^S\u001f\u0013/UDE�\u0011\u0011\u0001\u0011\u0010\u0011\u0011\u0001\u0011\u0010\u0011\u0011\u0001\u0011\u0010X�\f",
      "���Q\u0015��\u0000�S�ܾ����Wʹ��j���n\u001d",
      "�}Y�Xj��s�ו!��.x\u0001[u\u001a�����\u0016]vS�4n�T�`�\u0002T�\u0006�\u0005��;k�8t֩���\u0001'�����Lo]9z��rY�V�G\u0015����֓2\u0017��<�K�;?�c�d��/��9J=�\u0002���۳�+�xjլ\u0006�y/\bⱙ[������$\u0015�X�v\\Nj�y����ޫ�x������bxl3����x߰����[e��b��w��\f",
      "�U\u0011\u0016�DD\u0004D@DD\u0004D@DD\u0004DA�����/��GL�\u0013P\u0018�\u0018�\u001b���\u001a��8�\u0000\u0003u��\u0000j���\u001c",
      "�˃�%�(���7\u001b�t���3L��a�C�;A�d�]�I��L��ߢ���SN�c���\u0006\u0005��YG{�.M��\u00171dA7\\q��[��͘\u000b",
      "\u0014����\u0016\u0017b��\u0012řm�aY��~$\u0005���\u0012J�]��\u0016��ue|Ń�\u0001���m\u0013�AN;g,�>8�/=l=O34�w{��Qy�9�;ͼ�����W�z/�\u001c",
      "(\u0014�Ծ�!��,E��.\u001f�f\f",
      "3\u0006ӽ��\u0012\u0017p�X���舋L�����\b����\b����!{X�p�vfvm\u001d",
      "B��\u0016Z�v�$\u001d",
      "dϢ������?#�R��\u0013U�l6�+���oOǼlAe�[}��m�\u001a\u001e",
      "jZ��<\u0002aX[��d����\u0002|�/wn�\u001d",
      "M9�N%�0$�:��7�4\u001e",
      "%�Jc2'����E\u0013�\u0000O� �v�Q>�s)�X֓�*�\u001b~�H`��=��k&\u001f\u0000�0��=���w \u0015p�p&@��E2��\u001a�p/s�q��Df��i��к�\u0015\u001f�\\�u�&�&!b^�,�s��\u0005��ે{\u0001�9�N��1����#�[�af\t��������w)�>7~0\u00160\u0000X~���4���nAW��\u0004J�}\u001d",
      "�\u0005r�v�#�}��0�&\u001e",
      "v�;�p9.�Gd\u0014CpԚ4�gŠ�T��c5#ɕݪ�\"�\b����\b����\b����0b�,p��|��:�kȰ��^�PKH�\b�/3s\b\u0005�o\u0010�\u0011b�}}��\u0000\u000b",
      "�-����0϶�/G\u001d",
      "x]nP|.u�T�J[M�Q�p�7ٺ��>�^ƺ�'\u0016�@7.\u0004��:�\u0006\u001a\u0014�\"�j��ãU4��=���u9y�+�نXuP9�{ɔF�0���0\\��\r",
      "��k9`X�t�}\r",
      "�*;\u0012n���:(���7�Vu�W��Z�v\u0012�:�\u0001�a�\n",
      "]F�u���\";��Q*I}\f",
      "|�\r",
      "�������\b����\b����\b�����2W=��mE�l\u001d",
      "\u001a\u0019�\u0005��Ŷ�K�`\u0001<� 7�������zy\r",
      "zd9��!�\u0011�\u0011�V��6�156����;ԓ\n",
      "8���p��U3I𯫊��)�D�,mn&\u001a����+\u001c",
      "^�'�>*����!�c���\u0015�1�h\u0000\b��[��\u001d",
      "�9-c��ܢA��vld\u001b�P��ѻ[�y\u0005\u0007�`k�[ GOD�\u000b",
      "L�OU2��9K\u0015\u000f\u0006 \u0015(j�s�1�\u0004��)\n",
      "u�\u0005����k�ԹY{9��\u0000S�m3��^%�#hO��ľһoe�\u00015kH$\u0001L\u001b����赆<�c<�+�\u0018�\u0000\u0002�X\u000e��E�y\u0004D@DD\u0004D@DD\u0004D@DD\u0004E\u001b�f���ڨn|-\u001a��\u001f�\f",
      "��aN�7T���7Rw�\u0000o'��3�e\\^\u001a�j`���m�\u0018\f",
      "���n�3�{�թ���i��\u0018'd\tә<Wk��\u001a��,,\u0006�h<ą���\\\\m\u0013�\u001d",
      "\u0004-LP2#E1�a=��[�w}�\u000e�\"�*�\u0005���Y��yw�\u001e",
      "\u0018\u00105�ZY�� 0\u0002gI���*Ǆ�E]��yo\u001f���]�徑�\u0005Q�\\�Ϟ�ka����\u001c",
      "&J��@?��\u0012��Y#�N��w^��I'�Z��2�4�F���^�mK\u0019\u001c",
      "\u0001[\u001508���y\u0015e<\u0015gx��\u000b",
      "6�\u0011�s��,#���3�&㊵�kD\u0018�M�\b\u001apX��'��\u001e",
      "6��\u0007�E읓���\u001a�\u000f���uu���y�b�_\u0010\u000b",
      "�q��\u0003��-=O�z�������⨈��\b����\b����\b���\u00130�6\u001e",
      "�!�\u0003�>�{�x\u001d",
      "��ry�n\u001e",
      "�E��6.0^zno�M��&e��\u0014����Th!��Ap�\u0013\u001c",
      "W��X��q�Q�n<l\u0007&��k9����Uk�:\u0005u�K����pA\u001c",
      "��^���\n",
      "�k���'�<�\u001e",
      "��X'_�;7��?�\u0012\u0003^e�\u0003�Ћ-�6:\f",
      "�\t��@�^���oM�ľ~��\u0016�D�\u0006��i�\\�w����\u0003�e�<?\u0010�+?L7�o\f",
      "�+��Y�p:�8��%��9�H\u0016��Z8�s\",�)9��-\u0012?v�\u000b",
      "ύ���Ӱ{���z\u001c",
      "N�\u0015\u0003K4i\u00170�\u001b�EmL^�\u0014���R� \u00032�ڝM�hT-J�y$,�1CI�{|V,k�B�&��O�൰�uz��H\u0012�\u0010\u0000�\u00017q�\u0000��q�]���a{�b\u0006����\u0001�z�c{*�\u0015?�Yþ�\u0000��x4|U�\r",
      "�._�\\�*f\u001e",
      "�c\u00077;{����Q\u0017�M9^�DEA\u0011\u0010\u0011\u0011\u0001\u0011\u0010\u0011Df������.�-���y�36�Z��d�\"�?ͻ�M���o�\u001a8{9�O������p9�j+ז��?\u000b",
      "f��;R��d�s:��T\u0016�N���6\u0003r!X���;������\u0019�F���\"�\u0019��/����B�\u0016H:���R���\r",
      "����걆\u0019\u0010o�\u001c",
      "\u0011���Y\f",
      "�P����\u0001U���;�\u001c",
      "H\u0011�\u0017�\u0014���m\u001f�G���B�r��Ҩ\u001c",
      "d������j��O�`��\r",
      "��C�t�l��{C�\u0016;i�c��G{W3V`�<\u000f�z�z\r",
      "{K]\u0007kC�l�z8|W\u000b",
      "�e%���n��y���a��=?<�SU�T�am5V\u0016�@H�*a�ukXٸ^y�o�\u0018�q7'�l3\u000ex�9��\u0003E`\u0016'p\u0012�+N:w�˱���M�kj<����\u000f\u000e#����S�!��11����/r��f1\u0014\u001a��7��\u0000�\u001b��\u001f5�\u000b",
      "����]��\u0011ts\u0011\u0011\u0001\u0011\u0010\u0011\u0011\u0001\u0011\u0010xi\u0012M�\u0000����\u0000iV�],�i����Z��0d*��b7*�\u0002�Z\u0004��\u001d",
      "^�9,Dp����|�c�:Zڨ-\u0007]�\u0007��\u001f\u001b���Z۸H�u���[��\u00024:\u0019��\b6$�GT\u0011\u0016�R�\u0001\u0003��T��yO�\u0006&\r",
      "��˚�;1�m\u000ft�\u0013A,�Yè�r�����g�ok�L�\u000fE�n�W��m=9���\u000f5n#\f",
      "ڭ,x\u0004:$�wܨ9\u001d",
      "��<=`�\u00077xӁԁ�\u000b",
      "#]�~N\u0007Q�ڎ\u0005t�T��ӄ��n���i�ƿ�FU`7^���2�\u000b",
      "^%�s�7<sn�pY�\u0004�u�^�N��Ak�H޼?_�ǹ����L�E6��Ǿ\u001b�5w�)B�h����\u000en�\u0004}W<&�WI\u001c",
      "�\n",
      "���68:�{��U\u0001�?!\u001e",
      "\u0017�I�*+\u0003@4\u0005����\u0018�\b&\t�H�\f",
      "u^����=v��\u0000�\b7\u0004hG\u0010�^\u0007����p�e��`֛�[���/O��n���c���m��6\\#�=\f",
      "\u0015��\u001a�:�DZA\u0011\u0010\u0011\u0011\u0001\u0011\u0010xC�\u0010}\u0015O\u001d",
      "\u000e�/����\u0015�&9����\u0010��V\u0010�:�ep�*\u000b",
      "\u000b",
      "\u0015�o?U��j��J\u000b",
      "��q�Z�0d]�d��ⶃ�F��\u001b�G\u0001�A���\u0012��\u001a\u0000gif\u000f�:��U�$Ο�\u0010�\u0016ꂯ\u0007�y\r",
      "U\u0018\t��歞\u0003���:��c&i��[ӗ1���>>w�\u0000�G0��(��{l�\u0011�N\\�[����8�.^\bc/s��. �\u0015�\u001c",
      "��؅��j��P������\u000b",
      "\u001d",
      "�b\u001a�\\,B�;;��\f",
      "M\u001a�w�y�3�q����\u0014Ә���y.s�$�'���\u0015:�\f",
      "������7��f�˦���\"�\u0018[�Ǉ4�\\4?�A�8��\u0007\u0002d[��������\u001aO#�\u001b0�#W���y(�\u0018͂^{�\r",
      "!���\t^y�\u001c",
      "�\u001e",
      "�|��O;̅&\u0000�\u001d",
      "Y�a�\u0006�����(*�m|3�X��G��ȝA'Q�T��\u0019;Q�4p�Oz�\n",
      "ǖ9�_/s�Z`�\u001d",
      "9.�r�8ܭ�~b�ڎ�\u0013\u0004�\"�\u0013\u001d",
      "�3C5\u001fȁ�\u0016�J嗫<v}���l9\f",
      "�5h�'���I�r+�2�֖!��^\u001c",
      "��A��+璤2<�\u0016��L�G4�^����ܓ+\u000b",
      "��\u0019\u0014?g��X�A��\u0011g0���\u0007�\u0003�L.������<\u0017ݎw�,�G0��i}~��#R}\u0015���K~J�\u001f�\u000e貽�\u0006��k�����(2<�M��\\֎\u0007En�3�\u0001�\u0006�/���\n",
      "����?\u000ek)���T������7\u001f�Vv�u�I�欠���Bm�\u0000\u0011�\u001d",
      "y���\u0006�3\u001a g2:�\u0015�\u0017��YA� ��s�ec�\u0005��u�,�4��V�\u001d",
      "9�\u0013T0��-o\u0002��M��u2Z�b\u001c",
      "�'��\u001f�U�q6�\u001b@kͷ\u001f\u0005)�\r",
      "���N�4z��8��;��{��\u0001��@�(L�\u001a�\u0018سe��\u0003�U�؜1s%�'v�\u001c",
      "&\b:�B�򼥴�=��c��\u0000��5L��k\u001c",
      "��#p��\u001d",
      "��\u001e",
      "\\\u000e�\u0017O\t��/�\f",
      "�-WO��/\u0004p����:�,Ή���m\u000fU\u0011�Q~�s�����̓\u000b",
      "f�\u0004�!���⫊�E�2��\u001a�ڪ\u001d",
      "U�\u00129�H������j��3\u0004j��n��~�}\u0001��\n",
      "��Q�=�x��\u000f�|�J���:pXo��=\u0004}\u0016��/��D]\u0010DD\u001e",
      "\u000e��\u0018�\"*�5|'��տ�Ȋ\u000b",
      "����}Q\u0010]���~��5�}՜k戨�5*�DPU� �n��\"\r",
      "����\u001f%ճ��\u0000\u000f�(�q��\u000f����|g��\u0000\u0011��Ei\u0019p>!�/Z�z\"�Zs�ƃ��׫�DY�\u0011\u0018�U��\u0011r��~�{�b��p�\u0000�>eU\u0016��*q\u0011\u0017D\u0011\u0011\u0007��\n"
     ]
    }
   ],
   "source": [
    "print(resp.text)"
   ]
  },
  {
   "cell_type": "code",
   "execution_count": 26,
   "id": "107f675f",
   "metadata": {},
   "outputs": [
    {
     "name": "stdout",
     "output_type": "stream",
     "text": [
      "b'\\xff\\xd8\\xff\\xe0\\x00\\x10JFIF\\x00\\x01\\x01\\x00\\x00\\x01\\x00\\x01\\x00\\x00\\xff\\xdb\\x00\\x84\\x00\\n\\x07\\x08\\x16\\x16\\x15\\x18\\x16\\x15\\x15\\x18\\x18\\x16\\x18\\x1c\\x18\\x18\\x18\\x19\\x1a\\x1a\\x15\\x1c\\x1a\\x18\\x1a\\x18\\x1a\\x19\\x19\\x18\\x18\\x18\\x18\\x1c!.%\\x1c\\x1e+\\x1f\\x18\\x18&8&+/1555\\x1a$;@;4?.451\\x01\\x0c\\x0c\\x0c\\x10\\x0f\\x10\\x1c\\x12\\x12\\x1e4!%$14441444444144441144444444444444144444444444444141\\xff\\xc0\\x00\\x11\\x08\\x00\\xe1\\x00\\xe1\\x03\\x01\"\\x00\\x02\\x11\\x01\\x03\\x11\\x01\\xff\\xc4\\x00\\x1c\\x00\\x01\\x00\\x01\\x05\\x01\\x01\\x00\\x00\\x00\\x00\\x00\\x00\\x00\\x00\\x00\\x00\\x00\\x05\\x01\\x02\\x03\\x04\\x06\\x07\\x08\\xff\\xc4\\x00>\\x10\\x00\\x01\\x03\\x02\\x03\\x05\\x05\\x05\\x06\\x05\\x03\\x05\\x00\\x00\\x00\\x00\\x01\\x00\\x02\\x11\\x03!\\x04\\x051\\x12AQaq\\x06\"2\\x81\\x91\\x07\\x13\\xa1\\xb1\\xc1#BRb\\xd1\\xf0r\\x82\\xb2\\xe1\\xf1\\x14s\\x92\\x16$34\\xc2\\xff\\xc4\\x00\\x19\\x01\\x01\\x01\\x01\\x01\\x01\\x01\\x00\\x00\\x00\\x00\\x00\\x00\\x00\\x00\\x00\\x00\\x00\\x01\\x02\\x03\\x04\\x05\\xff\\xc4\\x00\\x1e\\x11\\x01\\x01\\x00\\x02\\x03\\x01\\x01\\x01\\x01\\x00\\x00\\x00\\x00\\x00\\x00\\x00\\x00\\x01\\x02\\x11\\x12!1\\x03AQ\"\\xff\\xda\\x00\\x0c\\x03\\x01\\x00\\x02\\x11\\x03\\x11\\x00?\\x00\\xf6dD@DD\\x04D@DD\\x04DADX\\xea\\xd4kZ\\\\\\xe2\\x1a\\x05\\xc9&\\x00\\xf3\\\\gh\\xfd\\xa3a\\xb0\\xf2\\xca\\x7fmR,\\x1a{\\xa3\\x86\\xd3\\x94\\xb6E\\x93n\\xddA\\xe6=\\xaa\\xc2P$>\\xb3dj\\x01\\x98\\xf4^/\\x9c\\xfbD\\xc7W0\\x1e)2\\xe3e\\x80\\t\\x9b]\\xc6\\xe5r%\\xe4\\x9b\\x92O\\x13u;5?^\\xf1\\x8d\\xf6\\xa1\\x81`\\xee\\xb9\\xf595\\x84|]\\x01F\\xd5\\xf6\\xbd\\x86\\x91\\xb3F\\xb1\\x13\\xde\\x9d\\x81\\x03\\x88\\xbd\\xd7\\x8b\\xefW\\xec\\xc0\\xbe\\xa9\\xab\\xfd^\\x9e\\xda\\xcfk\\x18Rce\\xe0q#\\xf4S\\xb9\\x7fnpU@-\\xac\\xd0I\\x88q\\x83=\\n\\xf9\\xc5\\xc2U\\xa4&\\xa9\\xd3\\xea\\x9aY\\xa57D9\\xb7\\xd2\\x1c\\xd3\\xf2+m\\x95Zt \\xaf\\x94\\xb0\\xb8\\xba\\x8c2\\xc7\\xb9\\xbd\\n\\xec2?h\\xf8\\x8a\\x001\\xe1\\xb5\\x19 \\xcb\\xa7l\\r\\xe0\\x19M\\xd9\\xe9\\xa8\\xfa\\x01\\x14\\x1eG\\xda*8\\x9am\\xa9M\\xe0\\xb4\\x812{\\xcd?\\x85\\xc1M\\x07\\x03\\xa2\\xb2\\xed4\\xbd\\x11\\x15A\\x11\\x10\\x11\\x11\\x01\\x11\\x10\\x11\\x11\\x01\\x11\\x10\\x11\\x11\\x01\\x11\\x10Qkc1\\x8c\\xa4\\xc2\\xf7\\x98h\\x13\\xd7\\x90\\xe6\\xb6W\\x94{a\\xcfK\\x1dN\\x83\\x1cC\\xa1\\xc5\\xf0N\\x8e\\x80\\x01\\x8f?U-\\xd4X\\xe5;]\\xdb\\xba\\xf8\\xc7\\x11L\\xba\\x9d\\x01!\\xac\\x11.\\x1c_\\xfa.Ch\\x8b\\xab\\x99\\xa1\\x8b\\xf1C\\xde\\xb0\\xd5$\\xd2\\xda\\xb1\\xf2H1\\xfa*l\\xd8\\xac\\x81\\x9b63\\xf4X\\xcbeT\\\\\\xc6\\x9f${o\\xc9P\\x98Ue@,D\\x8f\\xae\\xe4\\x14`\\x8dtTs%$@\\xdd\\xc9Q\\xb58\\xa0\\xa0\\x10\\xac\\x82\\xb3\\xf2\\xe4U\\xa5\\x06\\xf6M\\x9cU\\xc3?n\\x9b\\xc8\\x06\\x03\\xdb\\xb9\\xed\\x90KO\\xa6\\xab\\xdf;#\\x9f\\xd3\\xc55\\xaf\\xa6\\xf9;=\\xf6\\xef\\x0e\\x1b\\x8d\\xb5\\x1fU\\xf3\\xa3\\x82\\x9a\\xec\\x9fh*a*\\x87\\xb0\\x90\\xc3!\\xed;\\xc1\\x896\\xde\\xb1z\\xed\\xa9\\xdfO\\xa6\\xd1he8\\xf6\\xd6\\xa6\\xd7\\xb7B\\x01\\xf5\\x12\\xb7\\xd6\\xa5\\xdb\\x02\"*\\x08\\x88\\x80\\x88\\x88\\x08\\x88\\x80\\x88\\x88\\x08\\x88\\x80\\x88\\x88-+\\xe6\\xee\\xda\\xe6&\\xbe2\\xb3\\x8e\\x8d{\\x9a:\\x02\\xbe\\x8f\\xaa\\xd9\\x04q\\x10\\xbe\\\\\\xce\\x1e\\x7f\\xd4V\\x93?iR\\xe0E\\x83\\xc8\\x16\\xe8\\x02\\xcd\\xf5cQ\\xc3\\x81\\x85@w\\xddP\\xbfp\\x85V\\x08Z\\x1558\\xcf\\xa6\\x8a\\xaf\\xae,DO-\\xcb\\x13\\x9cO\\xf9Y\\xb0\\xf8\\x07\\xbf\\xc2%M\\xc3U\\x8f\\xde\\x08\\xbe\\xaa\\xa1\\x84\\xe8\\xb6_\\x95\\xbe\\'\\x86\\xe5\\xb0\\xda$2#\\xbc8)r^(\\xe2\\xc87Tq\\x07K+\\xab\\x837V5\\xaa\\xec\\xd2\\xed\\x95j\\xb8J\\xb1\\xd4\\xcf4\\xb55U\\x9b+e&\\x15\\xaeE\\xd3\\xde}\\x91\\xe6\\x9e\\xf3\\x0b\\xb0|T\\xed\\xe50\\x17~\\xbc\\x87\\xd8ebN%\\xbb]\\xd1\\xb0\\xe0\\xd8\\xd0\\xba\\xc4\\xcf\\xf2\\x8b/^S\\x1f\\x13/UDE\\xa4\\x11\\x11\\x01\\x11\\x10\\x11\\x11\\x01\\x11\\x10\\x11\\x11\\x01\\x11\\x10X\\xed\\x0c\\xaf\\x95\\xf3Q\\x15\\xea\\xff\\x00\\xb9S\\xfa\\xdc\\xbe\\xa7\\xab\\xa1\\xe8W\\xca\\xb9\\xa1\\xfbj\\x93\\xf8\\xdfn\\x1d\\xf2\\xb3}Y\\xe3Xj\\xb2\\x8as\\xa2\\xd7\\x95!\\x96\\xd3.x\\x01[u\\x1a\\x91\\xb3\\x83\\xcb\\xe4\\x89\\x16]vS\\x974n\\xf5T\\xc0`\\x80\\x02T\\xf5\\x06\\xec\\x8b\\x05\\xe6\\xcb;k\\xbe8t\\xd6\\xa9\\x95\\xb4\\xcc\\x01\\'\\x92\\x8a\\xc4\\xe4\\xc6Lo]9z\\xc2\\xf7rY\\xb9V\\xb8G\\x15\\x8b\\xec\\xfb\\x8d\\xd6\\x932\\x17\\x9d\\xf0<\\xbeK\\xbd;?\\xe5c\\xd9d\\xa9\\xcf/\\xe9\\xc29J=\\x9f\\x02\\xf2\\xb2\\xd5\\xc9\\xdb\\xb3\\xa9+\\xa5xj\\xd5\\xac\\x06\\xe5\\x8ey/\\x08\\xe2\\xb1\\x99[\\x84\\x98\\xb2\\x84\\xa8\\xd8$\\x15\\xe8X\\x9av\\\\Nj\\xc8y\\xb2\\xef\\xf2\\xce\\xde\\xab\\x96x\\xe9\\xe8\\xde\\xc2\\xc7\\xdabxl3\\xfa\\x9c\\xbd\\x91x\\xdf\\xb0\\xc9\\xf7\\x98\\x9b[e\\x97\\xfeb\\xbd\\x91w\\xc7\\xc7\\x0c\\xbdU\\x11\\x16\\x90DD\\x04D@DD\\x04D@DD\\x04DA\\x8e\\xae\\x87\\xa1\\xf9/\\x96\\xfbGL\\xb7\\x13P\\x18\\xf1\\x18\\x8e\\x1b\\x8a\\xfa\\x83\\x1a\\xf0\\xd68\\x93\\x00\\x03u\\xf3\\xff\\x00j\\xb2\\x81\\xef\\x1c\\xf6\\xcb\\x83\\x89%\\xdf(\\xf8\\xac\\xdb7\\x1b\\xc6t\\xe2\\xc2\\xe8\\xbb3L\\x97\\xe9a\\xbdC\\x7f\\xa6;A\\xa2d\\x98]\\xc6I\\x97\\x8aL\\xbf\\x88\\xdf\\xa2\\xe7\\xf4\\xcbSN\\x98c\\xbb\\xb4\\xe5\\x06\\x05\\xbe\\xc6YG{\\xd0.M\\x96\\xd6\\x171dA7\\\\q\\xc6\\xd7[\\x94\\x8d\\xcd\\x98\\x0b\\x14\\xa3\\xb1\\xec\\xe2\\x16\\x17b\\xc1\\xde\\x12\\xc5\\x99m\\x9baY\\xb2\\xae~$\\x05\\x8d\\xf5\\xc0\\x12J\\x9a]\\xac\\xa8\\x16\\xb3\\xdbue|\\xc5\\x83\\xef\\x01\\xe6\\xa2\\xeb\\xe7m\\x13\\xb2AN;g,\\xe3>8\\xae/=l=O34\\xdbw{\\xe1\\xf5Qy\\xfd9\\xd9;\\xcd\\xbc\\x95\\xc3\\xfc\\xe4\\xceW\\x94z/\\xb1\\x1c(\\x14\\xea\\xd4\\xbe\\xd1!\\xba\\xda,E\\x97\\xab.\\x1f\\xd9f\\x0c3\\x06\\xd3\\xbd\\xda\\xf9\\x12\\x17p\\xbdX\\xf8\\xf3\\xe5\\xe8\\x88\\x8bL\\x88\\x88\\x80\\x88\\x88\\x08\\x88\\x80\\x88\\x88\\x08\\x88\\x80\\x88\\x88!{X\\xd2p\\x95vfvm\\x1dB\\xf2\\xdc\\x16Z\\xe8v\\xd1$\\x1dd\\xcf\\xa2\\xf5\\xcc\\xed\\xb3\\x87\\xaa?#\\xbeR\\xbc\\xc7\\x13U\\xcdl6\\xce+\\xcf\\xf4\\xf7oO\\xc7\\xbclAe\\xb9[}\\xe3\\x9c\\xe6\\x89m\\x9b\\x1a\\x1ejZ\\xa8\\x81<\\x02aX[\\xe2\\xd5d\\xc4\\xe1\\xcb\\xdb\\x02|\\x96/wn\\x93\\x1dM9\\xbcN%\\xce0$\\xad:\\xb8\\x977\\xef4\\x1e%\\xc1Jc2\\'\\x86\\x90\\xd3\\xea\\x7fE\\x13\\xff\\x00O\\x82 \\xc8v\\xbbQ>\\xabs)\\xe3\\x96X\\xd6\\x93\\xb3*\\x93\\x1b~\\x85H`\\xb1\\xce=\\xd2\\xeb\\x9ek&\\x1f\\x00\\xd60\\xb4\\xb4=\\xc6\\xe5\\xc7w \\x15p\\xd9p&@\\xdf\\xc3E2\\xc8\\xc7\\x1a\\xe8p/s\\x99q\\xa7\\xc5Df\\xf9\\x81i\\xb9\\x8d\\xd0\\xba\\x8c\\x15\\x1f\\xb3\\\\\\x8eu\\x85&\\xa1&!b^\\xdd,\\xbas\\xb5\\xf1\\x05\\xc6\\xe4\\x99\\xe0\\xab\\x87{\\x01\\xef9\\xc1N\\xd7\\xc31\\xcc\\xd8\\xd9\\xd9#\\xc2[\\xb9af\\t\\x81\\x85\\x81\\xa4\\x93\\xab\\x8e\\xabw)\\xa7>7~0\\x160\\x00X~\\xb2\\xb6\\xb14\\x83\\x9a\\xc2nAW\\xe1\\xf2\\xb2\\x04J\\xdb}\\x1d\\x91\\x05r\\xb9v\\xe9#\\xd4}\\x9c\\xe1\\x8b0\\xd3&\\x1ev\\x80;\\xadp9.\\xb9Gd\\x14Cp\\xd4\\x9a4\\xd8g\\xc5\\xa0\\xfdT\\x8a\\xf6c5#\\xc9\\x95\\xdd\\xaa\\xa2\"\\xd2\\x08\\x88\\x80\\x88\\x88\\x08\\x88\\x80\\x88\\x88\\x08\\x88\\x80\\x88\\x880b\\xdb,p\\xe2\\xd7|\\x97\\x97:\\xcek\\xc8\\xb0\\x8f\\xd9^\\xa9PKH\\xe2\\x08\\xf8/3s\\x08\\x05\\x8eo\\x10\\xe1\\xbc\\x11b\\xb8}}\\x8e\\xff\\x00\\x0b\\xea-\\xf5\\xa5\\xee\\xea\\xb70\\xcf\\xb6\\xaa/G\\x1dx]nP|.u\\xdaT\\x8dJ[M\\xb1Q\\xd5p\\x8d7\\xd9\\xba\\xdd\\xc3>\\xf2\\xb7^\\xc6\\xba\\xfa\\'\\x16\\xba@7.\\x04\\xe9\\xea\\xb2:\\x80\\x06\\x1a\\x14\\x86\"\\xa0j\\xc2\\xcb\\xc3\\xa3U4\\xad\\xac=\\x98\\xb9\\x9cu9y\\x9e+\\xa9\\xd9\\x86XuP9\\x83{\\xc9\\x94F\\x9b0\\x9c\\x96\\xc30\\\\\\x96\\xc6\\r\\xe0\\x8ek9`X\\xb1t\\xd2}\\r\\x91*;\\x12n\\xa4\\xab\\xd4:(\\x9a\\xcf\\xef7\\xceVu\\xdaW\\xb3\\xf6Z\\xa1v\\x12\\x89:\\xec\\x01\\xe9a\\xf0\\n]F\\xf6u\\xb1\\x86\\xa2\";\\x8d\\xb7Q*I}\\x0c|\\x8f\\r\\xf6\\xaa\\x88\\x8a\\xa0\\x88\\x88\\x08\\x88\\x80\\x88\\x88\\x08\\x88\\x80\\x88\\x88\\x08\\x88\\x82\\x8b\\x9f\\xcf2W=\\xde\\xf2\\x94mE\\xdal\\x1d\\x1a\\x19\\xe2\\xba\\x05\\xaf\\x8b\\xc5\\xb6\\x9bK\\x9e`\\x01<\\xcf 7\\x95\\x9c\\xa4\\xb3\\xb5\\xc6\\xd9zy\\rzd9\\xc1\\xd6!\\xc4\\x11\\xbc\\x11\\xa8V\\xe1\\xdf6\\xe0\\xb6156\\xdc\\xf7\\xe9\\xb4\\xe7;\\xd4\\x93\\n8\\xbc\\xb5\\xf3\\xb9p\\xb1\\xe9\\x97U3I\\xf0\\xaf\\xab\\x8a\\x80\\xb5)\\xbeD\\xad,mn&\\x1a\\xb3\\xba\\xe9\\xb9\\xeb+\\x1c^\\xf2\\'\\xba>*\\x98\\xcc\\xe4\\xd2!\\xaec\\xa3\\x88\\xd2\\x15\\x941\\xadh\\x00\\x08\\x9d\\xe5[\\x8b\\xef\\x82\\x1d\\xe49-c\\x8d\\x8c\\xdc\\xa2A\\x99\\xd3vld\\x1b\\xf3P\\xf8\\xcc\\xd1\\xbb[\\xdcy\\x05\\x07\\x8d`k\\xf6[ GOD\\xa2\\x0bL\\x82OU2\\x89\\xc99K\\x15\\x0f\\x06 \\x15(j\\xd9s\\xb51\\x82\\x04\\x8f\\xd4)\\nu\\xe4\\x05\\xce\\xf4\\xdc\\xcbk\\xab\\xd4\\xb9Y{9\\x80\\xff\\x00S\\x89m3\\xe1\\x82\\xe7^%\\xad#hO\\x9a\\xd0\\xc4\\xbe\\xd2\\xbboe\\xb8\\x015kH$\\x01L\\x1b\\xcd\\xe1\\xc7\\xe9\\xe8\\xb5\\x86<\\xb2c<\\xb5+\\xd1\\x18\\xd0\\x00\\x02\\xc0X\\x0e\\x8a\\xf4E\\xecy\\x04D@DD\\x04D@DD\\x04D@DD\\x04E\\x1b\\x9cf\\xf4\\xf0\\xec\\xda\\xa8n|-\\x1a\\xb8\\xf0\\x1f\\xaa\\x0c\\xb9\\x9eaN\\x857T\\xaa\\xe0\\xd67Rw\\xf0\\x00o\\'\\x82\\xe03\\xdce\\\\^\\x1a\\xa5j`\\xb4\\x91\\xf6m\\xde\\x18\\x0c\\xbb\\xf9\\x8bn\\xa13\\xbc{\\xf1\\xd5\\xa9\\xb6\\xab\\x8bi\\x97\\x80\\x18\\'d\\t\\xd3\\x99<Wk\\x86\\xa4\\x1a\\xd0\\xd0,,\\x06\\xebh<\\xc4\\x85\\xa9\\x8e\\xce\\\\\\\\m\\x13\\xdc\\x1d\\x04-LP2#E1\\x98a=\\xdb\\xcb[\\xe0w}\\x9d\\x0e\\xef\"\\xb4*\\x80\\x05\\xf5\\xba\\xf3Y\\xab\\xa7yw\\xdb\\x1e\\x18\\x105\\xf2ZY\\xae\\xd1 0\\x02gI\\xfa\\xac\\xb5*\\xc7\\x84\\xef\\xbfE]\\x80\\xe3\\xb5yo\\x1f\\xaa\\xc5\\xc7]\\xc5\\xe5\\xbe\\x91\\x87\\x05Q\\xa6\\\\\\xe6\\xcf\\x9e\\xfeka\\x8c\\xad\\xb8\\xd3\\x1c&J\\x9a\\xa7@?\\xba\\xe1\\x12\\xa3\\xb1Y#\\xdaN\\xc3\\xecw^\\xca\\xf2\\xbf\\xadI\\'\\x8dZ\\x8f\\xab2\\xfa4\\xdeF\\x8e\\x95\\xa5^\\xb5mK\\x19\\x1c\\x01[\\x1508\\x96\\xe8\\xe0y\\x15e<\\x15gx\\xc8\\xe3\\x0b6\\xe9\\xaf\\x7f\\x11\\xaes\\x8b\\x81,#\\x8a\\x9c\\xc03\\xb9&\\xe3\\x8a\\xb5\\xcckD\\x18\\xe6\\xabM\\xe4\\x08\\x1apX\\xb6\\xd6\\'\\xf9\\xab\\x1e6\\x8d\\xa6\\x07\\xefE\\xec\\x9d\\x93\\xcb\\xfd\\xc6\\x1a\\x9b\\x0f\\x88\\x8d\\xb7uu\\xe3\\xca\\xc1y\\xd7b\\xf2\\x93_\\x10\\x0b\\x87q\\x90\\xe7\\x03\\xa5\\xbc-=O\\xc9z\\xfa\\xef\\xf1\\xc7\\xf5\\xcf\\xe9\\x97\\xe2\\xa8\\x88\\xbb\\xb9\\x08\\x88\\x80\\x88\\x88\\x08\\x88\\x80\\x88\\x88\\x08\\x88\\x80\\x8a\\x130\\xed6\\x1e\\x91!\\xd5\\x03\\x9c>\\xeb{\\xc6x\\x1d\\xc3\\xd5ry\\xdfn\\x1e\\xe1\\xb3E\\xa6\\x986.0^zno\\xc5M\\xae\\x9d&e\\xda\\xca\\x14\\xda\\xfd\\x87\\x87Th!\\xad\\x87Ap\\xb4\\x13\\x1cW\\x9b\\xe6X\\xd7\\xd6q\\xa9Q\\xdbn<l\\x07&\\x8d\\xc1k9\\xe4\\xc9\\xd7\\xcfUk\\x9d:\\x05u\\xfdK\\x7f\\x8b\\xb4\\x82\\xd3pA\\x1c\\x88\\xb8^\\x81\\x81\\xc5\\n\\x8ck\\xc1\\x80\\xe1\\'\\xf2\\x9f\\xbc<\\x8c\\x1e\\x8b\\xcfX\\'_\\xec\\xa7;7\\x98\\x86?\\xdd\\x12\\x03^e\\xbc\\x03\\xc7\\xd0\\x8b-\\xe3\\x936:\\x0c\\xdb\\t\\xb6\\xc2@\\xef\\xb6^\\xd8\\xe5\\xe3oM\\xeb\\x8f\\xc4\\xbe~\\x8b\\xbd\\x16\\xf8D\\xf1\\x06\\xd3\\xf1i\\xf2\\\\\\xeew\\x94\\x81\\xb4\\xf6\\x03\\xb2e\\xdb<?\\x10\\xf2+?L7\\xdco\\x0c\\xbf+\\x8c\\xafY\\xccp:\\x8d8\\xf5\\x95%\\x95\\xbc9\\xc6H\\x16\\xfd\\xf4Z8\\x9as\",\\xb4)9\\xd4\\xc9-\\x12?v\\x9e\\x0b\\xcf\\x8d\\x97\\xd6\\xec\\xd3\\xb0{\\xf4\\xe1\\xcbz\\x1cN\\x80\\x15\\x03K4i\\x170\\xee\\x1b\\x87EmL^\\xa0\\x14\\xb1\\xa9\\x92R\\xbe \\x032\\xac\\xda\\x9dM\\xb8hT-J\\xe3y$,\\xb41CI\\xe7{|V,k\\x9aB\\xad&\\x81\\xb4O\\xd3\\xe0\\xb5\\xb0\\x8cuz\\xac\\xa5H\\x12\\xe7\\x10\\x00\\xd4\\x017q\\xe0\\x00\\xba\\xd6q\\xa9]\\xed\\xa1\\x87a{\\xdcb\\x06\\x83\\x8b\\x8b\\xb7\\x01\\xc5z\\xe7c{*\\xcc\\x15?\\xc5Y\\xc3\\xbe\\xff\\x00\\x8e\\xcbx4|U\\xc7\\r\\xd6._\\xa9\\\\\\x97*f\\x1e\\x98c\\x077;{\\x9d\\xbc\\x92\\xa4Q\\x17\\xa2M9^\\xd5DEA\\x11\\x10\\x11\\x11\\x01\\x11\\x10\\x11Df\\xbd\\xa0\\xa1\\x87\\xb3\\xdf.\\xfc-\\xbb\\xbc\\xf8y\\xae36\\xed\\x8dZ\\x92\\xda\\x7fd\\xde\"\\xee?\\xcd\\xbb\\xc9M\\xae\\x9d\\x8eo\\xda\\x1a8{9\\xdbO\\xdc\\xc6\\xdd\\xde\\x7f\\x87\\xcdp9\\xcfj+\\xd7\\x96\\xce\\xc3?\\x0bf\\xe3\\xf3;R\\xa0\\x9ed\\x93s:\\xf1\\xf5T\\x16\\xfdN\\xe4\\xd7\\xf56\\x03r!X\\xe8\\xf2\\xe1;\\xd5\\xee\\xd2\\xda\\xfc\\xd6\\x19\\xb4F\\x9b\\xf9\\xad\"\\xd7\\x19\\xb8\\x9f/\\x92\\xca\\xd7\\xdbB\\xb0\\x16H:\\xd8\\xfe\\xe5R\\x9b\\xe3\\x8c\\xf0\\xb2\\r\\x97\\x99\\xfa\\xc7\\xea\\xb1\\x86\\x19\\x10o\\xf1\\x1c\\x11\\x80\\xfe\\xc0Y\\x0c\\xdbP\\x83\\xb9\\xc9\\xf3\\x01U\\x81\\xc7\\xc6;\\xaf\\x1cH\\x11\\xf1\\x17\\xea\\x14\\x89\\xb8\\xe2m\\x1f\\xc4G\\xc9\\xc2\\xddB\\xe0r\\xac\\xc0\\xd2\\xa8\\x1cd\\xb5\\xd0\\xd7\\xf4\\xe3\\xd4j\\xbb\\xbaO\\x9e`\\xf0\\xde\\r\\xed\\xfdC\\xcdt\\x97l\\xf8\\xe3{C\\x95\\x16;i\\x96c\\xae\\xdeG{W3V`\\xee<\\x0f\\xc9z\\xbdz\\r{K]\\x07kC\\xbbl\\xe8z8|W\\x0b\\x9de%\\x8e\\xb8\\x80n\\xd7\\x7f\\xf2y\\x85\\xe6\\xfba\\xab\\xca=?<\\xa6SU\\xc9T\\xa5am5V\\x16\\xbb@H\\xe5*a\\xf8ukX\\xd9\\xb8^y\\x9do\\x82\\x18\\xd0q7\\'\\xd5l3\\x0ex\\x929\\xad\\xea\\xad\\x03E`\\x16\\'p\\x12\\xaf+N:w\\xbe\\xcb\\xb1\\x94\\x99\\xb5M\\xcdkj<\\xd9\\xfb\\xdd\\xf9\\x0f\\x0e#\\x8a\\xf4\\xd5\\xf3\\xbeS\\x8a!\\xe4\\xee11\\xa8\\xe0\\xe1\\xcc/r\\xec\\xdef1\\x14\\x1a\\xe9\\xef7\\xba\\xff\\x00\\xe2\\x1b\\xfc\\xc4\\x1f5\\xdf\\x0b\\xf8\\xe5\\xf4\\xc7]\\xa5\\xd1\\x11ts\\x11\\x11\\x01\\x11\\x10\\x11\\x11\\x01\\x11\\x10xi\\x12M\\xff\\x00\\xba\\xb4\\xb4\\xff\\x00iV\\xbb],\\xaei\\xbd\\x82\\xba\\xd2Z\\xb5\\xad0d*\\xb5\\xb3b7*\\xbc\\x02\\xa8Z\\x04\\x90\\x83\\x1d^\\xb09,Dp\\x89\\xf9\\xac\\xaf|\\x85c\\xdb:Z\\xda\\xa8-\\x07]\\xe6\\x07\\x92\\xa3\\x1f\\x1b\\xae\\xa9\\xefZ\\xdb\\xb8H\\xdeu\\x8e\\xbc\\x95[\\xb2\\xe7\\x024:\\x19\\xb1\\xe5\\x086$\\xf2GT\\x11\\x16\\xf2\\x95R\\xf0\\x01\\x03\\xe5\\xf2T\\x8d\\xe4yO\\xc5\\x06&\\r\\xf7\\xe9\\xcb\\x9a\\xeb;1\\x98m\\x0ft\\xef\\x13A,\\xe2Y\\xc3\\xa8\\xd5r\\xe1\\xf3\\xa4\\xf9\\xac\\x98g\\x9aok\\xdaL\\x82\\x0fE\\xacn\\xaaW\\xa2\\x83m=9\\xdc\\xc7\\xf5\\x0f5n#\\x0c\\xda\\xad,x\\x04:$\\xf0w\\xdc\\xa89\\x1d\\xfc\\xd6<=`\\xf6\\x077x\\xd3\\x81\\xd4\\x81\\xf3\\x0b#]\\xca~N\\x07Q\\xd1\\xda\\x8e\\x05t\\xb2T\\x96\\xcb\\xd3\\x84\\xcc\\xf0n\\xa2\\xfd\\x97i\\xb8\\xc6\\xbf\\xddFU`7^\\x99\\x8e\\xc22\\xab\\x0b^%\\xb1s\\xbe7<sn\\x85pY\\x86\\x04\\xd3u\\x8b^\\xc2N\\xc3\\xdaAk\\xb9H\\xde\\xbc?_\\x95\\xc7\\xb9\\xe3\\xd7\\xf3\\xfaL\\xbaE6\\x92\\xd7\\xc7\\xbe\\x1b\\xb25w\\xc8)B\\xdbh\\xa0\\xb6\\xcb\\xf1\\x0en\\xe0\\x04}W<&\\xeb\\xa6WI\\x1c\\xa3\\n\\xba\\xfc\\x9368:\\xac{\\xbf\\xf0U\\x01\\x95?!\\x1e\\x17\\xf9I\\xf2*+\\x03@4\\x05\\xb5\\x8f\\xa3\\xef\\x18\\xf6\\x08&\\t\\x8bH\\x8d\\x0cu^\\x89\\x8e\\xdc\\xf3\\x9d=v\\x9b\\xc1\\x00\\x82\\x087\\x04hG\\x10\\xaf^\\x07\\xd9\\xfe\\xd4\\xe2p\\xa7e\\x8f\\xda`\\xd6\\x9b\\xe4\\xb7[\\xc6\\xf6\\xf9/O\\xec\\xf7n\\xb0\\xf8\\x98c\\x8f\\xb9\\xaam\\xb2\\xf26\\\\\\x7f#\\xf4=\\x0c\\x15\\xa9\\x7f\\xae\\x1a\\xfe:\\xe4DZA\\x11\\x10\\x11\\x11\\x01\\x11\\x10xC\\xe4\\x10}\\x15O\\x1d\\x0e\\xf0\\xac/\\xbe\\xf8\\xd3\\xf6\\x15\\xcd&9\\xaa\\x8b\\x85\\xf7\\x10\\xa8\\xe0V\\x10\\xf8:\\xeb\\xb9ep\\x99*\\x0b\\x0b\\x15\\x8co?U\\x92\\xe0j\\xb1\\x8dJ\\x0b\\x9c\\xcbq\\xf2Z\\x950d]\\x87d\\x8b\\xc6\\xe2\\xb6\\x83\\xa4F\\xba\\xa3\\x1b\\xb4G\\x01\\xf1A\\x8e\\x83\\xdd\\x12\\xf6\\xc1\\x1a\\x00gif\\x0f\\xdf:\\xfe\\xe1U\\xed$\\xce\\x9f\\xbd\\x10\\xe9\\x16\\xea\\x82\\xaf\\x07\\x87\\xef\\x92\\xaby\\rU\\x18\\t\\x9d\\xa1\\xe6\\xad\\x9e\\x03\\xa4\\xfe\\x88:\\xae\\xccc&i\\x93\\xba[\\xd3\\x971\\xaa\\xe8\\x9c\\xcf>>w\\xb7\\x00\\xedG0\\xbc\\xee\\x86(\\xb1\\xed{l\\xe1\\x11\\xbbN\\\\\\xd7[\\x8b\\xcf\\xd8\\xcc8\\xaa.^\\x08c/s\\xbd\\x86. \\xdc\\x15\\xd3\\x1c\\xbf\\xac\\xd8\\x85\\xed\\xc6j\\xfd\\x87P\\xa0\\xfd\\x97\\x91\\xb4\\xf7\\x0b\\x1d\\x93b\\x1a\\xef\\xba\\\\,B\\xe2;;\\x99\\xbb\\x0cM\\x1a\\xedw\\xb8y\\xb83\\xdcq\\xd1\\xec\\xdd\\xd6\\x14\\xd3\\x98\\xf7\\xbd\\xcfy.s\\xc1$\\xf1\\x9d\\'\\xcb\\xe4\\xa7\\xf2\\xbc\\x15:\\x8c\\x0c\\xa8\\xc0\\xe6\\xc4\\xc1\\x837\\xb8\\xe5\\xb9f\\xe5\\xcb\\xa6\\xa7\\xf9\\xee\"\\xde\\x18[\\xb4\\xc7\\x874\\xf8\\\\4?\\xddA\\xe58\\x7f\\xfb\\x97\\x07\\x02d[\\xac\\xa9\\xbe\\xd0\\xe4\\xd4\\xf0\\x80\\x1aO#\\xde\\x1b0\\xde#W\\xb7\\x80\\x9by(\\xaa\\x18\\xcd\\x82^{\\xce\\r!\\xbc\\xdc\\xed\\t^y\\x87\\x1c\\xb5\\x1e\\x8e|\\xb1\\xdaO;\\xcc\\x85&\\x00\\xc2\\x1dY\\xc7a\\xac\\x06\\xe0\\x9f\\xbc\\xe8\\xd0(*\\xd9m|3\\xd9X\\xd6\\xfbG\\x9b\\xc4\\xc8\\x9dA\\'Q\\xf0T\\xa9\\x96\\x19;Q\\xb64p\\xd6Oz\\xfc\\n\\xc7\\x969\\xf5_/s\\x9cZ`\\x97\\x1d9.\\xd7r\\xea8\\xdc\\xad\\xf5~b\\xd2\\xda\\x8e\\x88\\x13\\x04\\xf5\"\\xeb\\x13\\x1d\\xea\\xb63C5\\x1f\\xc8\\x81\\xe8\\x16\\xa3J\\xe5\\x97\\xab<v}\\x99\\xed\\xcdl9\\x0c\\xab5h\\xf0\\'\\xbc\\xc1\\xf9I\\xd4r+\\xd62\\xbc\\xd6\\x96!\\x81\\xf4^\\x1c\\xdd\\xfcA\\xe0\\xe1\\xa8+\\xe7\\x92\\xa42<\\xee\\xae\\x16\\xa8\\xa9L\\xdfG4\\xf8^\\xdf\\xc2\\xe1\\xf5\\xdc\\x93+\\x0b\\xaa\\xfa\\x19\\x14?g\\xb3\\xeaX\\xbaA\\xf4\\xcc\\x11g0\\xf8\\x98\\xee\\x07\\x97\\x03\\xbdL.\\xac\\x88\\x88\\x80\\x88\\x88<\\x17\\xdd\\x8ew\\xfa,\\x84G0\\xaa\\xe6i}~\\x88\\xe7\\x81#R}\\x15\\xa8\\xc4\\xf6K~J\\x94\\x1f\\xb4\\x0e\\xe8\\xb2\\xbd\\xd5\\x06\\xcd\\xe1k\\xb6\\xce\\xe4\\xeb\\xfa(2<\\xbbM\\xc3\\xd5\\\\\\xd6\\x8e\\x07En\\xd13\\xb9\\x01\\x98\\x06\\xc8/\\xa6\\xdf\\xf2\\xb1\\n\\x85\\xae\\x83\\xe1?\\x0ek)\\xb0\\x80\\xb1T\\xe9\\xfb\\xfa\\xa0\\xcc\\xe07\\x1f\\xee\\xb1Vv\\xd7u\\xbdI\\xe1\\xe6\\xac\\xa0\\xf8\\xee\\xcfBm\\xe4\\xb6\\x00\\x11\\xf1\\x1dy\\xa0\\xba\\x8c\\x06\\x813\\x1a g2:\\xfd\\x15\\xac\\x17\\xbf\\xf8YA\\x9b \\xa3\\xc4s\\x9dec\\xd9\\x05\\xc0\\xdbu\\xba,\\x924\\xbc\\xeeV\\xd4\\x1d9\\xa5\\x13T0\\xa1\\xcc-o\\x02\\xd1\\xfdM\\xfa\\x85u2Z\\xe0b\\x1c\\xd8\\'\\xa3\\x84\\x1f\\x88U\\xc8q6\\x83\\x1b@k\\xcd\\xb7\\x1f\\x05)\\x8d\\xc2\\x87\\r\\xa1\\xae\\x9eN\\xef4z\\xca\\xd68\\xa5\\xae;\\xb5\\xac{\\xdd\\xef\\x84\\x96\\xb4\\x01\\xb3\\xf8@\\xfa(L\\xa0\\x1a\\xb5\\x18\\xd8\\xb3e\\xee\\xe1\\x03\\x9fU\\xe8\\xd8\\x9c1s%\\x86\\'v\\xe2\\x1c&\\x08:\\xdeB\\xe6\\xf2\\xbc\\xa5\\xb4\\xea=\\xc2\\xdbc\\xba\\xdd\\x00\\x8b\\xb85L\\xb1\\xfdk\\x1c\\xba\\xd3#p\\xc3\\xde\\x1d\\xe3\\x9f\\xc0\\x1e\\\\\\x0e\\xe5\\x17O\\t\\xee\\xf1/\\x8d\\x0c\\x9f-WO\\x86\\xa3/\\x04p\\xf4\\x9d\\xe7\\xf2\\x9d:\\xad,\\xce\\x89\\xbb\\x87\\x88m\\x0fU\\x11\\xc6Q~\\xd9s\\xb8\\xb8\\x9f\\x8d\\x91\\xcd\\x83\\x0bf\\x9e\\x04\\xd3!\\xae\\xd1\\xc7\\xe2\\xab\\x8a\\xa0E\\xd62\\x9f\\xab\\x1a\\xa2\\xda\\xaa\\x1dU\\xcf\\x129\\xabH\\x90\\xb9\\xb4\\x90\\xc8\\xf3\\x8a\\xb8j\\xa2\\xa53\\x04j\\xdd\\xcfn\\xf6\\xb8~\\xe1}\\x01\\x80\\xc5\\n\\xb4\\xd9Q\\xba=\\xadx\\xe8\\xe0\\x0f\\xd5|\\xdeJ\\xf7\\xee\\xc7:pXo\\xf6\\xd8=\\x04}\\x16\\xf0\\xf5/\\x89\\xb4D]\\x10DD\\x1e\\x0e\\xfd\\xcb\\x18\\xf1\"*\\x8c5|\\'\\xaa\\xa9\\xd5\\xbf\\xbd\\xc8\\x8a\\x0b\\xfe\\xf2\\xbd\\xfb\\xba}Q\\x10]\\x89\\xdd\\xe4\\xad~\\x88\\x885\\xea}\\xd5\\x9ck\\xe6\\x88\\xa8\\xce5*\\xacDPU\\xde \\xadn\\xa7\\xaa\"\\r\\xec\\x87\\xc4\\xef\\xe2\\x1f%\\xd5\\xb3\\xc3\\xff\\x00\\x0f\\xea(\\x8bq\\x9a\\xb3\\x0f\\xa7\\xfc\\x7f\\xac\\xa8|g\\x88\\xff\\x00\\x11\\xf9\\x94Ei\\x19p>!\\xfc/Z\\xc7z\"\\xe7Zs\\xf9\\xc6\\x83\\xf8\\xc2\\xd7\\xab\\xa1DY\\xbe\\x11\\x18\\xedU\\x8d\\xd1\\x11r\\xad\\xad~\\xa1{\\xf7b\\xbf\\xf4p\\xff\\x00\\xc0>eU\\x16\\xf0\\xf5*q\\x11\\x17D\\x11\\x11\\x07\\xff\\xd9'\n"
     ]
    }
   ],
   "source": [
    "print(resp.content)"
   ]
  },
  {
   "cell_type": "code",
   "execution_count": 27,
   "id": "8562bb3a",
   "metadata": {},
   "outputs": [],
   "source": [
    "with open('myimg.png', 'wb') as fd:\n",
    "    fd.write(resp.content)"
   ]
  },
  {
   "cell_type": "code",
   "execution_count": 28,
   "id": "fadfe707",
   "metadata": {},
   "outputs": [
    {
     "name": "stdout",
     "output_type": "stream",
     "text": [
      "����\u0000\u0010JFIF\u0000\u0001\u0001\u0000\u0000\u0001\u0000\u0001\u0000\u0000��\u0000�\u0000\r\n",
      "\u0007\b\u0016\u0016\u0015\u0018\u0016\u0015\u0015\u0018\u0018\u0016\u0018\u001c",
      "\u0018\u0018\u0018\u0019\u001a\u001a\u0015\u001c",
      "\u001a\u0018\u001a\u0018\u001a\u0019\u0019\u0018\u0018\u0018\u0018\u001c",
      "!.%\u001c",
      "\u001e",
      "+\u001f\u0018\u0018&8&+/1555\u001a$;@;4?.451\u0001\f",
      "\f",
      "\f",
      "\u0010\u000f\u0010\u001c",
      "\u0012\u0012\u001e",
      "4!%$14441444444144441144444444444444144444444444444141��\u0000\u0011\b\u0000�\u0000�\u0003\u0001\"\u0000\u0002\u0011\u0001\u0003\u0011\u0001��\u0000\u001c",
      "\u0000\u0001\u0000\u0001\u0005\u0001\u0001\u0000\u0000\u0000\u0000\u0000\u0000\u0000\u0000\u0000\u0000\u0000\u0005\u0001\u0002\u0003\u0004\u0006\u0007\b��\u0000>\u0010\u0000\u0001\u0003\u0002\u0003\u0005\u0005\u0005\u0006\u0005\u0003\u0005\u0000\u0000\u0000\u0000\u0001\u0000\u0002\u0011\u0003!\u0004\u00051\u0012AQaq\u0006\"2��\u0007\u0013���#BRb��r����\u0014s�\u0016$34���\u0000\u0019\u0001\u0001\u0001\u0001\u0001\u0001\u0001\u0000\u0000\u0000\u0000\u0000\u0000\u0000\u0000\u0000\u0000\u0000\u0001\u0002\u0003\u0004\u0005��\u0000\u001e",
      "\u0011\u0001\u0001\u0000\u0002\u0003\u0001\u0001\u0001\u0001\u0000\u0000\u0000\u0000\u0000\u0000\u0000\u0000\u0001\u0002\u0011\u0012!1\u0003AQ\"��\u0000\f",
      "\u0003\u0001\u0000\u0002\u0011\u0003\u0011\u0000?\u0000�dD@DD\u0004D@DD\u0004DADX��kZ\\�\u001a\u0005�&\u0000�\\gh��a���mR,\u001a{��Ӕ�E�n�A�=��P$>�dj\u0001��^/��D�W0\u001e",
      ")2�e�\t�]��r%䛒O\u0013u;5?^����`��95�|]\u0001F������F�\u0013ޝ�\u0003��׋�W������^���k\u0018Rce�q#�S�npU@-��I�q�=\r\n",
      "���U�&���Y�7D9��\u001c",
      "��+m�Zt ������2ǹ�\r\n",
      "�2?h��\u00001�\u0019 ˧l\r",
      "�\u0019M���\u0001\u0014\u001e",
      "G�*8�m�Mഁ2{�?��M\u0007\u0003���4�\u0011\u0015A\u0011\u0010\u0011\u0011\u0001\u0011\u0010\u0011\u0011\u0001\u0011\u0010\u0011\u0011\u0001\u0011\u0010Qkc1�����h\u0013א�W�{a�K\u001d",
      "N�\u001c",
      "C���N��\u0001�?U-�X�;]ۺ��\u0011L��\u0001!�\u0011.\u001c",
      "_�.Ch������Cް�$�ڱ�H1�*lج��63�X�eT\\Ɵ${o�P�Ue@,D���\u0014`�tTs%$@��Q�8��\u0010�����U�\u0006�M�U�?n��\u0006\u0003۹�KO���;#���5���;=��\u000e\u001b��\u001fU󣂚�h*a*����!�;��6ޱz���O��he8�֦׷B\u0001�\u0012�֥�\u0002\"*\b����\b����\b����-+����&�2���{�:\u0002����\u0004q\u0010�\\�\u001e",
      "�V�?iR�E��\u0016�\u0002��cQÁ�@w�P�p�V\bZ\u001558Ϧ���,DO-�\u0013�O�Y��\u0007��%M�U��\b�����_��'���$2#�8)r^(��7Tq\u0007K+��7V5����j�J���4�5U�+e&\u0015�E��}���\u000b",
      "�|T��0\u0017~���ebN%�]Ѱ��к���/^S\u001f\u0013/UDE�\u0011\u0011\u0001\u0011\u0010\u0011\u0011\u0001\u0011\u0010\u0011\u0011\u0001\u0011\u0010X�\f",
      "���Q\u0015��\u0000�S�ܾ����Wʹ��j���n\u001d",
      "�}Y�Xj��s�ו!��.x\u0001[u\u001a�����\u0016]vS�4n�T�`�\u0002T�\u0006�\u0005��;k�8t֩���\u0001'�����Lo]9z��rY�V�G\u0015����֓2\u0017��<�K�;?�c�d��/��9J=�\u0002���۳�+�xjլ\u0006�y/\bⱙ[������$\u0015�X�v\\Nj�y����ޫ�x������bxl3����x߰����[e��b��w��\f",
      "�U\u0011\u0016�DD\u0004D@DD\u0004D@DD\u0004DA�����/��GL�\u0013P\u0018�\u0018�\u001b���\u001a��8�\u0000\u0003u��\u0000j���\u001c",
      "�˃�%�(���7\u001b�t���3L��a�C�;A�d�]�I��L��ߢ���SN�c���\u0006\u0005��YG{�.M��\u00171dA7\\q��[��͘\u000b",
      "\u0014����\u0016\u0017b��\u0012řm�aY��~$\u0005���\u0012J�]��\u0016��ue|Ń�\u0001���m\u0013�AN;g,�>8�/=l=O34�w{��Qy�9�;ͼ�����W�z/�\u001c",
      "(\u0014�Ծ�!��,E��.\u001f�f\f",
      "3\u0006ӽ��\u0012\u0017p�X���舋L�����\b����\b����!{X�p�vfvm\u001d",
      "B��\u0016Z�v�$\u001d",
      "dϢ������?#�R��\u0013U�l6�+���oOǼlAe�[}��m�\u001a\u001e",
      "jZ��<\u0002aX[��d����\u0002|�/wn�\u001d",
      "M9�N%�0$�:��7�4\u001e",
      "%�Jc2'����E\u0013�\u0000O� �v�Q>�s)�X֓�*�\u001b~�H`��=��k&\u001f\u0000�0��=���w \u0015p�p&@��E2��\u001a�p/s�q��Df��i��к�\u0015\u001f�\\�u�&�&!b^�,�s��\u0005��ે{\u0001�9�N��1����#�[�af\t��������w)�>7~0\u00160\u0000X~���4���nAW��\u0004J�}\u001d",
      "�\u0005r�v�#�}��0�&\u001e",
      "v�;�p9.�Gd\u0014CpԚ4�gŠ�T��c5#ɕݪ�\"�\b����\b����\b����0b�,p��|��:�kȰ��^�PKH�\b�/3s\b\u0005�o\u0010�\u0011b�}}��\u0000\u000b",
      "�-����0϶�/G\u001d",
      "x]nP|.u�T�J[M�Q�p�7ٺ��>�^ƺ�'\u0016�@7.\u0004��:�\u0006\u001a\u0014�\"�j��ãU4��=���u9y�+�نXuP9�{ɔF�0���0\\��\r",
      "��k9`X�t�}\r",
      "�*;\u0012n���:(���7�Vu�W��Z�v\u0012�:�\u0001�a�\r\n",
      "]F�u���\";��Q*I}\f",
      "|�\r",
      "�������\b����\b����\b�����2W=��mE�l\u001d",
      "\u001a\u0019�\u0005��Ŷ�K�`\u0001<� 7�������zy\r",
      "zd9��!�\u0011�\u0011�V��6�156����;ԓ\r\n",
      "8���p��U3I𯫊��)�D�,mn&\u001a����+\u001c",
      "^�'�>*����!�c���\u0015�1�h\u0000\b��[��\u001d",
      "�9-c��ܢA��vld\u001b�P��ѻ[�y\u0005\u0007�`k�[ GOD�\u000b",
      "L�OU2��9K\u0015\u000f\u0006 \u0015(j�s�1�\u0004��)\r\n",
      "u�\u0005����k�ԹY{9��\u0000S�m3��^%�#hO��ľһoe�\u00015kH$\u0001L\u001b����赆<�c<�+�\u0018�\u0000\u0002�X\u000e��E�y\u0004D@DD\u0004D@DD\u0004D@DD\u0004E\u001b�f���ڨn|-\u001a��\u001f�\f",
      "��aN�7T���7Rw�\u0000o'��3�e\\^\u001a�j`���m�\u0018\f",
      "���n�3�{�թ���i��\u0018'd\tә<Wk��\u001a��,,\u0006�h<ą���\\\\m\u0013�\u001d",
      "\u0004-LP2#E1�a=��[�w}�\u000e�\"�*�\u0005���Y��yw�\u001e",
      "\u0018\u00105�ZY�� 0\u0002gI���*Ǆ�E]��yo\u001f���]�徑�\u0005Q�\\�Ϟ�ka����\u001c",
      "&J��@?��\u0012��Y#�N��w^��I'�Z��2�4�F���^�mK\u0019\u001c",
      "\u0001[\u001508���y\u0015e<\u0015gx��\u000b",
      "6�\u0011�s��,#���3�&㊵�kD\u0018�M�\b\u001apX��'��\u001e",
      "6��\u0007�E읓���\u001a�\u000f���uu���y�b�_\u0010\u000b",
      "�q��\u0003��-=O�z�������⨈��\b����\b����\b���\u00130�6\u001e",
      "�!�\u0003�>�{�x\u001d",
      "��ry�n\u001e",
      "�E��6.0^zno�M��&e��\u0014����Th!��Ap�\u0013\u001c",
      "W��X��q�Q�n<l\u0007&��k9����Uk�:\u0005u�K����pA\u001c",
      "��^���\r\n",
      "�k���'�<�\u001e",
      "��X'_�;7��?�\u0012\u0003^e�\u0003�Ћ-�6:\f",
      "�\t��@�^���oM�ľ~��\u0016�D�\u0006��i�\\�w����\u0003�e�<?\u0010�+?L7�o\f",
      "�+��Y�p:�8��%��9�H\u0016��Z8�s\",�)9��-\u0012?v�\u000b",
      "ύ���Ӱ{���z\u001c",
      "N�\u0015\u0003K4i\u00170�\u001b�EmL^�\u0014���R� \u00032�ڝM�hT-J�y$,�1CI�{|V,k�B�&��O�൰�uz��H\u0012�\u0010\u0000�\u00017q�\u0000��q�]���a{�b\u0006����\u0001�z�c{*�\u0015?�Yþ�\u0000��x4|U�\r",
      "�._�\\�*f\u001e",
      "�c\u00077;{����Q\u0017�M9^�DEA\u0011\u0010\u0011\u0011\u0001\u0011\u0010\u0011Df������.�-���y�36�Z��d�\"�?ͻ�M���o�\u001a8{9�O������p9�j+ז��?\u000b",
      "f��;R��d�s:��T\u0016�N���6\u0003r!X���;������\u0019�F���\"�\u0019��/����B�\u0016H:���R���\r",
      "����걆\u0019\u0010o�\u001c",
      "\u0011���Y\f",
      "�P����\u0001U���;�\u001c",
      "H\u0011�\u0017�\u0014���m\u001f�G���B�r��Ҩ\u001c",
      "d������j��O�`��\r",
      "��C�t�l��{C�\u0016;i�c��G{W3V`�<\u000f�z�z\r",
      "{K]\u0007kC�l�z8|W\u000b",
      "�e%���n��y���a��=?<�SU�T�am5V\u0016�@H�*a�ukXٸ^y�o�\u0018�q7'�l3\u000ex�9��\u0003E`\u0016'p\u0012�+N:w�˱���M�kj<����\u000f\u000e#����S�!��11����/r��f1\u0014\u001a��7��\u0000�\u001b��\u001f5�\u000b",
      "����]��\u0011ts\u0011\u0011\u0001\u0011\u0010\u0011\u0011\u0001\u0011\u0010xi\u0012M�\u0000����\u0000iV�],�i����Z��0d*��b7*�\u0002�Z\u0004��\u001d",
      "^�9,Dp����|�c�:Zڨ-\u0007]�\u0007��\u001f\u001b���Z۸H�u���[��\u00024:\u0019��\b6$�GT\u0011\u0016�R�\u0001\u0003��T��yO�\u0006&\r",
      "��˚�;1�m\u000ft�\u0013A,�Yè�r�����g�ok�L�\u000fE�n�W��m=9���\u000f5n#\f",
      "ڭ,x\u0004:$�wܨ9\u001d",
      "��<=`�\u00077xӁԁ�\u000b",
      "#]�~N\u0007Q�ڎ\u0005t�T��ӄ��n���i�ƿ�FU`7^���2�\u000b",
      "^%�s�7<sn�pY�\u0004�u�^�N��Ak�H޼?_�ǹ����L�E6��Ǿ\u001b�5w�)B�h����\u000en�\u0004}W<&�WI\u001c",
      "�\r\n",
      "���68:�{��U\u0001�?!\u001e",
      "\u0017�I�*+\u0003@4\u0005����\u0018�\b&\t�H�\f",
      "u^����=v��\u0000�\b7\u0004hG\u0010�^\u0007����p�e��`֛�[���/O��n���c���m��6\\#�=\f",
      "\u0015��\u001a�:�DZA\u0011\u0010\u0011\u0011\u0001\u0011\u0010xC�\u0010}\u0015O\u001d",
      "\u000e�/����\u0015�&9����\u0010��V\u0010�:�ep�*\u000b",
      "\u000b",
      "\u0015�o?U��j��J\u000b",
      "��q�Z�0d]�d��ⶃ�F��\u001b�G\u0001�A���\u0012��\u001a\u0000gif\u000f�:��U�$Ο�\u0010�\u0016ꂯ\u0007�y\r",
      "U\u0018\t��歞\u0003���:��c&i��[ӗ1���>>w�\u0000�G0��(��{l�\u0011�N\\�[����8�.^\bc/s��. �\u0015�\u001c",
      "��؅��j��P������\u000b",
      "\u001d",
      "�b\u001a�\\,B�;;��\f",
      "M\u001a�w�y�3�q����\u0014Ә���y.s�$�'���\u0015:�\f",
      "������7��f�˦���\"�\u0018[�Ǉ4�\\4?�A�8��\u0007\u0002d[��������\u001aO#�\u001b0�#W���y(�\u0018͂^{�\r",
      "!���\t^y�\u001c",
      "�\u001e",
      "�|��O;̅&\u0000�\u001d",
      "Y�a�\u0006�����(*�m|3�X��G��ȝA'Q�T��\u0019;Q�4p�Oz�\r\n",
      "ǖ9�_/s�Z`�\u001d",
      "9.�r�8ܭ�~b�ڎ�\u0013\u0004�\"�\u0013\u001d",
      "�3C5\u001fȁ�\u0016�J嗫<v}���l9\f",
      "�5h�'���I�r+�2�֖!��^\u001c",
      "��A��+璤2<�\u0016��L�G4�^����ܓ+\u000b",
      "��\u0019\u0014?g��X�A��\u0011g0���\u0007�\u0003�L.������<\u0017ݎw�,�G0��i}~��#R}\u0015���K~J�\u001f�\u000e貽�\u0006��k�����(2<�M��\\֎\u0007En�3�\u0001�\u0006�/���\r\n",
      "����?\u000ek)���T������7\u001f�Vv�u�I�欠���Bm�\u0000\u0011�\u001d",
      "y���\u0006�3\u001a g2:�\u0015�\u0017��YA� ��s�ec�\u0005��u�,�4��V�\u001d",
      "9�\u0013T0��-o\u0002��M��u2Z�b\u001c",
      "�'��\u001f�U�q6�\u001b@kͷ\u001f\u0005)�\r",
      "���N�4z��8��;��{��\u0001��@�(L�\u001a�\u0018سe��\u0003�U�؜1s%�'v�\u001c",
      "&\b:�B�򼥴�=��c��\u0000��5L��k\u001c",
      "��#p��\u001d",
      "��\u001e",
      "\\\u000e�\u0017O\t��/�\f",
      "�-WO��/\u0004p����:�,Ή���m\u000fU\u0011�Q~�s�����̓\u000b",
      "f�\u0004�!���⫊�E�2��\u001a�ڪ\u001d",
      "U�\u00129�H������j��3\u0004j��n��~�}\u0001��\r\n",
      "��Q�=�x��\u000f�|�J���:pXo��=\u0004}\u0016��/��D]\u0010DD\u001e",
      "\u000e��\u0018�\"*�5|'��տ�Ȋ\u000b",
      "����}Q\u0010]���~��5�}՜k戨�5*�DPU� �n��\"\r",
      "����\u001f%ճ��\u0000\u000f�(�q��\u000f����|g��\u0000\u0011��Ei\u0019p>!�/Z�z\"�Zs�ƃ��׫�DY�\u0011\u0018�U��\u0011r��~�{�b��p�\u0000�>eU\u0016��*q\u0011\u0017D\u0011\u0011\u0007��"
     ]
    }
   ],
   "source": [
    "!cat myimg.png"
   ]
  },
  {
   "cell_type": "code",
   "execution_count": 29,
   "id": "e465015e",
   "metadata": {},
   "outputs": [],
   "source": [
    "from PIL import Image"
   ]
  },
  {
   "cell_type": "code",
   "execution_count": 30,
   "id": "f4aef962",
   "metadata": {},
   "outputs": [],
   "source": [
    "img = Image.open(\"myimg.png\")"
   ]
  },
  {
   "cell_type": "code",
   "execution_count": 31,
   "id": "4397ce05",
   "metadata": {},
   "outputs": [
    {
     "data": {
      "image/png": "[encoded data removed]",
      "text/plain": [
       "<PIL.JpegImagePlugin.JpegImageFile image mode=RGB size=225x225>"
      ]
     },
     "execution_count": 31,
     "metadata": {},
     "output_type": "execute_result"
    }
   ],
   "source": [
    "img"
   ]
  },
  {
   "cell_type": "code",
   "execution_count": null,
   "id": "3b4525da",
   "metadata": {},
   "outputs": [],
   "source": []
  },
  {
   "cell_type": "code",
   "execution_count": null,
   "id": "9a7b066b",
   "metadata": {},
   "outputs": [],
   "source": []
  },
  {
   "cell_type": "code",
   "execution_count": null,
   "id": "34a691ce",
   "metadata": {},
   "outputs": [],
   "source": []
  }
 ],
 "metadata": {
  "kernelspec": {
   "display_name": "Python 3 (ipykernel)",
   "language": "python",
   "name": "python3"
  },
  "language_info": {
   "codemirror_mode": {
    "name": "ipython",
    "version": 3
   },
   "file_extension": ".py",
   "mimetype": "text/x-python",
   "name": "python",
   "nbconvert_exporter": "python",
   "pygments_lexer": "ipython3",
   "version": "3.10.4"
  }
 },
 "nbformat": 4,
 "nbformat_minor": 5
}
