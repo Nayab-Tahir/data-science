{
 "cells": [
  {
   "cell_type": "markdown",
   "id": "d162b058",
   "metadata": {},
   "source": [
    "---   \n",
    " <img align=\"left\" width=\"75\" height=\"75\"  src=\"https://upload.wikimedia.org/wikipedia/en/c/c8/University_of_the_Punjab_logo.png\"> \n",
    "\n",
    "<h1 align=\"center\">Department of Data Science</h1>\n",
    "<h1 align=\"center\">Course: Tools and Techniques for Data Science</h1>\n",
    "\n",
    "---\n",
    "<h3><div align=\"right\">Instructor: Muhammad Arif Butt, Ph.D.</div></h3>    \n"
   ]
  },
  {
   "cell_type": "markdown",
   "id": "3184edc1",
   "metadata": {},
   "source": [
    "<h1 align=\"center\">Lecture 5.2 (Web Scraping using BeautifulSoup)</h1><br>\n",
    "<a href=\"https://colab.research.google.com/github/arifpucit/data-science/blob/master/Section-5-(Data-Acquisition)/Lec-5.2(Web-Scraping-using-BeautifulSoup).ipynb\" target=\"_parent\"><img src=\"https://colab.research.google.com/assets/colab-badge.svg\" alt=\"Open In Colab\"/></a>"
   ]
  },
  {
   "cell_type": "markdown",
   "id": "9e64b25e",
   "metadata": {},
   "source": [
    "<img align=\"center\" width=\"900\" height=\"650\"  src=\"images/scrap.PNG\"  >"
   ]
  },
  {
   "cell_type": "code",
   "execution_count": null,
   "id": "7e99711f",
   "metadata": {},
   "outputs": [],
   "source": []
  },
  {
   "cell_type": "code",
   "execution_count": null,
   "id": "b160b1e8",
   "metadata": {},
   "outputs": [],
   "source": []
  },
  {
   "cell_type": "code",
   "execution_count": null,
   "id": "65ca04bb",
   "metadata": {},
   "outputs": [],
   "source": []
  },
  {
   "cell_type": "code",
   "execution_count": null,
   "id": "19a21dbb",
   "metadata": {},
   "outputs": [],
   "source": []
  },
  {
   "cell_type": "code",
   "execution_count": null,
   "id": "7e9e502b",
   "metadata": {},
   "outputs": [],
   "source": []
  },
  {
   "cell_type": "markdown",
   "id": "38dc9b19",
   "metadata": {},
   "source": [
    "<img align=\"right\" width=\"400\" src=\"images/webscraping.png\"  >\n",
    "\n",
    "## Learning agenda of this notebook\n",
    "1. **Overview of BeautifulSoup**\n",
    "    - What is BeautifulSoup and how it works?\n",
    "    - Download and Install BeautifulSoup\n",
    "\n",
    "\n",
    "2. **Playing with BeautifulSoup**<br>\n",
    "    - Reviewing the Books Scraping Website\n",
    "    - Fetching HTML Contents Using `requests` Library\n",
    "    - Creating the Soup Object using `BeautifulSoup` Library\n",
    "    - Accessing Attributes of `Soup` Object\n",
    "    - Using the `soup.find()` Method\n",
    "    - Using the `soup.find_all()` Method\n",
    "    - Iterating Through the List returned by `soup.find_all()` Method\n",
    "\n",
    "\n",
    "3. **Example 1: Scraping Information from a Single Web Page** https://arifpucit.github.io/bss2/ <br>\n",
    "    - Extracting Book Titles/Authors\n",
    "    - Extracting Book Prices\n",
    "    - Extracting Book Availability (In-Stock)\n",
    "    - Extracting Book Review Count\n",
    "    - Extracting Book Star Ratings\n",
    "    - Extracting Book Links\n",
    "    - Saving data into CSV file on disk\n",
    "\n",
    "\n",
    "4. **Example 1 (cont): Scraping Information from a Multiple Web Pages** https://arifpucit.github.io/bss2/ <br>\n",
    "    - Extracting Book Titles/Authors, Prices, Availability, Review Count, Star Ratings and Links from multiple pages\n",
    "    - Saving data into CSV file on disk\n",
    "\n",
    "\n",
    "5. **Example 2: Scraping Information from a Multiple Web Pages (Pagination)** http://www.arifbutt.me/category/sp-with-linux/ <br>\n",
    "    - Extracting required information\n",
    "    - The Concept of **Pagination**\n",
    "    - How to extract information from Multiple Web Pages using **Pagination**?\n",
    "    - Saving data into CSV file on disk\n",
    "    \n",
    "\n",
    "6. **Limitations of BeautifulSoup** <br>\n",
    "\n",
    "\n",
    "7. **Some Coding Exercises** <br>"
   ]
  },
  {
   "cell_type": "code",
   "execution_count": null,
   "id": "4ea32583",
   "metadata": {},
   "outputs": [],
   "source": []
  },
  {
   "cell_type": "code",
   "execution_count": null,
   "id": "e020b9da",
   "metadata": {},
   "outputs": [],
   "source": []
  },
  {
   "cell_type": "markdown",
   "id": "cd860180",
   "metadata": {},
   "source": [
    "## 1. Overview of BeautifulSoup\n",
    "- URLLIB3 Library: https://pypi.org/project/urllib3/\n",
    "- Requests Library: https://requests.readthedocs.io/en/latest/\n",
    "- Requests-html Library: https://requests.readthedocs.io/projects/requests-html/en/latest/\n",
    "- Beautifulsoup4 Download: https://pypi.org/project/beautifulsoup4/\n",
    "- Beautifulsoup4: https://www.crummy.com/software/BeautifulSoup/\n",
    "- Beautifulsoup Documentation: https://www.crummy.com/software/BeautifulSoup/bs4/doc/\n",
    "- LXML Parser: https://lxml.de/"
   ]
  },
  {
   "cell_type": "code",
   "execution_count": null,
   "id": "e7830f00",
   "metadata": {},
   "outputs": [],
   "source": []
  },
  {
   "cell_type": "code",
   "execution_count": null,
   "id": "0f72c42c",
   "metadata": {},
   "outputs": [],
   "source": []
  },
  {
   "cell_type": "markdown",
   "id": "b5f4319f",
   "metadata": {},
   "source": [
    "### a. What is BeautifulSoup and How it Works?\n",
    "- Beautiful Soup is a Python library for pulling data out of `HTML` and `XML` files. \n",
    "- BeutifulSoup cannot fetch HTML contents from a web site. To pull HTML we will use `requests` library and then pass the HTML to BeautifulSoup constructor.\n",
    "- The three main features of BeautifulSoup are:\n",
    "    - It generates a parse tree of the HTML and offers simple methods for navigating, searching and modifying that parse tree.\n",
    "    - It automatically converts incoming documents to Unicode and outgoing documents to UTF-8. So you don't have to worry about encodings.\n",
    "    - It has support of different parsers, using which BeautifulSoup parse the HTML documents. Some example parsers are: lxml, html5lib, html.parser.\n",
    "  \n",
    "- Different parsers may create different parse trees and could return different results depending on the HTML that you are trying to parse. If your are trying to parse perfectly formed HTML, then the different parsers will give almost the same output, but if there are mistakes in the html then different parsers will try to fill in missing information differently."
   ]
  },
  {
   "cell_type": "code",
   "execution_count": null,
   "id": "86702012",
   "metadata": {},
   "outputs": [],
   "source": []
  },
  {
   "cell_type": "code",
   "execution_count": null,
   "id": "33857c32",
   "metadata": {},
   "outputs": [],
   "source": []
  },
  {
   "cell_type": "markdown",
   "id": "7831ea98",
   "metadata": {},
   "source": [
    "### b. Download and Install BeautifulSoup"
   ]
  },
  {
   "cell_type": "code",
   "execution_count": null,
   "id": "ff5e67a8",
   "metadata": {},
   "outputs": [],
   "source": [
    "import sys\n",
    "!{sys.executable} -m pip install --upgrade pip -q\n",
    "!{sys.executable} -m pip install requests -q\n",
    "!{sys.executable} -m pip install beautifulsoup4 -q\n",
    "!{sys.executable} -m pip install --upgrade lxml -q\n",
    "!{sys.executable} -m pip install html5lib -q"
   ]
  },
  {
   "cell_type": "code",
   "execution_count": null,
   "id": "703c27ae",
   "metadata": {},
   "outputs": [],
   "source": [
    "import requests\n",
    "import bs4 # bs4 is a dummy package managed by the developer of Beautiful Soup to prevent name squatting\n",
    "from bs4 import BeautifulSoup\n",
    "import lxml\n",
    "import html5lib\n",
    "\n",
    "requests.__version__, bs4.__version__ , lxml.__version__"
   ]
  },
  {
   "cell_type": "code",
   "execution_count": null,
   "id": "0b42ab93",
   "metadata": {},
   "outputs": [],
   "source": []
  },
  {
   "cell_type": "code",
   "execution_count": null,
   "id": "5ccf9530",
   "metadata": {},
   "outputs": [],
   "source": []
  },
  {
   "cell_type": "code",
   "execution_count": null,
   "id": "d2b6d298",
   "metadata": {},
   "outputs": [],
   "source": []
  },
  {
   "cell_type": "code",
   "execution_count": null,
   "id": "9a35e12d",
   "metadata": {},
   "outputs": [],
   "source": []
  },
  {
   "cell_type": "markdown",
   "id": "1649115d",
   "metadata": {},
   "source": [
    "## 2. Playing with BeautifulSoup"
   ]
  },
  {
   "cell_type": "markdown",
   "id": "7011a218",
   "metadata": {},
   "source": [
    "### a. Reviewing the Books Scraping Website\n",
    "https://arifpucit.github.io/bss2/"
   ]
  },
  {
   "cell_type": "code",
   "execution_count": null,
   "id": "aafe1225",
   "metadata": {},
   "outputs": [],
   "source": []
  },
  {
   "cell_type": "code",
   "execution_count": null,
   "id": "3f9bbc70",
   "metadata": {},
   "outputs": [],
   "source": []
  },
  {
   "cell_type": "markdown",
   "id": "2153eec8",
   "metadata": {},
   "source": [
    "### b. Fetching HTML Contents Using `requests` Library\n",
    "- A good practical tutorial on using Requests Library: https://www.jcchouinard.com/python-requests/"
   ]
  },
  {
   "cell_type": "code",
   "execution_count": 1,
   "id": "1e5e4251",
   "metadata": {},
   "outputs": [
    {
     "name": "stdout",
     "output_type": "stream",
     "text": [
      "['ConnectTimeout', 'ConnectionError', 'DependencyWarning', 'FileModeWarning', 'HTTPError', 'JSONDecodeError', 'NullHandler', 'PreparedRequest', 'ReadTimeout', 'Request', 'RequestException', 'RequestsDependencyWarning', 'Response', 'Session', 'Timeout', 'TooManyRedirects', 'URLRequired', '__author__', '__author_email__', '__build__', '__builtins__', '__cached__', '__cake__', '__copyright__', '__description__', '__doc__', '__file__', '__license__', '__loader__', '__name__', '__package__', '__path__', '__spec__', '__title__', '__url__', '__version__', '_check_cryptography', '_internal_utils', 'adapters', 'api', 'auth', 'certs', 'chardet_version', 'charset_normalizer_version', 'check_compatibility', 'codes', 'compat', 'cookies', 'delete', 'exceptions', 'get', 'head', 'hooks', 'logging', 'models', 'options', 'packages', 'patch', 'post', 'put', 'request', 'session', 'sessions', 'ssl', 'status_codes', 'structures', 'urllib3', 'utils', 'warnings']\n"
     ]
    }
   ],
   "source": [
    "import requests\n",
    "print(dir(requests))"
   ]
  },
  {
   "cell_type": "code",
   "execution_count": null,
   "id": "dd123e4d",
   "metadata": {},
   "outputs": [],
   "source": []
  },
  {
   "cell_type": "code",
   "execution_count": 2,
   "id": "4ecf5b4a",
   "metadata": {},
   "outputs": [
    {
     "data": {
      "text/plain": [
       "200"
      ]
     },
     "execution_count": 2,
     "metadata": {},
     "output_type": "execute_result"
    }
   ],
   "source": [
    "resp = requests.get(\"https://arifpucit.github.io/bss2\")\n",
    "resp.status_code"
   ]
  },
  {
   "cell_type": "code",
   "execution_count": null,
   "id": "af4a071b",
   "metadata": {},
   "outputs": [],
   "source": []
  },
  {
   "cell_type": "code",
   "execution_count": 3,
   "id": "175aaa65",
   "metadata": {},
   "outputs": [
    {
     "name": "stdout",
     "output_type": "stream",
     "text": [
      "['__attrs__', '__bool__', '__class__', '__delattr__', '__dict__', '__dir__', '__doc__', '__enter__', '__eq__', '__exit__', '__format__', '__ge__', '__getattribute__', '__getstate__', '__gt__', '__hash__', '__init__', '__init_subclass__', '__iter__', '__le__', '__lt__', '__module__', '__ne__', '__new__', '__nonzero__', '__reduce__', '__reduce_ex__', '__repr__', '__setattr__', '__setstate__', '__sizeof__', '__str__', '__subclasshook__', '__weakref__', '_content', '_content_consumed', '_next', 'apparent_encoding', 'close', 'connection', 'content', 'cookies', 'elapsed', 'encoding', 'headers', 'history', 'is_permanent_redirect', 'is_redirect', 'iter_content', 'iter_lines', 'json', 'links', 'next', 'ok', 'raise_for_status', 'raw', 'reason', 'request', 'status_code', 'text', 'url']\n"
     ]
    }
   ],
   "source": [
    "print(dir(resp))"
   ]
  },
  {
   "cell_type": "code",
   "execution_count": null,
   "id": "9bbef380",
   "metadata": {},
   "outputs": [],
   "source": []
  },
  {
   "cell_type": "code",
   "execution_count": 4,
   "id": "8d56ca9d",
   "metadata": {},
   "outputs": [
    {
     "data": {
      "text/plain": [
       "'https://arifpucit.github.io/bss2/'"
      ]
     },
     "execution_count": 4,
     "metadata": {},
     "output_type": "execute_result"
    }
   ],
   "source": [
    "resp.url"
   ]
  },
  {
   "cell_type": "code",
   "execution_count": null,
   "id": "950ca4f7",
   "metadata": {},
   "outputs": [],
   "source": []
  },
  {
   "cell_type": "code",
   "execution_count": 5,
   "id": "dc4b2ed2",
   "metadata": {},
   "outputs": [
    {
     "data": {
      "text/plain": [
       "{'Connection': 'keep-alive', 'Content-Length': '2757', 'Server': 'GitHub.com', 'Content-Type': 'text/html; charset=utf-8', 'permissions-policy': 'interest-cohort=()', 'Last-Modified': 'Mon, 27 Jun 2022 12:32:49 GMT', 'Access-Control-Allow-Origin': '*', 'ETag': 'W/\"62b9a371-33ad\"', 'expires': 'Tue, 27 Sep 2022 09:25:23 GMT', 'Cache-Control': 'max-age=600', 'Content-Encoding': 'gzip', 'x-proxy-cache': 'MISS', 'X-GitHub-Request-Id': '9ECC:578F:48D74E:607BC9:6332BF2B', 'Accept-Ranges': 'bytes', 'Date': 'Tue, 27 Sep 2022 09:15:23 GMT', 'Via': '1.1 varnish', 'Age': '0', 'X-Served-By': 'cache-qpg1240-QPG', 'X-Cache': 'MISS', 'X-Cache-Hits': '0', 'X-Timer': 'S1664270123.254305,VS0,VE279', 'Vary': 'Accept-Encoding', 'X-Fastly-Request-ID': '9813022b843e091cdbdba8025878c3913cac9d82'}"
      ]
     },
     "execution_count": 5,
     "metadata": {},
     "output_type": "execute_result"
    }
   ],
   "source": [
    "resp.headers"
   ]
  },
  {
   "cell_type": "code",
   "execution_count": null,
   "id": "2f25c612",
   "metadata": {},
   "outputs": [],
   "source": []
  },
  {
   "cell_type": "code",
   "execution_count": 6,
   "id": "a8f3d4f3",
   "metadata": {},
   "outputs": [
    {
     "data": {
      "text/plain": [
       "b'<!doctype html>\\n<html lang=\"en\">\\n  <head>\\n    <meta charset=\"utf-8\">\\n    <meta name=\"viewport\" content=\"width=device-width, initial-scale=1\">\\n    <title>BSS2</title>\\n    <!-- external style sheet -->\\n    <link rel=\"stylesheet\" href=\"./index.css\">\\n\\n    <!--Bootstrap style sheet-->\\n    <link href=\"https://cdn.jsdelivr.net/npm/bootstrap@5.2.0-beta1/dist/css/bootstrap.min.css\" rel=\"stylesheet\" integrity=\"sha384-0evHe/X+R7YkIZDRvuzKMRqM+OrBnVFBL6DOitfPri4tjfHxaWutUpFmBp4vmVor\" crossorigin=\"anonymous\">\\n\\n    <!--for icons of tick and cross ans star for in stock-->\\n    <link rel=\"stylesheet\" href=\"https://cdnjs.cloudflare.com/ajax/libs/font-awesome/4.7.0/css/font-awesome.min.css\"> \\n\\n  </head>\\n  <body>\\n    <header class=\"header d-flex align-items-center justify-content-between\">\\n        <img class=\"image-container\" src=\"./images//arif.jpg\" alt=\"arif\"/>\\n         <p> <span class=\"large_text\">Books Scraping Site</span></p>\\n        <img class=\"image-container\" src=\"./images/pucit.jpg\" alt=\"pucit\"/>\\n    </header>\\n    <section>\\n        <div class=\"main-container d-flex align-items-start justify-content-between\">\\n            <div class=\"navbar\">\\n                <ul class=\"nav-links\">\\n                    <div class=\"link text-center\" id=\"book_title\">Books Titles</div>\\n                    <li class=\"link book_type\"><a href=\"index.html\">Operating System</a></li>\\n                    <li class=\"link book_type\"><a href=\"SP.html\">System Programming</a></li>\\n                    <li class=\"link book_type\"><a href=\"CA.html\">Computer Architecture</a></li>\\n                </ul>\\n            </div>\\n            <div class=\"items\">\\n                <div id=\"book_page_titile\">Operating Systems</div>\\n                <div class=\"row\">\\n                    <div class=\"book_container col-sm-4\">\\n                        <img src=\"images/OS concepts.jpg\" alt=\"\" title=\"The Linux Programming Interface (TLPI) is the definitive guide &#10; to the Linux and UNIX programming interface\\xe2\\x80\\x94the interface&#10; employed by nearly every application that runs on a &#10;Linux or UNIX system.\">\\n                        <p  class=\"book_name\"><a href=\"https://www.amazon.com/Operating-System-Concepts-Abridged-Companion/dp/1119456339\" target=\"_blank\">Operating System Concepts </br>By Avi Silberschatz</a></p>\\n                        <div class=\"align-left\">\\n                            <p class=\" price green\">Rs.2000</p>\\n                            <p class=\"stock in_stock \" data-stock=\"in stock\"><i class=\"fa fa-check\" aria-hidden=\"true\"></i> In stock</p>\\n                            <div><span class=\"fa fa-star \"></span><span class=\"fa fa-star \"></span><span class=\"fa fa-star \"></span><span class=\"fa fa-star  not_filled\"></span><span class=\"fa fa-star  not_filled\"></span></div>\\n                            <p class=\"review green\" data-rating=\"20\">20 Reviews</p>\\n                            <button>Add to cart</button>\\n                        </div>\\n                    </div>\\n                    <div class=\"book_container col-sm-4\">\\n                        <img src=\"images/Unix.jpg\" alt=\"\" title=\"It covers many topics not covered in older, more traditional textbook &#10;approaches, such as Python, UNIX System Programming from basics to &#10;socket-based network programming using the client-server paradigm, the &#10;Zettabyte File System (ZFS), and the highly developed X Windows-based&#10; KDE and Gnome GUI desktop environments\">\\n                        <p  class=\"book_name\"><a href=\"https://www.google.com/search?q=Unix+the+textbook+by+mansoor&rlz=1C1CHBD_enPK987PK987&oq=unix+the+textbook+by+mansoor&aqs=chrome.0.69i59j69i57j69i59j69i60l5.4419j0j7&sourceid=chrome&ie=UTF-8\" target=\"_blank\">UNIX The Textbook</br> By Syed Mansoor Sarwar</a></p>\\n                        <div class=\"align-left\">\\n                            <p class=\" price green\">Rs.5000</p>\\n                            <p class=\"stock in_stock \" data-stock=\"in stock\"><i class=\"fa fa-check\" aria-hidden=\"true\"></i> In stock</p>\\n                            <div><span class=\"fa fa-star \"></span><span class=\"fa fa-star \"></span><span class=\"fa fa-star \"></span><span class=\"fa fa-star \"></span><span class=\"fa fa-star \"></span></div>\\n                            <p class=\"review green\" data-rating=\"100\">100 Reviews</p>\\n                            <button>Add to cart</button>\\n                        </div>\\n                    </div>\\n                    <div class=\"book_container col-sm-4\">\\n                        <img src=\"images/taxonomy.jpg\" alt=\"\" title=\"Intrusion Detection using System Call Sequence\">\\n                        <p  class=\"book_name\"><a href=\"https://www.amazon.in/Taxonomy-Ids-Arif-Butt/dp/3639294092\" target=\"_blank\">Taxonomy of IDS </br>By Arif Butt</a></p>\\n                        <div class=\"align-left\">\\n                            <p class=\" price green\">Rs.6900</p>\\n                            <p class=\"stock not_stock \" data-stock=\"not in stock\"><i class=\"fa fa-times\" aria-hidden=\"true\"></i> Not in stock</p>\\n                            <div><span class=\"fa fa-star \"></span><span class=\"fa fa-star \"></span><span class=\"fa fa-star\"></span><span class=\"fa fa-star\"></span><span class=\"fa fa-star not_filled\"></span></div>\\n                            <p class=\"review green\" data-rating=\"20\">20 Reviews</p>\\n                            <button>Add to cart</button>\\n                        </div>\\n                    </div>\\n                    <div class=\"book_container col-sm-4\">\\n                        <img src=\"images/understanding OS.jpg\" alt=\"\" title=\"This book approaches the LINUX environment as a programming&#10; companion. No previous exposure to LINUX is necessary to utilize&#10; this text.\">\\n                        <p  class=\"book_name\"><a href=\"https://www.amazon.com/Understanding-Operating-Systems-Ann-McHoes/dp/1305674251\" target=\"_blank\">Understanding operating systems</br> By Ida Flynn</a></p>\\n                        <div class=\"align-left\">\\n                            <p class=\" price green\">Rs.2700</p>\\n                            <p class=\"stock not_stock \" data-stock=\"not in stock\"><i class=\"fa fa-times\" aria-hidden=\"true\"></i> Not in stock</p>\\n                            <div><span class=\"fa fa-star \"></span><span class=\"fa fa-star \"></span><span class=\"fa fa-star not_filled\"></span><span class=\"fa fa-star not_filled\"></span><span class=\"fa fa-star not_filled\"></span></div>\\n                            <p class=\"review green\" data-rating=\"60\">60 Reviews</p>\\n                            <button>Add to cart</button>\\n                        </div>\\n                    </div>\\n                    <div class=\"book_container col-sm-4\">\\n                        <img src=\"images/Computer Systems.jpg\" alt=\"\" title=\"It covers computers\\' data representation, explains how computer architecture&#10; and its underlying meaning changed over the years, and examines&#10; the implementations and performance enhancements of the central processing unit (CPU).\">\\n                        <p  class=\"book_name\"><a href=\"https://www.goodreads.com/book/show/829182.Computer_Systems\" target=\"_blank\">Computer Systems </br> By Randal E. Bryant </a></p>\\n                        <div class=\"align-left\">\\n                            <p class=\" price green\">Rs.1700</p>\\n                            <p class=\"stock in_stock \" data-stock=\"in stock\"><i class=\"fa fa-check\" aria-hidden=\"true\"></i> In stock</p>\\n                            <div><span class=\"fa fa-star \"></span><span class=\"fa fa-star \"></span><span class=\"fa fa-star not_filled\"></span><span class=\"fa fa-star not_filled\"></span><span class=\"fa fa-star not_filled\"></span></div>\\n                            <p class=\"review green\" data-rating=\"25\">25 Reviews</p>\\n                            <button>Add to cart</button>\\n                        </div>\\n                    </div>\\n                    <div class=\"book_container col-sm-4\">\\n                        <img src=\"images/linux bible.jpg\" alt=\"\" title=\"It includes information on cloud computing, with new guidance on containerization,&#10; Ansible automation, and Kubernetes and OpenShift. With a&#10; focus on RHEL 8\">\\n                        <p  class=\"book_name\"><a href=\"https://www.amazon.com/Linux-Bible-Christopher-Negus/dp/111821854X\" target=\"_blank\">Linux bible </br> Book By Christopher Negus</a></p></p>\\n                        <div class=\"align-left\">\\n                            <p class=\" price green\">Rs.1800</p>\\n                            <p class=\"stock not_stock \" data-stock=\"not in stock\"><i class=\"fa fa-times\" aria-hidden=\"true\"></i> Not in stock</p>\\n                            <div><span class=\"fa fa-star\"></span><span class=\"fa fa-star not_filled\"></span><span class=\"fa fa-star not_filled\"></span><span class=\"fa fa-star not_filled\"></span><span class=\"fa fa-star not_filled\"></span></div>\\n                            <p class=\"review green\" data-rating=\"21\">21 Reviews</p>\\n                            <button>Add to cart</button>\\n                        </div>\\n                    </div>\\n                    <div class=\"book_container col-sm-4\">\\n                        <img src=\"images/advanced programming in unix.jpg\" alt=\"\" title=\"This book approaches the LINUX environment as a programming&#10; companion. No previous exposure to LINUX is necessary to utilize&#10; this text.\">\\n                        <p  class=\"book_name\"><a href=\"https://www.amazon.com/dp/0321637739?tag=uuid10-20\" target=\"_blank\">Advanced Programming in the UNIX Environment </br> By W. Stevans</a></p>\\n                        <div class=\"align-left\">\\n                            <p class=\" price green\">Rs.6000</p>\\n                            <p class=\"stock in_stock \" data-stock=\"in stock\"><i class=\"fa fa-check\" aria-hidden=\"true\"></i> In stock</p>\\n                            <div><span class=\"fa fa-star\"></span><span class=\"fa fa-star not_filled\"></span><span class=\"fa fa-star not_filled\"></span><span class=\"fa fa-star not_filled\"></span><span class=\"fa fa-star not_filled\"></span></div>\\n                            <p class=\"review green\" data-rating=\"40\">40 Reviews</p>\\n                            <button>Add to cart</button>\\n                        </div>\\n                    </div>\\n                    <div class=\"book_container col-sm-4\">\\n                        <img src=\"images/OS a design appraoch.png\" alt=\"\" title=\"It covers computers\\' data representation, explains how computer architecture&#10; and its underlying meaning changed over the years, and examines&#10; the implementations and performance enhancements of the central processing unit (CPU).\">\\n                        <p  class=\"book_name\"><a href=\"https://www.amazon.com/s?k=Operating+Systems%3A+A+Design-oriented+Approach&i=stripbooks-intl-ship&ref=nb_sb_noss\" target=\"_blank\">Operating Systems: A Design-oriented Approach</br> By Charles Patrick Crowley</a></p>\\n                        <div class=\"align-left\">\\n                            <p class=\" price green\">Rs.1000</p>\\n                            <p class=\"stock in_stock \" data-stock=\"in stock\"><i class=\"fa fa-check\" aria-hidden=\"true\"></i> In stock</p>\\n                            <div><span class=\"fa fa-star\"></span><span class=\"fa fa-star \"></span><span class=\"fa fa-star \"></span><span class=\"fa fa-star not_filled\"></span><span class=\"fa fa-star not_filled\"></span></div>\\n                            <p class=\"review green\" data-rating=\"90\">90 Reviews</p>\\n                            <button>Add to cart</button>\\n                        </div>\\n                    </div>\\n                    <div class=\"book_container col-sm-4\">\\n                        <img src=\"images/hands on network programming.jpg\" alt=\"\" title=\"It includes information on cloud computing, with new guidance on containerization,&#10; Ansible automation, and Kubernetes and OpenShift. With a&#10; focus on RHEL 8\">\\n                        <p  class=\"book_name\"><a href=\"https://www.amazon.com/Hands-Network-Programming-programming-optimized/dp/1789349869/ref=sr_1_1?crid=11FC0M0GAFA21&amp&keywords=unix+network+programming+2019&amp&qid=1653381349&amp&s=books&amp&sprefix=unix+network+programming+2019%2Cstripbooks-intl-ship%2C356&amp&sr=1-1\" target=\"_blank\">Hands-On Network Programming with C </br> By Lewis Van Winkle</p></a></p>\\n                        <div class=\"align-left\">\\n                            <p class=\" price green\">Rs.1800</p>\\n                            <p class=\"stock in_stock \" data-stock=\"in stock\"><i class=\"fa fa-check\" aria-hidden=\"true\"></i> In stock</p>\\n                            <div><span class=\"fa fa-star\"></span><span class=\"fa fa-star \"></span><span class=\"fa fa-star\"></span><span class=\"fa fa-star \"></span><span class=\"fa fa-star not_filled\"></span></div>\\n                            <p class=\"review green\" data-rating=\"70\">70 Reviews</p>\\n                            <button>Add to cart</button>\\n                        </div>\\n                    </div>\\n            </div>\\n        </div>\\n    </section>\\n    <script src=\"https://cdn.jsdelivr.net/npm/bootstrap@5.2.0-beta1/dist/js/bootstrap.bundle.min.js\" integrity=\"sha384-pprn3073KE6tl6bjs2QrFaJGz5/SUsLqktiwsUTF55Jfv3qYSDhgCecCxMW52nD2\" crossorigin=\"anonymous\"></script>\\n  </body>\\n</html>\\n'"
      ]
     },
     "execution_count": 6,
     "metadata": {},
     "output_type": "execute_result"
    }
   ],
   "source": [
    "resp.content"
   ]
  },
  {
   "cell_type": "code",
   "execution_count": null,
   "id": "478bba9a",
   "metadata": {},
   "outputs": [],
   "source": []
  },
  {
   "cell_type": "code",
   "execution_count": 7,
   "id": "8f2132b6",
   "metadata": {},
   "outputs": [
    {
     "name": "stdout",
     "output_type": "stream",
     "text": [
      "<!doctype html>\n",
      "<html lang=\"en\">\n",
      "  <head>\n",
      "    <meta charset=\"utf-8\">\n",
      "    <meta name=\"viewport\" content=\"width=device-width, initial-scale=1\">\n",
      "    <title>BSS2</title>\n",
      "    <!-- external style sheet -->\n",
      "    <link rel=\"stylesheet\" href=\"./index.css\">\n",
      "\n",
      "    <!--Bootstrap style sheet-->\n",
      "    <link href=\"https://cdn.jsdelivr.net/npm/bootstrap@5.2.0-beta1/dist/css/bootstrap.min.css\" rel=\"stylesheet\" integrity=\"sha384-0evHe/X+R7YkIZDRvuzKMRqM+OrBnVFBL6DOitfPri4tjfHxaWutUpFmBp4vmVor\" crossorigin=\"anonymous\">\n",
      "\n",
      "    <!--for icons of tick and cross ans star for in stock-->\n",
      "    <link rel=\"stylesheet\" href=\"https://cdnjs.cloudflare.com/ajax/libs/font-awesome/4.7.0/css/font-awesome.min.css\"> \n",
      "\n",
      "  </head>\n",
      "  <body>\n",
      "    <header class=\"header d-flex align-items-center justify-content-between\">\n",
      "        <img class=\"image-container\" src=\"./images//arif.jpg\" alt=\"arif\"/>\n",
      "         <p> <span class=\"large_text\">Books Scraping Site</span></p>\n",
      "        <img class=\"image-container\" src=\"./images/pucit.jpg\" alt=\"pucit\"/>\n",
      "    </header>\n",
      "    <section>\n",
      "        <div class=\"main-container d-flex align-items-start justify-content-between\">\n",
      "            <div class=\"navbar\">\n",
      "                <ul class=\"nav-links\">\n",
      "                    <div class=\"link text-center\" id=\"book_title\">Books Titles</div>\n",
      "                    <li class=\"link book_type\"><a href=\"index.html\">Operating System</a></li>\n",
      "                    <li class=\"link book_type\"><a href=\"SP.html\">System Programming</a></li>\n",
      "                    <li class=\"link book_type\"><a href=\"CA.html\">Computer Architecture</a></li>\n",
      "                </ul>\n",
      "            </div>\n",
      "            <div class=\"items\">\n",
      "                <div id=\"book_page_titile\">Operating Systems</div>\n",
      "                <div class=\"row\">\n",
      "                    <div class=\"book_container col-sm-4\">\n",
      "                        <img src=\"images/OS concepts.jpg\" alt=\"\" title=\"The Linux Programming Interface (TLPI) is the definitive guide &#10; to the Linux and UNIX programming interface—the interface&#10; employed by nearly every application that runs on a &#10;Linux or UNIX system.\">\n",
      "                        <p  class=\"book_name\"><a href=\"https://www.amazon.com/Operating-System-Concepts-Abridged-Companion/dp/1119456339\" target=\"_blank\">Operating System Concepts </br>By Avi Silberschatz</a></p>\n",
      "                        <div class=\"align-left\">\n",
      "                            <p class=\" price green\">Rs.2000</p>\n",
      "                            <p class=\"stock in_stock \" data-stock=\"in stock\"><i class=\"fa fa-check\" aria-hidden=\"true\"></i> In stock</p>\n",
      "                            <div><span class=\"fa fa-star \"></span><span class=\"fa fa-star \"></span><span class=\"fa fa-star \"></span><span class=\"fa fa-star  not_filled\"></span><span class=\"fa fa-star  not_filled\"></span></div>\n",
      "                            <p class=\"review green\" data-rating=\"20\">20 Reviews</p>\n",
      "                            <button>Add to cart</button>\n",
      "                        </div>\n",
      "                    </div>\n",
      "                    <div class=\"book_container col-sm-4\">\n",
      "                        <img src=\"images/Unix.jpg\" alt=\"\" title=\"It covers many topics not covered in older, more traditional textbook &#10;approaches, such as Python, UNIX System Programming from basics to &#10;socket-based network programming using the client-server paradigm, the &#10;Zettabyte File System (ZFS), and the highly developed X Windows-based&#10; KDE and Gnome GUI desktop environments\">\n",
      "                        <p  class=\"book_name\"><a href=\"https://www.google.com/search?q=Unix+the+textbook+by+mansoor&rlz=1C1CHBD_enPK987PK987&oq=unix+the+textbook+by+mansoor&aqs=chrome.0.69i59j69i57j69i59j69i60l5.4419j0j7&sourceid=chrome&ie=UTF-8\" target=\"_blank\">UNIX The Textbook</br> By Syed Mansoor Sarwar</a></p>\n",
      "                        <div class=\"align-left\">\n",
      "                            <p class=\" price green\">Rs.5000</p>\n",
      "                            <p class=\"stock in_stock \" data-stock=\"in stock\"><i class=\"fa fa-check\" aria-hidden=\"true\"></i> In stock</p>\n",
      "                            <div><span class=\"fa fa-star \"></span><span class=\"fa fa-star \"></span><span class=\"fa fa-star \"></span><span class=\"fa fa-star \"></span><span class=\"fa fa-star \"></span></div>\n",
      "                            <p class=\"review green\" data-rating=\"100\">100 Reviews</p>\n",
      "                            <button>Add to cart</button>\n",
      "                        </div>\n",
      "                    </div>\n",
      "                    <div class=\"book_container col-sm-4\">\n",
      "                        <img src=\"images/taxonomy.jpg\" alt=\"\" title=\"Intrusion Detection using System Call Sequence\">\n",
      "                        <p  class=\"book_name\"><a href=\"https://www.amazon.in/Taxonomy-Ids-Arif-Butt/dp/3639294092\" target=\"_blank\">Taxonomy of IDS </br>By Arif Butt</a></p>\n",
      "                        <div class=\"align-left\">\n",
      "                            <p class=\" price green\">Rs.6900</p>\n",
      "                            <p class=\"stock not_stock \" data-stock=\"not in stock\"><i class=\"fa fa-times\" aria-hidden=\"true\"></i> Not in stock</p>\n",
      "                            <div><span class=\"fa fa-star \"></span><span class=\"fa fa-star \"></span><span class=\"fa fa-star\"></span><span class=\"fa fa-star\"></span><span class=\"fa fa-star not_filled\"></span></div>\n",
      "                            <p class=\"review green\" data-rating=\"20\">20 Reviews</p>\n",
      "                            <button>Add to cart</button>\n",
      "                        </div>\n",
      "                    </div>\n",
      "                    <div class=\"book_container col-sm-4\">\n",
      "                        <img src=\"images/understanding OS.jpg\" alt=\"\" title=\"This book approaches the LINUX environment as a programming&#10; companion. No previous exposure to LINUX is necessary to utilize&#10; this text.\">\n",
      "                        <p  class=\"book_name\"><a href=\"https://www.amazon.com/Understanding-Operating-Systems-Ann-McHoes/dp/1305674251\" target=\"_blank\">Understanding operating systems</br> By Ida Flynn</a></p>\n",
      "                        <div class=\"align-left\">\n",
      "                            <p class=\" price green\">Rs.2700</p>\n",
      "                            <p class=\"stock not_stock \" data-stock=\"not in stock\"><i class=\"fa fa-times\" aria-hidden=\"true\"></i> Not in stock</p>\n",
      "                            <div><span class=\"fa fa-star \"></span><span class=\"fa fa-star \"></span><span class=\"fa fa-star not_filled\"></span><span class=\"fa fa-star not_filled\"></span><span class=\"fa fa-star not_filled\"></span></div>\n",
      "                            <p class=\"review green\" data-rating=\"60\">60 Reviews</p>\n",
      "                            <button>Add to cart</button>\n",
      "                        </div>\n",
      "                    </div>\n",
      "                    <div class=\"book_container col-sm-4\">\n",
      "                        <img src=\"images/Computer Systems.jpg\" alt=\"\" title=\"It covers computers' data representation, explains how computer architecture&#10; and its underlying meaning changed over the years, and examines&#10; the implementations and performance enhancements of the central processing unit (CPU).\">\n",
      "                        <p  class=\"book_name\"><a href=\"https://www.goodreads.com/book/show/829182.Computer_Systems\" target=\"_blank\">Computer Systems </br> By Randal E. Bryant </a></p>\n",
      "                        <div class=\"align-left\">\n",
      "                            <p class=\" price green\">Rs.1700</p>\n",
      "                            <p class=\"stock in_stock \" data-stock=\"in stock\"><i class=\"fa fa-check\" aria-hidden=\"true\"></i> In stock</p>\n",
      "                            <div><span class=\"fa fa-star \"></span><span class=\"fa fa-star \"></span><span class=\"fa fa-star not_filled\"></span><span class=\"fa fa-star not_filled\"></span><span class=\"fa fa-star not_filled\"></span></div>\n",
      "                            <p class=\"review green\" data-rating=\"25\">25 Reviews</p>\n",
      "                            <button>Add to cart</button>\n",
      "                        </div>\n",
      "                    </div>\n",
      "                    <div class=\"book_container col-sm-4\">\n",
      "                        <img src=\"images/linux bible.jpg\" alt=\"\" title=\"It includes information on cloud computing, with new guidance on containerization,&#10; Ansible automation, and Kubernetes and OpenShift. With a&#10; focus on RHEL 8\">\n",
      "                        <p  class=\"book_name\"><a href=\"https://www.amazon.com/Linux-Bible-Christopher-Negus/dp/111821854X\" target=\"_blank\">Linux bible </br> Book By Christopher Negus</a></p></p>\n",
      "                        <div class=\"align-left\">\n",
      "                            <p class=\" price green\">Rs.1800</p>\n",
      "                            <p class=\"stock not_stock \" data-stock=\"not in stock\"><i class=\"fa fa-times\" aria-hidden=\"true\"></i> Not in stock</p>\n",
      "                            <div><span class=\"fa fa-star\"></span><span class=\"fa fa-star not_filled\"></span><span class=\"fa fa-star not_filled\"></span><span class=\"fa fa-star not_filled\"></span><span class=\"fa fa-star not_filled\"></span></div>\n",
      "                            <p class=\"review green\" data-rating=\"21\">21 Reviews</p>\n",
      "                            <button>Add to cart</button>\n",
      "                        </div>\n",
      "                    </div>\n",
      "                    <div class=\"book_container col-sm-4\">\n",
      "                        <img src=\"images/advanced programming in unix.jpg\" alt=\"\" title=\"This book approaches the LINUX environment as a programming&#10; companion. No previous exposure to LINUX is necessary to utilize&#10; this text.\">\n",
      "                        <p  class=\"book_name\"><a href=\"https://www.amazon.com/dp/0321637739?tag=uuid10-20\" target=\"_blank\">Advanced Programming in the UNIX Environment </br> By W. Stevans</a></p>\n",
      "                        <div class=\"align-left\">\n",
      "                            <p class=\" price green\">Rs.6000</p>\n",
      "                            <p class=\"stock in_stock \" data-stock=\"in stock\"><i class=\"fa fa-check\" aria-hidden=\"true\"></i> In stock</p>\n",
      "                            <div><span class=\"fa fa-star\"></span><span class=\"fa fa-star not_filled\"></span><span class=\"fa fa-star not_filled\"></span><span class=\"fa fa-star not_filled\"></span><span class=\"fa fa-star not_filled\"></span></div>\n",
      "                            <p class=\"review green\" data-rating=\"40\">40 Reviews</p>\n",
      "                            <button>Add to cart</button>\n",
      "                        </div>\n",
      "                    </div>\n",
      "                    <div class=\"book_container col-sm-4\">\n",
      "                        <img src=\"images/OS a design appraoch.png\" alt=\"\" title=\"It covers computers' data representation, explains how computer architecture&#10; and its underlying meaning changed over the years, and examines&#10; the implementations and performance enhancements of the central processing unit (CPU).\">\n",
      "                        <p  class=\"book_name\"><a href=\"https://www.amazon.com/s?k=Operating+Systems%3A+A+Design-oriented+Approach&i=stripbooks-intl-ship&ref=nb_sb_noss\" target=\"_blank\">Operating Systems: A Design-oriented Approach</br> By Charles Patrick Crowley</a></p>\n",
      "                        <div class=\"align-left\">\n",
      "                            <p class=\" price green\">Rs.1000</p>\n",
      "                            <p class=\"stock in_stock \" data-stock=\"in stock\"><i class=\"fa fa-check\" aria-hidden=\"true\"></i> In stock</p>\n",
      "                            <div><span class=\"fa fa-star\"></span><span class=\"fa fa-star \"></span><span class=\"fa fa-star \"></span><span class=\"fa fa-star not_filled\"></span><span class=\"fa fa-star not_filled\"></span></div>\n",
      "                            <p class=\"review green\" data-rating=\"90\">90 Reviews</p>\n",
      "                            <button>Add to cart</button>\n",
      "                        </div>\n",
      "                    </div>\n",
      "                    <div class=\"book_container col-sm-4\">\n",
      "                        <img src=\"images/hands on network programming.jpg\" alt=\"\" title=\"It includes information on cloud computing, with new guidance on containerization,&#10; Ansible automation, and Kubernetes and OpenShift. With a&#10; focus on RHEL 8\">\n",
      "                        <p  class=\"book_name\"><a href=\"https://www.amazon.com/Hands-Network-Programming-programming-optimized/dp/1789349869/ref=sr_1_1?crid=11FC0M0GAFA21&amp&keywords=unix+network+programming+2019&amp&qid=1653381349&amp&s=books&amp&sprefix=unix+network+programming+2019%2Cstripbooks-intl-ship%2C356&amp&sr=1-1\" target=\"_blank\">Hands-On Network Programming with C </br> By Lewis Van Winkle</p></a></p>\n",
      "                        <div class=\"align-left\">\n",
      "                            <p class=\" price green\">Rs.1800</p>\n",
      "                            <p class=\"stock in_stock \" data-stock=\"in stock\"><i class=\"fa fa-check\" aria-hidden=\"true\"></i> In stock</p>\n",
      "                            <div><span class=\"fa fa-star\"></span><span class=\"fa fa-star \"></span><span class=\"fa fa-star\"></span><span class=\"fa fa-star \"></span><span class=\"fa fa-star not_filled\"></span></div>\n",
      "                            <p class=\"review green\" data-rating=\"70\">70 Reviews</p>\n",
      "                            <button>Add to cart</button>\n",
      "                        </div>\n",
      "                    </div>\n",
      "            </div>\n",
      "        </div>\n",
      "    </section>\n",
      "    <script src=\"https://cdn.jsdelivr.net/npm/bootstrap@5.2.0-beta1/dist/js/bootstrap.bundle.min.js\" integrity=\"sha384-pprn3073KE6tl6bjs2QrFaJGz5/SUsLqktiwsUTF55Jfv3qYSDhgCecCxMW52nD2\" crossorigin=\"anonymous\"></script>\n",
      "  </body>\n",
      "</html>\n",
      "\n"
     ]
    }
   ],
   "source": [
    "print(resp.text)"
   ]
  },
  {
   "cell_type": "code",
   "execution_count": null,
   "id": "ee25b05a",
   "metadata": {},
   "outputs": [],
   "source": []
  },
  {
   "cell_type": "code",
   "execution_count": null,
   "id": "3ee20672",
   "metadata": {},
   "outputs": [],
   "source": []
  },
  {
   "cell_type": "markdown",
   "id": "2a0c9b7f",
   "metadata": {},
   "source": [
    "### c. Creating the Soup Object using `BeautifulSoup` Library\n",
    "- The `BeautifulSoup()` method is used to create a BeautifulSoup object.\n",
    "\n",
    "##### <center> `BeautifulSoup(markup, \"lxml\")` </center>\n",
    "\n",
    "- The first argument to the BeautifulSoup constructor is a string or an open filehandle containing the markup you want to be parsed. \n",
    "- The second argument is how you’d like the markup parsed. If you don’t specify anything, you’ll get the best HTML parser that’s installed. Beautiful Soup ranks lxml’s parser as being the best, then html5lib’s, then Python’s built-in parser.\n",
    "\n",
    "- The method returns a BeautifulSoup object which represents the parsed document and knows how to navigate through the DOM"
   ]
  },
  {
   "cell_type": "code",
   "execution_count": 8,
   "id": "d3b76aec",
   "metadata": {},
   "outputs": [
    {
     "name": "stdout",
     "output_type": "stream",
     "text": [
      "<class 'bs4.BeautifulSoup'>\n"
     ]
    }
   ],
   "source": [
    "from bs4 import BeautifulSoup\n",
    "soup = BeautifulSoup(resp.text, 'lxml')\n",
    "print(type(soup))"
   ]
  },
  {
   "cell_type": "code",
   "execution_count": null,
   "id": "65846f75",
   "metadata": {},
   "outputs": [],
   "source": []
  },
  {
   "cell_type": "code",
   "execution_count": 9,
   "id": "b61b1db4",
   "metadata": {},
   "outputs": [
    {
     "name": "stdout",
     "output_type": "stream",
     "text": [
      "['ASCII_SPACES', 'DEFAULT_BUILDER_FEATURES', 'DEFAULT_INTERESTING_STRING_TYPES', 'NO_PARSER_SPECIFIED_WARNING', 'ROOT_TAG_NAME', '__bool__', '__call__', '__class__', '__contains__', '__copy__', '__delattr__', '__delitem__', '__dict__', '__dir__', '__doc__', '__eq__', '__format__', '__ge__', '__getattr__', '__getattribute__', '__getitem__', '__getstate__', '__gt__', '__hash__', '__init__', '__init_subclass__', '__iter__', '__le__', '__len__', '__lt__', '__module__', '__ne__', '__new__', '__reduce__', '__reduce_ex__', '__repr__', '__setattr__', '__setitem__', '__sizeof__', '__str__', '__subclasshook__', '__unicode__', '__weakref__', '_all_strings', '_decode_markup', '_feed', '_find_all', '_find_one', '_is_xml', '_lastRecursiveChild', '_last_descendant', '_linkage_fixer', '_markup_is_url', '_markup_resembles_filename', '_most_recent_element', '_namespaces', '_popToTag', '_should_pretty_print', 'append', 'attrs', 'builder', 'can_be_empty_element', 'cdata_list_attributes', 'childGenerator', 'children', 'clear', 'contains_replacement_characters', 'contents', 'currentTag', 'current_data', 'declared_html_encoding', 'decode', 'decode_contents', 'decompose', 'decomposed', 'default', 'descendants', 'element_classes', 'encode', 'encode_contents', 'endData', 'extend', 'extract', 'fetchNextSiblings', 'fetchParents', 'fetchPrevious', 'fetchPreviousSiblings', 'find', 'findAll', 'findAllNext', 'findAllPrevious', 'findChild', 'findChildren', 'findNext', 'findNextSibling', 'findNextSiblings', 'findParent', 'findParents', 'findPrevious', 'findPreviousSibling', 'findPreviousSiblings', 'find_all', 'find_all_next', 'find_all_previous', 'find_next', 'find_next_sibling', 'find_next_siblings', 'find_parent', 'find_parents', 'find_previous', 'find_previous_sibling', 'find_previous_siblings', 'format_string', 'formatter_for_name', 'get', 'getText', 'get_attribute_list', 'get_text', 'handle_data', 'handle_endtag', 'handle_starttag', 'has_attr', 'has_key', 'hidden', 'index', 'insert', 'insert_after', 'insert_before', 'interesting_string_types', 'isSelfClosing', 'is_empty_element', 'is_xml', 'known_xml', 'markup', 'name', 'namespace', 'new_string', 'new_tag', 'next', 'nextGenerator', 'nextSibling', 'nextSiblingGenerator', 'next_element', 'next_elements', 'next_sibling', 'next_siblings', 'object_was_parsed', 'open_tag_counter', 'original_encoding', 'parent', 'parentGenerator', 'parents', 'parse_only', 'parserClass', 'parser_class', 'popTag', 'prefix', 'preserve_whitespace_tag_stack', 'preserve_whitespace_tags', 'prettify', 'previous', 'previousGenerator', 'previousSibling', 'previousSiblingGenerator', 'previous_element', 'previous_elements', 'previous_sibling', 'previous_siblings', 'pushTag', 'recursiveChildGenerator', 'renderContents', 'replaceWith', 'replaceWithChildren', 'replace_with', 'replace_with_children', 'reset', 'select', 'select_one', 'setup', 'smooth', 'string', 'string_container', 'string_container_stack', 'strings', 'stripped_strings', 'tagStack', 'text', 'unwrap', 'wrap']\n"
     ]
    }
   ],
   "source": [
    "print(dir(soup))"
   ]
  },
  {
   "cell_type": "code",
   "execution_count": null,
   "id": "6fdeae18",
   "metadata": {},
   "outputs": [],
   "source": []
  },
  {
   "cell_type": "code",
   "execution_count": 10,
   "id": "24e538c9",
   "metadata": {},
   "outputs": [
    {
     "name": "stdout",
     "output_type": "stream",
     "text": [
      "<!DOCTYPE html>\n",
      "<html lang=\"en\">\n",
      "<head>\n",
      "<meta charset=\"utf-8\"/>\n",
      "<meta content=\"width=device-width, initial-scale=1\" name=\"viewport\"/>\n",
      "<title>BSS2</title>\n",
      "<!-- external style sheet -->\n",
      "<link href=\"./index.css\" rel=\"stylesheet\"/>\n",
      "<!--Bootstrap style sheet-->\n",
      "<link crossorigin=\"anonymous\" href=\"https://cdn.jsdelivr.net/npm/bootstrap@5.2.0-beta1/dist/css/bootstrap.min.css\" integrity=\"sha384-0evHe/X+R7YkIZDRvuzKMRqM+OrBnVFBL6DOitfPri4tjfHxaWutUpFmBp4vmVor\" rel=\"stylesheet\"/>\n",
      "<!--for icons of tick and cross ans star for in stock-->\n",
      "<link href=\"https://cdnjs.cloudflare.com/ajax/libs/font-awesome/4.7.0/css/font-awesome.min.css\" rel=\"stylesheet\"/>\n",
      "</head>\n",
      "<body>\n",
      "<header class=\"header d-flex align-items-center justify-content-between\">\n",
      "<img alt=\"arif\" class=\"image-container\" src=\"./images//arif.jpg\"/>\n",
      "<p> <span class=\"large_text\">Books Scraping Site</span></p>\n",
      "<img alt=\"pucit\" class=\"image-container\" src=\"./images/pucit.jpg\"/>\n",
      "</header>\n",
      "<section>\n",
      "<div class=\"main-container d-flex align-items-start justify-content-between\">\n",
      "<div class=\"navbar\">\n",
      "<ul class=\"nav-links\">\n",
      "<div class=\"link text-center\" id=\"book_title\">Books Titles</div>\n",
      "<li class=\"link book_type\"><a href=\"index.html\">Operating System</a></li>\n",
      "<li class=\"link book_type\"><a href=\"SP.html\">System Programming</a></li>\n",
      "<li class=\"link book_type\"><a href=\"CA.html\">Computer Architecture</a></li>\n",
      "</ul>\n",
      "</div>\n",
      "<div class=\"items\">\n",
      "<div id=\"book_page_titile\">Operating Systems</div>\n",
      "<div class=\"row\">\n",
      "<div class=\"book_container col-sm-4\">\n",
      "<img alt=\"\" src=\"images/OS concepts.jpg\" title=\"The Linux Programming Interface (TLPI) is the definitive guide \n",
      " to the Linux and UNIX programming interface—the interface\n",
      " employed by nearly every application that runs on a \n",
      "Linux or UNIX system.\"/>\n",
      "<p class=\"book_name\"><a href=\"https://www.amazon.com/Operating-System-Concepts-Abridged-Companion/dp/1119456339\" target=\"_blank\">Operating System Concepts By Avi Silberschatz</a></p>\n",
      "<div class=\"align-left\">\n",
      "<p class=\"price green\">Rs.2000</p>\n",
      "<p class=\"stock in_stock\" data-stock=\"in stock\"><i aria-hidden=\"true\" class=\"fa fa-check\"></i> In stock</p>\n",
      "<div><span class=\"fa fa-star\"></span><span class=\"fa fa-star\"></span><span class=\"fa fa-star\"></span><span class=\"fa fa-star not_filled\"></span><span class=\"fa fa-star not_filled\"></span></div>\n",
      "<p class=\"review green\" data-rating=\"20\">20 Reviews</p>\n",
      "<button>Add to cart</button>\n",
      "</div>\n",
      "</div>\n",
      "<div class=\"book_container col-sm-4\">\n",
      "<img alt=\"\" src=\"images/Unix.jpg\" title=\"It covers many topics not covered in older, more traditional textbook \n",
      "approaches, such as Python, UNIX System Programming from basics to \n",
      "socket-based network programming using the client-server paradigm, the \n",
      "Zettabyte File System (ZFS), and the highly developed X Windows-based\n",
      " KDE and Gnome GUI desktop environments\"/>\n",
      "<p class=\"book_name\"><a href=\"https://www.google.com/search?q=Unix+the+textbook+by+mansoor&amp;rlz=1C1CHBD_enPK987PK987&amp;oq=unix+the+textbook+by+mansoor&amp;aqs=chrome.0.69i59j69i57j69i59j69i60l5.4419j0j7&amp;sourceid=chrome&amp;ie=UTF-8\" target=\"_blank\">UNIX The Textbook By Syed Mansoor Sarwar</a></p>\n",
      "<div class=\"align-left\">\n",
      "<p class=\"price green\">Rs.5000</p>\n",
      "<p class=\"stock in_stock\" data-stock=\"in stock\"><i aria-hidden=\"true\" class=\"fa fa-check\"></i> In stock</p>\n",
      "<div><span class=\"fa fa-star\"></span><span class=\"fa fa-star\"></span><span class=\"fa fa-star\"></span><span class=\"fa fa-star\"></span><span class=\"fa fa-star\"></span></div>\n",
      "<p class=\"review green\" data-rating=\"100\">100 Reviews</p>\n",
      "<button>Add to cart</button>\n",
      "</div>\n",
      "</div>\n",
      "<div class=\"book_container col-sm-4\">\n",
      "<img alt=\"\" src=\"images/taxonomy.jpg\" title=\"Intrusion Detection using System Call Sequence\"/>\n",
      "<p class=\"book_name\"><a href=\"https://www.amazon.in/Taxonomy-Ids-Arif-Butt/dp/3639294092\" target=\"_blank\">Taxonomy of IDS By Arif Butt</a></p>\n",
      "<div class=\"align-left\">\n",
      "<p class=\"price green\">Rs.6900</p>\n",
      "<p class=\"stock not_stock\" data-stock=\"not in stock\"><i aria-hidden=\"true\" class=\"fa fa-times\"></i> Not in stock</p>\n",
      "<div><span class=\"fa fa-star\"></span><span class=\"fa fa-star\"></span><span class=\"fa fa-star\"></span><span class=\"fa fa-star\"></span><span class=\"fa fa-star not_filled\"></span></div>\n",
      "<p class=\"review green\" data-rating=\"20\">20 Reviews</p>\n",
      "<button>Add to cart</button>\n",
      "</div>\n",
      "</div>\n",
      "<div class=\"book_container col-sm-4\">\n",
      "<img alt=\"\" src=\"images/understanding OS.jpg\" title=\"This book approaches the LINUX environment as a programming\n",
      " companion. No previous exposure to LINUX is necessary to utilize\n",
      " this text.\"/>\n",
      "<p class=\"book_name\"><a href=\"https://www.amazon.com/Understanding-Operating-Systems-Ann-McHoes/dp/1305674251\" target=\"_blank\">Understanding operating systems By Ida Flynn</a></p>\n",
      "<div class=\"align-left\">\n",
      "<p class=\"price green\">Rs.2700</p>\n",
      "<p class=\"stock not_stock\" data-stock=\"not in stock\"><i aria-hidden=\"true\" class=\"fa fa-times\"></i> Not in stock</p>\n",
      "<div><span class=\"fa fa-star\"></span><span class=\"fa fa-star\"></span><span class=\"fa fa-star not_filled\"></span><span class=\"fa fa-star not_filled\"></span><span class=\"fa fa-star not_filled\"></span></div>\n",
      "<p class=\"review green\" data-rating=\"60\">60 Reviews</p>\n",
      "<button>Add to cart</button>\n",
      "</div>\n",
      "</div>\n",
      "<div class=\"book_container col-sm-4\">\n",
      "<img alt=\"\" src=\"images/Computer Systems.jpg\" title=\"It covers computers' data representation, explains how computer architecture\n",
      " and its underlying meaning changed over the years, and examines\n",
      " the implementations and performance enhancements of the central processing unit (CPU).\"/>\n",
      "<p class=\"book_name\"><a href=\"https://www.goodreads.com/book/show/829182.Computer_Systems\" target=\"_blank\">Computer Systems  By Randal E. Bryant </a></p>\n",
      "<div class=\"align-left\">\n",
      "<p class=\"price green\">Rs.1700</p>\n",
      "<p class=\"stock in_stock\" data-stock=\"in stock\"><i aria-hidden=\"true\" class=\"fa fa-check\"></i> In stock</p>\n",
      "<div><span class=\"fa fa-star\"></span><span class=\"fa fa-star\"></span><span class=\"fa fa-star not_filled\"></span><span class=\"fa fa-star not_filled\"></span><span class=\"fa fa-star not_filled\"></span></div>\n",
      "<p class=\"review green\" data-rating=\"25\">25 Reviews</p>\n",
      "<button>Add to cart</button>\n",
      "</div>\n",
      "</div>\n",
      "<div class=\"book_container col-sm-4\">\n",
      "<img alt=\"\" src=\"images/linux bible.jpg\" title=\"It includes information on cloud computing, with new guidance on containerization,\n",
      " Ansible automation, and Kubernetes and OpenShift. With a\n",
      " focus on RHEL 8\"/>\n",
      "<p class=\"book_name\"><a href=\"https://www.amazon.com/Linux-Bible-Christopher-Negus/dp/111821854X\" target=\"_blank\">Linux bible  Book By Christopher Negus</a></p>\n",
      "<div class=\"align-left\">\n",
      "<p class=\"price green\">Rs.1800</p>\n",
      "<p class=\"stock not_stock\" data-stock=\"not in stock\"><i aria-hidden=\"true\" class=\"fa fa-times\"></i> Not in stock</p>\n",
      "<div><span class=\"fa fa-star\"></span><span class=\"fa fa-star not_filled\"></span><span class=\"fa fa-star not_filled\"></span><span class=\"fa fa-star not_filled\"></span><span class=\"fa fa-star not_filled\"></span></div>\n",
      "<p class=\"review green\" data-rating=\"21\">21 Reviews</p>\n",
      "<button>Add to cart</button>\n",
      "</div>\n",
      "</div>\n",
      "<div class=\"book_container col-sm-4\">\n",
      "<img alt=\"\" src=\"images/advanced programming in unix.jpg\" title=\"This book approaches the LINUX environment as a programming\n",
      " companion. No previous exposure to LINUX is necessary to utilize\n",
      " this text.\"/>\n",
      "<p class=\"book_name\"><a href=\"https://www.amazon.com/dp/0321637739?tag=uuid10-20\" target=\"_blank\">Advanced Programming in the UNIX Environment  By W. Stevans</a></p>\n",
      "<div class=\"align-left\">\n",
      "<p class=\"price green\">Rs.6000</p>\n",
      "<p class=\"stock in_stock\" data-stock=\"in stock\"><i aria-hidden=\"true\" class=\"fa fa-check\"></i> In stock</p>\n",
      "<div><span class=\"fa fa-star\"></span><span class=\"fa fa-star not_filled\"></span><span class=\"fa fa-star not_filled\"></span><span class=\"fa fa-star not_filled\"></span><span class=\"fa fa-star not_filled\"></span></div>\n",
      "<p class=\"review green\" data-rating=\"40\">40 Reviews</p>\n",
      "<button>Add to cart</button>\n",
      "</div>\n",
      "</div>\n",
      "<div class=\"book_container col-sm-4\">\n",
      "<img alt=\"\" src=\"images/OS a design appraoch.png\" title=\"It covers computers' data representation, explains how computer architecture\n",
      " and its underlying meaning changed over the years, and examines\n",
      " the implementations and performance enhancements of the central processing unit (CPU).\"/>\n",
      "<p class=\"book_name\"><a href=\"https://www.amazon.com/s?k=Operating+Systems%3A+A+Design-oriented+Approach&amp;i=stripbooks-intl-ship&amp;ref=nb_sb_noss\" target=\"_blank\">Operating Systems: A Design-oriented Approach By Charles Patrick Crowley</a></p>\n",
      "<div class=\"align-left\">\n",
      "<p class=\"price green\">Rs.1000</p>\n",
      "<p class=\"stock in_stock\" data-stock=\"in stock\"><i aria-hidden=\"true\" class=\"fa fa-check\"></i> In stock</p>\n",
      "<div><span class=\"fa fa-star\"></span><span class=\"fa fa-star\"></span><span class=\"fa fa-star\"></span><span class=\"fa fa-star not_filled\"></span><span class=\"fa fa-star not_filled\"></span></div>\n",
      "<p class=\"review green\" data-rating=\"90\">90 Reviews</p>\n",
      "<button>Add to cart</button>\n",
      "</div>\n",
      "</div>\n",
      "<div class=\"book_container col-sm-4\">\n",
      "<img alt=\"\" src=\"images/hands on network programming.jpg\" title=\"It includes information on cloud computing, with new guidance on containerization,\n",
      " Ansible automation, and Kubernetes and OpenShift. With a\n",
      " focus on RHEL 8\"/>\n",
      "<p class=\"book_name\"><a href=\"https://www.amazon.com/Hands-Network-Programming-programming-optimized/dp/1789349869/ref=sr_1_1?crid=11FC0M0GAFA21&amp;amp&amp;keywords=unix+network+programming+2019&amp;amp&amp;qid=1653381349&amp;amp&amp;s=books&amp;amp&amp;sprefix=unix+network+programming+2019%2Cstripbooks-intl-ship%2C356&amp;amp&amp;sr=1-1\" target=\"_blank\">Hands-On Network Programming with C  By Lewis Van Winkle</a></p>\n",
      "<div class=\"align-left\">\n",
      "<p class=\"price green\">Rs.1800</p>\n",
      "<p class=\"stock in_stock\" data-stock=\"in stock\"><i aria-hidden=\"true\" class=\"fa fa-check\"></i> In stock</p>\n",
      "<div><span class=\"fa fa-star\"></span><span class=\"fa fa-star\"></span><span class=\"fa fa-star\"></span><span class=\"fa fa-star\"></span><span class=\"fa fa-star not_filled\"></span></div>\n",
      "<p class=\"review green\" data-rating=\"70\">70 Reviews</p>\n",
      "<button>Add to cart</button>\n",
      "</div>\n",
      "</div>\n",
      "</div>\n",
      "</div>\n",
      "<script crossorigin=\"anonymous\" integrity=\"sha384-pprn3073KE6tl6bjs2QrFaJGz5/SUsLqktiwsUTF55Jfv3qYSDhgCecCxMW52nD2\" src=\"https://cdn.jsdelivr.net/npm/bootstrap@5.2.0-beta1/dist/js/bootstrap.bundle.min.js\"></script>\n",
      "</div></section></body>\n",
      "</html>\n",
      "\n"
     ]
    }
   ],
   "source": [
    "print(soup)"
   ]
  },
  {
   "cell_type": "code",
   "execution_count": null,
   "id": "5799c8b8",
   "metadata": {},
   "outputs": [],
   "source": []
  },
  {
   "cell_type": "code",
   "execution_count": 11,
   "id": "1dd88827",
   "metadata": {},
   "outputs": [
    {
     "name": "stdout",
     "output_type": "stream",
     "text": [
      "<!DOCTYPE html>\n",
      "<html lang=\"en\">\n",
      " <head>\n",
      "  <meta charset=\"utf-8\"/>\n",
      "  <meta content=\"width=device-width, initial-scale=1\" name=\"viewport\"/>\n",
      "  <title>\n",
      "   BSS2\n",
      "  </title>\n",
      "  <!-- external style sheet -->\n",
      "  <link href=\"./index.css\" rel=\"stylesheet\"/>\n",
      "  <!--Bootstrap style sheet-->\n",
      "  <link crossorigin=\"anonymous\" href=\"https://cdn.jsdelivr.net/npm/bootstrap@5.2.0-beta1/dist/css/bootstrap.min.css\" integrity=\"sha384-0evHe/X+R7YkIZDRvuzKMRqM+OrBnVFBL6DOitfPri4tjfHxaWutUpFmBp4vmVor\" rel=\"stylesheet\"/>\n",
      "  <!--for icons of tick and cross ans star for in stock-->\n",
      "  <link href=\"https://cdnjs.cloudflare.com/ajax/libs/font-awesome/4.7.0/css/font-awesome.min.css\" rel=\"stylesheet\"/>\n",
      " </head>\n",
      " <body>\n",
      "  <header class=\"header d-flex align-items-center justify-content-between\">\n",
      "   <img alt=\"arif\" class=\"image-container\" src=\"./images//arif.jpg\"/>\n",
      "   <p>\n",
      "    <span class=\"large_text\">\n",
      "     Books Scraping Site\n",
      "    </span>\n",
      "   </p>\n",
      "   <img alt=\"pucit\" class=\"image-container\" src=\"./images/pucit.jpg\"/>\n",
      "  </header>\n",
      "  <section>\n",
      "   <div class=\"main-container d-flex align-items-start justify-content-between\">\n",
      "    <div class=\"navbar\">\n",
      "     <ul class=\"nav-links\">\n",
      "      <div class=\"link text-center\" id=\"book_title\">\n",
      "       Books Titles\n",
      "      </div>\n",
      "      <li class=\"link book_type\">\n",
      "       <a href=\"index.html\">\n",
      "        Operating System\n",
      "       </a>\n",
      "      </li>\n",
      "      <li class=\"link book_type\">\n",
      "       <a href=\"SP.html\">\n",
      "        System Programming\n",
      "       </a>\n",
      "      </li>\n",
      "      <li class=\"link book_type\">\n",
      "       <a href=\"CA.html\">\n",
      "        Computer Architecture\n",
      "       </a>\n",
      "      </li>\n",
      "     </ul>\n",
      "    </div>\n",
      "    <div class=\"items\">\n",
      "     <div id=\"book_page_titile\">\n",
      "      Operating Systems\n",
      "     </div>\n",
      "     <div class=\"row\">\n",
      "      <div class=\"book_container col-sm-4\">\n",
      "       <img alt=\"\" src=\"images/OS concepts.jpg\" title=\"The Linux Programming Interface (TLPI) is the definitive guide \n",
      " to the Linux and UNIX programming interface—the interface\n",
      " employed by nearly every application that runs on a \n",
      "Linux or UNIX system.\"/>\n",
      "       <p class=\"book_name\">\n",
      "        <a href=\"https://www.amazon.com/Operating-System-Concepts-Abridged-Companion/dp/1119456339\" target=\"_blank\">\n",
      "         Operating System Concepts By Avi Silberschatz\n",
      "        </a>\n",
      "       </p>\n",
      "       <div class=\"align-left\">\n",
      "        <p class=\"price green\">\n",
      "         Rs.2000\n",
      "        </p>\n",
      "        <p class=\"stock in_stock\" data-stock=\"in stock\">\n",
      "         <i aria-hidden=\"true\" class=\"fa fa-check\">\n",
      "         </i>\n",
      "         In stock\n",
      "        </p>\n",
      "        <div>\n",
      "         <span class=\"fa fa-star\">\n",
      "         </span>\n",
      "         <span class=\"fa fa-star\">\n",
      "         </span>\n",
      "         <span class=\"fa fa-star\">\n",
      "         </span>\n",
      "         <span class=\"fa fa-star not_filled\">\n",
      "         </span>\n",
      "         <span class=\"fa fa-star not_filled\">\n",
      "         </span>\n",
      "        </div>\n",
      "        <p class=\"review green\" data-rating=\"20\">\n",
      "         20 Reviews\n",
      "        </p>\n",
      "        <button>\n",
      "         Add to cart\n",
      "        </button>\n",
      "       </div>\n",
      "      </div>\n",
      "      <div class=\"book_container col-sm-4\">\n",
      "       <img alt=\"\" src=\"images/Unix.jpg\" title=\"It covers many topics not covered in older, more traditional textbook \n",
      "approaches, such as Python, UNIX System Programming from basics to \n",
      "socket-based network programming using the client-server paradigm, the \n",
      "Zettabyte File System (ZFS), and the highly developed X Windows-based\n",
      " KDE and Gnome GUI desktop environments\"/>\n",
      "       <p class=\"book_name\">\n",
      "        <a href=\"https://www.google.com/search?q=Unix+the+textbook+by+mansoor&amp;rlz=1C1CHBD_enPK987PK987&amp;oq=unix+the+textbook+by+mansoor&amp;aqs=chrome.0.69i59j69i57j69i59j69i60l5.4419j0j7&amp;sourceid=chrome&amp;ie=UTF-8\" target=\"_blank\">\n",
      "         UNIX The Textbook By Syed Mansoor Sarwar\n",
      "        </a>\n",
      "       </p>\n",
      "       <div class=\"align-left\">\n",
      "        <p class=\"price green\">\n",
      "         Rs.5000\n",
      "        </p>\n",
      "        <p class=\"stock in_stock\" data-stock=\"in stock\">\n",
      "         <i aria-hidden=\"true\" class=\"fa fa-check\">\n",
      "         </i>\n",
      "         In stock\n",
      "        </p>\n",
      "        <div>\n",
      "         <span class=\"fa fa-star\">\n",
      "         </span>\n",
      "         <span class=\"fa fa-star\">\n",
      "         </span>\n",
      "         <span class=\"fa fa-star\">\n",
      "         </span>\n",
      "         <span class=\"fa fa-star\">\n",
      "         </span>\n",
      "         <span class=\"fa fa-star\">\n",
      "         </span>\n",
      "        </div>\n",
      "        <p class=\"review green\" data-rating=\"100\">\n",
      "         100 Reviews\n",
      "        </p>\n",
      "        <button>\n",
      "         Add to cart\n",
      "        </button>\n",
      "       </div>\n",
      "      </div>\n",
      "      <div class=\"book_container col-sm-4\">\n",
      "       <img alt=\"\" src=\"images/taxonomy.jpg\" title=\"Intrusion Detection using System Call Sequence\"/>\n",
      "       <p class=\"book_name\">\n",
      "        <a href=\"https://www.amazon.in/Taxonomy-Ids-Arif-Butt/dp/3639294092\" target=\"_blank\">\n",
      "         Taxonomy of IDS By Arif Butt\n",
      "        </a>\n",
      "       </p>\n",
      "       <div class=\"align-left\">\n",
      "        <p class=\"price green\">\n",
      "         Rs.6900\n",
      "        </p>\n",
      "        <p class=\"stock not_stock\" data-stock=\"not in stock\">\n",
      "         <i aria-hidden=\"true\" class=\"fa fa-times\">\n",
      "         </i>\n",
      "         Not in stock\n",
      "        </p>\n",
      "        <div>\n",
      "         <span class=\"fa fa-star\">\n",
      "         </span>\n",
      "         <span class=\"fa fa-star\">\n",
      "         </span>\n",
      "         <span class=\"fa fa-star\">\n",
      "         </span>\n",
      "         <span class=\"fa fa-star\">\n",
      "         </span>\n",
      "         <span class=\"fa fa-star not_filled\">\n",
      "         </span>\n",
      "        </div>\n",
      "        <p class=\"review green\" data-rating=\"20\">\n",
      "         20 Reviews\n",
      "        </p>\n",
      "        <button>\n",
      "         Add to cart\n",
      "        </button>\n",
      "       </div>\n",
      "      </div>\n",
      "      <div class=\"book_container col-sm-4\">\n",
      "       <img alt=\"\" src=\"images/understanding OS.jpg\" title=\"This book approaches the LINUX environment as a programming\n",
      " companion. No previous exposure to LINUX is necessary to utilize\n",
      " this text.\"/>\n",
      "       <p class=\"book_name\">\n",
      "        <a href=\"https://www.amazon.com/Understanding-Operating-Systems-Ann-McHoes/dp/1305674251\" target=\"_blank\">\n",
      "         Understanding operating systems By Ida Flynn\n",
      "        </a>\n",
      "       </p>\n",
      "       <div class=\"align-left\">\n",
      "        <p class=\"price green\">\n",
      "         Rs.2700\n",
      "        </p>\n",
      "        <p class=\"stock not_stock\" data-stock=\"not in stock\">\n",
      "         <i aria-hidden=\"true\" class=\"fa fa-times\">\n",
      "         </i>\n",
      "         Not in stock\n",
      "        </p>\n",
      "        <div>\n",
      "         <span class=\"fa fa-star\">\n",
      "         </span>\n",
      "         <span class=\"fa fa-star\">\n",
      "         </span>\n",
      "         <span class=\"fa fa-star not_filled\">\n",
      "         </span>\n",
      "         <span class=\"fa fa-star not_filled\">\n",
      "         </span>\n",
      "         <span class=\"fa fa-star not_filled\">\n",
      "         </span>\n",
      "        </div>\n",
      "        <p class=\"review green\" data-rating=\"60\">\n",
      "         60 Reviews\n",
      "        </p>\n",
      "        <button>\n",
      "         Add to cart\n",
      "        </button>\n",
      "       </div>\n",
      "      </div>\n",
      "      <div class=\"book_container col-sm-4\">\n",
      "       <img alt=\"\" src=\"images/Computer Systems.jpg\" title=\"It covers computers' data representation, explains how computer architecture\n",
      " and its underlying meaning changed over the years, and examines\n",
      " the implementations and performance enhancements of the central processing unit (CPU).\"/>\n",
      "       <p class=\"book_name\">\n",
      "        <a href=\"https://www.goodreads.com/book/show/829182.Computer_Systems\" target=\"_blank\">\n",
      "         Computer Systems  By Randal E. Bryant\n",
      "        </a>\n",
      "       </p>\n",
      "       <div class=\"align-left\">\n",
      "        <p class=\"price green\">\n",
      "         Rs.1700\n",
      "        </p>\n",
      "        <p class=\"stock in_stock\" data-stock=\"in stock\">\n",
      "         <i aria-hidden=\"true\" class=\"fa fa-check\">\n",
      "         </i>\n",
      "         In stock\n",
      "        </p>\n",
      "        <div>\n",
      "         <span class=\"fa fa-star\">\n",
      "         </span>\n",
      "         <span class=\"fa fa-star\">\n",
      "         </span>\n",
      "         <span class=\"fa fa-star not_filled\">\n",
      "         </span>\n",
      "         <span class=\"fa fa-star not_filled\">\n",
      "         </span>\n",
      "         <span class=\"fa fa-star not_filled\">\n",
      "         </span>\n",
      "        </div>\n",
      "        <p class=\"review green\" data-rating=\"25\">\n",
      "         25 Reviews\n",
      "        </p>\n",
      "        <button>\n",
      "         Add to cart\n",
      "        </button>\n",
      "       </div>\n",
      "      </div>\n",
      "      <div class=\"book_container col-sm-4\">\n",
      "       <img alt=\"\" src=\"images/linux bible.jpg\" title=\"It includes information on cloud computing, with new guidance on containerization,\n",
      " Ansible automation, and Kubernetes and OpenShift. With a\n",
      " focus on RHEL 8\"/>\n",
      "       <p class=\"book_name\">\n",
      "        <a href=\"https://www.amazon.com/Linux-Bible-Christopher-Negus/dp/111821854X\" target=\"_blank\">\n",
      "         Linux bible  Book By Christopher Negus\n",
      "        </a>\n",
      "       </p>\n",
      "       <div class=\"align-left\">\n",
      "        <p class=\"price green\">\n",
      "         Rs.1800\n",
      "        </p>\n",
      "        <p class=\"stock not_stock\" data-stock=\"not in stock\">\n",
      "         <i aria-hidden=\"true\" class=\"fa fa-times\">\n",
      "         </i>\n",
      "         Not in stock\n",
      "        </p>\n",
      "        <div>\n",
      "         <span class=\"fa fa-star\">\n",
      "         </span>\n",
      "         <span class=\"fa fa-star not_filled\">\n",
      "         </span>\n",
      "         <span class=\"fa fa-star not_filled\">\n",
      "         </span>\n",
      "         <span class=\"fa fa-star not_filled\">\n",
      "         </span>\n",
      "         <span class=\"fa fa-star not_filled\">\n",
      "         </span>\n",
      "        </div>\n",
      "        <p class=\"review green\" data-rating=\"21\">\n",
      "         21 Reviews\n",
      "        </p>\n",
      "        <button>\n",
      "         Add to cart\n",
      "        </button>\n",
      "       </div>\n",
      "      </div>\n",
      "      <div class=\"book_container col-sm-4\">\n",
      "       <img alt=\"\" src=\"images/advanced programming in unix.jpg\" title=\"This book approaches the LINUX environment as a programming\n",
      " companion. No previous exposure to LINUX is necessary to utilize\n",
      " this text.\"/>\n",
      "       <p class=\"book_name\">\n",
      "        <a href=\"https://www.amazon.com/dp/0321637739?tag=uuid10-20\" target=\"_blank\">\n",
      "         Advanced Programming in the UNIX Environment  By W. Stevans\n",
      "        </a>\n",
      "       </p>\n",
      "       <div class=\"align-left\">\n",
      "        <p class=\"price green\">\n",
      "         Rs.6000\n",
      "        </p>\n",
      "        <p class=\"stock in_stock\" data-stock=\"in stock\">\n",
      "         <i aria-hidden=\"true\" class=\"fa fa-check\">\n",
      "         </i>\n",
      "         In stock\n",
      "        </p>\n",
      "        <div>\n",
      "         <span class=\"fa fa-star\">\n",
      "         </span>\n",
      "         <span class=\"fa fa-star not_filled\">\n",
      "         </span>\n",
      "         <span class=\"fa fa-star not_filled\">\n",
      "         </span>\n",
      "         <span class=\"fa fa-star not_filled\">\n",
      "         </span>\n",
      "         <span class=\"fa fa-star not_filled\">\n",
      "         </span>\n",
      "        </div>\n",
      "        <p class=\"review green\" data-rating=\"40\">\n",
      "         40 Reviews\n",
      "        </p>\n",
      "        <button>\n",
      "         Add to cart\n",
      "        </button>\n",
      "       </div>\n",
      "      </div>\n",
      "      <div class=\"book_container col-sm-4\">\n",
      "       <img alt=\"\" src=\"images/OS a design appraoch.png\" title=\"It covers computers' data representation, explains how computer architecture\n",
      " and its underlying meaning changed over the years, and examines\n",
      " the implementations and performance enhancements of the central processing unit (CPU).\"/>\n",
      "       <p class=\"book_name\">\n",
      "        <a href=\"https://www.amazon.com/s?k=Operating+Systems%3A+A+Design-oriented+Approach&amp;i=stripbooks-intl-ship&amp;ref=nb_sb_noss\" target=\"_blank\">\n",
      "         Operating Systems: A Design-oriented Approach By Charles Patrick Crowley\n",
      "        </a>\n",
      "       </p>\n",
      "       <div class=\"align-left\">\n",
      "        <p class=\"price green\">\n",
      "         Rs.1000\n",
      "        </p>\n",
      "        <p class=\"stock in_stock\" data-stock=\"in stock\">\n",
      "         <i aria-hidden=\"true\" class=\"fa fa-check\">\n",
      "         </i>\n",
      "         In stock\n",
      "        </p>\n",
      "        <div>\n",
      "         <span class=\"fa fa-star\">\n",
      "         </span>\n",
      "         <span class=\"fa fa-star\">\n",
      "         </span>\n",
      "         <span class=\"fa fa-star\">\n",
      "         </span>\n",
      "         <span class=\"fa fa-star not_filled\">\n",
      "         </span>\n",
      "         <span class=\"fa fa-star not_filled\">\n",
      "         </span>\n",
      "        </div>\n",
      "        <p class=\"review green\" data-rating=\"90\">\n",
      "         90 Reviews\n",
      "        </p>\n",
      "        <button>\n",
      "         Add to cart\n",
      "        </button>\n",
      "       </div>\n",
      "      </div>\n",
      "      <div class=\"book_container col-sm-4\">\n",
      "       <img alt=\"\" src=\"images/hands on network programming.jpg\" title=\"It includes information on cloud computing, with new guidance on containerization,\n",
      " Ansible automation, and Kubernetes and OpenShift. With a\n",
      " focus on RHEL 8\"/>\n",
      "       <p class=\"book_name\">\n",
      "        <a href=\"https://www.amazon.com/Hands-Network-Programming-programming-optimized/dp/1789349869/ref=sr_1_1?crid=11FC0M0GAFA21&amp;amp&amp;keywords=unix+network+programming+2019&amp;amp&amp;qid=1653381349&amp;amp&amp;s=books&amp;amp&amp;sprefix=unix+network+programming+2019%2Cstripbooks-intl-ship%2C356&amp;amp&amp;sr=1-1\" target=\"_blank\">\n",
      "         Hands-On Network Programming with C  By Lewis Van Winkle\n",
      "        </a>\n",
      "       </p>\n",
      "       <div class=\"align-left\">\n",
      "        <p class=\"price green\">\n",
      "         Rs.1800\n",
      "        </p>\n",
      "        <p class=\"stock in_stock\" data-stock=\"in stock\">\n",
      "         <i aria-hidden=\"true\" class=\"fa fa-check\">\n",
      "         </i>\n",
      "         In stock\n",
      "        </p>\n",
      "        <div>\n",
      "         <span class=\"fa fa-star\">\n",
      "         </span>\n",
      "         <span class=\"fa fa-star\">\n",
      "         </span>\n",
      "         <span class=\"fa fa-star\">\n",
      "         </span>\n",
      "         <span class=\"fa fa-star\">\n",
      "         </span>\n",
      "         <span class=\"fa fa-star not_filled\">\n",
      "         </span>\n",
      "        </div>\n",
      "        <p class=\"review green\" data-rating=\"70\">\n",
      "         70 Reviews\n",
      "        </p>\n",
      "        <button>\n",
      "         Add to cart\n",
      "        </button>\n",
      "       </div>\n",
      "      </div>\n",
      "     </div>\n",
      "    </div>\n",
      "    <script crossorigin=\"anonymous\" integrity=\"sha384-pprn3073KE6tl6bjs2QrFaJGz5/SUsLqktiwsUTF55Jfv3qYSDhgCecCxMW52nD2\" src=\"https://cdn.jsdelivr.net/npm/bootstrap@5.2.0-beta1/dist/js/bootstrap.bundle.min.js\">\n",
      "    </script>\n",
      "   </div>\n",
      "  </section>\n",
      " </body>\n",
      "</html>\n",
      "\n"
     ]
    }
   ],
   "source": [
    "print(soup.prettify())"
   ]
  },
  {
   "cell_type": "code",
   "execution_count": null,
   "id": "795aa49e",
   "metadata": {},
   "outputs": [],
   "source": []
  },
  {
   "cell_type": "code",
   "execution_count": null,
   "id": "730c8257",
   "metadata": {},
   "outputs": [],
   "source": []
  },
  {
   "cell_type": "markdown",
   "id": "0f4f468c",
   "metadata": {},
   "source": [
    "> **Tag Objects**"
   ]
  },
  {
   "cell_type": "code",
   "execution_count": 12,
   "id": "61bfb99f",
   "metadata": {},
   "outputs": [
    {
     "data": {
      "text/plain": [
       "<header class=\"header d-flex align-items-center justify-content-between\">\n",
       "<img alt=\"arif\" class=\"image-container\" src=\"./images//arif.jpg\"/>\n",
       "<p> <span class=\"large_text\">Books Scraping Site</span></p>\n",
       "<img alt=\"pucit\" class=\"image-container\" src=\"./images/pucit.jpg\"/>\n",
       "</header>"
      ]
     },
     "execution_count": 12,
     "metadata": {},
     "output_type": "execute_result"
    }
   ],
   "source": [
    "soup.header"
   ]
  },
  {
   "cell_type": "code",
   "execution_count": 13,
   "id": "4a5be41f",
   "metadata": {},
   "outputs": [
    {
     "data": {
      "text/plain": [
       "<p> <span class=\"large_text\">Books Scraping Site</span></p>"
      ]
     },
     "execution_count": 13,
     "metadata": {},
     "output_type": "execute_result"
    }
   ],
   "source": [
    "soup.p"
   ]
  },
  {
   "cell_type": "code",
   "execution_count": null,
   "id": "23bdfc25",
   "metadata": {},
   "outputs": [],
   "source": []
  },
  {
   "cell_type": "code",
   "execution_count": null,
   "id": "1fe641db",
   "metadata": {},
   "outputs": [],
   "source": []
  },
  {
   "cell_type": "markdown",
   "id": "08d797b0",
   "metadata": {},
   "source": [
    "> **Name Objects**"
   ]
  },
  {
   "cell_type": "code",
   "execution_count": 14,
   "id": "30ace3fd",
   "metadata": {},
   "outputs": [
    {
     "data": {
      "text/plain": [
       "'header'"
      ]
     },
     "execution_count": 14,
     "metadata": {},
     "output_type": "execute_result"
    }
   ],
   "source": [
    "soup.header.name"
   ]
  },
  {
   "cell_type": "code",
   "execution_count": 15,
   "id": "e20b9bd8",
   "metadata": {},
   "outputs": [
    {
     "data": {
      "text/plain": [
       "'img'"
      ]
     },
     "execution_count": 15,
     "metadata": {},
     "output_type": "execute_result"
    }
   ],
   "source": [
    "soup.img.name"
   ]
  },
  {
   "cell_type": "code",
   "execution_count": 16,
   "id": "4da66e92",
   "metadata": {},
   "outputs": [
    {
     "name": "stdout",
     "output_type": "stream",
     "text": [
      "<class 'str'>\n",
      "<class 'str'>\n"
     ]
    }
   ],
   "source": [
    "print(type(soup.header.name))\n",
    "print(type(soup.img.name))"
   ]
  },
  {
   "cell_type": "code",
   "execution_count": null,
   "id": "30213ef9",
   "metadata": {},
   "outputs": [],
   "source": []
  },
  {
   "cell_type": "code",
   "execution_count": null,
   "id": "38accc38",
   "metadata": {},
   "outputs": [],
   "source": []
  },
  {
   "cell_type": "markdown",
   "id": "269d9013",
   "metadata": {},
   "source": [
    "> **Attribute Objects**"
   ]
  },
  {
   "cell_type": "code",
   "execution_count": 17,
   "id": "63dab9ff",
   "metadata": {},
   "outputs": [
    {
     "data": {
      "text/plain": [
       "{}"
      ]
     },
     "execution_count": 17,
     "metadata": {},
     "output_type": "execute_result"
    }
   ],
   "source": [
    "soup.p.attrs"
   ]
  },
  {
   "cell_type": "code",
   "execution_count": 18,
   "id": "f7b0a37a",
   "metadata": {},
   "outputs": [
    {
     "data": {
      "text/plain": [
       "{'class': ['image-container'], 'src': './images//arif.jpg', 'alt': 'arif'}"
      ]
     },
     "execution_count": 18,
     "metadata": {},
     "output_type": "execute_result"
    }
   ],
   "source": [
    "soup.img.attrs"
   ]
  },
  {
   "cell_type": "code",
   "execution_count": null,
   "id": "456579d3",
   "metadata": {},
   "outputs": [],
   "source": []
  },
  {
   "cell_type": "markdown",
   "id": "15ebbebd",
   "metadata": {},
   "source": [
    "> **Navigatable String Object**"
   ]
  },
  {
   "cell_type": "code",
   "execution_count": 19,
   "id": "0fe485a9",
   "metadata": {},
   "outputs": [
    {
     "data": {
      "text/plain": [
       "'BSS2'"
      ]
     },
     "execution_count": 19,
     "metadata": {},
     "output_type": "execute_result"
    }
   ],
   "source": [
    "soup.title.string"
   ]
  },
  {
   "cell_type": "code",
   "execution_count": null,
   "id": "533c0695",
   "metadata": {},
   "outputs": [],
   "source": []
  },
  {
   "cell_type": "markdown",
   "id": "df3e0339",
   "metadata": {},
   "source": [
    "> **You can Navigate the Entire Tree of Soup Object**"
   ]
  },
  {
   "cell_type": "code",
   "execution_count": 20,
   "id": "21f0c6ad",
   "metadata": {},
   "outputs": [
    {
     "data": {
      "text/plain": [
       "<a href=\"index.html\">Operating System</a>"
      ]
     },
     "execution_count": 20,
     "metadata": {},
     "output_type": "execute_result"
    }
   ],
   "source": [
    "soup.body.a"
   ]
  },
  {
   "cell_type": "code",
   "execution_count": 21,
   "id": "04bd56cb",
   "metadata": {},
   "outputs": [
    {
     "data": {
      "text/plain": [
       "<li class=\"link book_type\"><a href=\"index.html\">Operating System</a></li>"
      ]
     },
     "execution_count": 21,
     "metadata": {},
     "output_type": "execute_result"
    }
   ],
   "source": [
    "soup.body.a.parent"
   ]
  },
  {
   "cell_type": "code",
   "execution_count": 22,
   "id": "94f17001",
   "metadata": {},
   "outputs": [
    {
     "data": {
      "text/plain": [
       "<ul class=\"nav-links\">\n",
       "<div class=\"link text-center\" id=\"book_title\">Books Titles</div>\n",
       "<li class=\"link book_type\"><a href=\"index.html\">Operating System</a></li>\n",
       "<li class=\"link book_type\"><a href=\"SP.html\">System Programming</a></li>\n",
       "<li class=\"link book_type\"><a href=\"CA.html\">Computer Architecture</a></li>\n",
       "</ul>"
      ]
     },
     "execution_count": 22,
     "metadata": {},
     "output_type": "execute_result"
    }
   ],
   "source": [
    "soup.body.a.parent.parent"
   ]
  },
  {
   "cell_type": "code",
   "execution_count": 23,
   "id": "e4362aec",
   "metadata": {},
   "outputs": [
    {
     "data": {
      "text/plain": [
       "<ul class=\"nav-links\">\n",
       "<div class=\"link text-center\" id=\"book_title\">Books Titles</div>\n",
       "<li class=\"link book_type\"><a href=\"index.html\">Operating System</a></li>\n",
       "<li class=\"link book_type\"><a href=\"SP.html\">System Programming</a></li>\n",
       "<li class=\"link book_type\"><a href=\"CA.html\">Computer Architecture</a></li>\n",
       "</ul>"
      ]
     },
     "execution_count": 23,
     "metadata": {},
     "output_type": "execute_result"
    }
   ],
   "source": [
    "soup.body.ul"
   ]
  },
  {
   "cell_type": "code",
   "execution_count": null,
   "id": "8332c201",
   "metadata": {},
   "outputs": [],
   "source": []
  },
  {
   "cell_type": "code",
   "execution_count": null,
   "id": "47b136fc",
   "metadata": {},
   "outputs": [],
   "source": []
  },
  {
   "cell_type": "code",
   "execution_count": 24,
   "id": "be146f69",
   "metadata": {},
   "outputs": [
    {
     "data": {
      "text/plain": [
       "<list_iterator at 0x10ab36140>"
      ]
     },
     "execution_count": 24,
     "metadata": {},
     "output_type": "execute_result"
    }
   ],
   "source": [
    "soup.body.ul.children"
   ]
  },
  {
   "cell_type": "code",
   "execution_count": 25,
   "id": "d2a84fc9",
   "metadata": {},
   "outputs": [
    {
     "name": "stdout",
     "output_type": "stream",
     "text": [
      "\n",
      "\n",
      "<div class=\"link text-center\" id=\"book_title\">Books Titles</div>\n",
      "\n",
      "\n",
      "<li class=\"link book_type\"><a href=\"index.html\">Operating System</a></li>\n",
      "\n",
      "\n",
      "<li class=\"link book_type\"><a href=\"SP.html\">System Programming</a></li>\n",
      "\n",
      "\n",
      "<li class=\"link book_type\"><a href=\"CA.html\">Computer Architecture</a></li>\n",
      "\n",
      "\n"
     ]
    }
   ],
   "source": [
    "for tag in soup.body.ul.children:\n",
    "    print(tag)"
   ]
  },
  {
   "cell_type": "code",
   "execution_count": null,
   "id": "85d0128f",
   "metadata": {},
   "outputs": [],
   "source": []
  },
  {
   "cell_type": "markdown",
   "id": "929e65fd",
   "metadata": {},
   "source": [
    "### d. Using the `soup.find()` Method\n",
    "- The `soup.find()` method returns the first tag that matches the search criteria:\n",
    "\n",
    "`soup.find(name=None, attrs={}, recursive=True, text=None, **kwargs)`\n",
    "\n",
    "- Where\n",
    "    - `name` is the tag name to search.\n",
    "    - `attrs={}`, A dictionary of filters on attribute values.\n",
    "    - `recursive=True`, If this is `True`, find() will perform a recursive search of this PageElement's children. Otherwise, only the direct children will be considered.\n",
    "    - `text=None`, St\n",
    "    - `limit`, Stop looking after finding this many results.\n",
    "    \n",
    "**The `find()` method can be called on the entire soup object or you can call `find()` method from a specific tag from within a soup object**"
   ]
  },
  {
   "cell_type": "code",
   "execution_count": 26,
   "id": "11042964",
   "metadata": {},
   "outputs": [
    {
     "data": {
      "text/plain": [
       "<div class=\"navbar\">\n",
       "<ul class=\"nav-links\">\n",
       "<div class=\"link text-center\" id=\"book_title\">Books Titles</div>\n",
       "<li class=\"link book_type\"><a href=\"index.html\">Operating System</a></li>\n",
       "<li class=\"link book_type\"><a href=\"SP.html\">System Programming</a></li>\n",
       "<li class=\"link book_type\"><a href=\"CA.html\">Computer Architecture</a></li>\n",
       "</ul>\n",
       "</div>"
      ]
     },
     "execution_count": 26,
     "metadata": {},
     "output_type": "execute_result"
    }
   ],
   "source": [
    "soup.find('div', {'class':'navbar'})"
   ]
  },
  {
   "cell_type": "code",
   "execution_count": 27,
   "id": "56248435",
   "metadata": {},
   "outputs": [
    {
     "data": {
      "text/plain": [
       "<div class=\"navbar\">\n",
       "<ul class=\"nav-links\">\n",
       "<div class=\"link text-center\" id=\"book_title\">Books Titles</div>\n",
       "<li class=\"link book_type\"><a href=\"index.html\">Operating System</a></li>\n",
       "<li class=\"link book_type\"><a href=\"SP.html\">System Programming</a></li>\n",
       "<li class=\"link book_type\"><a href=\"CA.html\">Computer Architecture</a></li>\n",
       "</ul>\n",
       "</div>"
      ]
     },
     "execution_count": 27,
     "metadata": {},
     "output_type": "execute_result"
    }
   ],
   "source": [
    "soup.find('div', class_='navbar')"
   ]
  },
  {
   "cell_type": "code",
   "execution_count": null,
   "id": "a2ce69b7",
   "metadata": {},
   "outputs": [],
   "source": []
  },
  {
   "cell_type": "code",
   "execution_count": null,
   "id": "26930806",
   "metadata": {},
   "outputs": [],
   "source": []
  },
  {
   "cell_type": "markdown",
   "id": "84e8d7ec",
   "metadata": {},
   "source": [
    "### e. Using the `soup.find_all()` Method\n",
    "- The `soup.find_all()` method returns a list of all the tags or strings that match a particular criteria.\n",
    "\n",
    "`soup.find(name=None, attrs={}, limit, string=None, recursive=True, text=None, **kwargs)`\n",
    "\n",
    "- Where\n",
    "    - `name` is  the name of the tag to return.\n",
    "    - `attrs={}`, A dictionary of filters on attribute values.\n",
    "    - `string=None`, is used if you want to search for a text string rather than tagname\n",
    "    - `recursive=True`, If this is `True`, will perform a recursive search of all the descendents. Otherwise, only the direct children will be considered.\n",
    "    - `string=None`, is used if you want to search for a text string rather than tagname\n",
    "    - `limit`, is the number of elements to return. Defaults to all matching (`find()` method is similar to find_all() by passing the limit=1\n",
    "\n",
    "\n",
    "**Note:** The class attribute having space separated string means multiple classes, while an id attribute having space separated string means a single id whose name is having spaces in between"
   ]
  },
  {
   "cell_type": "code",
   "execution_count": 28,
   "id": "f3f85925",
   "metadata": {},
   "outputs": [
    {
     "data": {
      "text/plain": [
       "[<p class=\"price green\">Rs.2000</p>,\n",
       " <p class=\"price green\">Rs.5000</p>,\n",
       " <p class=\"price green\">Rs.6900</p>,\n",
       " <p class=\"price green\">Rs.2700</p>,\n",
       " <p class=\"price green\">Rs.1700</p>,\n",
       " <p class=\"price green\">Rs.1800</p>,\n",
       " <p class=\"price green\">Rs.6000</p>,\n",
       " <p class=\"price green\">Rs.1000</p>,\n",
       " <p class=\"price green\">Rs.1800</p>]"
      ]
     },
     "execution_count": 28,
     "metadata": {},
     "output_type": "execute_result"
    }
   ],
   "source": [
    "prices = soup.find_all('p', class_='price green')\n",
    "prices"
   ]
  },
  {
   "cell_type": "code",
   "execution_count": null,
   "id": "ae588d9a",
   "metadata": {},
   "outputs": [],
   "source": []
  },
  {
   "cell_type": "code",
   "execution_count": 29,
   "id": "90570583",
   "metadata": {},
   "outputs": [
    {
     "name": "stdout",
     "output_type": "stream",
     "text": [
      "Rs.2000\n",
      "Rs.5000\n",
      "Rs.6900\n",
      "Rs.2700\n",
      "Rs.1700\n",
      "Rs.1800\n",
      "Rs.6000\n",
      "Rs.1000\n",
      "Rs.1800\n"
     ]
    }
   ],
   "source": [
    "# Since `soup.find_all()` method returns a list of tags we can iterate through all the list values\n",
    "for price in prices:\n",
    "    print(price.text)"
   ]
  },
  {
   "cell_type": "code",
   "execution_count": null,
   "id": "54784056",
   "metadata": {},
   "outputs": [],
   "source": []
  },
  {
   "cell_type": "code",
   "execution_count": null,
   "id": "e053ca4b",
   "metadata": {},
   "outputs": [],
   "source": []
  },
  {
   "cell_type": "code",
   "execution_count": null,
   "id": "b8accea2",
   "metadata": {},
   "outputs": [],
   "source": []
  },
  {
   "cell_type": "markdown",
   "id": "5561d1ec",
   "metadata": {},
   "source": [
    "## 3. Example 1: Scraping Information from a Single Web Page:\n",
    "<h3 align=\"center\" style=\"color:green\">https://arifpucit.github.io/bss2/</h3>\n",
    "<br>\n",
    "\n",
    "- Visit above web page and scrap following six items of the nine books from the index page:\n",
    "    - Titles/Authors of the Book\n",
    "    - Links of the Book\n",
    "    - Price of the Book\n",
    "    - Availability of the Book (In-Stock or Not in Stock)\n",
    "    - Count of Reviews\n",
    "    - Star ratings"
   ]
  },
  {
   "cell_type": "code",
   "execution_count": 30,
   "id": "202ac961",
   "metadata": {},
   "outputs": [],
   "source": [
    "import requests\n",
    "from bs4 import BeautifulSoup\n",
    "import lxml"
   ]
  },
  {
   "cell_type": "code",
   "execution_count": 31,
   "id": "dba21c99",
   "metadata": {},
   "outputs": [],
   "source": [
    "resp = requests.get(\"https://arifpucit.github.io/bss2\")"
   ]
  },
  {
   "cell_type": "code",
   "execution_count": 32,
   "id": "f88d2284",
   "metadata": {},
   "outputs": [],
   "source": [
    "soup = BeautifulSoup(resp.text, 'lxml')"
   ]
  },
  {
   "cell_type": "code",
   "execution_count": null,
   "id": "afa9feb4",
   "metadata": {},
   "outputs": [],
   "source": []
  },
  {
   "cell_type": "code",
   "execution_count": null,
   "id": "c97dc06c",
   "metadata": {},
   "outputs": [],
   "source": []
  },
  {
   "cell_type": "markdown",
   "id": "bb8f9d6e",
   "metadata": {},
   "source": [
    "### a. Extract Book Title and Author Name\n",
    "- Suppose you want to get the book titles and author names of all the books. \n",
    "- Start by getting the information about the first book, once you are satisfied, then try finding information of all the books"
   ]
  },
  {
   "cell_type": "code",
   "execution_count": 33,
   "id": "a5366590",
   "metadata": {},
   "outputs": [
    {
     "data": {
      "text/plain": [
       "[<p class=\"book_name\"><a href=\"https://www.amazon.com/Operating-System-Concepts-Abridged-Companion/dp/1119456339\" target=\"_blank\">Operating System Concepts By Avi Silberschatz</a></p>,\n",
       " <p class=\"book_name\"><a href=\"https://www.google.com/search?q=Unix+the+textbook+by+mansoor&amp;rlz=1C1CHBD_enPK987PK987&amp;oq=unix+the+textbook+by+mansoor&amp;aqs=chrome.0.69i59j69i57j69i59j69i60l5.4419j0j7&amp;sourceid=chrome&amp;ie=UTF-8\" target=\"_blank\">UNIX The Textbook By Syed Mansoor Sarwar</a></p>,\n",
       " <p class=\"book_name\"><a href=\"https://www.amazon.in/Taxonomy-Ids-Arif-Butt/dp/3639294092\" target=\"_blank\">Taxonomy of IDS By Arif Butt</a></p>,\n",
       " <p class=\"book_name\"><a href=\"https://www.amazon.com/Understanding-Operating-Systems-Ann-McHoes/dp/1305674251\" target=\"_blank\">Understanding operating systems By Ida Flynn</a></p>,\n",
       " <p class=\"book_name\"><a href=\"https://www.goodreads.com/book/show/829182.Computer_Systems\" target=\"_blank\">Computer Systems  By Randal E. Bryant </a></p>,\n",
       " <p class=\"book_name\"><a href=\"https://www.amazon.com/Linux-Bible-Christopher-Negus/dp/111821854X\" target=\"_blank\">Linux bible  Book By Christopher Negus</a></p>,\n",
       " <p class=\"book_name\"><a href=\"https://www.amazon.com/dp/0321637739?tag=uuid10-20\" target=\"_blank\">Advanced Programming in the UNIX Environment  By W. Stevans</a></p>,\n",
       " <p class=\"book_name\"><a href=\"https://www.amazon.com/s?k=Operating+Systems%3A+A+Design-oriented+Approach&amp;i=stripbooks-intl-ship&amp;ref=nb_sb_noss\" target=\"_blank\">Operating Systems: A Design-oriented Approach By Charles Patrick Crowley</a></p>,\n",
       " <p class=\"book_name\"><a href=\"https://www.amazon.com/Hands-Network-Programming-programming-optimized/dp/1789349869/ref=sr_1_1?crid=11FC0M0GAFA21&amp;amp&amp;keywords=unix+network+programming+2019&amp;amp&amp;qid=1653381349&amp;amp&amp;s=books&amp;amp&amp;sprefix=unix+network+programming+2019%2Cstripbooks-intl-ship%2C356&amp;amp&amp;sr=1-1\" target=\"_blank\">Hands-On Network Programming with C  By Lewis Van Winkle</a></p>]"
      ]
     },
     "execution_count": 33,
     "metadata": {},
     "output_type": "execute_result"
    }
   ],
   "source": [
    "sp_titles = soup.find_all('p', class_=\"book_name\")\n",
    "sp_titles"
   ]
  },
  {
   "cell_type": "code",
   "execution_count": null,
   "id": "a49742d6",
   "metadata": {},
   "outputs": [],
   "source": []
  },
  {
   "cell_type": "code",
   "execution_count": null,
   "id": "8357ed0e",
   "metadata": {},
   "outputs": [],
   "source": []
  },
  {
   "cell_type": "code",
   "execution_count": 34,
   "id": "61d50a58",
   "metadata": {},
   "outputs": [
    {
     "name": "stdout",
     "output_type": "stream",
     "text": [
      "['Operating System Concepts By Avi Silberschatz', 'UNIX The Textbook By Syed Mansoor Sarwar', 'Taxonomy of IDS By Arif Butt', 'Understanding operating systems By Ida Flynn', 'Computer Systems  By Randal E. Bryant ', 'Linux bible  Book By Christopher Negus', 'Advanced Programming in the UNIX Environment  By W. Stevans', 'Operating Systems: A Design-oriented Approach By Charles Patrick Crowley', 'Hands-On Network Programming with C  By Lewis Van Winkle']\n"
     ]
    }
   ],
   "source": [
    "titles = []\n",
    "for title in sp_titles:\n",
    "    titles.append(title.text)\n",
    "print(titles)"
   ]
  },
  {
   "cell_type": "code",
   "execution_count": null,
   "id": "85adbdea",
   "metadata": {},
   "outputs": [],
   "source": []
  },
  {
   "cell_type": "code",
   "execution_count": null,
   "id": "fa4f5997",
   "metadata": {},
   "outputs": [],
   "source": []
  },
  {
   "cell_type": "markdown",
   "id": "d35bfec1",
   "metadata": {},
   "source": [
    "### b. Extract Links of Books"
   ]
  },
  {
   "cell_type": "code",
   "execution_count": 35,
   "id": "c0d07aa5",
   "metadata": {},
   "outputs": [
    {
     "data": {
      "text/plain": [
       "[<p class=\"book_name\"><a href=\"https://www.amazon.com/Operating-System-Concepts-Abridged-Companion/dp/1119456339\" target=\"_blank\">Operating System Concepts By Avi Silberschatz</a></p>,\n",
       " <p class=\"book_name\"><a href=\"https://www.google.com/search?q=Unix+the+textbook+by+mansoor&amp;rlz=1C1CHBD_enPK987PK987&amp;oq=unix+the+textbook+by+mansoor&amp;aqs=chrome.0.69i59j69i57j69i59j69i60l5.4419j0j7&amp;sourceid=chrome&amp;ie=UTF-8\" target=\"_blank\">UNIX The Textbook By Syed Mansoor Sarwar</a></p>,\n",
       " <p class=\"book_name\"><a href=\"https://www.amazon.in/Taxonomy-Ids-Arif-Butt/dp/3639294092\" target=\"_blank\">Taxonomy of IDS By Arif Butt</a></p>,\n",
       " <p class=\"book_name\"><a href=\"https://www.amazon.com/Understanding-Operating-Systems-Ann-McHoes/dp/1305674251\" target=\"_blank\">Understanding operating systems By Ida Flynn</a></p>,\n",
       " <p class=\"book_name\"><a href=\"https://www.goodreads.com/book/show/829182.Computer_Systems\" target=\"_blank\">Computer Systems  By Randal E. Bryant </a></p>,\n",
       " <p class=\"book_name\"><a href=\"https://www.amazon.com/Linux-Bible-Christopher-Negus/dp/111821854X\" target=\"_blank\">Linux bible  Book By Christopher Negus</a></p>,\n",
       " <p class=\"book_name\"><a href=\"https://www.amazon.com/dp/0321637739?tag=uuid10-20\" target=\"_blank\">Advanced Programming in the UNIX Environment  By W. Stevans</a></p>,\n",
       " <p class=\"book_name\"><a href=\"https://www.amazon.com/s?k=Operating+Systems%3A+A+Design-oriented+Approach&amp;i=stripbooks-intl-ship&amp;ref=nb_sb_noss\" target=\"_blank\">Operating Systems: A Design-oriented Approach By Charles Patrick Crowley</a></p>,\n",
       " <p class=\"book_name\"><a href=\"https://www.amazon.com/Hands-Network-Programming-programming-optimized/dp/1789349869/ref=sr_1_1?crid=11FC0M0GAFA21&amp;amp&amp;keywords=unix+network+programming+2019&amp;amp&amp;qid=1653381349&amp;amp&amp;s=books&amp;amp&amp;sprefix=unix+network+programming+2019%2Cstripbooks-intl-ship%2C356&amp;amp&amp;sr=1-1\" target=\"_blank\">Hands-On Network Programming with C  By Lewis Van Winkle</a></p>]"
      ]
     },
     "execution_count": 35,
     "metadata": {},
     "output_type": "execute_result"
    }
   ],
   "source": [
    "sp_titles = soup.find_all('p', class_=\"book_name\")\n",
    "sp_titles"
   ]
  },
  {
   "cell_type": "code",
   "execution_count": null,
   "id": "7de85b7e",
   "metadata": {},
   "outputs": [],
   "source": []
  },
  {
   "cell_type": "code",
   "execution_count": null,
   "id": "8a4640f3",
   "metadata": {},
   "outputs": [],
   "source": []
  },
  {
   "cell_type": "code",
   "execution_count": 36,
   "id": "7832a602",
   "metadata": {},
   "outputs": [
    {
     "name": "stdout",
     "output_type": "stream",
     "text": [
      "<a href=\"https://www.amazon.com/Operating-System-Concepts-Abridged-Companion/dp/1119456339\" target=\"_blank\">Operating System Concepts By Avi Silberschatz</a>\n",
      "<a href=\"https://www.google.com/search?q=Unix+the+textbook+by+mansoor&amp;rlz=1C1CHBD_enPK987PK987&amp;oq=unix+the+textbook+by+mansoor&amp;aqs=chrome.0.69i59j69i57j69i59j69i60l5.4419j0j7&amp;sourceid=chrome&amp;ie=UTF-8\" target=\"_blank\">UNIX The Textbook By Syed Mansoor Sarwar</a>\n",
      "<a href=\"https://www.amazon.in/Taxonomy-Ids-Arif-Butt/dp/3639294092\" target=\"_blank\">Taxonomy of IDS By Arif Butt</a>\n",
      "<a href=\"https://www.amazon.com/Understanding-Operating-Systems-Ann-McHoes/dp/1305674251\" target=\"_blank\">Understanding operating systems By Ida Flynn</a>\n",
      "<a href=\"https://www.goodreads.com/book/show/829182.Computer_Systems\" target=\"_blank\">Computer Systems  By Randal E. Bryant </a>\n",
      "<a href=\"https://www.amazon.com/Linux-Bible-Christopher-Negus/dp/111821854X\" target=\"_blank\">Linux bible  Book By Christopher Negus</a>\n",
      "<a href=\"https://www.amazon.com/dp/0321637739?tag=uuid10-20\" target=\"_blank\">Advanced Programming in the UNIX Environment  By W. Stevans</a>\n",
      "<a href=\"https://www.amazon.com/s?k=Operating+Systems%3A+A+Design-oriented+Approach&amp;i=stripbooks-intl-ship&amp;ref=nb_sb_noss\" target=\"_blank\">Operating Systems: A Design-oriented Approach By Charles Patrick Crowley</a>\n",
      "<a href=\"https://www.amazon.com/Hands-Network-Programming-programming-optimized/dp/1789349869/ref=sr_1_1?crid=11FC0M0GAFA21&amp;amp&amp;keywords=unix+network+programming+2019&amp;amp&amp;qid=1653381349&amp;amp&amp;s=books&amp;amp&amp;sprefix=unix+network+programming+2019%2Cstripbooks-intl-ship%2C356&amp;amp&amp;sr=1-1\" target=\"_blank\">Hands-On Network Programming with C  By Lewis Van Winkle</a>\n"
     ]
    }
   ],
   "source": [
    "for item in sp_titles:\n",
    "    print(item.find('a'))"
   ]
  },
  {
   "cell_type": "code",
   "execution_count": null,
   "id": "592fb8a0",
   "metadata": {},
   "outputs": [],
   "source": []
  },
  {
   "cell_type": "code",
   "execution_count": 37,
   "id": "77e774f4",
   "metadata": {},
   "outputs": [
    {
     "name": "stdout",
     "output_type": "stream",
     "text": [
      "https://www.amazon.com/Operating-System-Concepts-Abridged-Companion/dp/1119456339\n",
      "https://www.google.com/search?q=Unix+the+textbook+by+mansoor&rlz=1C1CHBD_enPK987PK987&oq=unix+the+textbook+by+mansoor&aqs=chrome.0.69i59j69i57j69i59j69i60l5.4419j0j7&sourceid=chrome&ie=UTF-8\n",
      "https://www.amazon.in/Taxonomy-Ids-Arif-Butt/dp/3639294092\n",
      "https://www.amazon.com/Understanding-Operating-Systems-Ann-McHoes/dp/1305674251\n",
      "https://www.goodreads.com/book/show/829182.Computer_Systems\n",
      "https://www.amazon.com/Linux-Bible-Christopher-Negus/dp/111821854X\n",
      "https://www.amazon.com/dp/0321637739?tag=uuid10-20\n",
      "https://www.amazon.com/s?k=Operating+Systems%3A+A+Design-oriented+Approach&i=stripbooks-intl-ship&ref=nb_sb_noss\n",
      "https://www.amazon.com/Hands-Network-Programming-programming-optimized/dp/1789349869/ref=sr_1_1?crid=11FC0M0GAFA21&amp&keywords=unix+network+programming+2019&amp&qid=1653381349&amp&s=books&amp&sprefix=unix+network+programming+2019%2Cstripbooks-intl-ship%2C356&amp&sr=1-1\n"
     ]
    }
   ],
   "source": [
    "for item in sp_titles:\n",
    "    print(item.find('a').get('href')) # print(item.find('a')['href'])"
   ]
  },
  {
   "cell_type": "code",
   "execution_count": null,
   "id": "e9ec290d",
   "metadata": {},
   "outputs": [],
   "source": []
  },
  {
   "cell_type": "code",
   "execution_count": null,
   "id": "4e328f01",
   "metadata": {},
   "outputs": [],
   "source": []
  },
  {
   "cell_type": "code",
   "execution_count": 38,
   "id": "e39a607b",
   "metadata": {},
   "outputs": [
    {
     "data": {
      "text/plain": [
       "['https://www.amazon.com/Operating-System-Concepts-Abridged-Companion/dp/1119456339',\n",
       " 'https://www.google.com/search?q=Unix+the+textbook+by+mansoor&rlz=1C1CHBD_enPK987PK987&oq=unix+the+textbook+by+mansoor&aqs=chrome.0.69i59j69i57j69i59j69i60l5.4419j0j7&sourceid=chrome&ie=UTF-8',\n",
       " 'https://www.amazon.in/Taxonomy-Ids-Arif-Butt/dp/3639294092',\n",
       " 'https://www.amazon.com/Understanding-Operating-Systems-Ann-McHoes/dp/1305674251',\n",
       " 'https://www.goodreads.com/book/show/829182.Computer_Systems',\n",
       " 'https://www.amazon.com/Linux-Bible-Christopher-Negus/dp/111821854X',\n",
       " 'https://www.amazon.com/dp/0321637739?tag=uuid10-20',\n",
       " 'https://www.amazon.com/s?k=Operating+Systems%3A+A+Design-oriented+Approach&i=stripbooks-intl-ship&ref=nb_sb_noss',\n",
       " 'https://www.amazon.com/Hands-Network-Programming-programming-optimized/dp/1789349869/ref=sr_1_1?crid=11FC0M0GAFA21&amp&keywords=unix+network+programming+2019&amp&qid=1653381349&amp&s=books&amp&sprefix=unix+network+programming+2019%2Cstripbooks-intl-ship%2C356&amp&sr=1-1']"
      ]
     },
     "execution_count": 38,
     "metadata": {},
     "output_type": "execute_result"
    }
   ],
   "source": [
    "links=[]\n",
    "for item in sp_titles:\n",
    "    links.append(item.find('a').get('href'))\n",
    "links"
   ]
  },
  {
   "cell_type": "code",
   "execution_count": null,
   "id": "b5c80284",
   "metadata": {},
   "outputs": [],
   "source": []
  },
  {
   "cell_type": "code",
   "execution_count": null,
   "id": "64079b57",
   "metadata": {},
   "outputs": [],
   "source": []
  },
  {
   "cell_type": "markdown",
   "id": "4007a6a8",
   "metadata": {},
   "source": [
    "### c. Extract Price"
   ]
  },
  {
   "cell_type": "code",
   "execution_count": 39,
   "id": "47898a4c",
   "metadata": {},
   "outputs": [
    {
     "data": {
      "text/plain": [
       "[<p class=\"price green\">Rs.2000</p>,\n",
       " <p class=\"price green\">Rs.5000</p>,\n",
       " <p class=\"price green\">Rs.6900</p>,\n",
       " <p class=\"price green\">Rs.2700</p>,\n",
       " <p class=\"price green\">Rs.1700</p>,\n",
       " <p class=\"price green\">Rs.1800</p>,\n",
       " <p class=\"price green\">Rs.6000</p>,\n",
       " <p class=\"price green\">Rs.1000</p>,\n",
       " <p class=\"price green\">Rs.1800</p>]"
      ]
     },
     "execution_count": 39,
     "metadata": {},
     "output_type": "execute_result"
    }
   ],
   "source": [
    "sp_prices = soup.find_all('p', class_=\"price green\")\n",
    "sp_prices"
   ]
  },
  {
   "cell_type": "code",
   "execution_count": 40,
   "id": "5915f8cc",
   "metadata": {},
   "outputs": [
    {
     "name": "stdout",
     "output_type": "stream",
     "text": [
      "['Rs.2000', 'Rs.5000', 'Rs.6900', 'Rs.2700', 'Rs.1700', 'Rs.1800', 'Rs.6000', 'Rs.1000', 'Rs.1800']\n"
     ]
    }
   ],
   "source": [
    "prices = []\n",
    "for price in sp_prices:\n",
    "    prices.append(price.text)\n",
    "print(prices)"
   ]
  },
  {
   "cell_type": "code",
   "execution_count": null,
   "id": "4f39ea7f",
   "metadata": {},
   "outputs": [],
   "source": []
  },
  {
   "cell_type": "code",
   "execution_count": null,
   "id": "c511efd3",
   "metadata": {},
   "outputs": [],
   "source": []
  },
  {
   "cell_type": "markdown",
   "id": "23683ade",
   "metadata": {},
   "source": [
    "### d. Extract Availability of Books (In-Stock or Not in Stock)"
   ]
  },
  {
   "cell_type": "code",
   "execution_count": 41,
   "id": "dbae312e",
   "metadata": {},
   "outputs": [
    {
     "data": {
      "text/plain": [
       "[<p class=\"stock in_stock\" data-stock=\"in stock\"><i aria-hidden=\"true\" class=\"fa fa-check\"></i> In stock</p>,\n",
       " <p class=\"stock in_stock\" data-stock=\"in stock\"><i aria-hidden=\"true\" class=\"fa fa-check\"></i> In stock</p>,\n",
       " <p class=\"stock not_stock\" data-stock=\"not in stock\"><i aria-hidden=\"true\" class=\"fa fa-times\"></i> Not in stock</p>,\n",
       " <p class=\"stock not_stock\" data-stock=\"not in stock\"><i aria-hidden=\"true\" class=\"fa fa-times\"></i> Not in stock</p>,\n",
       " <p class=\"stock in_stock\" data-stock=\"in stock\"><i aria-hidden=\"true\" class=\"fa fa-check\"></i> In stock</p>,\n",
       " <p class=\"stock not_stock\" data-stock=\"not in stock\"><i aria-hidden=\"true\" class=\"fa fa-times\"></i> Not in stock</p>,\n",
       " <p class=\"stock in_stock\" data-stock=\"in stock\"><i aria-hidden=\"true\" class=\"fa fa-check\"></i> In stock</p>,\n",
       " <p class=\"stock in_stock\" data-stock=\"in stock\"><i aria-hidden=\"true\" class=\"fa fa-check\"></i> In stock</p>,\n",
       " <p class=\"stock in_stock\" data-stock=\"in stock\"><i aria-hidden=\"true\" class=\"fa fa-check\"></i> In stock</p>]"
      ]
     },
     "execution_count": 41,
     "metadata": {},
     "output_type": "execute_result"
    }
   ],
   "source": [
    "sp_availability =  soup.find_all('p', class_='stock')\n",
    "sp_availability"
   ]
  },
  {
   "cell_type": "code",
   "execution_count": null,
   "id": "6dbfc3e6",
   "metadata": {},
   "outputs": [],
   "source": []
  },
  {
   "cell_type": "code",
   "execution_count": null,
   "id": "6a5056f7",
   "metadata": {},
   "outputs": [],
   "source": []
  },
  {
   "cell_type": "code",
   "execution_count": 42,
   "id": "67a4029c",
   "metadata": {},
   "outputs": [
    {
     "name": "stdout",
     "output_type": "stream",
     "text": [
      "[' In stock', ' In stock', ' Not in stock', ' Not in stock', ' In stock', ' Not in stock', ' In stock', ' In stock', ' In stock']\n"
     ]
    }
   ],
   "source": [
    "availability=[]\n",
    "for aval in sp_availability:\n",
    "    availability.append(aval.text)\n",
    "print(availability)"
   ]
  },
  {
   "cell_type": "code",
   "execution_count": null,
   "id": "91fb3d87",
   "metadata": {},
   "outputs": [],
   "source": []
  },
  {
   "cell_type": "code",
   "execution_count": null,
   "id": "46adedd6",
   "metadata": {},
   "outputs": [],
   "source": []
  },
  {
   "cell_type": "markdown",
   "id": "90ed7957",
   "metadata": {},
   "source": [
    "### e. Extract Count of Reviews"
   ]
  },
  {
   "cell_type": "code",
   "execution_count": 43,
   "id": "311205d6",
   "metadata": {},
   "outputs": [
    {
     "data": {
      "text/plain": [
       "[<p class=\"review green\" data-rating=\"20\">20 Reviews</p>,\n",
       " <p class=\"review green\" data-rating=\"100\">100 Reviews</p>,\n",
       " <p class=\"review green\" data-rating=\"20\">20 Reviews</p>,\n",
       " <p class=\"review green\" data-rating=\"60\">60 Reviews</p>,\n",
       " <p class=\"review green\" data-rating=\"25\">25 Reviews</p>,\n",
       " <p class=\"review green\" data-rating=\"21\">21 Reviews</p>,\n",
       " <p class=\"review green\" data-rating=\"40\">40 Reviews</p>,\n",
       " <p class=\"review green\" data-rating=\"90\">90 Reviews</p>,\n",
       " <p class=\"review green\" data-rating=\"70\">70 Reviews</p>]"
      ]
     },
     "execution_count": 43,
     "metadata": {},
     "output_type": "execute_result"
    }
   ],
   "source": [
    "sp_reviews = soup.find_all('p', class_='review')\n",
    "sp_reviews"
   ]
  },
  {
   "cell_type": "code",
   "execution_count": null,
   "id": "815655bf",
   "metadata": {},
   "outputs": [],
   "source": []
  },
  {
   "cell_type": "code",
   "execution_count": null,
   "id": "58250d22",
   "metadata": {},
   "outputs": [],
   "source": []
  },
  {
   "cell_type": "code",
   "execution_count": 44,
   "id": "656a3f49",
   "metadata": {},
   "outputs": [
    {
     "name": "stdout",
     "output_type": "stream",
     "text": [
      "['20', '100', '20', '60', '25', '21', '40', '90', '70']\n"
     ]
    }
   ],
   "source": [
    "reviews = []\n",
    "for review in sp_reviews:\n",
    "    reviews.append(review.get('data-rating')) ## get() method is passwed an attribute and it returns its value\n",
    "print(reviews)"
   ]
  },
  {
   "cell_type": "code",
   "execution_count": null,
   "id": "7db1a2bc",
   "metadata": {},
   "outputs": [],
   "source": []
  },
  {
   "cell_type": "code",
   "execution_count": null,
   "id": "5e1303b4",
   "metadata": {},
   "outputs": [],
   "source": []
  },
  {
   "cell_type": "markdown",
   "id": "84ceb8af",
   "metadata": {},
   "source": [
    "### f. Extract Star Ratings"
   ]
  },
  {
   "cell_type": "code",
   "execution_count": 45,
   "id": "f106443e",
   "metadata": {},
   "outputs": [
    {
     "name": "stdout",
     "output_type": "stream",
     "text": [
      "<div class=\"book_container col-sm-4\">\n",
      " <img alt=\"\" src=\"images/OS concepts.jpg\" title=\"The Linux Programming Interface (TLPI) is the definitive guide \n",
      " to the Linux and UNIX programming interface—the interface\n",
      " employed by nearly every application that runs on a \n",
      "Linux or UNIX system.\"/>\n",
      " <p class=\"book_name\">\n",
      "  <a href=\"https://www.amazon.com/Operating-System-Concepts-Abridged-Companion/dp/1119456339\" target=\"_blank\">\n",
      "   Operating System Concepts By Avi Silberschatz\n",
      "  </a>\n",
      " </p>\n",
      " <div class=\"align-left\">\n",
      "  <p class=\"price green\">\n",
      "   Rs.2000\n",
      "  </p>\n",
      "  <p class=\"stock in_stock\" data-stock=\"in stock\">\n",
      "   <i aria-hidden=\"true\" class=\"fa fa-check\">\n",
      "   </i>\n",
      "   In stock\n",
      "  </p>\n",
      "  <div>\n",
      "   <span class=\"fa fa-star\">\n",
      "   </span>\n",
      "   <span class=\"fa fa-star\">\n",
      "   </span>\n",
      "   <span class=\"fa fa-star\">\n",
      "   </span>\n",
      "   <span class=\"fa fa-star not_filled\">\n",
      "   </span>\n",
      "   <span class=\"fa fa-star not_filled\">\n",
      "   </span>\n",
      "  </div>\n",
      "  <p class=\"review green\" data-rating=\"20\">\n",
      "   20 Reviews\n",
      "  </p>\n",
      "  <button>\n",
      "   Add to cart\n",
      "  </button>\n",
      " </div>\n",
      "</div>\n",
      "\n"
     ]
    }
   ],
   "source": [
    "book = soup.find('div', class_ = 'book_container')\n",
    "print(book.prettify())"
   ]
  },
  {
   "cell_type": "code",
   "execution_count": 46,
   "id": "9b401ada",
   "metadata": {},
   "outputs": [
    {
     "data": {
      "text/plain": [
       "[<span class=\"fa fa-star not_filled\"></span>,\n",
       " <span class=\"fa fa-star not_filled\"></span>]"
      ]
     },
     "execution_count": 46,
     "metadata": {},
     "output_type": "execute_result"
    }
   ],
   "source": [
    "book.find_all('span', class_ = 'not_filled')"
   ]
  },
  {
   "cell_type": "code",
   "execution_count": 47,
   "id": "14d7d7bb",
   "metadata": {},
   "outputs": [
    {
     "data": {
      "text/plain": [
       "2"
      ]
     },
     "execution_count": 47,
     "metadata": {},
     "output_type": "execute_result"
    }
   ],
   "source": [
    "len(book.find_all('span', class_ = 'not_filled'))"
   ]
  },
  {
   "cell_type": "code",
   "execution_count": 48,
   "id": "d3999c37",
   "metadata": {},
   "outputs": [
    {
     "data": {
      "text/plain": [
       "3"
      ]
     },
     "execution_count": 48,
     "metadata": {},
     "output_type": "execute_result"
    }
   ],
   "source": [
    "5-len(book.find_all('span',{'class','not_filled'}))"
   ]
  },
  {
   "cell_type": "code",
   "execution_count": null,
   "id": "5a39acfd",
   "metadata": {},
   "outputs": [],
   "source": []
  },
  {
   "cell_type": "code",
   "execution_count": null,
   "id": "d8be20ab",
   "metadata": {},
   "outputs": [],
   "source": []
  },
  {
   "cell_type": "code",
   "execution_count": null,
   "id": "dfe7cef8",
   "metadata": {},
   "outputs": [],
   "source": []
  },
  {
   "cell_type": "code",
   "execution_count": 49,
   "id": "e50e49bd",
   "metadata": {},
   "outputs": [
    {
     "name": "stdout",
     "output_type": "stream",
     "text": [
      "[3, 5, 4, 2, 2, 1, 1, 3, 4]\n"
     ]
    }
   ],
   "source": [
    "stars = list()\n",
    "books = soup.find_all('div',{'class','book_container'})\n",
    "for book in books:\n",
    "    stars.append(5 - len(book.find_all('span',{'class','not_filled'})))\n",
    "print(stars) "
   ]
  },
  {
   "cell_type": "code",
   "execution_count": null,
   "id": "35df29ad",
   "metadata": {},
   "outputs": [],
   "source": []
  },
  {
   "cell_type": "code",
   "execution_count": null,
   "id": "c686acff",
   "metadata": {},
   "outputs": [],
   "source": []
  },
  {
   "cell_type": "code",
   "execution_count": null,
   "id": "be8260d5",
   "metadata": {},
   "outputs": [],
   "source": []
  },
  {
   "cell_type": "markdown",
   "id": "438c1c95",
   "metadata": {},
   "source": [
    "### g. Display output on screen"
   ]
  },
  {
   "cell_type": "code",
   "execution_count": 50,
   "id": "fa51ea28",
   "metadata": {},
   "outputs": [
    {
     "name": "stdout",
     "output_type": "stream",
     "text": [
      " Operating System Concepts By Avi Silberschatz\n",
      "      Link:  https://www.amazon.com/Operating-System-Concepts-Abridged-Companion/dp/1119456339\n",
      "      Price:  Rs.2000\n",
      "      Stock:   In stock\n",
      "      Reviews:  20\n",
      "      Stars:  3\n",
      " UNIX The Textbook By Syed Mansoor Sarwar\n",
      "      Link:  https://www.google.com/search?q=Unix+the+textbook+by+mansoor&rlz=1C1CHBD_enPK987PK987&oq=unix+the+textbook+by+mansoor&aqs=chrome.0.69i59j69i57j69i59j69i60l5.4419j0j7&sourceid=chrome&ie=UTF-8\n",
      "      Price:  Rs.5000\n",
      "      Stock:   In stock\n",
      "      Reviews:  100\n",
      "      Stars:  5\n",
      " Taxonomy of IDS By Arif Butt\n",
      "      Link:  https://www.amazon.in/Taxonomy-Ids-Arif-Butt/dp/3639294092\n",
      "      Price:  Rs.6900\n",
      "      Stock:   Not in stock\n",
      "      Reviews:  20\n",
      "      Stars:  4\n",
      " Understanding operating systems By Ida Flynn\n",
      "      Link:  https://www.amazon.com/Understanding-Operating-Systems-Ann-McHoes/dp/1305674251\n",
      "      Price:  Rs.2700\n",
      "      Stock:   Not in stock\n",
      "      Reviews:  60\n",
      "      Stars:  2\n",
      " Computer Systems  By Randal E. Bryant \n",
      "      Link:  https://www.goodreads.com/book/show/829182.Computer_Systems\n",
      "      Price:  Rs.1700\n",
      "      Stock:   In stock\n",
      "      Reviews:  25\n",
      "      Stars:  2\n",
      " Linux bible  Book By Christopher Negus\n",
      "      Link:  https://www.amazon.com/Linux-Bible-Christopher-Negus/dp/111821854X\n",
      "      Price:  Rs.1800\n",
      "      Stock:   Not in stock\n",
      "      Reviews:  21\n",
      "      Stars:  1\n",
      " Advanced Programming in the UNIX Environment  By W. Stevans\n",
      "      Link:  https://www.amazon.com/dp/0321637739?tag=uuid10-20\n",
      "      Price:  Rs.6000\n",
      "      Stock:   In stock\n",
      "      Reviews:  40\n",
      "      Stars:  1\n",
      " Operating Systems: A Design-oriented Approach By Charles Patrick Crowley\n",
      "      Link:  https://www.amazon.com/s?k=Operating+Systems%3A+A+Design-oriented+Approach&i=stripbooks-intl-ship&ref=nb_sb_noss\n",
      "      Price:  Rs.1000\n",
      "      Stock:   In stock\n",
      "      Reviews:  90\n",
      "      Stars:  3\n",
      " Hands-On Network Programming with C  By Lewis Van Winkle\n",
      "      Link:  https://www.amazon.com/Hands-Network-Programming-programming-optimized/dp/1789349869/ref=sr_1_1?crid=11FC0M0GAFA21&amp&keywords=unix+network+programming+2019&amp&qid=1653381349&amp&s=books&amp&sprefix=unix+network+programming+2019%2Cstripbooks-intl-ship%2C356&amp&sr=1-1\n",
      "      Price:  Rs.1800\n",
      "      Stock:   In stock\n",
      "      Reviews:  70\n",
      "      Stars:  4\n"
     ]
    }
   ],
   "source": [
    "for i in range(9):\n",
    "    print(\"\",titles[i])\n",
    "    print(\"      Link: \",links[i])\n",
    "    print(\"      Price: \",prices[i])\n",
    "    print(\"      Stock: \",availability[i])\n",
    "    print(\"      Reviews: \",reviews[i])\n",
    "    print(\"      Stars: \",stars[i])"
   ]
  },
  {
   "cell_type": "code",
   "execution_count": null,
   "id": "fe189068",
   "metadata": {},
   "outputs": [],
   "source": []
  },
  {
   "cell_type": "code",
   "execution_count": null,
   "id": "50fbd2bc",
   "metadata": {},
   "outputs": [],
   "source": []
  },
  {
   "cell_type": "markdown",
   "id": "1b697c9f",
   "metadata": {},
   "source": [
    "### h. Saving Data into a CSV File"
   ]
  },
  {
   "cell_type": "markdown",
   "id": "2f0bdc61",
   "metadata": {},
   "source": [
    "#### Option 1:"
   ]
  },
  {
   "cell_type": "code",
   "execution_count": 51,
   "id": "70a70cb3",
   "metadata": {},
   "outputs": [
    {
     "data": {
      "text/html": [
       "<div>\n",
       "<style scoped>\n",
       "    .dataframe tbody tr th:only-of-type {\n",
       "        vertical-align: middle;\n",
       "    }\n",
       "\n",
       "    .dataframe tbody tr th {\n",
       "        vertical-align: top;\n",
       "    }\n",
       "\n",
       "    .dataframe thead th {\n",
       "        text-align: right;\n",
       "    }\n",
       "</style>\n",
       "<table border=\"1\" class=\"dataframe\">\n",
       "  <thead>\n",
       "    <tr style=\"text-align: right;\">\n",
       "      <th></th>\n",
       "      <th>Title/Author</th>\n",
       "      <th>Price</th>\n",
       "      <th>Availability</th>\n",
       "      <th>Reviews</th>\n",
       "      <th>Links</th>\n",
       "      <th>Stars</th>\n",
       "    </tr>\n",
       "  </thead>\n",
       "  <tbody>\n",
       "    <tr>\n",
       "      <th>0</th>\n",
       "      <td>Operating System Concepts By Avi Silberschatz</td>\n",
       "      <td>Rs.2000</td>\n",
       "      <td>In stock</td>\n",
       "      <td>20</td>\n",
       "      <td>https://www.amazon.com/Operating-System-Concep...</td>\n",
       "      <td>3</td>\n",
       "    </tr>\n",
       "    <tr>\n",
       "      <th>1</th>\n",
       "      <td>UNIX The Textbook By Syed Mansoor Sarwar</td>\n",
       "      <td>Rs.5000</td>\n",
       "      <td>In stock</td>\n",
       "      <td>100</td>\n",
       "      <td>https://www.google.com/search?q=Unix+the+textb...</td>\n",
       "      <td>5</td>\n",
       "    </tr>\n",
       "    <tr>\n",
       "      <th>2</th>\n",
       "      <td>Taxonomy of IDS By Arif Butt</td>\n",
       "      <td>Rs.6900</td>\n",
       "      <td>Not in stock</td>\n",
       "      <td>20</td>\n",
       "      <td>https://www.amazon.in/Taxonomy-Ids-Arif-Butt/d...</td>\n",
       "      <td>4</td>\n",
       "    </tr>\n",
       "    <tr>\n",
       "      <th>3</th>\n",
       "      <td>Understanding operating systems By Ida Flynn</td>\n",
       "      <td>Rs.2700</td>\n",
       "      <td>Not in stock</td>\n",
       "      <td>60</td>\n",
       "      <td>https://www.amazon.com/Understanding-Operating...</td>\n",
       "      <td>2</td>\n",
       "    </tr>\n",
       "    <tr>\n",
       "      <th>4</th>\n",
       "      <td>Computer Systems  By Randal E. Bryant</td>\n",
       "      <td>Rs.1700</td>\n",
       "      <td>In stock</td>\n",
       "      <td>25</td>\n",
       "      <td>https://www.goodreads.com/book/show/829182.Com...</td>\n",
       "      <td>2</td>\n",
       "    </tr>\n",
       "    <tr>\n",
       "      <th>5</th>\n",
       "      <td>Linux bible  Book By Christopher Negus</td>\n",
       "      <td>Rs.1800</td>\n",
       "      <td>Not in stock</td>\n",
       "      <td>21</td>\n",
       "      <td>https://www.amazon.com/Linux-Bible-Christopher...</td>\n",
       "      <td>1</td>\n",
       "    </tr>\n",
       "    <tr>\n",
       "      <th>6</th>\n",
       "      <td>Advanced Programming in the UNIX Environment  ...</td>\n",
       "      <td>Rs.6000</td>\n",
       "      <td>In stock</td>\n",
       "      <td>40</td>\n",
       "      <td>https://www.amazon.com/dp/0321637739?tag=uuid1...</td>\n",
       "      <td>1</td>\n",
       "    </tr>\n",
       "    <tr>\n",
       "      <th>7</th>\n",
       "      <td>Operating Systems: A Design-oriented Approach ...</td>\n",
       "      <td>Rs.1000</td>\n",
       "      <td>In stock</td>\n",
       "      <td>90</td>\n",
       "      <td>https://www.amazon.com/s?k=Operating+Systems%3...</td>\n",
       "      <td>3</td>\n",
       "    </tr>\n",
       "    <tr>\n",
       "      <th>8</th>\n",
       "      <td>Hands-On Network Programming with C  By Lewis ...</td>\n",
       "      <td>Rs.1800</td>\n",
       "      <td>In stock</td>\n",
       "      <td>70</td>\n",
       "      <td>https://www.amazon.com/Hands-Network-Programmi...</td>\n",
       "      <td>4</td>\n",
       "    </tr>\n",
       "  </tbody>\n",
       "</table>\n",
       "</div>"
      ],
      "text/plain": [
       "                                        Title/Author    Price   Availability  \\\n",
       "0      Operating System Concepts By Avi Silberschatz  Rs.2000       In stock   \n",
       "1           UNIX The Textbook By Syed Mansoor Sarwar  Rs.5000       In stock   \n",
       "2                       Taxonomy of IDS By Arif Butt  Rs.6900   Not in stock   \n",
       "3       Understanding operating systems By Ida Flynn  Rs.2700   Not in stock   \n",
       "4             Computer Systems  By Randal E. Bryant   Rs.1700       In stock   \n",
       "5             Linux bible  Book By Christopher Negus  Rs.1800   Not in stock   \n",
       "6  Advanced Programming in the UNIX Environment  ...  Rs.6000       In stock   \n",
       "7  Operating Systems: A Design-oriented Approach ...  Rs.1000       In stock   \n",
       "8  Hands-On Network Programming with C  By Lewis ...  Rs.1800       In stock   \n",
       "\n",
       "   Reviews                                              Links  Stars  \n",
       "0       20  https://www.amazon.com/Operating-System-Concep...      3  \n",
       "1      100  https://www.google.com/search?q=Unix+the+textb...      5  \n",
       "2       20  https://www.amazon.in/Taxonomy-Ids-Arif-Butt/d...      4  \n",
       "3       60  https://www.amazon.com/Understanding-Operating...      2  \n",
       "4       25  https://www.goodreads.com/book/show/829182.Com...      2  \n",
       "5       21  https://www.amazon.com/Linux-Bible-Christopher...      1  \n",
       "6       40  https://www.amazon.com/dp/0321637739?tag=uuid1...      1  \n",
       "7       90  https://www.amazon.com/s?k=Operating+Systems%3...      3  \n",
       "8       70  https://www.amazon.com/Hands-Network-Programmi...      4  "
      ]
     },
     "execution_count": 51,
     "metadata": {},
     "output_type": "execute_result"
    }
   ],
   "source": [
    "import pandas as pd\n",
    "data = {'Title/Author':titles, 'Price':prices, 'Availability':availability, \n",
    "        'Reviews':reviews, 'Links':links, 'Stars':stars}\n",
    "\n",
    "df = pd.DataFrame(data, columns=['Title/Author', 'Price', 'Availability', 'Reviews', 'Links', 'Stars'])\n",
    "df.to_csv('books1.csv', index=False)\n",
    "df = pd.read_csv('books1.csv')\n",
    "df"
   ]
  },
  {
   "cell_type": "code",
   "execution_count": null,
   "id": "587409f2",
   "metadata": {},
   "outputs": [],
   "source": []
  },
  {
   "cell_type": "code",
   "execution_count": null,
   "id": "ee23f093",
   "metadata": {},
   "outputs": [],
   "source": []
  },
  {
   "cell_type": "code",
   "execution_count": 52,
   "id": "0110a75b",
   "metadata": {},
   "outputs": [
    {
     "name": "stdout",
     "output_type": "stream",
     "text": [
      "Help on module csv:\n",
      "\n",
      "NAME\n",
      "    csv - CSV parsing and writing.\n",
      "\n",
      "MODULE REFERENCE\n",
      "    https://docs.python.org/3.10/library/csv.html\n",
      "    \n",
      "    The following documentation is automatically generated from the Python\n",
      "    source files.  It may be incomplete, incorrect or include features that\n",
      "    are considered implementation detail and may vary between Python\n",
      "    implementations.  When in doubt, consult the module reference at the\n",
      "    location listed above.\n",
      "\n",
      "DESCRIPTION\n",
      "    This module provides classes that assist in the reading and writing\n",
      "    of Comma Separated Value (CSV) files, and implements the interface\n",
      "    described by PEP 305.  Although many CSV files are simple to parse,\n",
      "    the format is not formally defined by a stable specification and\n",
      "    is subtle enough that parsing lines of a CSV file with something\n",
      "    like line.split(\",\") is bound to fail.  The module supports three\n",
      "    basic APIs: reading, writing, and registration of dialects.\n",
      "    \n",
      "    \n",
      "    DIALECT REGISTRATION:\n",
      "    \n",
      "    Readers and writers support a dialect argument, which is a convenient\n",
      "    handle on a group of settings.  When the dialect argument is a string,\n",
      "    it identifies one of the dialects previously registered with the module.\n",
      "    If it is a class or instance, the attributes of the argument are used as\n",
      "    the settings for the reader or writer:\n",
      "    \n",
      "        class excel:\n",
      "            delimiter = ','\n",
      "            quotechar = '\"'\n",
      "            escapechar = None\n",
      "            doublequote = True\n",
      "            skipinitialspace = False\n",
      "            lineterminator = '\\r\\n'\n",
      "            quoting = QUOTE_MINIMAL\n",
      "    \n",
      "    SETTINGS:\n",
      "    \n",
      "        * quotechar - specifies a one-character string to use as the\n",
      "            quoting character.  It defaults to '\"'.\n",
      "        * delimiter - specifies a one-character string to use as the\n",
      "            field separator.  It defaults to ','.\n",
      "        * skipinitialspace - specifies how to interpret whitespace which\n",
      "            immediately follows a delimiter.  It defaults to False, which\n",
      "            means that whitespace immediately following a delimiter is part\n",
      "            of the following field.\n",
      "        * lineterminator -  specifies the character sequence which should\n",
      "            terminate rows.\n",
      "        * quoting - controls when quotes should be generated by the writer.\n",
      "            It can take on any of the following module constants:\n",
      "    \n",
      "            csv.QUOTE_MINIMAL means only when required, for example, when a\n",
      "                field contains either the quotechar or the delimiter\n",
      "            csv.QUOTE_ALL means that quotes are always placed around fields.\n",
      "            csv.QUOTE_NONNUMERIC means that quotes are always placed around\n",
      "                fields which do not parse as integers or floating point\n",
      "                numbers.\n",
      "            csv.QUOTE_NONE means that quotes are never placed around fields.\n",
      "        * escapechar - specifies a one-character string used to escape\n",
      "            the delimiter when quoting is set to QUOTE_NONE.\n",
      "        * doublequote - controls the handling of quotes inside fields.  When\n",
      "            True, two consecutive quotes are interpreted as one during read,\n",
      "            and when writing, each quote character embedded in the data is\n",
      "            written as two quotes\n",
      "\n",
      "CLASSES\n",
      "    builtins.Exception(builtins.BaseException)\n",
      "        _csv.Error\n",
      "    builtins.object\n",
      "        Dialect\n",
      "            excel\n",
      "                excel_tab\n",
      "            unix_dialect\n",
      "        DictReader\n",
      "        DictWriter\n",
      "        Sniffer\n",
      "    \n",
      "    class Dialect(builtins.object)\n",
      "     |  Describe a CSV dialect.\n",
      "     |  \n",
      "     |  This must be subclassed (see csv.excel).  Valid attributes are:\n",
      "     |  delimiter, quotechar, escapechar, doublequote, skipinitialspace,\n",
      "     |  lineterminator, quoting.\n",
      "     |  \n",
      "     |  Methods defined here:\n",
      "     |  \n",
      "     |  __init__(self)\n",
      "     |      Initialize self.  See help(type(self)) for accurate signature.\n",
      "     |  \n",
      "     |  ----------------------------------------------------------------------\n",
      "     |  Data descriptors defined here:\n",
      "     |  \n",
      "     |  __dict__\n",
      "     |      dictionary for instance variables (if defined)\n",
      "     |  \n",
      "     |  __weakref__\n",
      "     |      list of weak references to the object (if defined)\n",
      "     |  \n",
      "     |  ----------------------------------------------------------------------\n",
      "     |  Data and other attributes defined here:\n",
      "     |  \n",
      "     |  delimiter = None\n",
      "     |  \n",
      "     |  doublequote = None\n",
      "     |  \n",
      "     |  escapechar = None\n",
      "     |  \n",
      "     |  lineterminator = None\n",
      "     |  \n",
      "     |  quotechar = None\n",
      "     |  \n",
      "     |  quoting = None\n",
      "     |  \n",
      "     |  skipinitialspace = None\n",
      "    \n",
      "    class DictReader(builtins.object)\n",
      "     |  DictReader(f, fieldnames=None, restkey=None, restval=None, dialect='excel', *args, **kwds)\n",
      "     |  \n",
      "     |  Methods defined here:\n",
      "     |  \n",
      "     |  __init__(self, f, fieldnames=None, restkey=None, restval=None, dialect='excel', *args, **kwds)\n",
      "     |      Initialize self.  See help(type(self)) for accurate signature.\n",
      "     |  \n",
      "     |  __iter__(self)\n",
      "     |  \n",
      "     |  __next__(self)\n",
      "     |  \n",
      "     |  ----------------------------------------------------------------------\n",
      "     |  Data descriptors defined here:\n",
      "     |  \n",
      "     |  __dict__\n",
      "     |      dictionary for instance variables (if defined)\n",
      "     |  \n",
      "     |  __weakref__\n",
      "     |      list of weak references to the object (if defined)\n",
      "     |  \n",
      "     |  fieldnames\n",
      "    \n",
      "    class DictWriter(builtins.object)\n",
      "     |  DictWriter(f, fieldnames, restval='', extrasaction='raise', dialect='excel', *args, **kwds)\n",
      "     |  \n",
      "     |  Methods defined here:\n",
      "     |  \n",
      "     |  __init__(self, f, fieldnames, restval='', extrasaction='raise', dialect='excel', *args, **kwds)\n",
      "     |      Initialize self.  See help(type(self)) for accurate signature.\n",
      "     |  \n",
      "     |  writeheader(self)\n",
      "     |  \n",
      "     |  writerow(self, rowdict)\n",
      "     |  \n",
      "     |  writerows(self, rowdicts)\n",
      "     |  \n",
      "     |  ----------------------------------------------------------------------\n",
      "     |  Data descriptors defined here:\n",
      "     |  \n",
      "     |  __dict__\n",
      "     |      dictionary for instance variables (if defined)\n",
      "     |  \n",
      "     |  __weakref__\n",
      "     |      list of weak references to the object (if defined)\n",
      "    \n",
      "    class Error(builtins.Exception)\n",
      "     |  Method resolution order:\n",
      "     |      Error\n",
      "     |      builtins.Exception\n",
      "     |      builtins.BaseException\n",
      "     |      builtins.object\n",
      "     |  \n",
      "     |  Methods inherited from builtins.Exception:\n",
      "     |  \n",
      "     |  __init__(self, /, *args, **kwargs)\n",
      "     |      Initialize self.  See help(type(self)) for accurate signature.\n",
      "     |  \n",
      "     |  ----------------------------------------------------------------------\n",
      "     |  Static methods inherited from builtins.Exception:\n",
      "     |  \n",
      "     |  __new__(*args, **kwargs) from builtins.type\n",
      "     |      Create and return a new object.  See help(type) for accurate signature.\n",
      "     |  \n",
      "     |  ----------------------------------------------------------------------\n",
      "     |  Methods inherited from builtins.BaseException:\n",
      "     |  \n",
      "     |  __delattr__(self, name, /)\n",
      "     |      Implement delattr(self, name).\n",
      "     |  \n",
      "     |  __getattribute__(self, name, /)\n",
      "     |      Return getattr(self, name).\n",
      "     |  \n",
      "     |  __reduce__(...)\n",
      "     |      Helper for pickle.\n",
      "     |  \n",
      "     |  __repr__(self, /)\n",
      "     |      Return repr(self).\n",
      "     |  \n",
      "     |  __setattr__(self, name, value, /)\n",
      "     |      Implement setattr(self, name, value).\n",
      "     |  \n",
      "     |  __setstate__(...)\n",
      "     |  \n",
      "     |  __str__(self, /)\n",
      "     |      Return str(self).\n",
      "     |  \n",
      "     |  with_traceback(...)\n",
      "     |      Exception.with_traceback(tb) --\n",
      "     |      set self.__traceback__ to tb and return self.\n",
      "     |  \n",
      "     |  ----------------------------------------------------------------------\n",
      "     |  Data descriptors inherited from builtins.BaseException:\n",
      "     |  \n",
      "     |  __cause__\n",
      "     |      exception cause\n",
      "     |  \n",
      "     |  __context__\n",
      "     |      exception context\n",
      "     |  \n",
      "     |  __dict__\n",
      "     |  \n",
      "     |  __suppress_context__\n",
      "     |  \n",
      "     |  __traceback__\n",
      "     |  \n",
      "     |  args\n",
      "    \n",
      "    class Sniffer(builtins.object)\n",
      "     |  \"Sniffs\" the format of a CSV file (i.e. delimiter, quotechar)\n",
      "     |  Returns a Dialect object.\n",
      "     |  \n",
      "     |  Methods defined here:\n",
      "     |  \n",
      "     |  __init__(self)\n",
      "     |      Initialize self.  See help(type(self)) for accurate signature.\n",
      "     |  \n",
      "     |  has_header(self, sample)\n",
      "     |  \n",
      "     |  sniff(self, sample, delimiters=None)\n",
      "     |      Returns a dialect (or None) corresponding to the sample\n",
      "     |  \n",
      "     |  ----------------------------------------------------------------------\n",
      "     |  Data descriptors defined here:\n",
      "     |  \n",
      "     |  __dict__\n",
      "     |      dictionary for instance variables (if defined)\n",
      "     |  \n",
      "     |  __weakref__\n",
      "     |      list of weak references to the object (if defined)\n",
      "    \n",
      "    class excel(Dialect)\n",
      "     |  Describe the usual properties of Excel-generated CSV files.\n",
      "     |  \n",
      "     |  Method resolution order:\n",
      "     |      excel\n",
      "     |      Dialect\n",
      "     |      builtins.object\n",
      "     |  \n",
      "     |  Data and other attributes defined here:\n",
      "     |  \n",
      "     |  delimiter = ','\n",
      "     |  \n",
      "     |  doublequote = True\n",
      "     |  \n",
      "     |  lineterminator = '\\r\\n'\n",
      "     |  \n",
      "     |  quotechar = '\"'\n",
      "     |  \n",
      "     |  quoting = 0\n",
      "     |  \n",
      "     |  skipinitialspace = False\n",
      "     |  \n",
      "     |  ----------------------------------------------------------------------\n",
      "     |  Methods inherited from Dialect:\n",
      "     |  \n",
      "     |  __init__(self)\n",
      "     |      Initialize self.  See help(type(self)) for accurate signature.\n",
      "     |  \n",
      "     |  ----------------------------------------------------------------------\n",
      "     |  Data descriptors inherited from Dialect:\n",
      "     |  \n",
      "     |  __dict__\n",
      "     |      dictionary for instance variables (if defined)\n",
      "     |  \n",
      "     |  __weakref__\n",
      "     |      list of weak references to the object (if defined)\n",
      "     |  \n",
      "     |  ----------------------------------------------------------------------\n",
      "     |  Data and other attributes inherited from Dialect:\n",
      "     |  \n",
      "     |  escapechar = None\n",
      "    \n",
      "    class excel_tab(excel)\n",
      "     |  Describe the usual properties of Excel-generated TAB-delimited files.\n",
      "     |  \n",
      "     |  Method resolution order:\n",
      "     |      excel_tab\n",
      "     |      excel\n",
      "     |      Dialect\n",
      "     |      builtins.object\n",
      "     |  \n",
      "     |  Data and other attributes defined here:\n",
      "     |  \n",
      "     |  delimiter = '\\t'\n",
      "     |  \n",
      "     |  ----------------------------------------------------------------------\n",
      "     |  Data and other attributes inherited from excel:\n",
      "     |  \n",
      "     |  doublequote = True\n",
      "     |  \n",
      "     |  lineterminator = '\\r\\n'\n",
      "     |  \n",
      "     |  quotechar = '\"'\n",
      "     |  \n",
      "     |  quoting = 0\n",
      "     |  \n",
      "     |  skipinitialspace = False\n",
      "     |  \n",
      "     |  ----------------------------------------------------------------------\n",
      "     |  Methods inherited from Dialect:\n",
      "     |  \n",
      "     |  __init__(self)\n",
      "     |      Initialize self.  See help(type(self)) for accurate signature.\n",
      "     |  \n",
      "     |  ----------------------------------------------------------------------\n",
      "     |  Data descriptors inherited from Dialect:\n",
      "     |  \n",
      "     |  __dict__\n",
      "     |      dictionary for instance variables (if defined)\n",
      "     |  \n",
      "     |  __weakref__\n",
      "     |      list of weak references to the object (if defined)\n",
      "     |  \n",
      "     |  ----------------------------------------------------------------------\n",
      "     |  Data and other attributes inherited from Dialect:\n",
      "     |  \n",
      "     |  escapechar = None\n",
      "    \n",
      "    class unix_dialect(Dialect)\n",
      "     |  Describe the usual properties of Unix-generated CSV files.\n",
      "     |  \n",
      "     |  Method resolution order:\n",
      "     |      unix_dialect\n",
      "     |      Dialect\n",
      "     |      builtins.object\n",
      "     |  \n",
      "     |  Data and other attributes defined here:\n",
      "     |  \n",
      "     |  delimiter = ','\n",
      "     |  \n",
      "     |  doublequote = True\n",
      "     |  \n",
      "     |  lineterminator = '\\n'\n",
      "     |  \n",
      "     |  quotechar = '\"'\n",
      "     |  \n",
      "     |  quoting = 1\n",
      "     |  \n",
      "     |  skipinitialspace = False\n",
      "     |  \n",
      "     |  ----------------------------------------------------------------------\n",
      "     |  Methods inherited from Dialect:\n",
      "     |  \n",
      "     |  __init__(self)\n",
      "     |      Initialize self.  See help(type(self)) for accurate signature.\n",
      "     |  \n",
      "     |  ----------------------------------------------------------------------\n",
      "     |  Data descriptors inherited from Dialect:\n",
      "     |  \n",
      "     |  __dict__\n",
      "     |      dictionary for instance variables (if defined)\n",
      "     |  \n",
      "     |  __weakref__\n",
      "     |      list of weak references to the object (if defined)\n",
      "     |  \n",
      "     |  ----------------------------------------------------------------------\n",
      "     |  Data and other attributes inherited from Dialect:\n",
      "     |  \n",
      "     |  escapechar = None\n",
      "\n",
      "FUNCTIONS\n",
      "    field_size_limit(...)\n",
      "        Sets an upper limit on parsed fields.\n",
      "            csv.field_size_limit([limit])\n",
      "        \n",
      "        Returns old limit. If limit is not given, no new limit is set and\n",
      "        the old limit is returned\n",
      "    \n",
      "    get_dialect(...)\n",
      "        Return the dialect instance associated with name.\n",
      "        dialect = csv.get_dialect(name)\n",
      "    \n",
      "    list_dialects(...)\n",
      "        Return a list of all know dialect names.\n",
      "        names = csv.list_dialects()\n",
      "    \n",
      "    reader(...)\n",
      "        csv_reader = reader(iterable [, dialect='excel']\n",
      "                                [optional keyword args])\n",
      "            for row in csv_reader:\n",
      "                process(row)\n",
      "        \n",
      "        The \"iterable\" argument can be any object that returns a line\n",
      "        of input for each iteration, such as a file object or a list.  The\n",
      "        optional \"dialect\" parameter is discussed below.  The function\n",
      "        also accepts optional keyword arguments which override settings\n",
      "        provided by the dialect.\n",
      "        \n",
      "        The returned object is an iterator.  Each iteration returns a row\n",
      "        of the CSV file (which can span multiple input lines).\n",
      "    \n",
      "    register_dialect(...)\n",
      "        Create a mapping from a string name to a dialect class.\n",
      "        dialect = csv.register_dialect(name[, dialect[, **fmtparams]])\n",
      "    \n",
      "    unregister_dialect(...)\n",
      "        Delete the name/dialect mapping associated with a string name.\n",
      "        csv.unregister_dialect(name)\n",
      "    \n",
      "    writer(...)\n",
      "        csv_writer = csv.writer(fileobj [, dialect='excel']\n",
      "                                    [optional keyword args])\n",
      "            for row in sequence:\n",
      "                csv_writer.writerow(row)\n",
      "        \n",
      "            [or]\n",
      "        \n",
      "            csv_writer = csv.writer(fileobj [, dialect='excel']\n",
      "                                    [optional keyword args])\n",
      "            csv_writer.writerows(rows)\n",
      "        \n",
      "        The \"fileobj\" argument can be any object that supports the file API.\n",
      "\n",
      "DATA\n",
      "    QUOTE_ALL = 1\n",
      "    QUOTE_MINIMAL = 0\n",
      "    QUOTE_NONE = 3\n",
      "    QUOTE_NONNUMERIC = 2\n",
      "    __all__ = ['QUOTE_MINIMAL', 'QUOTE_ALL', 'QUOTE_NONNUMERIC', 'QUOTE_NO...\n",
      "\n",
      "VERSION\n",
      "    1.0\n",
      "\n",
      "FILE\n",
      "    /Library/Frameworks/Python.framework/Versions/3.10/lib/python3.10/csv.py\n",
      "\n",
      "\n"
     ]
    }
   ],
   "source": [
    "import csv\n",
    "help(csv)"
   ]
  },
  {
   "cell_type": "markdown",
   "id": "7a94121e",
   "metadata": {},
   "source": [
    "#### Option 2:"
   ]
  },
  {
   "cell_type": "code",
   "execution_count": 53,
   "id": "9aca138f",
   "metadata": {},
   "outputs": [
    {
     "data": {
      "text/html": [
       "<div>\n",
       "<style scoped>\n",
       "    .dataframe tbody tr th:only-of-type {\n",
       "        vertical-align: middle;\n",
       "    }\n",
       "\n",
       "    .dataframe tbody tr th {\n",
       "        vertical-align: top;\n",
       "    }\n",
       "\n",
       "    .dataframe thead th {\n",
       "        text-align: right;\n",
       "    }\n",
       "</style>\n",
       "<table border=\"1\" class=\"dataframe\">\n",
       "  <thead>\n",
       "    <tr style=\"text-align: right;\">\n",
       "      <th></th>\n",
       "      <th>Title/Author</th>\n",
       "      <th>Price</th>\n",
       "      <th>Availability</th>\n",
       "      <th>Reviews</th>\n",
       "      <th>Links</th>\n",
       "      <th>Stars</th>\n",
       "    </tr>\n",
       "  </thead>\n",
       "  <tbody>\n",
       "    <tr>\n",
       "      <th>0</th>\n",
       "      <td>Operating System Concepts By Avi Silberschatz</td>\n",
       "      <td>Rs.2000</td>\n",
       "      <td>In stock</td>\n",
       "      <td>20</td>\n",
       "      <td>https://www.amazon.com/Operating-System-Concep...</td>\n",
       "      <td>3</td>\n",
       "    </tr>\n",
       "    <tr>\n",
       "      <th>1</th>\n",
       "      <td>UNIX The Textbook By Syed Mansoor Sarwar</td>\n",
       "      <td>Rs.5000</td>\n",
       "      <td>In stock</td>\n",
       "      <td>100</td>\n",
       "      <td>https://www.google.com/search?q=Unix+the+textb...</td>\n",
       "      <td>5</td>\n",
       "    </tr>\n",
       "    <tr>\n",
       "      <th>2</th>\n",
       "      <td>Taxonomy of IDS By Arif Butt</td>\n",
       "      <td>Rs.6900</td>\n",
       "      <td>Not in stock</td>\n",
       "      <td>20</td>\n",
       "      <td>https://www.amazon.in/Taxonomy-Ids-Arif-Butt/d...</td>\n",
       "      <td>4</td>\n",
       "    </tr>\n",
       "    <tr>\n",
       "      <th>3</th>\n",
       "      <td>Understanding operating systems By Ida Flynn</td>\n",
       "      <td>Rs.2700</td>\n",
       "      <td>Not in stock</td>\n",
       "      <td>60</td>\n",
       "      <td>https://www.amazon.com/Understanding-Operating...</td>\n",
       "      <td>2</td>\n",
       "    </tr>\n",
       "    <tr>\n",
       "      <th>4</th>\n",
       "      <td>Computer Systems  By Randal E. Bryant</td>\n",
       "      <td>Rs.1700</td>\n",
       "      <td>In stock</td>\n",
       "      <td>25</td>\n",
       "      <td>https://www.goodreads.com/book/show/829182.Com...</td>\n",
       "      <td>2</td>\n",
       "    </tr>\n",
       "    <tr>\n",
       "      <th>5</th>\n",
       "      <td>Linux bible  Book By Christopher Negus</td>\n",
       "      <td>Rs.1800</td>\n",
       "      <td>Not in stock</td>\n",
       "      <td>21</td>\n",
       "      <td>https://www.amazon.com/Linux-Bible-Christopher...</td>\n",
       "      <td>1</td>\n",
       "    </tr>\n",
       "    <tr>\n",
       "      <th>6</th>\n",
       "      <td>Advanced Programming in the UNIX Environment  ...</td>\n",
       "      <td>Rs.6000</td>\n",
       "      <td>In stock</td>\n",
       "      <td>40</td>\n",
       "      <td>https://www.amazon.com/dp/0321637739?tag=uuid1...</td>\n",
       "      <td>1</td>\n",
       "    </tr>\n",
       "    <tr>\n",
       "      <th>7</th>\n",
       "      <td>Operating Systems: A Design-oriented Approach ...</td>\n",
       "      <td>Rs.1000</td>\n",
       "      <td>In stock</td>\n",
       "      <td>90</td>\n",
       "      <td>https://www.amazon.com/s?k=Operating+Systems%3...</td>\n",
       "      <td>3</td>\n",
       "    </tr>\n",
       "    <tr>\n",
       "      <th>8</th>\n",
       "      <td>Hands-On Network Programming with C  By Lewis ...</td>\n",
       "      <td>Rs.1800</td>\n",
       "      <td>In stock</td>\n",
       "      <td>70</td>\n",
       "      <td>https://www.amazon.com/Hands-Network-Programmi...</td>\n",
       "      <td>4</td>\n",
       "    </tr>\n",
       "  </tbody>\n",
       "</table>\n",
       "</div>"
      ],
      "text/plain": [
       "                                        Title/Author    Price   Availability  \\\n",
       "0      Operating System Concepts By Avi Silberschatz  Rs.2000       In stock   \n",
       "1           UNIX The Textbook By Syed Mansoor Sarwar  Rs.5000       In stock   \n",
       "2                       Taxonomy of IDS By Arif Butt  Rs.6900   Not in stock   \n",
       "3       Understanding operating systems By Ida Flynn  Rs.2700   Not in stock   \n",
       "4             Computer Systems  By Randal E. Bryant   Rs.1700       In stock   \n",
       "5             Linux bible  Book By Christopher Negus  Rs.1800   Not in stock   \n",
       "6  Advanced Programming in the UNIX Environment  ...  Rs.6000       In stock   \n",
       "7  Operating Systems: A Design-oriented Approach ...  Rs.1000       In stock   \n",
       "8  Hands-On Network Programming with C  By Lewis ...  Rs.1800       In stock   \n",
       "\n",
       "   Reviews                                              Links  Stars  \n",
       "0       20  https://www.amazon.com/Operating-System-Concep...      3  \n",
       "1      100  https://www.google.com/search?q=Unix+the+textb...      5  \n",
       "2       20  https://www.amazon.in/Taxonomy-Ids-Arif-Butt/d...      4  \n",
       "3       60  https://www.amazon.com/Understanding-Operating...      2  \n",
       "4       25  https://www.goodreads.com/book/show/829182.Com...      2  \n",
       "5       21  https://www.amazon.com/Linux-Bible-Christopher...      1  \n",
       "6       40  https://www.amazon.com/dp/0321637739?tag=uuid1...      1  \n",
       "7       90  https://www.amazon.com/s?k=Operating+Systems%3...      3  \n",
       "8       70  https://www.amazon.com/Hands-Network-Programmi...      4  "
      ]
     },
     "execution_count": 53,
     "metadata": {},
     "output_type": "execute_result"
    }
   ],
   "source": [
    "import csv\n",
    "import pandas as pd\n",
    "\n",
    "fd = open('books2.csv', 'wt')\n",
    "csv_writer = csv.writer(fd)\n",
    "\n",
    "csv_writer.writerow(['Title/Author', 'Price', 'Availability', 'Reviews', 'Links', 'Stars'])\n",
    "\n",
    "for i in range(len(titles)):\n",
    "    csv_writer.writerow([titles[i], prices[i], availability[i], reviews[i], links[i], stars[i]])\n",
    "\n",
    "fd.close()\n",
    "df = pd.read_csv('books2.csv')\n",
    "df"
   ]
  },
  {
   "cell_type": "code",
   "execution_count": null,
   "id": "995b231a",
   "metadata": {},
   "outputs": [],
   "source": []
  },
  {
   "cell_type": "code",
   "execution_count": null,
   "id": "03cc1898",
   "metadata": {},
   "outputs": [],
   "source": []
  },
  {
   "cell_type": "markdown",
   "id": "0774e21c",
   "metadata": {},
   "source": [
    "### i. Consolidating in a Single Script"
   ]
  },
  {
   "cell_type": "code",
   "execution_count": 54,
   "id": "02707ba1",
   "metadata": {},
   "outputs": [
    {
     "data": {
      "text/html": [
       "<div>\n",
       "<style scoped>\n",
       "    .dataframe tbody tr th:only-of-type {\n",
       "        vertical-align: middle;\n",
       "    }\n",
       "\n",
       "    .dataframe tbody tr th {\n",
       "        vertical-align: top;\n",
       "    }\n",
       "\n",
       "    .dataframe thead th {\n",
       "        text-align: right;\n",
       "    }\n",
       "</style>\n",
       "<table border=\"1\" class=\"dataframe\">\n",
       "  <thead>\n",
       "    <tr style=\"text-align: right;\">\n",
       "      <th></th>\n",
       "      <th>Title/Author</th>\n",
       "      <th>Price</th>\n",
       "      <th>Availability</th>\n",
       "      <th>Reviews</th>\n",
       "      <th>Links</th>\n",
       "      <th>Stars</th>\n",
       "    </tr>\n",
       "  </thead>\n",
       "  <tbody>\n",
       "    <tr>\n",
       "      <th>0</th>\n",
       "      <td>Operating System Concepts By Avi Silberschatz</td>\n",
       "      <td>Rs.2000</td>\n",
       "      <td>In stock</td>\n",
       "      <td>20 Reviews</td>\n",
       "      <td>https://www.amazon.com/Operating-System-Concep...</td>\n",
       "      <td>3</td>\n",
       "    </tr>\n",
       "    <tr>\n",
       "      <th>1</th>\n",
       "      <td>UNIX The Textbook By Syed Mansoor Sarwar</td>\n",
       "      <td>Rs.5000</td>\n",
       "      <td>In stock</td>\n",
       "      <td>100 Reviews</td>\n",
       "      <td>https://www.google.com/search?q=Unix+the+textb...</td>\n",
       "      <td>5</td>\n",
       "    </tr>\n",
       "    <tr>\n",
       "      <th>2</th>\n",
       "      <td>Taxonomy of IDS By Arif Butt</td>\n",
       "      <td>Rs.6900</td>\n",
       "      <td>Not in stock</td>\n",
       "      <td>20 Reviews</td>\n",
       "      <td>https://www.amazon.in/Taxonomy-Ids-Arif-Butt/d...</td>\n",
       "      <td>4</td>\n",
       "    </tr>\n",
       "    <tr>\n",
       "      <th>3</th>\n",
       "      <td>Understanding operating systems By Ida Flynn</td>\n",
       "      <td>Rs.2700</td>\n",
       "      <td>Not in stock</td>\n",
       "      <td>60 Reviews</td>\n",
       "      <td>https://www.amazon.com/Understanding-Operating...</td>\n",
       "      <td>2</td>\n",
       "    </tr>\n",
       "    <tr>\n",
       "      <th>4</th>\n",
       "      <td>Computer Systems  By Randal E. Bryant</td>\n",
       "      <td>Rs.1700</td>\n",
       "      <td>In stock</td>\n",
       "      <td>25 Reviews</td>\n",
       "      <td>https://www.goodreads.com/book/show/829182.Com...</td>\n",
       "      <td>2</td>\n",
       "    </tr>\n",
       "    <tr>\n",
       "      <th>5</th>\n",
       "      <td>Linux bible  Book By Christopher Negus</td>\n",
       "      <td>Rs.1800</td>\n",
       "      <td>Not in stock</td>\n",
       "      <td>21 Reviews</td>\n",
       "      <td>https://www.amazon.com/Linux-Bible-Christopher...</td>\n",
       "      <td>1</td>\n",
       "    </tr>\n",
       "    <tr>\n",
       "      <th>6</th>\n",
       "      <td>Advanced Programming in the UNIX Environment  ...</td>\n",
       "      <td>Rs.6000</td>\n",
       "      <td>In stock</td>\n",
       "      <td>40 Reviews</td>\n",
       "      <td>https://www.amazon.com/dp/0321637739?tag=uuid1...</td>\n",
       "      <td>1</td>\n",
       "    </tr>\n",
       "    <tr>\n",
       "      <th>7</th>\n",
       "      <td>Operating Systems: A Design-oriented Approach ...</td>\n",
       "      <td>Rs.1000</td>\n",
       "      <td>In stock</td>\n",
       "      <td>90 Reviews</td>\n",
       "      <td>https://www.amazon.com/s?k=Operating+Systems%3...</td>\n",
       "      <td>3</td>\n",
       "    </tr>\n",
       "    <tr>\n",
       "      <th>8</th>\n",
       "      <td>Hands-On Network Programming with C  By Lewis ...</td>\n",
       "      <td>Rs.1800</td>\n",
       "      <td>In stock</td>\n",
       "      <td>70 Reviews</td>\n",
       "      <td>https://www.amazon.com/Hands-Network-Programmi...</td>\n",
       "      <td>4</td>\n",
       "    </tr>\n",
       "  </tbody>\n",
       "</table>\n",
       "</div>"
      ],
      "text/plain": [
       "                                        Title/Author    Price   Availability  \\\n",
       "0      Operating System Concepts By Avi Silberschatz  Rs.2000       In stock   \n",
       "1           UNIX The Textbook By Syed Mansoor Sarwar  Rs.5000       In stock   \n",
       "2                       Taxonomy of IDS By Arif Butt  Rs.6900   Not in stock   \n",
       "3       Understanding operating systems By Ida Flynn  Rs.2700   Not in stock   \n",
       "4             Computer Systems  By Randal E. Bryant   Rs.1700       In stock   \n",
       "5             Linux bible  Book By Christopher Negus  Rs.1800   Not in stock   \n",
       "6  Advanced Programming in the UNIX Environment  ...  Rs.6000       In stock   \n",
       "7  Operating Systems: A Design-oriented Approach ...  Rs.1000       In stock   \n",
       "8  Hands-On Network Programming with C  By Lewis ...  Rs.1800       In stock   \n",
       "\n",
       "       Reviews                                              Links  Stars  \n",
       "0   20 Reviews  https://www.amazon.com/Operating-System-Concep...      3  \n",
       "1  100 Reviews  https://www.google.com/search?q=Unix+the+textb...      5  \n",
       "2   20 Reviews  https://www.amazon.in/Taxonomy-Ids-Arif-Butt/d...      4  \n",
       "3   60 Reviews  https://www.amazon.com/Understanding-Operating...      2  \n",
       "4   25 Reviews  https://www.goodreads.com/book/show/829182.Com...      2  \n",
       "5   21 Reviews  https://www.amazon.com/Linux-Bible-Christopher...      1  \n",
       "6   40 Reviews  https://www.amazon.com/dp/0321637739?tag=uuid1...      1  \n",
       "7   90 Reviews  https://www.amazon.com/s?k=Operating+Systems%3...      3  \n",
       "8   70 Reviews  https://www.amazon.com/Hands-Network-Programmi...      4  "
      ]
     },
     "execution_count": 54,
     "metadata": {},
     "output_type": "execute_result"
    }
   ],
   "source": [
    "import requests\n",
    "from bs4 import BeautifulSoup\n",
    "import pandas as pd\n",
    "\n",
    "titles = []\n",
    "prices = []\n",
    "availability=[]\n",
    "reviews=[]\n",
    "links=[]\n",
    "stars=[]\n",
    "\n",
    "def books(soup):\n",
    "    sp_titles = soup.find_all('p', class_=\"book_name\")\n",
    "    sp_prices = soup.find_all('p', class_=\"price green\")\n",
    "    sp_availability = data = soup.find_all('p', class_='stock')\n",
    "    sp_reviews = soup.find_all('p',{'class','review'})\n",
    "    data = soup.find_all('p', class_=\"book_name\")\n",
    "    sp_links=[]\n",
    "    for val in data:\n",
    "        sp_links.append(val.find('a').get('href'))\n",
    "    books = soup.find_all('div',{'class','book_container'})\n",
    "    for book in books:\n",
    "        stars.append(5 - len(book.find_all('span',{'class','not_filled'})))\n",
    "    \n",
    "    for i in range(len(sp_titles)):\n",
    "        titles.append(sp_titles[i].text)\n",
    "        prices.append(sp_prices[i].text)\n",
    "        availability.append(sp_availability[i].text)\n",
    "        reviews.append(sp_reviews[i].text)\n",
    "        links.append(sp_links[i])\n",
    "\n",
    "        \n",
    "resp = requests.get(\"https://arifpucit.github.io/bss2\")\n",
    "soup = BeautifulSoup(resp.text, 'lxml')\n",
    "books(soup)\n",
    "\n",
    "\n",
    "data = {'Title/Author':titles, 'Price':prices, 'Availability':availability, \n",
    "        'Reviews':reviews, 'Links':links, 'Stars':stars}\n",
    "df = pd.DataFrame(data, columns=['Title/Author', 'Price', 'Availability', 'Reviews', 'Links', 'Stars'])\n",
    "df.to_csv('books3.csv', index=False)\n",
    "df = pd.read_csv('books3.csv')\n",
    "df"
   ]
  },
  {
   "cell_type": "code",
   "execution_count": null,
   "id": "807df2d3",
   "metadata": {},
   "outputs": [],
   "source": []
  },
  {
   "cell_type": "code",
   "execution_count": null,
   "id": "f2d8ce9f",
   "metadata": {},
   "outputs": [],
   "source": []
  },
  {
   "cell_type": "markdown",
   "id": "1b42c36d",
   "metadata": {},
   "source": [
    "## 4. Example 1 (cont): Scraping Information from a Multiple Web Pages:\n",
    "<h3 align=\"center\" style=\"color:green\">https://arifpucit.github.io/bss2/</h3>\n",
    "<br>\n",
    "\n",
    "- Visit above web page and scrap following six items of the 27 books on all the three web pages:\n",
    "    - Titles/Authors of the Book\n",
    "    - Links of the Book\n",
    "    - Price of the Book\n",
    "    - Availability of the Book (In-Stock or Not in Stock)\n",
    "    - Count of Reviews\n",
    "    - Star ratings"
   ]
  },
  {
   "cell_type": "markdown",
   "id": "30502423",
   "metadata": {},
   "source": [
    "- Note that the HTML structure of all the three pages of our Book Scraping Site is same\n",
    "- We have already written the code to scrap the information from the first page\n",
    "- Now we need to find a way to go to multiple pages and use the same code in a loop for all those pages to grab data of our interest.\n",
    "- Generally when a website runs into multiple pages it usually add some extra elements into its URL and keep rest of the URL same. \n",
    "- After closely observing the structure of the URL, and the changes that occurs when we go from page to page. One can devise the way to generate the URLs from the base URL by some sort of appending strings to the base URL."
   ]
  },
  {
   "cell_type": "code",
   "execution_count": null,
   "id": "b9a513da",
   "metadata": {},
   "outputs": [],
   "source": []
  },
  {
   "cell_type": "code",
   "execution_count": 55,
   "id": "0efa0098",
   "metadata": {},
   "outputs": [
    {
     "data": {
      "text/html": [
       "<div>\n",
       "<style scoped>\n",
       "    .dataframe tbody tr th:only-of-type {\n",
       "        vertical-align: middle;\n",
       "    }\n",
       "\n",
       "    .dataframe tbody tr th {\n",
       "        vertical-align: top;\n",
       "    }\n",
       "\n",
       "    .dataframe thead th {\n",
       "        text-align: right;\n",
       "    }\n",
       "</style>\n",
       "<table border=\"1\" class=\"dataframe\">\n",
       "  <thead>\n",
       "    <tr style=\"text-align: right;\">\n",
       "      <th></th>\n",
       "      <th>Title/Author</th>\n",
       "      <th>Price</th>\n",
       "      <th>Availability</th>\n",
       "      <th>Reviews</th>\n",
       "      <th>Links</th>\n",
       "      <th>Stars</th>\n",
       "    </tr>\n",
       "  </thead>\n",
       "  <tbody>\n",
       "    <tr>\n",
       "      <th>0</th>\n",
       "      <td>Operating System Concepts By Avi Silberschatz</td>\n",
       "      <td>Rs.2000</td>\n",
       "      <td>In stock</td>\n",
       "      <td>20 Reviews</td>\n",
       "      <td>https://www.amazon.com/Operating-System-Concep...</td>\n",
       "      <td>3</td>\n",
       "    </tr>\n",
       "    <tr>\n",
       "      <th>1</th>\n",
       "      <td>UNIX The Textbook By Syed Mansoor Sarwar</td>\n",
       "      <td>Rs.5000</td>\n",
       "      <td>In stock</td>\n",
       "      <td>100 Reviews</td>\n",
       "      <td>https://www.google.com/search?q=Unix+the+textb...</td>\n",
       "      <td>5</td>\n",
       "    </tr>\n",
       "    <tr>\n",
       "      <th>2</th>\n",
       "      <td>Taxonomy of IDS By Arif Butt</td>\n",
       "      <td>Rs.6900</td>\n",
       "      <td>Not in stock</td>\n",
       "      <td>20 Reviews</td>\n",
       "      <td>https://www.amazon.in/Taxonomy-Ids-Arif-Butt/d...</td>\n",
       "      <td>4</td>\n",
       "    </tr>\n",
       "    <tr>\n",
       "      <th>3</th>\n",
       "      <td>Understanding operating systems By Ida Flynn</td>\n",
       "      <td>Rs.2700</td>\n",
       "      <td>Not in stock</td>\n",
       "      <td>60 Reviews</td>\n",
       "      <td>https://www.amazon.com/Understanding-Operating...</td>\n",
       "      <td>2</td>\n",
       "    </tr>\n",
       "    <tr>\n",
       "      <th>4</th>\n",
       "      <td>Computer Systems  By Randal E. Bryant</td>\n",
       "      <td>Rs.1700</td>\n",
       "      <td>In stock</td>\n",
       "      <td>25 Reviews</td>\n",
       "      <td>https://www.goodreads.com/book/show/829182.Com...</td>\n",
       "      <td>2</td>\n",
       "    </tr>\n",
       "    <tr>\n",
       "      <th>5</th>\n",
       "      <td>Linux bible  Book By Christopher Negus</td>\n",
       "      <td>Rs.1800</td>\n",
       "      <td>Not in stock</td>\n",
       "      <td>21 Reviews</td>\n",
       "      <td>https://www.amazon.com/Linux-Bible-Christopher...</td>\n",
       "      <td>1</td>\n",
       "    </tr>\n",
       "    <tr>\n",
       "      <th>6</th>\n",
       "      <td>Advanced Programming in the UNIX Environment  ...</td>\n",
       "      <td>Rs.6000</td>\n",
       "      <td>In stock</td>\n",
       "      <td>40 Reviews</td>\n",
       "      <td>https://www.amazon.com/dp/0321637739?tag=uuid1...</td>\n",
       "      <td>1</td>\n",
       "    </tr>\n",
       "    <tr>\n",
       "      <th>7</th>\n",
       "      <td>Operating Systems: A Design-oriented Approach ...</td>\n",
       "      <td>Rs.1000</td>\n",
       "      <td>In stock</td>\n",
       "      <td>90 Reviews</td>\n",
       "      <td>https://www.amazon.com/s?k=Operating+Systems%3...</td>\n",
       "      <td>3</td>\n",
       "    </tr>\n",
       "    <tr>\n",
       "      <th>8</th>\n",
       "      <td>Hands-On Network Programming with C  By Lewis ...</td>\n",
       "      <td>Rs.1800</td>\n",
       "      <td>In stock</td>\n",
       "      <td>70 Reviews</td>\n",
       "      <td>https://www.amazon.com/Hands-Network-Programmi...</td>\n",
       "      <td>4</td>\n",
       "    </tr>\n",
       "    <tr>\n",
       "      <th>9</th>\n",
       "      <td>LINUX &amp; UNIX Programming Tools  By Syed Mansoo...</td>\n",
       "      <td>Rs.5000</td>\n",
       "      <td>In stock</td>\n",
       "      <td>200 Reviews</td>\n",
       "      <td>https://www.amazon.com/LINUX-UNIX-Programming-...</td>\n",
       "      <td>2</td>\n",
       "    </tr>\n",
       "    <tr>\n",
       "      <th>10</th>\n",
       "      <td>Systems Programming Dhananjay  By  D. M. Dhamd...</td>\n",
       "      <td>Rs.8000</td>\n",
       "      <td>Not in stock</td>\n",
       "      <td>100 Reviews</td>\n",
       "      <td>https://www.amazon.com/s?k=system+programming+...</td>\n",
       "      <td>4</td>\n",
       "    </tr>\n",
       "    <tr>\n",
       "      <th>11</th>\n",
       "      <td>Taxonomy of IDS By Arif Butt</td>\n",
       "      <td>Rs.6900</td>\n",
       "      <td>In stock</td>\n",
       "      <td>38 Reviews</td>\n",
       "      <td>https://www.amazon.in/Taxonomy-Ids-Arif-Butt/d...</td>\n",
       "      <td>3</td>\n",
       "    </tr>\n",
       "    <tr>\n",
       "      <th>12</th>\n",
       "      <td>The Linux Programming Interface By Michael Ker...</td>\n",
       "      <td>Rs.2700</td>\n",
       "      <td>Not in stock</td>\n",
       "      <td>45 Reviews</td>\n",
       "      <td>https://www.amazon.com/dp/1593272200?tag=uuid1...</td>\n",
       "      <td>3</td>\n",
       "    </tr>\n",
       "    <tr>\n",
       "      <th>13</th>\n",
       "      <td>UNIX The TextbookBy Syed Mansoor Sarwar</td>\n",
       "      <td>Rs.1700</td>\n",
       "      <td>In stock</td>\n",
       "      <td>32 Reviews</td>\n",
       "      <td>https://www.google.com/search?q=Unix+the+textb...</td>\n",
       "      <td>1</td>\n",
       "    </tr>\n",
       "    <tr>\n",
       "      <th>14</th>\n",
       "      <td>Linux bible  Book by Christopher Negus</td>\n",
       "      <td>Rs.1800</td>\n",
       "      <td>In stock</td>\n",
       "      <td>111 Reviews</td>\n",
       "      <td>https://www.amazon.com/Linux-Bible-Christopher...</td>\n",
       "      <td>2</td>\n",
       "    </tr>\n",
       "    <tr>\n",
       "      <th>15</th>\n",
       "      <td>Advanced Programming in the UNIX Environment B...</td>\n",
       "      <td>Rs.6000</td>\n",
       "      <td>In stock</td>\n",
       "      <td>100 Reviews</td>\n",
       "      <td>https://www.amazon.com/dp/0321637739?tag=uuid1...</td>\n",
       "      <td>2</td>\n",
       "    </tr>\n",
       "    <tr>\n",
       "      <th>16</th>\n",
       "      <td>Linux Kernel Development By Robert Love</td>\n",
       "      <td>Rs.1200</td>\n",
       "      <td>In stock</td>\n",
       "      <td>10 Reviews</td>\n",
       "      <td>https://www.amazon.com/Linux-Kernel-Developmen...</td>\n",
       "      <td>1</td>\n",
       "    </tr>\n",
       "    <tr>\n",
       "      <th>17</th>\n",
       "      <td>Hands-On Network Programming with C  By Lewis ...</td>\n",
       "      <td>Rs.1900</td>\n",
       "      <td>Not in stock</td>\n",
       "      <td>90 Reviews</td>\n",
       "      <td>https://www.amazon.com/Hands-Network-Programmi...</td>\n",
       "      <td>3</td>\n",
       "    </tr>\n",
       "    <tr>\n",
       "      <th>18</th>\n",
       "      <td>Computer Architecture: A Quantitative Approach...</td>\n",
       "      <td>Rs.2000</td>\n",
       "      <td>In stock</td>\n",
       "      <td>10 Reviews</td>\n",
       "      <td>https://www.amazon.com/Computer-Architecture-Q...</td>\n",
       "      <td>2</td>\n",
       "    </tr>\n",
       "    <tr>\n",
       "      <th>19</th>\n",
       "      <td>Modern Computer Architecture and Organization ...</td>\n",
       "      <td>Rs.5000</td>\n",
       "      <td>In stock</td>\n",
       "      <td>10 Reviews</td>\n",
       "      <td>https://www.amazon.com/s?k=Modern+Computer+Arc...</td>\n",
       "      <td>4</td>\n",
       "    </tr>\n",
       "    <tr>\n",
       "      <th>20</th>\n",
       "      <td>Computer Organization and Design By David A Pa...</td>\n",
       "      <td>Rs.6900</td>\n",
       "      <td>Not in stock</td>\n",
       "      <td>50 Reviews</td>\n",
       "      <td>https://www.amazon.com/s?k=computer+organizati...</td>\n",
       "      <td>5</td>\n",
       "    </tr>\n",
       "    <tr>\n",
       "      <th>21</th>\n",
       "      <td>Digital Design and Computer Architecture  By D...</td>\n",
       "      <td>Rs.2700</td>\n",
       "      <td>Not in stock</td>\n",
       "      <td>80 Reviews</td>\n",
       "      <td>https://www.amazon.com/Digital-Design-Computer...</td>\n",
       "      <td>3</td>\n",
       "    </tr>\n",
       "    <tr>\n",
       "      <th>22</th>\n",
       "      <td>Essentials of computer architecture By Dougla...</td>\n",
       "      <td>Rs.1700</td>\n",
       "      <td>In stock</td>\n",
       "      <td>20 Reviews</td>\n",
       "      <td>https://www.amazon.com/s?k=Essentials+of+compu...</td>\n",
       "      <td>3</td>\n",
       "    </tr>\n",
       "    <tr>\n",
       "      <th>23</th>\n",
       "      <td>Clean Architecture   By Robert Cecil</td>\n",
       "      <td>Rs.1800</td>\n",
       "      <td>Not in stock</td>\n",
       "      <td>210 Reviews</td>\n",
       "      <td>https://www.amazon.com/Clean-Architecture-Craf...</td>\n",
       "      <td>4</td>\n",
       "    </tr>\n",
       "    <tr>\n",
       "      <th>24</th>\n",
       "      <td>Parallel Computer Architecture By Anoop Gupta</td>\n",
       "      <td>Rs.6000</td>\n",
       "      <td>In stock</td>\n",
       "      <td>30 Reviews</td>\n",
       "      <td>https://www.amazon.com/s?k=Parallel+Computer+A...</td>\n",
       "      <td>2</td>\n",
       "    </tr>\n",
       "    <tr>\n",
       "      <th>25</th>\n",
       "      <td>Flow Architectures By James Urquhart</td>\n",
       "      <td>Rs.1000</td>\n",
       "      <td>In stock</td>\n",
       "      <td>70 Reviews</td>\n",
       "      <td>https://www.amazon.com/s?k=Flow+Architectures&amp;...</td>\n",
       "      <td>2</td>\n",
       "    </tr>\n",
       "    <tr>\n",
       "      <th>26</th>\n",
       "      <td>Computer Architecture for Scientists By Andre...</td>\n",
       "      <td>Rs.1800</td>\n",
       "      <td>In stock</td>\n",
       "      <td>60 Reviews</td>\n",
       "      <td>https://www.amazon.com/s?k=Computer+Architectu...</td>\n",
       "      <td>3</td>\n",
       "    </tr>\n",
       "  </tbody>\n",
       "</table>\n",
       "</div>"
      ],
      "text/plain": [
       "                                         Title/Author    Price   Availability  \\\n",
       "0       Operating System Concepts By Avi Silberschatz  Rs.2000       In stock   \n",
       "1            UNIX The Textbook By Syed Mansoor Sarwar  Rs.5000       In stock   \n",
       "2                        Taxonomy of IDS By Arif Butt  Rs.6900   Not in stock   \n",
       "3        Understanding operating systems By Ida Flynn  Rs.2700   Not in stock   \n",
       "4              Computer Systems  By Randal E. Bryant   Rs.1700       In stock   \n",
       "5              Linux bible  Book By Christopher Negus  Rs.1800   Not in stock   \n",
       "6   Advanced Programming in the UNIX Environment  ...  Rs.6000       In stock   \n",
       "7   Operating Systems: A Design-oriented Approach ...  Rs.1000       In stock   \n",
       "8   Hands-On Network Programming with C  By Lewis ...  Rs.1800       In stock   \n",
       "9   LINUX & UNIX Programming Tools  By Syed Mansoo...  Rs.5000       In stock   \n",
       "10  Systems Programming Dhananjay  By  D. M. Dhamd...  Rs.8000   Not in stock   \n",
       "11                       Taxonomy of IDS By Arif Butt  Rs.6900       In stock   \n",
       "12  The Linux Programming Interface By Michael Ker...  Rs.2700   Not in stock   \n",
       "13            UNIX The TextbookBy Syed Mansoor Sarwar  Rs.1700       In stock   \n",
       "14             Linux bible  Book by Christopher Negus  Rs.1800       In stock   \n",
       "15  Advanced Programming in the UNIX Environment B...  Rs.6000       In stock   \n",
       "16            Linux Kernel Development By Robert Love  Rs.1200       In stock   \n",
       "17  Hands-On Network Programming with C  By Lewis ...  Rs.1900   Not in stock   \n",
       "18  Computer Architecture: A Quantitative Approach...  Rs.2000       In stock   \n",
       "19  Modern Computer Architecture and Organization ...  Rs.5000       In stock   \n",
       "20  Computer Organization and Design By David A Pa...  Rs.6900   Not in stock   \n",
       "21  Digital Design and Computer Architecture  By D...  Rs.2700   Not in stock   \n",
       "22   Essentials of computer architecture By Dougla...  Rs.1700       In stock   \n",
       "23               Clean Architecture   By Robert Cecil  Rs.1800   Not in stock   \n",
       "24      Parallel Computer Architecture By Anoop Gupta  Rs.6000       In stock   \n",
       "25              Flow Architectures By James Urquhart   Rs.1000       In stock   \n",
       "26   Computer Architecture for Scientists By Andre...  Rs.1800       In stock   \n",
       "\n",
       "        Reviews                                              Links  Stars  \n",
       "0    20 Reviews  https://www.amazon.com/Operating-System-Concep...      3  \n",
       "1   100 Reviews  https://www.google.com/search?q=Unix+the+textb...      5  \n",
       "2    20 Reviews  https://www.amazon.in/Taxonomy-Ids-Arif-Butt/d...      4  \n",
       "3    60 Reviews  https://www.amazon.com/Understanding-Operating...      2  \n",
       "4    25 Reviews  https://www.goodreads.com/book/show/829182.Com...      2  \n",
       "5    21 Reviews  https://www.amazon.com/Linux-Bible-Christopher...      1  \n",
       "6    40 Reviews  https://www.amazon.com/dp/0321637739?tag=uuid1...      1  \n",
       "7    90 Reviews  https://www.amazon.com/s?k=Operating+Systems%3...      3  \n",
       "8    70 Reviews  https://www.amazon.com/Hands-Network-Programmi...      4  \n",
       "9   200 Reviews  https://www.amazon.com/LINUX-UNIX-Programming-...      2  \n",
       "10  100 Reviews  https://www.amazon.com/s?k=system+programming+...      4  \n",
       "11   38 Reviews  https://www.amazon.in/Taxonomy-Ids-Arif-Butt/d...      3  \n",
       "12   45 Reviews  https://www.amazon.com/dp/1593272200?tag=uuid1...      3  \n",
       "13   32 Reviews  https://www.google.com/search?q=Unix+the+textb...      1  \n",
       "14  111 Reviews  https://www.amazon.com/Linux-Bible-Christopher...      2  \n",
       "15  100 Reviews  https://www.amazon.com/dp/0321637739?tag=uuid1...      2  \n",
       "16   10 Reviews  https://www.amazon.com/Linux-Kernel-Developmen...      1  \n",
       "17   90 Reviews  https://www.amazon.com/Hands-Network-Programmi...      3  \n",
       "18   10 Reviews  https://www.amazon.com/Computer-Architecture-Q...      2  \n",
       "19   10 Reviews  https://www.amazon.com/s?k=Modern+Computer+Arc...      4  \n",
       "20   50 Reviews  https://www.amazon.com/s?k=computer+organizati...      5  \n",
       "21   80 Reviews  https://www.amazon.com/Digital-Design-Computer...      3  \n",
       "22   20 Reviews  https://www.amazon.com/s?k=Essentials+of+compu...      3  \n",
       "23  210 Reviews  https://www.amazon.com/Clean-Architecture-Craf...      4  \n",
       "24   30 Reviews  https://www.amazon.com/s?k=Parallel+Computer+A...      2  \n",
       "25   70 Reviews  https://www.amazon.com/s?k=Flow+Architectures&...      2  \n",
       "26   60 Reviews  https://www.amazon.com/s?k=Computer+Architectu...      3  "
      ]
     },
     "execution_count": 55,
     "metadata": {},
     "output_type": "execute_result"
    }
   ],
   "source": [
    "import requests\n",
    "from bs4 import BeautifulSoup\n",
    "import pandas as pd\n",
    "\n",
    "titles = []\n",
    "prices = []\n",
    "availability=[]\n",
    "reviews=[]\n",
    "links=[]\n",
    "stars=[]\n",
    "\n",
    "def books(soup):\n",
    "    sp_titles = soup.find_all('p', class_=\"book_name\")\n",
    "    sp_prices = soup.find_all('p', class_=\"price green\")\n",
    "    sp_availability = data = soup.find_all('p', class_='stock')\n",
    "    sp_reviews = soup.find_all('p',{'class','review'})\n",
    "    # for links\n",
    "    data = soup.find_all('p', class_=\"book_name\")\n",
    "    sp_links=[]\n",
    "    for val in data:\n",
    "        sp_links.append(val.find('a').get('href'))\n",
    "    books = soup.find_all('div',{'class','book_container'})\n",
    "    for book in books:\n",
    "        stars.append(5 - len(book.find_all('span',{'class','not_filled'})))\n",
    "    \n",
    "    for i in range(len(sp_titles)):\n",
    "        titles.append(sp_titles[i].text)\n",
    "        prices.append(sp_prices[i].text)\n",
    "        availability.append(sp_availability[i].text)\n",
    "        reviews.append(sp_reviews[i].text)\n",
    "        links.append(sp_links[i])\n",
    "\n",
    "\n",
    "urls = ['https://arifpucit.github.io/bss2/index.html', \n",
    "        'https://arifpucit.github.io/bss2/SP.html', \n",
    "        'https://arifpucit.github.io/bss2/CA.html']                  \n",
    "for url in urls:\n",
    "    resp = requests.get(url)\n",
    "    soup = BeautifulSoup(resp.text, 'lxml')\n",
    "    books(soup)\n",
    "\n",
    "# Creating a dataframe and saving data in a csv file\n",
    "data = {'Title/Author':titles, 'Price':prices, 'Availability':availability, \n",
    "        'Reviews':reviews, 'Links':links, 'Stars':stars}\n",
    "df = pd.DataFrame(data, columns=['Title/Author', 'Price', 'Availability', 'Reviews', 'Links', 'Stars'])\n",
    "df.to_csv('books3.csv', index=False)\n",
    "df = pd.read_csv('books3.csv')\n",
    "df"
   ]
  },
  {
   "cell_type": "code",
   "execution_count": null,
   "id": "00836028",
   "metadata": {},
   "outputs": [],
   "source": []
  },
  {
   "cell_type": "code",
   "execution_count": null,
   "id": "f5e0e8cc",
   "metadata": {},
   "outputs": [],
   "source": []
  },
  {
   "cell_type": "markdown",
   "id": "5723f207",
   "metadata": {},
   "source": [
    "## 5. Example 2: Scraping Information from a Multiple Web Pages (Pagination):\n",
    "<h3 align=\"center\" style=\"color:green\">https://arifbutt.me/category/sp-with-linux</h3>\n",
    "<br>\n",
    "\n",
    "- Visit above web page and scrap following three items of System Programming videos on the first page:\n",
    "    - Video Lecture Title\n",
    "    - Description\n",
    "    - YouTube Video Link"
   ]
  },
  {
   "cell_type": "code",
   "execution_count": null,
   "id": "37bc1f91",
   "metadata": {},
   "outputs": [],
   "source": []
  },
  {
   "cell_type": "code",
   "execution_count": null,
   "id": "b7321757",
   "metadata": {},
   "outputs": [],
   "source": []
  },
  {
   "cell_type": "markdown",
   "id": "e80a4fed",
   "metadata": {},
   "source": [
    "### a. Scraping Data from the First Page: \n",
    "- http://www.arifbutt.me/category/sp-with-linux/page/1/"
   ]
  },
  {
   "cell_type": "code",
   "execution_count": 56,
   "id": "e08b6b08",
   "metadata": {},
   "outputs": [],
   "source": [
    "url = 'http://www.arifbutt.me/category/sp-with-linux/'\n",
    "resp = requests.get(url)\n",
    "soup = BeautifulSoup(resp.text, 'lxml')"
   ]
  },
  {
   "cell_type": "code",
   "execution_count": 57,
   "id": "f9161a78",
   "metadata": {},
   "outputs": [
    {
     "data": {
      "text/plain": [
       "[<div class=\"media-body\">\n",
       " <a class=\"pull-left\" href=\"http://www.arifbutt.me/lec01-introduction-system-programming-arif-butt-pucit-2/\"> <h4 class=\"media-heading1\">Lec01 Introduction to System Programming (Arif Butt @ PUCIT)</h4> </a>\n",
       " <div class=\"excroipt\">\n",
       " <div class=\"description\">\n",
       " <p><iframe allow=\"autoplay; encrypted-media\" allowfullscreen=\"\" frameborder=\"0\" height=\"480\" src=\"https://www.youtube.com/embed/qThI-U34KYs?list=PL7B2bn3G_wfC-mRpG7cxJMnGWdPAQTViW\" width=\"100%\"></iframe></p>\n",
       " <p align=\"justify\">This is the first session on the subject of System Programming with Linux. It starts with a discussion on application vs system programmer perspective. Describes briefly about a system call and how it works. A detailed discussion on Course Matrix.</p>\n",
       " <p>Email: arif@pucit.edu.pk<br/>\n",
       " Example Codes: <a href=\"https://bitbucket.org/arifpucit/spvl-repo/src\" target=\"_blank\">https://bitbucket.org/arifpucit/spvl-repo/src</a> </p>\n",
       " </div> </div>\n",
       " </div>,\n",
       " <div class=\"media-body\">\n",
       " <a class=\"pull-left\" href=\"http://www.arifbutt.me/lec02-c-compilation-system-programmer-perspective-arif-butt-pucit/\"> <h4 class=\"media-heading1\">Lec02 C Compilation: A System Programmer Perspective (Arif Butt @ PUCIT)</h4> </a>\n",
       " <div class=\"excroipt\">\n",
       " <div class=\"description\">\n",
       " <p><iframe allow=\"autoplay; encrypted-media\" allowfullscreen=\"\" frameborder=\"0\" height=\"480\" loading=\"lazy\" src=\"https://www.youtube.com/embed/a7GhFL0Gh6Y?list=PL7B2bn3G_wfC-mRpG7cxJMnGWdPAQTViW\" width=\"100%\"></iframe></p>\n",
       " <p align=\"justify\">This session starts with the C-Compilation process from system programmer perspective. The contents of intermediate files are discussed using readelf and objdump commands. The executable is loaded in gdb and the contents of CPU registers are shown. How a C program actually makes a system call is described in detail by making a system call with and without wrapper and finally calling a system call from within an assembly program.</p>\n",
       " <p>Email: arif@pucit.edu.pk<br/>\n",
       " Example Codes: <a href=\"https://bitbucket.org/arifpucit/spvl-repo/src\" target=\"_blank\">https://bitbucket.org/arifpucit/spvl-repo/src</a> </p>\n",
       " </div> </div>\n",
       " </div>,\n",
       " <div class=\"media-body\">\n",
       " <a class=\"pull-left\" href=\"http://www.arifbutt.me/lec03-working-linkers-creating-libraries-arif-butt-pucit/\"> <h4 class=\"media-heading1\">Lec03 Working of Linkers: Creating your own Libraries (Arif Butt @ PUCIT)</h4> </a>\n",
       " <div class=\"excroipt\">\n",
       " <div class=\"description\">\n",
       " <p><iframe allow=\"autoplay; encrypted-media\" allowfullscreen=\"\" frameborder=\"0\" height=\"480\" loading=\"lazy\" src=\"https://www.youtube.com/embed/A67t7X2LUsA?list=PL7B2bn3G_wfC-mRpG7cxJMnGWdPAQTViW\" width=\"100%\"></iframe></p>\n",
       " <p align=\"justify\">Linking and loading a process (Behind the curtain). Load time and run time dynamic linking. Structure of ELF file format. Merging re-locatable object files into executable. What is relocation.  Symbol (global, external, local) resolution. Strong and weak symbols. Linker symbol rules for multiple strong and weak symbols. Creating and using your own static libraries. Creating and using your own dynamic libraries or shared objects. (Tools used are nm, ar, ranlib)<br/>\n",
       " Email: arif@pucit.edu.pk<br/>\n",
       " Example Codes: <a href=\"https://bitbucket.org/arifpucit/spvl-repo/src\" target=\"_blank\">https://bitbucket.org/arifpucit/spvl-repo/src</a> </p>\n",
       " </div> </div>\n",
       " </div>,\n",
       " <div class=\"media-body\">\n",
       " <a class=\"pull-left\" href=\"http://www.arifbutt.me/lec04-unix-make-utility-arif-butt-pucit/\"> <h4 class=\"media-heading1\">Lec04 UNIX make utility (Arif Butt @ PUCIT)</h4> </a>\n",
       " <div class=\"excroipt\">\n",
       " <div class=\"description\">\n",
       " <p><iframe allowfullscreen=\"allowfullscreen\" frameborder=\"0\" height=\"480\" loading=\"lazy\" src=\"https://www.youtube.com/embed/8hG0MTyyxMI?list=PL7B2bn3G_wfC-mRpG7cxJMnGWdPAQTViW\" width=\"100%\"><span class=\"mce_SELRES_start\" data-mce-type=\"bookmark\" style=\"display: inline-block; width: 0px; overflow: hidden; line-height: 0;\">﻿</span></iframe><br/>\n",
       " </p>\n",
       " <p align=\"justify\">This session deals with the famous UNIX make utility. Starts with its introduction, how it works and how to write a basic Makefile. Using your own and built-in macros in a Makefile. Writing and calling multiple make files for a program</p>\n",
       " <p>Email: arif@pucit.edu.pk<br/>\n",
       " Example Codes: <a href=\"https://bitbucket.org/arifpucit/coal-repo/src/\" rel=\"noopener\" target=\"_blank\">https://bitbucket.org/arifpucit/coal-repo/src/</a></p>\n",
       " </div> </div>\n",
       " </div>,\n",
       " <div class=\"media-body\">\n",
       " <a class=\"pull-left\" href=\"http://www.arifbutt.me/lec05-gnu-autotools-cmake-arif-butt-pucit/\"> <h4 class=\"media-heading1\">Lec05 GNU autotools and cmake (Arif Butt @ PUCIT)</h4> </a>\n",
       " <div class=\"excroipt\">\n",
       " <div class=\"description\">\n",
       " <p><iframe allow=\"autoplay; encrypted-media\" allowfullscreen=\"\" frameborder=\"0\" height=\"480\" loading=\"lazy\" src=\"https://www.youtube.com/embed/Ncb_xzjGAwM?list=PL7B2bn3G_wfC-mRpG7cxJMnGWdPAQTViW\" width=\"100%\"></iframe></p>\n",
       " <p align=\"justify\">This session starts with a brief comparison between binary and open source software packages, their downloading and installation. We start with the procedure of packaging your own software using GNU autotools (autoconf and automake). Finally packaging and distribution of your softwares using cmake and cpack utilities are discussed. Bonus is writing and using your own man pages. (Tools used are make, autoconf, automake, cmake, cpack)</p>\n",
       " <p>Email: arif@pucit.edu.pk<br/>\n",
       " Example Codes: <a href=\"https://bitbucket.org/arifpucit/spvl-repo/src\" target=\"_blank\">https://bitbucket.org/arifpucit/spvl-repo/src</a> </p>\n",
       " </div> </div>\n",
       " </div>,\n",
       " <div class=\"media-body\">\n",
       " <a class=\"pull-left\" href=\"http://www.arifbutt.me/lec06-versioning-systems-git-arif-butt-pucit/\"> <h4 class=\"media-heading1\">Lec06 Versioning Systems git-I (Arif Butt @ PUCIT)</h4> </a>\n",
       " <div class=\"excroipt\">\n",
       " <div class=\"description\">\n",
       " <p><iframe allow=\"autoplay; encrypted-media\" allowfullscreen=\"\" frameborder=\"0\" height=\"480\" loading=\"lazy\" src=\"https://www.youtube.com/embed/TBqLJg6PmWQ?list=PL7B2bn3G_wfC-mRpG7cxJMnGWdPAQTViW\" width=\"100%\"></iframe></p>\n",
       " <p align=\"justify\">This session gives an overview of different models of versioning systems. Local version control systems (SCCS, RCS). Centralized version control systems (CVS, SVN). Distributed version control systems (git, bitkeeper, darcs, mercurial). Downloading and installing git. Basic git workflow and its configuration. Initializing git repository, Adding, editing, deleting and renaming files, and viewing commit logs. Ignoring files in git and undoing changes.</p>\n",
       " <p>Email: arif@pucit.edu.pk<br/>\n",
       " Example Codes: <a href=\"https://bitbucket.org/arifpucit/spvl-repo/src\" target=\"_blank\">https://bitbucket.org/arifpucit/spvl-repo/src</a> </p>\n",
       " </div> </div>\n",
       " </div>,\n",
       " <div class=\"media-body\">\n",
       " <a class=\"pull-left\" href=\"http://www.arifbutt.me/lec07-versioning-systems-git-ii-arif-butt-pucit/\"> <h4 class=\"media-heading1\">Lec07 Versioning Systems git-II (Arif Butt @ PUCIT)</h4> </a>\n",
       " <div class=\"excroipt\">\n",
       " <div class=\"description\">\n",
       " <p><iframe allow=\"autoplay; encrypted-media\" allowfullscreen=\"\" frameborder=\"0\" height=\"480\" loading=\"lazy\" src=\"https://www.youtube.com/embed/3akXFcBDYc0?list=PL7B2bn3G_wfC-mRpG7cxJMnGWdPAQTViW\" width=\"100%\"></iframe></p>\n",
       " <p align=\"justify\">This is a continuity of previous session and starts with the concept of git branches. Creating, renaming, deleting and comparing branches. Overview of merging branches. The concept of fast forward and real merge. Handling merge conflicts. Concept of remote repositories and creating one on bitbucket. Pushing a local repo to bitbucket. Cloning an existing repo from bitbucketemail: </p>\n",
       " <p>Email: arif@pucit.edu.pk<br/>\n",
       " Example Codes: <a href=\"https://bitbucket.org/arifpucit/spvl-repo/src\" target=\"_blank\">https://bitbucket.org/arifpucit/spvl-repo/src</a> </p>\n",
       " </div> </div>\n",
       " </div>,\n",
       " <div class=\"media-body\">\n",
       " <a class=\"pull-left\" href=\"http://www.arifbutt.me/lec08-exit-handlers-resource-limits-arif-butt-pucit/\"> <h4 class=\"media-heading1\">Lec08 Exit Handlers and Resource Limits (Arif Butt @ PUCIT)</h4> </a>\n",
       " <div class=\"excroipt\">\n",
       " <div class=\"description\">\n",
       " <p><iframe allow=\"autoplay; encrypted-media\" allowfullscreen=\"\" frameborder=\"0\" height=\"480\" loading=\"lazy\" src=\"https://www.youtube.com/embed/ujzom1OyPMY?list=PL7B2bn3G_wfC-mRpG7cxJMnGWdPAQTViW\" width=\"100%\"></iframe></p>\n",
       " <p align=\"justify\">This session describes as to how a C program starts and terminates. Normal vs abnormal termination. Registering exit handlers using atexit() and on_exit() functions. Querying process resource limits and changing them on the shell. Getting and setting process resource limits from within a C program using getrlimit() and setrlimit() functions</p>\n",
       " <p>Email: arif@pucit.edu.pk<br/>\n",
       " Example Codes: <a href=\"https://bitbucket.org/arifpucit/spvl-repo/src\" target=\"_blank\">https://bitbucket.org/arifpucit/spvl-repo/src</a> </p>\n",
       " </div> </div>\n",
       " </div>,\n",
       " <div class=\"media-body\">\n",
       " <a class=\"pull-left\" href=\"http://www.arifbutt.me/lec09-stack-behind-curtain-arif-butt-pucit/\"> <h4 class=\"media-heading1\">Lec09 Stack Behind the Curtain (Arif Butt @ PUCIT)</h4> </a>\n",
       " <div class=\"excroipt\">\n",
       " <div class=\"description\">\n",
       " <p><iframe allow=\"autoplay; encrypted-media\" allowfullscreen=\"\" frameborder=\"0\" height=\"480\" loading=\"lazy\" src=\"https://www.youtube.com/embed/1XbTmmWxHzo?list=PL7B2bn3G_wfC-mRpG7cxJMnGWdPAQTViW\" width=\"100%\"></iframe></p>\n",
       " <p align=\"justify\">This session describes how a process is laid out inside the memory and discuss some important logical addresses. It describes how the command line arguments and environment variables are laid out on the stack and their usage. A discussion on layout of overall process stack and how it grows and shrinks. Stack buffer overflow problem. Doing a non-local goto using longjmp() and setjmp() </p>\n",
       " <p>Email: arif@pucit.edu.pk<br/>\n",
       " Example Codes: <a href=\"https://bitbucket.org/arifpucit/spvl-repo/src\" target=\"_blank\">https://bitbucket.org/arifpucit/spvl-repo/src</a> </p>\n",
       " </div> </div>\n",
       " </div>]"
      ]
     },
     "execution_count": 57,
     "metadata": {},
     "output_type": "execute_result"
    }
   ],
   "source": [
    "articles = soup.find_all('div', class_='media-body')\n",
    "articles    "
   ]
  },
  {
   "cell_type": "code",
   "execution_count": 58,
   "id": "cb62b753",
   "metadata": {},
   "outputs": [
    {
     "data": {
      "text/plain": [
       "<div class=\"media-body\">\n",
       "<a class=\"pull-left\" href=\"http://www.arifbutt.me/lec01-introduction-system-programming-arif-butt-pucit-2/\"> <h4 class=\"media-heading1\">Lec01 Introduction to System Programming (Arif Butt @ PUCIT)</h4> </a>\n",
       "<div class=\"excroipt\">\n",
       "<div class=\"description\">\n",
       "<p><iframe allow=\"autoplay; encrypted-media\" allowfullscreen=\"\" frameborder=\"0\" height=\"480\" src=\"https://www.youtube.com/embed/qThI-U34KYs?list=PL7B2bn3G_wfC-mRpG7cxJMnGWdPAQTViW\" width=\"100%\"></iframe></p>\n",
       "<p align=\"justify\">This is the first session on the subject of System Programming with Linux. It starts with a discussion on application vs system programmer perspective. Describes briefly about a system call and how it works. A detailed discussion on Course Matrix.</p>\n",
       "<p>Email: arif@pucit.edu.pk<br/>\n",
       "Example Codes: <a href=\"https://bitbucket.org/arifpucit/spvl-repo/src\" target=\"_blank\">https://bitbucket.org/arifpucit/spvl-repo/src</a> </p>\n",
       "</div> </div>\n",
       "</div>"
      ]
     },
     "execution_count": 58,
     "metadata": {},
     "output_type": "execute_result"
    }
   ],
   "source": [
    "article = soup.find('div', class_='media-body')\n",
    "article"
   ]
  },
  {
   "cell_type": "code",
   "execution_count": 59,
   "id": "4f0f283d",
   "metadata": {},
   "outputs": [
    {
     "data": {
      "text/plain": [
       "'Lec01 Introduction to System Programming (Arif Butt @ PUCIT)'"
      ]
     },
     "execution_count": 59,
     "metadata": {},
     "output_type": "execute_result"
    }
   ],
   "source": [
    "article.find('h4', class_='media-heading1').text"
   ]
  },
  {
   "cell_type": "code",
   "execution_count": 60,
   "id": "2d3c8f74",
   "metadata": {},
   "outputs": [
    {
     "data": {
      "text/plain": [
       "'This is the first session on the subject of System Programming with Linux. It starts with a discussion on application vs system programmer perspective. Describes briefly about a system call and how it works. A detailed discussion on Course Matrix.'"
      ]
     },
     "execution_count": 60,
     "metadata": {},
     "output_type": "execute_result"
    }
   ],
   "source": [
    "article.find('p', align=\"justify\").text"
   ]
  },
  {
   "cell_type": "code",
   "execution_count": 61,
   "id": "2966af1f",
   "metadata": {},
   "outputs": [
    {
     "data": {
      "text/plain": [
       "'https://www.youtube.com/embed/qThI-U34KYs?list=PL7B2bn3G_wfC-mRpG7cxJMnGWdPAQTViW'"
      ]
     },
     "execution_count": 61,
     "metadata": {},
     "output_type": "execute_result"
    }
   ],
   "source": [
    "article.find('iframe').get('src')"
   ]
  },
  {
   "cell_type": "code",
   "execution_count": 62,
   "id": "78feb896",
   "metadata": {},
   "outputs": [
    {
     "data": {
      "text/plain": [
       "['https:',\n",
       " '',\n",
       " 'www.youtube.com',\n",
       " 'embed',\n",
       " 'qThI-U34KYs?list=PL7B2bn3G_wfC-mRpG7cxJMnGWdPAQTViW']"
      ]
     },
     "execution_count": 62,
     "metadata": {},
     "output_type": "execute_result"
    }
   ],
   "source": [
    "article.find('iframe').get('src').split('/')"
   ]
  },
  {
   "cell_type": "code",
   "execution_count": 63,
   "id": "6d666a96",
   "metadata": {},
   "outputs": [
    {
     "data": {
      "text/plain": [
       "'qThI-U34KYs?list=PL7B2bn3G_wfC-mRpG7cxJMnGWdPAQTViW'"
      ]
     },
     "execution_count": 63,
     "metadata": {},
     "output_type": "execute_result"
    }
   ],
   "source": [
    "article.find('iframe').get('src').split('/')[4]"
   ]
  },
  {
   "cell_type": "code",
   "execution_count": 64,
   "id": "a8f2cdff",
   "metadata": {},
   "outputs": [
    {
     "data": {
      "text/plain": [
       "['qThI-U34KYs', 'list=PL7B2bn3G_wfC-mRpG7cxJMnGWdPAQTViW']"
      ]
     },
     "execution_count": 64,
     "metadata": {},
     "output_type": "execute_result"
    }
   ],
   "source": [
    "article.find('iframe').get('src').split('/')[4].split('?')"
   ]
  },
  {
   "cell_type": "code",
   "execution_count": 65,
   "id": "6e988eca",
   "metadata": {},
   "outputs": [
    {
     "data": {
      "text/plain": [
       "'qThI-U34KYs'"
      ]
     },
     "execution_count": 65,
     "metadata": {},
     "output_type": "execute_result"
    }
   ],
   "source": [
    "video_id = article.find('iframe').get('src').split('/')[4].split('?')[0]\n",
    "video_id"
   ]
  },
  {
   "cell_type": "code",
   "execution_count": 66,
   "id": "2861761a",
   "metadata": {},
   "outputs": [
    {
     "data": {
      "text/plain": [
       "'https://youtube.com/watch?v=qThI-U34KYs'"
      ]
     },
     "execution_count": 66,
     "metadata": {},
     "output_type": "execute_result"
    }
   ],
   "source": [
    "f'https://youtube.com/watch?v={video_id}'"
   ]
  },
  {
   "cell_type": "code",
   "execution_count": null,
   "id": "7a65e8fa",
   "metadata": {},
   "outputs": [],
   "source": []
  },
  {
   "cell_type": "code",
   "execution_count": null,
   "id": "0a5e9296",
   "metadata": {},
   "outputs": [],
   "source": []
  },
  {
   "cell_type": "markdown",
   "id": "e9a6197d",
   "metadata": {},
   "source": [
    "### b. Scraping Data from the All the Pages of System Programming: \n",
    "- http://www.arifbutt.me/category/sp-with-linux/page/1/\n",
    "- http://www.arifbutt.me/category/sp-with-linux/page/2/ \n",
    "- http://www.arifbutt.me/category/sp-with-linux/page/3/\n",
    "- http://www.arifbutt.me/category/sp-with-linux/page/4/\n",
    "- http://www.arifbutt.me/category/sp-with-linux/page/5/"
   ]
  },
  {
   "cell_type": "code",
   "execution_count": null,
   "id": "99e5848b",
   "metadata": {},
   "outputs": [],
   "source": []
  },
  {
   "cell_type": "code",
   "execution_count": null,
   "id": "9f10a264",
   "metadata": {},
   "outputs": [],
   "source": []
  },
  {
   "cell_type": "code",
   "execution_count": null,
   "id": "801318bb",
   "metadata": {},
   "outputs": [],
   "source": [
    "import requests\n",
    "from bs4 import BeautifulSoup\n",
    "import pandas as pd"
   ]
  },
  {
   "cell_type": "code",
   "execution_count": null,
   "id": "788ba68e",
   "metadata": {},
   "outputs": [],
   "source": []
  },
  {
   "cell_type": "code",
   "execution_count": 67,
   "id": "07c34f18",
   "metadata": {},
   "outputs": [],
   "source": [
    "def videos(soup):\n",
    "    articles = soup.find_all('div', class_='media-body')\n",
    "    for article in articles:\n",
    "        title = article.find('h4', class_=\"media-heading1\").text\n",
    "        titles.append(title)\n",
    "        \n",
    "        descr = article.find('p', align='justify').text\n",
    "        descriptions.append(descr)\n",
    "\n",
    "        video_id = article.find('iframe')['src'].split('/')[4].split('?')[0]\n",
    "        youtube_link = f'https://youtube.com/watch?v={video_id}'\n",
    "        links.append(youtube_link)"
   ]
  },
  {
   "cell_type": "code",
   "execution_count": null,
   "id": "4898f368",
   "metadata": {},
   "outputs": [],
   "source": []
  },
  {
   "cell_type": "code",
   "execution_count": 68,
   "id": "e2029e75",
   "metadata": {},
   "outputs": [],
   "source": [
    "titles = []\n",
    "descriptions = []\n",
    "links=[]\n",
    "\n",
    "first_page = requests.get(\"http://www.arifbutt.me/category/sp-with-linux/\")\n",
    "soup = BeautifulSoup(first_page.text,'lxml')\n",
    "videos(soup)"
   ]
  },
  {
   "cell_type": "code",
   "execution_count": 69,
   "id": "d04b0449",
   "metadata": {},
   "outputs": [
    {
     "data": {
      "text/plain": [
       "['Lec01 Introduction to System Programming (Arif Butt @ PUCIT)',\n",
       " 'Lec02 C Compilation: A System Programmer Perspective (Arif Butt @ PUCIT)',\n",
       " 'Lec03 Working of Linkers: Creating your own Libraries (Arif Butt @ PUCIT)',\n",
       " 'Lec04 UNIX make utility (Arif Butt @ PUCIT)',\n",
       " 'Lec05 GNU autotools and cmake (Arif Butt @ PUCIT)',\n",
       " 'Lec06 Versioning Systems git-I (Arif Butt @ PUCIT)',\n",
       " 'Lec07 Versioning Systems git-II (Arif Butt @ PUCIT)',\n",
       " 'Lec08 Exit Handlers and Resource Limits (Arif Butt @ PUCIT)',\n",
       " 'Lec09 Stack Behind the Curtain (Arif Butt @ PUCIT)']"
      ]
     },
     "execution_count": 69,
     "metadata": {},
     "output_type": "execute_result"
    }
   ],
   "source": [
    "titles"
   ]
  },
  {
   "cell_type": "code",
   "execution_count": null,
   "id": "7c9a45a7",
   "metadata": {},
   "outputs": [],
   "source": []
  },
  {
   "cell_type": "code",
   "execution_count": null,
   "id": "78a9a67b",
   "metadata": {},
   "outputs": [],
   "source": []
  },
  {
   "cell_type": "code",
   "execution_count": 70,
   "id": "b5bf8d4f",
   "metadata": {},
   "outputs": [
    {
     "data": {
      "text/plain": [
       "<div class=\"navigation_pegination\"><ul>\n",
       "<li class=\"active\"><a href=\"http://www.arifbutt.me/category/sp-with-linux/\">1</a></li>\n",
       "<li><a href=\"http://www.arifbutt.me/category/sp-with-linux/page/2/\">2</a></li>\n",
       "<li><a href=\"http://www.arifbutt.me/category/sp-with-linux/page/3/\">3</a></li>\n",
       "<li>...</li>\n",
       "<li><a href=\"http://www.arifbutt.me/category/sp-with-linux/page/5/\">5</a></li>\n",
       "<li><a href=\"http://www.arifbutt.me/category/sp-with-linux/page/2/\">Next Page »</a></li>\n",
       "</ul></div>"
      ]
     },
     "execution_count": 70,
     "metadata": {},
     "output_type": "execute_result"
    }
   ],
   "source": [
    "pegination_code = soup.find('div',class_=\"navigation_pegination\")\n",
    "pegination_code"
   ]
  },
  {
   "cell_type": "code",
   "execution_count": null,
   "id": "d2504563",
   "metadata": {},
   "outputs": [],
   "source": []
  },
  {
   "cell_type": "code",
   "execution_count": 72,
   "id": "013eae8e",
   "metadata": {},
   "outputs": [
    {
     "name": "stdout",
     "output_type": "stream",
     "text": [
      "http://www.arifbutt.me/category/sp-with-linux/page/3/\n"
     ]
    }
   ],
   "source": [
    "pegination_code = soup.find('div',class_=\"navigation_pegination\") \n",
    "all_links= pegination_code.find_all('li')\n",
    "\n",
    "last_link = None \n",
    "for last_link in all_links:\n",
    "    pass \n",
    "\n",
    "next_url = last_link.find('a').get('href')\n",
    "\n",
    "resp = requests.get(next_url)\n",
    "soup = BeautifulSoup(resp.text,'lxml')\n",
    "videos(soup)\n",
    "print(next_url)"
   ]
  },
  {
   "cell_type": "code",
   "execution_count": null,
   "id": "e621617d",
   "metadata": {},
   "outputs": [],
   "source": []
  },
  {
   "cell_type": "code",
   "execution_count": null,
   "id": "ebed7769",
   "metadata": {},
   "outputs": [],
   "source": []
  },
  {
   "cell_type": "code",
   "execution_count": null,
   "id": "7188a43e",
   "metadata": {},
   "outputs": [],
   "source": []
  },
  {
   "cell_type": "code",
   "execution_count": 73,
   "id": "eb4e5e44",
   "metadata": {},
   "outputs": [
    {
     "data": {
      "text/html": [
       "<div>\n",
       "<style scoped>\n",
       "    .dataframe tbody tr th:only-of-type {\n",
       "        vertical-align: middle;\n",
       "    }\n",
       "\n",
       "    .dataframe tbody tr th {\n",
       "        vertical-align: top;\n",
       "    }\n",
       "\n",
       "    .dataframe thead th {\n",
       "        text-align: right;\n",
       "    }\n",
       "</style>\n",
       "<table border=\"1\" class=\"dataframe\">\n",
       "  <thead>\n",
       "    <tr style=\"text-align: right;\">\n",
       "      <th></th>\n",
       "      <th>Title</th>\n",
       "      <th>YouTube Link</th>\n",
       "      <th>Description</th>\n",
       "    </tr>\n",
       "  </thead>\n",
       "  <tbody>\n",
       "    <tr>\n",
       "      <th>0</th>\n",
       "      <td>Lec01 Introduction to System Programming (Arif...</td>\n",
       "      <td>https://youtube.com/watch?v=qThI-U34KYs</td>\n",
       "      <td>This is the first session on the subject of Sy...</td>\n",
       "    </tr>\n",
       "    <tr>\n",
       "      <th>1</th>\n",
       "      <td>Lec02 C Compilation: A System Programmer Persp...</td>\n",
       "      <td>https://youtube.com/watch?v=a7GhFL0Gh6Y</td>\n",
       "      <td>This session starts with the C-Compilation pro...</td>\n",
       "    </tr>\n",
       "    <tr>\n",
       "      <th>2</th>\n",
       "      <td>Lec03 Working of Linkers: Creating your own Li...</td>\n",
       "      <td>https://youtube.com/watch?v=A67t7X2LUsA</td>\n",
       "      <td>Linking and loading a process (Behind the curt...</td>\n",
       "    </tr>\n",
       "    <tr>\n",
       "      <th>3</th>\n",
       "      <td>Lec04 UNIX make utility (Arif Butt @ PUCIT)</td>\n",
       "      <td>https://youtube.com/watch?v=8hG0MTyyxMI</td>\n",
       "      <td>This session deals with the famous UNIX make u...</td>\n",
       "    </tr>\n",
       "    <tr>\n",
       "      <th>4</th>\n",
       "      <td>Lec05 GNU autotools and cmake (Arif Butt @ PUCIT)</td>\n",
       "      <td>https://youtube.com/watch?v=Ncb_xzjGAwM</td>\n",
       "      <td>This session starts with a brief comparison be...</td>\n",
       "    </tr>\n",
       "    <tr>\n",
       "      <th>5</th>\n",
       "      <td>Lec06 Versioning Systems git-I (Arif Butt @ PU...</td>\n",
       "      <td>https://youtube.com/watch?v=TBqLJg6PmWQ</td>\n",
       "      <td>This session gives an overview of different mo...</td>\n",
       "    </tr>\n",
       "    <tr>\n",
       "      <th>6</th>\n",
       "      <td>Lec07 Versioning Systems git-II (Arif Butt @ P...</td>\n",
       "      <td>https://youtube.com/watch?v=3akXFcBDYc0</td>\n",
       "      <td>This is a continuity of previous session and s...</td>\n",
       "    </tr>\n",
       "    <tr>\n",
       "      <th>7</th>\n",
       "      <td>Lec08 Exit Handlers and Resource Limits (Arif ...</td>\n",
       "      <td>https://youtube.com/watch?v=ujzom1OyPMY</td>\n",
       "      <td>This session describes as to how a C program s...</td>\n",
       "    </tr>\n",
       "    <tr>\n",
       "      <th>8</th>\n",
       "      <td>Lec09 Stack Behind the Curtain (Arif Butt @ PU...</td>\n",
       "      <td>https://youtube.com/watch?v=1XbTmmWxHzo</td>\n",
       "      <td>This session describes how a process is laid o...</td>\n",
       "    </tr>\n",
       "    <tr>\n",
       "      <th>9</th>\n",
       "      <td>Lec10 Heap Behind the Curtain (Arif Butt @ PUCIT)</td>\n",
       "      <td>https://youtube.com/watch?v=zpcPS27ZQr0</td>\n",
       "      <td>This session start with a discussion on types ...</td>\n",
       "    </tr>\n",
       "    <tr>\n",
       "      <th>10</th>\n",
       "      <td>Lec11 Design and Code of UNIX more utility (Ar...</td>\n",
       "      <td>https://youtube.com/watch?v=epefPagPgvk</td>\n",
       "      <td>This session deals with the design and develop...</td>\n",
       "    </tr>\n",
       "    <tr>\n",
       "      <th>11</th>\n",
       "      <td>Lec12 UNIX File System Architecture (Arif Butt...</td>\n",
       "      <td>https://youtube.com/watch?v=x_bu6De71KY</td>\n",
       "      <td>In this session will start with a quick recap ...</td>\n",
       "    </tr>\n",
       "    <tr>\n",
       "      <th>12</th>\n",
       "      <td>Lec13 UNIX File Management (Arif Butt @ PUCIT)</td>\n",
       "      <td>https://youtube.com/watch?v=DZQkyoXgkMs</td>\n",
       "      <td>This session will deal with various file relat...</td>\n",
       "    </tr>\n",
       "    <tr>\n",
       "      <th>13</th>\n",
       "      <td>Lec14 Design and Code of UNIX ls Utility (Arif...</td>\n",
       "      <td>https://youtube.com/watch?v=24WNjxn4asY</td>\n",
       "      <td>This session deals with the designing the ls p...</td>\n",
       "    </tr>\n",
       "    <tr>\n",
       "      <th>14</th>\n",
       "      <td>Lec15 Design and Code Of UNIX who Utility (Ari...</td>\n",
       "      <td>https://youtube.com/watch?v=96EcaPZo90U</td>\n",
       "      <td>This session deals with the different categori...</td>\n",
       "    </tr>\n",
       "    <tr>\n",
       "      <th>15</th>\n",
       "      <td>Lec16 Programming Terminal Devices (Arif Butt ...</td>\n",
       "      <td>https://youtube.com/watch?v=t5sC6G73oo4</td>\n",
       "      <td>This session starts with character and block s...</td>\n",
       "    </tr>\n",
       "    <tr>\n",
       "      <th>16</th>\n",
       "      <td>Lec17 Process Management-I (Arif Butt @ PUCIT)</td>\n",
       "      <td>https://youtube.com/watch?v=R_01xGLp0ZQ</td>\n",
       "      <td>This session starts with a quick recap of proc...</td>\n",
       "    </tr>\n",
       "    <tr>\n",
       "      <th>17</th>\n",
       "      <td>Lec18 Process Management-II (Arif Butt @ PUCIT)</td>\n",
       "      <td>https://youtube.com/watch?v=91qzstPN1p8</td>\n",
       "      <td>This session starts with a comparison between ...</td>\n",
       "    </tr>\n",
       "    <tr>\n",
       "      <th>18</th>\n",
       "      <td>Lec19 Process Management-III (Arif Butt @ PUCIT)</td>\n",
       "      <td>https://youtube.com/watch?v=QWfeh1bFvs0</td>\n",
       "      <td>This is a continuation of previous two session...</td>\n",
       "    </tr>\n",
       "    <tr>\n",
       "      <th>19</th>\n",
       "      <td>Lec20 Design and Code Of Daemon Processes (Ari...</td>\n",
       "      <td>https://youtube.com/watch?v=p0ccoTM7v8I</td>\n",
       "      <td>This session gives an overview of daemon proce...</td>\n",
       "    </tr>\n",
       "    <tr>\n",
       "      <th>20</th>\n",
       "      <td>Lec21 Process Scheduling Algorithms (Arif Butt...</td>\n",
       "      <td>https://youtube.com/watch?v=Y86pa2nrT_k</td>\n",
       "      <td>This session gives an overview of  process sch...</td>\n",
       "    </tr>\n",
       "    <tr>\n",
       "      <th>21</th>\n",
       "      <td>Lec22 Design And Code Of UNIX Shell Utility (A...</td>\n",
       "      <td>https://youtube.com/watch?v=F7oAWvh5J_o</td>\n",
       "      <td>This session gives an overview of working of U...</td>\n",
       "    </tr>\n",
       "    <tr>\n",
       "      <th>22</th>\n",
       "      <td>Lec23 Multi Threaded Programming (Arif Butt @ ...</td>\n",
       "      <td>https://youtube.com/watch?v=OgnLaXwLC8Y</td>\n",
       "      <td>This session gives an overview of concurrent p...</td>\n",
       "    </tr>\n",
       "    <tr>\n",
       "      <th>23</th>\n",
       "      <td>Lec24 Overview Of UNIX IPC And Signals On The ...</td>\n",
       "      <td>https://youtube.com/watch?v=EX7EWSX8-qM</td>\n",
       "      <td>This session gives an overview of taxonomy of ...</td>\n",
       "    </tr>\n",
       "    <tr>\n",
       "      <th>24</th>\n",
       "      <td>Lec25 Design and Code Of Signal Handlers (Arif...</td>\n",
       "      <td>https://youtube.com/watch?v=YBg9sWw4qbU</td>\n",
       "      <td>This session is a continuation of previous ses...</td>\n",
       "    </tr>\n",
       "    <tr>\n",
       "      <th>25</th>\n",
       "      <td>Lec26 Programming UNIX Pipes (Arif Butt @ PUCIT)</td>\n",
       "      <td>https://youtube.com/watch?v=VA8FEgahi1Y</td>\n",
       "      <td>This session deals with the concept and use of...</td>\n",
       "    </tr>\n",
       "    <tr>\n",
       "      <th>26</th>\n",
       "      <td>Lec27 Programming UNIX Named Pipes (Arif Butt ...</td>\n",
       "      <td>https://youtube.com/watch?v=jowB4nuf55c</td>\n",
       "      <td>This session deals with the concept and use of...</td>\n",
       "    </tr>\n",
       "    <tr>\n",
       "      <th>27</th>\n",
       "      <td>Lec28 Message Queues (Arif Butt @ PUCIT)</td>\n",
       "      <td>https://youtube.com/watch?v=UAbMS3kYV5s</td>\n",
       "      <td>This session deals with the concept and use of...</td>\n",
       "    </tr>\n",
       "    <tr>\n",
       "      <th>28</th>\n",
       "      <td>Lec29 Programming With Shared Memory (Arif But...</td>\n",
       "      <td>https://youtube.com/watch?v=IzhnAW8u1iQ</td>\n",
       "      <td>This session deals with the concept and use of...</td>\n",
       "    </tr>\n",
       "    <tr>\n",
       "      <th>29</th>\n",
       "      <td>Lec30 Memory Mapped Files (Arif Butt @ PUCIT)</td>\n",
       "      <td>https://youtube.com/watch?v=z0I1TlqDi50</td>\n",
       "      <td>This session deals with the concept and use of...</td>\n",
       "    </tr>\n",
       "    <tr>\n",
       "      <th>30</th>\n",
       "      <td>Lec31 Synchronization among Threads (Arif Butt...</td>\n",
       "      <td>https://youtube.com/watch?v=SvFr7rPWI3g</td>\n",
       "      <td>This session starts with a quick recap of POSI...</td>\n",
       "    </tr>\n",
       "    <tr>\n",
       "      <th>31</th>\n",
       "      <td>Lec32 Programming with POSIX Semaphores (Arif ...</td>\n",
       "      <td>https://youtube.com/watch?v=KupTFYvxRnE</td>\n",
       "      <td>This session starts with introduction to POSIX...</td>\n",
       "    </tr>\n",
       "    <tr>\n",
       "      <th>32</th>\n",
       "      <td>Lec33 Overview Of TCPIP Architecture and Servi...</td>\n",
       "      <td>https://youtube.com/watch?v=p5SrRob-bWg</td>\n",
       "      <td>This session starts with introduction to TCP/I...</td>\n",
       "    </tr>\n",
       "    <tr>\n",
       "      <th>33</th>\n",
       "      <td>Lec34 Socket Programming Part-I (Arif Butt @ P...</td>\n",
       "      <td>https://youtube.com/watch?v=tk_RpIVbOMQ</td>\n",
       "      <td>This session starts with introduction to Clien...</td>\n",
       "    </tr>\n",
       "    <tr>\n",
       "      <th>34</th>\n",
       "      <td>Lec35 Socket Programming Part-II (Arif Butt @ ...</td>\n",
       "      <td>https://youtube.com/watch?v=yNUFQaSclmM</td>\n",
       "      <td>This session starts with introduction to Datag...</td>\n",
       "    </tr>\n",
       "    <tr>\n",
       "      <th>35</th>\n",
       "      <td>Lec36 Socket Programming Part-III (Arif Butt @...</td>\n",
       "      <td>https://youtube.com/watch?v=TDRIweWXHe4</td>\n",
       "      <td>This session starts with introduction to UNIX ...</td>\n",
       "    </tr>\n",
       "    <tr>\n",
       "      <th>36</th>\n",
       "      <td>Lec37 Socket Programming Part-IV (Arif Butt @ ...</td>\n",
       "      <td>https://youtube.com/watch?v=irRkNrruwxc</td>\n",
       "      <td>This session starts with a discussion on concu...</td>\n",
       "    </tr>\n",
       "    <tr>\n",
       "      <th>37</th>\n",
       "      <td>Lec39 Exploiting Buffer Overflow Vulnerability...</td>\n",
       "      <td>https://youtube.com/watch?v=eAzCm0Ncnhg</td>\n",
       "      <td>This is a continuation of Video Session 38. In...</td>\n",
       "    </tr>\n",
       "    <tr>\n",
       "      <th>38</th>\n",
       "      <td>Lec38 Exploiting Buffer Overflow Vulnerability...</td>\n",
       "      <td>https://youtube.com/watch?v=3hDNvlIZFQ8</td>\n",
       "      <td>This is a series of three videos, which gives ...</td>\n",
       "    </tr>\n",
       "    <tr>\n",
       "      <th>39</th>\n",
       "      <td>Lec40 Exploiting Buffer Overflow Vulnerability...</td>\n",
       "      <td>https://youtube.com/watch?v=DayRrBYZRRk</td>\n",
       "      <td>This is a continuation of Video Session 39. In...</td>\n",
       "    </tr>\n",
       "  </tbody>\n",
       "</table>\n",
       "</div>"
      ],
      "text/plain": [
       "                                                Title  \\\n",
       "0   Lec01 Introduction to System Programming (Arif...   \n",
       "1   Lec02 C Compilation: A System Programmer Persp...   \n",
       "2   Lec03 Working of Linkers: Creating your own Li...   \n",
       "3         Lec04 UNIX make utility (Arif Butt @ PUCIT)   \n",
       "4   Lec05 GNU autotools and cmake (Arif Butt @ PUCIT)   \n",
       "5   Lec06 Versioning Systems git-I (Arif Butt @ PU...   \n",
       "6   Lec07 Versioning Systems git-II (Arif Butt @ P...   \n",
       "7   Lec08 Exit Handlers and Resource Limits (Arif ...   \n",
       "8   Lec09 Stack Behind the Curtain (Arif Butt @ PU...   \n",
       "9   Lec10 Heap Behind the Curtain (Arif Butt @ PUCIT)   \n",
       "10  Lec11 Design and Code of UNIX more utility (Ar...   \n",
       "11  Lec12 UNIX File System Architecture (Arif Butt...   \n",
       "12     Lec13 UNIX File Management (Arif Butt @ PUCIT)   \n",
       "13  Lec14 Design and Code of UNIX ls Utility (Arif...   \n",
       "14  Lec15 Design and Code Of UNIX who Utility (Ari...   \n",
       "15  Lec16 Programming Terminal Devices (Arif Butt ...   \n",
       "16     Lec17 Process Management-I (Arif Butt @ PUCIT)   \n",
       "17    Lec18 Process Management-II (Arif Butt @ PUCIT)   \n",
       "18   Lec19 Process Management-III (Arif Butt @ PUCIT)   \n",
       "19  Lec20 Design and Code Of Daemon Processes (Ari...   \n",
       "20  Lec21 Process Scheduling Algorithms (Arif Butt...   \n",
       "21  Lec22 Design And Code Of UNIX Shell Utility (A...   \n",
       "22  Lec23 Multi Threaded Programming (Arif Butt @ ...   \n",
       "23  Lec24 Overview Of UNIX IPC And Signals On The ...   \n",
       "24  Lec25 Design and Code Of Signal Handlers (Arif...   \n",
       "25   Lec26 Programming UNIX Pipes (Arif Butt @ PUCIT)   \n",
       "26  Lec27 Programming UNIX Named Pipes (Arif Butt ...   \n",
       "27           Lec28 Message Queues (Arif Butt @ PUCIT)   \n",
       "28  Lec29 Programming With Shared Memory (Arif But...   \n",
       "29      Lec30 Memory Mapped Files (Arif Butt @ PUCIT)   \n",
       "30  Lec31 Synchronization among Threads (Arif Butt...   \n",
       "31  Lec32 Programming with POSIX Semaphores (Arif ...   \n",
       "32  Lec33 Overview Of TCPIP Architecture and Servi...   \n",
       "33  Lec34 Socket Programming Part-I (Arif Butt @ P...   \n",
       "34  Lec35 Socket Programming Part-II (Arif Butt @ ...   \n",
       "35  Lec36 Socket Programming Part-III (Arif Butt @...   \n",
       "36  Lec37 Socket Programming Part-IV (Arif Butt @ ...   \n",
       "37  Lec39 Exploiting Buffer Overflow Vulnerability...   \n",
       "38  Lec38 Exploiting Buffer Overflow Vulnerability...   \n",
       "39  Lec40 Exploiting Buffer Overflow Vulnerability...   \n",
       "\n",
       "                               YouTube Link  \\\n",
       "0   https://youtube.com/watch?v=qThI-U34KYs   \n",
       "1   https://youtube.com/watch?v=a7GhFL0Gh6Y   \n",
       "2   https://youtube.com/watch?v=A67t7X2LUsA   \n",
       "3   https://youtube.com/watch?v=8hG0MTyyxMI   \n",
       "4   https://youtube.com/watch?v=Ncb_xzjGAwM   \n",
       "5   https://youtube.com/watch?v=TBqLJg6PmWQ   \n",
       "6   https://youtube.com/watch?v=3akXFcBDYc0   \n",
       "7   https://youtube.com/watch?v=ujzom1OyPMY   \n",
       "8   https://youtube.com/watch?v=1XbTmmWxHzo   \n",
       "9   https://youtube.com/watch?v=zpcPS27ZQr0   \n",
       "10  https://youtube.com/watch?v=epefPagPgvk   \n",
       "11  https://youtube.com/watch?v=x_bu6De71KY   \n",
       "12  https://youtube.com/watch?v=DZQkyoXgkMs   \n",
       "13  https://youtube.com/watch?v=24WNjxn4asY   \n",
       "14  https://youtube.com/watch?v=96EcaPZo90U   \n",
       "15  https://youtube.com/watch?v=t5sC6G73oo4   \n",
       "16  https://youtube.com/watch?v=R_01xGLp0ZQ   \n",
       "17  https://youtube.com/watch?v=91qzstPN1p8   \n",
       "18  https://youtube.com/watch?v=QWfeh1bFvs0   \n",
       "19  https://youtube.com/watch?v=p0ccoTM7v8I   \n",
       "20  https://youtube.com/watch?v=Y86pa2nrT_k   \n",
       "21  https://youtube.com/watch?v=F7oAWvh5J_o   \n",
       "22  https://youtube.com/watch?v=OgnLaXwLC8Y   \n",
       "23  https://youtube.com/watch?v=EX7EWSX8-qM   \n",
       "24  https://youtube.com/watch?v=YBg9sWw4qbU   \n",
       "25  https://youtube.com/watch?v=VA8FEgahi1Y   \n",
       "26  https://youtube.com/watch?v=jowB4nuf55c   \n",
       "27  https://youtube.com/watch?v=UAbMS3kYV5s   \n",
       "28  https://youtube.com/watch?v=IzhnAW8u1iQ   \n",
       "29  https://youtube.com/watch?v=z0I1TlqDi50   \n",
       "30  https://youtube.com/watch?v=SvFr7rPWI3g   \n",
       "31  https://youtube.com/watch?v=KupTFYvxRnE   \n",
       "32  https://youtube.com/watch?v=p5SrRob-bWg   \n",
       "33  https://youtube.com/watch?v=tk_RpIVbOMQ   \n",
       "34  https://youtube.com/watch?v=yNUFQaSclmM   \n",
       "35  https://youtube.com/watch?v=TDRIweWXHe4   \n",
       "36  https://youtube.com/watch?v=irRkNrruwxc   \n",
       "37  https://youtube.com/watch?v=eAzCm0Ncnhg   \n",
       "38  https://youtube.com/watch?v=3hDNvlIZFQ8   \n",
       "39  https://youtube.com/watch?v=DayRrBYZRRk   \n",
       "\n",
       "                                          Description  \n",
       "0   This is the first session on the subject of Sy...  \n",
       "1   This session starts with the C-Compilation pro...  \n",
       "2   Linking and loading a process (Behind the curt...  \n",
       "3   This session deals with the famous UNIX make u...  \n",
       "4   This session starts with a brief comparison be...  \n",
       "5   This session gives an overview of different mo...  \n",
       "6   This is a continuity of previous session and s...  \n",
       "7   This session describes as to how a C program s...  \n",
       "8   This session describes how a process is laid o...  \n",
       "9   This session start with a discussion on types ...  \n",
       "10  This session deals with the design and develop...  \n",
       "11  In this session will start with a quick recap ...  \n",
       "12  This session will deal with various file relat...  \n",
       "13  This session deals with the designing the ls p...  \n",
       "14  This session deals with the different categori...  \n",
       "15  This session starts with character and block s...  \n",
       "16  This session starts with a quick recap of proc...  \n",
       "17  This session starts with a comparison between ...  \n",
       "18  This is a continuation of previous two session...  \n",
       "19  This session gives an overview of daemon proce...  \n",
       "20  This session gives an overview of  process sch...  \n",
       "21  This session gives an overview of working of U...  \n",
       "22  This session gives an overview of concurrent p...  \n",
       "23  This session gives an overview of taxonomy of ...  \n",
       "24  This session is a continuation of previous ses...  \n",
       "25  This session deals with the concept and use of...  \n",
       "26  This session deals with the concept and use of...  \n",
       "27  This session deals with the concept and use of...  \n",
       "28  This session deals with the concept and use of...  \n",
       "29  This session deals with the concept and use of...  \n",
       "30  This session starts with a quick recap of POSI...  \n",
       "31  This session starts with introduction to POSIX...  \n",
       "32  This session starts with introduction to TCP/I...  \n",
       "33  This session starts with introduction to Clien...  \n",
       "34  This session starts with introduction to Datag...  \n",
       "35  This session starts with introduction to UNIX ...  \n",
       "36  This session starts with a discussion on concu...  \n",
       "37  This is a continuation of Video Session 38. In...  \n",
       "38  This is a series of three videos, which gives ...  \n",
       "39  This is a continuation of Video Session 39. In...  "
      ]
     },
     "execution_count": 73,
     "metadata": {},
     "output_type": "execute_result"
    }
   ],
   "source": [
    "import requests\n",
    "from bs4 import BeautifulSoup\n",
    "import pandas as pd\n",
    "\n",
    "titles = []\n",
    "descriptions = []\n",
    "links=[]\n",
    "\n",
    "first_page = requests.get(\"http://www.arifbutt.me/category/sp-with-linux/\")\n",
    "soup = BeautifulSoup(first_page.text,'lxml')\n",
    "videos(soup)\n",
    "\n",
    "\n",
    "while True:\n",
    "    pegination_code = soup.find('div',class_=\"navigation_pegination\") \n",
    "    all_links= pegination_code.find_all('li')\n",
    "\n",
    "    last_link = None \n",
    "    for last_link in all_links:\n",
    "        pass \n",
    "    if(last_link.find('a').text == \"Next Page »\"):\n",
    "        next_url = last_link.find('a').get('href')\n",
    "        resp = requests.get(next_url)\n",
    "        soup = BeautifulSoup(resp.text,'lxml')\n",
    "        videos(soup)\n",
    "    else:\n",
    "        break;    \n",
    "\n",
    "\n",
    "# Creating a dataframe and saving data in a csv file\n",
    "data = {'Title':titles, 'YouTube Link':links, 'Description':descriptions}\n",
    "df = pd.DataFrame(data, columns=['Title', 'YouTube Link', 'Description'])\n",
    "df.to_csv('spvideos.csv', index=False)\n",
    "df = pd.read_csv('spvideos.csv')\n",
    "df"
   ]
  },
  {
   "cell_type": "code",
   "execution_count": null,
   "id": "e54adf16",
   "metadata": {},
   "outputs": [],
   "source": []
  },
  {
   "cell_type": "code",
   "execution_count": null,
   "id": "ceb4b945",
   "metadata": {},
   "outputs": [],
   "source": []
  },
  {
   "cell_type": "code",
   "execution_count": null,
   "id": "a7289ce9",
   "metadata": {},
   "outputs": [],
   "source": []
  },
  {
   "cell_type": "markdown",
   "id": "ebdc6439",
   "metadata": {},
   "source": [
    "## 6. Limitations of Requests and BeautifulSoup Library\n",
    "- When you load up a website you want to scrape using your browser, the browser will make a request to the page's server to retrieve the page content. That's usually some HTML code, some CSS, and some JavaScript.\n",
    "- A key difference between loading the page using your browser and getting the page contents using requests is that your browser executes any JavaScript code that the page comes with. Sometimes you will see the initial page content (before the JavaScript runs) for a few moments, and then the JavaScript kicks in.\n",
    "- It's a very frequent problem in my courses to see this happen. Unfortunately, the only way to get the page after JavaScript has ran is, well, running the JavaScript. You need a JavaScript engine in order to do that. That means you need a browser or browser-like program in order to get the final page.\n",
    "- Solution:\n",
    "    - Selenium is a browser automation tool, which means you can use Selenium to control a browser. You can make Selenium load the page you're interested in, evaluate the JavaScript, and then get the page content.\n",
    "    - requests-html is another library that will let you evaluate the JavaScript after you've retrieved the page. It uses requests to get the page content, and then runs the page through the Chrome browser engine (Chromium) in order to \"calculate\" the final page. However, it's still very much under active development and I've had a few problems with it."
   ]
  },
  {
   "cell_type": "markdown",
   "id": "276b986f",
   "metadata": {},
   "source": [
    "### a. You cannot Scrap JavaScript Driven Websites using BeautifulSoup (https://arifpucit.github.io/bss2/js)"
   ]
  },
  {
   "cell_type": "code",
   "execution_count": null,
   "id": "63ef9ff7",
   "metadata": {},
   "outputs": [],
   "source": [
    "import requests\n",
    "from bs4 import BeautifulSoup\n",
    "\n",
    "resp = requests.get(\"https://arifpucit.github.io/bss2/\")\n",
    "soup = BeautifulSoup(resp.text,'lxml')\n",
    "price = soup.find_all('p', class_='price green')\n",
    "price"
   ]
  },
  {
   "cell_type": "code",
   "execution_count": null,
   "id": "a0791a75",
   "metadata": {},
   "outputs": [],
   "source": []
  },
  {
   "cell_type": "code",
   "execution_count": null,
   "id": "a38f2153",
   "metadata": {},
   "outputs": [],
   "source": [
    "import requests\n",
    "from bs4 import BeautifulSoup\n",
    "\n",
    "resp = requests.get(\"https://arifpucit.github.io/bss2/js\")\n",
    "soup = BeautifulSoup(resp.text,'lxml')\n",
    "prices = soup.find_all('p', class_='price green')\n",
    "prices"
   ]
  },
  {
   "cell_type": "code",
   "execution_count": null,
   "id": "31149cce",
   "metadata": {},
   "outputs": [],
   "source": []
  },
  {
   "cell_type": "code",
   "execution_count": null,
   "id": "5731a097",
   "metadata": {},
   "outputs": [],
   "source": []
  },
  {
   "cell_type": "code",
   "execution_count": null,
   "id": "24384460",
   "metadata": {},
   "outputs": [],
   "source": []
  },
  {
   "cell_type": "markdown",
   "id": "0bb75658",
   "metadata": {},
   "source": [
    "### b. You cannot enter Text and click buttons using BeautifulSoup (https://arifpucit.github.io/bss2/login)"
   ]
  },
  {
   "cell_type": "code",
   "execution_count": null,
   "id": "d61a2408",
   "metadata": {},
   "outputs": [],
   "source": [
    "import requests\n",
    "from bs4 import BeautifulSoup\n",
    "\n",
    "resp = requests.get(\"https://arifpucit.github.io/bss2/login/\")\n",
    "soup = BeautifulSoup(resp.text,'lxml')\n",
    "prices = soup.find_all('p', class_='green')\n",
    "prices"
   ]
  },
  {
   "cell_type": "code",
   "execution_count": null,
   "id": "eb14fd81",
   "metadata": {},
   "outputs": [],
   "source": []
  },
  {
   "cell_type": "code",
   "execution_count": null,
   "id": "ccc5a38e",
   "metadata": {},
   "outputs": [],
   "source": []
  },
  {
   "cell_type": "code",
   "execution_count": null,
   "id": "dfcb2b9f",
   "metadata": {},
   "outputs": [],
   "source": []
  }
 ],
 "metadata": {
  "kernelspec": {
   "display_name": "Python 3 (ipykernel)",
   "language": "python",
   "name": "python3"
  },
  "language_info": {
   "codemirror_mode": {
    "name": "ipython",
    "version": 3
   },
   "file_extension": ".py",
   "mimetype": "text/x-python",
   "name": "python",
   "nbconvert_exporter": "python",
   "pygments_lexer": "ipython3",
   "version": "3.10.4"
  }
 },
 "nbformat": 4,
 "nbformat_minor": 5
}
